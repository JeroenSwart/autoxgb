{
 "cells": [
  {
   "cell_type": "markdown",
   "metadata": {},
   "source": [
    "# Experiment 3: tuning the metalearner"
   ]
  },
  {
   "cell_type": "code",
   "execution_count": 7,
   "metadata": {},
   "outputs": [],
   "source": [
    "from src.experimenting.hopt_experiment import HoptExperiment\n",
    "from src.pipeline_optimization.bayesian_hopt import BayesianHopt\n",
    "from src.utils.metafeature_utils import pca_rank_cor, size\n",
    "from src.utils.thesis_utils import thesis_lookup_objective, thesis_search_space, get_standard_dataset\n",
    "from src.metalearning.metadata import MetaDataset\n",
    "from src.metalearning.warmstarter import Warmstarter\n",
    "import pandas as pd\n",
    "import pickle\n",
    "import dill\n",
    "from tqdm import tqdm"
   ]
  },
  {
   "cell_type": "markdown",
   "metadata": {},
   "source": [
    "### Global parameters"
   ]
  },
  {
   "cell_type": "code",
   "execution_count": 8,
   "metadata": {},
   "outputs": [],
   "source": [
    "max_evals = 100\n",
    "duplicates = 5\n",
    "n_init_configs = 5\n",
    "dataset_names = !ls ../../data/metadata/interim"
   ]
  },
  {
   "cell_type": "markdown",
   "metadata": {},
   "source": [
    "### Fixed parts of the experiment"
   ]
  },
  {
   "cell_type": "code",
   "execution_count": 9,
   "metadata": {},
   "outputs": [
    {
     "name": "stderr",
     "output_type": "stream",
     "text": [
      "Calculate metafeatures of metasamples: 100%|██████████| 32/32 [00:01<00:00, 17.29it/s]\n"
     ]
    }
   ],
   "source": [
    "# Initialize metadataset and calculate metafeatures\n",
    "metadataset_sample_names = !ls ../../data/metadata/interim\n",
    "metasamples = [pickle.load(open('../../data/metadata/interim/' + sample_name,\"rb\")) for sample_name in metadataset_sample_names]\n",
    "metadataset = MetaDataset(metasamples, metafeature_functions=[size, pca_rank_cor])\n",
    "\n",
    "# Initialize thesis objective, search space and targets for leave-one-out procedure\n",
    "objective = thesis_lookup_objective\n",
    "search_space = thesis_search_space()\n",
    "target_ids = [metasample.identifier for metasample in metadataset.metasamples]"
   ]
  },
  {
   "cell_type": "markdown",
   "metadata": {},
   "source": [
    "# Experiment"
   ]
  },
  {
   "cell_type": "code",
   "execution_count": 10,
   "metadata": {},
   "outputs": [],
   "source": [
    "# initialize searches\n",
    "warm1_5 = BayesianHopt(\n",
    "    identifier='Warmstarted (1,5)',\n",
    "    search_space=search_space,\n",
    "    objective=objective,\n",
    "    max_evals=max_evals,\n",
    "    warmstarter=Warmstarter(metadataset, n_init_configs=n_init_configs, n_sim_samples=1, n_best_per_sample=n_init_configs)\n",
    ")\n",
    "warm1_20 = BayesianHopt(\n",
    "    identifier='Warmstarted (1,20)',\n",
    "    search_space=search_space,\n",
    "    objective=objective,\n",
    "    max_evals=max_evals,\n",
    "    warmstarter=Warmstarter(metadataset, n_init_configs=n_init_configs, n_sim_samples=1, n_best_per_sample=20)#int(n_init_configs/1*100))\n",
    ")\n",
    "warm5_5 = BayesianHopt(\n",
    "    identifier='Warmstarted (5,5)',\n",
    "    search_space=search_space,\n",
    "    objective=objective,\n",
    "    max_evals=max_evals,\n",
    "    warmstarter=Warmstarter(metadataset, n_init_configs=n_init_configs, n_sim_samples=5, n_best_per_sample=n_init_configs)\n",
    ")\n",
    "warm5_20 = BayesianHopt(\n",
    "    identifier='Warmstarted (5,20)',\n",
    "    search_space=search_space,\n",
    "    objective=objective,\n",
    "    max_evals=max_evals,\n",
    "    warmstarter=Warmstarter(metadataset, n_init_configs=n_init_configs, n_sim_samples=5, n_best_per_sample=20)#int(n_init_configs/5*100))\n",
    ")\n",
    "warm10_5 = BayesianHopt(\n",
    "    identifier='Warmstarted (10,5)',\n",
    "    search_space=search_space,\n",
    "    objective=objective,\n",
    "    max_evals=max_evals,\n",
    "    warmstarter=Warmstarter(metadataset, n_init_configs=n_init_configs, n_sim_samples=10, n_best_per_sample=n_init_configs)\n",
    ")\n",
    "warm10_20 = BayesianHopt(\n",
    "    identifier='Warmstarted (10,20)',\n",
    "    search_space=search_space,\n",
    "    objective=objective,\n",
    "    max_evals=max_evals,\n",
    "    warmstarter=Warmstarter(metadataset, n_init_configs=n_init_configs, n_sim_samples=10, n_best_per_sample=20)#int(n_init_configs/10*100))\n",
    ")\n",
    "warm15_5 = BayesianHopt(\n",
    "    identifier='Warmstarted (15,5)',\n",
    "    search_space=search_space,\n",
    "    objective=objective,\n",
    "    max_evals=max_evals,\n",
    "    warmstarter=Warmstarter(metadataset, n_init_configs=n_init_configs, n_sim_samples=15, n_best_per_sample=n_init_configs)\n",
    ")\n",
    "warm15_20 = BayesianHopt(\n",
    "    identifier='Warmstarted (15,20)',\n",
    "    search_space=search_space,\n",
    "    objective=objective,\n",
    "    max_evals=max_evals,\n",
    "    warmstarter=Warmstarter(metadataset, n_init_configs=n_init_configs, n_sim_samples=15, n_best_per_sample=20)#int(n_init_configs/15*100))\n",
    ")\n",
    "warm32_5 = BayesianHopt(\n",
    "    identifier='Warmstarted (32=all,5)',\n",
    "    search_space=search_space,\n",
    "    objective=objective,\n",
    "    max_evals=max_evals,\n",
    "    warmstarter=Warmstarter(metadataset, n_init_configs=n_init_configs, n_sim_samples=32, n_best_per_sample=n_init_configs)\n",
    ")\n",
    "warm32_20 = BayesianHopt(\n",
    "    identifier='Warmstarted (32=all,20)',\n",
    "    search_space=search_space,\n",
    "    objective=objective,\n",
    "    max_evals=max_evals,\n",
    "    warmstarter=Warmstarter(metadataset, n_init_configs=n_init_configs, n_sim_samples=32, n_best_per_sample=20)#int(n_init_configs/32*100))\n",
    ")\n",
    "hopt_exp = HoptExperiment(\n",
    "    hopts=[warm1_5, warm1_20, warm5_5, warm5_20, warm10_5, warm10_20, warm15_5, warm15_20, warm32_5, warm32_20],\n",
    "    duplicates=duplicates,\n",
    "    objective=objective,\n",
    "    metadataset=metadataset\n",
    ")"
   ]
  },
  {
   "cell_type": "code",
   "execution_count": 11,
   "metadata": {
    "scrolled": true
   },
   "outputs": [
    {
     "name": "stderr",
     "output_type": "stream",
     "text": [
      "Target time series: 100%|██████████| 32/32 [6:57:33<00:00, 782.93s/it]   \n"
     ]
    }
   ],
   "source": [
    "hopt_exp.run_hopt_experiment(target_ids)"
   ]
  },
  {
   "cell_type": "code",
   "execution_count": 12,
   "metadata": {},
   "outputs": [
    {
     "data": {
      "application/vnd.plotly.v1+json": {
       "config": {
        "plotlyServerURL": "https://plot.ly"
       },
       "data": [
        {
         "name": "Warmstarted (1,5)",
         "type": "scatter",
         "y": [
          7.4375,
          7.34375,
          7.921875,
          6.9375,
          7.1875,
          7.128125,
          7.103125,
          7.05625,
          7.096875,
          7.0625,
          7.05,
          7.06875,
          7.05,
          7.065625,
          7.015625,
          6.978125,
          6.996875,
          7.021875,
          6.99375,
          6.98125,
          6.990625,
          6.971875,
          6.853125,
          6.90625,
          6.91875,
          6.859375,
          6.7875,
          6.66875,
          6.684375,
          6.7,
          6.625,
          6.378125,
          6.378125,
          6.365625,
          6.353125,
          6.33125,
          6.26875,
          6.20625,
          6.16875,
          6.165625,
          6.178125,
          6.2125,
          6.1375,
          6.06875,
          6.053125,
          6.025,
          6.053125,
          6.03125,
          5.934375,
          5.934375,
          5.940625,
          5.975,
          5.903125,
          5.934375,
          5.915625,
          5.940625,
          5.871875,
          5.771875,
          5.790625,
          5.8,
          5.79375,
          5.76875,
          5.740625,
          5.75625,
          5.75,
          5.715625,
          5.7375,
          5.759375,
          5.80625,
          5.778125,
          5.696875,
          5.715625,
          5.6875,
          5.659375,
          5.634375,
          5.6625,
          5.646875,
          5.634375,
          5.628125,
          5.628125,
          5.625,
          5.6,
          5.5625,
          5.578125,
          5.59375,
          5.59375,
          5.615625,
          5.596875,
          5.609375,
          5.609375,
          5.6,
          5.6125,
          5.65625,
          5.63125,
          5.634375,
          5.63125,
          5.603125,
          5.584375,
          5.590625,
          5.5625
         ]
        },
        {
         "name": "Warmstarted (1,20)",
         "type": "scatter",
         "y": [
          8.421875,
          8.296875,
          7.28125,
          7.40625,
          6.703125,
          6.709375,
          6.71875,
          6.73125,
          6.74375,
          6.734375,
          6.76875,
          6.784375,
          6.759375,
          6.790625,
          6.803125,
          6.8125,
          6.76875,
          6.771875,
          6.796875,
          6.80625,
          6.696875,
          6.653125,
          6.684375,
          6.721875,
          6.584375,
          6.571875,
          6.590625,
          6.496875,
          6.440625,
          6.365625,
          6.40625,
          6.334375,
          6.33125,
          6.334375,
          6.234375,
          6.10625,
          6.171875,
          6.190625,
          6.184375,
          6.0875,
          6.065625,
          6.00625,
          5.9375,
          5.928125,
          5.965625,
          5.928125,
          5.925,
          5.93125,
          5.93125,
          5.884375,
          5.8625,
          5.790625,
          5.765625,
          5.75,
          5.753125,
          5.76875,
          5.80625,
          5.85625,
          5.834375,
          5.840625,
          5.84375,
          5.821875,
          5.825,
          5.815625,
          5.821875,
          5.80625,
          5.75,
          5.70625,
          5.721875,
          5.671875,
          5.690625,
          5.69375,
          5.703125,
          5.653125,
          5.65625,
          5.615625,
          5.6125,
          5.628125,
          5.640625,
          5.615625,
          5.625,
          5.628125,
          5.646875,
          5.61875,
          5.559375,
          5.528125,
          5.55,
          5.534375,
          5.515625,
          5.521875,
          5.5375,
          5.496875,
          5.5375,
          5.515625,
          5.528125,
          5.490625,
          5.48125,
          5.496875,
          5.50625,
          5.534375
         ]
        },
        {
         "name": "Warmstarted (5,5)",
         "type": "scatter",
         "y": [
          5.765625,
          5.84375,
          5.953125,
          5.609375,
          5.21875,
          5.259375,
          5.225,
          5.24375,
          5.21875,
          5.228125,
          5.18125,
          5.190625,
          5.175,
          5.16875,
          5.15625,
          5.165625,
          5.171875,
          5.19375,
          5.221875,
          5.203125,
          5.1625,
          5.196875,
          5.184375,
          5.15,
          5.1625,
          5.1625,
          5.153125,
          5.109375,
          5.159375,
          5.225,
          5.25625,
          5.31875,
          5.3,
          5.315625,
          5.271875,
          5.26875,
          5.221875,
          5.240625,
          5.259375,
          5.3,
          5.2375,
          5.265625,
          5.303125,
          5.3375,
          5.33125,
          5.3625,
          5.365625,
          5.375,
          5.38125,
          5.4,
          5.3875,
          5.3875,
          5.4125,
          5.434375,
          5.440625,
          5.490625,
          5.509375,
          5.55,
          5.54375,
          5.525,
          5.465625,
          5.475,
          5.465625,
          5.484375,
          5.484375,
          5.509375,
          5.509375,
          5.453125,
          5.409375,
          5.440625,
          5.409375,
          5.403125,
          5.375,
          5.396875,
          5.3875,
          5.409375,
          5.40625,
          5.390625,
          5.415625,
          5.40625,
          5.4125,
          5.425,
          5.434375,
          5.375,
          5.38125,
          5.384375,
          5.375,
          5.390625,
          5.3875,
          5.396875,
          5.4125,
          5.396875,
          5.4,
          5.415625,
          5.434375,
          5.41875,
          5.44375,
          5.453125,
          5.4625,
          5.459375
         ]
        },
        {
         "name": "Warmstarted (5,20)",
         "type": "scatter",
         "y": [
          6.125,
          5.34375,
          5.203125,
          5.28125,
          5.171875,
          5.2,
          5.225,
          5.28125,
          5.19375,
          5.2375,
          5.259375,
          5.2625,
          5.265625,
          5.25,
          5.240625,
          5.19375,
          5.19375,
          5.209375,
          5.259375,
          5.2375,
          5.3125,
          5.325,
          5.315625,
          5.29375,
          5.38125,
          5.453125,
          5.453125,
          5.471875,
          5.440625,
          5.3875,
          5.284375,
          5.275,
          5.221875,
          5.25,
          5.2125,
          5.28125,
          5.265625,
          5.20625,
          5.1625,
          5.184375,
          5.221875,
          5.209375,
          5.1875,
          5.23125,
          5.24375,
          5.25,
          5.290625,
          5.25625,
          5.209375,
          5.225,
          5.20625,
          5.2125,
          5.2125,
          5.196875,
          5.175,
          5.2,
          5.20625,
          5.234375,
          5.25,
          5.265625,
          5.2875,
          5.296875,
          5.315625,
          5.278125,
          5.2875,
          5.29375,
          5.26875,
          5.18125,
          5.234375,
          5.19375,
          5.196875,
          5.2125,
          5.20625,
          5.221875,
          5.234375,
          5.2625,
          5.28125,
          5.29375,
          5.3125,
          5.3125,
          5.325,
          5.346875,
          5.321875,
          5.3375,
          5.353125,
          5.3625,
          5.303125,
          5.3125,
          5.328125,
          5.340625,
          5.3375,
          5.353125,
          5.321875,
          5.33125,
          5.3,
          5.315625,
          5.346875,
          5.33125,
          5.340625,
          5.359375
         ]
        },
        {
         "name": "Warmstarted (10,5)",
         "type": "scatter",
         "y": [
          5.15625,
          4.71875,
          4.09375,
          4.0625,
          4.453125,
          4.465625,
          4.446875,
          4.428125,
          4.45625,
          4.48125,
          4.471875,
          4.490625,
          4.521875,
          4.459375,
          4.44375,
          4.45625,
          4.459375,
          4.453125,
          4.46875,
          4.475,
          4.475,
          4.478125,
          4.50625,
          4.50625,
          4.53125,
          4.4875,
          4.5125,
          4.559375,
          4.621875,
          4.65625,
          4.634375,
          4.678125,
          4.69375,
          4.73125,
          4.76875,
          4.765625,
          4.7875,
          4.771875,
          4.790625,
          4.85,
          4.865625,
          4.85625,
          4.9125,
          4.85625,
          4.846875,
          4.828125,
          4.853125,
          4.86875,
          4.89375,
          4.896875,
          4.9125,
          4.946875,
          4.959375,
          4.9375,
          4.94375,
          4.95,
          4.975,
          4.940625,
          4.93125,
          4.921875,
          4.925,
          4.934375,
          4.946875,
          4.94375,
          4.93125,
          4.90625,
          4.95625,
          4.95,
          5.01875,
          5.078125,
          5.09375,
          5.08125,
          5.11875,
          5.121875,
          5.1125,
          5.11875,
          5.125,
          5.115625,
          5.078125,
          5.0875,
          5.096875,
          5.11875,
          5.1375,
          5.153125,
          5.121875,
          5.13125,
          5.146875,
          5.134375,
          5.125,
          5.1375,
          5.134375,
          5.153125,
          5.15625,
          5.15625,
          5.171875,
          5.190625,
          5.1875,
          5.20625,
          5.16875,
          5.084375
         ]
        },
        {
         "name": "Warmstarted (10,20)",
         "type": "scatter",
         "y": [
          4.96875,
          4.828125,
          5.5,
          5.390625,
          5,
          4.953125,
          5,
          4.99375,
          4.9375,
          4.909375,
          4.890625,
          4.921875,
          4.946875,
          4.984375,
          4.940625,
          4.940625,
          4.940625,
          4.925,
          4.959375,
          4.95,
          5.059375,
          5.190625,
          5.178125,
          5.18125,
          5.125,
          5.04375,
          5.040625,
          5.05,
          5.04375,
          5.046875,
          5.0375,
          5.090625,
          5.11875,
          5.128125,
          5.14375,
          5.14375,
          5.140625,
          5.146875,
          5.165625,
          5.109375,
          5.134375,
          5.090625,
          5.103125,
          5.1375,
          5.109375,
          5.128125,
          5.09375,
          5.04375,
          5.00625,
          5.028125,
          5.0125,
          5.0375,
          5.075,
          5.071875,
          5.071875,
          5.096875,
          5.075,
          5.103125,
          5.034375,
          5.046875,
          5.046875,
          5.0375,
          5.053125,
          5.015625,
          5.003125,
          5.009375,
          4.978125,
          5.053125,
          5.090625,
          5.09375,
          5.10625,
          5.096875,
          5.096875,
          5.103125,
          5.09375,
          5.09375,
          5.09375,
          5.109375,
          5.06875,
          5.071875,
          5.084375,
          5.065625,
          5.034375,
          5.053125,
          5.0375,
          5.040625,
          5.046875,
          5.059375,
          5.08125,
          5.090625,
          5.06875,
          5.084375,
          5.109375,
          5.121875,
          5.13125,
          5.125,
          5.128125,
          5.140625,
          5.153125,
          5.18125
         ]
        },
        {
         "name": "Warmstarted (15,5)",
         "type": "scatter",
         "y": [
          4.953125,
          5.265625,
          5.125,
          5.328125,
          5.390625,
          5.40625,
          5.340625,
          5.25,
          5.2625,
          5.221875,
          5.18125,
          5.1625,
          5.184375,
          5.16875,
          5.190625,
          5.190625,
          5.2,
          5.228125,
          5.18125,
          5.203125,
          5.065625,
          4.89375,
          4.9375,
          4.909375,
          4.871875,
          4.88125,
          4.909375,
          4.940625,
          4.909375,
          4.909375,
          4.940625,
          4.95,
          4.978125,
          4.934375,
          4.9875,
          5,
          4.98125,
          5,
          5.04375,
          5.05,
          5.04375,
          5.053125,
          5.125,
          5.1625,
          5.171875,
          5.140625,
          5.18125,
          5.190625,
          5.2375,
          5.240625,
          5.228125,
          5.1875,
          5.15,
          5.109375,
          5.09375,
          5.071875,
          5.09375,
          5.065625,
          5.096875,
          5.078125,
          5.103125,
          5.09375,
          5.084375,
          5.1125,
          5.115625,
          5.090625,
          5.1375,
          5.196875,
          5.178125,
          5.2,
          5.23125,
          5.275,
          5.26875,
          5.259375,
          5.275,
          5.278125,
          5.278125,
          5.26875,
          5.3,
          5.30625,
          5.3125,
          5.31875,
          5.33125,
          5.34375,
          5.35625,
          5.353125,
          5.36875,
          5.38125,
          5.3625,
          5.38125,
          5.340625,
          5.353125,
          5.328125,
          5.328125,
          5.315625,
          5.3125,
          5.334375,
          5.35,
          5.3625,
          5.3875
         ]
        },
        {
         "name": "Warmstarted (15,20)",
         "type": "scatter",
         "y": [
          4.578125,
          4.359375,
          4.578125,
          4.96875,
          5.1875,
          5.1625,
          5.2,
          5.1625,
          5.221875,
          5.19375,
          5.209375,
          5.184375,
          5.2,
          5.209375,
          5.221875,
          5.28125,
          5.29375,
          5.30625,
          5.215625,
          5.203125,
          5.365625,
          5.3625,
          5.378125,
          5.30625,
          5.3625,
          5.44375,
          5.378125,
          5.38125,
          5.384375,
          5.41875,
          5.453125,
          5.484375,
          5.478125,
          5.4125,
          5.41875,
          5.43125,
          5.4125,
          5.3875,
          5.425,
          5.415625,
          5.375,
          5.390625,
          5.38125,
          5.396875,
          5.396875,
          5.428125,
          5.3875,
          5.41875,
          5.440625,
          5.46875,
          5.46875,
          5.484375,
          5.478125,
          5.48125,
          5.515625,
          5.5,
          5.50625,
          5.51875,
          5.55,
          5.5875,
          5.5875,
          5.596875,
          5.61875,
          5.603125,
          5.603125,
          5.621875,
          5.603125,
          5.603125,
          5.6,
          5.628125,
          5.646875,
          5.625,
          5.66875,
          5.68125,
          5.6875,
          5.659375,
          5.6375,
          5.65,
          5.646875,
          5.64375,
          5.64375,
          5.640625,
          5.653125,
          5.665625,
          5.684375,
          5.69375,
          5.678125,
          5.671875,
          5.659375,
          5.6375,
          5.634375,
          5.628125,
          5.6375,
          5.615625,
          5.625,
          5.65,
          5.625,
          5.603125,
          5.609375,
          5.61875
         ]
        },
        {
         "name": "Warmstarted (32=all,5)",
         "type": "scatter",
         "y": [
          3.796875,
          4.703125,
          4.859375,
          5.328125,
          5.3125,
          5.315625,
          5.303125,
          5.34375,
          5.31875,
          5.371875,
          5.4125,
          5.34375,
          5.315625,
          5.353125,
          5.415625,
          5.446875,
          5.453125,
          5.45,
          5.46875,
          5.478125,
          5.534375,
          5.603125,
          5.596875,
          5.659375,
          5.690625,
          5.746875,
          5.78125,
          5.871875,
          5.809375,
          5.790625,
          5.84375,
          5.946875,
          5.928125,
          5.94375,
          6,
          5.9875,
          6.03125,
          6.0875,
          6.025,
          6.03125,
          6.059375,
          6.065625,
          6.078125,
          6.10625,
          6.096875,
          6.1125,
          6.090625,
          6.090625,
          6.134375,
          6.09375,
          6.140625,
          6.14375,
          6.184375,
          6.20625,
          6.225,
          6.15,
          6.115625,
          6.11875,
          6.1375,
          6.128125,
          6.125,
          6.153125,
          6.121875,
          6.134375,
          6.1375,
          6.165625,
          6.134375,
          6.115625,
          5.91875,
          5.996875,
          5.96875,
          5.909375,
          5.890625,
          5.903125,
          5.903125,
          5.93125,
          5.9375,
          5.953125,
          5.9625,
          5.9875,
          5.95625,
          5.94375,
          5.95625,
          5.965625,
          5.978125,
          5.9875,
          6.009375,
          6.003125,
          6.03125,
          6.0125,
          6.03125,
          6.015625,
          5.99375,
          6.0125,
          6.01875,
          6.003125,
          6.021875,
          5.990625,
          5.975,
          5.959375
         ]
        },
        {
         "name": "Warmstarted (32=all,20)",
         "type": "scatter",
         "y": [
          3.796875,
          4.296875,
          4.484375,
          4.6875,
          5.375,
          5.4,
          5.4375,
          5.509375,
          5.55,
          5.559375,
          5.575,
          5.590625,
          5.58125,
          5.55,
          5.571875,
          5.534375,
          5.521875,
          5.440625,
          5.434375,
          5.4625,
          5.3375,
          5.325,
          5.365625,
          5.365625,
          5.371875,
          5.35,
          5.39375,
          5.45,
          5.50625,
          5.5,
          5.51875,
          5.54375,
          5.571875,
          5.584375,
          5.609375,
          5.684375,
          5.71875,
          5.7625,
          5.775,
          5.80625,
          5.81875,
          5.85,
          5.834375,
          5.775,
          5.784375,
          5.796875,
          5.759375,
          5.79375,
          5.83125,
          5.828125,
          5.840625,
          5.834375,
          5.859375,
          5.878125,
          5.865625,
          5.83125,
          5.840625,
          5.840625,
          5.83125,
          5.80625,
          5.821875,
          5.821875,
          5.828125,
          5.85625,
          5.865625,
          5.88125,
          5.925,
          5.98125,
          6.021875,
          5.91875,
          5.959375,
          5.9875,
          5.984375,
          6,
          6.015625,
          5.96875,
          5.98125,
          5.95625,
          5.946875,
          5.940625,
          5.91875,
          5.9125,
          5.921875,
          5.909375,
          5.934375,
          5.925,
          5.90625,
          5.915625,
          5.9,
          5.871875,
          5.903125,
          5.90625,
          5.859375,
          5.871875,
          5.840625,
          5.8625,
          5.828125,
          5.84375,
          5.83125,
          5.853125
         ]
        }
       ],
       "layout": {
        "template": {
         "data": {
          "bar": [
           {
            "error_x": {
             "color": "#2a3f5f"
            },
            "error_y": {
             "color": "#2a3f5f"
            },
            "marker": {
             "line": {
              "color": "#E5ECF6",
              "width": 0.5
             }
            },
            "type": "bar"
           }
          ],
          "barpolar": [
           {
            "marker": {
             "line": {
              "color": "#E5ECF6",
              "width": 0.5
             }
            },
            "type": "barpolar"
           }
          ],
          "carpet": [
           {
            "aaxis": {
             "endlinecolor": "#2a3f5f",
             "gridcolor": "white",
             "linecolor": "white",
             "minorgridcolor": "white",
             "startlinecolor": "#2a3f5f"
            },
            "baxis": {
             "endlinecolor": "#2a3f5f",
             "gridcolor": "white",
             "linecolor": "white",
             "minorgridcolor": "white",
             "startlinecolor": "#2a3f5f"
            },
            "type": "carpet"
           }
          ],
          "choropleth": [
           {
            "colorbar": {
             "outlinewidth": 0,
             "ticks": ""
            },
            "type": "choropleth"
           }
          ],
          "contour": [
           {
            "colorbar": {
             "outlinewidth": 0,
             "ticks": ""
            },
            "colorscale": [
             [
              0,
              "#0d0887"
             ],
             [
              0.1111111111111111,
              "#46039f"
             ],
             [
              0.2222222222222222,
              "#7201a8"
             ],
             [
              0.3333333333333333,
              "#9c179e"
             ],
             [
              0.4444444444444444,
              "#bd3786"
             ],
             [
              0.5555555555555556,
              "#d8576b"
             ],
             [
              0.6666666666666666,
              "#ed7953"
             ],
             [
              0.7777777777777778,
              "#fb9f3a"
             ],
             [
              0.8888888888888888,
              "#fdca26"
             ],
             [
              1,
              "#f0f921"
             ]
            ],
            "type": "contour"
           }
          ],
          "contourcarpet": [
           {
            "colorbar": {
             "outlinewidth": 0,
             "ticks": ""
            },
            "type": "contourcarpet"
           }
          ],
          "heatmap": [
           {
            "colorbar": {
             "outlinewidth": 0,
             "ticks": ""
            },
            "colorscale": [
             [
              0,
              "#0d0887"
             ],
             [
              0.1111111111111111,
              "#46039f"
             ],
             [
              0.2222222222222222,
              "#7201a8"
             ],
             [
              0.3333333333333333,
              "#9c179e"
             ],
             [
              0.4444444444444444,
              "#bd3786"
             ],
             [
              0.5555555555555556,
              "#d8576b"
             ],
             [
              0.6666666666666666,
              "#ed7953"
             ],
             [
              0.7777777777777778,
              "#fb9f3a"
             ],
             [
              0.8888888888888888,
              "#fdca26"
             ],
             [
              1,
              "#f0f921"
             ]
            ],
            "type": "heatmap"
           }
          ],
          "heatmapgl": [
           {
            "colorbar": {
             "outlinewidth": 0,
             "ticks": ""
            },
            "colorscale": [
             [
              0,
              "#0d0887"
             ],
             [
              0.1111111111111111,
              "#46039f"
             ],
             [
              0.2222222222222222,
              "#7201a8"
             ],
             [
              0.3333333333333333,
              "#9c179e"
             ],
             [
              0.4444444444444444,
              "#bd3786"
             ],
             [
              0.5555555555555556,
              "#d8576b"
             ],
             [
              0.6666666666666666,
              "#ed7953"
             ],
             [
              0.7777777777777778,
              "#fb9f3a"
             ],
             [
              0.8888888888888888,
              "#fdca26"
             ],
             [
              1,
              "#f0f921"
             ]
            ],
            "type": "heatmapgl"
           }
          ],
          "histogram": [
           {
            "marker": {
             "colorbar": {
              "outlinewidth": 0,
              "ticks": ""
             }
            },
            "type": "histogram"
           }
          ],
          "histogram2d": [
           {
            "colorbar": {
             "outlinewidth": 0,
             "ticks": ""
            },
            "colorscale": [
             [
              0,
              "#0d0887"
             ],
             [
              0.1111111111111111,
              "#46039f"
             ],
             [
              0.2222222222222222,
              "#7201a8"
             ],
             [
              0.3333333333333333,
              "#9c179e"
             ],
             [
              0.4444444444444444,
              "#bd3786"
             ],
             [
              0.5555555555555556,
              "#d8576b"
             ],
             [
              0.6666666666666666,
              "#ed7953"
             ],
             [
              0.7777777777777778,
              "#fb9f3a"
             ],
             [
              0.8888888888888888,
              "#fdca26"
             ],
             [
              1,
              "#f0f921"
             ]
            ],
            "type": "histogram2d"
           }
          ],
          "histogram2dcontour": [
           {
            "colorbar": {
             "outlinewidth": 0,
             "ticks": ""
            },
            "colorscale": [
             [
              0,
              "#0d0887"
             ],
             [
              0.1111111111111111,
              "#46039f"
             ],
             [
              0.2222222222222222,
              "#7201a8"
             ],
             [
              0.3333333333333333,
              "#9c179e"
             ],
             [
              0.4444444444444444,
              "#bd3786"
             ],
             [
              0.5555555555555556,
              "#d8576b"
             ],
             [
              0.6666666666666666,
              "#ed7953"
             ],
             [
              0.7777777777777778,
              "#fb9f3a"
             ],
             [
              0.8888888888888888,
              "#fdca26"
             ],
             [
              1,
              "#f0f921"
             ]
            ],
            "type": "histogram2dcontour"
           }
          ],
          "mesh3d": [
           {
            "colorbar": {
             "outlinewidth": 0,
             "ticks": ""
            },
            "type": "mesh3d"
           }
          ],
          "parcoords": [
           {
            "line": {
             "colorbar": {
              "outlinewidth": 0,
              "ticks": ""
             }
            },
            "type": "parcoords"
           }
          ],
          "scatter": [
           {
            "marker": {
             "colorbar": {
              "outlinewidth": 0,
              "ticks": ""
             }
            },
            "type": "scatter"
           }
          ],
          "scatter3d": [
           {
            "line": {
             "colorbar": {
              "outlinewidth": 0,
              "ticks": ""
             }
            },
            "marker": {
             "colorbar": {
              "outlinewidth": 0,
              "ticks": ""
             }
            },
            "type": "scatter3d"
           }
          ],
          "scattercarpet": [
           {
            "marker": {
             "colorbar": {
              "outlinewidth": 0,
              "ticks": ""
             }
            },
            "type": "scattercarpet"
           }
          ],
          "scattergeo": [
           {
            "marker": {
             "colorbar": {
              "outlinewidth": 0,
              "ticks": ""
             }
            },
            "type": "scattergeo"
           }
          ],
          "scattergl": [
           {
            "marker": {
             "colorbar": {
              "outlinewidth": 0,
              "ticks": ""
             }
            },
            "type": "scattergl"
           }
          ],
          "scattermapbox": [
           {
            "marker": {
             "colorbar": {
              "outlinewidth": 0,
              "ticks": ""
             }
            },
            "type": "scattermapbox"
           }
          ],
          "scatterpolar": [
           {
            "marker": {
             "colorbar": {
              "outlinewidth": 0,
              "ticks": ""
             }
            },
            "type": "scatterpolar"
           }
          ],
          "scatterpolargl": [
           {
            "marker": {
             "colorbar": {
              "outlinewidth": 0,
              "ticks": ""
             }
            },
            "type": "scatterpolargl"
           }
          ],
          "scatterternary": [
           {
            "marker": {
             "colorbar": {
              "outlinewidth": 0,
              "ticks": ""
             }
            },
            "type": "scatterternary"
           }
          ],
          "surface": [
           {
            "colorbar": {
             "outlinewidth": 0,
             "ticks": ""
            },
            "colorscale": [
             [
              0,
              "#0d0887"
             ],
             [
              0.1111111111111111,
              "#46039f"
             ],
             [
              0.2222222222222222,
              "#7201a8"
             ],
             [
              0.3333333333333333,
              "#9c179e"
             ],
             [
              0.4444444444444444,
              "#bd3786"
             ],
             [
              0.5555555555555556,
              "#d8576b"
             ],
             [
              0.6666666666666666,
              "#ed7953"
             ],
             [
              0.7777777777777778,
              "#fb9f3a"
             ],
             [
              0.8888888888888888,
              "#fdca26"
             ],
             [
              1,
              "#f0f921"
             ]
            ],
            "type": "surface"
           }
          ],
          "table": [
           {
            "cells": {
             "fill": {
              "color": "#EBF0F8"
             },
             "line": {
              "color": "white"
             }
            },
            "header": {
             "fill": {
              "color": "#C8D4E3"
             },
             "line": {
              "color": "white"
             }
            },
            "type": "table"
           }
          ]
         },
         "layout": {
          "annotationdefaults": {
           "arrowcolor": "#2a3f5f",
           "arrowhead": 0,
           "arrowwidth": 1
          },
          "colorscale": {
           "diverging": [
            [
             0,
             "#8e0152"
            ],
            [
             0.1,
             "#c51b7d"
            ],
            [
             0.2,
             "#de77ae"
            ],
            [
             0.3,
             "#f1b6da"
            ],
            [
             0.4,
             "#fde0ef"
            ],
            [
             0.5,
             "#f7f7f7"
            ],
            [
             0.6,
             "#e6f5d0"
            ],
            [
             0.7,
             "#b8e186"
            ],
            [
             0.8,
             "#7fbc41"
            ],
            [
             0.9,
             "#4d9221"
            ],
            [
             1,
             "#276419"
            ]
           ],
           "sequential": [
            [
             0,
             "#0d0887"
            ],
            [
             0.1111111111111111,
             "#46039f"
            ],
            [
             0.2222222222222222,
             "#7201a8"
            ],
            [
             0.3333333333333333,
             "#9c179e"
            ],
            [
             0.4444444444444444,
             "#bd3786"
            ],
            [
             0.5555555555555556,
             "#d8576b"
            ],
            [
             0.6666666666666666,
             "#ed7953"
            ],
            [
             0.7777777777777778,
             "#fb9f3a"
            ],
            [
             0.8888888888888888,
             "#fdca26"
            ],
            [
             1,
             "#f0f921"
            ]
           ],
           "sequentialminus": [
            [
             0,
             "#0d0887"
            ],
            [
             0.1111111111111111,
             "#46039f"
            ],
            [
             0.2222222222222222,
             "#7201a8"
            ],
            [
             0.3333333333333333,
             "#9c179e"
            ],
            [
             0.4444444444444444,
             "#bd3786"
            ],
            [
             0.5555555555555556,
             "#d8576b"
            ],
            [
             0.6666666666666666,
             "#ed7953"
            ],
            [
             0.7777777777777778,
             "#fb9f3a"
            ],
            [
             0.8888888888888888,
             "#fdca26"
            ],
            [
             1,
             "#f0f921"
            ]
           ]
          },
          "colorway": [
           "#636efa",
           "#EF553B",
           "#00cc96",
           "#ab63fa",
           "#FFA15A",
           "#19d3f3",
           "#FF6692",
           "#B6E880",
           "#FF97FF",
           "#FECB52"
          ],
          "font": {
           "color": "#2a3f5f"
          },
          "geo": {
           "bgcolor": "white",
           "lakecolor": "white",
           "landcolor": "#E5ECF6",
           "showlakes": true,
           "showland": true,
           "subunitcolor": "white"
          },
          "hoverlabel": {
           "align": "left"
          },
          "hovermode": "closest",
          "mapbox": {
           "style": "light"
          },
          "paper_bgcolor": "white",
          "plot_bgcolor": "#E5ECF6",
          "polar": {
           "angularaxis": {
            "gridcolor": "white",
            "linecolor": "white",
            "ticks": ""
           },
           "bgcolor": "#E5ECF6",
           "radialaxis": {
            "gridcolor": "white",
            "linecolor": "white",
            "ticks": ""
           }
          },
          "scene": {
           "xaxis": {
            "backgroundcolor": "#E5ECF6",
            "gridcolor": "white",
            "gridwidth": 2,
            "linecolor": "white",
            "showbackground": true,
            "ticks": "",
            "zerolinecolor": "white"
           },
           "yaxis": {
            "backgroundcolor": "#E5ECF6",
            "gridcolor": "white",
            "gridwidth": 2,
            "linecolor": "white",
            "showbackground": true,
            "ticks": "",
            "zerolinecolor": "white"
           },
           "zaxis": {
            "backgroundcolor": "#E5ECF6",
            "gridcolor": "white",
            "gridwidth": 2,
            "linecolor": "white",
            "showbackground": true,
            "ticks": "",
            "zerolinecolor": "white"
           }
          },
          "shapedefaults": {
           "line": {
            "color": "#2a3f5f"
           }
          },
          "ternary": {
           "aaxis": {
            "gridcolor": "white",
            "linecolor": "white",
            "ticks": ""
           },
           "baxis": {
            "gridcolor": "white",
            "linecolor": "white",
            "ticks": ""
           },
           "bgcolor": "#E5ECF6",
           "caxis": {
            "gridcolor": "white",
            "linecolor": "white",
            "ticks": ""
           }
          },
          "title": {
           "x": 0.05
          },
          "xaxis": {
           "automargin": true,
           "gridcolor": "white",
           "linecolor": "white",
           "ticks": "",
           "zerolinecolor": "white",
           "zerolinewidth": 2
          },
          "yaxis": {
           "automargin": true,
           "gridcolor": "white",
           "linecolor": "white",
           "ticks": "",
           "zerolinecolor": "white",
           "zerolinewidth": 2
          }
         }
        },
        "xaxis": {
         "autorange": true,
         "range": [
          0,
          99
         ],
         "title": {
          "text": "Iterations"
         }
        },
        "yaxis": {
         "autorange": true,
         "range": [
          3.5399305555555554,
          8.678819444444445
         ],
         "title": {
          "text": "Rank"
         },
         "type": "linear"
        }
       }
      },
      "text/html": [
       "<div>\n",
       "        \n",
       "        \n",
       "            <div id=\"0de9068e-fb93-473c-9521-86bc2b717781\" class=\"plotly-graph-div\" style=\"height:525px; width:100%;\"></div>\n",
       "            <script type=\"text/javascript\">\n",
       "                require([\"plotly\"], function(Plotly) {\n",
       "                    window.PLOTLYENV=window.PLOTLYENV || {};\n",
       "                    \n",
       "                if (document.getElementById(\"0de9068e-fb93-473c-9521-86bc2b717781\")) {\n",
       "                    Plotly.newPlot(\n",
       "                        '0de9068e-fb93-473c-9521-86bc2b717781',\n",
       "                        [{\"name\": \"Warmstarted (1,5)\", \"type\": \"scatter\", \"y\": [7.4375, 7.34375, 7.921875, 6.9375, 7.1875, 7.128125, 7.103125, 7.05625, 7.096875, 7.0625, 7.05, 7.06875, 7.05, 7.065625, 7.015625, 6.978125, 6.996875, 7.021875, 6.99375, 6.98125, 6.990625, 6.971875, 6.853125, 6.90625, 6.91875, 6.859375, 6.7875, 6.66875, 6.684375, 6.7, 6.625, 6.378125, 6.378125, 6.365625, 6.353125, 6.33125, 6.26875, 6.20625, 6.16875, 6.165625, 6.178125, 6.2125, 6.1375, 6.06875, 6.053125, 6.025, 6.053125, 6.03125, 5.934375, 5.934375, 5.940625, 5.975, 5.903125, 5.934375, 5.915625, 5.940625, 5.871875, 5.771875, 5.790625, 5.8, 5.79375, 5.76875, 5.740625, 5.75625, 5.75, 5.715625, 5.7375, 5.759375, 5.80625, 5.778125, 5.696875, 5.715625, 5.6875, 5.659375, 5.634375, 5.6625, 5.646875, 5.634375, 5.628125, 5.628125, 5.625, 5.6, 5.5625, 5.578125, 5.59375, 5.59375, 5.615625, 5.596875, 5.609375, 5.609375, 5.6, 5.6125, 5.65625, 5.63125, 5.634375, 5.63125, 5.603125, 5.584375, 5.590625, 5.5625]}, {\"name\": \"Warmstarted (1,20)\", \"type\": \"scatter\", \"y\": [8.421875, 8.296875, 7.28125, 7.40625, 6.703125, 6.709375, 6.71875, 6.73125, 6.74375, 6.734375, 6.76875, 6.784375, 6.759375, 6.790625, 6.803125, 6.8125, 6.76875, 6.771875, 6.796875, 6.80625, 6.696875, 6.653125, 6.684375, 6.721875, 6.584375, 6.571875, 6.590625, 6.496875, 6.440625, 6.365625, 6.40625, 6.334375, 6.33125, 6.334375, 6.234375, 6.10625, 6.171875, 6.190625, 6.184375, 6.0875, 6.065625, 6.00625, 5.9375, 5.928125, 5.965625, 5.928125, 5.925, 5.93125, 5.93125, 5.884375, 5.8625, 5.790625, 5.765625, 5.75, 5.753125, 5.76875, 5.80625, 5.85625, 5.834375, 5.840625, 5.84375, 5.821875, 5.825, 5.815625, 5.821875, 5.80625, 5.75, 5.70625, 5.721875, 5.671875, 5.690625, 5.69375, 5.703125, 5.653125, 5.65625, 5.615625, 5.6125, 5.628125, 5.640625, 5.615625, 5.625, 5.628125, 5.646875, 5.61875, 5.559375, 5.528125, 5.55, 5.534375, 5.515625, 5.521875, 5.5375, 5.496875, 5.5375, 5.515625, 5.528125, 5.490625, 5.48125, 5.496875, 5.50625, 5.534375]}, {\"name\": \"Warmstarted (5,5)\", \"type\": \"scatter\", \"y\": [5.765625, 5.84375, 5.953125, 5.609375, 5.21875, 5.259375, 5.225, 5.24375, 5.21875, 5.228125, 5.18125, 5.190625, 5.175, 5.16875, 5.15625, 5.165625, 5.171875, 5.19375, 5.221875, 5.203125, 5.1625, 5.196875, 5.184375, 5.15, 5.1625, 5.1625, 5.153125, 5.109375, 5.159375, 5.225, 5.25625, 5.31875, 5.3, 5.315625, 5.271875, 5.26875, 5.221875, 5.240625, 5.259375, 5.3, 5.2375, 5.265625, 5.303125, 5.3375, 5.33125, 5.3625, 5.365625, 5.375, 5.38125, 5.4, 5.3875, 5.3875, 5.4125, 5.434375, 5.440625, 5.490625, 5.509375, 5.55, 5.54375, 5.525, 5.465625, 5.475, 5.465625, 5.484375, 5.484375, 5.509375, 5.509375, 5.453125, 5.409375, 5.440625, 5.409375, 5.403125, 5.375, 5.396875, 5.3875, 5.409375, 5.40625, 5.390625, 5.415625, 5.40625, 5.4125, 5.425, 5.434375, 5.375, 5.38125, 5.384375, 5.375, 5.390625, 5.3875, 5.396875, 5.4125, 5.396875, 5.4, 5.415625, 5.434375, 5.41875, 5.44375, 5.453125, 5.4625, 5.459375]}, {\"name\": \"Warmstarted (5,20)\", \"type\": \"scatter\", \"y\": [6.125, 5.34375, 5.203125, 5.28125, 5.171875, 5.2, 5.225, 5.28125, 5.19375, 5.2375, 5.259375, 5.2625, 5.265625, 5.25, 5.240625, 5.19375, 5.19375, 5.209375, 5.259375, 5.2375, 5.3125, 5.325, 5.315625, 5.29375, 5.38125, 5.453125, 5.453125, 5.471875, 5.440625, 5.3875, 5.284375, 5.275, 5.221875, 5.25, 5.2125, 5.28125, 5.265625, 5.20625, 5.1625, 5.184375, 5.221875, 5.209375, 5.1875, 5.23125, 5.24375, 5.25, 5.290625, 5.25625, 5.209375, 5.225, 5.20625, 5.2125, 5.2125, 5.196875, 5.175, 5.2, 5.20625, 5.234375, 5.25, 5.265625, 5.2875, 5.296875, 5.315625, 5.278125, 5.2875, 5.29375, 5.26875, 5.18125, 5.234375, 5.19375, 5.196875, 5.2125, 5.20625, 5.221875, 5.234375, 5.2625, 5.28125, 5.29375, 5.3125, 5.3125, 5.325, 5.346875, 5.321875, 5.3375, 5.353125, 5.3625, 5.303125, 5.3125, 5.328125, 5.340625, 5.3375, 5.353125, 5.321875, 5.33125, 5.3, 5.315625, 5.346875, 5.33125, 5.340625, 5.359375]}, {\"name\": \"Warmstarted (10,5)\", \"type\": \"scatter\", \"y\": [5.15625, 4.71875, 4.09375, 4.0625, 4.453125, 4.465625, 4.446875, 4.428125, 4.45625, 4.48125, 4.471875, 4.490625, 4.521875, 4.459375, 4.44375, 4.45625, 4.459375, 4.453125, 4.46875, 4.475, 4.475, 4.478125, 4.50625, 4.50625, 4.53125, 4.4875, 4.5125, 4.559375, 4.621875, 4.65625, 4.634375, 4.678125, 4.69375, 4.73125, 4.76875, 4.765625, 4.7875, 4.771875, 4.790625, 4.85, 4.865625, 4.85625, 4.9125, 4.85625, 4.846875, 4.828125, 4.853125, 4.86875, 4.89375, 4.896875, 4.9125, 4.946875, 4.959375, 4.9375, 4.94375, 4.95, 4.975, 4.940625, 4.93125, 4.921875, 4.925, 4.934375, 4.946875, 4.94375, 4.93125, 4.90625, 4.95625, 4.95, 5.01875, 5.078125, 5.09375, 5.08125, 5.11875, 5.121875, 5.1125, 5.11875, 5.125, 5.115625, 5.078125, 5.0875, 5.096875, 5.11875, 5.1375, 5.153125, 5.121875, 5.13125, 5.146875, 5.134375, 5.125, 5.1375, 5.134375, 5.153125, 5.15625, 5.15625, 5.171875, 5.190625, 5.1875, 5.20625, 5.16875, 5.084375]}, {\"name\": \"Warmstarted (10,20)\", \"type\": \"scatter\", \"y\": [4.96875, 4.828125, 5.5, 5.390625, 5.0, 4.953125, 5.0, 4.99375, 4.9375, 4.909375, 4.890625, 4.921875, 4.946875, 4.984375, 4.940625, 4.940625, 4.940625, 4.925, 4.959375, 4.95, 5.059375, 5.190625, 5.178125, 5.18125, 5.125, 5.04375, 5.040625, 5.05, 5.04375, 5.046875, 5.0375, 5.090625, 5.11875, 5.128125, 5.14375, 5.14375, 5.140625, 5.146875, 5.165625, 5.109375, 5.134375, 5.090625, 5.103125, 5.1375, 5.109375, 5.128125, 5.09375, 5.04375, 5.00625, 5.028125, 5.0125, 5.0375, 5.075, 5.071875, 5.071875, 5.096875, 5.075, 5.103125, 5.034375, 5.046875, 5.046875, 5.0375, 5.053125, 5.015625, 5.003125, 5.009375, 4.978125, 5.053125, 5.090625, 5.09375, 5.10625, 5.096875, 5.096875, 5.103125, 5.09375, 5.09375, 5.09375, 5.109375, 5.06875, 5.071875, 5.084375, 5.065625, 5.034375, 5.053125, 5.0375, 5.040625, 5.046875, 5.059375, 5.08125, 5.090625, 5.06875, 5.084375, 5.109375, 5.121875, 5.13125, 5.125, 5.128125, 5.140625, 5.153125, 5.18125]}, {\"name\": \"Warmstarted (15,5)\", \"type\": \"scatter\", \"y\": [4.953125, 5.265625, 5.125, 5.328125, 5.390625, 5.40625, 5.340625, 5.25, 5.2625, 5.221875, 5.18125, 5.1625, 5.184375, 5.16875, 5.190625, 5.190625, 5.2, 5.228125, 5.18125, 5.203125, 5.065625, 4.89375, 4.9375, 4.909375, 4.871875, 4.88125, 4.909375, 4.940625, 4.909375, 4.909375, 4.940625, 4.95, 4.978125, 4.934375, 4.9875, 5.0, 4.98125, 5.0, 5.04375, 5.05, 5.04375, 5.053125, 5.125, 5.1625, 5.171875, 5.140625, 5.18125, 5.190625, 5.2375, 5.240625, 5.228125, 5.1875, 5.15, 5.109375, 5.09375, 5.071875, 5.09375, 5.065625, 5.096875, 5.078125, 5.103125, 5.09375, 5.084375, 5.1125, 5.115625, 5.090625, 5.1375, 5.196875, 5.178125, 5.2, 5.23125, 5.275, 5.26875, 5.259375, 5.275, 5.278125, 5.278125, 5.26875, 5.3, 5.30625, 5.3125, 5.31875, 5.33125, 5.34375, 5.35625, 5.353125, 5.36875, 5.38125, 5.3625, 5.38125, 5.340625, 5.353125, 5.328125, 5.328125, 5.315625, 5.3125, 5.334375, 5.35, 5.3625, 5.3875]}, {\"name\": \"Warmstarted (15,20)\", \"type\": \"scatter\", \"y\": [4.578125, 4.359375, 4.578125, 4.96875, 5.1875, 5.1625, 5.2, 5.1625, 5.221875, 5.19375, 5.209375, 5.184375, 5.2, 5.209375, 5.221875, 5.28125, 5.29375, 5.30625, 5.215625, 5.203125, 5.365625, 5.3625, 5.378125, 5.30625, 5.3625, 5.44375, 5.378125, 5.38125, 5.384375, 5.41875, 5.453125, 5.484375, 5.478125, 5.4125, 5.41875, 5.43125, 5.4125, 5.3875, 5.425, 5.415625, 5.375, 5.390625, 5.38125, 5.396875, 5.396875, 5.428125, 5.3875, 5.41875, 5.440625, 5.46875, 5.46875, 5.484375, 5.478125, 5.48125, 5.515625, 5.5, 5.50625, 5.51875, 5.55, 5.5875, 5.5875, 5.596875, 5.61875, 5.603125, 5.603125, 5.621875, 5.603125, 5.603125, 5.6, 5.628125, 5.646875, 5.625, 5.66875, 5.68125, 5.6875, 5.659375, 5.6375, 5.65, 5.646875, 5.64375, 5.64375, 5.640625, 5.653125, 5.665625, 5.684375, 5.69375, 5.678125, 5.671875, 5.659375, 5.6375, 5.634375, 5.628125, 5.6375, 5.615625, 5.625, 5.65, 5.625, 5.603125, 5.609375, 5.61875]}, {\"name\": \"Warmstarted (32=all,5)\", \"type\": \"scatter\", \"y\": [3.796875, 4.703125, 4.859375, 5.328125, 5.3125, 5.315625, 5.303125, 5.34375, 5.31875, 5.371875, 5.4125, 5.34375, 5.315625, 5.353125, 5.415625, 5.446875, 5.453125, 5.45, 5.46875, 5.478125, 5.534375, 5.603125, 5.596875, 5.659375, 5.690625, 5.746875, 5.78125, 5.871875, 5.809375, 5.790625, 5.84375, 5.946875, 5.928125, 5.94375, 6.0, 5.9875, 6.03125, 6.0875, 6.025, 6.03125, 6.059375, 6.065625, 6.078125, 6.10625, 6.096875, 6.1125, 6.090625, 6.090625, 6.134375, 6.09375, 6.140625, 6.14375, 6.184375, 6.20625, 6.225, 6.15, 6.115625, 6.11875, 6.1375, 6.128125, 6.125, 6.153125, 6.121875, 6.134375, 6.1375, 6.165625, 6.134375, 6.115625, 5.91875, 5.996875, 5.96875, 5.909375, 5.890625, 5.903125, 5.903125, 5.93125, 5.9375, 5.953125, 5.9625, 5.9875, 5.95625, 5.94375, 5.95625, 5.965625, 5.978125, 5.9875, 6.009375, 6.003125, 6.03125, 6.0125, 6.03125, 6.015625, 5.99375, 6.0125, 6.01875, 6.003125, 6.021875, 5.990625, 5.975, 5.959375]}, {\"name\": \"Warmstarted (32=all,20)\", \"type\": \"scatter\", \"y\": [3.796875, 4.296875, 4.484375, 4.6875, 5.375, 5.4, 5.4375, 5.509375, 5.55, 5.559375, 5.575, 5.590625, 5.58125, 5.55, 5.571875, 5.534375, 5.521875, 5.440625, 5.434375, 5.4625, 5.3375, 5.325, 5.365625, 5.365625, 5.371875, 5.35, 5.39375, 5.45, 5.50625, 5.5, 5.51875, 5.54375, 5.571875, 5.584375, 5.609375, 5.684375, 5.71875, 5.7625, 5.775, 5.80625, 5.81875, 5.85, 5.834375, 5.775, 5.784375, 5.796875, 5.759375, 5.79375, 5.83125, 5.828125, 5.840625, 5.834375, 5.859375, 5.878125, 5.865625, 5.83125, 5.840625, 5.840625, 5.83125, 5.80625, 5.821875, 5.821875, 5.828125, 5.85625, 5.865625, 5.88125, 5.925, 5.98125, 6.021875, 5.91875, 5.959375, 5.9875, 5.984375, 6.0, 6.015625, 5.96875, 5.98125, 5.95625, 5.946875, 5.940625, 5.91875, 5.9125, 5.921875, 5.909375, 5.934375, 5.925, 5.90625, 5.915625, 5.9, 5.871875, 5.903125, 5.90625, 5.859375, 5.871875, 5.840625, 5.8625, 5.828125, 5.84375, 5.83125, 5.853125]}],\n",
       "                        {\"template\": {\"data\": {\"bar\": [{\"error_x\": {\"color\": \"#2a3f5f\"}, \"error_y\": {\"color\": \"#2a3f5f\"}, \"marker\": {\"line\": {\"color\": \"#E5ECF6\", \"width\": 0.5}}, \"type\": \"bar\"}], \"barpolar\": [{\"marker\": {\"line\": {\"color\": \"#E5ECF6\", \"width\": 0.5}}, \"type\": \"barpolar\"}], \"carpet\": [{\"aaxis\": {\"endlinecolor\": \"#2a3f5f\", \"gridcolor\": \"white\", \"linecolor\": \"white\", \"minorgridcolor\": \"white\", \"startlinecolor\": \"#2a3f5f\"}, \"baxis\": {\"endlinecolor\": \"#2a3f5f\", \"gridcolor\": \"white\", \"linecolor\": \"white\", \"minorgridcolor\": \"white\", \"startlinecolor\": \"#2a3f5f\"}, \"type\": \"carpet\"}], \"choropleth\": [{\"colorbar\": {\"outlinewidth\": 0, \"ticks\": \"\"}, \"type\": \"choropleth\"}], \"contour\": [{\"colorbar\": {\"outlinewidth\": 0, \"ticks\": \"\"}, \"colorscale\": [[0.0, \"#0d0887\"], [0.1111111111111111, \"#46039f\"], [0.2222222222222222, \"#7201a8\"], [0.3333333333333333, \"#9c179e\"], [0.4444444444444444, \"#bd3786\"], [0.5555555555555556, \"#d8576b\"], [0.6666666666666666, \"#ed7953\"], [0.7777777777777778, \"#fb9f3a\"], [0.8888888888888888, \"#fdca26\"], [1.0, \"#f0f921\"]], \"type\": \"contour\"}], \"contourcarpet\": [{\"colorbar\": {\"outlinewidth\": 0, \"ticks\": \"\"}, \"type\": \"contourcarpet\"}], \"heatmap\": [{\"colorbar\": {\"outlinewidth\": 0, \"ticks\": \"\"}, \"colorscale\": [[0.0, \"#0d0887\"], [0.1111111111111111, \"#46039f\"], [0.2222222222222222, \"#7201a8\"], [0.3333333333333333, \"#9c179e\"], [0.4444444444444444, \"#bd3786\"], [0.5555555555555556, \"#d8576b\"], [0.6666666666666666, \"#ed7953\"], [0.7777777777777778, \"#fb9f3a\"], [0.8888888888888888, \"#fdca26\"], [1.0, \"#f0f921\"]], \"type\": \"heatmap\"}], \"heatmapgl\": [{\"colorbar\": {\"outlinewidth\": 0, \"ticks\": \"\"}, \"colorscale\": [[0.0, \"#0d0887\"], [0.1111111111111111, \"#46039f\"], [0.2222222222222222, \"#7201a8\"], [0.3333333333333333, \"#9c179e\"], [0.4444444444444444, \"#bd3786\"], [0.5555555555555556, \"#d8576b\"], [0.6666666666666666, \"#ed7953\"], [0.7777777777777778, \"#fb9f3a\"], [0.8888888888888888, \"#fdca26\"], [1.0, \"#f0f921\"]], \"type\": \"heatmapgl\"}], \"histogram\": [{\"marker\": {\"colorbar\": {\"outlinewidth\": 0, \"ticks\": \"\"}}, \"type\": \"histogram\"}], \"histogram2d\": [{\"colorbar\": {\"outlinewidth\": 0, \"ticks\": \"\"}, \"colorscale\": [[0.0, \"#0d0887\"], [0.1111111111111111, \"#46039f\"], [0.2222222222222222, \"#7201a8\"], [0.3333333333333333, \"#9c179e\"], [0.4444444444444444, \"#bd3786\"], [0.5555555555555556, \"#d8576b\"], [0.6666666666666666, \"#ed7953\"], [0.7777777777777778, \"#fb9f3a\"], [0.8888888888888888, \"#fdca26\"], [1.0, \"#f0f921\"]], \"type\": \"histogram2d\"}], \"histogram2dcontour\": [{\"colorbar\": {\"outlinewidth\": 0, \"ticks\": \"\"}, \"colorscale\": [[0.0, \"#0d0887\"], [0.1111111111111111, \"#46039f\"], [0.2222222222222222, \"#7201a8\"], [0.3333333333333333, \"#9c179e\"], [0.4444444444444444, \"#bd3786\"], [0.5555555555555556, \"#d8576b\"], [0.6666666666666666, \"#ed7953\"], [0.7777777777777778, \"#fb9f3a\"], [0.8888888888888888, \"#fdca26\"], [1.0, \"#f0f921\"]], \"type\": \"histogram2dcontour\"}], \"mesh3d\": [{\"colorbar\": {\"outlinewidth\": 0, \"ticks\": \"\"}, \"type\": \"mesh3d\"}], \"parcoords\": [{\"line\": {\"colorbar\": {\"outlinewidth\": 0, \"ticks\": \"\"}}, \"type\": \"parcoords\"}], \"scatter\": [{\"marker\": {\"colorbar\": {\"outlinewidth\": 0, \"ticks\": \"\"}}, \"type\": \"scatter\"}], \"scatter3d\": [{\"line\": {\"colorbar\": {\"outlinewidth\": 0, \"ticks\": \"\"}}, \"marker\": {\"colorbar\": {\"outlinewidth\": 0, \"ticks\": \"\"}}, \"type\": \"scatter3d\"}], \"scattercarpet\": [{\"marker\": {\"colorbar\": {\"outlinewidth\": 0, \"ticks\": \"\"}}, \"type\": \"scattercarpet\"}], \"scattergeo\": [{\"marker\": {\"colorbar\": {\"outlinewidth\": 0, \"ticks\": \"\"}}, \"type\": \"scattergeo\"}], \"scattergl\": [{\"marker\": {\"colorbar\": {\"outlinewidth\": 0, \"ticks\": \"\"}}, \"type\": \"scattergl\"}], \"scattermapbox\": [{\"marker\": {\"colorbar\": {\"outlinewidth\": 0, \"ticks\": \"\"}}, \"type\": \"scattermapbox\"}], \"scatterpolar\": [{\"marker\": {\"colorbar\": {\"outlinewidth\": 0, \"ticks\": \"\"}}, \"type\": \"scatterpolar\"}], \"scatterpolargl\": [{\"marker\": {\"colorbar\": {\"outlinewidth\": 0, \"ticks\": \"\"}}, \"type\": \"scatterpolargl\"}], \"scatterternary\": [{\"marker\": {\"colorbar\": {\"outlinewidth\": 0, \"ticks\": \"\"}}, \"type\": \"scatterternary\"}], \"surface\": [{\"colorbar\": {\"outlinewidth\": 0, \"ticks\": \"\"}, \"colorscale\": [[0.0, \"#0d0887\"], [0.1111111111111111, \"#46039f\"], [0.2222222222222222, \"#7201a8\"], [0.3333333333333333, \"#9c179e\"], [0.4444444444444444, \"#bd3786\"], [0.5555555555555556, \"#d8576b\"], [0.6666666666666666, \"#ed7953\"], [0.7777777777777778, \"#fb9f3a\"], [0.8888888888888888, \"#fdca26\"], [1.0, \"#f0f921\"]], \"type\": \"surface\"}], \"table\": [{\"cells\": {\"fill\": {\"color\": \"#EBF0F8\"}, \"line\": {\"color\": \"white\"}}, \"header\": {\"fill\": {\"color\": \"#C8D4E3\"}, \"line\": {\"color\": \"white\"}}, \"type\": \"table\"}]}, \"layout\": {\"annotationdefaults\": {\"arrowcolor\": \"#2a3f5f\", \"arrowhead\": 0, \"arrowwidth\": 1}, \"colorscale\": {\"diverging\": [[0, \"#8e0152\"], [0.1, \"#c51b7d\"], [0.2, \"#de77ae\"], [0.3, \"#f1b6da\"], [0.4, \"#fde0ef\"], [0.5, \"#f7f7f7\"], [0.6, \"#e6f5d0\"], [0.7, \"#b8e186\"], [0.8, \"#7fbc41\"], [0.9, \"#4d9221\"], [1, \"#276419\"]], \"sequential\": [[0.0, \"#0d0887\"], [0.1111111111111111, \"#46039f\"], [0.2222222222222222, \"#7201a8\"], [0.3333333333333333, \"#9c179e\"], [0.4444444444444444, \"#bd3786\"], [0.5555555555555556, \"#d8576b\"], [0.6666666666666666, \"#ed7953\"], [0.7777777777777778, \"#fb9f3a\"], [0.8888888888888888, \"#fdca26\"], [1.0, \"#f0f921\"]], \"sequentialminus\": [[0.0, \"#0d0887\"], [0.1111111111111111, \"#46039f\"], [0.2222222222222222, \"#7201a8\"], [0.3333333333333333, \"#9c179e\"], [0.4444444444444444, \"#bd3786\"], [0.5555555555555556, \"#d8576b\"], [0.6666666666666666, \"#ed7953\"], [0.7777777777777778, \"#fb9f3a\"], [0.8888888888888888, \"#fdca26\"], [1.0, \"#f0f921\"]]}, \"colorway\": [\"#636efa\", \"#EF553B\", \"#00cc96\", \"#ab63fa\", \"#FFA15A\", \"#19d3f3\", \"#FF6692\", \"#B6E880\", \"#FF97FF\", \"#FECB52\"], \"font\": {\"color\": \"#2a3f5f\"}, \"geo\": {\"bgcolor\": \"white\", \"lakecolor\": \"white\", \"landcolor\": \"#E5ECF6\", \"showlakes\": true, \"showland\": true, \"subunitcolor\": \"white\"}, \"hoverlabel\": {\"align\": \"left\"}, \"hovermode\": \"closest\", \"mapbox\": {\"style\": \"light\"}, \"paper_bgcolor\": \"white\", \"plot_bgcolor\": \"#E5ECF6\", \"polar\": {\"angularaxis\": {\"gridcolor\": \"white\", \"linecolor\": \"white\", \"ticks\": \"\"}, \"bgcolor\": \"#E5ECF6\", \"radialaxis\": {\"gridcolor\": \"white\", \"linecolor\": \"white\", \"ticks\": \"\"}}, \"scene\": {\"xaxis\": {\"backgroundcolor\": \"#E5ECF6\", \"gridcolor\": \"white\", \"gridwidth\": 2, \"linecolor\": \"white\", \"showbackground\": true, \"ticks\": \"\", \"zerolinecolor\": \"white\"}, \"yaxis\": {\"backgroundcolor\": \"#E5ECF6\", \"gridcolor\": \"white\", \"gridwidth\": 2, \"linecolor\": \"white\", \"showbackground\": true, \"ticks\": \"\", \"zerolinecolor\": \"white\"}, \"zaxis\": {\"backgroundcolor\": \"#E5ECF6\", \"gridcolor\": \"white\", \"gridwidth\": 2, \"linecolor\": \"white\", \"showbackground\": true, \"ticks\": \"\", \"zerolinecolor\": \"white\"}}, \"shapedefaults\": {\"line\": {\"color\": \"#2a3f5f\"}}, \"ternary\": {\"aaxis\": {\"gridcolor\": \"white\", \"linecolor\": \"white\", \"ticks\": \"\"}, \"baxis\": {\"gridcolor\": \"white\", \"linecolor\": \"white\", \"ticks\": \"\"}, \"bgcolor\": \"#E5ECF6\", \"caxis\": {\"gridcolor\": \"white\", \"linecolor\": \"white\", \"ticks\": \"\"}}, \"title\": {\"x\": 0.05}, \"xaxis\": {\"automargin\": true, \"gridcolor\": \"white\", \"linecolor\": \"white\", \"ticks\": \"\", \"zerolinecolor\": \"white\", \"zerolinewidth\": 2}, \"yaxis\": {\"automargin\": true, \"gridcolor\": \"white\", \"linecolor\": \"white\", \"ticks\": \"\", \"zerolinecolor\": \"white\", \"zerolinewidth\": 2}}}, \"xaxis\": {\"title\": {\"text\": \"Iterations\"}}, \"yaxis\": {\"title\": {\"text\": \"Rank\"}}},\n",
       "                        {\"responsive\": true}\n",
       "                    ).then(function(){\n",
       "                            \n",
       "var gd = document.getElementById('0de9068e-fb93-473c-9521-86bc2b717781');\n",
       "var x = new MutationObserver(function (mutations, observer) {{\n",
       "        var display = window.getComputedStyle(gd).display;\n",
       "        if (!display || display === 'none') {{\n",
       "            console.log([gd, 'removed!']);\n",
       "            Plotly.purge(gd);\n",
       "            observer.disconnect();\n",
       "        }}\n",
       "}});\n",
       "\n",
       "// Listen for the removal of the full notebook cells\n",
       "var notebookContainer = gd.closest('#notebook-container');\n",
       "if (notebookContainer) {{\n",
       "    x.observe(notebookContainer, {childList: true});\n",
       "}}\n",
       "\n",
       "// Listen for the clearing of the current output cell\n",
       "var outputEl = gd.closest('.output');\n",
       "if (outputEl) {{\n",
       "    x.observe(outputEl, {childList: true});\n",
       "}}\n",
       "\n",
       "                        })\n",
       "                };\n",
       "                });\n",
       "            </script>\n",
       "        </div>"
      ]
     },
     "metadata": {},
     "output_type": "display_data"
    }
   ],
   "source": [
    "hopt_exp.visualize_avg_ranks()"
   ]
  },
  {
   "cell_type": "code",
   "execution_count": 13,
   "metadata": {},
   "outputs": [
    {
     "ename": "ValueError",
     "evalue": "list.remove(x): x not in list",
     "output_type": "error",
     "traceback": [
      "\u001b[0;31m---------------------------------------------------------------------------\u001b[0m",
      "\u001b[0;31mValueError\u001b[0m                                Traceback (most recent call last)",
      "\u001b[0;32m<ipython-input-13-ed0e3f1f9f56>\u001b[0m in \u001b[0;36m<module>\u001b[0;34m\u001b[0m\n\u001b[0;32m----> 1\u001b[0;31m \u001b[0mhopt_exp\u001b[0m\u001b[0;34m.\u001b[0m\u001b[0mvisualize_walltime_comparison\u001b[0m\u001b[0;34m(\u001b[0m\u001b[0;34m'Random search'\u001b[0m\u001b[0;34m,\u001b[0m \u001b[0;36m100\u001b[0m\u001b[0;34m)\u001b[0m\u001b[0;34m\u001b[0m\u001b[0m\n\u001b[0m",
      "\u001b[0;32m~/Code/autoxgb/src/experimenting/hopt_experiment.py\u001b[0m in \u001b[0;36mvisualize_walltime_comparison\u001b[0;34m(self, base_search, iterations)\u001b[0m\n\u001b[1;32m    140\u001b[0m \u001b[0;34m\u001b[0m\u001b[0m\n\u001b[1;32m    141\u001b[0m         \u001b[0mtarget_hopt_ids\u001b[0m \u001b[0;34m=\u001b[0m \u001b[0;34m[\u001b[0m\u001b[0mhopt\u001b[0m\u001b[0;34m.\u001b[0m\u001b[0midentifier\u001b[0m \u001b[0;32mfor\u001b[0m \u001b[0mhopt\u001b[0m \u001b[0;32min\u001b[0m \u001b[0mself\u001b[0m\u001b[0;34m.\u001b[0m\u001b[0m_hopts\u001b[0m\u001b[0;34m]\u001b[0m\u001b[0;34m\u001b[0m\u001b[0m\n\u001b[0;32m--> 142\u001b[0;31m         \u001b[0mtarget_hopt_ids\u001b[0m\u001b[0;34m.\u001b[0m\u001b[0mremove\u001b[0m\u001b[0;34m(\u001b[0m\u001b[0mbase_search\u001b[0m\u001b[0;34m)\u001b[0m\u001b[0;34m\u001b[0m\u001b[0m\n\u001b[0m\u001b[1;32m    143\u001b[0m         \u001b[0mfig\u001b[0m \u001b[0;34m=\u001b[0m \u001b[0mgo\u001b[0m\u001b[0;34m.\u001b[0m\u001b[0mFigure\u001b[0m\u001b[0;34m(\u001b[0m\u001b[0;34m)\u001b[0m\u001b[0;34m\u001b[0m\u001b[0m\n\u001b[1;32m    144\u001b[0m         \u001b[0;32mfor\u001b[0m \u001b[0mtarget_hopt\u001b[0m \u001b[0;32min\u001b[0m \u001b[0mtarget_hopt_ids\u001b[0m\u001b[0;34m:\u001b[0m\u001b[0;34m\u001b[0m\u001b[0m\n",
      "\u001b[0;31mValueError\u001b[0m: list.remove(x): x not in list"
     ]
    }
   ],
   "source": [
    "hopt_exp.visualize_walltime_comparison('Random search', 100)"
   ]
  },
  {
   "cell_type": "code",
   "execution_count": 19,
   "metadata": {},
   "outputs": [
    {
     "data": {
      "application/vnd.plotly.v1+json": {
       "config": {
        "plotlyServerURL": "https://plot.ly"
       },
       "data": [
        {
         "name": "Random search",
         "type": "scatter",
         "visible": "legendonly",
         "y": [
          8.771875,
          9.66875,
          10.078125,
          10.059375,
          9.9875,
          9.965625,
          9.996875,
          9.8625,
          9.853125,
          9.765625,
          9.571875,
          9.59375,
          9.540625,
          9.46875,
          9.39375,
          9.43125,
          9.3875,
          9.384375,
          9.33125,
          9.31875,
          9.446875,
          9.5375,
          9.5875,
          9.65,
          9.746875,
          9.784375,
          9.775,
          9.7,
          9.76875,
          9.65625,
          9.6125,
          9.621875,
          9.64375,
          9.70625,
          9.753125,
          9.790625,
          9.88125,
          9.940625,
          9.95,
          9.95625,
          10.015625,
          10.05,
          10.0875,
          10.003125,
          9.971875,
          9.978125,
          10,
          10,
          10.009375,
          9.953125,
          9.965625,
          10.03125,
          10.0375,
          10.090625,
          10.06875,
          10.0125,
          9.99375,
          10.03125,
          9.9875,
          9.99375,
          10.034375,
          10.028125,
          10.0625,
          10.10625,
          10.115625,
          10.134375,
          10.165625,
          10.175,
          10.225,
          10.215625,
          10.234375,
          10.2625,
          10.29375,
          10.325,
          10.2875,
          10.3375,
          10.315625,
          10.34375,
          10.3625,
          10.340625,
          10.353125,
          10.25,
          10.23125,
          10.25,
          10.225,
          10.240625,
          10.2625,
          10.278125,
          10.28125,
          10.284375,
          10.278125,
          10.203125,
          10.19375,
          10.11875,
          10.140625,
          10.140625,
          10.15,
          10.16875,
          10.171875,
          10.146875
         ]
        },
        {
         "name": "Naive Bayesian optimization",
         "type": "scatter",
         "visible": "legendonly",
         "y": [
          8.653125,
          9.43125,
          9.584375,
          9.6875,
          9.7125,
          9.059375,
          8.7375,
          8.721875,
          8.68125,
          8.7125,
          8.7375,
          8.715625,
          8.4875,
          8.290625,
          8.21875,
          8.225,
          8.290625,
          8.25,
          8.128125,
          7.865625,
          7.759375,
          7.628125,
          7.621875,
          7.665625,
          7.525,
          7.640625,
          7.6875,
          7.68125,
          7.740625,
          7.54375,
          7.603125,
          7.653125,
          7.5875,
          7.56875,
          7.575,
          7.575,
          7.6125,
          7.625,
          7.65,
          7.709375,
          7.6625,
          7.709375,
          7.728125,
          7.7875,
          7.80625,
          7.775,
          7.775,
          7.7,
          7.696875,
          7.6875,
          7.715625,
          7.665625,
          7.65,
          7.684375,
          7.65625,
          7.6375,
          7.603125,
          7.46875,
          7.4625,
          7.434375,
          7.465625,
          7.490625,
          7.503125,
          7.46875,
          7.496875,
          7.525,
          7.4375,
          7.41875,
          7.3125,
          7.20625,
          7.253125,
          7.246875,
          7.225,
          7.209375,
          7.178125,
          7.203125,
          7.19375,
          7.16875,
          7.196875,
          7.171875,
          7.134375,
          7.109375,
          7.053125,
          7.021875,
          7.021875,
          7.028125,
          7.05,
          7.04375,
          7.0125,
          7.0125,
          6.95,
          6.909375,
          6.890625,
          6.909375,
          6.915625,
          6.890625,
          6.896875,
          6.9125,
          6.909375,
          6.93125
         ]
        },
        {
         "name": "Warmstarted Bayesian optimization 1",
         "type": "scatter",
         "visible": "legendonly",
         "y": [
          8.778125,
          8.825,
          8.665625,
          7.71875,
          7.79375,
          7.91875,
          7.796875,
          7.65625,
          7.6,
          7.61875,
          7.540625,
          7.478125,
          7.54375,
          7.540625,
          7.575,
          7.5625,
          7.540625,
          7.559375,
          7.509375,
          7.43125,
          7.31875,
          7.29375,
          7.31875,
          7.29375,
          7.296875,
          7.25,
          7.21875,
          7.196875,
          7.153125,
          7.25,
          7.2,
          7.128125,
          7.184375,
          7.240625,
          7.284375,
          7.225,
          7.184375,
          7.159375,
          7.146875,
          7.084375,
          7.078125,
          7.059375,
          7.046875,
          7.053125,
          7.05625,
          7.103125,
          7.09375,
          7.14375,
          7.146875,
          7.11875,
          7.134375,
          7.06875,
          7.065625,
          7.05,
          7.028125,
          7.053125,
          7.04375,
          6.965625,
          7.009375,
          6.85625,
          6.80625,
          6.721875,
          6.634375,
          6.634375,
          6.53125,
          6.515625,
          6.496875,
          6.4125,
          6.38125,
          6.48125,
          6.471875,
          6.465625,
          6.509375,
          6.521875,
          6.528125,
          6.51875,
          6.50625,
          6.528125,
          6.51875,
          6.5375,
          6.559375,
          6.5375,
          6.49375,
          6.5,
          6.525,
          6.54375,
          6.534375,
          6.5125,
          6.5,
          6.4875,
          6.503125,
          6.50625,
          6.509375,
          6.51875,
          6.490625,
          6.471875,
          6.4625,
          6.425,
          6.428125,
          6.4125
         ]
        },
        {
         "name": "Warmstarted Bayesian optimization 1 - equal total configs",
         "type": "scatter",
         "visible": "legendonly",
         "y": [
          11.79375,
          10.371875,
          9.75625,
          10.1125,
          10.384375,
          10.278125,
          10.11875,
          10.00625,
          9.778125,
          9.61875,
          9.421875,
          9.38125,
          9.253125,
          9.215625,
          9.121875,
          9.05625,
          8.81875,
          8.765625,
          8.709375,
          8.746875,
          8.421875,
          8.30625,
          8.234375,
          8.078125,
          7.865625,
          7.828125,
          7.81875,
          7.853125,
          7.909375,
          7.803125,
          7.81875,
          7.76875,
          7.765625,
          7.778125,
          7.83125,
          7.790625,
          7.61875,
          7.503125,
          7.459375,
          7.490625,
          7.478125,
          7.4875,
          7.478125,
          7.434375,
          7.421875,
          7.409375,
          7.359375,
          7.375,
          7.421875,
          7.434375,
          7.41875,
          7.45,
          7.371875,
          7.334375,
          7.36875,
          7.375,
          7.4,
          7.396875,
          7.41875,
          7.453125,
          7.35,
          7.38125,
          7.290625,
          7.25,
          7.271875,
          7.203125,
          7.125,
          7.009375,
          6.946875,
          6.9125,
          6.803125,
          6.784375,
          6.7375,
          6.675,
          6.6625,
          6.603125,
          6.571875,
          6.590625,
          6.534375,
          6.5375,
          6.49375,
          6.503125,
          6.515625,
          6.484375,
          6.48125,
          6.45625,
          6.40625,
          6.41875,
          6.4,
          6.415625,
          6.434375,
          6.425,
          6.40625,
          6.425,
          6.4,
          6.40625,
          6.39375,
          6.39375,
          6.365625,
          6.390625
         ]
        },
        {
         "name": "Warmstarted Bayesian optimization 5",
         "type": "scatter",
         "visible": "legendonly",
         "y": [
          5.521875,
          5.10625,
          4.7,
          4.90625,
          4.925,
          4.884375,
          4.909375,
          4.95625,
          4.990625,
          5,
          5.053125,
          5.05625,
          5.121875,
          5.184375,
          5.265625,
          5.30625,
          5.359375,
          5.34375,
          5.35,
          5.415625,
          5.64375,
          5.65625,
          5.6,
          5.634375,
          5.69375,
          5.546875,
          5.496875,
          5.55,
          5.390625,
          5.446875,
          5.409375,
          5.365625,
          5.478125,
          5.425,
          5.36875,
          5.353125,
          5.425,
          5.4875,
          5.465625,
          5.465625,
          5.46875,
          5.49375,
          5.459375,
          5.46875,
          5.48125,
          5.415625,
          5.428125,
          5.434375,
          5.31875,
          5.303125,
          5.328125,
          5.365625,
          5.396875,
          5.434375,
          5.43125,
          5.45,
          5.475,
          5.525,
          5.503125,
          5.534375,
          5.51875,
          5.453125,
          5.440625,
          5.36875,
          5.35625,
          5.365625,
          5.3875,
          5.434375,
          5.425,
          5.45625,
          5.440625,
          5.48125,
          5.50625,
          5.490625,
          5.5125,
          5.553125,
          5.540625,
          5.534375,
          5.540625,
          5.5125,
          5.484375,
          5.490625,
          5.51875,
          5.5125,
          5.540625,
          5.546875,
          5.546875,
          5.55625,
          5.5875,
          5.590625,
          5.6,
          5.61875,
          5.64375,
          5.6625,
          5.68125,
          5.653125,
          5.659375,
          5.646875,
          5.65625,
          5.6625
         ]
        },
        {
         "name": "Warmstarted Bayesian optimization 5 - equal total configs",
         "type": "scatter",
         "visible": "legendonly",
         "y": [
          7.690625,
          7.246875,
          7.5375,
          7.446875,
          7.440625,
          7.55,
          7.684375,
          7.715625,
          7.653125,
          7.596875,
          7.5625,
          7.59375,
          7.653125,
          7.71875,
          7.671875,
          7.590625,
          7.575,
          7.571875,
          7.625,
          7.684375,
          7.746875,
          7.85,
          7.89375,
          8.01875,
          8.08125,
          7.996875,
          8.03125,
          8.015625,
          7.91875,
          7.78125,
          7.65625,
          7.653125,
          7.340625,
          7.359375,
          7.25625,
          7.284375,
          7.215625,
          7.146875,
          7.15625,
          7.10625,
          7.096875,
          7.00625,
          6.99375,
          7.00625,
          6.98125,
          6.91875,
          6.925,
          6.88125,
          6.840625,
          6.81875,
          6.79375,
          6.75625,
          6.71875,
          6.66875,
          6.634375,
          6.659375,
          6.590625,
          6.6125,
          6.6125,
          6.625,
          6.65,
          6.653125,
          6.64375,
          6.609375,
          6.578125,
          6.575,
          6.56875,
          6.5,
          6.49375,
          6.5625,
          6.590625,
          6.553125,
          6.565625,
          6.559375,
          6.578125,
          6.61875,
          6.578125,
          6.6,
          6.603125,
          6.621875,
          6.640625,
          6.6625,
          6.675,
          6.690625,
          6.69375,
          6.66875,
          6.646875,
          6.61875,
          6.596875,
          6.596875,
          6.6125,
          6.625,
          6.6,
          6.565625,
          6.509375,
          6.51875,
          6.490625,
          6.509375,
          6.5125,
          6.53125
         ]
        },
        {
         "name": "Warmstarted Bayesian optimization 10",
         "type": "scatter",
         "visible": "legendonly",
         "y": [
          4.90625,
          5.040625,
          3.846875,
          3.69375,
          3.728125,
          3.734375,
          3.7875,
          3.86875,
          3.909375,
          3.99375,
          4.06875,
          4.084375,
          4.128125,
          4.128125,
          4.20625,
          4.225,
          4.253125,
          4.240625,
          4.265625,
          4.28125,
          4.346875,
          4.490625,
          4.46875,
          4.571875,
          4.603125,
          4.60625,
          4.63125,
          4.715625,
          4.8,
          4.890625,
          5,
          5.04375,
          5.084375,
          5.103125,
          5.146875,
          5.25625,
          5.26875,
          5.25625,
          5.2375,
          5.259375,
          5.278125,
          5.246875,
          5.225,
          5.25625,
          5.234375,
          5.2875,
          5.29375,
          5.346875,
          5.396875,
          5.43125,
          5.446875,
          5.478125,
          5.5125,
          5.484375,
          5.521875,
          5.546875,
          5.54375,
          5.578125,
          5.528125,
          5.53125,
          5.590625,
          5.575,
          5.603125,
          5.65625,
          5.7,
          5.696875,
          5.65,
          5.70625,
          5.71875,
          5.78125,
          5.809375,
          5.828125,
          5.840625,
          5.875,
          5.878125,
          5.840625,
          5.853125,
          5.815625,
          5.85,
          5.875,
          5.884375,
          5.915625,
          5.940625,
          5.95,
          5.9625,
          5.928125,
          5.896875,
          5.846875,
          5.846875,
          5.8625,
          5.878125,
          5.89375,
          5.921875,
          5.94375,
          5.94375,
          5.959375,
          5.9625,
          5.99375,
          6,
          5.984375
         ]
        },
        {
         "name": "Warmstarted Bayesian optimization 10 - equal total configs",
         "type": "scatter",
         "visible": "legendonly",
         "y": [
          5.25,
          4.91875,
          5.19375,
          5.453125,
          5.5,
          5.590625,
          5.6125,
          5.584375,
          5.65,
          5.646875,
          5.73125,
          5.74375,
          5.80625,
          5.853125,
          5.81875,
          5.859375,
          5.85,
          5.86875,
          5.903125,
          5.8875,
          5.89375,
          5.95625,
          5.9,
          5.8625,
          5.925,
          6.00625,
          6.071875,
          6.034375,
          6.078125,
          6.209375,
          6.15,
          6.121875,
          6.103125,
          5.98125,
          5.921875,
          5.978125,
          5.9125,
          5.878125,
          5.896875,
          5.8125,
          5.803125,
          5.840625,
          5.825,
          5.846875,
          5.784375,
          5.81875,
          5.796875,
          5.790625,
          5.803125,
          5.803125,
          5.759375,
          5.784375,
          5.79375,
          5.79375,
          5.840625,
          5.840625,
          5.8875,
          5.865625,
          5.85,
          5.88125,
          5.903125,
          5.934375,
          5.946875,
          5.9875,
          5.946875,
          5.921875,
          5.98125,
          6.015625,
          6.059375,
          5.9375,
          5.91875,
          5.921875,
          5.909375,
          5.94375,
          5.9625,
          5.89375,
          5.921875,
          5.903125,
          5.934375,
          5.965625,
          5.971875,
          5.96875,
          5.91875,
          5.93125,
          5.921875,
          5.946875,
          5.959375,
          5.971875,
          5.925,
          5.934375,
          5.9375,
          5.95,
          5.934375,
          5.95625,
          5.95625,
          5.9375,
          5.940625,
          5.965625,
          5.971875,
          5.98125
         ]
        },
        {
         "name": "Warmstarted Bayesian optimization 15",
         "type": "scatter",
         "visible": "legendonly",
         "y": [
          6.18125,
          5.45625,
          4.659375,
          4.115625,
          4.10625,
          4.175,
          4.209375,
          4.225,
          4.290625,
          4.35,
          4.384375,
          4.35625,
          4.38125,
          4.421875,
          4.428125,
          4.45625,
          4.5,
          4.49375,
          4.53125,
          4.559375,
          4.725,
          4.7375,
          4.74375,
          4.74375,
          4.65625,
          4.6,
          4.571875,
          4.684375,
          4.70625,
          4.75625,
          4.815625,
          4.909375,
          4.98125,
          4.996875,
          4.96875,
          5.05625,
          5.1375,
          5.14375,
          5.121875,
          5.159375,
          5.140625,
          5.1875,
          5.209375,
          5.275,
          5.290625,
          5.3125,
          5.31875,
          5.35625,
          5.3875,
          5.384375,
          5.353125,
          5.246875,
          5.2625,
          5.240625,
          5.2875,
          5.290625,
          5.284375,
          5.3375,
          5.375,
          5.38125,
          5.428125,
          5.4375,
          5.465625,
          5.4,
          5.425,
          5.440625,
          5.496875,
          5.546875,
          5.596875,
          5.578125,
          5.6,
          5.584375,
          5.61875,
          5.653125,
          5.615625,
          5.625,
          5.60625,
          5.6125,
          5.565625,
          5.575,
          5.58125,
          5.6125,
          5.634375,
          5.6375,
          5.6625,
          5.684375,
          5.703125,
          5.715625,
          5.740625,
          5.715625,
          5.715625,
          5.7375,
          5.70625,
          5.728125,
          5.721875,
          5.74375,
          5.753125,
          5.725,
          5.73125,
          5.7375
         ]
        },
        {
         "name": "Warmstarted Bayesian optimization 15 - equal total configs",
         "type": "scatter",
         "visible": "legendonly",
         "y": [
          3.315625,
          3.8625,
          4.653125,
          4.85625,
          5.30625,
          5.340625,
          5.390625,
          5.478125,
          5.559375,
          5.659375,
          5.7375,
          5.765625,
          5.6875,
          5.740625,
          5.728125,
          5.725,
          5.725,
          5.753125,
          5.821875,
          5.853125,
          5.696875,
          5.565625,
          5.59375,
          5.5,
          5.490625,
          5.578125,
          5.603125,
          5.665625,
          5.628125,
          5.634375,
          5.625,
          5.528125,
          5.53125,
          5.496875,
          5.503125,
          5.45625,
          5.5,
          5.496875,
          5.496875,
          5.525,
          5.509375,
          5.50625,
          5.528125,
          5.484375,
          5.525,
          5.5125,
          5.509375,
          5.546875,
          5.546875,
          5.55,
          5.571875,
          5.596875,
          5.596875,
          5.584375,
          5.5625,
          5.54375,
          5.55,
          5.534375,
          5.5875,
          5.6125,
          5.540625,
          5.58125,
          5.575,
          5.60625,
          5.621875,
          5.609375,
          5.6625,
          5.8,
          5.8125,
          5.865625,
          5.84375,
          5.884375,
          5.928125,
          5.90625,
          5.946875,
          5.94375,
          5.9625,
          5.965625,
          5.98125,
          5.940625,
          5.95625,
          5.95625,
          5.96875,
          5.978125,
          5.959375,
          5.915625,
          5.9,
          5.9125,
          5.9375,
          5.946875,
          5.959375,
          5.975,
          6.00625,
          5.996875,
          6.03125,
          6.046875,
          6.040625,
          6.025,
          6.03125,
          6.0125
         ]
        },
        {
         "name": "Allround Bayesian optimization",
         "type": "scatter",
         "visible": "legendonly",
         "y": [
          3.56875,
          4.165625,
          4.5125,
          4.921875,
          4.665625,
          4.834375,
          4.984375,
          5.084375,
          5.103125,
          5.05625,
          5.11875,
          5.115625,
          5.215625,
          5.284375,
          5.31875,
          5.3625,
          5.43125,
          5.453125,
          5.478125,
          5.54375,
          5.615625,
          5.525,
          5.56875,
          5.5,
          5.565625,
          5.5625,
          5.54375,
          5.375,
          5.465625,
          5.48125,
          5.5,
          5.55,
          5.6,
          5.671875,
          5.71875,
          5.5875,
          5.5875,
          5.63125,
          5.66875,
          5.665625,
          5.68125,
          5.6875,
          5.709375,
          5.725,
          5.721875,
          5.7125,
          5.725,
          5.665625,
          5.696875,
          5.740625,
          5.715625,
          5.721875,
          5.7125,
          5.740625,
          5.740625,
          5.709375,
          5.703125,
          5.721875,
          5.753125,
          5.78125,
          5.8125,
          5.85,
          5.9125,
          5.934375,
          5.925,
          5.940625,
          5.959375,
          6.025,
          6.04375,
          6.04375,
          6.06875,
          6.01875,
          5.89375,
          5.921875,
          5.928125,
          5.91875,
          5.965625,
          5.984375,
          5.94375,
          5.946875,
          5.959375,
          5.990625,
          6.021875,
          6.028125,
          6.0125,
          6.028125,
          6.053125,
          6.06875,
          6.09375,
          6.06875,
          6.034375,
          6.05,
          6.059375,
          6.025,
          6.040625,
          6.05625,
          6.06875,
          6.065625,
          6.053125,
          6.034375
         ]
        },
        {
         "name": "Allround Bayesian optimization - equal total configs",
         "type": "scatter",
         "visible": "legendonly",
         "y": [
          3.56875,
          3.90625,
          4.8125,
          5.028125,
          4.45,
          4.66875,
          4.771875,
          4.840625,
          4.93125,
          4.98125,
          5.071875,
          5.115625,
          5.18125,
          5.153125,
          5.253125,
          5.2,
          5.26875,
          5.315625,
          5.346875,
          5.4125,
          5.384375,
          5.453125,
          5.46875,
          5.48125,
          5.55,
          5.6,
          5.55,
          5.528125,
          5.440625,
          5.546875,
          5.609375,
          5.65625,
          5.7,
          5.671875,
          5.671875,
          5.646875,
          5.65625,
          5.73125,
          5.75,
          5.765625,
          5.7875,
          5.725,
          5.709375,
          5.659375,
          5.725,
          5.75625,
          5.775,
          5.759375,
          5.734375,
          5.775,
          5.796875,
          5.834375,
          5.88125,
          5.89375,
          5.859375,
          5.88125,
          5.925,
          5.9625,
          5.9125,
          5.915625,
          5.9,
          5.89375,
          5.921875,
          5.978125,
          6.03125,
          6.071875,
          6.06875,
          5.95625,
          5.984375,
          5.959375,
          5.965625,
          5.96875,
          5.971875,
          5.91875,
          5.921875,
          5.94375,
          5.984375,
          5.953125,
          5.96875,
          5.975,
          5.98125,
          6.003125,
          6.028125,
          6.015625,
          5.99375,
          6.0125,
          6.040625,
          6.05625,
          6.078125,
          6.084375,
          6.096875,
          6.10625,
          6.128125,
          6.15,
          6.16875,
          6.175,
          6.18125,
          6.16875,
          6.16875,
          6.175
         ]
        }
       ],
       "layout": {
        "autosize": true,
        "template": {
         "data": {
          "bar": [
           {
            "error_x": {
             "color": "#2a3f5f"
            },
            "error_y": {
             "color": "#2a3f5f"
            },
            "marker": {
             "line": {
              "color": "#E5ECF6",
              "width": 0.5
             }
            },
            "type": "bar"
           }
          ],
          "barpolar": [
           {
            "marker": {
             "line": {
              "color": "#E5ECF6",
              "width": 0.5
             }
            },
            "type": "barpolar"
           }
          ],
          "carpet": [
           {
            "aaxis": {
             "endlinecolor": "#2a3f5f",
             "gridcolor": "white",
             "linecolor": "white",
             "minorgridcolor": "white",
             "startlinecolor": "#2a3f5f"
            },
            "baxis": {
             "endlinecolor": "#2a3f5f",
             "gridcolor": "white",
             "linecolor": "white",
             "minorgridcolor": "white",
             "startlinecolor": "#2a3f5f"
            },
            "type": "carpet"
           }
          ],
          "choropleth": [
           {
            "colorbar": {
             "outlinewidth": 0,
             "ticks": ""
            },
            "type": "choropleth"
           }
          ],
          "contour": [
           {
            "colorbar": {
             "outlinewidth": 0,
             "ticks": ""
            },
            "colorscale": [
             [
              0,
              "#0d0887"
             ],
             [
              0.1111111111111111,
              "#46039f"
             ],
             [
              0.2222222222222222,
              "#7201a8"
             ],
             [
              0.3333333333333333,
              "#9c179e"
             ],
             [
              0.4444444444444444,
              "#bd3786"
             ],
             [
              0.5555555555555556,
              "#d8576b"
             ],
             [
              0.6666666666666666,
              "#ed7953"
             ],
             [
              0.7777777777777778,
              "#fb9f3a"
             ],
             [
              0.8888888888888888,
              "#fdca26"
             ],
             [
              1,
              "#f0f921"
             ]
            ],
            "type": "contour"
           }
          ],
          "contourcarpet": [
           {
            "colorbar": {
             "outlinewidth": 0,
             "ticks": ""
            },
            "type": "contourcarpet"
           }
          ],
          "heatmap": [
           {
            "colorbar": {
             "outlinewidth": 0,
             "ticks": ""
            },
            "colorscale": [
             [
              0,
              "#0d0887"
             ],
             [
              0.1111111111111111,
              "#46039f"
             ],
             [
              0.2222222222222222,
              "#7201a8"
             ],
             [
              0.3333333333333333,
              "#9c179e"
             ],
             [
              0.4444444444444444,
              "#bd3786"
             ],
             [
              0.5555555555555556,
              "#d8576b"
             ],
             [
              0.6666666666666666,
              "#ed7953"
             ],
             [
              0.7777777777777778,
              "#fb9f3a"
             ],
             [
              0.8888888888888888,
              "#fdca26"
             ],
             [
              1,
              "#f0f921"
             ]
            ],
            "type": "heatmap"
           }
          ],
          "heatmapgl": [
           {
            "colorbar": {
             "outlinewidth": 0,
             "ticks": ""
            },
            "colorscale": [
             [
              0,
              "#0d0887"
             ],
             [
              0.1111111111111111,
              "#46039f"
             ],
             [
              0.2222222222222222,
              "#7201a8"
             ],
             [
              0.3333333333333333,
              "#9c179e"
             ],
             [
              0.4444444444444444,
              "#bd3786"
             ],
             [
              0.5555555555555556,
              "#d8576b"
             ],
             [
              0.6666666666666666,
              "#ed7953"
             ],
             [
              0.7777777777777778,
              "#fb9f3a"
             ],
             [
              0.8888888888888888,
              "#fdca26"
             ],
             [
              1,
              "#f0f921"
             ]
            ],
            "type": "heatmapgl"
           }
          ],
          "histogram": [
           {
            "marker": {
             "colorbar": {
              "outlinewidth": 0,
              "ticks": ""
             }
            },
            "type": "histogram"
           }
          ],
          "histogram2d": [
           {
            "colorbar": {
             "outlinewidth": 0,
             "ticks": ""
            },
            "colorscale": [
             [
              0,
              "#0d0887"
             ],
             [
              0.1111111111111111,
              "#46039f"
             ],
             [
              0.2222222222222222,
              "#7201a8"
             ],
             [
              0.3333333333333333,
              "#9c179e"
             ],
             [
              0.4444444444444444,
              "#bd3786"
             ],
             [
              0.5555555555555556,
              "#d8576b"
             ],
             [
              0.6666666666666666,
              "#ed7953"
             ],
             [
              0.7777777777777778,
              "#fb9f3a"
             ],
             [
              0.8888888888888888,
              "#fdca26"
             ],
             [
              1,
              "#f0f921"
             ]
            ],
            "type": "histogram2d"
           }
          ],
          "histogram2dcontour": [
           {
            "colorbar": {
             "outlinewidth": 0,
             "ticks": ""
            },
            "colorscale": [
             [
              0,
              "#0d0887"
             ],
             [
              0.1111111111111111,
              "#46039f"
             ],
             [
              0.2222222222222222,
              "#7201a8"
             ],
             [
              0.3333333333333333,
              "#9c179e"
             ],
             [
              0.4444444444444444,
              "#bd3786"
             ],
             [
              0.5555555555555556,
              "#d8576b"
             ],
             [
              0.6666666666666666,
              "#ed7953"
             ],
             [
              0.7777777777777778,
              "#fb9f3a"
             ],
             [
              0.8888888888888888,
              "#fdca26"
             ],
             [
              1,
              "#f0f921"
             ]
            ],
            "type": "histogram2dcontour"
           }
          ],
          "mesh3d": [
           {
            "colorbar": {
             "outlinewidth": 0,
             "ticks": ""
            },
            "type": "mesh3d"
           }
          ],
          "parcoords": [
           {
            "line": {
             "colorbar": {
              "outlinewidth": 0,
              "ticks": ""
             }
            },
            "type": "parcoords"
           }
          ],
          "scatter": [
           {
            "marker": {
             "colorbar": {
              "outlinewidth": 0,
              "ticks": ""
             }
            },
            "type": "scatter"
           }
          ],
          "scatter3d": [
           {
            "line": {
             "colorbar": {
              "outlinewidth": 0,
              "ticks": ""
             }
            },
            "marker": {
             "colorbar": {
              "outlinewidth": 0,
              "ticks": ""
             }
            },
            "type": "scatter3d"
           }
          ],
          "scattercarpet": [
           {
            "marker": {
             "colorbar": {
              "outlinewidth": 0,
              "ticks": ""
             }
            },
            "type": "scattercarpet"
           }
          ],
          "scattergeo": [
           {
            "marker": {
             "colorbar": {
              "outlinewidth": 0,
              "ticks": ""
             }
            },
            "type": "scattergeo"
           }
          ],
          "scattergl": [
           {
            "marker": {
             "colorbar": {
              "outlinewidth": 0,
              "ticks": ""
             }
            },
            "type": "scattergl"
           }
          ],
          "scattermapbox": [
           {
            "marker": {
             "colorbar": {
              "outlinewidth": 0,
              "ticks": ""
             }
            },
            "type": "scattermapbox"
           }
          ],
          "scatterpolar": [
           {
            "marker": {
             "colorbar": {
              "outlinewidth": 0,
              "ticks": ""
             }
            },
            "type": "scatterpolar"
           }
          ],
          "scatterpolargl": [
           {
            "marker": {
             "colorbar": {
              "outlinewidth": 0,
              "ticks": ""
             }
            },
            "type": "scatterpolargl"
           }
          ],
          "scatterternary": [
           {
            "marker": {
             "colorbar": {
              "outlinewidth": 0,
              "ticks": ""
             }
            },
            "type": "scatterternary"
           }
          ],
          "surface": [
           {
            "colorbar": {
             "outlinewidth": 0,
             "ticks": ""
            },
            "colorscale": [
             [
              0,
              "#0d0887"
             ],
             [
              0.1111111111111111,
              "#46039f"
             ],
             [
              0.2222222222222222,
              "#7201a8"
             ],
             [
              0.3333333333333333,
              "#9c179e"
             ],
             [
              0.4444444444444444,
              "#bd3786"
             ],
             [
              0.5555555555555556,
              "#d8576b"
             ],
             [
              0.6666666666666666,
              "#ed7953"
             ],
             [
              0.7777777777777778,
              "#fb9f3a"
             ],
             [
              0.8888888888888888,
              "#fdca26"
             ],
             [
              1,
              "#f0f921"
             ]
            ],
            "type": "surface"
           }
          ],
          "table": [
           {
            "cells": {
             "fill": {
              "color": "#EBF0F8"
             },
             "line": {
              "color": "white"
             }
            },
            "header": {
             "fill": {
              "color": "#C8D4E3"
             },
             "line": {
              "color": "white"
             }
            },
            "type": "table"
           }
          ]
         },
         "layout": {
          "annotationdefaults": {
           "arrowcolor": "#2a3f5f",
           "arrowhead": 0,
           "arrowwidth": 1
          },
          "colorscale": {
           "diverging": [
            [
             0,
             "#8e0152"
            ],
            [
             0.1,
             "#c51b7d"
            ],
            [
             0.2,
             "#de77ae"
            ],
            [
             0.3,
             "#f1b6da"
            ],
            [
             0.4,
             "#fde0ef"
            ],
            [
             0.5,
             "#f7f7f7"
            ],
            [
             0.6,
             "#e6f5d0"
            ],
            [
             0.7,
             "#b8e186"
            ],
            [
             0.8,
             "#7fbc41"
            ],
            [
             0.9,
             "#4d9221"
            ],
            [
             1,
             "#276419"
            ]
           ],
           "sequential": [
            [
             0,
             "#0d0887"
            ],
            [
             0.1111111111111111,
             "#46039f"
            ],
            [
             0.2222222222222222,
             "#7201a8"
            ],
            [
             0.3333333333333333,
             "#9c179e"
            ],
            [
             0.4444444444444444,
             "#bd3786"
            ],
            [
             0.5555555555555556,
             "#d8576b"
            ],
            [
             0.6666666666666666,
             "#ed7953"
            ],
            [
             0.7777777777777778,
             "#fb9f3a"
            ],
            [
             0.8888888888888888,
             "#fdca26"
            ],
            [
             1,
             "#f0f921"
            ]
           ],
           "sequentialminus": [
            [
             0,
             "#0d0887"
            ],
            [
             0.1111111111111111,
             "#46039f"
            ],
            [
             0.2222222222222222,
             "#7201a8"
            ],
            [
             0.3333333333333333,
             "#9c179e"
            ],
            [
             0.4444444444444444,
             "#bd3786"
            ],
            [
             0.5555555555555556,
             "#d8576b"
            ],
            [
             0.6666666666666666,
             "#ed7953"
            ],
            [
             0.7777777777777778,
             "#fb9f3a"
            ],
            [
             0.8888888888888888,
             "#fdca26"
            ],
            [
             1,
             "#f0f921"
            ]
           ]
          },
          "colorway": [
           "#636efa",
           "#EF553B",
           "#00cc96",
           "#ab63fa",
           "#FFA15A",
           "#19d3f3",
           "#FF6692",
           "#B6E880",
           "#FF97FF",
           "#FECB52"
          ],
          "font": {
           "color": "#2a3f5f"
          },
          "geo": {
           "bgcolor": "white",
           "lakecolor": "white",
           "landcolor": "#E5ECF6",
           "showlakes": true,
           "showland": true,
           "subunitcolor": "white"
          },
          "hoverlabel": {
           "align": "left"
          },
          "hovermode": "closest",
          "mapbox": {
           "style": "light"
          },
          "paper_bgcolor": "white",
          "plot_bgcolor": "#E5ECF6",
          "polar": {
           "angularaxis": {
            "gridcolor": "white",
            "linecolor": "white",
            "ticks": ""
           },
           "bgcolor": "#E5ECF6",
           "radialaxis": {
            "gridcolor": "white",
            "linecolor": "white",
            "ticks": ""
           }
          },
          "scene": {
           "xaxis": {
            "backgroundcolor": "#E5ECF6",
            "gridcolor": "white",
            "gridwidth": 2,
            "linecolor": "white",
            "showbackground": true,
            "ticks": "",
            "zerolinecolor": "white"
           },
           "yaxis": {
            "backgroundcolor": "#E5ECF6",
            "gridcolor": "white",
            "gridwidth": 2,
            "linecolor": "white",
            "showbackground": true,
            "ticks": "",
            "zerolinecolor": "white"
           },
           "zaxis": {
            "backgroundcolor": "#E5ECF6",
            "gridcolor": "white",
            "gridwidth": 2,
            "linecolor": "white",
            "showbackground": true,
            "ticks": "",
            "zerolinecolor": "white"
           }
          },
          "shapedefaults": {
           "line": {
            "color": "#2a3f5f"
           }
          },
          "ternary": {
           "aaxis": {
            "gridcolor": "white",
            "linecolor": "white",
            "ticks": ""
           },
           "baxis": {
            "gridcolor": "white",
            "linecolor": "white",
            "ticks": ""
           },
           "bgcolor": "#E5ECF6",
           "caxis": {
            "gridcolor": "white",
            "linecolor": "white",
            "ticks": ""
           }
          },
          "title": {
           "x": 0.05
          },
          "xaxis": {
           "automargin": true,
           "gridcolor": "white",
           "linecolor": "white",
           "ticks": "",
           "zerolinecolor": "white",
           "zerolinewidth": 2
          },
          "yaxis": {
           "automargin": true,
           "gridcolor": "white",
           "linecolor": "white",
           "ticks": "",
           "zerolinecolor": "white",
           "zerolinewidth": 2
          }
         }
        },
        "xaxis": {
         "autorange": true,
         "range": [
          0,
          99
         ],
         "title": {
          "text": "Iterations"
         }
        },
        "yaxis": {
         "autorange": true,
         "range": [
          3.423611111111111,
          6.326388888888889
         ],
         "title": {
          "text": "Rank"
         },
         "type": "linear"
        }
       }
      },
      "image/png": "[encoded data removed]",
      "text/html": [
       "<div>\n",
       "        \n",
       "        \n",
       "            <div id=\"af90b688-5c06-4709-8ba9-7e817465971b\" class=\"plotly-graph-div\" style=\"height:525px; width:100%;\"></div>\n",
       "            <script type=\"text/javascript\">\n",
       "                require([\"plotly\"], function(Plotly) {\n",
       "                    window.PLOTLYENV=window.PLOTLYENV || {};\n",
       "                    \n",
       "                if (document.getElementById(\"af90b688-5c06-4709-8ba9-7e817465971b\")) {\n",
       "                    Plotly.newPlot(\n",
       "                        'af90b688-5c06-4709-8ba9-7e817465971b',\n",
       "                        [{\"name\": \"Random search\", \"type\": \"scatter\", \"y\": [8.771875, 9.66875, 10.078125, 10.059375, 9.9875, 9.965625, 9.996875, 9.8625, 9.853125, 9.765625, 9.571875, 9.59375, 9.540625, 9.46875, 9.39375, 9.43125, 9.3875, 9.384375, 9.33125, 9.31875, 9.446875, 9.5375, 9.5875, 9.65, 9.746875, 9.784375, 9.775, 9.7, 9.76875, 9.65625, 9.6125, 9.621875, 9.64375, 9.70625, 9.753125, 9.790625, 9.88125, 9.940625, 9.95, 9.95625, 10.015625, 10.05, 10.0875, 10.003125, 9.971875, 9.978125, 10.0, 10.0, 10.009375, 9.953125, 9.965625, 10.03125, 10.0375, 10.090625, 10.06875, 10.0125, 9.99375, 10.03125, 9.9875, 9.99375, 10.034375, 10.028125, 10.0625, 10.10625, 10.115625, 10.134375, 10.165625, 10.175, 10.225, 10.215625, 10.234375, 10.2625, 10.29375, 10.325, 10.2875, 10.3375, 10.315625, 10.34375, 10.3625, 10.340625, 10.353125, 10.25, 10.23125, 10.25, 10.225, 10.240625, 10.2625, 10.278125, 10.28125, 10.284375, 10.278125, 10.203125, 10.19375, 10.11875, 10.140625, 10.140625, 10.15, 10.16875, 10.171875, 10.146875]}, {\"name\": \"Naive Bayesian optimization\", \"type\": \"scatter\", \"y\": [8.653125, 9.43125, 9.584375, 9.6875, 9.7125, 9.059375, 8.7375, 8.721875, 8.68125, 8.7125, 8.7375, 8.715625, 8.4875, 8.290625, 8.21875, 8.225, 8.290625, 8.25, 8.128125, 7.865625, 7.759375, 7.628125, 7.621875, 7.665625, 7.525, 7.640625, 7.6875, 7.68125, 7.740625, 7.54375, 7.603125, 7.653125, 7.5875, 7.56875, 7.575, 7.575, 7.6125, 7.625, 7.65, 7.709375, 7.6625, 7.709375, 7.728125, 7.7875, 7.80625, 7.775, 7.775, 7.7, 7.696875, 7.6875, 7.715625, 7.665625, 7.65, 7.684375, 7.65625, 7.6375, 7.603125, 7.46875, 7.4625, 7.434375, 7.465625, 7.490625, 7.503125, 7.46875, 7.496875, 7.525, 7.4375, 7.41875, 7.3125, 7.20625, 7.253125, 7.246875, 7.225, 7.209375, 7.178125, 7.203125, 7.19375, 7.16875, 7.196875, 7.171875, 7.134375, 7.109375, 7.053125, 7.021875, 7.021875, 7.028125, 7.05, 7.04375, 7.0125, 7.0125, 6.95, 6.909375, 6.890625, 6.909375, 6.915625, 6.890625, 6.896875, 6.9125, 6.909375, 6.93125]}, {\"name\": \"Warmstarted Bayesian optimization 1\", \"type\": \"scatter\", \"y\": [8.778125, 8.825, 8.665625, 7.71875, 7.79375, 7.91875, 7.796875, 7.65625, 7.6, 7.61875, 7.540625, 7.478125, 7.54375, 7.540625, 7.575, 7.5625, 7.540625, 7.559375, 7.509375, 7.43125, 7.31875, 7.29375, 7.31875, 7.29375, 7.296875, 7.25, 7.21875, 7.196875, 7.153125, 7.25, 7.2, 7.128125, 7.184375, 7.240625, 7.284375, 7.225, 7.184375, 7.159375, 7.146875, 7.084375, 7.078125, 7.059375, 7.046875, 7.053125, 7.05625, 7.103125, 7.09375, 7.14375, 7.146875, 7.11875, 7.134375, 7.06875, 7.065625, 7.05, 7.028125, 7.053125, 7.04375, 6.965625, 7.009375, 6.85625, 6.80625, 6.721875, 6.634375, 6.634375, 6.53125, 6.515625, 6.496875, 6.4125, 6.38125, 6.48125, 6.471875, 6.465625, 6.509375, 6.521875, 6.528125, 6.51875, 6.50625, 6.528125, 6.51875, 6.5375, 6.559375, 6.5375, 6.49375, 6.5, 6.525, 6.54375, 6.534375, 6.5125, 6.5, 6.4875, 6.503125, 6.50625, 6.509375, 6.51875, 6.490625, 6.471875, 6.4625, 6.425, 6.428125, 6.4125]}, {\"name\": \"Warmstarted Bayesian optimization 1 - equal total configs\", \"type\": \"scatter\", \"y\": [11.79375, 10.371875, 9.75625, 10.1125, 10.384375, 10.278125, 10.11875, 10.00625, 9.778125, 9.61875, 9.421875, 9.38125, 9.253125, 9.215625, 9.121875, 9.05625, 8.81875, 8.765625, 8.709375, 8.746875, 8.421875, 8.30625, 8.234375, 8.078125, 7.865625, 7.828125, 7.81875, 7.853125, 7.909375, 7.803125, 7.81875, 7.76875, 7.765625, 7.778125, 7.83125, 7.790625, 7.61875, 7.503125, 7.459375, 7.490625, 7.478125, 7.4875, 7.478125, 7.434375, 7.421875, 7.409375, 7.359375, 7.375, 7.421875, 7.434375, 7.41875, 7.45, 7.371875, 7.334375, 7.36875, 7.375, 7.4, 7.396875, 7.41875, 7.453125, 7.35, 7.38125, 7.290625, 7.25, 7.271875, 7.203125, 7.125, 7.009375, 6.946875, 6.9125, 6.803125, 6.784375, 6.7375, 6.675, 6.6625, 6.603125, 6.571875, 6.590625, 6.534375, 6.5375, 6.49375, 6.503125, 6.515625, 6.484375, 6.48125, 6.45625, 6.40625, 6.41875, 6.4, 6.415625, 6.434375, 6.425, 6.40625, 6.425, 6.4, 6.40625, 6.39375, 6.39375, 6.365625, 6.390625]}, {\"name\": \"Warmstarted Bayesian optimization 5\", \"type\": \"scatter\", \"y\": [5.521875, 5.10625, 4.7, 4.90625, 4.925, 4.884375, 4.909375, 4.95625, 4.990625, 5.0, 5.053125, 5.05625, 5.121875, 5.184375, 5.265625, 5.30625, 5.359375, 5.34375, 5.35, 5.415625, 5.64375, 5.65625, 5.6, 5.634375, 5.69375, 5.546875, 5.496875, 5.55, 5.390625, 5.446875, 5.409375, 5.365625, 5.478125, 5.425, 5.36875, 5.353125, 5.425, 5.4875, 5.465625, 5.465625, 5.46875, 5.49375, 5.459375, 5.46875, 5.48125, 5.415625, 5.428125, 5.434375, 5.31875, 5.303125, 5.328125, 5.365625, 5.396875, 5.434375, 5.43125, 5.45, 5.475, 5.525, 5.503125, 5.534375, 5.51875, 5.453125, 5.440625, 5.36875, 5.35625, 5.365625, 5.3875, 5.434375, 5.425, 5.45625, 5.440625, 5.48125, 5.50625, 5.490625, 5.5125, 5.553125, 5.540625, 5.534375, 5.540625, 5.5125, 5.484375, 5.490625, 5.51875, 5.5125, 5.540625, 5.546875, 5.546875, 5.55625, 5.5875, 5.590625, 5.6, 5.61875, 5.64375, 5.6625, 5.68125, 5.653125, 5.659375, 5.646875, 5.65625, 5.6625]}, {\"name\": \"Warmstarted Bayesian optimization 5 - equal total configs\", \"type\": \"scatter\", \"y\": [7.690625, 7.246875, 7.5375, 7.446875, 7.440625, 7.55, 7.684375, 7.715625, 7.653125, 7.596875, 7.5625, 7.59375, 7.653125, 7.71875, 7.671875, 7.590625, 7.575, 7.571875, 7.625, 7.684375, 7.746875, 7.85, 7.89375, 8.01875, 8.08125, 7.996875, 8.03125, 8.015625, 7.91875, 7.78125, 7.65625, 7.653125, 7.340625, 7.359375, 7.25625, 7.284375, 7.215625, 7.146875, 7.15625, 7.10625, 7.096875, 7.00625, 6.99375, 7.00625, 6.98125, 6.91875, 6.925, 6.88125, 6.840625, 6.81875, 6.79375, 6.75625, 6.71875, 6.66875, 6.634375, 6.659375, 6.590625, 6.6125, 6.6125, 6.625, 6.65, 6.653125, 6.64375, 6.609375, 6.578125, 6.575, 6.56875, 6.5, 6.49375, 6.5625, 6.590625, 6.553125, 6.565625, 6.559375, 6.578125, 6.61875, 6.578125, 6.6, 6.603125, 6.621875, 6.640625, 6.6625, 6.675, 6.690625, 6.69375, 6.66875, 6.646875, 6.61875, 6.596875, 6.596875, 6.6125, 6.625, 6.6, 6.565625, 6.509375, 6.51875, 6.490625, 6.509375, 6.5125, 6.53125]}, {\"name\": \"Warmstarted Bayesian optimization 10\", \"type\": \"scatter\", \"y\": [4.90625, 5.040625, 3.846875, 3.69375, 3.728125, 3.734375, 3.7875, 3.86875, 3.909375, 3.99375, 4.06875, 4.084375, 4.128125, 4.128125, 4.20625, 4.225, 4.253125, 4.240625, 4.265625, 4.28125, 4.346875, 4.490625, 4.46875, 4.571875, 4.603125, 4.60625, 4.63125, 4.715625, 4.8, 4.890625, 5.0, 5.04375, 5.084375, 5.103125, 5.146875, 5.25625, 5.26875, 5.25625, 5.2375, 5.259375, 5.278125, 5.246875, 5.225, 5.25625, 5.234375, 5.2875, 5.29375, 5.346875, 5.396875, 5.43125, 5.446875, 5.478125, 5.5125, 5.484375, 5.521875, 5.546875, 5.54375, 5.578125, 5.528125, 5.53125, 5.590625, 5.575, 5.603125, 5.65625, 5.7, 5.696875, 5.65, 5.70625, 5.71875, 5.78125, 5.809375, 5.828125, 5.840625, 5.875, 5.878125, 5.840625, 5.853125, 5.815625, 5.85, 5.875, 5.884375, 5.915625, 5.940625, 5.95, 5.9625, 5.928125, 5.896875, 5.846875, 5.846875, 5.8625, 5.878125, 5.89375, 5.921875, 5.94375, 5.94375, 5.959375, 5.9625, 5.99375, 6.0, 5.984375]}, {\"name\": \"Warmstarted Bayesian optimization 10 - equal total configs\", \"type\": \"scatter\", \"y\": [5.25, 4.91875, 5.19375, 5.453125, 5.5, 5.590625, 5.6125, 5.584375, 5.65, 5.646875, 5.73125, 5.74375, 5.80625, 5.853125, 5.81875, 5.859375, 5.85, 5.86875, 5.903125, 5.8875, 5.89375, 5.95625, 5.9, 5.8625, 5.925, 6.00625, 6.071875, 6.034375, 6.078125, 6.209375, 6.15, 6.121875, 6.103125, 5.98125, 5.921875, 5.978125, 5.9125, 5.878125, 5.896875, 5.8125, 5.803125, 5.840625, 5.825, 5.846875, 5.784375, 5.81875, 5.796875, 5.790625, 5.803125, 5.803125, 5.759375, 5.784375, 5.79375, 5.79375, 5.840625, 5.840625, 5.8875, 5.865625, 5.85, 5.88125, 5.903125, 5.934375, 5.946875, 5.9875, 5.946875, 5.921875, 5.98125, 6.015625, 6.059375, 5.9375, 5.91875, 5.921875, 5.909375, 5.94375, 5.9625, 5.89375, 5.921875, 5.903125, 5.934375, 5.965625, 5.971875, 5.96875, 5.91875, 5.93125, 5.921875, 5.946875, 5.959375, 5.971875, 5.925, 5.934375, 5.9375, 5.95, 5.934375, 5.95625, 5.95625, 5.9375, 5.940625, 5.965625, 5.971875, 5.98125]}, {\"name\": \"Warmstarted Bayesian optimization 15\", \"type\": \"scatter\", \"y\": [6.18125, 5.45625, 4.659375, 4.115625, 4.10625, 4.175, 4.209375, 4.225, 4.290625, 4.35, 4.384375, 4.35625, 4.38125, 4.421875, 4.428125, 4.45625, 4.5, 4.49375, 4.53125, 4.559375, 4.725, 4.7375, 4.74375, 4.74375, 4.65625, 4.6, 4.571875, 4.684375, 4.70625, 4.75625, 4.815625, 4.909375, 4.98125, 4.996875, 4.96875, 5.05625, 5.1375, 5.14375, 5.121875, 5.159375, 5.140625, 5.1875, 5.209375, 5.275, 5.290625, 5.3125, 5.31875, 5.35625, 5.3875, 5.384375, 5.353125, 5.246875, 5.2625, 5.240625, 5.2875, 5.290625, 5.284375, 5.3375, 5.375, 5.38125, 5.428125, 5.4375, 5.465625, 5.4, 5.425, 5.440625, 5.496875, 5.546875, 5.596875, 5.578125, 5.6, 5.584375, 5.61875, 5.653125, 5.615625, 5.625, 5.60625, 5.6125, 5.565625, 5.575, 5.58125, 5.6125, 5.634375, 5.6375, 5.6625, 5.684375, 5.703125, 5.715625, 5.740625, 5.715625, 5.715625, 5.7375, 5.70625, 5.728125, 5.721875, 5.74375, 5.753125, 5.725, 5.73125, 5.7375]}, {\"name\": \"Warmstarted Bayesian optimization 15 - equal total configs\", \"type\": \"scatter\", \"y\": [3.315625, 3.8625, 4.653125, 4.85625, 5.30625, 5.340625, 5.390625, 5.478125, 5.559375, 5.659375, 5.7375, 5.765625, 5.6875, 5.740625, 5.728125, 5.725, 5.725, 5.753125, 5.821875, 5.853125, 5.696875, 5.565625, 5.59375, 5.5, 5.490625, 5.578125, 5.603125, 5.665625, 5.628125, 5.634375, 5.625, 5.528125, 5.53125, 5.496875, 5.503125, 5.45625, 5.5, 5.496875, 5.496875, 5.525, 5.509375, 5.50625, 5.528125, 5.484375, 5.525, 5.5125, 5.509375, 5.546875, 5.546875, 5.55, 5.571875, 5.596875, 5.596875, 5.584375, 5.5625, 5.54375, 5.55, 5.534375, 5.5875, 5.6125, 5.540625, 5.58125, 5.575, 5.60625, 5.621875, 5.609375, 5.6625, 5.8, 5.8125, 5.865625, 5.84375, 5.884375, 5.928125, 5.90625, 5.946875, 5.94375, 5.9625, 5.965625, 5.98125, 5.940625, 5.95625, 5.95625, 5.96875, 5.978125, 5.959375, 5.915625, 5.9, 5.9125, 5.9375, 5.946875, 5.959375, 5.975, 6.00625, 5.996875, 6.03125, 6.046875, 6.040625, 6.025, 6.03125, 6.0125]}, {\"name\": \"Allround Bayesian optimization\", \"type\": \"scatter\", \"y\": [3.56875, 4.165625, 4.5125, 4.921875, 4.665625, 4.834375, 4.984375, 5.084375, 5.103125, 5.05625, 5.11875, 5.115625, 5.215625, 5.284375, 5.31875, 5.3625, 5.43125, 5.453125, 5.478125, 5.54375, 5.615625, 5.525, 5.56875, 5.5, 5.565625, 5.5625, 5.54375, 5.375, 5.465625, 5.48125, 5.5, 5.55, 5.6, 5.671875, 5.71875, 5.5875, 5.5875, 5.63125, 5.66875, 5.665625, 5.68125, 5.6875, 5.709375, 5.725, 5.721875, 5.7125, 5.725, 5.665625, 5.696875, 5.740625, 5.715625, 5.721875, 5.7125, 5.740625, 5.740625, 5.709375, 5.703125, 5.721875, 5.753125, 5.78125, 5.8125, 5.85, 5.9125, 5.934375, 5.925, 5.940625, 5.959375, 6.025, 6.04375, 6.04375, 6.06875, 6.01875, 5.89375, 5.921875, 5.928125, 5.91875, 5.965625, 5.984375, 5.94375, 5.946875, 5.959375, 5.990625, 6.021875, 6.028125, 6.0125, 6.028125, 6.053125, 6.06875, 6.09375, 6.06875, 6.034375, 6.05, 6.059375, 6.025, 6.040625, 6.05625, 6.06875, 6.065625, 6.053125, 6.034375]}, {\"name\": \"Allround Bayesian optimization - equal total configs\", \"type\": \"scatter\", \"y\": [3.56875, 3.90625, 4.8125, 5.028125, 4.45, 4.66875, 4.771875, 4.840625, 4.93125, 4.98125, 5.071875, 5.115625, 5.18125, 5.153125, 5.253125, 5.2, 5.26875, 5.315625, 5.346875, 5.4125, 5.384375, 5.453125, 5.46875, 5.48125, 5.55, 5.6, 5.55, 5.528125, 5.440625, 5.546875, 5.609375, 5.65625, 5.7, 5.671875, 5.671875, 5.646875, 5.65625, 5.73125, 5.75, 5.765625, 5.7875, 5.725, 5.709375, 5.659375, 5.725, 5.75625, 5.775, 5.759375, 5.734375, 5.775, 5.796875, 5.834375, 5.88125, 5.89375, 5.859375, 5.88125, 5.925, 5.9625, 5.9125, 5.915625, 5.9, 5.89375, 5.921875, 5.978125, 6.03125, 6.071875, 6.06875, 5.95625, 5.984375, 5.959375, 5.965625, 5.96875, 5.971875, 5.91875, 5.921875, 5.94375, 5.984375, 5.953125, 5.96875, 5.975, 5.98125, 6.003125, 6.028125, 6.015625, 5.99375, 6.0125, 6.040625, 6.05625, 6.078125, 6.084375, 6.096875, 6.10625, 6.128125, 6.15, 6.16875, 6.175, 6.18125, 6.16875, 6.16875, 6.175]}],\n",
       "                        {\"template\": {\"data\": {\"bar\": [{\"error_x\": {\"color\": \"#2a3f5f\"}, \"error_y\": {\"color\": \"#2a3f5f\"}, \"marker\": {\"line\": {\"color\": \"#E5ECF6\", \"width\": 0.5}}, \"type\": \"bar\"}], \"barpolar\": [{\"marker\": {\"line\": {\"color\": \"#E5ECF6\", \"width\": 0.5}}, \"type\": \"barpolar\"}], \"carpet\": [{\"aaxis\": {\"endlinecolor\": \"#2a3f5f\", \"gridcolor\": \"white\", \"linecolor\": \"white\", \"minorgridcolor\": \"white\", \"startlinecolor\": \"#2a3f5f\"}, \"baxis\": {\"endlinecolor\": \"#2a3f5f\", \"gridcolor\": \"white\", \"linecolor\": \"white\", \"minorgridcolor\": \"white\", \"startlinecolor\": \"#2a3f5f\"}, \"type\": \"carpet\"}], \"choropleth\": [{\"colorbar\": {\"outlinewidth\": 0, \"ticks\": \"\"}, \"type\": \"choropleth\"}], \"contour\": [{\"colorbar\": {\"outlinewidth\": 0, \"ticks\": \"\"}, \"colorscale\": [[0.0, \"#0d0887\"], [0.1111111111111111, \"#46039f\"], [0.2222222222222222, \"#7201a8\"], [0.3333333333333333, \"#9c179e\"], [0.4444444444444444, \"#bd3786\"], [0.5555555555555556, \"#d8576b\"], [0.6666666666666666, \"#ed7953\"], [0.7777777777777778, \"#fb9f3a\"], [0.8888888888888888, \"#fdca26\"], [1.0, \"#f0f921\"]], \"type\": \"contour\"}], \"contourcarpet\": [{\"colorbar\": {\"outlinewidth\": 0, \"ticks\": \"\"}, \"type\": \"contourcarpet\"}], \"heatmap\": [{\"colorbar\": {\"outlinewidth\": 0, \"ticks\": \"\"}, \"colorscale\": [[0.0, \"#0d0887\"], [0.1111111111111111, \"#46039f\"], [0.2222222222222222, \"#7201a8\"], [0.3333333333333333, \"#9c179e\"], [0.4444444444444444, \"#bd3786\"], [0.5555555555555556, \"#d8576b\"], [0.6666666666666666, \"#ed7953\"], [0.7777777777777778, \"#fb9f3a\"], [0.8888888888888888, \"#fdca26\"], [1.0, \"#f0f921\"]], \"type\": \"heatmap\"}], \"heatmapgl\": [{\"colorbar\": {\"outlinewidth\": 0, \"ticks\": \"\"}, \"colorscale\": [[0.0, \"#0d0887\"], [0.1111111111111111, \"#46039f\"], [0.2222222222222222, \"#7201a8\"], [0.3333333333333333, \"#9c179e\"], [0.4444444444444444, \"#bd3786\"], [0.5555555555555556, \"#d8576b\"], [0.6666666666666666, \"#ed7953\"], [0.7777777777777778, \"#fb9f3a\"], [0.8888888888888888, \"#fdca26\"], [1.0, \"#f0f921\"]], \"type\": \"heatmapgl\"}], \"histogram\": [{\"marker\": {\"colorbar\": {\"outlinewidth\": 0, \"ticks\": \"\"}}, \"type\": \"histogram\"}], \"histogram2d\": [{\"colorbar\": {\"outlinewidth\": 0, \"ticks\": \"\"}, \"colorscale\": [[0.0, \"#0d0887\"], [0.1111111111111111, \"#46039f\"], [0.2222222222222222, \"#7201a8\"], [0.3333333333333333, \"#9c179e\"], [0.4444444444444444, \"#bd3786\"], [0.5555555555555556, \"#d8576b\"], [0.6666666666666666, \"#ed7953\"], [0.7777777777777778, \"#fb9f3a\"], [0.8888888888888888, \"#fdca26\"], [1.0, \"#f0f921\"]], \"type\": \"histogram2d\"}], \"histogram2dcontour\": [{\"colorbar\": {\"outlinewidth\": 0, \"ticks\": \"\"}, \"colorscale\": [[0.0, \"#0d0887\"], [0.1111111111111111, \"#46039f\"], [0.2222222222222222, \"#7201a8\"], [0.3333333333333333, \"#9c179e\"], [0.4444444444444444, \"#bd3786\"], [0.5555555555555556, \"#d8576b\"], [0.6666666666666666, \"#ed7953\"], [0.7777777777777778, \"#fb9f3a\"], [0.8888888888888888, \"#fdca26\"], [1.0, \"#f0f921\"]], \"type\": \"histogram2dcontour\"}], \"mesh3d\": [{\"colorbar\": {\"outlinewidth\": 0, \"ticks\": \"\"}, \"type\": \"mesh3d\"}], \"parcoords\": [{\"line\": {\"colorbar\": {\"outlinewidth\": 0, \"ticks\": \"\"}}, \"type\": \"parcoords\"}], \"scatter\": [{\"marker\": {\"colorbar\": {\"outlinewidth\": 0, \"ticks\": \"\"}}, \"type\": \"scatter\"}], \"scatter3d\": [{\"line\": {\"colorbar\": {\"outlinewidth\": 0, \"ticks\": \"\"}}, \"marker\": {\"colorbar\": {\"outlinewidth\": 0, \"ticks\": \"\"}}, \"type\": \"scatter3d\"}], \"scattercarpet\": [{\"marker\": {\"colorbar\": {\"outlinewidth\": 0, \"ticks\": \"\"}}, \"type\": \"scattercarpet\"}], \"scattergeo\": [{\"marker\": {\"colorbar\": {\"outlinewidth\": 0, \"ticks\": \"\"}}, \"type\": \"scattergeo\"}], \"scattergl\": [{\"marker\": {\"colorbar\": {\"outlinewidth\": 0, \"ticks\": \"\"}}, \"type\": \"scattergl\"}], \"scattermapbox\": [{\"marker\": {\"colorbar\": {\"outlinewidth\": 0, \"ticks\": \"\"}}, \"type\": \"scattermapbox\"}], \"scatterpolar\": [{\"marker\": {\"colorbar\": {\"outlinewidth\": 0, \"ticks\": \"\"}}, \"type\": \"scatterpolar\"}], \"scatterpolargl\": [{\"marker\": {\"colorbar\": {\"outlinewidth\": 0, \"ticks\": \"\"}}, \"type\": \"scatterpolargl\"}], \"scatterternary\": [{\"marker\": {\"colorbar\": {\"outlinewidth\": 0, \"ticks\": \"\"}}, \"type\": \"scatterternary\"}], \"surface\": [{\"colorbar\": {\"outlinewidth\": 0, \"ticks\": \"\"}, \"colorscale\": [[0.0, \"#0d0887\"], [0.1111111111111111, \"#46039f\"], [0.2222222222222222, \"#7201a8\"], [0.3333333333333333, \"#9c179e\"], [0.4444444444444444, \"#bd3786\"], [0.5555555555555556, \"#d8576b\"], [0.6666666666666666, \"#ed7953\"], [0.7777777777777778, \"#fb9f3a\"], [0.8888888888888888, \"#fdca26\"], [1.0, \"#f0f921\"]], \"type\": \"surface\"}], \"table\": [{\"cells\": {\"fill\": {\"color\": \"#EBF0F8\"}, \"line\": {\"color\": \"white\"}}, \"header\": {\"fill\": {\"color\": \"#C8D4E3\"}, \"line\": {\"color\": \"white\"}}, \"type\": \"table\"}]}, \"layout\": {\"annotationdefaults\": {\"arrowcolor\": \"#2a3f5f\", \"arrowhead\": 0, \"arrowwidth\": 1}, \"colorscale\": {\"diverging\": [[0, \"#8e0152\"], [0.1, \"#c51b7d\"], [0.2, \"#de77ae\"], [0.3, \"#f1b6da\"], [0.4, \"#fde0ef\"], [0.5, \"#f7f7f7\"], [0.6, \"#e6f5d0\"], [0.7, \"#b8e186\"], [0.8, \"#7fbc41\"], [0.9, \"#4d9221\"], [1, \"#276419\"]], \"sequential\": [[0.0, \"#0d0887\"], [0.1111111111111111, \"#46039f\"], [0.2222222222222222, \"#7201a8\"], [0.3333333333333333, \"#9c179e\"], [0.4444444444444444, \"#bd3786\"], [0.5555555555555556, \"#d8576b\"], [0.6666666666666666, \"#ed7953\"], [0.7777777777777778, \"#fb9f3a\"], [0.8888888888888888, \"#fdca26\"], [1.0, \"#f0f921\"]], \"sequentialminus\": [[0.0, \"#0d0887\"], [0.1111111111111111, \"#46039f\"], [0.2222222222222222, \"#7201a8\"], [0.3333333333333333, \"#9c179e\"], [0.4444444444444444, \"#bd3786\"], [0.5555555555555556, \"#d8576b\"], [0.6666666666666666, \"#ed7953\"], [0.7777777777777778, \"#fb9f3a\"], [0.8888888888888888, \"#fdca26\"], [1.0, \"#f0f921\"]]}, \"colorway\": [\"#636efa\", \"#EF553B\", \"#00cc96\", \"#ab63fa\", \"#FFA15A\", \"#19d3f3\", \"#FF6692\", \"#B6E880\", \"#FF97FF\", \"#FECB52\"], \"font\": {\"color\": \"#2a3f5f\"}, \"geo\": {\"bgcolor\": \"white\", \"lakecolor\": \"white\", \"landcolor\": \"#E5ECF6\", \"showlakes\": true, \"showland\": true, \"subunitcolor\": \"white\"}, \"hoverlabel\": {\"align\": \"left\"}, \"hovermode\": \"closest\", \"mapbox\": {\"style\": \"light\"}, \"paper_bgcolor\": \"white\", \"plot_bgcolor\": \"#E5ECF6\", \"polar\": {\"angularaxis\": {\"gridcolor\": \"white\", \"linecolor\": \"white\", \"ticks\": \"\"}, \"bgcolor\": \"#E5ECF6\", \"radialaxis\": {\"gridcolor\": \"white\", \"linecolor\": \"white\", \"ticks\": \"\"}}, \"scene\": {\"xaxis\": {\"backgroundcolor\": \"#E5ECF6\", \"gridcolor\": \"white\", \"gridwidth\": 2, \"linecolor\": \"white\", \"showbackground\": true, \"ticks\": \"\", \"zerolinecolor\": \"white\"}, \"yaxis\": {\"backgroundcolor\": \"#E5ECF6\", \"gridcolor\": \"white\", \"gridwidth\": 2, \"linecolor\": \"white\", \"showbackground\": true, \"ticks\": \"\", \"zerolinecolor\": \"white\"}, \"zaxis\": {\"backgroundcolor\": \"#E5ECF6\", \"gridcolor\": \"white\", \"gridwidth\": 2, \"linecolor\": \"white\", \"showbackground\": true, \"ticks\": \"\", \"zerolinecolor\": \"white\"}}, \"shapedefaults\": {\"line\": {\"color\": \"#2a3f5f\"}}, \"ternary\": {\"aaxis\": {\"gridcolor\": \"white\", \"linecolor\": \"white\", \"ticks\": \"\"}, \"baxis\": {\"gridcolor\": \"white\", \"linecolor\": \"white\", \"ticks\": \"\"}, \"bgcolor\": \"#E5ECF6\", \"caxis\": {\"gridcolor\": \"white\", \"linecolor\": \"white\", \"ticks\": \"\"}}, \"title\": {\"x\": 0.05}, \"xaxis\": {\"automargin\": true, \"gridcolor\": \"white\", \"linecolor\": \"white\", \"ticks\": \"\", \"zerolinecolor\": \"white\", \"zerolinewidth\": 2}, \"yaxis\": {\"automargin\": true, \"gridcolor\": \"white\", \"linecolor\": \"white\", \"ticks\": \"\", \"zerolinecolor\": \"white\", \"zerolinewidth\": 2}}}, \"xaxis\": {\"title\": {\"text\": \"Iterations\"}}, \"yaxis\": {\"title\": {\"text\": \"Rank\"}}},\n",
       "                        {\"responsive\": true}\n",
       "                    ).then(function(){\n",
       "                            \n",
       "var gd = document.getElementById('af90b688-5c06-4709-8ba9-7e817465971b');\n",
       "var x = new MutationObserver(function (mutations, observer) {{\n",
       "        var display = window.getComputedStyle(gd).display;\n",
       "        if (!display || display === 'none') {{\n",
       "            console.log([gd, 'removed!']);\n",
       "            Plotly.purge(gd);\n",
       "            observer.disconnect();\n",
       "        }}\n",
       "}});\n",
       "\n",
       "// Listen for the removal of the full notebook cells\n",
       "var notebookContainer = gd.closest('#notebook-container');\n",
       "if (notebookContainer) {{\n",
       "    x.observe(notebookContainer, {childList: true});\n",
       "}}\n",
       "\n",
       "// Listen for the clearing of the current output cell\n",
       "var outputEl = gd.closest('.output');\n",
       "if (outputEl) {{\n",
       "    x.observe(outputEl, {childList: true});\n",
       "}}\n",
       "\n",
       "                        })\n",
       "                };\n",
       "                });\n",
       "            </script>\n",
       "        </div>"
      ]
     },
     "metadata": {},
     "output_type": "display_data"
    }
   ],
   "source": [
    "hopt_exp.visualize_avg_ranks()"
   ]
  },
  {
   "cell_type": "code",
   "execution_count": 20,
   "metadata": {},
   "outputs": [
    {
     "data": {
      "application/vnd.plotly.v1+json": {
       "config": {
        "plotlyServerURL": "https://plot.ly"
       },
       "data": [
        {
         "boxmean": true,
         "boxpoints": "all",
         "jitter": 0.5,
         "line": {
          "width": 1
         },
         "marker": {
          "size": 3
         },
         "name": "Naive Bayesian optimization",
         "type": "box",
         "whiskerwidth": 0.2,
         "y": [
          83,
          68,
          90,
          8,
          47,
          40,
          69,
          24,
          74,
          99,
          99,
          99,
          99,
          13,
          99,
          66,
          52,
          12,
          76,
          21,
          37,
          97,
          20,
          99,
          99,
          99,
          99,
          32,
          99,
          35,
          94,
          32,
          99,
          99,
          55,
          88,
          32,
          24,
          31,
          80,
          82,
          88,
          79,
          20,
          12,
          99,
          66,
          67,
          55,
          62,
          19,
          24,
          6,
          77,
          18,
          90,
          69,
          99,
          47,
          99,
          19,
          21,
          54,
          36,
          57,
          37,
          10,
          45,
          21,
          47,
          56,
          29,
          90,
          87,
          68,
          77,
          82,
          82,
          99,
          91,
          53,
          67,
          21,
          76,
          85,
          69,
          82,
          58,
          69,
          69,
          84,
          92,
          81,
          65,
          99,
          99,
          24,
          90,
          99,
          68,
          63,
          17,
          68,
          71,
          3,
          91,
          68,
          99,
          66,
          57,
          99,
          49,
          81,
          63,
          13,
          49,
          98,
          92,
          59,
          51,
          73,
          19,
          27,
          91,
          51,
          99,
          54,
          68,
          71,
          20,
          69,
          99,
          29,
          14,
          74,
          69,
          7,
          99,
          99,
          99,
          8,
          72,
          58,
          20,
          99,
          57,
          25,
          69,
          30,
          10,
          45,
          95,
          66,
          5,
          12,
          13,
          57,
          83,
          35,
          21
         ]
        },
        {
         "boxmean": true,
         "boxpoints": "all",
         "jitter": 0.5,
         "line": {
          "width": 1
         },
         "marker": {
          "size": 3
         },
         "name": "Warmstarted Bayesian optimization 1",
         "type": "box",
         "whiskerwidth": 0.2,
         "y": [
          2,
          2,
          2,
          2,
          2,
          3,
          3,
          3,
          3,
          3,
          27,
          99,
          99,
          26,
          99,
          30,
          67,
          62,
          68,
          31,
          68,
          99,
          99,
          99,
          92,
          67,
          62,
          18,
          97,
          91,
          6,
          64,
          19,
          71,
          99,
          82,
          33,
          7,
          99,
          66,
          95,
          35,
          68,
          65,
          19,
          74,
          65,
          49,
          78,
          40,
          96,
          94,
          99,
          41,
          63,
          99,
          52,
          81,
          99,
          99,
          3,
          3,
          3,
          3,
          3,
          39,
          36,
          88,
          71,
          53,
          42,
          89,
          63,
          68,
          38,
          28,
          20,
          99,
          76,
          82,
          3,
          3,
          3,
          3,
          3,
          32,
          70,
          61,
          62,
          59,
          32,
          55,
          81,
          76,
          18,
          99,
          54,
          97,
          39,
          46,
          15,
          30,
          18,
          66,
          25,
          3,
          3,
          3,
          3,
          3,
          23,
          67,
          67,
          30,
          99,
          59,
          68,
          87,
          59,
          66,
          1,
          1,
          1,
          1,
          1,
          3,
          3,
          3,
          3,
          3,
          30,
          99,
          75,
          39,
          57,
          32,
          99,
          99,
          99,
          94,
          30,
          44,
          59,
          1,
          25,
          67,
          75,
          28,
          31,
          68,
          51,
          57,
          56,
          21,
          64,
          60,
          97,
          43,
          67,
          29
         ]
        },
        {
         "boxmean": true,
         "boxpoints": "all",
         "jitter": 0.5,
         "line": {
          "width": 1
         },
         "marker": {
          "size": 3
         },
         "name": "Warmstarted Bayesian optimization 1 - equal total configs",
         "type": "box",
         "whiskerwidth": 0.2,
         "y": [
          38,
          53,
          96,
          76,
          97,
          71,
          72,
          72,
          42,
          65,
          67,
          99,
          99,
          99,
          63,
          86,
          62,
          65,
          70,
          31,
          99,
          66,
          36,
          99,
          99,
          29,
          99,
          67,
          99,
          24,
          2,
          2,
          2,
          2,
          2,
          97,
          28,
          52,
          76,
          16,
          21,
          94,
          76,
          15,
          56,
          85,
          70,
          66,
          88,
          21,
          62,
          35,
          20,
          68,
          99,
          76,
          99,
          92,
          96,
          52,
          83,
          70,
          58,
          37,
          70,
          71,
          31,
          9,
          73,
          40,
          37,
          11,
          80,
          67,
          16,
          68,
          67,
          38,
          31,
          22,
          99,
          36,
          79,
          67,
          92,
          24,
          24,
          84,
          21,
          53,
          50,
          45,
          16,
          62,
          20,
          18,
          94,
          50,
          36,
          60,
          68,
          25,
          76,
          67,
          69,
          75,
          78,
          68,
          71,
          33,
          99,
          24,
          80,
          96,
          68,
          75,
          14,
          69,
          68,
          65,
          81,
          37,
          60,
          22,
          57,
          70,
          43,
          78,
          73,
          67,
          28,
          36,
          30,
          46,
          99,
          98,
          25,
          36,
          24,
          24,
          74,
          81,
          66,
          20,
          43,
          75,
          17,
          22,
          36,
          16,
          86,
          10,
          99,
          91,
          70,
          69,
          57,
          44,
          55,
          37
         ]
        },
        {
         "boxmean": true,
         "boxpoints": "all",
         "jitter": 0.5,
         "line": {
          "width": 1
         },
         "marker": {
          "size": 3
         },
         "name": "Warmstarted Bayesian optimization 5",
         "type": "box",
         "whiskerwidth": 0.2,
         "y": [
          0,
          0,
          0,
          0,
          0,
          0,
          0,
          0,
          0,
          0,
          99,
          63,
          99,
          99,
          28,
          60,
          78,
          68,
          31,
          40,
          34,
          25,
          77,
          28,
          63,
          74,
          64,
          58,
          33,
          76,
          4,
          4,
          4,
          4,
          4,
          67,
          79,
          22,
          31,
          28,
          22,
          55,
          3,
          3,
          41,
          25,
          33,
          25,
          68,
          25,
          22,
          25,
          32,
          75,
          69,
          69,
          54,
          61,
          99,
          99,
          3,
          3,
          3,
          3,
          3,
          0,
          0,
          0,
          0,
          0,
          49,
          48,
          42,
          33,
          58,
          20,
          99,
          35,
          83,
          24,
          48,
          73,
          28,
          34,
          68,
          28,
          64,
          33,
          31,
          25,
          30,
          5,
          99,
          71,
          62,
          45,
          99,
          99,
          99,
          67,
          2,
          2,
          2,
          2,
          2,
          0,
          0,
          0,
          0,
          0,
          20,
          99,
          95,
          21,
          23,
          56,
          81,
          27,
          31,
          23,
          3,
          3,
          3,
          3,
          3,
          0,
          0,
          0,
          0,
          0,
          79,
          70,
          65,
          80,
          86,
          25,
          97,
          99,
          99,
          29,
          2,
          2,
          2,
          2,
          2,
          2,
          2,
          2,
          2,
          2,
          63,
          28,
          35,
          28,
          28,
          60,
          67,
          66,
          27,
          61
         ]
        },
        {
         "boxmean": true,
         "boxpoints": "all",
         "jitter": 0.5,
         "line": {
          "width": 1
         },
         "marker": {
          "size": 3
         },
         "name": "Warmstarted Bayesian optimization 5 - equal total configs",
         "type": "box",
         "whiskerwidth": 0.2,
         "y": [
          99,
          76,
          28,
          53,
          76,
          67,
          57,
          30,
          36,
          25,
          93,
          99,
          99,
          99,
          99,
          94,
          68,
          56,
          99,
          62,
          53,
          99,
          20,
          92,
          25,
          41,
          44,
          99,
          32,
          45,
          99,
          99,
          48,
          84,
          15,
          33,
          85,
          34,
          33,
          34,
          36,
          29,
          67,
          40,
          32,
          68,
          44,
          71,
          73,
          32,
          32,
          28,
          45,
          71,
          65,
          99,
          29,
          42,
          25,
          99,
          67,
          37,
          60,
          16,
          86,
          88,
          67,
          66,
          65,
          67,
          63,
          31,
          10,
          43,
          64,
          35,
          82,
          31,
          92,
          52,
          54,
          87,
          90,
          89,
          61,
          0,
          0,
          0,
          0,
          0,
          30,
          23,
          6,
          33,
          35,
          85,
          45,
          99,
          78,
          99,
          99,
          30,
          74,
          47,
          39,
          4,
          4,
          4,
          4,
          4,
          68,
          66,
          63,
          99,
          52,
          93,
          27,
          99,
          30,
          96,
          69,
          32,
          20,
          36,
          32,
          34,
          32,
          71,
          28,
          72,
          37,
          41,
          37,
          22,
          34,
          94,
          56,
          49,
          63,
          99,
          3,
          3,
          3,
          3,
          3,
          39,
          52,
          28,
          39,
          32,
          47,
          15,
          29,
          51,
          67,
          64,
          32,
          32,
          36,
          86
         ]
        },
        {
         "boxmean": true,
         "boxpoints": "all",
         "jitter": 0.5,
         "line": {
          "width": 1
         },
         "marker": {
          "size": 3
         },
         "name": "Warmstarted Bayesian optimization 10",
         "type": "box",
         "whiskerwidth": 0.2,
         "y": [
          0,
          0,
          0,
          0,
          0,
          0,
          0,
          0,
          0,
          0,
          99,
          61,
          99,
          99,
          58,
          38,
          65,
          13,
          27,
          36,
          99,
          87,
          99,
          36,
          85,
          67,
          99,
          66,
          68,
          99,
          99,
          99,
          99,
          39,
          99,
          2,
          2,
          2,
          2,
          2,
          1,
          1,
          1,
          1,
          20,
          77,
          69,
          25,
          67,
          33,
          33,
          37,
          94,
          32,
          86,
          69,
          74,
          72,
          74,
          55,
          1,
          1,
          1,
          1,
          1,
          0,
          0,
          0,
          0,
          0,
          24,
          42,
          44,
          41,
          75,
          54,
          77,
          26,
          27,
          29,
          2,
          2,
          2,
          2,
          2,
          75,
          29,
          33,
          56,
          26,
          4,
          4,
          4,
          4,
          4,
          2,
          2,
          2,
          2,
          2,
          0,
          0,
          0,
          0,
          0,
          0,
          0,
          0,
          0,
          0,
          86,
          68,
          99,
          99,
          99,
          51,
          81,
          20,
          86,
          71,
          2,
          2,
          2,
          2,
          2,
          0,
          0,
          0,
          0,
          0,
          99,
          27,
          75,
          42,
          88,
          77,
          99,
          34,
          99,
          68,
          2,
          2,
          2,
          2,
          2,
          4,
          4,
          4,
          4,
          4,
          41,
          28,
          69,
          22,
          67,
          66,
          2,
          44,
          32,
          58
         ]
        },
        {
         "boxmean": true,
         "boxpoints": "all",
         "jitter": 0.5,
         "line": {
          "width": 1
         },
         "marker": {
          "size": 3
         },
         "name": "Warmstarted Bayesian optimization 10 - equal total configs",
         "type": "box",
         "whiskerwidth": 0.2,
         "y": [
          64,
          32,
          22,
          49,
          94,
          57,
          99,
          75,
          69,
          50,
          99,
          99,
          33,
          11,
          99,
          37,
          69,
          27,
          86,
          34,
          99,
          99,
          99,
          33,
          36,
          30,
          32,
          72,
          95,
          69,
          99,
          20,
          99,
          20,
          99,
          0,
          0,
          0,
          0,
          0,
          77,
          63,
          28,
          69,
          82,
          4,
          4,
          4,
          4,
          4,
          33,
          51,
          34,
          32,
          30,
          28,
          99,
          47,
          67,
          20,
          40,
          71,
          25,
          53,
          34,
          36,
          92,
          88,
          75,
          39,
          26,
          74,
          22,
          25,
          75,
          99,
          94,
          42,
          18,
          31,
          53,
          20,
          88,
          90,
          84,
          1,
          1,
          1,
          1,
          1,
          36,
          35,
          31,
          33,
          41,
          1,
          1,
          1,
          1,
          1,
          2,
          2,
          2,
          2,
          2,
          1,
          1,
          1,
          1,
          1,
          56,
          44,
          69,
          62,
          16,
          23,
          78,
          99,
          20,
          68,
          1,
          1,
          1,
          1,
          1,
          3,
          3,
          3,
          3,
          3,
          72,
          64,
          34,
          69,
          34,
          99,
          20,
          99,
          88,
          99,
          0,
          0,
          0,
          0,
          0,
          1,
          1,
          1,
          1,
          1,
          69,
          69,
          37,
          39,
          70,
          77,
          82,
          55,
          81,
          28
         ]
        },
        {
         "boxmean": true,
         "boxpoints": "all",
         "jitter": 0.5,
         "line": {
          "width": 1
         },
         "marker": {
          "size": 3
         },
         "name": "Warmstarted Bayesian optimization 15",
         "type": "box",
         "whiskerwidth": 0.2,
         "y": [
          0,
          0,
          0,
          0,
          0,
          0,
          0,
          0,
          0,
          0,
          99,
          99,
          61,
          63,
          99,
          34,
          67,
          50,
          97,
          94,
          99,
          29,
          99,
          99,
          74,
          99,
          49,
          63,
          53,
          99,
          45,
          11,
          20,
          99,
          99,
          2,
          2,
          2,
          2,
          2,
          0,
          0,
          67,
          0,
          33,
          3,
          3,
          3,
          3,
          3,
          68,
          78,
          38,
          68,
          7,
          55,
          99,
          20,
          71,
          79,
          0,
          0,
          0,
          0,
          0,
          0,
          0,
          0,
          0,
          0,
          51,
          56,
          26,
          89,
          28,
          3,
          74,
          78,
          69,
          33,
          3,
          3,
          3,
          3,
          3,
          3,
          3,
          3,
          3,
          3,
          32,
          44,
          24,
          23,
          67,
          2,
          2,
          2,
          2,
          2,
          0,
          0,
          0,
          0,
          0,
          0,
          0,
          0,
          0,
          0,
          99,
          74,
          71,
          37,
          79,
          76,
          75,
          40,
          40,
          30,
          0,
          0,
          0,
          0,
          0,
          0,
          0,
          0,
          0,
          0,
          10,
          30,
          24,
          99,
          99,
          5,
          59,
          92,
          97,
          35,
          69,
          28,
          24,
          69,
          26,
          25,
          37,
          25,
          55,
          38,
          70,
          71,
          24,
          28,
          21,
          69,
          77,
          28,
          92,
          78
         ]
        },
        {
         "boxmean": true,
         "boxpoints": "all",
         "jitter": 0.5,
         "line": {
          "width": 1
         },
         "marker": {
          "size": 3
         },
         "name": "Warmstarted Bayesian optimization 15 - equal total configs",
         "type": "box",
         "whiskerwidth": 0.2,
         "y": [
          0,
          0,
          0,
          0,
          0,
          0,
          0,
          0,
          0,
          0,
          99,
          49,
          97,
          26,
          99,
          55,
          93,
          54,
          99,
          20,
          99,
          99,
          99,
          99,
          99,
          81,
          29,
          82,
          85,
          29,
          99,
          55,
          99,
          99,
          99,
          0,
          27,
          0,
          93,
          11,
          65,
          1,
          1,
          7,
          55,
          69,
          53,
          24,
          68,
          69,
          28,
          40,
          54,
          33,
          25,
          73,
          28,
          68,
          31,
          28,
          0,
          0,
          0,
          0,
          0,
          0,
          0,
          0,
          0,
          0,
          47,
          50,
          66,
          70,
          51,
          67,
          20,
          21,
          99,
          88,
          71,
          86,
          25,
          21,
          28,
          56,
          3,
          57,
          64,
          31,
          28,
          57,
          37,
          65,
          32,
          99,
          29,
          27,
          26,
          5,
          0,
          0,
          0,
          0,
          0,
          0,
          0,
          0,
          0,
          0,
          23,
          32,
          23,
          84,
          40,
          71,
          28,
          21,
          79,
          35,
          0,
          0,
          0,
          0,
          0,
          0,
          0,
          0,
          0,
          0,
          22,
          68,
          36,
          37,
          53,
          73,
          99,
          28,
          34,
          76,
          68,
          75,
          30,
          43,
          31,
          2,
          2,
          2,
          2,
          2,
          30,
          79,
          62,
          21,
          23,
          60,
          40,
          36,
          38,
          28
         ]
        },
        {
         "boxmean": true,
         "boxpoints": "all",
         "jitter": 0.5,
         "line": {
          "width": 1
         },
         "marker": {
          "size": 3
         },
         "name": "Allround Bayesian optimization",
         "type": "box",
         "whiskerwidth": 0.2,
         "y": [
          0,
          0,
          0,
          0,
          0,
          0,
          0,
          0,
          0,
          0,
          68,
          99,
          99,
          35,
          99,
          3,
          3,
          64,
          20,
          89,
          32,
          99,
          25,
          99,
          99,
          6,
          99,
          66,
          98,
          28,
          23,
          78,
          99,
          72,
          26,
          52,
          67,
          29,
          84,
          65,
          21,
          0,
          78,
          69,
          0,
          24,
          23,
          75,
          20,
          68,
          45,
          72,
          27,
          65,
          71,
          35,
          27,
          30,
          99,
          56,
          0,
          0,
          0,
          0,
          0,
          0,
          0,
          0,
          0,
          0,
          55,
          57,
          44,
          21,
          28,
          23,
          68,
          31,
          27,
          2,
          2,
          55,
          74,
          25,
          72,
          4,
          4,
          4,
          4,
          4,
          75,
          35,
          72,
          21,
          56,
          99,
          40,
          41,
          99,
          78,
          0,
          0,
          0,
          0,
          0,
          0,
          0,
          0,
          0,
          0,
          36,
          90,
          84,
          27,
          99,
          77,
          71,
          97,
          71,
          23,
          0,
          0,
          0,
          0,
          0,
          0,
          0,
          0,
          0,
          0,
          93,
          79,
          67,
          69,
          99,
          99,
          35,
          69,
          99,
          93,
          72,
          36,
          20,
          21,
          20,
          17,
          30,
          71,
          34,
          58,
          81,
          90,
          50,
          39,
          99,
          35,
          25,
          24,
          47,
          63
         ]
        },
        {
         "boxmean": true,
         "boxpoints": "all",
         "jitter": 0.5,
         "line": {
          "width": 1
         },
         "marker": {
          "size": 3
         },
         "name": "Allround Bayesian optimization - equal total configs",
         "type": "box",
         "whiskerwidth": 0.2,
         "y": [
          0,
          0,
          0,
          0,
          0,
          0,
          0,
          0,
          0,
          0,
          99,
          99,
          39,
          99,
          31,
          61,
          4,
          48,
          4,
          34,
          99,
          84,
          99,
          71,
          99,
          34,
          71,
          99,
          99,
          91,
          21,
          32,
          75,
          99,
          24,
          32,
          97,
          54,
          68,
          94,
          8,
          60,
          0,
          25,
          0,
          59,
          66,
          68,
          72,
          26,
          28,
          69,
          20,
          35,
          47,
          73,
          99,
          99,
          38,
          70,
          0,
          0,
          0,
          0,
          0,
          0,
          0,
          0,
          0,
          0,
          35,
          77,
          10,
          35,
          67,
          67,
          74,
          60,
          78,
          69,
          2,
          2,
          2,
          2,
          2,
          28,
          67,
          28,
          67,
          38,
          15,
          30,
          88,
          98,
          69,
          99,
          40,
          73,
          54,
          99,
          0,
          0,
          0,
          0,
          0,
          0,
          0,
          0,
          0,
          0,
          78,
          70,
          35,
          67,
          23,
          53,
          69,
          34,
          77,
          36,
          0,
          0,
          0,
          0,
          0,
          0,
          0,
          0,
          0,
          0,
          73,
          99,
          67,
          47,
          84,
          23,
          79,
          3,
          83,
          3,
          3,
          3,
          3,
          3,
          3,
          36,
          58,
          28,
          30,
          28,
          20,
          26,
          29,
          48,
          69,
          34,
          58,
          77,
          43,
          54
         ]
        }
       ],
       "layout": {
        "autosize": true,
        "showlegend": false,
        "template": {
         "data": {
          "bar": [
           {
            "error_x": {
             "color": "#2a3f5f"
            },
            "error_y": {
             "color": "#2a3f5f"
            },
            "marker": {
             "line": {
              "color": "#E5ECF6",
              "width": 0.5
             }
            },
            "type": "bar"
           }
          ],
          "barpolar": [
           {
            "marker": {
             "line": {
              "color": "#E5ECF6",
              "width": 0.5
             }
            },
            "type": "barpolar"
           }
          ],
          "carpet": [
           {
            "aaxis": {
             "endlinecolor": "#2a3f5f",
             "gridcolor": "white",
             "linecolor": "white",
             "minorgridcolor": "white",
             "startlinecolor": "#2a3f5f"
            },
            "baxis": {
             "endlinecolor": "#2a3f5f",
             "gridcolor": "white",
             "linecolor": "white",
             "minorgridcolor": "white",
             "startlinecolor": "#2a3f5f"
            },
            "type": "carpet"
           }
          ],
          "choropleth": [
           {
            "colorbar": {
             "outlinewidth": 0,
             "ticks": ""
            },
            "type": "choropleth"
           }
          ],
          "contour": [
           {
            "colorbar": {
             "outlinewidth": 0,
             "ticks": ""
            },
            "colorscale": [
             [
              0,
              "#0d0887"
             ],
             [
              0.1111111111111111,
              "#46039f"
             ],
             [
              0.2222222222222222,
              "#7201a8"
             ],
             [
              0.3333333333333333,
              "#9c179e"
             ],
             [
              0.4444444444444444,
              "#bd3786"
             ],
             [
              0.5555555555555556,
              "#d8576b"
             ],
             [
              0.6666666666666666,
              "#ed7953"
             ],
             [
              0.7777777777777778,
              "#fb9f3a"
             ],
             [
              0.8888888888888888,
              "#fdca26"
             ],
             [
              1,
              "#f0f921"
             ]
            ],
            "type": "contour"
           }
          ],
          "contourcarpet": [
           {
            "colorbar": {
             "outlinewidth": 0,
             "ticks": ""
            },
            "type": "contourcarpet"
           }
          ],
          "heatmap": [
           {
            "colorbar": {
             "outlinewidth": 0,
             "ticks": ""
            },
            "colorscale": [
             [
              0,
              "#0d0887"
             ],
             [
              0.1111111111111111,
              "#46039f"
             ],
             [
              0.2222222222222222,
              "#7201a8"
             ],
             [
              0.3333333333333333,
              "#9c179e"
             ],
             [
              0.4444444444444444,
              "#bd3786"
             ],
             [
              0.5555555555555556,
              "#d8576b"
             ],
             [
              0.6666666666666666,
              "#ed7953"
             ],
             [
              0.7777777777777778,
              "#fb9f3a"
             ],
             [
              0.8888888888888888,
              "#fdca26"
             ],
             [
              1,
              "#f0f921"
             ]
            ],
            "type": "heatmap"
           }
          ],
          "heatmapgl": [
           {
            "colorbar": {
             "outlinewidth": 0,
             "ticks": ""
            },
            "colorscale": [
             [
              0,
              "#0d0887"
             ],
             [
              0.1111111111111111,
              "#46039f"
             ],
             [
              0.2222222222222222,
              "#7201a8"
             ],
             [
              0.3333333333333333,
              "#9c179e"
             ],
             [
              0.4444444444444444,
              "#bd3786"
             ],
             [
              0.5555555555555556,
              "#d8576b"
             ],
             [
              0.6666666666666666,
              "#ed7953"
             ],
             [
              0.7777777777777778,
              "#fb9f3a"
             ],
             [
              0.8888888888888888,
              "#fdca26"
             ],
             [
              1,
              "#f0f921"
             ]
            ],
            "type": "heatmapgl"
           }
          ],
          "histogram": [
           {
            "marker": {
             "colorbar": {
              "outlinewidth": 0,
              "ticks": ""
             }
            },
            "type": "histogram"
           }
          ],
          "histogram2d": [
           {
            "colorbar": {
             "outlinewidth": 0,
             "ticks": ""
            },
            "colorscale": [
             [
              0,
              "#0d0887"
             ],
             [
              0.1111111111111111,
              "#46039f"
             ],
             [
              0.2222222222222222,
              "#7201a8"
             ],
             [
              0.3333333333333333,
              "#9c179e"
             ],
             [
              0.4444444444444444,
              "#bd3786"
             ],
             [
              0.5555555555555556,
              "#d8576b"
             ],
             [
              0.6666666666666666,
              "#ed7953"
             ],
             [
              0.7777777777777778,
              "#fb9f3a"
             ],
             [
              0.8888888888888888,
              "#fdca26"
             ],
             [
              1,
              "#f0f921"
             ]
            ],
            "type": "histogram2d"
           }
          ],
          "histogram2dcontour": [
           {
            "colorbar": {
             "outlinewidth": 0,
             "ticks": ""
            },
            "colorscale": [
             [
              0,
              "#0d0887"
             ],
             [
              0.1111111111111111,
              "#46039f"
             ],
             [
              0.2222222222222222,
              "#7201a8"
             ],
             [
              0.3333333333333333,
              "#9c179e"
             ],
             [
              0.4444444444444444,
              "#bd3786"
             ],
             [
              0.5555555555555556,
              "#d8576b"
             ],
             [
              0.6666666666666666,
              "#ed7953"
             ],
             [
              0.7777777777777778,
              "#fb9f3a"
             ],
             [
              0.8888888888888888,
              "#fdca26"
             ],
             [
              1,
              "#f0f921"
             ]
            ],
            "type": "histogram2dcontour"
           }
          ],
          "mesh3d": [
           {
            "colorbar": {
             "outlinewidth": 0,
             "ticks": ""
            },
            "type": "mesh3d"
           }
          ],
          "parcoords": [
           {
            "line": {
             "colorbar": {
              "outlinewidth": 0,
              "ticks": ""
             }
            },
            "type": "parcoords"
           }
          ],
          "scatter": [
           {
            "marker": {
             "colorbar": {
              "outlinewidth": 0,
              "ticks": ""
             }
            },
            "type": "scatter"
           }
          ],
          "scatter3d": [
           {
            "line": {
             "colorbar": {
              "outlinewidth": 0,
              "ticks": ""
             }
            },
            "marker": {
             "colorbar": {
              "outlinewidth": 0,
              "ticks": ""
             }
            },
            "type": "scatter3d"
           }
          ],
          "scattercarpet": [
           {
            "marker": {
             "colorbar": {
              "outlinewidth": 0,
              "ticks": ""
             }
            },
            "type": "scattercarpet"
           }
          ],
          "scattergeo": [
           {
            "marker": {
             "colorbar": {
              "outlinewidth": 0,
              "ticks": ""
             }
            },
            "type": "scattergeo"
           }
          ],
          "scattergl": [
           {
            "marker": {
             "colorbar": {
              "outlinewidth": 0,
              "ticks": ""
             }
            },
            "type": "scattergl"
           }
          ],
          "scattermapbox": [
           {
            "marker": {
             "colorbar": {
              "outlinewidth": 0,
              "ticks": ""
             }
            },
            "type": "scattermapbox"
           }
          ],
          "scatterpolar": [
           {
            "marker": {
             "colorbar": {
              "outlinewidth": 0,
              "ticks": ""
             }
            },
            "type": "scatterpolar"
           }
          ],
          "scatterpolargl": [
           {
            "marker": {
             "colorbar": {
              "outlinewidth": 0,
              "ticks": ""
             }
            },
            "type": "scatterpolargl"
           }
          ],
          "scatterternary": [
           {
            "marker": {
             "colorbar": {
              "outlinewidth": 0,
              "ticks": ""
             }
            },
            "type": "scatterternary"
           }
          ],
          "surface": [
           {
            "colorbar": {
             "outlinewidth": 0,
             "ticks": ""
            },
            "colorscale": [
             [
              0,
              "#0d0887"
             ],
             [
              0.1111111111111111,
              "#46039f"
             ],
             [
              0.2222222222222222,
              "#7201a8"
             ],
             [
              0.3333333333333333,
              "#9c179e"
             ],
             [
              0.4444444444444444,
              "#bd3786"
             ],
             [
              0.5555555555555556,
              "#d8576b"
             ],
             [
              0.6666666666666666,
              "#ed7953"
             ],
             [
              0.7777777777777778,
              "#fb9f3a"
             ],
             [
              0.8888888888888888,
              "#fdca26"
             ],
             [
              1,
              "#f0f921"
             ]
            ],
            "type": "surface"
           }
          ],
          "table": [
           {
            "cells": {
             "fill": {
              "color": "#EBF0F8"
             },
             "line": {
              "color": "white"
             }
            },
            "header": {
             "fill": {
              "color": "#C8D4E3"
             },
             "line": {
              "color": "white"
             }
            },
            "type": "table"
           }
          ]
         },
         "layout": {
          "annotationdefaults": {
           "arrowcolor": "#2a3f5f",
           "arrowhead": 0,
           "arrowwidth": 1
          },
          "colorscale": {
           "diverging": [
            [
             0,
             "#8e0152"
            ],
            [
             0.1,
             "#c51b7d"
            ],
            [
             0.2,
             "#de77ae"
            ],
            [
             0.3,
             "#f1b6da"
            ],
            [
             0.4,
             "#fde0ef"
            ],
            [
             0.5,
             "#f7f7f7"
            ],
            [
             0.6,
             "#e6f5d0"
            ],
            [
             0.7,
             "#b8e186"
            ],
            [
             0.8,
             "#7fbc41"
            ],
            [
             0.9,
             "#4d9221"
            ],
            [
             1,
             "#276419"
            ]
           ],
           "sequential": [
            [
             0,
             "#0d0887"
            ],
            [
             0.1111111111111111,
             "#46039f"
            ],
            [
             0.2222222222222222,
             "#7201a8"
            ],
            [
             0.3333333333333333,
             "#9c179e"
            ],
            [
             0.4444444444444444,
             "#bd3786"
            ],
            [
             0.5555555555555556,
             "#d8576b"
            ],
            [
             0.6666666666666666,
             "#ed7953"
            ],
            [
             0.7777777777777778,
             "#fb9f3a"
            ],
            [
             0.8888888888888888,
             "#fdca26"
            ],
            [
             1,
             "#f0f921"
            ]
           ],
           "sequentialminus": [
            [
             0,
             "#0d0887"
            ],
            [
             0.1111111111111111,
             "#46039f"
            ],
            [
             0.2222222222222222,
             "#7201a8"
            ],
            [
             0.3333333333333333,
             "#9c179e"
            ],
            [
             0.4444444444444444,
             "#bd3786"
            ],
            [
             0.5555555555555556,
             "#d8576b"
            ],
            [
             0.6666666666666666,
             "#ed7953"
            ],
            [
             0.7777777777777778,
             "#fb9f3a"
            ],
            [
             0.8888888888888888,
             "#fdca26"
            ],
            [
             1,
             "#f0f921"
            ]
           ]
          },
          "colorway": [
           "#636efa",
           "#EF553B",
           "#00cc96",
           "#ab63fa",
           "#FFA15A",
           "#19d3f3",
           "#FF6692",
           "#B6E880",
           "#FF97FF",
           "#FECB52"
          ],
          "font": {
           "color": "#2a3f5f"
          },
          "geo": {
           "bgcolor": "white",
           "lakecolor": "white",
           "landcolor": "#E5ECF6",
           "showlakes": true,
           "showland": true,
           "subunitcolor": "white"
          },
          "hoverlabel": {
           "align": "left"
          },
          "hovermode": "closest",
          "mapbox": {
           "style": "light"
          },
          "paper_bgcolor": "white",
          "plot_bgcolor": "#E5ECF6",
          "polar": {
           "angularaxis": {
            "gridcolor": "white",
            "linecolor": "white",
            "ticks": ""
           },
           "bgcolor": "#E5ECF6",
           "radialaxis": {
            "gridcolor": "white",
            "linecolor": "white",
            "ticks": ""
           }
          },
          "scene": {
           "xaxis": {
            "backgroundcolor": "#E5ECF6",
            "gridcolor": "white",
            "gridwidth": 2,
            "linecolor": "white",
            "showbackground": true,
            "ticks": "",
            "zerolinecolor": "white"
           },
           "yaxis": {
            "backgroundcolor": "#E5ECF6",
            "gridcolor": "white",
            "gridwidth": 2,
            "linecolor": "white",
            "showbackground": true,
            "ticks": "",
            "zerolinecolor": "white"
           },
           "zaxis": {
            "backgroundcolor": "#E5ECF6",
            "gridcolor": "white",
            "gridwidth": 2,
            "linecolor": "white",
            "showbackground": true,
            "ticks": "",
            "zerolinecolor": "white"
           }
          },
          "shapedefaults": {
           "line": {
            "color": "#2a3f5f"
           }
          },
          "ternary": {
           "aaxis": {
            "gridcolor": "white",
            "linecolor": "white",
            "ticks": ""
           },
           "baxis": {
            "gridcolor": "white",
            "linecolor": "white",
            "ticks": ""
           },
           "bgcolor": "#E5ECF6",
           "caxis": {
            "gridcolor": "white",
            "linecolor": "white",
            "ticks": ""
           }
          },
          "title": {
           "x": 0.05
          },
          "xaxis": {
           "automargin": true,
           "gridcolor": "white",
           "linecolor": "white",
           "ticks": "",
           "zerolinecolor": "white",
           "zerolinewidth": 2
          },
          "yaxis": {
           "automargin": true,
           "gridcolor": "white",
           "linecolor": "white",
           "ticks": "",
           "zerolinecolor": "white",
           "zerolinewidth": 2
          }
         }
        },
        "xaxis": {
         "autorange": true,
         "range": [
          -0.5260047281323877,
          10.5
         ],
         "type": "category"
        },
        "yaxis": {
         "autorange": true,
         "range": [
          -5.499999999999999,
          104.5
         ],
         "title": {
          "text": "Iterations"
         },
         "type": "linear"
        }
       }
      },
      "image/png": "[encoded data removed]",
      "text/html": [
       "<div>\n",
       "        \n",
       "        \n",
       "            <div id=\"748a20d3-1547-474c-9340-28399cb53c9c\" class=\"plotly-graph-div\" style=\"height:525px; width:100%;\"></div>\n",
       "            <script type=\"text/javascript\">\n",
       "                require([\"plotly\"], function(Plotly) {\n",
       "                    window.PLOTLYENV=window.PLOTLYENV || {};\n",
       "                    \n",
       "                if (document.getElementById(\"748a20d3-1547-474c-9340-28399cb53c9c\")) {\n",
       "                    Plotly.newPlot(\n",
       "                        '748a20d3-1547-474c-9340-28399cb53c9c',\n",
       "                        [{\"boxmean\": true, \"boxpoints\": \"all\", \"jitter\": 0.5, \"line\": {\"width\": 1}, \"marker\": {\"size\": 3}, \"name\": \"Naive Bayesian optimization\", \"type\": \"box\", \"whiskerwidth\": 0.2, \"y\": [83, 68, 90, 8, 47, 40, 69, 24, 74, 99, 99, 99, 99, 13, 99, 66, 52, 12, 76, 21, 37, 97, 20, 99, 99, 99, 99, 32, 99, 35, 94, 32, 99, 99, 55, 88, 32, 24, 31, 80, 82, 88, 79, 20, 12, 99, 66, 67, 55, 62, 19, 24, 6, 77, 18, 90, 69, 99, 47, 99, 19, 21, 54, 36, 57, 37, 10, 45, 21, 47, 56, 29, 90, 87, 68, 77, 82, 82, 99, 91, 53, 67, 21, 76, 85, 69, 82, 58, 69, 69, 84, 92, 81, 65, 99, 99, 24, 90, 99, 68, 63, 17, 68, 71, 3, 91, 68, 99, 66, 57, 99, 49, 81, 63, 13, 49, 98, 92, 59, 51, 73, 19, 27, 91, 51, 99, 54, 68, 71, 20, 69, 99, 29, 14, 74, 69, 7, 99, 99, 99, 8, 72, 58, 20, 99, 57, 25, 69, 30, 10, 45, 95, 66, 5, 12, 13, 57, 83, 35, 21]}, {\"boxmean\": true, \"boxpoints\": \"all\", \"jitter\": 0.5, \"line\": {\"width\": 1}, \"marker\": {\"size\": 3}, \"name\": \"Warmstarted Bayesian optimization 1\", \"type\": \"box\", \"whiskerwidth\": 0.2, \"y\": [2, 2, 2, 2, 2, 3, 3, 3, 3, 3, 27, 99, 99, 26, 99, 30, 67, 62, 68, 31, 68, 99, 99, 99, 92, 67, 62, 18, 97, 91, 6, 64, 19, 71, 99, 82, 33, 7, 99, 66, 95, 35, 68, 65, 19, 74, 65, 49, 78, 40, 96, 94, 99, 41, 63, 99, 52, 81, 99, 99, 3, 3, 3, 3, 3, 39, 36, 88, 71, 53, 42, 89, 63, 68, 38, 28, 20, 99, 76, 82, 3, 3, 3, 3, 3, 32, 70, 61, 62, 59, 32, 55, 81, 76, 18, 99, 54, 97, 39, 46, 15, 30, 18, 66, 25, 3, 3, 3, 3, 3, 23, 67, 67, 30, 99, 59, 68, 87, 59, 66, 1, 1, 1, 1, 1, 3, 3, 3, 3, 3, 30, 99, 75, 39, 57, 32, 99, 99, 99, 94, 30, 44, 59, 1, 25, 67, 75, 28, 31, 68, 51, 57, 56, 21, 64, 60, 97, 43, 67, 29]}, {\"boxmean\": true, \"boxpoints\": \"all\", \"jitter\": 0.5, \"line\": {\"width\": 1}, \"marker\": {\"size\": 3}, \"name\": \"Warmstarted Bayesian optimization 1 - equal total configs\", \"type\": \"box\", \"whiskerwidth\": 0.2, \"y\": [38, 53, 96, 76, 97, 71, 72, 72, 42, 65, 67, 99, 99, 99, 63, 86, 62, 65, 70, 31, 99, 66, 36, 99, 99, 29, 99, 67, 99, 24, 2, 2, 2, 2, 2, 97, 28, 52, 76, 16, 21, 94, 76, 15, 56, 85, 70, 66, 88, 21, 62, 35, 20, 68, 99, 76, 99, 92, 96, 52, 83, 70, 58, 37, 70, 71, 31, 9, 73, 40, 37, 11, 80, 67, 16, 68, 67, 38, 31, 22, 99, 36, 79, 67, 92, 24, 24, 84, 21, 53, 50, 45, 16, 62, 20, 18, 94, 50, 36, 60, 68, 25, 76, 67, 69, 75, 78, 68, 71, 33, 99, 24, 80, 96, 68, 75, 14, 69, 68, 65, 81, 37, 60, 22, 57, 70, 43, 78, 73, 67, 28, 36, 30, 46, 99, 98, 25, 36, 24, 24, 74, 81, 66, 20, 43, 75, 17, 22, 36, 16, 86, 10, 99, 91, 70, 69, 57, 44, 55, 37]}, {\"boxmean\": true, \"boxpoints\": \"all\", \"jitter\": 0.5, \"line\": {\"width\": 1}, \"marker\": {\"size\": 3}, \"name\": \"Warmstarted Bayesian optimization 5\", \"type\": \"box\", \"whiskerwidth\": 0.2, \"y\": [0, 0, 0, 0, 0, 0, 0, 0, 0, 0, 99, 63, 99, 99, 28, 60, 78, 68, 31, 40, 34, 25, 77, 28, 63, 74, 64, 58, 33, 76, 4, 4, 4, 4, 4, 67, 79, 22, 31, 28, 22, 55, 3, 3, 41, 25, 33, 25, 68, 25, 22, 25, 32, 75, 69, 69, 54, 61, 99, 99, 3, 3, 3, 3, 3, 0, 0, 0, 0, 0, 49, 48, 42, 33, 58, 20, 99, 35, 83, 24, 48, 73, 28, 34, 68, 28, 64, 33, 31, 25, 30, 5, 99, 71, 62, 45, 99, 99, 99, 67, 2, 2, 2, 2, 2, 0, 0, 0, 0, 0, 20, 99, 95, 21, 23, 56, 81, 27, 31, 23, 3, 3, 3, 3, 3, 0, 0, 0, 0, 0, 79, 70, 65, 80, 86, 25, 97, 99, 99, 29, 2, 2, 2, 2, 2, 2, 2, 2, 2, 2, 63, 28, 35, 28, 28, 60, 67, 66, 27, 61]}, {\"boxmean\": true, \"boxpoints\": \"all\", \"jitter\": 0.5, \"line\": {\"width\": 1}, \"marker\": {\"size\": 3}, \"name\": \"Warmstarted Bayesian optimization 5 - equal total configs\", \"type\": \"box\", \"whiskerwidth\": 0.2, \"y\": [99, 76, 28, 53, 76, 67, 57, 30, 36, 25, 93, 99, 99, 99, 99, 94, 68, 56, 99, 62, 53, 99, 20, 92, 25, 41, 44, 99, 32, 45, 99, 99, 48, 84, 15, 33, 85, 34, 33, 34, 36, 29, 67, 40, 32, 68, 44, 71, 73, 32, 32, 28, 45, 71, 65, 99, 29, 42, 25, 99, 67, 37, 60, 16, 86, 88, 67, 66, 65, 67, 63, 31, 10, 43, 64, 35, 82, 31, 92, 52, 54, 87, 90, 89, 61, 0, 0, 0, 0, 0, 30, 23, 6, 33, 35, 85, 45, 99, 78, 99, 99, 30, 74, 47, 39, 4, 4, 4, 4, 4, 68, 66, 63, 99, 52, 93, 27, 99, 30, 96, 69, 32, 20, 36, 32, 34, 32, 71, 28, 72, 37, 41, 37, 22, 34, 94, 56, 49, 63, 99, 3, 3, 3, 3, 3, 39, 52, 28, 39, 32, 47, 15, 29, 51, 67, 64, 32, 32, 36, 86]}, {\"boxmean\": true, \"boxpoints\": \"all\", \"jitter\": 0.5, \"line\": {\"width\": 1}, \"marker\": {\"size\": 3}, \"name\": \"Warmstarted Bayesian optimization 10\", \"type\": \"box\", \"whiskerwidth\": 0.2, \"y\": [0, 0, 0, 0, 0, 0, 0, 0, 0, 0, 99, 61, 99, 99, 58, 38, 65, 13, 27, 36, 99, 87, 99, 36, 85, 67, 99, 66, 68, 99, 99, 99, 99, 39, 99, 2, 2, 2, 2, 2, 1, 1, 1, 1, 20, 77, 69, 25, 67, 33, 33, 37, 94, 32, 86, 69, 74, 72, 74, 55, 1, 1, 1, 1, 1, 0, 0, 0, 0, 0, 24, 42, 44, 41, 75, 54, 77, 26, 27, 29, 2, 2, 2, 2, 2, 75, 29, 33, 56, 26, 4, 4, 4, 4, 4, 2, 2, 2, 2, 2, 0, 0, 0, 0, 0, 0, 0, 0, 0, 0, 86, 68, 99, 99, 99, 51, 81, 20, 86, 71, 2, 2, 2, 2, 2, 0, 0, 0, 0, 0, 99, 27, 75, 42, 88, 77, 99, 34, 99, 68, 2, 2, 2, 2, 2, 4, 4, 4, 4, 4, 41, 28, 69, 22, 67, 66, 2, 44, 32, 58]}, {\"boxmean\": true, \"boxpoints\": \"all\", \"jitter\": 0.5, \"line\": {\"width\": 1}, \"marker\": {\"size\": 3}, \"name\": \"Warmstarted Bayesian optimization 10 - equal total configs\", \"type\": \"box\", \"whiskerwidth\": 0.2, \"y\": [64, 32, 22, 49, 94, 57, 99, 75, 69, 50, 99, 99, 33, 11, 99, 37, 69, 27, 86, 34, 99, 99, 99, 33, 36, 30, 32, 72, 95, 69, 99, 20, 99, 20, 99, 0, 0, 0, 0, 0, 77, 63, 28, 69, 82, 4, 4, 4, 4, 4, 33, 51, 34, 32, 30, 28, 99, 47, 67, 20, 40, 71, 25, 53, 34, 36, 92, 88, 75, 39, 26, 74, 22, 25, 75, 99, 94, 42, 18, 31, 53, 20, 88, 90, 84, 1, 1, 1, 1, 1, 36, 35, 31, 33, 41, 1, 1, 1, 1, 1, 2, 2, 2, 2, 2, 1, 1, 1, 1, 1, 56, 44, 69, 62, 16, 23, 78, 99, 20, 68, 1, 1, 1, 1, 1, 3, 3, 3, 3, 3, 72, 64, 34, 69, 34, 99, 20, 99, 88, 99, 0, 0, 0, 0, 0, 1, 1, 1, 1, 1, 69, 69, 37, 39, 70, 77, 82, 55, 81, 28]}, {\"boxmean\": true, \"boxpoints\": \"all\", \"jitter\": 0.5, \"line\": {\"width\": 1}, \"marker\": {\"size\": 3}, \"name\": \"Warmstarted Bayesian optimization 15\", \"type\": \"box\", \"whiskerwidth\": 0.2, \"y\": [0, 0, 0, 0, 0, 0, 0, 0, 0, 0, 99, 99, 61, 63, 99, 34, 67, 50, 97, 94, 99, 29, 99, 99, 74, 99, 49, 63, 53, 99, 45, 11, 20, 99, 99, 2, 2, 2, 2, 2, 0, 0, 67, 0, 33, 3, 3, 3, 3, 3, 68, 78, 38, 68, 7, 55, 99, 20, 71, 79, 0, 0, 0, 0, 0, 0, 0, 0, 0, 0, 51, 56, 26, 89, 28, 3, 74, 78, 69, 33, 3, 3, 3, 3, 3, 3, 3, 3, 3, 3, 32, 44, 24, 23, 67, 2, 2, 2, 2, 2, 0, 0, 0, 0, 0, 0, 0, 0, 0, 0, 99, 74, 71, 37, 79, 76, 75, 40, 40, 30, 0, 0, 0, 0, 0, 0, 0, 0, 0, 0, 10, 30, 24, 99, 99, 5, 59, 92, 97, 35, 69, 28, 24, 69, 26, 25, 37, 25, 55, 38, 70, 71, 24, 28, 21, 69, 77, 28, 92, 78]}, {\"boxmean\": true, \"boxpoints\": \"all\", \"jitter\": 0.5, \"line\": {\"width\": 1}, \"marker\": {\"size\": 3}, \"name\": \"Warmstarted Bayesian optimization 15 - equal total configs\", \"type\": \"box\", \"whiskerwidth\": 0.2, \"y\": [0, 0, 0, 0, 0, 0, 0, 0, 0, 0, 99, 49, 97, 26, 99, 55, 93, 54, 99, 20, 99, 99, 99, 99, 99, 81, 29, 82, 85, 29, 99, 55, 99, 99, 99, 0, 27, 0, 93, 11, 65, 1, 1, 7, 55, 69, 53, 24, 68, 69, 28, 40, 54, 33, 25, 73, 28, 68, 31, 28, 0, 0, 0, 0, 0, 0, 0, 0, 0, 0, 47, 50, 66, 70, 51, 67, 20, 21, 99, 88, 71, 86, 25, 21, 28, 56, 3, 57, 64, 31, 28, 57, 37, 65, 32, 99, 29, 27, 26, 5, 0, 0, 0, 0, 0, 0, 0, 0, 0, 0, 23, 32, 23, 84, 40, 71, 28, 21, 79, 35, 0, 0, 0, 0, 0, 0, 0, 0, 0, 0, 22, 68, 36, 37, 53, 73, 99, 28, 34, 76, 68, 75, 30, 43, 31, 2, 2, 2, 2, 2, 30, 79, 62, 21, 23, 60, 40, 36, 38, 28]}, {\"boxmean\": true, \"boxpoints\": \"all\", \"jitter\": 0.5, \"line\": {\"width\": 1}, \"marker\": {\"size\": 3}, \"name\": \"Allround Bayesian optimization\", \"type\": \"box\", \"whiskerwidth\": 0.2, \"y\": [0, 0, 0, 0, 0, 0, 0, 0, 0, 0, 68, 99, 99, 35, 99, 3, 3, 64, 20, 89, 32, 99, 25, 99, 99, 6, 99, 66, 98, 28, 23, 78, 99, 72, 26, 52, 67, 29, 84, 65, 21, 0, 78, 69, 0, 24, 23, 75, 20, 68, 45, 72, 27, 65, 71, 35, 27, 30, 99, 56, 0, 0, 0, 0, 0, 0, 0, 0, 0, 0, 55, 57, 44, 21, 28, 23, 68, 31, 27, 2, 2, 55, 74, 25, 72, 4, 4, 4, 4, 4, 75, 35, 72, 21, 56, 99, 40, 41, 99, 78, 0, 0, 0, 0, 0, 0, 0, 0, 0, 0, 36, 90, 84, 27, 99, 77, 71, 97, 71, 23, 0, 0, 0, 0, 0, 0, 0, 0, 0, 0, 93, 79, 67, 69, 99, 99, 35, 69, 99, 93, 72, 36, 20, 21, 20, 17, 30, 71, 34, 58, 81, 90, 50, 39, 99, 35, 25, 24, 47, 63]}, {\"boxmean\": true, \"boxpoints\": \"all\", \"jitter\": 0.5, \"line\": {\"width\": 1}, \"marker\": {\"size\": 3}, \"name\": \"Allround Bayesian optimization - equal total configs\", \"type\": \"box\", \"whiskerwidth\": 0.2, \"y\": [0, 0, 0, 0, 0, 0, 0, 0, 0, 0, 99, 99, 39, 99, 31, 61, 4, 48, 4, 34, 99, 84, 99, 71, 99, 34, 71, 99, 99, 91, 21, 32, 75, 99, 24, 32, 97, 54, 68, 94, 8, 60, 0, 25, 0, 59, 66, 68, 72, 26, 28, 69, 20, 35, 47, 73, 99, 99, 38, 70, 0, 0, 0, 0, 0, 0, 0, 0, 0, 0, 35, 77, 10, 35, 67, 67, 74, 60, 78, 69, 2, 2, 2, 2, 2, 28, 67, 28, 67, 38, 15, 30, 88, 98, 69, 99, 40, 73, 54, 99, 0, 0, 0, 0, 0, 0, 0, 0, 0, 0, 78, 70, 35, 67, 23, 53, 69, 34, 77, 36, 0, 0, 0, 0, 0, 0, 0, 0, 0, 0, 73, 99, 67, 47, 84, 23, 79, 3, 83, 3, 3, 3, 3, 3, 3, 36, 58, 28, 30, 28, 20, 26, 29, 48, 69, 34, 58, 77, 43, 54]}],\n",
       "                        {\"showlegend\": false, \"template\": {\"data\": {\"bar\": [{\"error_x\": {\"color\": \"#2a3f5f\"}, \"error_y\": {\"color\": \"#2a3f5f\"}, \"marker\": {\"line\": {\"color\": \"#E5ECF6\", \"width\": 0.5}}, \"type\": \"bar\"}], \"barpolar\": [{\"marker\": {\"line\": {\"color\": \"#E5ECF6\", \"width\": 0.5}}, \"type\": \"barpolar\"}], \"carpet\": [{\"aaxis\": {\"endlinecolor\": \"#2a3f5f\", \"gridcolor\": \"white\", \"linecolor\": \"white\", \"minorgridcolor\": \"white\", \"startlinecolor\": \"#2a3f5f\"}, \"baxis\": {\"endlinecolor\": \"#2a3f5f\", \"gridcolor\": \"white\", \"linecolor\": \"white\", \"minorgridcolor\": \"white\", \"startlinecolor\": \"#2a3f5f\"}, \"type\": \"carpet\"}], \"choropleth\": [{\"colorbar\": {\"outlinewidth\": 0, \"ticks\": \"\"}, \"type\": \"choropleth\"}], \"contour\": [{\"colorbar\": {\"outlinewidth\": 0, \"ticks\": \"\"}, \"colorscale\": [[0.0, \"#0d0887\"], [0.1111111111111111, \"#46039f\"], [0.2222222222222222, \"#7201a8\"], [0.3333333333333333, \"#9c179e\"], [0.4444444444444444, \"#bd3786\"], [0.5555555555555556, \"#d8576b\"], [0.6666666666666666, \"#ed7953\"], [0.7777777777777778, \"#fb9f3a\"], [0.8888888888888888, \"#fdca26\"], [1.0, \"#f0f921\"]], \"type\": \"contour\"}], \"contourcarpet\": [{\"colorbar\": {\"outlinewidth\": 0, \"ticks\": \"\"}, \"type\": \"contourcarpet\"}], \"heatmap\": [{\"colorbar\": {\"outlinewidth\": 0, \"ticks\": \"\"}, \"colorscale\": [[0.0, \"#0d0887\"], [0.1111111111111111, \"#46039f\"], [0.2222222222222222, \"#7201a8\"], [0.3333333333333333, \"#9c179e\"], [0.4444444444444444, \"#bd3786\"], [0.5555555555555556, \"#d8576b\"], [0.6666666666666666, \"#ed7953\"], [0.7777777777777778, \"#fb9f3a\"], [0.8888888888888888, \"#fdca26\"], [1.0, \"#f0f921\"]], \"type\": \"heatmap\"}], \"heatmapgl\": [{\"colorbar\": {\"outlinewidth\": 0, \"ticks\": \"\"}, \"colorscale\": [[0.0, \"#0d0887\"], [0.1111111111111111, \"#46039f\"], [0.2222222222222222, \"#7201a8\"], [0.3333333333333333, \"#9c179e\"], [0.4444444444444444, \"#bd3786\"], [0.5555555555555556, \"#d8576b\"], [0.6666666666666666, \"#ed7953\"], [0.7777777777777778, \"#fb9f3a\"], [0.8888888888888888, \"#fdca26\"], [1.0, \"#f0f921\"]], \"type\": \"heatmapgl\"}], \"histogram\": [{\"marker\": {\"colorbar\": {\"outlinewidth\": 0, \"ticks\": \"\"}}, \"type\": \"histogram\"}], \"histogram2d\": [{\"colorbar\": {\"outlinewidth\": 0, \"ticks\": \"\"}, \"colorscale\": [[0.0, \"#0d0887\"], [0.1111111111111111, \"#46039f\"], [0.2222222222222222, \"#7201a8\"], [0.3333333333333333, \"#9c179e\"], [0.4444444444444444, \"#bd3786\"], [0.5555555555555556, \"#d8576b\"], [0.6666666666666666, \"#ed7953\"], [0.7777777777777778, \"#fb9f3a\"], [0.8888888888888888, \"#fdca26\"], [1.0, \"#f0f921\"]], \"type\": \"histogram2d\"}], \"histogram2dcontour\": [{\"colorbar\": {\"outlinewidth\": 0, \"ticks\": \"\"}, \"colorscale\": [[0.0, \"#0d0887\"], [0.1111111111111111, \"#46039f\"], [0.2222222222222222, \"#7201a8\"], [0.3333333333333333, \"#9c179e\"], [0.4444444444444444, \"#bd3786\"], [0.5555555555555556, \"#d8576b\"], [0.6666666666666666, \"#ed7953\"], [0.7777777777777778, \"#fb9f3a\"], [0.8888888888888888, \"#fdca26\"], [1.0, \"#f0f921\"]], \"type\": \"histogram2dcontour\"}], \"mesh3d\": [{\"colorbar\": {\"outlinewidth\": 0, \"ticks\": \"\"}, \"type\": \"mesh3d\"}], \"parcoords\": [{\"line\": {\"colorbar\": {\"outlinewidth\": 0, \"ticks\": \"\"}}, \"type\": \"parcoords\"}], \"scatter\": [{\"marker\": {\"colorbar\": {\"outlinewidth\": 0, \"ticks\": \"\"}}, \"type\": \"scatter\"}], \"scatter3d\": [{\"line\": {\"colorbar\": {\"outlinewidth\": 0, \"ticks\": \"\"}}, \"marker\": {\"colorbar\": {\"outlinewidth\": 0, \"ticks\": \"\"}}, \"type\": \"scatter3d\"}], \"scattercarpet\": [{\"marker\": {\"colorbar\": {\"outlinewidth\": 0, \"ticks\": \"\"}}, \"type\": \"scattercarpet\"}], \"scattergeo\": [{\"marker\": {\"colorbar\": {\"outlinewidth\": 0, \"ticks\": \"\"}}, \"type\": \"scattergeo\"}], \"scattergl\": [{\"marker\": {\"colorbar\": {\"outlinewidth\": 0, \"ticks\": \"\"}}, \"type\": \"scattergl\"}], \"scattermapbox\": [{\"marker\": {\"colorbar\": {\"outlinewidth\": 0, \"ticks\": \"\"}}, \"type\": \"scattermapbox\"}], \"scatterpolar\": [{\"marker\": {\"colorbar\": {\"outlinewidth\": 0, \"ticks\": \"\"}}, \"type\": \"scatterpolar\"}], \"scatterpolargl\": [{\"marker\": {\"colorbar\": {\"outlinewidth\": 0, \"ticks\": \"\"}}, \"type\": \"scatterpolargl\"}], \"scatterternary\": [{\"marker\": {\"colorbar\": {\"outlinewidth\": 0, \"ticks\": \"\"}}, \"type\": \"scatterternary\"}], \"surface\": [{\"colorbar\": {\"outlinewidth\": 0, \"ticks\": \"\"}, \"colorscale\": [[0.0, \"#0d0887\"], [0.1111111111111111, \"#46039f\"], [0.2222222222222222, \"#7201a8\"], [0.3333333333333333, \"#9c179e\"], [0.4444444444444444, \"#bd3786\"], [0.5555555555555556, \"#d8576b\"], [0.6666666666666666, \"#ed7953\"], [0.7777777777777778, \"#fb9f3a\"], [0.8888888888888888, \"#fdca26\"], [1.0, \"#f0f921\"]], \"type\": \"surface\"}], \"table\": [{\"cells\": {\"fill\": {\"color\": \"#EBF0F8\"}, \"line\": {\"color\": \"white\"}}, \"header\": {\"fill\": {\"color\": \"#C8D4E3\"}, \"line\": {\"color\": \"white\"}}, \"type\": \"table\"}]}, \"layout\": {\"annotationdefaults\": {\"arrowcolor\": \"#2a3f5f\", \"arrowhead\": 0, \"arrowwidth\": 1}, \"colorscale\": {\"diverging\": [[0, \"#8e0152\"], [0.1, \"#c51b7d\"], [0.2, \"#de77ae\"], [0.3, \"#f1b6da\"], [0.4, \"#fde0ef\"], [0.5, \"#f7f7f7\"], [0.6, \"#e6f5d0\"], [0.7, \"#b8e186\"], [0.8, \"#7fbc41\"], [0.9, \"#4d9221\"], [1, \"#276419\"]], \"sequential\": [[0.0, \"#0d0887\"], [0.1111111111111111, \"#46039f\"], [0.2222222222222222, \"#7201a8\"], [0.3333333333333333, \"#9c179e\"], [0.4444444444444444, \"#bd3786\"], [0.5555555555555556, \"#d8576b\"], [0.6666666666666666, \"#ed7953\"], [0.7777777777777778, \"#fb9f3a\"], [0.8888888888888888, \"#fdca26\"], [1.0, \"#f0f921\"]], \"sequentialminus\": [[0.0, \"#0d0887\"], [0.1111111111111111, \"#46039f\"], [0.2222222222222222, \"#7201a8\"], [0.3333333333333333, \"#9c179e\"], [0.4444444444444444, \"#bd3786\"], [0.5555555555555556, \"#d8576b\"], [0.6666666666666666, \"#ed7953\"], [0.7777777777777778, \"#fb9f3a\"], [0.8888888888888888, \"#fdca26\"], [1.0, \"#f0f921\"]]}, \"colorway\": [\"#636efa\", \"#EF553B\", \"#00cc96\", \"#ab63fa\", \"#FFA15A\", \"#19d3f3\", \"#FF6692\", \"#B6E880\", \"#FF97FF\", \"#FECB52\"], \"font\": {\"color\": \"#2a3f5f\"}, \"geo\": {\"bgcolor\": \"white\", \"lakecolor\": \"white\", \"landcolor\": \"#E5ECF6\", \"showlakes\": true, \"showland\": true, \"subunitcolor\": \"white\"}, \"hoverlabel\": {\"align\": \"left\"}, \"hovermode\": \"closest\", \"mapbox\": {\"style\": \"light\"}, \"paper_bgcolor\": \"white\", \"plot_bgcolor\": \"#E5ECF6\", \"polar\": {\"angularaxis\": {\"gridcolor\": \"white\", \"linecolor\": \"white\", \"ticks\": \"\"}, \"bgcolor\": \"#E5ECF6\", \"radialaxis\": {\"gridcolor\": \"white\", \"linecolor\": \"white\", \"ticks\": \"\"}}, \"scene\": {\"xaxis\": {\"backgroundcolor\": \"#E5ECF6\", \"gridcolor\": \"white\", \"gridwidth\": 2, \"linecolor\": \"white\", \"showbackground\": true, \"ticks\": \"\", \"zerolinecolor\": \"white\"}, \"yaxis\": {\"backgroundcolor\": \"#E5ECF6\", \"gridcolor\": \"white\", \"gridwidth\": 2, \"linecolor\": \"white\", \"showbackground\": true, \"ticks\": \"\", \"zerolinecolor\": \"white\"}, \"zaxis\": {\"backgroundcolor\": \"#E5ECF6\", \"gridcolor\": \"white\", \"gridwidth\": 2, \"linecolor\": \"white\", \"showbackground\": true, \"ticks\": \"\", \"zerolinecolor\": \"white\"}}, \"shapedefaults\": {\"line\": {\"color\": \"#2a3f5f\"}}, \"ternary\": {\"aaxis\": {\"gridcolor\": \"white\", \"linecolor\": \"white\", \"ticks\": \"\"}, \"baxis\": {\"gridcolor\": \"white\", \"linecolor\": \"white\", \"ticks\": \"\"}, \"bgcolor\": \"#E5ECF6\", \"caxis\": {\"gridcolor\": \"white\", \"linecolor\": \"white\", \"ticks\": \"\"}}, \"title\": {\"x\": 0.05}, \"xaxis\": {\"automargin\": true, \"gridcolor\": \"white\", \"linecolor\": \"white\", \"ticks\": \"\", \"zerolinecolor\": \"white\", \"zerolinewidth\": 2}, \"yaxis\": {\"automargin\": true, \"gridcolor\": \"white\", \"linecolor\": \"white\", \"ticks\": \"\", \"zerolinecolor\": \"white\", \"zerolinewidth\": 2}}}, \"yaxis\": {\"title\": {\"text\": \"Iterations\"}}},\n",
       "                        {\"responsive\": true}\n",
       "                    ).then(function(){\n",
       "                            \n",
       "var gd = document.getElementById('748a20d3-1547-474c-9340-28399cb53c9c');\n",
       "var x = new MutationObserver(function (mutations, observer) {{\n",
       "        var display = window.getComputedStyle(gd).display;\n",
       "        if (!display || display === 'none') {{\n",
       "            console.log([gd, 'removed!']);\n",
       "            Plotly.purge(gd);\n",
       "            observer.disconnect();\n",
       "        }}\n",
       "}});\n",
       "\n",
       "// Listen for the removal of the full notebook cells\n",
       "var notebookContainer = gd.closest('#notebook-container');\n",
       "if (notebookContainer) {{\n",
       "    x.observe(notebookContainer, {childList: true});\n",
       "}}\n",
       "\n",
       "// Listen for the clearing of the current output cell\n",
       "var outputEl = gd.closest('.output');\n",
       "if (outputEl) {{\n",
       "    x.observe(outputEl, {childList: true});\n",
       "}}\n",
       "\n",
       "                        })\n",
       "                };\n",
       "                });\n",
       "            </script>\n",
       "        </div>"
      ]
     },
     "metadata": {},
     "output_type": "display_data"
    }
   ],
   "source": [
    "hopt_exp.visualize_walltime_comparison('Random search', 100)"
   ]
  },
  {
   "cell_type": "code",
   "execution_count": 21,
   "metadata": {},
   "outputs": [
    {
     "data": {
      "application/vnd.plotly.v1+json": {
       "config": {
        "plotlyServerURL": "https://plot.ly"
       },
       "data": [
        {
         "boxpoints": "all",
         "jitter": 0.5,
         "line": {
          "width": 1
         },
         "marker": {
          "size": 3
         },
         "name": "Allround Bayesian optimization",
         "type": "box",
         "whiskerwidth": 0.2,
         "y": [
          9.381942646841187,
          9.86525918613268,
          9.270776406881973,
          9.26521628077484,
          8.927766593815036,
          9.205623654957652,
          9.755725640045256,
          9.139680675228462,
          8.939067483363251,
          9.533174643400027,
          9.126257076734717,
          9.355574303544586,
          9.16261226377249,
          9.919555752703072,
          8.941259874329928,
          9.126623064732156,
          9.443580670175212,
          9.684590483358589,
          9.049247379657931,
          9.107340706353854,
          9.037646413859925,
          9.263620167879452,
          9.713841586918653,
          9.413687631917474,
          9.0697568442924
         ]
        },
        {
         "boxpoints": "all",
         "jitter": 0.5,
         "line": {
          "width": 1
         },
         "marker": {
          "size": 3
         },
         "name": "Allround Bayesian optimization - equal total configs",
         "type": "box",
         "whiskerwidth": 0.2,
         "y": [
          9.359114934614006,
          9.188294770669916,
          9.381166758871878,
          9.583149523941081,
          8.971438955967697,
          9.017590631658312,
          8.997029240746874,
          9.024868356290616,
          9.713868896025016,
          9.268111818864778,
          9.32256208443177,
          9.013500474423902,
          9.126257076734717,
          8.997029240746874,
          9.00670663014275,
          9.062137525165047,
          9.415997635149006,
          9.188478186084051,
          9.097108002698821,
          9.342772176864237,
          9.275422076434593,
          9.359114934614006,
          8.941259874329928,
          9.107340706353854,
          9.139680675228462
         ]
        },
        {
         "boxpoints": "all",
         "jitter": 0.5,
         "line": {
          "width": 1
         },
         "marker": {
          "size": 3
         },
         "name": "Naive Bayesian optimization",
         "type": "box",
         "whiskerwidth": 0.2,
         "y": [
          9.005180017839873,
          8.997184196022827,
          8.96949715193767,
          9.28327152531994,
          9.43736065752849,
          9.354875335747538,
          9.08875150746091,
          9.70533935719501,
          8.975320452514419,
          9.802045230130943,
          8.972637996936307,
          9.684113111392339,
          9.159930242062279,
          8.976266101064672,
          9.028641457660736,
          9.259140741691839,
          9.05319094171656,
          9.437837335021507,
          9.068503389604443,
          9.70585679961468,
          9.094265798057233,
          9.509036343211392,
          9.343972325443485,
          9.966607646946422,
          9.373290154248268
         ]
        },
        {
         "boxpoints": "all",
         "jitter": 0.5,
         "line": {
          "width": 1
         },
         "marker": {
          "size": 3
         },
         "name": "Random search",
         "type": "box",
         "whiskerwidth": 0.2,
         "y": [
          9.271829828953967,
          9.267693372016486,
          9.057409755880473,
          9.46163115334514,
          8.971941048082778,
          9.064013555870527,
          8.92906012105562,
          9.263620167879452,
          9.268111818864778,
          9.441503082522683,
          9.723320435680199,
          9.275422076434593,
          8.991215002205529,
          9.089247393835489,
          8.942836228123381,
          9.411074246198917,
          9.367517012124834,
          9.062310527462733,
          9.083518008728856,
          9.130631088993722,
          8.945962970871797,
          9.299255679057492,
          9.508664681690227,
          9.089805135720585,
          9.065960967493023
         ]
        },
        {
         "boxpoints": "all",
         "jitter": 0.5,
         "line": {
          "width": 1
         },
         "marker": {
          "size": 3
         },
         "name": "Warmstarted Bayesian optimization 1",
         "type": "box",
         "whiskerwidth": 0.2,
         "y": [
          8.940527362044314,
          9.635800896004248,
          9.554333011223418,
          9.788366673226024,
          9.270776406881973,
          9.22714050921368,
          9.017590631658312,
          8.976145058808141,
          9.101082755269157,
          8.961062631123633,
          9.181180713261618,
          9.067870004718367,
          9.84399671439328,
          9.247450063460374,
          9.037400539302443,
          9.48899264384768,
          9.054616428871233,
          9.265164593918193,
          8.95410572816651,
          9.067870004718367,
          9.232630313535251,
          9.265164593918193,
          9.198225582502547,
          9.684590483358589,
          9.094265798057233
         ]
        },
        {
         "boxpoints": "all",
         "jitter": 0.5,
         "line": {
          "width": 1
         },
         "marker": {
          "size": 3
         },
         "name": "Warmstarted Bayesian optimization 1 - equal total configs",
         "type": "box",
         "whiskerwidth": 0.2,
         "y": [
          8.971438955967697,
          9.480276145584053,
          9.026313883769015,
          9.265164593918193,
          9.735126574051568,
          8.971438955967697,
          8.935977310304901,
          9.791208498677927,
          9.189606628412848,
          9.068503389604443,
          9.34685060347934,
          9.045108391419106,
          8.95410572816651,
          9.731713367953443,
          9.37572127063221,
          9.00378290073855,
          9.267485071054622,
          9.48899264384768,
          8.939587186160631,
          9.415997635149006,
          9.090100358609735,
          9.682359014401491,
          9.815977697559417,
          9.290315285472492,
          9.789340019333908
         ]
        },
        {
         "boxpoints": "all",
         "jitter": 0.5,
         "line": {
          "width": 1
         },
         "marker": {
          "size": 3
         },
         "name": "Warmstarted Bayesian optimization 10",
         "type": "box",
         "whiskerwidth": 0.2,
         "y": [
          9.075723264853512,
          9.065960967493023,
          9.159930242062279,
          9.175557243534604,
          8.971941048082778,
          9.017590631658312,
          9.533174643400027,
          9.14096073455415,
          9.188478186084051,
          9.381942646841187,
          9.065042095857157,
          9.068090922300224,
          8.972328652860973,
          9.16261226377249,
          9.180696071788553,
          9.057923682540718,
          9.70585679961468,
          9.461650463721377,
          9.16261226377249,
          9.268111818864778,
          9.107340706353854,
          9.374133346428703,
          9.696515631365926,
          9.154539736988047,
          8.941259874329928
         ]
        },
        {
         "boxpoints": "all",
         "jitter": 0.5,
         "line": {
          "width": 1
         },
         "marker": {
          "size": 3
         },
         "name": "Warmstarted Bayesian optimization 10 - equal total configs",
         "type": "box",
         "whiskerwidth": 0.2,
         "y": [
          9.281397682935836,
          9.3157066477231,
          9.107340706353854,
          8.977665495992223,
          9.08900663526356,
          9.193868875266551,
          8.972328652860973,
          9.198225582502547,
          9.300443330439364,
          9.065960967493023,
          9.347924419797467,
          9.122163937510734,
          9.065960967493023,
          9.216183381573666,
          9.583149523941081,
          9.193868875266551,
          9.684590483358589,
          9.413687631917474,
          9.267075886711716,
          8.940527362044314,
          9.806159019595214,
          9.38037700259151,
          8.971438955967697,
          9.941661466971995,
          9.267485071054622
         ]
        },
        {
         "boxpoints": "all",
         "jitter": 0.5,
         "line": {
          "width": 1
         },
         "marker": {
          "size": 3
         },
         "name": "Warmstarted Bayesian optimization 15",
         "type": "box",
         "whiskerwidth": 0.2,
         "y": [
          9.08900663526356,
          9.126257076734717,
          9.46166253194426,
          9.182684642160847,
          9.165198933475482,
          9.290315285472492,
          9.114178745253104,
          9.415997635149006,
          8.980106433470196,
          9.713841586918653,
          9.199855436860991,
          9.755249527335533,
          9.281862831729631,
          9.199855436860991,
          9.425871588564556,
          9.123398547351352,
          9.065960967493023,
          8.972328652860973,
          9.037706368557624,
          8.939067483363251,
          9.172325056453367,
          9.404029529928328,
          9.660361601820249,
          9.062137525165047,
          9.684113111392339
         ]
        },
        {
         "boxpoints": "all",
         "jitter": 0.5,
         "line": {
          "width": 1
         },
         "marker": {
          "size": 3
         },
         "name": "Warmstarted Bayesian optimization 15 - equal total configs",
         "type": "box",
         "whiskerwidth": 0.2,
         "y": [
          9.271829828953967,
          9.027818809402394,
          9.090173843246859,
          9.48159160690675,
          9.1607020481446,
          9.46163115334514,
          9.114178745253104,
          9.087967638190731,
          9.443883540603009,
          9.061063045762797,
          9.082204169439764,
          9.498786918736633,
          9.247450063460374,
          9.271829828953967,
          9.425871588564556,
          8.923767127180938,
          9.751374855842164,
          9.017557139137596,
          9.46088425156407,
          9.1789159518876,
          8.96949715193767,
          9.441503082522683,
          9.29503206895024,
          9.267693372016486,
          9.644085681372447
         ]
        },
        {
         "boxpoints": "all",
         "jitter": 0.5,
         "line": {
          "width": 1
         },
         "marker": {
          "size": 3
         },
         "name": "Warmstarted Bayesian optimization 5",
         "type": "box",
         "whiskerwidth": 0.2,
         "y": [
          9.3157066477231,
          9.466105950773864,
          9.362045773255339,
          9.493548007566664,
          8.92906012105562,
          9.219658149061873,
          9.278283245110833,
          9.267485071054622,
          9.139680675228462,
          9.270776406881973,
          9.267693372016486,
          9.441503082522683,
          9.013500474423902,
          9.028641457660736,
          9.367517012124834,
          9.408583723036367,
          9.21682154831748,
          9.037400539302443,
          8.96949715193767,
          9.019103618068694,
          9.918843674025712,
          9.023803729537445,
          9.267693372016486,
          9.545153929759671,
          9.545867079884012
         ]
        },
        {
         "boxpoints": "all",
         "jitter": 0.5,
         "line": {
          "width": 1
         },
         "marker": {
          "size": 3
         },
         "name": "Warmstarted Bayesian optimization 5 - equal total configs",
         "type": "box",
         "whiskerwidth": 0.2,
         "y": [
          9.684590483358589,
          9.026313883769015,
          9.698820086780144,
          9.064013555870527,
          8.972328652860973,
          9.216183381573666,
          9.150166877426367,
          9.037706368557624,
          9.180696071788553,
          9.18491790092178,
          9.205623654957652,
          9.107340706353854,
          9.017590631658312,
          9.087967638190731,
          9.263620167879452,
          9.359114934614006,
          9.10538713455636,
          9.001683528973894,
          8.94003514030748,
          9.087967638190731,
          9.061063045762797,
          9.067870004718367,
          9.230615404339398,
          9.21682154831748,
          9.157565417767806
         ]
        }
       ],
       "layout": {
        "showlegend": false,
        "template": {
         "data": {
          "bar": [
           {
            "error_x": {
             "color": "#2a3f5f"
            },
            "error_y": {
             "color": "#2a3f5f"
            },
            "marker": {
             "line": {
              "color": "#E5ECF6",
              "width": 0.5
             }
            },
            "type": "bar"
           }
          ],
          "barpolar": [
           {
            "marker": {
             "line": {
              "color": "#E5ECF6",
              "width": 0.5
             }
            },
            "type": "barpolar"
           }
          ],
          "carpet": [
           {
            "aaxis": {
             "endlinecolor": "#2a3f5f",
             "gridcolor": "white",
             "linecolor": "white",
             "minorgridcolor": "white",
             "startlinecolor": "#2a3f5f"
            },
            "baxis": {
             "endlinecolor": "#2a3f5f",
             "gridcolor": "white",
             "linecolor": "white",
             "minorgridcolor": "white",
             "startlinecolor": "#2a3f5f"
            },
            "type": "carpet"
           }
          ],
          "choropleth": [
           {
            "colorbar": {
             "outlinewidth": 0,
             "ticks": ""
            },
            "type": "choropleth"
           }
          ],
          "contour": [
           {
            "colorbar": {
             "outlinewidth": 0,
             "ticks": ""
            },
            "colorscale": [
             [
              0,
              "#0d0887"
             ],
             [
              0.1111111111111111,
              "#46039f"
             ],
             [
              0.2222222222222222,
              "#7201a8"
             ],
             [
              0.3333333333333333,
              "#9c179e"
             ],
             [
              0.4444444444444444,
              "#bd3786"
             ],
             [
              0.5555555555555556,
              "#d8576b"
             ],
             [
              0.6666666666666666,
              "#ed7953"
             ],
             [
              0.7777777777777778,
              "#fb9f3a"
             ],
             [
              0.8888888888888888,
              "#fdca26"
             ],
             [
              1,
              "#f0f921"
             ]
            ],
            "type": "contour"
           }
          ],
          "contourcarpet": [
           {
            "colorbar": {
             "outlinewidth": 0,
             "ticks": ""
            },
            "type": "contourcarpet"
           }
          ],
          "heatmap": [
           {
            "colorbar": {
             "outlinewidth": 0,
             "ticks": ""
            },
            "colorscale": [
             [
              0,
              "#0d0887"
             ],
             [
              0.1111111111111111,
              "#46039f"
             ],
             [
              0.2222222222222222,
              "#7201a8"
             ],
             [
              0.3333333333333333,
              "#9c179e"
             ],
             [
              0.4444444444444444,
              "#bd3786"
             ],
             [
              0.5555555555555556,
              "#d8576b"
             ],
             [
              0.6666666666666666,
              "#ed7953"
             ],
             [
              0.7777777777777778,
              "#fb9f3a"
             ],
             [
              0.8888888888888888,
              "#fdca26"
             ],
             [
              1,
              "#f0f921"
             ]
            ],
            "type": "heatmap"
           }
          ],
          "heatmapgl": [
           {
            "colorbar": {
             "outlinewidth": 0,
             "ticks": ""
            },
            "colorscale": [
             [
              0,
              "#0d0887"
             ],
             [
              0.1111111111111111,
              "#46039f"
             ],
             [
              0.2222222222222222,
              "#7201a8"
             ],
             [
              0.3333333333333333,
              "#9c179e"
             ],
             [
              0.4444444444444444,
              "#bd3786"
             ],
             [
              0.5555555555555556,
              "#d8576b"
             ],
             [
              0.6666666666666666,
              "#ed7953"
             ],
             [
              0.7777777777777778,
              "#fb9f3a"
             ],
             [
              0.8888888888888888,
              "#fdca26"
             ],
             [
              1,
              "#f0f921"
             ]
            ],
            "type": "heatmapgl"
           }
          ],
          "histogram": [
           {
            "marker": {
             "colorbar": {
              "outlinewidth": 0,
              "ticks": ""
             }
            },
            "type": "histogram"
           }
          ],
          "histogram2d": [
           {
            "colorbar": {
             "outlinewidth": 0,
             "ticks": ""
            },
            "colorscale": [
             [
              0,
              "#0d0887"
             ],
             [
              0.1111111111111111,
              "#46039f"
             ],
             [
              0.2222222222222222,
              "#7201a8"
             ],
             [
              0.3333333333333333,
              "#9c179e"
             ],
             [
              0.4444444444444444,
              "#bd3786"
             ],
             [
              0.5555555555555556,
              "#d8576b"
             ],
             [
              0.6666666666666666,
              "#ed7953"
             ],
             [
              0.7777777777777778,
              "#fb9f3a"
             ],
             [
              0.8888888888888888,
              "#fdca26"
             ],
             [
              1,
              "#f0f921"
             ]
            ],
            "type": "histogram2d"
           }
          ],
          "histogram2dcontour": [
           {
            "colorbar": {
             "outlinewidth": 0,
             "ticks": ""
            },
            "colorscale": [
             [
              0,
              "#0d0887"
             ],
             [
              0.1111111111111111,
              "#46039f"
             ],
             [
              0.2222222222222222,
              "#7201a8"
             ],
             [
              0.3333333333333333,
              "#9c179e"
             ],
             [
              0.4444444444444444,
              "#bd3786"
             ],
             [
              0.5555555555555556,
              "#d8576b"
             ],
             [
              0.6666666666666666,
              "#ed7953"
             ],
             [
              0.7777777777777778,
              "#fb9f3a"
             ],
             [
              0.8888888888888888,
              "#fdca26"
             ],
             [
              1,
              "#f0f921"
             ]
            ],
            "type": "histogram2dcontour"
           }
          ],
          "mesh3d": [
           {
            "colorbar": {
             "outlinewidth": 0,
             "ticks": ""
            },
            "type": "mesh3d"
           }
          ],
          "parcoords": [
           {
            "line": {
             "colorbar": {
              "outlinewidth": 0,
              "ticks": ""
             }
            },
            "type": "parcoords"
           }
          ],
          "scatter": [
           {
            "marker": {
             "colorbar": {
              "outlinewidth": 0,
              "ticks": ""
             }
            },
            "type": "scatter"
           }
          ],
          "scatter3d": [
           {
            "line": {
             "colorbar": {
              "outlinewidth": 0,
              "ticks": ""
             }
            },
            "marker": {
             "colorbar": {
              "outlinewidth": 0,
              "ticks": ""
             }
            },
            "type": "scatter3d"
           }
          ],
          "scattercarpet": [
           {
            "marker": {
             "colorbar": {
              "outlinewidth": 0,
              "ticks": ""
             }
            },
            "type": "scattercarpet"
           }
          ],
          "scattergeo": [
           {
            "marker": {
             "colorbar": {
              "outlinewidth": 0,
              "ticks": ""
             }
            },
            "type": "scattergeo"
           }
          ],
          "scattergl": [
           {
            "marker": {
             "colorbar": {
              "outlinewidth": 0,
              "ticks": ""
             }
            },
            "type": "scattergl"
           }
          ],
          "scattermapbox": [
           {
            "marker": {
             "colorbar": {
              "outlinewidth": 0,
              "ticks": ""
             }
            },
            "type": "scattermapbox"
           }
          ],
          "scatterpolar": [
           {
            "marker": {
             "colorbar": {
              "outlinewidth": 0,
              "ticks": ""
             }
            },
            "type": "scatterpolar"
           }
          ],
          "scatterpolargl": [
           {
            "marker": {
             "colorbar": {
              "outlinewidth": 0,
              "ticks": ""
             }
            },
            "type": "scatterpolargl"
           }
          ],
          "scatterternary": [
           {
            "marker": {
             "colorbar": {
              "outlinewidth": 0,
              "ticks": ""
             }
            },
            "type": "scatterternary"
           }
          ],
          "surface": [
           {
            "colorbar": {
             "outlinewidth": 0,
             "ticks": ""
            },
            "colorscale": [
             [
              0,
              "#0d0887"
             ],
             [
              0.1111111111111111,
              "#46039f"
             ],
             [
              0.2222222222222222,
              "#7201a8"
             ],
             [
              0.3333333333333333,
              "#9c179e"
             ],
             [
              0.4444444444444444,
              "#bd3786"
             ],
             [
              0.5555555555555556,
              "#d8576b"
             ],
             [
              0.6666666666666666,
              "#ed7953"
             ],
             [
              0.7777777777777778,
              "#fb9f3a"
             ],
             [
              0.8888888888888888,
              "#fdca26"
             ],
             [
              1,
              "#f0f921"
             ]
            ],
            "type": "surface"
           }
          ],
          "table": [
           {
            "cells": {
             "fill": {
              "color": "#EBF0F8"
             },
             "line": {
              "color": "white"
             }
            },
            "header": {
             "fill": {
              "color": "#C8D4E3"
             },
             "line": {
              "color": "white"
             }
            },
            "type": "table"
           }
          ]
         },
         "layout": {
          "annotationdefaults": {
           "arrowcolor": "#2a3f5f",
           "arrowhead": 0,
           "arrowwidth": 1
          },
          "colorscale": {
           "diverging": [
            [
             0,
             "#8e0152"
            ],
            [
             0.1,
             "#c51b7d"
            ],
            [
             0.2,
             "#de77ae"
            ],
            [
             0.3,
             "#f1b6da"
            ],
            [
             0.4,
             "#fde0ef"
            ],
            [
             0.5,
             "#f7f7f7"
            ],
            [
             0.6,
             "#e6f5d0"
            ],
            [
             0.7,
             "#b8e186"
            ],
            [
             0.8,
             "#7fbc41"
            ],
            [
             0.9,
             "#4d9221"
            ],
            [
             1,
             "#276419"
            ]
           ],
           "sequential": [
            [
             0,
             "#0d0887"
            ],
            [
             0.1111111111111111,
             "#46039f"
            ],
            [
             0.2222222222222222,
             "#7201a8"
            ],
            [
             0.3333333333333333,
             "#9c179e"
            ],
            [
             0.4444444444444444,
             "#bd3786"
            ],
            [
             0.5555555555555556,
             "#d8576b"
            ],
            [
             0.6666666666666666,
             "#ed7953"
            ],
            [
             0.7777777777777778,
             "#fb9f3a"
            ],
            [
             0.8888888888888888,
             "#fdca26"
            ],
            [
             1,
             "#f0f921"
            ]
           ],
           "sequentialminus": [
            [
             0,
             "#0d0887"
            ],
            [
             0.1111111111111111,
             "#46039f"
            ],
            [
             0.2222222222222222,
             "#7201a8"
            ],
            [
             0.3333333333333333,
             "#9c179e"
            ],
            [
             0.4444444444444444,
             "#bd3786"
            ],
            [
             0.5555555555555556,
             "#d8576b"
            ],
            [
             0.6666666666666666,
             "#ed7953"
            ],
            [
             0.7777777777777778,
             "#fb9f3a"
            ],
            [
             0.8888888888888888,
             "#fdca26"
            ],
            [
             1,
             "#f0f921"
            ]
           ]
          },
          "colorway": [
           "#636efa",
           "#EF553B",
           "#00cc96",
           "#ab63fa",
           "#FFA15A",
           "#19d3f3",
           "#FF6692",
           "#B6E880",
           "#FF97FF",
           "#FECB52"
          ],
          "font": {
           "color": "#2a3f5f"
          },
          "geo": {
           "bgcolor": "white",
           "lakecolor": "white",
           "landcolor": "#E5ECF6",
           "showlakes": true,
           "showland": true,
           "subunitcolor": "white"
          },
          "hoverlabel": {
           "align": "left"
          },
          "hovermode": "closest",
          "mapbox": {
           "style": "light"
          },
          "paper_bgcolor": "white",
          "plot_bgcolor": "#E5ECF6",
          "polar": {
           "angularaxis": {
            "gridcolor": "white",
            "linecolor": "white",
            "ticks": ""
           },
           "bgcolor": "#E5ECF6",
           "radialaxis": {
            "gridcolor": "white",
            "linecolor": "white",
            "ticks": ""
           }
          },
          "scene": {
           "xaxis": {
            "backgroundcolor": "#E5ECF6",
            "gridcolor": "white",
            "gridwidth": 2,
            "linecolor": "white",
            "showbackground": true,
            "ticks": "",
            "zerolinecolor": "white"
           },
           "yaxis": {
            "backgroundcolor": "#E5ECF6",
            "gridcolor": "white",
            "gridwidth": 2,
            "linecolor": "white",
            "showbackground": true,
            "ticks": "",
            "zerolinecolor": "white"
           },
           "zaxis": {
            "backgroundcolor": "#E5ECF6",
            "gridcolor": "white",
            "gridwidth": 2,
            "linecolor": "white",
            "showbackground": true,
            "ticks": "",
            "zerolinecolor": "white"
           }
          },
          "shapedefaults": {
           "line": {
            "color": "#2a3f5f"
           }
          },
          "ternary": {
           "aaxis": {
            "gridcolor": "white",
            "linecolor": "white",
            "ticks": ""
           },
           "baxis": {
            "gridcolor": "white",
            "linecolor": "white",
            "ticks": ""
           },
           "bgcolor": "#E5ECF6",
           "caxis": {
            "gridcolor": "white",
            "linecolor": "white",
            "ticks": ""
           }
          },
          "title": {
           "x": 0.05
          },
          "xaxis": {
           "automargin": true,
           "gridcolor": "white",
           "linecolor": "white",
           "ticks": "",
           "zerolinecolor": "white",
           "zerolinewidth": 2
          },
          "yaxis": {
           "automargin": true,
           "gridcolor": "white",
           "linecolor": "white",
           "ticks": "",
           "zerolinecolor": "white",
           "zerolinewidth": 2
          }
         }
        },
        "xaxis": {
         "autorange": true,
         "range": [
          -0.5334261838440112,
          11.5
         ],
         "type": "category"
        },
        "yaxis": {
         "autorange": true,
         "range": [
          8.865831542749522,
          10.024543231377837
         ],
         "title": {
          "text": "MAE"
         },
         "type": "linear"
        }
       }
      },
      "image/png": "[encoded data removed]",
      "text/html": [
       "<div>\n",
       "        \n",
       "        \n",
       "            <div id=\"8763ba75-16b1-4605-a385-439c2c683450\" class=\"plotly-graph-div\" style=\"height:525px; width:100%;\"></div>\n",
       "            <script type=\"text/javascript\">\n",
       "                require([\"plotly\"], function(Plotly) {\n",
       "                    window.PLOTLYENV=window.PLOTLYENV || {};\n",
       "                    \n",
       "                if (document.getElementById(\"8763ba75-16b1-4605-a385-439c2c683450\")) {\n",
       "                    Plotly.newPlot(\n",
       "                        '8763ba75-16b1-4605-a385-439c2c683450',\n",
       "                        [{\"boxpoints\": \"all\", \"jitter\": 0.5, \"line\": {\"width\": 1}, \"marker\": {\"size\": 3}, \"name\": \"Allround Bayesian optimization\", \"type\": \"box\", \"whiskerwidth\": 0.2, \"y\": [9.381942646841187, 9.86525918613268, 9.270776406881973, 9.26521628077484, 8.927766593815036, 9.205623654957652, 9.755725640045256, 9.139680675228462, 8.939067483363251, 9.533174643400027, 9.126257076734717, 9.355574303544586, 9.16261226377249, 9.919555752703072, 8.941259874329928, 9.126623064732156, 9.443580670175212, 9.684590483358589, 9.049247379657931, 9.107340706353854, 9.037646413859925, 9.263620167879452, 9.713841586918653, 9.413687631917474, 9.0697568442924]}, {\"boxpoints\": \"all\", \"jitter\": 0.5, \"line\": {\"width\": 1}, \"marker\": {\"size\": 3}, \"name\": \"Allround Bayesian optimization - equal total configs\", \"type\": \"box\", \"whiskerwidth\": 0.2, \"y\": [9.359114934614006, 9.188294770669916, 9.381166758871878, 9.583149523941081, 8.971438955967697, 9.017590631658312, 8.997029240746874, 9.024868356290616, 9.713868896025016, 9.268111818864778, 9.32256208443177, 9.013500474423902, 9.126257076734717, 8.997029240746874, 9.00670663014275, 9.062137525165047, 9.415997635149006, 9.188478186084051, 9.097108002698821, 9.342772176864237, 9.275422076434593, 9.359114934614006, 8.941259874329928, 9.107340706353854, 9.139680675228462]}, {\"boxpoints\": \"all\", \"jitter\": 0.5, \"line\": {\"width\": 1}, \"marker\": {\"size\": 3}, \"name\": \"Naive Bayesian optimization\", \"type\": \"box\", \"whiskerwidth\": 0.2, \"y\": [9.005180017839873, 8.997184196022827, 8.96949715193767, 9.28327152531994, 9.43736065752849, 9.354875335747538, 9.08875150746091, 9.70533935719501, 8.975320452514419, 9.802045230130943, 8.972637996936307, 9.684113111392339, 9.159930242062279, 8.976266101064672, 9.028641457660736, 9.259140741691839, 9.05319094171656, 9.437837335021507, 9.068503389604443, 9.70585679961468, 9.094265798057233, 9.509036343211392, 9.343972325443485, 9.966607646946422, 9.373290154248268]}, {\"boxpoints\": \"all\", \"jitter\": 0.5, \"line\": {\"width\": 1}, \"marker\": {\"size\": 3}, \"name\": \"Random search\", \"type\": \"box\", \"whiskerwidth\": 0.2, \"y\": [9.271829828953967, 9.267693372016486, 9.057409755880473, 9.46163115334514, 8.971941048082778, 9.064013555870527, 8.92906012105562, 9.263620167879452, 9.268111818864778, 9.441503082522683, 9.723320435680199, 9.275422076434593, 8.991215002205529, 9.089247393835489, 8.942836228123381, 9.411074246198917, 9.367517012124834, 9.062310527462733, 9.083518008728856, 9.130631088993722, 8.945962970871797, 9.299255679057492, 9.508664681690227, 9.089805135720585, 9.065960967493023]}, {\"boxpoints\": \"all\", \"jitter\": 0.5, \"line\": {\"width\": 1}, \"marker\": {\"size\": 3}, \"name\": \"Warmstarted Bayesian optimization 1\", \"type\": \"box\", \"whiskerwidth\": 0.2, \"y\": [8.940527362044314, 9.635800896004248, 9.554333011223418, 9.788366673226024, 9.270776406881973, 9.22714050921368, 9.017590631658312, 8.976145058808141, 9.101082755269157, 8.961062631123633, 9.181180713261618, 9.067870004718367, 9.84399671439328, 9.247450063460374, 9.037400539302443, 9.48899264384768, 9.054616428871233, 9.265164593918193, 8.95410572816651, 9.067870004718367, 9.232630313535251, 9.265164593918193, 9.198225582502547, 9.684590483358589, 9.094265798057233]}, {\"boxpoints\": \"all\", \"jitter\": 0.5, \"line\": {\"width\": 1}, \"marker\": {\"size\": 3}, \"name\": \"Warmstarted Bayesian optimization 1 - equal total configs\", \"type\": \"box\", \"whiskerwidth\": 0.2, \"y\": [8.971438955967697, 9.480276145584053, 9.026313883769015, 9.265164593918193, 9.735126574051568, 8.971438955967697, 8.935977310304901, 9.791208498677927, 9.189606628412848, 9.068503389604443, 9.34685060347934, 9.045108391419106, 8.95410572816651, 9.731713367953443, 9.37572127063221, 9.00378290073855, 9.267485071054622, 9.48899264384768, 8.939587186160631, 9.415997635149006, 9.090100358609735, 9.682359014401491, 9.815977697559417, 9.290315285472492, 9.789340019333908]}, {\"boxpoints\": \"all\", \"jitter\": 0.5, \"line\": {\"width\": 1}, \"marker\": {\"size\": 3}, \"name\": \"Warmstarted Bayesian optimization 10\", \"type\": \"box\", \"whiskerwidth\": 0.2, \"y\": [9.075723264853512, 9.065960967493023, 9.159930242062279, 9.175557243534604, 8.971941048082778, 9.017590631658312, 9.533174643400027, 9.14096073455415, 9.188478186084051, 9.381942646841187, 9.065042095857157, 9.068090922300224, 8.972328652860973, 9.16261226377249, 9.180696071788553, 9.057923682540718, 9.70585679961468, 9.461650463721377, 9.16261226377249, 9.268111818864778, 9.107340706353854, 9.374133346428703, 9.696515631365926, 9.154539736988047, 8.941259874329928]}, {\"boxpoints\": \"all\", \"jitter\": 0.5, \"line\": {\"width\": 1}, \"marker\": {\"size\": 3}, \"name\": \"Warmstarted Bayesian optimization 10 - equal total configs\", \"type\": \"box\", \"whiskerwidth\": 0.2, \"y\": [9.281397682935836, 9.3157066477231, 9.107340706353854, 8.977665495992223, 9.08900663526356, 9.193868875266551, 8.972328652860973, 9.198225582502547, 9.300443330439364, 9.065960967493023, 9.347924419797467, 9.122163937510734, 9.065960967493023, 9.216183381573666, 9.583149523941081, 9.193868875266551, 9.684590483358589, 9.413687631917474, 9.267075886711716, 8.940527362044314, 9.806159019595214, 9.38037700259151, 8.971438955967697, 9.941661466971995, 9.267485071054622]}, {\"boxpoints\": \"all\", \"jitter\": 0.5, \"line\": {\"width\": 1}, \"marker\": {\"size\": 3}, \"name\": \"Warmstarted Bayesian optimization 15\", \"type\": \"box\", \"whiskerwidth\": 0.2, \"y\": [9.08900663526356, 9.126257076734717, 9.46166253194426, 9.182684642160847, 9.165198933475482, 9.290315285472492, 9.114178745253104, 9.415997635149006, 8.980106433470196, 9.713841586918653, 9.199855436860991, 9.755249527335533, 9.281862831729631, 9.199855436860991, 9.425871588564556, 9.123398547351352, 9.065960967493023, 8.972328652860973, 9.037706368557624, 8.939067483363251, 9.172325056453367, 9.404029529928328, 9.660361601820249, 9.062137525165047, 9.684113111392339]}, {\"boxpoints\": \"all\", \"jitter\": 0.5, \"line\": {\"width\": 1}, \"marker\": {\"size\": 3}, \"name\": \"Warmstarted Bayesian optimization 15 - equal total configs\", \"type\": \"box\", \"whiskerwidth\": 0.2, \"y\": [9.271829828953967, 9.027818809402394, 9.090173843246859, 9.48159160690675, 9.1607020481446, 9.46163115334514, 9.114178745253104, 9.087967638190731, 9.443883540603009, 9.061063045762797, 9.082204169439764, 9.498786918736633, 9.247450063460374, 9.271829828953967, 9.425871588564556, 8.923767127180938, 9.751374855842164, 9.017557139137596, 9.46088425156407, 9.1789159518876, 8.96949715193767, 9.441503082522683, 9.29503206895024, 9.267693372016486, 9.644085681372447]}, {\"boxpoints\": \"all\", \"jitter\": 0.5, \"line\": {\"width\": 1}, \"marker\": {\"size\": 3}, \"name\": \"Warmstarted Bayesian optimization 5\", \"type\": \"box\", \"whiskerwidth\": 0.2, \"y\": [9.3157066477231, 9.466105950773864, 9.362045773255339, 9.493548007566664, 8.92906012105562, 9.219658149061873, 9.278283245110833, 9.267485071054622, 9.139680675228462, 9.270776406881973, 9.267693372016486, 9.441503082522683, 9.013500474423902, 9.028641457660736, 9.367517012124834, 9.408583723036367, 9.21682154831748, 9.037400539302443, 8.96949715193767, 9.019103618068694, 9.918843674025712, 9.023803729537445, 9.267693372016486, 9.545153929759671, 9.545867079884012]}, {\"boxpoints\": \"all\", \"jitter\": 0.5, \"line\": {\"width\": 1}, \"marker\": {\"size\": 3}, \"name\": \"Warmstarted Bayesian optimization 5 - equal total configs\", \"type\": \"box\", \"whiskerwidth\": 0.2, \"y\": [9.684590483358589, 9.026313883769015, 9.698820086780144, 9.064013555870527, 8.972328652860973, 9.216183381573666, 9.150166877426367, 9.037706368557624, 9.180696071788553, 9.18491790092178, 9.205623654957652, 9.107340706353854, 9.017590631658312, 9.087967638190731, 9.263620167879452, 9.359114934614006, 9.10538713455636, 9.001683528973894, 8.94003514030748, 9.087967638190731, 9.061063045762797, 9.067870004718367, 9.230615404339398, 9.21682154831748, 9.157565417767806]}],\n",
       "                        {\"showlegend\": false, \"template\": {\"data\": {\"bar\": [{\"error_x\": {\"color\": \"#2a3f5f\"}, \"error_y\": {\"color\": \"#2a3f5f\"}, \"marker\": {\"line\": {\"color\": \"#E5ECF6\", \"width\": 0.5}}, \"type\": \"bar\"}], \"barpolar\": [{\"marker\": {\"line\": {\"color\": \"#E5ECF6\", \"width\": 0.5}}, \"type\": \"barpolar\"}], \"carpet\": [{\"aaxis\": {\"endlinecolor\": \"#2a3f5f\", \"gridcolor\": \"white\", \"linecolor\": \"white\", \"minorgridcolor\": \"white\", \"startlinecolor\": \"#2a3f5f\"}, \"baxis\": {\"endlinecolor\": \"#2a3f5f\", \"gridcolor\": \"white\", \"linecolor\": \"white\", \"minorgridcolor\": \"white\", \"startlinecolor\": \"#2a3f5f\"}, \"type\": \"carpet\"}], \"choropleth\": [{\"colorbar\": {\"outlinewidth\": 0, \"ticks\": \"\"}, \"type\": \"choropleth\"}], \"contour\": [{\"colorbar\": {\"outlinewidth\": 0, \"ticks\": \"\"}, \"colorscale\": [[0.0, \"#0d0887\"], [0.1111111111111111, \"#46039f\"], [0.2222222222222222, \"#7201a8\"], [0.3333333333333333, \"#9c179e\"], [0.4444444444444444, \"#bd3786\"], [0.5555555555555556, \"#d8576b\"], [0.6666666666666666, \"#ed7953\"], [0.7777777777777778, \"#fb9f3a\"], [0.8888888888888888, \"#fdca26\"], [1.0, \"#f0f921\"]], \"type\": \"contour\"}], \"contourcarpet\": [{\"colorbar\": {\"outlinewidth\": 0, \"ticks\": \"\"}, \"type\": \"contourcarpet\"}], \"heatmap\": [{\"colorbar\": {\"outlinewidth\": 0, \"ticks\": \"\"}, \"colorscale\": [[0.0, \"#0d0887\"], [0.1111111111111111, \"#46039f\"], [0.2222222222222222, \"#7201a8\"], [0.3333333333333333, \"#9c179e\"], [0.4444444444444444, \"#bd3786\"], [0.5555555555555556, \"#d8576b\"], [0.6666666666666666, \"#ed7953\"], [0.7777777777777778, \"#fb9f3a\"], [0.8888888888888888, \"#fdca26\"], [1.0, \"#f0f921\"]], \"type\": \"heatmap\"}], \"heatmapgl\": [{\"colorbar\": {\"outlinewidth\": 0, \"ticks\": \"\"}, \"colorscale\": [[0.0, \"#0d0887\"], [0.1111111111111111, \"#46039f\"], [0.2222222222222222, \"#7201a8\"], [0.3333333333333333, \"#9c179e\"], [0.4444444444444444, \"#bd3786\"], [0.5555555555555556, \"#d8576b\"], [0.6666666666666666, \"#ed7953\"], [0.7777777777777778, \"#fb9f3a\"], [0.8888888888888888, \"#fdca26\"], [1.0, \"#f0f921\"]], \"type\": \"heatmapgl\"}], \"histogram\": [{\"marker\": {\"colorbar\": {\"outlinewidth\": 0, \"ticks\": \"\"}}, \"type\": \"histogram\"}], \"histogram2d\": [{\"colorbar\": {\"outlinewidth\": 0, \"ticks\": \"\"}, \"colorscale\": [[0.0, \"#0d0887\"], [0.1111111111111111, \"#46039f\"], [0.2222222222222222, \"#7201a8\"], [0.3333333333333333, \"#9c179e\"], [0.4444444444444444, \"#bd3786\"], [0.5555555555555556, \"#d8576b\"], [0.6666666666666666, \"#ed7953\"], [0.7777777777777778, \"#fb9f3a\"], [0.8888888888888888, \"#fdca26\"], [1.0, \"#f0f921\"]], \"type\": \"histogram2d\"}], \"histogram2dcontour\": [{\"colorbar\": {\"outlinewidth\": 0, \"ticks\": \"\"}, \"colorscale\": [[0.0, \"#0d0887\"], [0.1111111111111111, \"#46039f\"], [0.2222222222222222, \"#7201a8\"], [0.3333333333333333, \"#9c179e\"], [0.4444444444444444, \"#bd3786\"], [0.5555555555555556, \"#d8576b\"], [0.6666666666666666, \"#ed7953\"], [0.7777777777777778, \"#fb9f3a\"], [0.8888888888888888, \"#fdca26\"], [1.0, \"#f0f921\"]], \"type\": \"histogram2dcontour\"}], \"mesh3d\": [{\"colorbar\": {\"outlinewidth\": 0, \"ticks\": \"\"}, \"type\": \"mesh3d\"}], \"parcoords\": [{\"line\": {\"colorbar\": {\"outlinewidth\": 0, \"ticks\": \"\"}}, \"type\": \"parcoords\"}], \"scatter\": [{\"marker\": {\"colorbar\": {\"outlinewidth\": 0, \"ticks\": \"\"}}, \"type\": \"scatter\"}], \"scatter3d\": [{\"line\": {\"colorbar\": {\"outlinewidth\": 0, \"ticks\": \"\"}}, \"marker\": {\"colorbar\": {\"outlinewidth\": 0, \"ticks\": \"\"}}, \"type\": \"scatter3d\"}], \"scattercarpet\": [{\"marker\": {\"colorbar\": {\"outlinewidth\": 0, \"ticks\": \"\"}}, \"type\": \"scattercarpet\"}], \"scattergeo\": [{\"marker\": {\"colorbar\": {\"outlinewidth\": 0, \"ticks\": \"\"}}, \"type\": \"scattergeo\"}], \"scattergl\": [{\"marker\": {\"colorbar\": {\"outlinewidth\": 0, \"ticks\": \"\"}}, \"type\": \"scattergl\"}], \"scattermapbox\": [{\"marker\": {\"colorbar\": {\"outlinewidth\": 0, \"ticks\": \"\"}}, \"type\": \"scattermapbox\"}], \"scatterpolar\": [{\"marker\": {\"colorbar\": {\"outlinewidth\": 0, \"ticks\": \"\"}}, \"type\": \"scatterpolar\"}], \"scatterpolargl\": [{\"marker\": {\"colorbar\": {\"outlinewidth\": 0, \"ticks\": \"\"}}, \"type\": \"scatterpolargl\"}], \"scatterternary\": [{\"marker\": {\"colorbar\": {\"outlinewidth\": 0, \"ticks\": \"\"}}, \"type\": \"scatterternary\"}], \"surface\": [{\"colorbar\": {\"outlinewidth\": 0, \"ticks\": \"\"}, \"colorscale\": [[0.0, \"#0d0887\"], [0.1111111111111111, \"#46039f\"], [0.2222222222222222, \"#7201a8\"], [0.3333333333333333, \"#9c179e\"], [0.4444444444444444, \"#bd3786\"], [0.5555555555555556, \"#d8576b\"], [0.6666666666666666, \"#ed7953\"], [0.7777777777777778, \"#fb9f3a\"], [0.8888888888888888, \"#fdca26\"], [1.0, \"#f0f921\"]], \"type\": \"surface\"}], \"table\": [{\"cells\": {\"fill\": {\"color\": \"#EBF0F8\"}, \"line\": {\"color\": \"white\"}}, \"header\": {\"fill\": {\"color\": \"#C8D4E3\"}, \"line\": {\"color\": \"white\"}}, \"type\": \"table\"}]}, \"layout\": {\"annotationdefaults\": {\"arrowcolor\": \"#2a3f5f\", \"arrowhead\": 0, \"arrowwidth\": 1}, \"colorscale\": {\"diverging\": [[0, \"#8e0152\"], [0.1, \"#c51b7d\"], [0.2, \"#de77ae\"], [0.3, \"#f1b6da\"], [0.4, \"#fde0ef\"], [0.5, \"#f7f7f7\"], [0.6, \"#e6f5d0\"], [0.7, \"#b8e186\"], [0.8, \"#7fbc41\"], [0.9, \"#4d9221\"], [1, \"#276419\"]], \"sequential\": [[0.0, \"#0d0887\"], [0.1111111111111111, \"#46039f\"], [0.2222222222222222, \"#7201a8\"], [0.3333333333333333, \"#9c179e\"], [0.4444444444444444, \"#bd3786\"], [0.5555555555555556, \"#d8576b\"], [0.6666666666666666, \"#ed7953\"], [0.7777777777777778, \"#fb9f3a\"], [0.8888888888888888, \"#fdca26\"], [1.0, \"#f0f921\"]], \"sequentialminus\": [[0.0, \"#0d0887\"], [0.1111111111111111, \"#46039f\"], [0.2222222222222222, \"#7201a8\"], [0.3333333333333333, \"#9c179e\"], [0.4444444444444444, \"#bd3786\"], [0.5555555555555556, \"#d8576b\"], [0.6666666666666666, \"#ed7953\"], [0.7777777777777778, \"#fb9f3a\"], [0.8888888888888888, \"#fdca26\"], [1.0, \"#f0f921\"]]}, \"colorway\": [\"#636efa\", \"#EF553B\", \"#00cc96\", \"#ab63fa\", \"#FFA15A\", \"#19d3f3\", \"#FF6692\", \"#B6E880\", \"#FF97FF\", \"#FECB52\"], \"font\": {\"color\": \"#2a3f5f\"}, \"geo\": {\"bgcolor\": \"white\", \"lakecolor\": \"white\", \"landcolor\": \"#E5ECF6\", \"showlakes\": true, \"showland\": true, \"subunitcolor\": \"white\"}, \"hoverlabel\": {\"align\": \"left\"}, \"hovermode\": \"closest\", \"mapbox\": {\"style\": \"light\"}, \"paper_bgcolor\": \"white\", \"plot_bgcolor\": \"#E5ECF6\", \"polar\": {\"angularaxis\": {\"gridcolor\": \"white\", \"linecolor\": \"white\", \"ticks\": \"\"}, \"bgcolor\": \"#E5ECF6\", \"radialaxis\": {\"gridcolor\": \"white\", \"linecolor\": \"white\", \"ticks\": \"\"}}, \"scene\": {\"xaxis\": {\"backgroundcolor\": \"#E5ECF6\", \"gridcolor\": \"white\", \"gridwidth\": 2, \"linecolor\": \"white\", \"showbackground\": true, \"ticks\": \"\", \"zerolinecolor\": \"white\"}, \"yaxis\": {\"backgroundcolor\": \"#E5ECF6\", \"gridcolor\": \"white\", \"gridwidth\": 2, \"linecolor\": \"white\", \"showbackground\": true, \"ticks\": \"\", \"zerolinecolor\": \"white\"}, \"zaxis\": {\"backgroundcolor\": \"#E5ECF6\", \"gridcolor\": \"white\", \"gridwidth\": 2, \"linecolor\": \"white\", \"showbackground\": true, \"ticks\": \"\", \"zerolinecolor\": \"white\"}}, \"shapedefaults\": {\"line\": {\"color\": \"#2a3f5f\"}}, \"ternary\": {\"aaxis\": {\"gridcolor\": \"white\", \"linecolor\": \"white\", \"ticks\": \"\"}, \"baxis\": {\"gridcolor\": \"white\", \"linecolor\": \"white\", \"ticks\": \"\"}, \"bgcolor\": \"#E5ECF6\", \"caxis\": {\"gridcolor\": \"white\", \"linecolor\": \"white\", \"ticks\": \"\"}}, \"title\": {\"x\": 0.05}, \"xaxis\": {\"automargin\": true, \"gridcolor\": \"white\", \"linecolor\": \"white\", \"ticks\": \"\", \"zerolinecolor\": \"white\", \"zerolinewidth\": 2}, \"yaxis\": {\"automargin\": true, \"gridcolor\": \"white\", \"linecolor\": \"white\", \"ticks\": \"\", \"zerolinecolor\": \"white\", \"zerolinewidth\": 2}}}, \"yaxis\": {\"title\": {\"text\": \"MAE\"}}},\n",
       "                        {\"responsive\": true}\n",
       "                    ).then(function(){\n",
       "                            \n",
       "var gd = document.getElementById('8763ba75-16b1-4605-a385-439c2c683450');\n",
       "var x = new MutationObserver(function (mutations, observer) {{\n",
       "        var display = window.getComputedStyle(gd).display;\n",
       "        if (!display || display === 'none') {{\n",
       "            console.log([gd, 'removed!']);\n",
       "            Plotly.purge(gd);\n",
       "            observer.disconnect();\n",
       "        }}\n",
       "}});\n",
       "\n",
       "// Listen for the removal of the full notebook cells\n",
       "var notebookContainer = gd.closest('#notebook-container');\n",
       "if (notebookContainer) {{\n",
       "    x.observe(notebookContainer, {childList: true});\n",
       "}}\n",
       "\n",
       "// Listen for the clearing of the current output cell\n",
       "var outputEl = gd.closest('.output');\n",
       "if (outputEl) {{\n",
       "    x.observe(outputEl, {childList: true});\n",
       "}}\n",
       "\n",
       "                        })\n",
       "                };\n",
       "                });\n",
       "            </script>\n",
       "        </div>"
      ]
     },
     "metadata": {},
     "output_type": "display_data"
    }
   ],
   "source": [
    "hopt_exp.visualize_perf_distribution('WEST_box_8760', range(5,10))"
   ]
  },
  {
   "cell_type": "code",
   "execution_count": 22,
   "metadata": {},
   "outputs": [
    {
     "data": {
      "application/vnd.plotly.v1+json": {
       "config": {
        "plotlyServerURL": "https://plot.ly"
       },
       "data": [
        {
         "name": "Random search",
         "type": "scatter",
         "y": [
          194.6631440888908,
          176.28300287274683,
          144.00141035813644,
          144.00141035813644,
          131.55372970378318,
          127.99773331848647,
          127.53629748301523,
          127.38314132579512,
          124.23675862196623,
          124.23675862196623,
          124.01156762757405,
          124.01156762757405,
          124.01156762757405,
          123.89442794240753,
          122.5020748507889,
          122.5020748507889,
          122.5020748507889,
          122.5020748507889,
          122.5020748507889,
          122.5020748507889,
          121.53516484728955,
          121.53516484728955,
          121.53516484728955,
          121.53516484728955,
          121.53516484728955,
          121.53516484728955,
          121.53516484728955,
          121.53516484728955,
          121.53516484728955,
          121.53228796391086,
          121.37979329847403,
          121.37979329847403,
          121.37979329847403,
          121.37979329847403,
          120.99031696048641,
          120.99031696048641,
          120.99031696048641,
          120.99031696048641,
          120.69031001220608,
          120.69031001220608,
          120.69031001220608,
          120.69031001220608,
          120.69031001220608,
          120.69031001220608,
          120.50156585417312,
          120.50156585417312,
          120.50156585417312,
          119.55608719541878,
          119.55608719541878,
          119.53414752941964,
          119.53414752941964,
          119.53414752941964,
          119.5326502268105,
          119.5326502268105,
          119.5326502268105,
          119.5326502268105,
          119.5326502268105,
          119.5326502268105,
          119.5326502268105,
          119.5326502268105,
          119.5326502268105,
          119.51881920173814,
          119.51881920173814,
          119.51881920173814,
          119.51881920173814,
          119.51881920173814,
          119.51881920173814,
          119.51881920173814,
          119.51881920173814,
          119.51881920173814,
          119.51881920173814,
          119.51881920173814,
          119.51881920173814,
          119.51881920173814,
          119.51881920173814,
          119.51881920173814,
          119.51881920173814,
          119.51881920173814,
          119.51881920173814,
          119.51881920173814,
          119.51881920173814,
          119.51881920173814,
          119.51881920173814,
          119.51881920173814,
          119.51881920173814,
          119.51881920173814,
          119.51881920173814,
          119.51881920173814,
          119.51881920173814,
          119.51881920173814,
          119.51881920173814,
          119.51881920173814,
          119.51881920173814,
          119.51881920173814,
          119.51881920173814,
          119.51881920173814,
          119.51881920173814,
          119.51881920173814,
          119.51881920173814,
          119.51881920173814
         ]
        },
        {
         "name": "Naive Bayesian optimization",
         "type": "scatter",
         "y": [
          176.97431161991068,
          138.2153654259632,
          124.72095130623605,
          124.72095130623605,
          122.70963085432422,
          120.48013022466337,
          120.24614666913453,
          120.24614666913453,
          120.24331327555042,
          120.24331327555042,
          120.24331327555042,
          120.24331327555042,
          120.24331327555042,
          119.94470876406383,
          119.94470876406383,
          119.94470876406383,
          119.94470876406383,
          119.94470876406383,
          119.94470876406383,
          119.94470876406383,
          119.94470876406383,
          119.90602959085172,
          119.90602959085172,
          119.90602959085172,
          119.90602959085172,
          119.90602959085172,
          119.90602959085172,
          119.90602959085172,
          119.90602959085172,
          119.90602959085172,
          119.87902931822563,
          119.87902931822563,
          119.80613967909672,
          119.80613967909672,
          119.65723300699588,
          119.65723300699588,
          119.65723300699588,
          119.65723300699588,
          119.65723300699588,
          119.65723300699588,
          119.65723300699588,
          119.65723300699588,
          119.65723300699588,
          119.65723300699588,
          119.65723300699588,
          119.65723300699588,
          119.65723300699588,
          119.65723300699588,
          119.65723300699588,
          119.65723300699588,
          119.65723300699588,
          119.65723300699588,
          119.65723300699588,
          119.65723300699588,
          119.65723300699588,
          119.65723300699588,
          119.65723300699588,
          119.65723300699588,
          119.65723300699588,
          119.65723300699588,
          119.65723300699588,
          119.65723300699588,
          119.64803206110591,
          119.64803206110591,
          119.64803206110591,
          119.64803206110591,
          119.64803206110591,
          119.64803206110591,
          119.64803206110591,
          119.64803206110591,
          119.64803206110591,
          119.63569833864267,
          119.63569833864267,
          119.63569833864267,
          119.63569833864267,
          119.6218673135703,
          119.6218673135703,
          119.6218673135703,
          119.6218673135703,
          119.6218673135703,
          119.6218673135703,
          119.6218673135703,
          119.6218673135703,
          119.6218673135703,
          119.6218673135703,
          119.6218673135703,
          119.6218673135703,
          119.6218673135703,
          119.6218673135703,
          119.6218673135703,
          119.6218673135703,
          119.6218673135703,
          119.6218673135703,
          119.6218673135703,
          119.6218673135703,
          119.6218673135703,
          119.6218673135703,
          119.6218673135703,
          119.6218673135703,
          119.6218673135703
         ]
        },
        {
         "name": "Warmstarted Bayesian optimization 1",
         "type": "scatter",
         "y": [
          202.67301868326854,
          119.90537530818918,
          119.90537530818918,
          119.89940291213532,
          119.85798077548434,
          119.85798077548434,
          119.85798077548434,
          119.85798077548434,
          119.85798077548434,
          119.85798077548434,
          119.81368043341222,
          119.81368043341222,
          119.81368043341222,
          119.81368043341222,
          119.81368043341222,
          119.81368043341222,
          119.81368043341222,
          119.81368043341222,
          119.81368043341222,
          119.78818765845752,
          119.78818765845752,
          119.78818765845752,
          119.78818765845752,
          119.78818765845752,
          119.78818765845752,
          119.78818765845752,
          119.63569299302071,
          119.48319832758389,
          119.48319832758389,
          119.44476077317242,
          119.44476077317242,
          119.44476077317242,
          119.44476077317242,
          119.44476077317242,
          119.44476077317242,
          119.44476077317242,
          119.44476077317242,
          119.44476077317242,
          119.44476077317242,
          119.44476077317242,
          119.44476077317242,
          119.44476077317242,
          119.43889798551174,
          119.43889798551174,
          119.43889798551174,
          119.43889798551174,
          119.43889798551174,
          119.43889798551174,
          119.43889798551174,
          119.43889798551174,
          119.43889798551174,
          119.43889798551174,
          119.43889798551174,
          119.43889798551174,
          119.43889798551174,
          119.43889798551174,
          119.43889798551174,
          119.43889798551174,
          119.43889798551174,
          119.43889798551174,
          119.43889798551174,
          119.40625939332192,
          119.40625939332192,
          119.39242836824955,
          119.39242836824955,
          119.39242836824955,
          119.39242836824955,
          119.39242836824955,
          119.39242836824955,
          119.39242836824955,
          119.37859734317719,
          119.37859734317719,
          119.37859734317719,
          119.37859734317719,
          119.37859734317719,
          119.37859734317719,
          119.37859734317719,
          119.37859734317719,
          119.37859734317719,
          119.37859734317719,
          119.37859734317719,
          119.37859734317719,
          119.37859734317719,
          119.37859734317719,
          119.37859734317719,
          119.37859734317719,
          119.37859734317719,
          119.37859734317719,
          119.37859734317719,
          119.37859734317719,
          119.37859734317719,
          119.37859734317719,
          119.37859734317719,
          119.37859734317719,
          119.37859734317719,
          119.37859734317719,
          119.37859734317719,
          119.37859734317719,
          119.37859734317719,
          119.37859734317719
         ]
        },
        {
         "name": "Warmstarted Bayesian optimization 1 - equal total configs",
         "type": "scatter",
         "y": [
          280.99499649523216,
          159.71322340790786,
          120.03440427526577,
          120.03440427526577,
          120.03440427526577,
          120.03440427526577,
          120.03440427526577,
          120.03440427526577,
          120.03440427526577,
          120.03440427526577,
          120.03440427526577,
          120.03440427526577,
          120.03440427526577,
          120.03440427526577,
          120.03440427526577,
          120.03440427526577,
          120.03440427526577,
          120.03440427526577,
          120.03440427526577,
          120.03440427526577,
          120.03440427526577,
          120.03440427526577,
          120.03440427526577,
          119.9267022342513,
          119.84561988961373,
          119.84561988961373,
          119.84561988961373,
          119.84523931336454,
          119.84523931336454,
          119.7715170589968,
          119.7715170589968,
          119.7715170589968,
          119.73036957137984,
          119.73036957137984,
          119.72208514404966,
          119.72208514404966,
          119.72208514404966,
          119.72208514404966,
          119.72208514404966,
          119.68615437719953,
          119.68615437719953,
          119.68615437719953,
          119.68615437719953,
          119.68615437719953,
          119.68615437719953,
          119.68615437719953,
          119.68615437719953,
          119.68615437719953,
          119.68615437719953,
          119.64771682278806,
          119.64771682278806,
          119.64771682278806,
          119.64771682278806,
          119.64771682278806,
          119.64771682278806,
          119.63538310032482,
          119.63538310032482,
          119.63538310032482,
          119.63538310032482,
          119.63538310032482,
          119.62551622249366,
          119.62551622249366,
          119.62551622249366,
          119.51881920173814,
          119.51881920173814,
          119.51881920173814,
          119.51881920173814,
          119.4121221809826,
          119.4121221809826,
          119.40625939332192,
          119.40625939332192,
          119.40625939332192,
          119.40625939332192,
          119.39242836824955,
          119.39242836824955,
          119.39242836824955,
          119.39242836824955,
          119.39242836824955,
          119.37859734317719,
          119.37859734317719,
          119.37859734317719,
          119.37859734317719,
          119.37859734317719,
          119.37859734317719,
          119.37859734317719,
          119.37859734317719,
          119.37859734317719,
          119.37859734317719,
          119.37859734317719,
          119.37859734317719,
          119.37859734317719,
          119.37859734317719,
          119.37859734317719,
          119.37859734317719,
          119.37859734317719,
          119.37859734317719,
          119.37859734317719,
          119.37859734317719,
          119.37859734317719,
          119.37859734317719
         ]
        },
        {
         "name": "Warmstarted Bayesian optimization 5",
         "type": "scatter",
         "y": [
          119.90537530818918,
          119.89940291213532,
          119.85798077548434,
          119.85798077548434,
          119.85798077548434,
          119.8195432210729,
          119.8195432210729,
          119.8195432210729,
          119.8195432210729,
          119.8195432210729,
          119.8195432210729,
          119.8195432210729,
          119.8195432210729,
          119.8195432210729,
          119.8195432210729,
          119.8195432210729,
          119.81368043341222,
          119.81368043341222,
          119.81368043341222,
          119.81368043341222,
          119.81368043341222,
          119.81368043341222,
          119.81368043341222,
          119.81368043341222,
          119.81368043341222,
          119.81368043341222,
          119.76788278873092,
          119.76788278873092,
          119.6611857679754,
          119.6611857679754,
          119.6611857679754,
          119.6611857679754,
          119.6611857679754,
          119.6611857679754,
          119.6611857679754,
          119.6611857679754,
          119.6611857679754,
          119.6611857679754,
          119.62274821356394,
          119.57695056888265,
          119.57695056888265,
          119.57695056888265,
          119.57695056888265,
          119.57695056888265,
          119.57695056888265,
          119.57695056888265,
          119.57695056888265,
          119.57695056888265,
          119.5326502268105,
          119.5326502268105,
          119.5326502268105,
          119.5326502268105,
          119.5326502268105,
          119.5326502268105,
          119.5326502268105,
          119.5326502268105,
          119.5326502268105,
          119.5326502268105,
          119.5326502268105,
          119.5326502268105,
          119.5326502268105,
          119.5326502268105,
          119.5326502268105,
          119.42595320605498,
          119.42595320605498,
          119.42595320605498,
          119.42595320605498,
          119.42595320605498,
          119.42595320605498,
          119.41212218098262,
          119.39829115591024,
          119.39829115591024,
          119.39829115591024,
          119.39829115591024,
          119.39829115591024,
          119.39829115591024,
          119.39829115591024,
          119.39829115591024,
          119.39829115591024,
          119.39829115591024,
          119.39829115591024,
          119.39829115591024,
          119.39829115591024,
          119.39829115591024,
          119.39829115591024,
          119.39829115591024,
          119.39829115591024,
          119.39829115591024,
          119.39829115591024,
          119.39242836824955,
          119.39242836824955,
          119.39242836824955,
          119.39242836824955,
          119.39242836824955,
          119.39242836824955,
          119.39242836824955,
          119.39242836824955,
          119.39242836824955,
          119.39242836824955,
          119.39242836824955
         ]
        },
        {
         "name": "Warmstarted Bayesian optimization 5 - equal total configs",
         "type": "scatter",
         "y": [
          119.89940291213532,
          119.89940291213532,
          119.89940291213532,
          119.89940291213532,
          119.89940291213532,
          119.89940291213532,
          119.89940291213532,
          119.89940291213532,
          119.89940291213532,
          119.89940291213532,
          119.89940291213532,
          119.89940291213532,
          119.89940291213532,
          119.89940291213532,
          119.84681814273299,
          119.84681814273299,
          119.84681814273299,
          119.84681814273299,
          119.84681814273299,
          119.84681814273299,
          119.84532084012383,
          119.84532084012383,
          119.84532084012383,
          119.84532084012383,
          119.84532084012383,
          119.84532084012383,
          119.84532084012383,
          119.84532084012383,
          119.84532084012383,
          119.84532084012383,
          119.84532084012383,
          119.84532084012383,
          119.79859885838218,
          119.75438366420187,
          119.75438366420187,
          119.75438366420187,
          119.75438366420187,
          119.75438366420187,
          119.70179889479952,
          119.68796786972716,
          119.67959829450513,
          119.62551622249366,
          119.61965343483298,
          119.61965343483298,
          119.61965343483298,
          119.61965343483298,
          119.61965343483298,
          119.61965343483298,
          119.61965343483298,
          119.61965343483298,
          119.61965343483298,
          119.61965343483298,
          119.61965343483298,
          119.61965343483298,
          119.61965343483298,
          119.61965343483298,
          119.61965343483298,
          119.61965343483298,
          119.61965343483298,
          119.61965343483298,
          119.61965343483298,
          119.61965343483298,
          119.60731971236976,
          119.60731971236976,
          119.60731971236976,
          119.60731971236976,
          119.60731971236976,
          119.60731971236976,
          119.60731971236976,
          119.60731971236976,
          119.59348868729737,
          119.59348868729737,
          119.59348868729737,
          119.59348868729737,
          119.59348868729737,
          119.579657662225,
          119.579657662225,
          119.579657662225,
          119.579657662225,
          119.579657662225,
          119.579657662225,
          119.579657662225,
          119.579657662225,
          119.579657662225,
          119.579657662225,
          119.579657662225,
          119.579657662225,
          119.579657662225,
          119.579657662225,
          119.579657662225,
          119.579657662225,
          119.579657662225,
          119.579657662225,
          119.47296064146948,
          119.47296064146948,
          119.47296064146948,
          119.47296064146948,
          119.47296064146948,
          119.47296064146948,
          119.47296064146948
         ]
        },
        {
         "name": "Warmstarted Bayesian optimization 10",
         "type": "scatter",
         "y": [
          125.80096218021512,
          119.90537530818918,
          119.90537530818918,
          119.90537530818918,
          119.90537530818918,
          119.90537530818918,
          119.83776503450369,
          119.83776503450369,
          119.83776503450369,
          119.83776503450369,
          119.83776503450369,
          119.83776503450369,
          119.83776503450369,
          119.83776503450369,
          119.83776503450369,
          119.83776503450369,
          119.83776503450369,
          119.83776503450369,
          119.83776503450369,
          119.83657055529291,
          119.83657055529291,
          119.83657055529291,
          119.83657055529291,
          119.83657055529291,
          119.82589716954116,
          119.82589716954116,
          119.82589716954116,
          119.82589716954116,
          119.82589716954116,
          119.82589716954116,
          119.82589716954116,
          119.78048749615009,
          119.78048749615009,
          119.78048749615009,
          119.77798070858876,
          119.77798070858876,
          119.77798070858876,
          119.73218306390747,
          119.73218306390747,
          119.73218306390747,
          119.73218306390747,
          119.73218306390747,
          119.73218306390747,
          119.73218306390747,
          119.73218306390747,
          119.73218306390747,
          119.73218306390747,
          119.73218306390747,
          119.73218306390747,
          119.73218306390747,
          119.73218306390747,
          119.73218306390747,
          119.73218306390747,
          119.67959829450515,
          119.67959829450515,
          119.67959829450515,
          119.67959829450515,
          119.67959829450515,
          119.51881920173814,
          119.51881920173814,
          119.51881920173814,
          119.4121221809826,
          119.4121221809826,
          119.4121221809826,
          119.4121221809826,
          119.4121221809826,
          119.39829115591024,
          119.39829115591024,
          119.39829115591024,
          119.39829115591024,
          119.39829115591024,
          119.39829115591024,
          119.39829115591024,
          119.39829115591024,
          119.39242836824955,
          119.39242836824955,
          119.37859734317719,
          119.37859734317719,
          119.37859734317719,
          119.37859734317719,
          119.37859734317719,
          119.37859734317719,
          119.37859734317719,
          119.37859734317719,
          119.37859734317719,
          119.37859734317719,
          119.37859734317719,
          119.37859734317719,
          119.37859734317719,
          119.37859734317719,
          119.37859734317719,
          119.37859734317719,
          119.37859734317719,
          119.37859734317719,
          119.37859734317719,
          119.37859734317719,
          119.37859734317719,
          119.37859734317719,
          119.37859734317719,
          119.37859734317719
         ]
        },
        {
         "name": "Warmstarted Bayesian optimization 10 - equal total configs",
         "type": "scatter",
         "y": [
          119.90130579338123,
          119.90130579338123,
          119.85798077548434,
          119.85798077548434,
          119.85798077548434,
          119.85798077548434,
          119.85798077548434,
          119.85798077548434,
          119.85798077548434,
          119.85798077548434,
          119.85798077548434,
          119.70548611004756,
          119.70548611004756,
          119.70548611004756,
          119.70548611004756,
          119.70548611004756,
          119.68312543397451,
          119.68312543397451,
          119.68312543397451,
          119.68312543397451,
          119.68312543397451,
          119.68312543397451,
          119.68312543397451,
          119.63732778929325,
          119.63732778929325,
          119.63732778929325,
          119.63732778929325,
          119.63732778929325,
          119.63732778929325,
          119.63732778929325,
          119.63732778929325,
          119.63732778929325,
          119.63732778929325,
          119.53063076853769,
          119.53063076853769,
          119.53063076853769,
          119.53063076853769,
          119.53063076853769,
          119.53063076853769,
          119.45055973539407,
          119.45055973539407,
          119.45055973539407,
          119.45055973539407,
          119.45055973539407,
          119.45055973539407,
          119.45055973539407,
          119.45055973539407,
          119.45055973539407,
          119.45055973539407,
          119.45055973539407,
          119.45055973539407,
          119.45055973539407,
          119.45055973539407,
          119.45055973539407,
          119.45055973539407,
          119.45055973539407,
          119.45055973539407,
          119.45055973539407,
          119.39242836824955,
          119.39242836824955,
          119.39242836824955,
          119.39242836824955,
          119.39242836824955,
          119.39242836824955,
          119.39242836824955,
          119.39242836824955,
          119.39242836824955,
          119.39242836824955,
          119.39242836824955,
          119.39242836824955,
          119.37859734317719,
          119.37859734317719,
          119.37859734317719,
          119.37859734317719,
          119.37859734317719,
          119.37859734317719,
          119.37859734317719,
          119.37859734317719,
          119.37859734317719,
          119.37859734317719,
          119.37859734317719,
          119.37859734317719,
          119.37859734317719,
          119.37859734317719,
          119.37859734317719,
          119.37859734317719,
          119.37859734317719,
          119.37859734317719,
          119.37859734317719,
          119.37859734317719,
          119.37859734317719,
          119.37859734317719,
          119.37859734317719,
          119.37859734317719,
          119.37859734317719,
          119.37859734317719,
          119.37859734317719,
          119.37859734317719,
          119.37859734317719,
          119.37859734317719
         ]
        },
        {
         "name": "Warmstarted Bayesian optimization 15",
         "type": "scatter",
         "y": [
          202.34890679177812,
          125.80096218021512,
          125.80096218021512,
          120.42538477810447,
          119.89940291213532,
          119.86875780873211,
          119.86875780873211,
          119.86875780873211,
          119.86875780873211,
          119.86875780873211,
          119.86875780873211,
          119.86875780873211,
          119.86875780873211,
          119.81617303932975,
          119.81617303932975,
          119.81617303932975,
          119.81617303932975,
          119.76358826992741,
          119.76358826992741,
          119.76358826992741,
          119.76358826992741,
          119.76358826992741,
          119.76358826992741,
          119.7110035005251,
          119.7110035005251,
          119.6752328094536,
          119.66140178438123,
          119.66140178438123,
          119.66140178438123,
          119.66140178438123,
          119.66140178438123,
          119.66140178438123,
          119.66140178438123,
          119.66140178438123,
          119.60881701497888,
          119.60881701497888,
          119.60881701497888,
          119.59498598990652,
          119.59498598990652,
          119.59498598990652,
          119.59498598990652,
          119.59498598990652,
          119.59498598990652,
          119.59498598990652,
          119.59498598990652,
          119.59498598990652,
          119.59498598990652,
          119.59498598990652,
          119.59498598990652,
          119.59498598990652,
          119.59498598990652,
          119.59498598990652,
          119.59498598990652,
          119.59498598990652,
          119.59498598990652,
          119.59498598990652,
          119.59498598990652,
          119.59498598990652,
          119.59498598990652,
          119.59498598990652,
          119.59498598990652,
          119.50062269161421,
          119.50062269161421,
          119.40625939332195,
          119.40625939332195,
          119.40625939332195,
          119.40625939332195,
          119.40625939332195,
          119.39242836824955,
          119.39242836824955,
          119.39242836824955,
          119.39242836824955,
          119.39242836824955,
          119.39242836824955,
          119.39242836824955,
          119.39242836824955,
          119.39242836824955,
          119.39242836824955,
          119.39242836824955,
          119.39242836824955,
          119.39242836824955,
          119.39242836824955,
          119.39242836824955,
          119.39242836824955,
          119.39242836824955,
          119.39242836824955,
          119.39242836824955,
          119.39242836824955,
          119.39242836824955,
          119.39242836824955,
          119.39242836824955,
          119.39242836824955,
          119.39242836824955,
          119.39242836824955,
          119.39242836824955,
          119.39242836824955,
          119.39242836824955,
          119.39242836824955,
          119.39242836824955,
          119.39242836824955
         ]
        },
        {
         "name": "Warmstarted Bayesian optimization 15 - equal total configs",
         "type": "scatter",
         "y": [
          120.03440427526577,
          120.03440427526577,
          119.85798077548434,
          119.85798077548434,
          119.85798077548434,
          119.81368043341222,
          119.81368043341222,
          119.81368043341222,
          119.81368043341222,
          119.81368043341222,
          119.81368043341222,
          119.81368043341222,
          119.81368043341222,
          119.81368043341222,
          119.81368043341222,
          119.81368043341222,
          119.75554906626769,
          119.75554906626769,
          119.75554906626769,
          119.75554906626769,
          119.69592039651403,
          119.69592039651403,
          119.69592039651403,
          119.69592039651403,
          119.69592039651403,
          119.69592039651403,
          119.58922337575851,
          119.58922337575851,
          119.58922337575851,
          119.58922337575851,
          119.58922337575851,
          119.58922337575851,
          119.58922337575851,
          119.58922337575851,
          119.58922337575851,
          119.58922337575851,
          119.58922337575851,
          119.58922337575851,
          119.58922337575851,
          119.58922337575851,
          119.58922337575851,
          119.5532926089084,
          119.5532926089084,
          119.5532926089084,
          119.5532926089084,
          119.5532926089084,
          119.5532926089084,
          119.5532926089084,
          119.5532926089084,
          119.4589293106161,
          119.4589293106161,
          119.4589293106161,
          119.4589293106161,
          119.4589293106161,
          119.4589293106161,
          119.4589293106161,
          119.4589293106161,
          119.4589293106161,
          119.4589293106161,
          119.4589293106161,
          119.40079794347159,
          119.40079794347159,
          119.40079794347159,
          119.39829115591024,
          119.39829115591024,
          119.39829115591024,
          119.39829115591024,
          119.39829115591024,
          119.39829115591024,
          119.39829115591024,
          119.39242836824955,
          119.39242836824955,
          119.39242836824955,
          119.39242836824955,
          119.39242836824955,
          119.37859734317719,
          119.37859734317719,
          119.37859734317719,
          119.37859734317719,
          119.37859734317719,
          119.37859734317719,
          119.37859734317719,
          119.37859734317719,
          119.37859734317719,
          119.37859734317719,
          119.37859734317719,
          119.37859734317719,
          119.37859734317719,
          119.37859734317719,
          119.37859734317719,
          119.37859734317719,
          119.37859734317719,
          119.37859734317719,
          119.37859734317719,
          119.37859734317719,
          119.37859734317719,
          119.37859734317719,
          119.2842340448849,
          119.2842340448849,
          119.2842340448849
         ]
        },
        {
         "name": "Allround Bayesian optimization",
         "type": "scatter",
         "y": [
          120.8793417749577,
          120.8793417749577,
          120.8793417749577,
          120.8793417749577,
          119.73051690071085,
          119.73051690071085,
          119.73051690071085,
          119.71170933359342,
          119.71170933359342,
          119.71170933359342,
          119.71170933359342,
          119.71170933359342,
          119.71170933359342,
          119.71170933359342,
          119.71170933359342,
          119.71170933359342,
          119.71170933359342,
          119.71170933359342,
          119.71170933359342,
          119.71170933359342,
          119.71170933359342,
          119.69876455413666,
          119.67995698701921,
          119.67995698701921,
          119.67995698701921,
          119.67995698701921,
          119.67995698701921,
          119.67995698701921,
          119.66026317428616,
          119.62762458209633,
          119.62762458209633,
          119.62762458209633,
          119.62762458209633,
          119.62762458209633,
          119.62762458209633,
          119.50062269161421,
          119.50062269161421,
          119.48679166654185,
          119.48679166654185,
          119.48679166654185,
          119.48679166654185,
          119.48679166654185,
          119.48679166654185,
          119.48679166654185,
          119.48679166654185,
          119.48679166654185,
          119.48679166654185,
          119.48679166654185,
          119.48679166654185,
          119.48679166654185,
          119.48679166654185,
          119.48679166654185,
          119.48679166654185,
          119.48679166654185,
          119.48679166654185,
          119.48679166654185,
          119.48679166654185,
          119.48679166654185,
          119.48679166654185,
          119.48679166654185,
          119.48679166654185,
          119.48679166654185,
          119.48679166654185,
          119.48679166654185,
          119.48679166654185,
          119.48679166654185,
          119.48679166654185,
          119.48679166654185,
          119.39242836824955,
          119.39242836824955,
          119.39242836824955,
          119.37859734317719,
          119.37859734317719,
          119.37859734317719,
          119.37859734317719,
          119.37859734317719,
          119.37859734317719,
          119.37859734317719,
          119.37859734317719,
          119.37859734317719,
          119.37859734317719,
          119.37859734317719,
          119.37859734317719,
          119.37859734317719,
          119.37859734317719,
          119.37859734317719,
          119.37859734317719,
          119.37859734317719,
          119.37859734317719,
          119.37859734317719,
          119.37859734317719,
          119.37859734317719,
          119.37859734317719,
          119.37859734317719,
          119.37859734317719,
          119.37859734317719,
          119.37859734317719,
          119.37859734317719,
          119.37859734317719,
          119.37859734317719
         ]
        },
        {
         "name": "Allround Bayesian optimization - equal total configs",
         "type": "scatter",
         "y": [
          120.8793417749577,
          120.8793417749577,
          120.8793417749577,
          120.8793417749577,
          119.73051690071085,
          119.73051690071085,
          119.73051690071085,
          119.73051690071085,
          119.73051690071085,
          119.73051690071085,
          119.73051690071085,
          119.73051690071085,
          119.73051690071085,
          119.73051690071085,
          119.73051690071085,
          119.73051690071085,
          119.71757212125411,
          119.71757212125411,
          119.71757212125411,
          119.71757212125411,
          119.69726725152752,
          119.69726725152752,
          119.69726725152752,
          119.69726725152752,
          119.69726725152752,
          119.69726725152752,
          119.69140446386685,
          119.69140446386685,
          119.69140446386685,
          119.69140446386685,
          119.69140446386685,
          119.56440257338473,
          119.56440257338473,
          119.55057154831236,
          119.55057154831236,
          119.55057154831236,
          119.55057154831236,
          119.55057154831236,
          119.55057154831236,
          119.42506696043938,
          119.42506696043938,
          119.42506696043938,
          119.42506696043938,
          119.42506696043938,
          119.42506696043938,
          119.42506696043938,
          119.42506696043938,
          119.42506696043938,
          119.42506696043938,
          119.42506696043938,
          119.42506696043938,
          119.42506696043938,
          119.42506696043938,
          119.42506696043938,
          119.42506696043938,
          119.42506696043938,
          119.42506696043938,
          119.42506696043938,
          119.42506696043938,
          119.42506696043938,
          119.42506696043938,
          119.42506696043938,
          119.42506696043938,
          119.42506696043938,
          119.42506696043938,
          119.42506696043938,
          119.41123593536702,
          119.41123593536702,
          119.41123593536702,
          119.41123593536702,
          119.41123593536702,
          119.41123593536702,
          119.41123593536702,
          119.41123593536702,
          119.41123593536702,
          119.41123593536702,
          119.41123593536702,
          119.41123593536702,
          119.41123593536702,
          119.41123593536702,
          119.41123593536702,
          119.41123593536702,
          119.41123593536702,
          119.41123593536702,
          119.41123593536702,
          119.41123593536702,
          119.41123593536702,
          119.41123593536702,
          119.41123593536702,
          119.41123593536702,
          119.41123593536702,
          119.41123593536702,
          119.41123593536702,
          119.41123593536702,
          119.41123593536702,
          119.41123593536702,
          119.41123593536702,
          119.41123593536702,
          119.41123593536702,
          119.41123593536702
         ]
        }
       ],
       "layout": {
        "autosize": true,
        "template": {
         "data": {
          "bar": [
           {
            "error_x": {
             "color": "#2a3f5f"
            },
            "error_y": {
             "color": "#2a3f5f"
            },
            "marker": {
             "line": {
              "color": "#E5ECF6",
              "width": 0.5
             }
            },
            "type": "bar"
           }
          ],
          "barpolar": [
           {
            "marker": {
             "line": {
              "color": "#E5ECF6",
              "width": 0.5
             }
            },
            "type": "barpolar"
           }
          ],
          "carpet": [
           {
            "aaxis": {
             "endlinecolor": "#2a3f5f",
             "gridcolor": "white",
             "linecolor": "white",
             "minorgridcolor": "white",
             "startlinecolor": "#2a3f5f"
            },
            "baxis": {
             "endlinecolor": "#2a3f5f",
             "gridcolor": "white",
             "linecolor": "white",
             "minorgridcolor": "white",
             "startlinecolor": "#2a3f5f"
            },
            "type": "carpet"
           }
          ],
          "choropleth": [
           {
            "colorbar": {
             "outlinewidth": 0,
             "ticks": ""
            },
            "type": "choropleth"
           }
          ],
          "contour": [
           {
            "colorbar": {
             "outlinewidth": 0,
             "ticks": ""
            },
            "colorscale": [
             [
              0,
              "#0d0887"
             ],
             [
              0.1111111111111111,
              "#46039f"
             ],
             [
              0.2222222222222222,
              "#7201a8"
             ],
             [
              0.3333333333333333,
              "#9c179e"
             ],
             [
              0.4444444444444444,
              "#bd3786"
             ],
             [
              0.5555555555555556,
              "#d8576b"
             ],
             [
              0.6666666666666666,
              "#ed7953"
             ],
             [
              0.7777777777777778,
              "#fb9f3a"
             ],
             [
              0.8888888888888888,
              "#fdca26"
             ],
             [
              1,
              "#f0f921"
             ]
            ],
            "type": "contour"
           }
          ],
          "contourcarpet": [
           {
            "colorbar": {
             "outlinewidth": 0,
             "ticks": ""
            },
            "type": "contourcarpet"
           }
          ],
          "heatmap": [
           {
            "colorbar": {
             "outlinewidth": 0,
             "ticks": ""
            },
            "colorscale": [
             [
              0,
              "#0d0887"
             ],
             [
              0.1111111111111111,
              "#46039f"
             ],
             [
              0.2222222222222222,
              "#7201a8"
             ],
             [
              0.3333333333333333,
              "#9c179e"
             ],
             [
              0.4444444444444444,
              "#bd3786"
             ],
             [
              0.5555555555555556,
              "#d8576b"
             ],
             [
              0.6666666666666666,
              "#ed7953"
             ],
             [
              0.7777777777777778,
              "#fb9f3a"
             ],
             [
              0.8888888888888888,
              "#fdca26"
             ],
             [
              1,
              "#f0f921"
             ]
            ],
            "type": "heatmap"
           }
          ],
          "heatmapgl": [
           {
            "colorbar": {
             "outlinewidth": 0,
             "ticks": ""
            },
            "colorscale": [
             [
              0,
              "#0d0887"
             ],
             [
              0.1111111111111111,
              "#46039f"
             ],
             [
              0.2222222222222222,
              "#7201a8"
             ],
             [
              0.3333333333333333,
              "#9c179e"
             ],
             [
              0.4444444444444444,
              "#bd3786"
             ],
             [
              0.5555555555555556,
              "#d8576b"
             ],
             [
              0.6666666666666666,
              "#ed7953"
             ],
             [
              0.7777777777777778,
              "#fb9f3a"
             ],
             [
              0.8888888888888888,
              "#fdca26"
             ],
             [
              1,
              "#f0f921"
             ]
            ],
            "type": "heatmapgl"
           }
          ],
          "histogram": [
           {
            "marker": {
             "colorbar": {
              "outlinewidth": 0,
              "ticks": ""
             }
            },
            "type": "histogram"
           }
          ],
          "histogram2d": [
           {
            "colorbar": {
             "outlinewidth": 0,
             "ticks": ""
            },
            "colorscale": [
             [
              0,
              "#0d0887"
             ],
             [
              0.1111111111111111,
              "#46039f"
             ],
             [
              0.2222222222222222,
              "#7201a8"
             ],
             [
              0.3333333333333333,
              "#9c179e"
             ],
             [
              0.4444444444444444,
              "#bd3786"
             ],
             [
              0.5555555555555556,
              "#d8576b"
             ],
             [
              0.6666666666666666,
              "#ed7953"
             ],
             [
              0.7777777777777778,
              "#fb9f3a"
             ],
             [
              0.8888888888888888,
              "#fdca26"
             ],
             [
              1,
              "#f0f921"
             ]
            ],
            "type": "histogram2d"
           }
          ],
          "histogram2dcontour": [
           {
            "colorbar": {
             "outlinewidth": 0,
             "ticks": ""
            },
            "colorscale": [
             [
              0,
              "#0d0887"
             ],
             [
              0.1111111111111111,
              "#46039f"
             ],
             [
              0.2222222222222222,
              "#7201a8"
             ],
             [
              0.3333333333333333,
              "#9c179e"
             ],
             [
              0.4444444444444444,
              "#bd3786"
             ],
             [
              0.5555555555555556,
              "#d8576b"
             ],
             [
              0.6666666666666666,
              "#ed7953"
             ],
             [
              0.7777777777777778,
              "#fb9f3a"
             ],
             [
              0.8888888888888888,
              "#fdca26"
             ],
             [
              1,
              "#f0f921"
             ]
            ],
            "type": "histogram2dcontour"
           }
          ],
          "mesh3d": [
           {
            "colorbar": {
             "outlinewidth": 0,
             "ticks": ""
            },
            "type": "mesh3d"
           }
          ],
          "parcoords": [
           {
            "line": {
             "colorbar": {
              "outlinewidth": 0,
              "ticks": ""
             }
            },
            "type": "parcoords"
           }
          ],
          "scatter": [
           {
            "marker": {
             "colorbar": {
              "outlinewidth": 0,
              "ticks": ""
             }
            },
            "type": "scatter"
           }
          ],
          "scatter3d": [
           {
            "line": {
             "colorbar": {
              "outlinewidth": 0,
              "ticks": ""
             }
            },
            "marker": {
             "colorbar": {
              "outlinewidth": 0,
              "ticks": ""
             }
            },
            "type": "scatter3d"
           }
          ],
          "scattercarpet": [
           {
            "marker": {
             "colorbar": {
              "outlinewidth": 0,
              "ticks": ""
             }
            },
            "type": "scattercarpet"
           }
          ],
          "scattergeo": [
           {
            "marker": {
             "colorbar": {
              "outlinewidth": 0,
              "ticks": ""
             }
            },
            "type": "scattergeo"
           }
          ],
          "scattergl": [
           {
            "marker": {
             "colorbar": {
              "outlinewidth": 0,
              "ticks": ""
             }
            },
            "type": "scattergl"
           }
          ],
          "scattermapbox": [
           {
            "marker": {
             "colorbar": {
              "outlinewidth": 0,
              "ticks": ""
             }
            },
            "type": "scattermapbox"
           }
          ],
          "scatterpolar": [
           {
            "marker": {
             "colorbar": {
              "outlinewidth": 0,
              "ticks": ""
             }
            },
            "type": "scatterpolar"
           }
          ],
          "scatterpolargl": [
           {
            "marker": {
             "colorbar": {
              "outlinewidth": 0,
              "ticks": ""
             }
            },
            "type": "scatterpolargl"
           }
          ],
          "scatterternary": [
           {
            "marker": {
             "colorbar": {
              "outlinewidth": 0,
              "ticks": ""
             }
            },
            "type": "scatterternary"
           }
          ],
          "surface": [
           {
            "colorbar": {
             "outlinewidth": 0,
             "ticks": ""
            },
            "colorscale": [
             [
              0,
              "#0d0887"
             ],
             [
              0.1111111111111111,
              "#46039f"
             ],
             [
              0.2222222222222222,
              "#7201a8"
             ],
             [
              0.3333333333333333,
              "#9c179e"
             ],
             [
              0.4444444444444444,
              "#bd3786"
             ],
             [
              0.5555555555555556,
              "#d8576b"
             ],
             [
              0.6666666666666666,
              "#ed7953"
             ],
             [
              0.7777777777777778,
              "#fb9f3a"
             ],
             [
              0.8888888888888888,
              "#fdca26"
             ],
             [
              1,
              "#f0f921"
             ]
            ],
            "type": "surface"
           }
          ],
          "table": [
           {
            "cells": {
             "fill": {
              "color": "#EBF0F8"
             },
             "line": {
              "color": "white"
             }
            },
            "header": {
             "fill": {
              "color": "#C8D4E3"
             },
             "line": {
              "color": "white"
             }
            },
            "type": "table"
           }
          ]
         },
         "layout": {
          "annotationdefaults": {
           "arrowcolor": "#2a3f5f",
           "arrowhead": 0,
           "arrowwidth": 1
          },
          "colorscale": {
           "diverging": [
            [
             0,
             "#8e0152"
            ],
            [
             0.1,
             "#c51b7d"
            ],
            [
             0.2,
             "#de77ae"
            ],
            [
             0.3,
             "#f1b6da"
            ],
            [
             0.4,
             "#fde0ef"
            ],
            [
             0.5,
             "#f7f7f7"
            ],
            [
             0.6,
             "#e6f5d0"
            ],
            [
             0.7,
             "#b8e186"
            ],
            [
             0.8,
             "#7fbc41"
            ],
            [
             0.9,
             "#4d9221"
            ],
            [
             1,
             "#276419"
            ]
           ],
           "sequential": [
            [
             0,
             "#0d0887"
            ],
            [
             0.1111111111111111,
             "#46039f"
            ],
            [
             0.2222222222222222,
             "#7201a8"
            ],
            [
             0.3333333333333333,
             "#9c179e"
            ],
            [
             0.4444444444444444,
             "#bd3786"
            ],
            [
             0.5555555555555556,
             "#d8576b"
            ],
            [
             0.6666666666666666,
             "#ed7953"
            ],
            [
             0.7777777777777778,
             "#fb9f3a"
            ],
            [
             0.8888888888888888,
             "#fdca26"
            ],
            [
             1,
             "#f0f921"
            ]
           ],
           "sequentialminus": [
            [
             0,
             "#0d0887"
            ],
            [
             0.1111111111111111,
             "#46039f"
            ],
            [
             0.2222222222222222,
             "#7201a8"
            ],
            [
             0.3333333333333333,
             "#9c179e"
            ],
            [
             0.4444444444444444,
             "#bd3786"
            ],
            [
             0.5555555555555556,
             "#d8576b"
            ],
            [
             0.6666666666666666,
             "#ed7953"
            ],
            [
             0.7777777777777778,
             "#fb9f3a"
            ],
            [
             0.8888888888888888,
             "#fdca26"
            ],
            [
             1,
             "#f0f921"
            ]
           ]
          },
          "colorway": [
           "#636efa",
           "#EF553B",
           "#00cc96",
           "#ab63fa",
           "#FFA15A",
           "#19d3f3",
           "#FF6692",
           "#B6E880",
           "#FF97FF",
           "#FECB52"
          ],
          "font": {
           "color": "#2a3f5f"
          },
          "geo": {
           "bgcolor": "white",
           "lakecolor": "white",
           "landcolor": "#E5ECF6",
           "showlakes": true,
           "showland": true,
           "subunitcolor": "white"
          },
          "hoverlabel": {
           "align": "left"
          },
          "hovermode": "closest",
          "mapbox": {
           "style": "light"
          },
          "paper_bgcolor": "white",
          "plot_bgcolor": "#E5ECF6",
          "polar": {
           "angularaxis": {
            "gridcolor": "white",
            "linecolor": "white",
            "ticks": ""
           },
           "bgcolor": "#E5ECF6",
           "radialaxis": {
            "gridcolor": "white",
            "linecolor": "white",
            "ticks": ""
           }
          },
          "scene": {
           "xaxis": {
            "backgroundcolor": "#E5ECF6",
            "gridcolor": "white",
            "gridwidth": 2,
            "linecolor": "white",
            "showbackground": true,
            "ticks": "",
            "zerolinecolor": "white"
           },
           "yaxis": {
            "backgroundcolor": "#E5ECF6",
            "gridcolor": "white",
            "gridwidth": 2,
            "linecolor": "white",
            "showbackground": true,
            "ticks": "",
            "zerolinecolor": "white"
           },
           "zaxis": {
            "backgroundcolor": "#E5ECF6",
            "gridcolor": "white",
            "gridwidth": 2,
            "linecolor": "white",
            "showbackground": true,
            "ticks": "",
            "zerolinecolor": "white"
           }
          },
          "shapedefaults": {
           "line": {
            "color": "#2a3f5f"
           }
          },
          "ternary": {
           "aaxis": {
            "gridcolor": "white",
            "linecolor": "white",
            "ticks": ""
           },
           "baxis": {
            "gridcolor": "white",
            "linecolor": "white",
            "ticks": ""
           },
           "bgcolor": "#E5ECF6",
           "caxis": {
            "gridcolor": "white",
            "linecolor": "white",
            "ticks": ""
           }
          },
          "title": {
           "x": 0.05
          },
          "xaxis": {
           "automargin": true,
           "gridcolor": "white",
           "linecolor": "white",
           "ticks": "",
           "zerolinecolor": "white",
           "zerolinewidth": 2
          },
          "yaxis": {
           "automargin": true,
           "gridcolor": "white",
           "linecolor": "white",
           "ticks": "",
           "zerolinecolor": "white",
           "zerolinewidth": 2
          }
         }
        },
        "xaxis": {
         "autorange": true,
         "range": [
          0,
          99
         ],
         "title": {
          "text": "Iterations"
         }
        },
        "yaxis": {
         "autorange": true,
         "range": [
          110.30030279764338,
          289.9789277424737
         ],
         "title": {
          "text": "MAE"
         },
         "type": "linear"
        }
       }
      },
      "image/png": "[encoded data removed]",
      "text/html": [
       "<div>\n",
       "        \n",
       "        \n",
       "            <div id=\"beeb5efa-154e-4832-9d88-fba360e2229f\" class=\"plotly-graph-div\" style=\"height:525px; width:100%;\"></div>\n",
       "            <script type=\"text/javascript\">\n",
       "                require([\"plotly\"], function(Plotly) {\n",
       "                    window.PLOTLYENV=window.PLOTLYENV || {};\n",
       "                    \n",
       "                if (document.getElementById(\"beeb5efa-154e-4832-9d88-fba360e2229f\")) {\n",
       "                    Plotly.newPlot(\n",
       "                        'beeb5efa-154e-4832-9d88-fba360e2229f',\n",
       "                        [{\"name\": \"Random search\", \"type\": \"scatter\", \"y\": [194.6631440888908, 176.28300287274683, 144.00141035813644, 144.00141035813644, 131.55372970378318, 127.99773331848647, 127.53629748301523, 127.38314132579512, 124.23675862196623, 124.23675862196623, 124.01156762757405, 124.01156762757405, 124.01156762757405, 123.89442794240753, 122.5020748507889, 122.5020748507889, 122.5020748507889, 122.5020748507889, 122.5020748507889, 122.5020748507889, 121.53516484728955, 121.53516484728955, 121.53516484728955, 121.53516484728955, 121.53516484728955, 121.53516484728955, 121.53516484728955, 121.53516484728955, 121.53516484728955, 121.53228796391086, 121.37979329847403, 121.37979329847403, 121.37979329847403, 121.37979329847403, 120.99031696048641, 120.99031696048641, 120.99031696048641, 120.99031696048641, 120.69031001220608, 120.69031001220608, 120.69031001220608, 120.69031001220608, 120.69031001220608, 120.69031001220608, 120.50156585417312, 120.50156585417312, 120.50156585417312, 119.55608719541878, 119.55608719541878, 119.53414752941964, 119.53414752941964, 119.53414752941964, 119.5326502268105, 119.5326502268105, 119.5326502268105, 119.5326502268105, 119.5326502268105, 119.5326502268105, 119.5326502268105, 119.5326502268105, 119.5326502268105, 119.51881920173814, 119.51881920173814, 119.51881920173814, 119.51881920173814, 119.51881920173814, 119.51881920173814, 119.51881920173814, 119.51881920173814, 119.51881920173814, 119.51881920173814, 119.51881920173814, 119.51881920173814, 119.51881920173814, 119.51881920173814, 119.51881920173814, 119.51881920173814, 119.51881920173814, 119.51881920173814, 119.51881920173814, 119.51881920173814, 119.51881920173814, 119.51881920173814, 119.51881920173814, 119.51881920173814, 119.51881920173814, 119.51881920173814, 119.51881920173814, 119.51881920173814, 119.51881920173814, 119.51881920173814, 119.51881920173814, 119.51881920173814, 119.51881920173814, 119.51881920173814, 119.51881920173814, 119.51881920173814, 119.51881920173814, 119.51881920173814, 119.51881920173814]}, {\"name\": \"Naive Bayesian optimization\", \"type\": \"scatter\", \"y\": [176.97431161991068, 138.2153654259632, 124.72095130623605, 124.72095130623605, 122.70963085432422, 120.48013022466337, 120.24614666913453, 120.24614666913453, 120.24331327555042, 120.24331327555042, 120.24331327555042, 120.24331327555042, 120.24331327555042, 119.94470876406383, 119.94470876406383, 119.94470876406383, 119.94470876406383, 119.94470876406383, 119.94470876406383, 119.94470876406383, 119.94470876406383, 119.90602959085172, 119.90602959085172, 119.90602959085172, 119.90602959085172, 119.90602959085172, 119.90602959085172, 119.90602959085172, 119.90602959085172, 119.90602959085172, 119.87902931822563, 119.87902931822563, 119.80613967909672, 119.80613967909672, 119.65723300699588, 119.65723300699588, 119.65723300699588, 119.65723300699588, 119.65723300699588, 119.65723300699588, 119.65723300699588, 119.65723300699588, 119.65723300699588, 119.65723300699588, 119.65723300699588, 119.65723300699588, 119.65723300699588, 119.65723300699588, 119.65723300699588, 119.65723300699588, 119.65723300699588, 119.65723300699588, 119.65723300699588, 119.65723300699588, 119.65723300699588, 119.65723300699588, 119.65723300699588, 119.65723300699588, 119.65723300699588, 119.65723300699588, 119.65723300699588, 119.65723300699588, 119.64803206110591, 119.64803206110591, 119.64803206110591, 119.64803206110591, 119.64803206110591, 119.64803206110591, 119.64803206110591, 119.64803206110591, 119.64803206110591, 119.63569833864267, 119.63569833864267, 119.63569833864267, 119.63569833864267, 119.6218673135703, 119.6218673135703, 119.6218673135703, 119.6218673135703, 119.6218673135703, 119.6218673135703, 119.6218673135703, 119.6218673135703, 119.6218673135703, 119.6218673135703, 119.6218673135703, 119.6218673135703, 119.6218673135703, 119.6218673135703, 119.6218673135703, 119.6218673135703, 119.6218673135703, 119.6218673135703, 119.6218673135703, 119.6218673135703, 119.6218673135703, 119.6218673135703, 119.6218673135703, 119.6218673135703, 119.6218673135703]}, {\"name\": \"Warmstarted Bayesian optimization 1\", \"type\": \"scatter\", \"y\": [202.67301868326854, 119.90537530818918, 119.90537530818918, 119.89940291213532, 119.85798077548434, 119.85798077548434, 119.85798077548434, 119.85798077548434, 119.85798077548434, 119.85798077548434, 119.81368043341222, 119.81368043341222, 119.81368043341222, 119.81368043341222, 119.81368043341222, 119.81368043341222, 119.81368043341222, 119.81368043341222, 119.81368043341222, 119.78818765845752, 119.78818765845752, 119.78818765845752, 119.78818765845752, 119.78818765845752, 119.78818765845752, 119.78818765845752, 119.63569299302071, 119.48319832758389, 119.48319832758389, 119.44476077317242, 119.44476077317242, 119.44476077317242, 119.44476077317242, 119.44476077317242, 119.44476077317242, 119.44476077317242, 119.44476077317242, 119.44476077317242, 119.44476077317242, 119.44476077317242, 119.44476077317242, 119.44476077317242, 119.43889798551174, 119.43889798551174, 119.43889798551174, 119.43889798551174, 119.43889798551174, 119.43889798551174, 119.43889798551174, 119.43889798551174, 119.43889798551174, 119.43889798551174, 119.43889798551174, 119.43889798551174, 119.43889798551174, 119.43889798551174, 119.43889798551174, 119.43889798551174, 119.43889798551174, 119.43889798551174, 119.43889798551174, 119.40625939332192, 119.40625939332192, 119.39242836824955, 119.39242836824955, 119.39242836824955, 119.39242836824955, 119.39242836824955, 119.39242836824955, 119.39242836824955, 119.37859734317719, 119.37859734317719, 119.37859734317719, 119.37859734317719, 119.37859734317719, 119.37859734317719, 119.37859734317719, 119.37859734317719, 119.37859734317719, 119.37859734317719, 119.37859734317719, 119.37859734317719, 119.37859734317719, 119.37859734317719, 119.37859734317719, 119.37859734317719, 119.37859734317719, 119.37859734317719, 119.37859734317719, 119.37859734317719, 119.37859734317719, 119.37859734317719, 119.37859734317719, 119.37859734317719, 119.37859734317719, 119.37859734317719, 119.37859734317719, 119.37859734317719, 119.37859734317719, 119.37859734317719]}, {\"name\": \"Warmstarted Bayesian optimization 1 - equal total configs\", \"type\": \"scatter\", \"y\": [280.99499649523216, 159.71322340790786, 120.03440427526577, 120.03440427526577, 120.03440427526577, 120.03440427526577, 120.03440427526577, 120.03440427526577, 120.03440427526577, 120.03440427526577, 120.03440427526577, 120.03440427526577, 120.03440427526577, 120.03440427526577, 120.03440427526577, 120.03440427526577, 120.03440427526577, 120.03440427526577, 120.03440427526577, 120.03440427526577, 120.03440427526577, 120.03440427526577, 120.03440427526577, 119.9267022342513, 119.84561988961373, 119.84561988961373, 119.84561988961373, 119.84523931336454, 119.84523931336454, 119.7715170589968, 119.7715170589968, 119.7715170589968, 119.73036957137984, 119.73036957137984, 119.72208514404966, 119.72208514404966, 119.72208514404966, 119.72208514404966, 119.72208514404966, 119.68615437719953, 119.68615437719953, 119.68615437719953, 119.68615437719953, 119.68615437719953, 119.68615437719953, 119.68615437719953, 119.68615437719953, 119.68615437719953, 119.68615437719953, 119.64771682278806, 119.64771682278806, 119.64771682278806, 119.64771682278806, 119.64771682278806, 119.64771682278806, 119.63538310032482, 119.63538310032482, 119.63538310032482, 119.63538310032482, 119.63538310032482, 119.62551622249366, 119.62551622249366, 119.62551622249366, 119.51881920173814, 119.51881920173814, 119.51881920173814, 119.51881920173814, 119.4121221809826, 119.4121221809826, 119.40625939332192, 119.40625939332192, 119.40625939332192, 119.40625939332192, 119.39242836824955, 119.39242836824955, 119.39242836824955, 119.39242836824955, 119.39242836824955, 119.37859734317719, 119.37859734317719, 119.37859734317719, 119.37859734317719, 119.37859734317719, 119.37859734317719, 119.37859734317719, 119.37859734317719, 119.37859734317719, 119.37859734317719, 119.37859734317719, 119.37859734317719, 119.37859734317719, 119.37859734317719, 119.37859734317719, 119.37859734317719, 119.37859734317719, 119.37859734317719, 119.37859734317719, 119.37859734317719, 119.37859734317719, 119.37859734317719]}, {\"name\": \"Warmstarted Bayesian optimization 5\", \"type\": \"scatter\", \"y\": [119.90537530818918, 119.89940291213532, 119.85798077548434, 119.85798077548434, 119.85798077548434, 119.8195432210729, 119.8195432210729, 119.8195432210729, 119.8195432210729, 119.8195432210729, 119.8195432210729, 119.8195432210729, 119.8195432210729, 119.8195432210729, 119.8195432210729, 119.8195432210729, 119.81368043341222, 119.81368043341222, 119.81368043341222, 119.81368043341222, 119.81368043341222, 119.81368043341222, 119.81368043341222, 119.81368043341222, 119.81368043341222, 119.81368043341222, 119.76788278873092, 119.76788278873092, 119.6611857679754, 119.6611857679754, 119.6611857679754, 119.6611857679754, 119.6611857679754, 119.6611857679754, 119.6611857679754, 119.6611857679754, 119.6611857679754, 119.6611857679754, 119.62274821356394, 119.57695056888265, 119.57695056888265, 119.57695056888265, 119.57695056888265, 119.57695056888265, 119.57695056888265, 119.57695056888265, 119.57695056888265, 119.57695056888265, 119.5326502268105, 119.5326502268105, 119.5326502268105, 119.5326502268105, 119.5326502268105, 119.5326502268105, 119.5326502268105, 119.5326502268105, 119.5326502268105, 119.5326502268105, 119.5326502268105, 119.5326502268105, 119.5326502268105, 119.5326502268105, 119.5326502268105, 119.42595320605498, 119.42595320605498, 119.42595320605498, 119.42595320605498, 119.42595320605498, 119.42595320605498, 119.41212218098262, 119.39829115591024, 119.39829115591024, 119.39829115591024, 119.39829115591024, 119.39829115591024, 119.39829115591024, 119.39829115591024, 119.39829115591024, 119.39829115591024, 119.39829115591024, 119.39829115591024, 119.39829115591024, 119.39829115591024, 119.39829115591024, 119.39829115591024, 119.39829115591024, 119.39829115591024, 119.39829115591024, 119.39829115591024, 119.39242836824955, 119.39242836824955, 119.39242836824955, 119.39242836824955, 119.39242836824955, 119.39242836824955, 119.39242836824955, 119.39242836824955, 119.39242836824955, 119.39242836824955, 119.39242836824955]}, {\"name\": \"Warmstarted Bayesian optimization 5 - equal total configs\", \"type\": \"scatter\", \"y\": [119.89940291213532, 119.89940291213532, 119.89940291213532, 119.89940291213532, 119.89940291213532, 119.89940291213532, 119.89940291213532, 119.89940291213532, 119.89940291213532, 119.89940291213532, 119.89940291213532, 119.89940291213532, 119.89940291213532, 119.89940291213532, 119.84681814273299, 119.84681814273299, 119.84681814273299, 119.84681814273299, 119.84681814273299, 119.84681814273299, 119.84532084012383, 119.84532084012383, 119.84532084012383, 119.84532084012383, 119.84532084012383, 119.84532084012383, 119.84532084012383, 119.84532084012383, 119.84532084012383, 119.84532084012383, 119.84532084012383, 119.84532084012383, 119.79859885838218, 119.75438366420187, 119.75438366420187, 119.75438366420187, 119.75438366420187, 119.75438366420187, 119.70179889479952, 119.68796786972716, 119.67959829450513, 119.62551622249366, 119.61965343483298, 119.61965343483298, 119.61965343483298, 119.61965343483298, 119.61965343483298, 119.61965343483298, 119.61965343483298, 119.61965343483298, 119.61965343483298, 119.61965343483298, 119.61965343483298, 119.61965343483298, 119.61965343483298, 119.61965343483298, 119.61965343483298, 119.61965343483298, 119.61965343483298, 119.61965343483298, 119.61965343483298, 119.61965343483298, 119.60731971236976, 119.60731971236976, 119.60731971236976, 119.60731971236976, 119.60731971236976, 119.60731971236976, 119.60731971236976, 119.60731971236976, 119.59348868729737, 119.59348868729737, 119.59348868729737, 119.59348868729737, 119.59348868729737, 119.579657662225, 119.579657662225, 119.579657662225, 119.579657662225, 119.579657662225, 119.579657662225, 119.579657662225, 119.579657662225, 119.579657662225, 119.579657662225, 119.579657662225, 119.579657662225, 119.579657662225, 119.579657662225, 119.579657662225, 119.579657662225, 119.579657662225, 119.579657662225, 119.47296064146948, 119.47296064146948, 119.47296064146948, 119.47296064146948, 119.47296064146948, 119.47296064146948, 119.47296064146948]}, {\"name\": \"Warmstarted Bayesian optimization 10\", \"type\": \"scatter\", \"y\": [125.80096218021512, 119.90537530818918, 119.90537530818918, 119.90537530818918, 119.90537530818918, 119.90537530818918, 119.83776503450369, 119.83776503450369, 119.83776503450369, 119.83776503450369, 119.83776503450369, 119.83776503450369, 119.83776503450369, 119.83776503450369, 119.83776503450369, 119.83776503450369, 119.83776503450369, 119.83776503450369, 119.83776503450369, 119.83657055529291, 119.83657055529291, 119.83657055529291, 119.83657055529291, 119.83657055529291, 119.82589716954116, 119.82589716954116, 119.82589716954116, 119.82589716954116, 119.82589716954116, 119.82589716954116, 119.82589716954116, 119.78048749615009, 119.78048749615009, 119.78048749615009, 119.77798070858876, 119.77798070858876, 119.77798070858876, 119.73218306390747, 119.73218306390747, 119.73218306390747, 119.73218306390747, 119.73218306390747, 119.73218306390747, 119.73218306390747, 119.73218306390747, 119.73218306390747, 119.73218306390747, 119.73218306390747, 119.73218306390747, 119.73218306390747, 119.73218306390747, 119.73218306390747, 119.73218306390747, 119.67959829450515, 119.67959829450515, 119.67959829450515, 119.67959829450515, 119.67959829450515, 119.51881920173814, 119.51881920173814, 119.51881920173814, 119.4121221809826, 119.4121221809826, 119.4121221809826, 119.4121221809826, 119.4121221809826, 119.39829115591024, 119.39829115591024, 119.39829115591024, 119.39829115591024, 119.39829115591024, 119.39829115591024, 119.39829115591024, 119.39829115591024, 119.39242836824955, 119.39242836824955, 119.37859734317719, 119.37859734317719, 119.37859734317719, 119.37859734317719, 119.37859734317719, 119.37859734317719, 119.37859734317719, 119.37859734317719, 119.37859734317719, 119.37859734317719, 119.37859734317719, 119.37859734317719, 119.37859734317719, 119.37859734317719, 119.37859734317719, 119.37859734317719, 119.37859734317719, 119.37859734317719, 119.37859734317719, 119.37859734317719, 119.37859734317719, 119.37859734317719, 119.37859734317719, 119.37859734317719]}, {\"name\": \"Warmstarted Bayesian optimization 10 - equal total configs\", \"type\": \"scatter\", \"y\": [119.90130579338123, 119.90130579338123, 119.85798077548434, 119.85798077548434, 119.85798077548434, 119.85798077548434, 119.85798077548434, 119.85798077548434, 119.85798077548434, 119.85798077548434, 119.85798077548434, 119.70548611004756, 119.70548611004756, 119.70548611004756, 119.70548611004756, 119.70548611004756, 119.68312543397451, 119.68312543397451, 119.68312543397451, 119.68312543397451, 119.68312543397451, 119.68312543397451, 119.68312543397451, 119.63732778929325, 119.63732778929325, 119.63732778929325, 119.63732778929325, 119.63732778929325, 119.63732778929325, 119.63732778929325, 119.63732778929325, 119.63732778929325, 119.63732778929325, 119.53063076853769, 119.53063076853769, 119.53063076853769, 119.53063076853769, 119.53063076853769, 119.53063076853769, 119.45055973539407, 119.45055973539407, 119.45055973539407, 119.45055973539407, 119.45055973539407, 119.45055973539407, 119.45055973539407, 119.45055973539407, 119.45055973539407, 119.45055973539407, 119.45055973539407, 119.45055973539407, 119.45055973539407, 119.45055973539407, 119.45055973539407, 119.45055973539407, 119.45055973539407, 119.45055973539407, 119.45055973539407, 119.39242836824955, 119.39242836824955, 119.39242836824955, 119.39242836824955, 119.39242836824955, 119.39242836824955, 119.39242836824955, 119.39242836824955, 119.39242836824955, 119.39242836824955, 119.39242836824955, 119.39242836824955, 119.37859734317719, 119.37859734317719, 119.37859734317719, 119.37859734317719, 119.37859734317719, 119.37859734317719, 119.37859734317719, 119.37859734317719, 119.37859734317719, 119.37859734317719, 119.37859734317719, 119.37859734317719, 119.37859734317719, 119.37859734317719, 119.37859734317719, 119.37859734317719, 119.37859734317719, 119.37859734317719, 119.37859734317719, 119.37859734317719, 119.37859734317719, 119.37859734317719, 119.37859734317719, 119.37859734317719, 119.37859734317719, 119.37859734317719, 119.37859734317719, 119.37859734317719, 119.37859734317719, 119.37859734317719]}, {\"name\": \"Warmstarted Bayesian optimization 15\", \"type\": \"scatter\", \"y\": [202.34890679177812, 125.80096218021512, 125.80096218021512, 120.42538477810447, 119.89940291213532, 119.86875780873211, 119.86875780873211, 119.86875780873211, 119.86875780873211, 119.86875780873211, 119.86875780873211, 119.86875780873211, 119.86875780873211, 119.81617303932975, 119.81617303932975, 119.81617303932975, 119.81617303932975, 119.76358826992741, 119.76358826992741, 119.76358826992741, 119.76358826992741, 119.76358826992741, 119.76358826992741, 119.7110035005251, 119.7110035005251, 119.6752328094536, 119.66140178438123, 119.66140178438123, 119.66140178438123, 119.66140178438123, 119.66140178438123, 119.66140178438123, 119.66140178438123, 119.66140178438123, 119.60881701497888, 119.60881701497888, 119.60881701497888, 119.59498598990652, 119.59498598990652, 119.59498598990652, 119.59498598990652, 119.59498598990652, 119.59498598990652, 119.59498598990652, 119.59498598990652, 119.59498598990652, 119.59498598990652, 119.59498598990652, 119.59498598990652, 119.59498598990652, 119.59498598990652, 119.59498598990652, 119.59498598990652, 119.59498598990652, 119.59498598990652, 119.59498598990652, 119.59498598990652, 119.59498598990652, 119.59498598990652, 119.59498598990652, 119.59498598990652, 119.50062269161421, 119.50062269161421, 119.40625939332195, 119.40625939332195, 119.40625939332195, 119.40625939332195, 119.40625939332195, 119.39242836824955, 119.39242836824955, 119.39242836824955, 119.39242836824955, 119.39242836824955, 119.39242836824955, 119.39242836824955, 119.39242836824955, 119.39242836824955, 119.39242836824955, 119.39242836824955, 119.39242836824955, 119.39242836824955, 119.39242836824955, 119.39242836824955, 119.39242836824955, 119.39242836824955, 119.39242836824955, 119.39242836824955, 119.39242836824955, 119.39242836824955, 119.39242836824955, 119.39242836824955, 119.39242836824955, 119.39242836824955, 119.39242836824955, 119.39242836824955, 119.39242836824955, 119.39242836824955, 119.39242836824955, 119.39242836824955, 119.39242836824955]}, {\"name\": \"Warmstarted Bayesian optimization 15 - equal total configs\", \"type\": \"scatter\", \"y\": [120.03440427526577, 120.03440427526577, 119.85798077548434, 119.85798077548434, 119.85798077548434, 119.81368043341222, 119.81368043341222, 119.81368043341222, 119.81368043341222, 119.81368043341222, 119.81368043341222, 119.81368043341222, 119.81368043341222, 119.81368043341222, 119.81368043341222, 119.81368043341222, 119.75554906626769, 119.75554906626769, 119.75554906626769, 119.75554906626769, 119.69592039651403, 119.69592039651403, 119.69592039651403, 119.69592039651403, 119.69592039651403, 119.69592039651403, 119.58922337575851, 119.58922337575851, 119.58922337575851, 119.58922337575851, 119.58922337575851, 119.58922337575851, 119.58922337575851, 119.58922337575851, 119.58922337575851, 119.58922337575851, 119.58922337575851, 119.58922337575851, 119.58922337575851, 119.58922337575851, 119.58922337575851, 119.5532926089084, 119.5532926089084, 119.5532926089084, 119.5532926089084, 119.5532926089084, 119.5532926089084, 119.5532926089084, 119.5532926089084, 119.4589293106161, 119.4589293106161, 119.4589293106161, 119.4589293106161, 119.4589293106161, 119.4589293106161, 119.4589293106161, 119.4589293106161, 119.4589293106161, 119.4589293106161, 119.4589293106161, 119.40079794347159, 119.40079794347159, 119.40079794347159, 119.39829115591024, 119.39829115591024, 119.39829115591024, 119.39829115591024, 119.39829115591024, 119.39829115591024, 119.39829115591024, 119.39242836824955, 119.39242836824955, 119.39242836824955, 119.39242836824955, 119.39242836824955, 119.37859734317719, 119.37859734317719, 119.37859734317719, 119.37859734317719, 119.37859734317719, 119.37859734317719, 119.37859734317719, 119.37859734317719, 119.37859734317719, 119.37859734317719, 119.37859734317719, 119.37859734317719, 119.37859734317719, 119.37859734317719, 119.37859734317719, 119.37859734317719, 119.37859734317719, 119.37859734317719, 119.37859734317719, 119.37859734317719, 119.37859734317719, 119.37859734317719, 119.2842340448849, 119.2842340448849, 119.2842340448849]}, {\"name\": \"Allround Bayesian optimization\", \"type\": \"scatter\", \"y\": [120.8793417749577, 120.8793417749577, 120.8793417749577, 120.8793417749577, 119.73051690071085, 119.73051690071085, 119.73051690071085, 119.71170933359342, 119.71170933359342, 119.71170933359342, 119.71170933359342, 119.71170933359342, 119.71170933359342, 119.71170933359342, 119.71170933359342, 119.71170933359342, 119.71170933359342, 119.71170933359342, 119.71170933359342, 119.71170933359342, 119.71170933359342, 119.69876455413666, 119.67995698701921, 119.67995698701921, 119.67995698701921, 119.67995698701921, 119.67995698701921, 119.67995698701921, 119.66026317428616, 119.62762458209633, 119.62762458209633, 119.62762458209633, 119.62762458209633, 119.62762458209633, 119.62762458209633, 119.50062269161421, 119.50062269161421, 119.48679166654185, 119.48679166654185, 119.48679166654185, 119.48679166654185, 119.48679166654185, 119.48679166654185, 119.48679166654185, 119.48679166654185, 119.48679166654185, 119.48679166654185, 119.48679166654185, 119.48679166654185, 119.48679166654185, 119.48679166654185, 119.48679166654185, 119.48679166654185, 119.48679166654185, 119.48679166654185, 119.48679166654185, 119.48679166654185, 119.48679166654185, 119.48679166654185, 119.48679166654185, 119.48679166654185, 119.48679166654185, 119.48679166654185, 119.48679166654185, 119.48679166654185, 119.48679166654185, 119.48679166654185, 119.48679166654185, 119.39242836824955, 119.39242836824955, 119.39242836824955, 119.37859734317719, 119.37859734317719, 119.37859734317719, 119.37859734317719, 119.37859734317719, 119.37859734317719, 119.37859734317719, 119.37859734317719, 119.37859734317719, 119.37859734317719, 119.37859734317719, 119.37859734317719, 119.37859734317719, 119.37859734317719, 119.37859734317719, 119.37859734317719, 119.37859734317719, 119.37859734317719, 119.37859734317719, 119.37859734317719, 119.37859734317719, 119.37859734317719, 119.37859734317719, 119.37859734317719, 119.37859734317719, 119.37859734317719, 119.37859734317719, 119.37859734317719, 119.37859734317719]}, {\"name\": \"Allround Bayesian optimization - equal total configs\", \"type\": \"scatter\", \"y\": [120.8793417749577, 120.8793417749577, 120.8793417749577, 120.8793417749577, 119.73051690071085, 119.73051690071085, 119.73051690071085, 119.73051690071085, 119.73051690071085, 119.73051690071085, 119.73051690071085, 119.73051690071085, 119.73051690071085, 119.73051690071085, 119.73051690071085, 119.73051690071085, 119.71757212125411, 119.71757212125411, 119.71757212125411, 119.71757212125411, 119.69726725152752, 119.69726725152752, 119.69726725152752, 119.69726725152752, 119.69726725152752, 119.69726725152752, 119.69140446386685, 119.69140446386685, 119.69140446386685, 119.69140446386685, 119.69140446386685, 119.56440257338473, 119.56440257338473, 119.55057154831236, 119.55057154831236, 119.55057154831236, 119.55057154831236, 119.55057154831236, 119.55057154831236, 119.42506696043938, 119.42506696043938, 119.42506696043938, 119.42506696043938, 119.42506696043938, 119.42506696043938, 119.42506696043938, 119.42506696043938, 119.42506696043938, 119.42506696043938, 119.42506696043938, 119.42506696043938, 119.42506696043938, 119.42506696043938, 119.42506696043938, 119.42506696043938, 119.42506696043938, 119.42506696043938, 119.42506696043938, 119.42506696043938, 119.42506696043938, 119.42506696043938, 119.42506696043938, 119.42506696043938, 119.42506696043938, 119.42506696043938, 119.42506696043938, 119.41123593536702, 119.41123593536702, 119.41123593536702, 119.41123593536702, 119.41123593536702, 119.41123593536702, 119.41123593536702, 119.41123593536702, 119.41123593536702, 119.41123593536702, 119.41123593536702, 119.41123593536702, 119.41123593536702, 119.41123593536702, 119.41123593536702, 119.41123593536702, 119.41123593536702, 119.41123593536702, 119.41123593536702, 119.41123593536702, 119.41123593536702, 119.41123593536702, 119.41123593536702, 119.41123593536702, 119.41123593536702, 119.41123593536702, 119.41123593536702, 119.41123593536702, 119.41123593536702, 119.41123593536702, 119.41123593536702, 119.41123593536702, 119.41123593536702, 119.41123593536702]}],\n",
       "                        {\"template\": {\"data\": {\"bar\": [{\"error_x\": {\"color\": \"#2a3f5f\"}, \"error_y\": {\"color\": \"#2a3f5f\"}, \"marker\": {\"line\": {\"color\": \"#E5ECF6\", \"width\": 0.5}}, \"type\": \"bar\"}], \"barpolar\": [{\"marker\": {\"line\": {\"color\": \"#E5ECF6\", \"width\": 0.5}}, \"type\": \"barpolar\"}], \"carpet\": [{\"aaxis\": {\"endlinecolor\": \"#2a3f5f\", \"gridcolor\": \"white\", \"linecolor\": \"white\", \"minorgridcolor\": \"white\", \"startlinecolor\": \"#2a3f5f\"}, \"baxis\": {\"endlinecolor\": \"#2a3f5f\", \"gridcolor\": \"white\", \"linecolor\": \"white\", \"minorgridcolor\": \"white\", \"startlinecolor\": \"#2a3f5f\"}, \"type\": \"carpet\"}], \"choropleth\": [{\"colorbar\": {\"outlinewidth\": 0, \"ticks\": \"\"}, \"type\": \"choropleth\"}], \"contour\": [{\"colorbar\": {\"outlinewidth\": 0, \"ticks\": \"\"}, \"colorscale\": [[0.0, \"#0d0887\"], [0.1111111111111111, \"#46039f\"], [0.2222222222222222, \"#7201a8\"], [0.3333333333333333, \"#9c179e\"], [0.4444444444444444, \"#bd3786\"], [0.5555555555555556, \"#d8576b\"], [0.6666666666666666, \"#ed7953\"], [0.7777777777777778, \"#fb9f3a\"], [0.8888888888888888, \"#fdca26\"], [1.0, \"#f0f921\"]], \"type\": \"contour\"}], \"contourcarpet\": [{\"colorbar\": {\"outlinewidth\": 0, \"ticks\": \"\"}, \"type\": \"contourcarpet\"}], \"heatmap\": [{\"colorbar\": {\"outlinewidth\": 0, \"ticks\": \"\"}, \"colorscale\": [[0.0, \"#0d0887\"], [0.1111111111111111, \"#46039f\"], [0.2222222222222222, \"#7201a8\"], [0.3333333333333333, \"#9c179e\"], [0.4444444444444444, \"#bd3786\"], [0.5555555555555556, \"#d8576b\"], [0.6666666666666666, \"#ed7953\"], [0.7777777777777778, \"#fb9f3a\"], [0.8888888888888888, \"#fdca26\"], [1.0, \"#f0f921\"]], \"type\": \"heatmap\"}], \"heatmapgl\": [{\"colorbar\": {\"outlinewidth\": 0, \"ticks\": \"\"}, \"colorscale\": [[0.0, \"#0d0887\"], [0.1111111111111111, \"#46039f\"], [0.2222222222222222, \"#7201a8\"], [0.3333333333333333, \"#9c179e\"], [0.4444444444444444, \"#bd3786\"], [0.5555555555555556, \"#d8576b\"], [0.6666666666666666, \"#ed7953\"], [0.7777777777777778, \"#fb9f3a\"], [0.8888888888888888, \"#fdca26\"], [1.0, \"#f0f921\"]], \"type\": \"heatmapgl\"}], \"histogram\": [{\"marker\": {\"colorbar\": {\"outlinewidth\": 0, \"ticks\": \"\"}}, \"type\": \"histogram\"}], \"histogram2d\": [{\"colorbar\": {\"outlinewidth\": 0, \"ticks\": \"\"}, \"colorscale\": [[0.0, \"#0d0887\"], [0.1111111111111111, \"#46039f\"], [0.2222222222222222, \"#7201a8\"], [0.3333333333333333, \"#9c179e\"], [0.4444444444444444, \"#bd3786\"], [0.5555555555555556, \"#d8576b\"], [0.6666666666666666, \"#ed7953\"], [0.7777777777777778, \"#fb9f3a\"], [0.8888888888888888, \"#fdca26\"], [1.0, \"#f0f921\"]], \"type\": \"histogram2d\"}], \"histogram2dcontour\": [{\"colorbar\": {\"outlinewidth\": 0, \"ticks\": \"\"}, \"colorscale\": [[0.0, \"#0d0887\"], [0.1111111111111111, \"#46039f\"], [0.2222222222222222, \"#7201a8\"], [0.3333333333333333, \"#9c179e\"], [0.4444444444444444, \"#bd3786\"], [0.5555555555555556, \"#d8576b\"], [0.6666666666666666, \"#ed7953\"], [0.7777777777777778, \"#fb9f3a\"], [0.8888888888888888, \"#fdca26\"], [1.0, \"#f0f921\"]], \"type\": \"histogram2dcontour\"}], \"mesh3d\": [{\"colorbar\": {\"outlinewidth\": 0, \"ticks\": \"\"}, \"type\": \"mesh3d\"}], \"parcoords\": [{\"line\": {\"colorbar\": {\"outlinewidth\": 0, \"ticks\": \"\"}}, \"type\": \"parcoords\"}], \"scatter\": [{\"marker\": {\"colorbar\": {\"outlinewidth\": 0, \"ticks\": \"\"}}, \"type\": \"scatter\"}], \"scatter3d\": [{\"line\": {\"colorbar\": {\"outlinewidth\": 0, \"ticks\": \"\"}}, \"marker\": {\"colorbar\": {\"outlinewidth\": 0, \"ticks\": \"\"}}, \"type\": \"scatter3d\"}], \"scattercarpet\": [{\"marker\": {\"colorbar\": {\"outlinewidth\": 0, \"ticks\": \"\"}}, \"type\": \"scattercarpet\"}], \"scattergeo\": [{\"marker\": {\"colorbar\": {\"outlinewidth\": 0, \"ticks\": \"\"}}, \"type\": \"scattergeo\"}], \"scattergl\": [{\"marker\": {\"colorbar\": {\"outlinewidth\": 0, \"ticks\": \"\"}}, \"type\": \"scattergl\"}], \"scattermapbox\": [{\"marker\": {\"colorbar\": {\"outlinewidth\": 0, \"ticks\": \"\"}}, \"type\": \"scattermapbox\"}], \"scatterpolar\": [{\"marker\": {\"colorbar\": {\"outlinewidth\": 0, \"ticks\": \"\"}}, \"type\": \"scatterpolar\"}], \"scatterpolargl\": [{\"marker\": {\"colorbar\": {\"outlinewidth\": 0, \"ticks\": \"\"}}, \"type\": \"scatterpolargl\"}], \"scatterternary\": [{\"marker\": {\"colorbar\": {\"outlinewidth\": 0, \"ticks\": \"\"}}, \"type\": \"scatterternary\"}], \"surface\": [{\"colorbar\": {\"outlinewidth\": 0, \"ticks\": \"\"}, \"colorscale\": [[0.0, \"#0d0887\"], [0.1111111111111111, \"#46039f\"], [0.2222222222222222, \"#7201a8\"], [0.3333333333333333, \"#9c179e\"], [0.4444444444444444, \"#bd3786\"], [0.5555555555555556, \"#d8576b\"], [0.6666666666666666, \"#ed7953\"], [0.7777777777777778, \"#fb9f3a\"], [0.8888888888888888, \"#fdca26\"], [1.0, \"#f0f921\"]], \"type\": \"surface\"}], \"table\": [{\"cells\": {\"fill\": {\"color\": \"#EBF0F8\"}, \"line\": {\"color\": \"white\"}}, \"header\": {\"fill\": {\"color\": \"#C8D4E3\"}, \"line\": {\"color\": \"white\"}}, \"type\": \"table\"}]}, \"layout\": {\"annotationdefaults\": {\"arrowcolor\": \"#2a3f5f\", \"arrowhead\": 0, \"arrowwidth\": 1}, \"colorscale\": {\"diverging\": [[0, \"#8e0152\"], [0.1, \"#c51b7d\"], [0.2, \"#de77ae\"], [0.3, \"#f1b6da\"], [0.4, \"#fde0ef\"], [0.5, \"#f7f7f7\"], [0.6, \"#e6f5d0\"], [0.7, \"#b8e186\"], [0.8, \"#7fbc41\"], [0.9, \"#4d9221\"], [1, \"#276419\"]], \"sequential\": [[0.0, \"#0d0887\"], [0.1111111111111111, \"#46039f\"], [0.2222222222222222, \"#7201a8\"], [0.3333333333333333, \"#9c179e\"], [0.4444444444444444, \"#bd3786\"], [0.5555555555555556, \"#d8576b\"], [0.6666666666666666, \"#ed7953\"], [0.7777777777777778, \"#fb9f3a\"], [0.8888888888888888, \"#fdca26\"], [1.0, \"#f0f921\"]], \"sequentialminus\": [[0.0, \"#0d0887\"], [0.1111111111111111, \"#46039f\"], [0.2222222222222222, \"#7201a8\"], [0.3333333333333333, \"#9c179e\"], [0.4444444444444444, \"#bd3786\"], [0.5555555555555556, \"#d8576b\"], [0.6666666666666666, \"#ed7953\"], [0.7777777777777778, \"#fb9f3a\"], [0.8888888888888888, \"#fdca26\"], [1.0, \"#f0f921\"]]}, \"colorway\": [\"#636efa\", \"#EF553B\", \"#00cc96\", \"#ab63fa\", \"#FFA15A\", \"#19d3f3\", \"#FF6692\", \"#B6E880\", \"#FF97FF\", \"#FECB52\"], \"font\": {\"color\": \"#2a3f5f\"}, \"geo\": {\"bgcolor\": \"white\", \"lakecolor\": \"white\", \"landcolor\": \"#E5ECF6\", \"showlakes\": true, \"showland\": true, \"subunitcolor\": \"white\"}, \"hoverlabel\": {\"align\": \"left\"}, \"hovermode\": \"closest\", \"mapbox\": {\"style\": \"light\"}, \"paper_bgcolor\": \"white\", \"plot_bgcolor\": \"#E5ECF6\", \"polar\": {\"angularaxis\": {\"gridcolor\": \"white\", \"linecolor\": \"white\", \"ticks\": \"\"}, \"bgcolor\": \"#E5ECF6\", \"radialaxis\": {\"gridcolor\": \"white\", \"linecolor\": \"white\", \"ticks\": \"\"}}, \"scene\": {\"xaxis\": {\"backgroundcolor\": \"#E5ECF6\", \"gridcolor\": \"white\", \"gridwidth\": 2, \"linecolor\": \"white\", \"showbackground\": true, \"ticks\": \"\", \"zerolinecolor\": \"white\"}, \"yaxis\": {\"backgroundcolor\": \"#E5ECF6\", \"gridcolor\": \"white\", \"gridwidth\": 2, \"linecolor\": \"white\", \"showbackground\": true, \"ticks\": \"\", \"zerolinecolor\": \"white\"}, \"zaxis\": {\"backgroundcolor\": \"#E5ECF6\", \"gridcolor\": \"white\", \"gridwidth\": 2, \"linecolor\": \"white\", \"showbackground\": true, \"ticks\": \"\", \"zerolinecolor\": \"white\"}}, \"shapedefaults\": {\"line\": {\"color\": \"#2a3f5f\"}}, \"ternary\": {\"aaxis\": {\"gridcolor\": \"white\", \"linecolor\": \"white\", \"ticks\": \"\"}, \"baxis\": {\"gridcolor\": \"white\", \"linecolor\": \"white\", \"ticks\": \"\"}, \"bgcolor\": \"#E5ECF6\", \"caxis\": {\"gridcolor\": \"white\", \"linecolor\": \"white\", \"ticks\": \"\"}}, \"title\": {\"x\": 0.05}, \"xaxis\": {\"automargin\": true, \"gridcolor\": \"white\", \"linecolor\": \"white\", \"ticks\": \"\", \"zerolinecolor\": \"white\", \"zerolinewidth\": 2}, \"yaxis\": {\"automargin\": true, \"gridcolor\": \"white\", \"linecolor\": \"white\", \"ticks\": \"\", \"zerolinecolor\": \"white\", \"zerolinewidth\": 2}}}, \"xaxis\": {\"title\": {\"text\": \"Iterations\"}}, \"yaxis\": {\"title\": {\"text\": \"MAE\"}}},\n",
       "                        {\"responsive\": true}\n",
       "                    ).then(function(){\n",
       "                            \n",
       "var gd = document.getElementById('beeb5efa-154e-4832-9d88-fba360e2229f');\n",
       "var x = new MutationObserver(function (mutations, observer) {{\n",
       "        var display = window.getComputedStyle(gd).display;\n",
       "        if (!display || display === 'none') {{\n",
       "            console.log([gd, 'removed!']);\n",
       "            Plotly.purge(gd);\n",
       "            observer.disconnect();\n",
       "        }}\n",
       "}});\n",
       "\n",
       "// Listen for the removal of the full notebook cells\n",
       "var notebookContainer = gd.closest('#notebook-container');\n",
       "if (notebookContainer) {{\n",
       "    x.observe(notebookContainer, {childList: true});\n",
       "}}\n",
       "\n",
       "// Listen for the clearing of the current output cell\n",
       "var outputEl = gd.closest('.output');\n",
       "if (outputEl) {{\n",
       "    x.observe(outputEl, {childList: true});\n",
       "}}\n",
       "\n",
       "                        })\n",
       "                };\n",
       "                });\n",
       "            </script>\n",
       "        </div>"
      ]
     },
     "metadata": {},
     "output_type": "display_data"
    }
   ],
   "source": [
    "hopt_exp.visualize_avg_performance('COAST_diff_17520')"
   ]
  }
 ],
 "metadata": {
  "kernelspec": {
   "display_name": "AutoXGB Notebook",
   "language": "python",
   "name": "autoxgb_kernel"
  },
  "language_info": {
   "codemirror_mode": {
    "name": "ipython",
    "version": 3
   },
   "file_extension": ".py",
   "mimetype": "text/x-python",
   "name": "python",
   "nbconvert_exporter": "python",
   "pygments_lexer": "ipython3",
   "version": "3.6.4"
  }
 },
 "nbformat": 4,
 "nbformat_minor": 4
}
