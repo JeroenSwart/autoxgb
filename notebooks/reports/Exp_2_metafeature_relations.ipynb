{
 "cells": [
  {
   "cell_type": "markdown",
   "metadata": {},
   "source": [
    "# Experiment 2: Metafeature Relations"
   ]
  },
  {
   "cell_type": "code",
   "execution_count": 1,
   "metadata": {},
   "outputs": [],
   "source": [
    "# Import external libraries\n",
    "import pandas as pd\n",
    "import pickle\n",
    "import numpy as np\n",
    "import plotly.graph_objects as go\n",
    "from plotly.subplots import make_subplots\n",
    "\n",
    "# Import internal metalearning libraries\n",
    "from src.metalearning.metadata import MetaDataset\n",
    "from src.utils.metafeature_utils import pca_rank_cor, size"
   ]
  },
  {
   "cell_type": "markdown",
   "metadata": {},
   "source": [
    "### Load dataset"
   ]
  },
  {
   "cell_type": "code",
   "execution_count": 2,
   "metadata": {},
   "outputs": [
    {
     "name": "stderr",
     "output_type": "stream",
     "text": [
      "Calculate metafeatures of metasamples: 100%|██████████| 32/32 [00:01<00:00, 23.80it/s]\n"
     ]
    }
   ],
   "source": [
    "# Initialize metadataset and calculate metafeatures\n",
    "metadataset_sample_names = !ls ../../data/metadata/interim\n",
    "metasamples = [pickle.load(open('../../data/metadata/interim/' + sample_name,\"rb\")) for sample_name in metadataset_sample_names]# if '8760' not in sample_name and 'dif' not in sample_name]\n",
    "metadataset = MetaDataset(metasamples, metafeature_functions=[size, pca_rank_cor])\n",
    "data = metadataset.metafeature_set"
   ]
  },
  {
   "cell_type": "markdown",
   "metadata": {},
   "source": [
    "### Some pandas wrangling"
   ]
  },
  {
   "cell_type": "code",
   "execution_count": 3,
   "metadata": {},
   "outputs": [],
   "source": [
    "# specify number of best configurations per dataset to include\n",
    "nr_best_configs = 1\n",
    "\n",
    "# make dataframe of concatenated best configurations with its metafeatures\n",
    "df = pd.concat([data]*nr_best_configs)\n",
    "hyperparameters = metadataset.metasamples[0].get_best_hyperparameters(1)[0].keys()\n",
    "for hyperp in hyperparameters:\n",
    "    lst = []\n",
    "    for i in range(nr_best_configs):\n",
    "        lst.extend([np.array([hyperps[hyperp] for hyperps in sample.get_best_hyperparameters(i+1)])[i] for sample in metadataset.metasamples])\n",
    "    df[hyperp] = lst"
   ]
  },
  {
   "cell_type": "code",
   "execution_count": 7,
   "metadata": {},
   "outputs": [
    {
     "data": {
      "application/vnd.plotly.v1+json": {
       "config": {
        "plotlyServerURL": "https://plot.ly"
       },
       "data": [
        {
         "boxmean": true,
         "name": "Size = 8760",
         "type": "box",
         "xaxis": "x",
         "y": [
          14,
          9,
          11,
          7,
          11,
          11,
          14,
          9,
          11,
          9,
          14,
          9,
          14,
          9,
          14,
          9
         ],
         "yaxis": "y"
        },
        {
         "boxmean": true,
         "name": "Size = 17520",
         "type": "box",
         "xaxis": "x",
         "y": [
          14,
          11,
          7,
          9,
          11,
          18,
          11,
          18,
          11,
          16,
          14,
          11,
          14,
          18,
          11,
          18
         ],
         "yaxis": "y"
        },
        {
         "boxmean": true,
         "name": "Size = 8760",
         "type": "box",
         "xaxis": "x3",
         "y": [
          -2.0555555555555554,
          -2.2777777777777777,
          -2.2777777777777777,
          -2.2777777777777777,
          -2.0555555555555554,
          -2.0555555555555554,
          -2.5,
          -1.8333333333333335,
          -1.6111111111111112,
          -2.0555555555555554,
          -2.5,
          -1.8333333333333335,
          -2.5,
          -1.8333333333333335,
          -2.5,
          -2.0555555555555554
         ],
         "yaxis": "y3"
        },
        {
         "boxmean": true,
         "name": "Size = 17520",
         "type": "box",
         "xaxis": "x3",
         "y": [
          -2.2777777777777777,
          -2.2777777777777777,
          -2.0555555555555554,
          -1.8333333333333335,
          -2.0555555555555554,
          -2.2777777777777777,
          -1.8333333333333335,
          -1.8333333333333335,
          -2.2777777777777777,
          -2.2777777777777777,
          -2.5,
          -2.2777777777777777,
          -2.5,
          -1.8333333333333335,
          -1.8333333333333335,
          -2.2777777777777777
         ],
         "yaxis": "y3"
        },
        {
         "boxmean": true,
         "name": "Size = 8760",
         "type": "box",
         "xaxis": "x5",
         "y": [
          380,
          660,
          520,
          800,
          380,
          380,
          800,
          240,
          100,
          380,
          800,
          240,
          800,
          380,
          660,
          380
         ],
         "yaxis": "y5"
        },
        {
         "boxmean": true,
         "name": "Size = 17520",
         "type": "box",
         "xaxis": "x5",
         "y": [
          520,
          800,
          660,
          380,
          520,
          800,
          380,
          240,
          800,
          520,
          800,
          800,
          800,
          240,
          520,
          660
         ],
         "yaxis": "y5"
        },
        {
         "boxmean": true,
         "name": "Size = 8760",
         "type": "box",
         "xaxis": "x7",
         "y": [
          5,
          5,
          22.5,
          5,
          5,
          22.5,
          5,
          5,
          5,
          5,
          5,
          5,
          5,
          5,
          5,
          5
         ],
         "yaxis": "y7"
        },
        {
         "boxmean": true,
         "name": "Size = 17520",
         "type": "box",
         "xaxis": "x7",
         "y": [
          5,
          22.5,
          5,
          22.5,
          5,
          22.5,
          5,
          22.5,
          5,
          22.5,
          5,
          5,
          5,
          22.5,
          22.5,
          22.5
         ],
         "yaxis": "y7"
        },
        {
         "boxmean": true,
         "name": "Size = 8760",
         "type": "box",
         "xaxis": "x9",
         "y": [
          0.75,
          0.5,
          0.75,
          0.5,
          0.75,
          0.5,
          0.75,
          0.5,
          0.75,
          0.5,
          0.75,
          0.5,
          0.75,
          0.75,
          0.75,
          0.5
         ],
         "yaxis": "y9"
        },
        {
         "boxmean": true,
         "name": "Size = 17520",
         "type": "box",
         "xaxis": "x9",
         "y": [
          0.75,
          0.5,
          1,
          0.75,
          0.75,
          0.5,
          0.75,
          0.75,
          0.75,
          0.5,
          0.75,
          0.5,
          0.75,
          0.5,
          1,
          0.5
         ],
         "yaxis": "y9"
        },
        {
         "mode": "markers",
         "type": "scatter",
         "x": [
          0.04334059028794689,
          0.04391002846159395,
          0.1742950289319662,
          0.17088399133344986,
          0.04760451253331445,
          0.0515548990724462,
          0.13321103149244717,
          0.1320012767072899,
          0.054971781696046815,
          0.058894662958050945,
          0.1361557294250355,
          0.13001995814154949,
          0.03661302448939458,
          0.03760171597487407,
          0.13770448419074494,
          0.13351931866568495,
          0.04875882362313011,
          0.04632348961927948,
          0.12257515652780968,
          0.11436333754703872,
          0.04058584108322523,
          0.03844440585830611,
          0.1521603469725592,
          0.1492418647754497,
          0.06250562668359318,
          0.06545425684020391,
          0.1698587442622334,
          0.16761516097623888,
          0.044852036768503425,
          0.04820707974614305,
          0.13871783695821072,
          0.13530592515832152
         ],
         "xaxis": "x2",
         "y": [
          14,
          14,
          11,
          9,
          7,
          11,
          9,
          7,
          11,
          11,
          18,
          11,
          11,
          14,
          18,
          9,
          11,
          11,
          16,
          9,
          14,
          14,
          11,
          9,
          14,
          14,
          18,
          9,
          11,
          14,
          18,
          9
         ],
         "yaxis": "y2"
        },
        {
         "mode": "markers",
         "type": "scatter",
         "x": [
          0.04334059028794689,
          0.04391002846159395,
          0.1742950289319662,
          0.17088399133344986,
          0.04760451253331445,
          0.0515548990724462,
          0.13321103149244717,
          0.1320012767072899,
          0.054971781696046815,
          0.058894662958050945,
          0.1361557294250355,
          0.13001995814154949,
          0.03661302448939458,
          0.03760171597487407,
          0.13770448419074494,
          0.13351931866568495,
          0.04875882362313011,
          0.04632348961927948,
          0.12257515652780968,
          0.11436333754703872,
          0.04058584108322523,
          0.03844440585830611,
          0.1521603469725592,
          0.1492418647754497,
          0.06250562668359318,
          0.06545425684020391,
          0.1698587442622334,
          0.16761516097623888,
          0.044852036768503425,
          0.04820707974614305,
          0.13871783695821072,
          0.13530592515832152
         ],
         "xaxis": "x4",
         "y": [
          0.005274997063702621,
          0.008799225435691074,
          0.0052749970637026205,
          0.0052749970637026205,
          0.008799225435691074,
          0.0052749970637026205,
          0.014677992676220691,
          0.0052749970637026205,
          0.008799225435691074,
          0.008799225435691074,
          0.0052749970637026205,
          0.008799225435691074,
          0.014677992676220691,
          0.00316227766016838,
          0.014677992676220691,
          0.014677992676220691,
          0.0052749970637026205,
          0.024484367468222263,
          0.0052749970637026205,
          0.008799225435691074,
          0.00316227766016838,
          0.00316227766016838,
          0.0052749970637026205,
          0.014677992676220691,
          0.00316227766016838,
          0.00316227766016838,
          0.014677992676220691,
          0.014677992676220691,
          0.014677992676220691,
          0.00316227766016838,
          0.0052749970637026205,
          0.008799225435691074
         ],
         "yaxis": "y4"
        },
        {
         "mode": "markers",
         "type": "scatter",
         "x": [
          0.04334059028794689,
          0.04391002846159395,
          0.1742950289319662,
          0.17088399133344986,
          0.04760451253331445,
          0.0515548990724462,
          0.13321103149244717,
          0.1320012767072899,
          0.054971781696046815,
          0.058894662958050945,
          0.1361557294250355,
          0.13001995814154949,
          0.03661302448939458,
          0.03760171597487407,
          0.13770448419074494,
          0.13351931866568495,
          0.04875882362313011,
          0.04632348961927948,
          0.12257515652780968,
          0.11436333754703872,
          0.04058584108322523,
          0.03844440585830611,
          0.1521603469725592,
          0.1492418647754497,
          0.06250562668359318,
          0.06545425684020391,
          0.1698587442622334,
          0.16761516097623888,
          0.044852036768503425,
          0.04820707974614305,
          0.13871783695821072,
          0.13530592515832152
         ],
         "xaxis": "x6",
         "y": [
          520,
          380,
          800,
          660,
          660,
          520,
          380,
          800,
          520,
          380,
          800,
          380,
          380,
          800,
          240,
          240,
          800,
          100,
          520,
          380,
          800,
          800,
          800,
          240,
          800,
          800,
          240,
          380,
          520,
          660,
          660,
          380
         ],
         "yaxis": "y6"
        },
        {
         "mode": "markers",
         "type": "scatter",
         "x": [
          0.04334059028794689,
          0.04391002846159395,
          0.1742950289319662,
          0.17088399133344986,
          0.04760451253331445,
          0.0515548990724462,
          0.13321103149244717,
          0.1320012767072899,
          0.054971781696046815,
          0.058894662958050945,
          0.1361557294250355,
          0.13001995814154949,
          0.03661302448939458,
          0.03760171597487407,
          0.13770448419074494,
          0.13351931866568495,
          0.04875882362313011,
          0.04632348961927948,
          0.12257515652780968,
          0.11436333754703872,
          0.04058584108322523,
          0.03844440585830611,
          0.1521603469725592,
          0.1492418647754497,
          0.06250562668359318,
          0.06545425684020391,
          0.1698587442622334,
          0.16761516097623888,
          0.044852036768503425,
          0.04820707974614305,
          0.13871783695821072,
          0.13530592515832152
         ],
         "xaxis": "x8",
         "y": [
          5,
          5,
          22.5,
          5,
          5,
          22.5,
          22.5,
          5,
          5,
          5,
          22.5,
          22.5,
          5,
          5,
          22.5,
          5,
          5,
          5,
          22.5,
          5,
          5,
          5,
          5,
          5,
          5,
          5,
          22.5,
          5,
          22.5,
          5,
          22.5,
          5
         ],
         "yaxis": "y8"
        },
        {
         "mode": "markers",
         "type": "scatter",
         "x": [
          0.04334059028794689,
          0.04391002846159395,
          0.1742950289319662,
          0.17088399133344986,
          0.04760451253331445,
          0.0515548990724462,
          0.13321103149244717,
          0.1320012767072899,
          0.054971781696046815,
          0.058894662958050945,
          0.1361557294250355,
          0.13001995814154949,
          0.03661302448939458,
          0.03760171597487407,
          0.13770448419074494,
          0.13351931866568495,
          0.04875882362313011,
          0.04632348961927948,
          0.12257515652780968,
          0.11436333754703872,
          0.04058584108322523,
          0.03844440585830611,
          0.1521603469725592,
          0.1492418647754497,
          0.06250562668359318,
          0.06545425684020391,
          0.1698587442622334,
          0.16761516097623888,
          0.044852036768503425,
          0.04820707974614305,
          0.13871783695821072,
          0.13530592515832152
         ],
         "xaxis": "x10",
         "y": [
          0.75,
          0.75,
          0.5,
          0.5,
          1,
          0.75,
          0.75,
          0.5,
          0.75,
          0.75,
          0.5,
          0.5,
          0.75,
          0.75,
          0.75,
          0.5,
          0.75,
          0.75,
          0.5,
          0.5,
          0.75,
          0.75,
          0.5,
          0.5,
          0.75,
          0.75,
          0.5,
          0.75,
          1,
          0.75,
          0.5,
          0.5
         ],
         "yaxis": "y10"
        }
       ],
       "layout": {
        "autosize": true,
        "showlegend": false,
        "template": {
         "data": {
          "bar": [
           {
            "error_x": {
             "color": "#2a3f5f"
            },
            "error_y": {
             "color": "#2a3f5f"
            },
            "marker": {
             "line": {
              "color": "#E5ECF6",
              "width": 0.5
             }
            },
            "type": "bar"
           }
          ],
          "barpolar": [
           {
            "marker": {
             "line": {
              "color": "#E5ECF6",
              "width": 0.5
             }
            },
            "type": "barpolar"
           }
          ],
          "carpet": [
           {
            "aaxis": {
             "endlinecolor": "#2a3f5f",
             "gridcolor": "white",
             "linecolor": "white",
             "minorgridcolor": "white",
             "startlinecolor": "#2a3f5f"
            },
            "baxis": {
             "endlinecolor": "#2a3f5f",
             "gridcolor": "white",
             "linecolor": "white",
             "minorgridcolor": "white",
             "startlinecolor": "#2a3f5f"
            },
            "type": "carpet"
           }
          ],
          "choropleth": [
           {
            "colorbar": {
             "outlinewidth": 0,
             "ticks": ""
            },
            "type": "choropleth"
           }
          ],
          "contour": [
           {
            "colorbar": {
             "outlinewidth": 0,
             "ticks": ""
            },
            "colorscale": [
             [
              0,
              "#0d0887"
             ],
             [
              0.1111111111111111,
              "#46039f"
             ],
             [
              0.2222222222222222,
              "#7201a8"
             ],
             [
              0.3333333333333333,
              "#9c179e"
             ],
             [
              0.4444444444444444,
              "#bd3786"
             ],
             [
              0.5555555555555556,
              "#d8576b"
             ],
             [
              0.6666666666666666,
              "#ed7953"
             ],
             [
              0.7777777777777778,
              "#fb9f3a"
             ],
             [
              0.8888888888888888,
              "#fdca26"
             ],
             [
              1,
              "#f0f921"
             ]
            ],
            "type": "contour"
           }
          ],
          "contourcarpet": [
           {
            "colorbar": {
             "outlinewidth": 0,
             "ticks": ""
            },
            "type": "contourcarpet"
           }
          ],
          "heatmap": [
           {
            "colorbar": {
             "outlinewidth": 0,
             "ticks": ""
            },
            "colorscale": [
             [
              0,
              "#0d0887"
             ],
             [
              0.1111111111111111,
              "#46039f"
             ],
             [
              0.2222222222222222,
              "#7201a8"
             ],
             [
              0.3333333333333333,
              "#9c179e"
             ],
             [
              0.4444444444444444,
              "#bd3786"
             ],
             [
              0.5555555555555556,
              "#d8576b"
             ],
             [
              0.6666666666666666,
              "#ed7953"
             ],
             [
              0.7777777777777778,
              "#fb9f3a"
             ],
             [
              0.8888888888888888,
              "#fdca26"
             ],
             [
              1,
              "#f0f921"
             ]
            ],
            "type": "heatmap"
           }
          ],
          "heatmapgl": [
           {
            "colorbar": {
             "outlinewidth": 0,
             "ticks": ""
            },
            "colorscale": [
             [
              0,
              "#0d0887"
             ],
             [
              0.1111111111111111,
              "#46039f"
             ],
             [
              0.2222222222222222,
              "#7201a8"
             ],
             [
              0.3333333333333333,
              "#9c179e"
             ],
             [
              0.4444444444444444,
              "#bd3786"
             ],
             [
              0.5555555555555556,
              "#d8576b"
             ],
             [
              0.6666666666666666,
              "#ed7953"
             ],
             [
              0.7777777777777778,
              "#fb9f3a"
             ],
             [
              0.8888888888888888,
              "#fdca26"
             ],
             [
              1,
              "#f0f921"
             ]
            ],
            "type": "heatmapgl"
           }
          ],
          "histogram": [
           {
            "marker": {
             "colorbar": {
              "outlinewidth": 0,
              "ticks": ""
             }
            },
            "type": "histogram"
           }
          ],
          "histogram2d": [
           {
            "colorbar": {
             "outlinewidth": 0,
             "ticks": ""
            },
            "colorscale": [
             [
              0,
              "#0d0887"
             ],
             [
              0.1111111111111111,
              "#46039f"
             ],
             [
              0.2222222222222222,
              "#7201a8"
             ],
             [
              0.3333333333333333,
              "#9c179e"
             ],
             [
              0.4444444444444444,
              "#bd3786"
             ],
             [
              0.5555555555555556,
              "#d8576b"
             ],
             [
              0.6666666666666666,
              "#ed7953"
             ],
             [
              0.7777777777777778,
              "#fb9f3a"
             ],
             [
              0.8888888888888888,
              "#fdca26"
             ],
             [
              1,
              "#f0f921"
             ]
            ],
            "type": "histogram2d"
           }
          ],
          "histogram2dcontour": [
           {
            "colorbar": {
             "outlinewidth": 0,
             "ticks": ""
            },
            "colorscale": [
             [
              0,
              "#0d0887"
             ],
             [
              0.1111111111111111,
              "#46039f"
             ],
             [
              0.2222222222222222,
              "#7201a8"
             ],
             [
              0.3333333333333333,
              "#9c179e"
             ],
             [
              0.4444444444444444,
              "#bd3786"
             ],
             [
              0.5555555555555556,
              "#d8576b"
             ],
             [
              0.6666666666666666,
              "#ed7953"
             ],
             [
              0.7777777777777778,
              "#fb9f3a"
             ],
             [
              0.8888888888888888,
              "#fdca26"
             ],
             [
              1,
              "#f0f921"
             ]
            ],
            "type": "histogram2dcontour"
           }
          ],
          "mesh3d": [
           {
            "colorbar": {
             "outlinewidth": 0,
             "ticks": ""
            },
            "type": "mesh3d"
           }
          ],
          "parcoords": [
           {
            "line": {
             "colorbar": {
              "outlinewidth": 0,
              "ticks": ""
             }
            },
            "type": "parcoords"
           }
          ],
          "scatter": [
           {
            "marker": {
             "colorbar": {
              "outlinewidth": 0,
              "ticks": ""
             }
            },
            "type": "scatter"
           }
          ],
          "scatter3d": [
           {
            "line": {
             "colorbar": {
              "outlinewidth": 0,
              "ticks": ""
             }
            },
            "marker": {
             "colorbar": {
              "outlinewidth": 0,
              "ticks": ""
             }
            },
            "type": "scatter3d"
           }
          ],
          "scattercarpet": [
           {
            "marker": {
             "colorbar": {
              "outlinewidth": 0,
              "ticks": ""
             }
            },
            "type": "scattercarpet"
           }
          ],
          "scattergeo": [
           {
            "marker": {
             "colorbar": {
              "outlinewidth": 0,
              "ticks": ""
             }
            },
            "type": "scattergeo"
           }
          ],
          "scattergl": [
           {
            "marker": {
             "colorbar": {
              "outlinewidth": 0,
              "ticks": ""
             }
            },
            "type": "scattergl"
           }
          ],
          "scattermapbox": [
           {
            "marker": {
             "colorbar": {
              "outlinewidth": 0,
              "ticks": ""
             }
            },
            "type": "scattermapbox"
           }
          ],
          "scatterpolar": [
           {
            "marker": {
             "colorbar": {
              "outlinewidth": 0,
              "ticks": ""
             }
            },
            "type": "scatterpolar"
           }
          ],
          "scatterpolargl": [
           {
            "marker": {
             "colorbar": {
              "outlinewidth": 0,
              "ticks": ""
             }
            },
            "type": "scatterpolargl"
           }
          ],
          "scatterternary": [
           {
            "marker": {
             "colorbar": {
              "outlinewidth": 0,
              "ticks": ""
             }
            },
            "type": "scatterternary"
           }
          ],
          "surface": [
           {
            "colorbar": {
             "outlinewidth": 0,
             "ticks": ""
            },
            "colorscale": [
             [
              0,
              "#0d0887"
             ],
             [
              0.1111111111111111,
              "#46039f"
             ],
             [
              0.2222222222222222,
              "#7201a8"
             ],
             [
              0.3333333333333333,
              "#9c179e"
             ],
             [
              0.4444444444444444,
              "#bd3786"
             ],
             [
              0.5555555555555556,
              "#d8576b"
             ],
             [
              0.6666666666666666,
              "#ed7953"
             ],
             [
              0.7777777777777778,
              "#fb9f3a"
             ],
             [
              0.8888888888888888,
              "#fdca26"
             ],
             [
              1,
              "#f0f921"
             ]
            ],
            "type": "surface"
           }
          ],
          "table": [
           {
            "cells": {
             "fill": {
              "color": "#EBF0F8"
             },
             "line": {
              "color": "white"
             }
            },
            "header": {
             "fill": {
              "color": "#C8D4E3"
             },
             "line": {
              "color": "white"
             }
            },
            "type": "table"
           }
          ]
         },
         "layout": {
          "annotationdefaults": {
           "arrowcolor": "#2a3f5f",
           "arrowhead": 0,
           "arrowwidth": 1
          },
          "colorscale": {
           "diverging": [
            [
             0,
             "#8e0152"
            ],
            [
             0.1,
             "#c51b7d"
            ],
            [
             0.2,
             "#de77ae"
            ],
            [
             0.3,
             "#f1b6da"
            ],
            [
             0.4,
             "#fde0ef"
            ],
            [
             0.5,
             "#f7f7f7"
            ],
            [
             0.6,
             "#e6f5d0"
            ],
            [
             0.7,
             "#b8e186"
            ],
            [
             0.8,
             "#7fbc41"
            ],
            [
             0.9,
             "#4d9221"
            ],
            [
             1,
             "#276419"
            ]
           ],
           "sequential": [
            [
             0,
             "#0d0887"
            ],
            [
             0.1111111111111111,
             "#46039f"
            ],
            [
             0.2222222222222222,
             "#7201a8"
            ],
            [
             0.3333333333333333,
             "#9c179e"
            ],
            [
             0.4444444444444444,
             "#bd3786"
            ],
            [
             0.5555555555555556,
             "#d8576b"
            ],
            [
             0.6666666666666666,
             "#ed7953"
            ],
            [
             0.7777777777777778,
             "#fb9f3a"
            ],
            [
             0.8888888888888888,
             "#fdca26"
            ],
            [
             1,
             "#f0f921"
            ]
           ],
           "sequentialminus": [
            [
             0,
             "#0d0887"
            ],
            [
             0.1111111111111111,
             "#46039f"
            ],
            [
             0.2222222222222222,
             "#7201a8"
            ],
            [
             0.3333333333333333,
             "#9c179e"
            ],
            [
             0.4444444444444444,
             "#bd3786"
            ],
            [
             0.5555555555555556,
             "#d8576b"
            ],
            [
             0.6666666666666666,
             "#ed7953"
            ],
            [
             0.7777777777777778,
             "#fb9f3a"
            ],
            [
             0.8888888888888888,
             "#fdca26"
            ],
            [
             1,
             "#f0f921"
            ]
           ]
          },
          "colorway": [
           "#636efa",
           "#EF553B",
           "#00cc96",
           "#ab63fa",
           "#FFA15A",
           "#19d3f3",
           "#FF6692",
           "#B6E880",
           "#FF97FF",
           "#FECB52"
          ],
          "font": {
           "color": "#2a3f5f"
          },
          "geo": {
           "bgcolor": "white",
           "lakecolor": "white",
           "landcolor": "#E5ECF6",
           "showlakes": true,
           "showland": true,
           "subunitcolor": "white"
          },
          "hoverlabel": {
           "align": "left"
          },
          "hovermode": "closest",
          "mapbox": {
           "style": "light"
          },
          "paper_bgcolor": "white",
          "plot_bgcolor": "#E5ECF6",
          "polar": {
           "angularaxis": {
            "gridcolor": "white",
            "linecolor": "white",
            "ticks": ""
           },
           "bgcolor": "#E5ECF6",
           "radialaxis": {
            "gridcolor": "white",
            "linecolor": "white",
            "ticks": ""
           }
          },
          "scene": {
           "xaxis": {
            "backgroundcolor": "#E5ECF6",
            "gridcolor": "white",
            "gridwidth": 2,
            "linecolor": "white",
            "showbackground": true,
            "ticks": "",
            "zerolinecolor": "white"
           },
           "yaxis": {
            "backgroundcolor": "#E5ECF6",
            "gridcolor": "white",
            "gridwidth": 2,
            "linecolor": "white",
            "showbackground": true,
            "ticks": "",
            "zerolinecolor": "white"
           },
           "zaxis": {
            "backgroundcolor": "#E5ECF6",
            "gridcolor": "white",
            "gridwidth": 2,
            "linecolor": "white",
            "showbackground": true,
            "ticks": "",
            "zerolinecolor": "white"
           }
          },
          "shapedefaults": {
           "line": {
            "color": "#2a3f5f"
           }
          },
          "ternary": {
           "aaxis": {
            "gridcolor": "white",
            "linecolor": "white",
            "ticks": ""
           },
           "baxis": {
            "gridcolor": "white",
            "linecolor": "white",
            "ticks": ""
           },
           "bgcolor": "#E5ECF6",
           "caxis": {
            "gridcolor": "white",
            "linecolor": "white",
            "ticks": ""
           }
          },
          "title": {
           "x": 0.05
          },
          "xaxis": {
           "automargin": true,
           "gridcolor": "white",
           "linecolor": "white",
           "ticks": "",
           "zerolinecolor": "white",
           "zerolinewidth": 2
          },
          "yaxis": {
           "automargin": true,
           "gridcolor": "white",
           "linecolor": "white",
           "ticks": "",
           "zerolinecolor": "white",
           "zerolinewidth": 2
          }
         }
        },
        "xaxis": {
         "anchor": "y",
         "autorange": true,
         "domain": [
          0,
          0.45
         ],
         "range": [
          -0.5,
          1.5
         ],
         "type": "category"
        },
        "xaxis10": {
         "anchor": "y10",
         "autorange": true,
         "domain": [
          0.55,
          1
         ],
         "range": [
          0.027196695165226097,
          0.18371135825613466
         ],
         "title": {
          "text": "Feature richness"
         },
         "type": "linear"
        },
        "xaxis2": {
         "anchor": "y2",
         "autorange": true,
         "domain": [
          0.55,
          1
         ],
         "range": [
          0.027196695165226097,
          0.18371135825613466
         ],
         "title": {
          "text": "Feature richness"
         },
         "type": "linear"
        },
        "xaxis3": {
         "anchor": "y3",
         "autorange": true,
         "domain": [
          0,
          0.45
         ],
         "range": [
          -0.5,
          1.5
         ],
         "type": "category"
        },
        "xaxis4": {
         "anchor": "y4",
         "autorange": true,
         "domain": [
          0.55,
          1
         ],
         "range": [
          0.027196695165226097,
          0.18371135825613466
         ],
         "title": {
          "text": "Feature richness"
         },
         "type": "linear"
        },
        "xaxis5": {
         "anchor": "y5",
         "autorange": true,
         "domain": [
          0,
          0.45
         ],
         "range": [
          -0.5,
          1.5
         ],
         "type": "category"
        },
        "xaxis6": {
         "anchor": "y6",
         "autorange": true,
         "domain": [
          0.55,
          1
         ],
         "range": [
          0.027196695165226097,
          0.18371135825613466
         ],
         "title": {
          "text": "Feature richness"
         },
         "type": "linear"
        },
        "xaxis7": {
         "anchor": "y7",
         "autorange": true,
         "domain": [
          0,
          0.45
         ],
         "range": [
          -0.5,
          1.5
         ],
         "type": "category"
        },
        "xaxis8": {
         "anchor": "y8",
         "autorange": true,
         "domain": [
          0.55,
          1
         ],
         "range": [
          0.027196695165226097,
          0.18371135825613466
         ],
         "title": {
          "text": "Feature richness"
         },
         "type": "linear"
        },
        "xaxis9": {
         "anchor": "y9",
         "autorange": true,
         "domain": [
          0,
          0.45
         ],
         "range": [
          -0.5,
          1.5
         ],
         "type": "category"
        },
        "yaxis": {
         "anchor": "x",
         "autorange": true,
         "domain": [
          0.848,
          1
         ],
         "range": [
          6.388888888888889,
          18.61111111111111
         ],
         "title": {
          "text": "Maximum depth"
         },
         "type": "linear"
        },
        "yaxis10": {
         "anchor": "x10",
         "autorange": true,
         "domain": [
          0,
          0.152
         ],
         "range": [
          0.45644369717349814,
          1.0435563028265018
         ],
         "title": {
          "text": "Subsample"
         },
         "type": "linear"
        },
        "yaxis2": {
         "anchor": "x2",
         "autorange": true,
         "domain": [
          0.848,
          1
         ],
         "range": [
          6.041761337816959,
          18.958238662183042
         ],
         "title": {
          "text": "Maximum depth"
         },
         "type": "linear"
        },
        "yaxis3": {
         "anchor": "x3",
         "autorange": true,
         "domain": [
          0.6359999999999999,
          0.7879999999999999
         ],
         "range": [
          -2.549382716049383,
          -1.5617283950617284
         ],
         "title": {
          "text": "Learning rate"
         },
         "type": "linear"
        },
        "yaxis4": {
         "anchor": "x4",
         "autorange": true,
         "domain": [
          0.6359999999999999,
          0.7879999999999999
         ],
         "range": [
          0.0013048548590214517,
          0.02634179026936919
         ],
         "title": {
          "text": "Learning rate"
         },
         "type": "linear"
        },
        "yaxis5": {
         "anchor": "x5",
         "autorange": true,
         "domain": [
          0.424,
          0.576
         ],
         "range": [
          61.11111111111111,
          838.8888888888889
         ],
         "title": {
          "text": "Number of trees"
         },
         "type": "linear"
        },
        "yaxis6": {
         "anchor": "x6",
         "autorange": true,
         "domain": [
          0.424,
          0.576
         ],
         "range": [
          39.02117604289737,
          860.9788239571026
         ],
         "title": {
          "text": "Number of trees"
         },
         "type": "linear"
        },
        "yaxis7": {
         "anchor": "x7",
         "autorange": true,
         "domain": [
          0.212,
          0.364
         ],
         "range": [
          4.027777777777778,
          23.47222222222222
         ],
         "title": {
          "text": "Minimum child weight"
         },
         "type": "linear"
        },
        "yaxis8": {
         "anchor": "x8",
         "autorange": true,
         "domain": [
          0.212,
          0.364
         ],
         "range": [
          3.4755294010724347,
          24.024470598927564
         ],
         "title": {
          "text": "Minimum child weight"
         },
         "type": "linear"
        },
        "yaxis9": {
         "anchor": "x9",
         "autorange": true,
         "domain": [
          0,
          0.152
         ],
         "range": [
          0.4722222222222222,
          1.0277777777777777
         ],
         "title": {
          "text": "Subsample"
         },
         "type": "linear"
        }
       }
      },
      "image/png": "[encoded data removed]",
      "text/html": [
       "<div>\n",
       "        \n",
       "        \n",
       "            <div id=\"8131c9c9-e0a0-4780-956a-cb4f43a1073a\" class=\"plotly-graph-div\" style=\"height:1200px; width:100%;\"></div>\n",
       "            <script type=\"text/javascript\">\n",
       "                require([\"plotly\"], function(Plotly) {\n",
       "                    window.PLOTLYENV=window.PLOTLYENV || {};\n",
       "                    \n",
       "                if (document.getElementById(\"8131c9c9-e0a0-4780-956a-cb4f43a1073a\")) {\n",
       "                    Plotly.newPlot(\n",
       "                        '8131c9c9-e0a0-4780-956a-cb4f43a1073a',\n",
       "                        [{\"boxmean\": true, \"name\": \"Size = 8760\", \"type\": \"box\", \"xaxis\": \"x\", \"y\": [14.0, 9.0, 11.0, 7.0, 11.0, 11.0, 14.0, 9.0, 11.0, 9.0, 14.0, 9.0, 14.0, 9.0, 14.0, 9.0], \"yaxis\": \"y\"}, {\"boxmean\": true, \"name\": \"Size = 17520\", \"type\": \"box\", \"xaxis\": \"x\", \"y\": [14.0, 11.0, 7.0, 9.0, 11.0, 18.0, 11.0, 18.0, 11.0, 16.0, 14.0, 11.0, 14.0, 18.0, 11.0, 18.0], \"yaxis\": \"y\"}, {\"boxmean\": true, \"name\": \"Size = 8760\", \"type\": \"box\", \"xaxis\": \"x3\", \"y\": [-2.0555555555555554, -2.2777777777777777, -2.2777777777777777, -2.2777777777777777, -2.0555555555555554, -2.0555555555555554, -2.5, -1.8333333333333335, -1.6111111111111112, -2.0555555555555554, -2.5, -1.8333333333333335, -2.5, -1.8333333333333335, -2.5, -2.0555555555555554], \"yaxis\": \"y3\"}, {\"boxmean\": true, \"name\": \"Size = 17520\", \"type\": \"box\", \"xaxis\": \"x3\", \"y\": [-2.2777777777777777, -2.2777777777777777, -2.0555555555555554, -1.8333333333333335, -2.0555555555555554, -2.2777777777777777, -1.8333333333333335, -1.8333333333333335, -2.2777777777777777, -2.2777777777777777, -2.5, -2.2777777777777777, -2.5, -1.8333333333333335, -1.8333333333333335, -2.2777777777777777], \"yaxis\": \"y3\"}, {\"boxmean\": true, \"name\": \"Size = 8760\", \"type\": \"box\", \"xaxis\": \"x5\", \"y\": [380.0, 660.0, 520.0, 800.0, 380.0, 380.0, 800.0, 240.0, 100.0, 380.0, 800.0, 240.0, 800.0, 380.0, 660.0, 380.0], \"yaxis\": \"y5\"}, {\"boxmean\": true, \"name\": \"Size = 17520\", \"type\": \"box\", \"xaxis\": \"x5\", \"y\": [520.0, 800.0, 660.0, 380.0, 520.0, 800.0, 380.0, 240.0, 800.0, 520.0, 800.0, 800.0, 800.0, 240.0, 520.0, 660.0], \"yaxis\": \"y5\"}, {\"boxmean\": true, \"name\": \"Size = 8760\", \"type\": \"box\", \"xaxis\": \"x7\", \"y\": [5.0, 5.0, 22.5, 5.0, 5.0, 22.5, 5.0, 5.0, 5.0, 5.0, 5.0, 5.0, 5.0, 5.0, 5.0, 5.0], \"yaxis\": \"y7\"}, {\"boxmean\": true, \"name\": \"Size = 17520\", \"type\": \"box\", \"xaxis\": \"x7\", \"y\": [5.0, 22.5, 5.0, 22.5, 5.0, 22.5, 5.0, 22.5, 5.0, 22.5, 5.0, 5.0, 5.0, 22.5, 22.5, 22.5], \"yaxis\": \"y7\"}, {\"boxmean\": true, \"name\": \"Size = 8760\", \"type\": \"box\", \"xaxis\": \"x9\", \"y\": [0.75, 0.5, 0.75, 0.5, 0.75, 0.5, 0.75, 0.5, 0.75, 0.5, 0.75, 0.5, 0.75, 0.75, 0.75, 0.5], \"yaxis\": \"y9\"}, {\"boxmean\": true, \"name\": \"Size = 17520\", \"type\": \"box\", \"xaxis\": \"x9\", \"y\": [0.75, 0.5, 1.0, 0.75, 0.75, 0.5, 0.75, 0.75, 0.75, 0.5, 0.75, 0.5, 0.75, 0.5, 1.0, 0.5], \"yaxis\": \"y9\"}, {\"mode\": \"markers\", \"type\": \"scatter\", \"x\": [0.04334059028794689, 0.04391002846159395, 0.1742950289319662, 0.17088399133344986, 0.04760451253331445, 0.0515548990724462, 0.13321103149244717, 0.1320012767072899, 0.054971781696046815, 0.058894662958050945, 0.1361557294250355, 0.13001995814154949, 0.03661302448939458, 0.03760171597487407, 0.13770448419074494, 0.13351931866568495, 0.04875882362313011, 0.04632348961927948, 0.12257515652780968, 0.11436333754703872, 0.04058584108322523, 0.03844440585830611, 0.1521603469725592, 0.1492418647754497, 0.06250562668359318, 0.06545425684020391, 0.1698587442622334, 0.16761516097623888, 0.044852036768503425, 0.04820707974614305, 0.13871783695821072, 0.13530592515832152], \"xaxis\": \"x2\", \"y\": [14.0, 14.0, 11.0, 9.0, 7.0, 11.0, 9.0, 7.0, 11.0, 11.0, 18.0, 11.0, 11.0, 14.0, 18.0, 9.0, 11.0, 11.0, 16.0, 9.0, 14.0, 14.0, 11.0, 9.0, 14.0, 14.0, 18.0, 9.0, 11.0, 14.0, 18.0, 9.0], \"yaxis\": \"y2\"}, {\"mode\": \"markers\", \"type\": \"scatter\", \"x\": [0.04334059028794689, 0.04391002846159395, 0.1742950289319662, 0.17088399133344986, 0.04760451253331445, 0.0515548990724462, 0.13321103149244717, 0.1320012767072899, 0.054971781696046815, 0.058894662958050945, 0.1361557294250355, 0.13001995814154949, 0.03661302448939458, 0.03760171597487407, 0.13770448419074494, 0.13351931866568495, 0.04875882362313011, 0.04632348961927948, 0.12257515652780968, 0.11436333754703872, 0.04058584108322523, 0.03844440585830611, 0.1521603469725592, 0.1492418647754497, 0.06250562668359318, 0.06545425684020391, 0.1698587442622334, 0.16761516097623888, 0.044852036768503425, 0.04820707974614305, 0.13871783695821072, 0.13530592515832152], \"xaxis\": \"x4\", \"y\": [0.005274997063702621, 0.008799225435691074, 0.0052749970637026205, 0.0052749970637026205, 0.008799225435691074, 0.0052749970637026205, 0.014677992676220691, 0.0052749970637026205, 0.008799225435691074, 0.008799225435691074, 0.0052749970637026205, 0.008799225435691074, 0.014677992676220691, 0.00316227766016838, 0.014677992676220691, 0.014677992676220691, 0.0052749970637026205, 0.024484367468222263, 0.0052749970637026205, 0.008799225435691074, 0.00316227766016838, 0.00316227766016838, 0.0052749970637026205, 0.014677992676220691, 0.00316227766016838, 0.00316227766016838, 0.014677992676220691, 0.014677992676220691, 0.014677992676220691, 0.00316227766016838, 0.0052749970637026205, 0.008799225435691074], \"yaxis\": \"y4\"}, {\"mode\": \"markers\", \"type\": \"scatter\", \"x\": [0.04334059028794689, 0.04391002846159395, 0.1742950289319662, 0.17088399133344986, 0.04760451253331445, 0.0515548990724462, 0.13321103149244717, 0.1320012767072899, 0.054971781696046815, 0.058894662958050945, 0.1361557294250355, 0.13001995814154949, 0.03661302448939458, 0.03760171597487407, 0.13770448419074494, 0.13351931866568495, 0.04875882362313011, 0.04632348961927948, 0.12257515652780968, 0.11436333754703872, 0.04058584108322523, 0.03844440585830611, 0.1521603469725592, 0.1492418647754497, 0.06250562668359318, 0.06545425684020391, 0.1698587442622334, 0.16761516097623888, 0.044852036768503425, 0.04820707974614305, 0.13871783695821072, 0.13530592515832152], \"xaxis\": \"x6\", \"y\": [520.0, 380.0, 800.0, 660.0, 660.0, 520.0, 380.0, 800.0, 520.0, 380.0, 800.0, 380.0, 380.0, 800.0, 240.0, 240.0, 800.0, 100.0, 520.0, 380.0, 800.0, 800.0, 800.0, 240.0, 800.0, 800.0, 240.0, 380.0, 520.0, 660.0, 660.0, 380.0], \"yaxis\": \"y6\"}, {\"mode\": \"markers\", \"type\": \"scatter\", \"x\": [0.04334059028794689, 0.04391002846159395, 0.1742950289319662, 0.17088399133344986, 0.04760451253331445, 0.0515548990724462, 0.13321103149244717, 0.1320012767072899, 0.054971781696046815, 0.058894662958050945, 0.1361557294250355, 0.13001995814154949, 0.03661302448939458, 0.03760171597487407, 0.13770448419074494, 0.13351931866568495, 0.04875882362313011, 0.04632348961927948, 0.12257515652780968, 0.11436333754703872, 0.04058584108322523, 0.03844440585830611, 0.1521603469725592, 0.1492418647754497, 0.06250562668359318, 0.06545425684020391, 0.1698587442622334, 0.16761516097623888, 0.044852036768503425, 0.04820707974614305, 0.13871783695821072, 0.13530592515832152], \"xaxis\": \"x8\", \"y\": [5.0, 5.0, 22.5, 5.0, 5.0, 22.5, 22.5, 5.0, 5.0, 5.0, 22.5, 22.5, 5.0, 5.0, 22.5, 5.0, 5.0, 5.0, 22.5, 5.0, 5.0, 5.0, 5.0, 5.0, 5.0, 5.0, 22.5, 5.0, 22.5, 5.0, 22.5, 5.0], \"yaxis\": \"y8\"}, {\"mode\": \"markers\", \"type\": \"scatter\", \"x\": [0.04334059028794689, 0.04391002846159395, 0.1742950289319662, 0.17088399133344986, 0.04760451253331445, 0.0515548990724462, 0.13321103149244717, 0.1320012767072899, 0.054971781696046815, 0.058894662958050945, 0.1361557294250355, 0.13001995814154949, 0.03661302448939458, 0.03760171597487407, 0.13770448419074494, 0.13351931866568495, 0.04875882362313011, 0.04632348961927948, 0.12257515652780968, 0.11436333754703872, 0.04058584108322523, 0.03844440585830611, 0.1521603469725592, 0.1492418647754497, 0.06250562668359318, 0.06545425684020391, 0.1698587442622334, 0.16761516097623888, 0.044852036768503425, 0.04820707974614305, 0.13871783695821072, 0.13530592515832152], \"xaxis\": \"x10\", \"y\": [0.75, 0.75, 0.5, 0.5, 1.0, 0.75, 0.75, 0.5, 0.75, 0.75, 0.5, 0.5, 0.75, 0.75, 0.75, 0.5, 0.75, 0.75, 0.5, 0.5, 0.75, 0.75, 0.5, 0.5, 0.75, 0.75, 0.5, 0.75, 1.0, 0.75, 0.5, 0.5], \"yaxis\": \"y10\"}],\n",
       "                        {\"height\": 1200, \"showlegend\": false, \"template\": {\"data\": {\"bar\": [{\"error_x\": {\"color\": \"#2a3f5f\"}, \"error_y\": {\"color\": \"#2a3f5f\"}, \"marker\": {\"line\": {\"color\": \"#E5ECF6\", \"width\": 0.5}}, \"type\": \"bar\"}], \"barpolar\": [{\"marker\": {\"line\": {\"color\": \"#E5ECF6\", \"width\": 0.5}}, \"type\": \"barpolar\"}], \"carpet\": [{\"aaxis\": {\"endlinecolor\": \"#2a3f5f\", \"gridcolor\": \"white\", \"linecolor\": \"white\", \"minorgridcolor\": \"white\", \"startlinecolor\": \"#2a3f5f\"}, \"baxis\": {\"endlinecolor\": \"#2a3f5f\", \"gridcolor\": \"white\", \"linecolor\": \"white\", \"minorgridcolor\": \"white\", \"startlinecolor\": \"#2a3f5f\"}, \"type\": \"carpet\"}], \"choropleth\": [{\"colorbar\": {\"outlinewidth\": 0, \"ticks\": \"\"}, \"type\": \"choropleth\"}], \"contour\": [{\"colorbar\": {\"outlinewidth\": 0, \"ticks\": \"\"}, \"colorscale\": [[0.0, \"#0d0887\"], [0.1111111111111111, \"#46039f\"], [0.2222222222222222, \"#7201a8\"], [0.3333333333333333, \"#9c179e\"], [0.4444444444444444, \"#bd3786\"], [0.5555555555555556, \"#d8576b\"], [0.6666666666666666, \"#ed7953\"], [0.7777777777777778, \"#fb9f3a\"], [0.8888888888888888, \"#fdca26\"], [1.0, \"#f0f921\"]], \"type\": \"contour\"}], \"contourcarpet\": [{\"colorbar\": {\"outlinewidth\": 0, \"ticks\": \"\"}, \"type\": \"contourcarpet\"}], \"heatmap\": [{\"colorbar\": {\"outlinewidth\": 0, \"ticks\": \"\"}, \"colorscale\": [[0.0, \"#0d0887\"], [0.1111111111111111, \"#46039f\"], [0.2222222222222222, \"#7201a8\"], [0.3333333333333333, \"#9c179e\"], [0.4444444444444444, \"#bd3786\"], [0.5555555555555556, \"#d8576b\"], [0.6666666666666666, \"#ed7953\"], [0.7777777777777778, \"#fb9f3a\"], [0.8888888888888888, \"#fdca26\"], [1.0, \"#f0f921\"]], \"type\": \"heatmap\"}], \"heatmapgl\": [{\"colorbar\": {\"outlinewidth\": 0, \"ticks\": \"\"}, \"colorscale\": [[0.0, \"#0d0887\"], [0.1111111111111111, \"#46039f\"], [0.2222222222222222, \"#7201a8\"], [0.3333333333333333, \"#9c179e\"], [0.4444444444444444, \"#bd3786\"], [0.5555555555555556, \"#d8576b\"], [0.6666666666666666, \"#ed7953\"], [0.7777777777777778, \"#fb9f3a\"], [0.8888888888888888, \"#fdca26\"], [1.0, \"#f0f921\"]], \"type\": \"heatmapgl\"}], \"histogram\": [{\"marker\": {\"colorbar\": {\"outlinewidth\": 0, \"ticks\": \"\"}}, \"type\": \"histogram\"}], \"histogram2d\": [{\"colorbar\": {\"outlinewidth\": 0, \"ticks\": \"\"}, \"colorscale\": [[0.0, \"#0d0887\"], [0.1111111111111111, \"#46039f\"], [0.2222222222222222, \"#7201a8\"], [0.3333333333333333, \"#9c179e\"], [0.4444444444444444, \"#bd3786\"], [0.5555555555555556, \"#d8576b\"], [0.6666666666666666, \"#ed7953\"], [0.7777777777777778, \"#fb9f3a\"], [0.8888888888888888, \"#fdca26\"], [1.0, \"#f0f921\"]], \"type\": \"histogram2d\"}], \"histogram2dcontour\": [{\"colorbar\": {\"outlinewidth\": 0, \"ticks\": \"\"}, \"colorscale\": [[0.0, \"#0d0887\"], [0.1111111111111111, \"#46039f\"], [0.2222222222222222, \"#7201a8\"], [0.3333333333333333, \"#9c179e\"], [0.4444444444444444, \"#bd3786\"], [0.5555555555555556, \"#d8576b\"], [0.6666666666666666, \"#ed7953\"], [0.7777777777777778, \"#fb9f3a\"], [0.8888888888888888, \"#fdca26\"], [1.0, \"#f0f921\"]], \"type\": \"histogram2dcontour\"}], \"mesh3d\": [{\"colorbar\": {\"outlinewidth\": 0, \"ticks\": \"\"}, \"type\": \"mesh3d\"}], \"parcoords\": [{\"line\": {\"colorbar\": {\"outlinewidth\": 0, \"ticks\": \"\"}}, \"type\": \"parcoords\"}], \"scatter\": [{\"marker\": {\"colorbar\": {\"outlinewidth\": 0, \"ticks\": \"\"}}, \"type\": \"scatter\"}], \"scatter3d\": [{\"line\": {\"colorbar\": {\"outlinewidth\": 0, \"ticks\": \"\"}}, \"marker\": {\"colorbar\": {\"outlinewidth\": 0, \"ticks\": \"\"}}, \"type\": \"scatter3d\"}], \"scattercarpet\": [{\"marker\": {\"colorbar\": {\"outlinewidth\": 0, \"ticks\": \"\"}}, \"type\": \"scattercarpet\"}], \"scattergeo\": [{\"marker\": {\"colorbar\": {\"outlinewidth\": 0, \"ticks\": \"\"}}, \"type\": \"scattergeo\"}], \"scattergl\": [{\"marker\": {\"colorbar\": {\"outlinewidth\": 0, \"ticks\": \"\"}}, \"type\": \"scattergl\"}], \"scattermapbox\": [{\"marker\": {\"colorbar\": {\"outlinewidth\": 0, \"ticks\": \"\"}}, \"type\": \"scattermapbox\"}], \"scatterpolar\": [{\"marker\": {\"colorbar\": {\"outlinewidth\": 0, \"ticks\": \"\"}}, \"type\": \"scatterpolar\"}], \"scatterpolargl\": [{\"marker\": {\"colorbar\": {\"outlinewidth\": 0, \"ticks\": \"\"}}, \"type\": \"scatterpolargl\"}], \"scatterternary\": [{\"marker\": {\"colorbar\": {\"outlinewidth\": 0, \"ticks\": \"\"}}, \"type\": \"scatterternary\"}], \"surface\": [{\"colorbar\": {\"outlinewidth\": 0, \"ticks\": \"\"}, \"colorscale\": [[0.0, \"#0d0887\"], [0.1111111111111111, \"#46039f\"], [0.2222222222222222, \"#7201a8\"], [0.3333333333333333, \"#9c179e\"], [0.4444444444444444, \"#bd3786\"], [0.5555555555555556, \"#d8576b\"], [0.6666666666666666, \"#ed7953\"], [0.7777777777777778, \"#fb9f3a\"], [0.8888888888888888, \"#fdca26\"], [1.0, \"#f0f921\"]], \"type\": \"surface\"}], \"table\": [{\"cells\": {\"fill\": {\"color\": \"#EBF0F8\"}, \"line\": {\"color\": \"white\"}}, \"header\": {\"fill\": {\"color\": \"#C8D4E3\"}, \"line\": {\"color\": \"white\"}}, \"type\": \"table\"}]}, \"layout\": {\"annotationdefaults\": {\"arrowcolor\": \"#2a3f5f\", \"arrowhead\": 0, \"arrowwidth\": 1}, \"colorscale\": {\"diverging\": [[0, \"#8e0152\"], [0.1, \"#c51b7d\"], [0.2, \"#de77ae\"], [0.3, \"#f1b6da\"], [0.4, \"#fde0ef\"], [0.5, \"#f7f7f7\"], [0.6, \"#e6f5d0\"], [0.7, \"#b8e186\"], [0.8, \"#7fbc41\"], [0.9, \"#4d9221\"], [1, \"#276419\"]], \"sequential\": [[0.0, \"#0d0887\"], [0.1111111111111111, \"#46039f\"], [0.2222222222222222, \"#7201a8\"], [0.3333333333333333, \"#9c179e\"], [0.4444444444444444, \"#bd3786\"], [0.5555555555555556, \"#d8576b\"], [0.6666666666666666, \"#ed7953\"], [0.7777777777777778, \"#fb9f3a\"], [0.8888888888888888, \"#fdca26\"], [1.0, \"#f0f921\"]], \"sequentialminus\": [[0.0, \"#0d0887\"], [0.1111111111111111, \"#46039f\"], [0.2222222222222222, \"#7201a8\"], [0.3333333333333333, \"#9c179e\"], [0.4444444444444444, \"#bd3786\"], [0.5555555555555556, \"#d8576b\"], [0.6666666666666666, \"#ed7953\"], [0.7777777777777778, \"#fb9f3a\"], [0.8888888888888888, \"#fdca26\"], [1.0, \"#f0f921\"]]}, \"colorway\": [\"#636efa\", \"#EF553B\", \"#00cc96\", \"#ab63fa\", \"#FFA15A\", \"#19d3f3\", \"#FF6692\", \"#B6E880\", \"#FF97FF\", \"#FECB52\"], \"font\": {\"color\": \"#2a3f5f\"}, \"geo\": {\"bgcolor\": \"white\", \"lakecolor\": \"white\", \"landcolor\": \"#E5ECF6\", \"showlakes\": true, \"showland\": true, \"subunitcolor\": \"white\"}, \"hoverlabel\": {\"align\": \"left\"}, \"hovermode\": \"closest\", \"mapbox\": {\"style\": \"light\"}, \"paper_bgcolor\": \"white\", \"plot_bgcolor\": \"#E5ECF6\", \"polar\": {\"angularaxis\": {\"gridcolor\": \"white\", \"linecolor\": \"white\", \"ticks\": \"\"}, \"bgcolor\": \"#E5ECF6\", \"radialaxis\": {\"gridcolor\": \"white\", \"linecolor\": \"white\", \"ticks\": \"\"}}, \"scene\": {\"xaxis\": {\"backgroundcolor\": \"#E5ECF6\", \"gridcolor\": \"white\", \"gridwidth\": 2, \"linecolor\": \"white\", \"showbackground\": true, \"ticks\": \"\", \"zerolinecolor\": \"white\"}, \"yaxis\": {\"backgroundcolor\": \"#E5ECF6\", \"gridcolor\": \"white\", \"gridwidth\": 2, \"linecolor\": \"white\", \"showbackground\": true, \"ticks\": \"\", \"zerolinecolor\": \"white\"}, \"zaxis\": {\"backgroundcolor\": \"#E5ECF6\", \"gridcolor\": \"white\", \"gridwidth\": 2, \"linecolor\": \"white\", \"showbackground\": true, \"ticks\": \"\", \"zerolinecolor\": \"white\"}}, \"shapedefaults\": {\"line\": {\"color\": \"#2a3f5f\"}}, \"ternary\": {\"aaxis\": {\"gridcolor\": \"white\", \"linecolor\": \"white\", \"ticks\": \"\"}, \"baxis\": {\"gridcolor\": \"white\", \"linecolor\": \"white\", \"ticks\": \"\"}, \"bgcolor\": \"#E5ECF6\", \"caxis\": {\"gridcolor\": \"white\", \"linecolor\": \"white\", \"ticks\": \"\"}}, \"title\": {\"x\": 0.05}, \"xaxis\": {\"automargin\": true, \"gridcolor\": \"white\", \"linecolor\": \"white\", \"ticks\": \"\", \"zerolinecolor\": \"white\", \"zerolinewidth\": 2}, \"yaxis\": {\"automargin\": true, \"gridcolor\": \"white\", \"linecolor\": \"white\", \"ticks\": \"\", \"zerolinecolor\": \"white\", \"zerolinewidth\": 2}}}, \"xaxis\": {\"anchor\": \"y\", \"domain\": [0.0, 0.45]}, \"xaxis10\": {\"anchor\": \"y10\", \"domain\": [0.55, 1.0], \"title\": {\"text\": \"Feature richness\"}}, \"xaxis2\": {\"anchor\": \"y2\", \"domain\": [0.55, 1.0], \"title\": {\"text\": \"Feature richness\"}}, \"xaxis3\": {\"anchor\": \"y3\", \"domain\": [0.0, 0.45]}, \"xaxis4\": {\"anchor\": \"y4\", \"domain\": [0.55, 1.0], \"title\": {\"text\": \"Feature richness\"}}, \"xaxis5\": {\"anchor\": \"y5\", \"domain\": [0.0, 0.45]}, \"xaxis6\": {\"anchor\": \"y6\", \"domain\": [0.55, 1.0], \"title\": {\"text\": \"Feature richness\"}}, \"xaxis7\": {\"anchor\": \"y7\", \"domain\": [0.0, 0.45]}, \"xaxis8\": {\"anchor\": \"y8\", \"domain\": [0.55, 1.0], \"title\": {\"text\": \"Feature richness\"}}, \"xaxis9\": {\"anchor\": \"y9\", \"domain\": [0.0, 0.45]}, \"yaxis\": {\"anchor\": \"x\", \"domain\": [0.848, 1.0], \"title\": {\"text\": \"Maximum depth\"}}, \"yaxis10\": {\"anchor\": \"x10\", \"domain\": [0.0, 0.152], \"title\": {\"text\": \"Subsample\"}}, \"yaxis2\": {\"anchor\": \"x2\", \"domain\": [0.848, 1.0], \"title\": {\"text\": \"Maximum depth\"}}, \"yaxis3\": {\"anchor\": \"x3\", \"domain\": [0.6359999999999999, 0.7879999999999999], \"title\": {\"text\": \"Learning rate\"}}, \"yaxis4\": {\"anchor\": \"x4\", \"domain\": [0.6359999999999999, 0.7879999999999999], \"title\": {\"text\": \"Learning rate\"}}, \"yaxis5\": {\"anchor\": \"x5\", \"domain\": [0.424, 0.576], \"title\": {\"text\": \"Number of trees\"}}, \"yaxis6\": {\"anchor\": \"x6\", \"domain\": [0.424, 0.576], \"title\": {\"text\": \"Number of trees\"}}, \"yaxis7\": {\"anchor\": \"x7\", \"domain\": [0.212, 0.364], \"title\": {\"text\": \"Minimum child weight\"}}, \"yaxis8\": {\"anchor\": \"x8\", \"domain\": [0.212, 0.364], \"title\": {\"text\": \"Minimum child weight\"}}, \"yaxis9\": {\"anchor\": \"x9\", \"domain\": [0.0, 0.152], \"title\": {\"text\": \"Subsample\"}}},\n",
       "                        {\"responsive\": true}\n",
       "                    ).then(function(){\n",
       "                            \n",
       "var gd = document.getElementById('8131c9c9-e0a0-4780-956a-cb4f43a1073a');\n",
       "var x = new MutationObserver(function (mutations, observer) {{\n",
       "        var display = window.getComputedStyle(gd).display;\n",
       "        if (!display || display === 'none') {{\n",
       "            console.log([gd, 'removed!']);\n",
       "            Plotly.purge(gd);\n",
       "            observer.disconnect();\n",
       "        }}\n",
       "}});\n",
       "\n",
       "// Listen for the removal of the full notebook cells\n",
       "var notebookContainer = gd.closest('#notebook-container');\n",
       "if (notebookContainer) {{\n",
       "    x.observe(notebookContainer, {childList: true});\n",
       "}}\n",
       "\n",
       "// Listen for the clearing of the current output cell\n",
       "var outputEl = gd.closest('.output');\n",
       "if (outputEl) {{\n",
       "    x.observe(outputEl, {childList: true});\n",
       "}}\n",
       "\n",
       "                        })\n",
       "                };\n",
       "                });\n",
       "            </script>\n",
       "        </div>"
      ]
     },
     "metadata": {},
     "output_type": "display_data"
    }
   ],
   "source": [
    "# size - hyperparameters\n",
    "fig = make_subplots(\n",
    "    rows=5,\n",
    "    cols=2\n",
    ")\n",
    "\n",
    "# first row: size\n",
    "fig.add_trace(go.Box(y=df.loc[df['size'] == 8760]['max_depth'],name='Size = 8760', boxmean=True), row=1, col=1)\n",
    "fig.add_trace(go.Box(y=df.loc[df['size'] == 17520]['max_depth'],name='Size = 17520', boxmean=True), row=1, col=1)\n",
    "fig.update_yaxes(title_text='Maximum depth', row=1, col=1)\n",
    "\n",
    "fig.add_trace(go.Box(y=np.log10(df.loc[df['size'] == 8760]['learning_rate']),name='Size = 8760', boxmean=True), row=2, col=1)\n",
    "fig.add_trace(go.Box(y=np.log10(df.loc[df['size'] == 17520]['learning_rate']),name='Size = 17520', boxmean=True), row=2, col=1)\n",
    "fig.update_yaxes(title_text='Learning rate', row=2, col=1)\n",
    "\n",
    "fig.add_trace(go.Box(y=df.loc[df['size'] == 8760]['num_trees'],name='Size = 8760', boxmean=True), row=3, col=1)\n",
    "fig.add_trace(go.Box(y=df.loc[df['size'] == 17520]['num_trees'],name='Size = 17520', boxmean=True), row=3, col=1)\n",
    "fig.update_yaxes(title_text='Number of trees', row=3, col=1)\n",
    "\n",
    "fig.add_trace(go.Box(y=df.loc[df['size'] == 8760]['min_child_weight'],name='Size = 8760', boxmean=True), row=4, col=1)\n",
    "fig.add_trace(go.Box(y=df.loc[df['size'] == 17520]['min_child_weight'],name='Size = 17520', boxmean=True), row=4, col=1)\n",
    "fig.update_yaxes(title_text='Minimum child weight', row=4, col=1)\n",
    "\n",
    "fig.add_trace(go.Box(y=df.loc[df['size'] == 8760]['subsample'],name='Size = 8760', boxmean=True), row=5, col=1)\n",
    "fig.add_trace(go.Box(y=df.loc[df['size'] == 17520]['subsample'],name='Size = 17520', boxmean=True), row=5, col=1)\n",
    "fig.update_yaxes(title_text='Subsample', row=5, col=1)\n",
    "\n",
    "# second row: feature richness\n",
    "fig.add_trace(go.Scatter(y=df['max_depth'],x=df['pca_rank_cor'], mode='markers'),row=1,col=2)\n",
    "fig.update_yaxes(title_text='Maximum depth', row=1, col=2)\n",
    "fig.update_xaxes(title_text='Feature richness', row=1, col=2)\n",
    "\n",
    "fig.add_trace(go.Scatter(y=df['learning_rate'],x=df['pca_rank_cor'], mode='markers'),row=2,col=2)\n",
    "fig.update_yaxes(title_text='Learning rate', row=2, col=2)\n",
    "fig.update_xaxes(title_text='Feature richness', row=2, col=2)\n",
    "\n",
    "fig.add_trace(go.Scatter(y=df['num_trees'],x=df['pca_rank_cor'], mode='markers'),row=3,col=2)\n",
    "fig.update_yaxes(title_text='Number of trees', row=3, col=2)\n",
    "fig.update_xaxes(title_text='Feature richness', row=3, col=2)\n",
    "\n",
    "fig.add_trace(go.Scatter(y=df['min_child_weight'],x=df['pca_rank_cor'], mode='markers'),row=4,col=2)\n",
    "fig.update_yaxes(title_text='Minimum child weight', row=4, col=2)\n",
    "fig.update_xaxes(title_text='Feature richness', row=4, col=2)\n",
    "\n",
    "fig.add_trace(go.Scatter(y=df['subsample'],x=df['pca_rank_cor'], mode='markers'),row=5,col=2)\n",
    "fig.update_yaxes(title_text='Subsample', row=5, col=2)\n",
    "fig.update_xaxes(title_text='Feature richness', row=5, col=2)\n",
    "\n",
    "fig.update_layout(\n",
    "    showlegend=False,\n",
    "    height=1200\n",
    ")\n",
    "\n",
    "fig.show()"
   ]
  },
  {
   "cell_type": "markdown",
   "metadata": {},
   "source": [
    "### Visualize"
   ]
  },
  {
   "cell_type": "code",
   "execution_count": 18,
   "metadata": {},
   "outputs": [
    {
     "data": {
      "text/html": [
       "<div>\n",
       "<style scoped>\n",
       "    .dataframe tbody tr th:only-of-type {\n",
       "        vertical-align: middle;\n",
       "    }\n",
       "\n",
       "    .dataframe tbody tr th {\n",
       "        vertical-align: top;\n",
       "    }\n",
       "\n",
       "    .dataframe thead th {\n",
       "        text-align: right;\n",
       "    }\n",
       "</style>\n",
       "<table border=\"1\" class=\"dataframe\">\n",
       "  <thead>\n",
       "    <tr style=\"text-align: right;\">\n",
       "      <th></th>\n",
       "      <th>size</th>\n",
       "      <th>pca_rank_cor</th>\n",
       "      <th>max_depth</th>\n",
       "      <th>learning_rate</th>\n",
       "      <th>num_trees</th>\n",
       "      <th>min_child_weight</th>\n",
       "      <th>subsample</th>\n",
       "    </tr>\n",
       "  </thead>\n",
       "  <tbody>\n",
       "    <tr>\n",
       "      <td>COAST_box_17520</td>\n",
       "      <td>17520.0</td>\n",
       "      <td>0.043341</td>\n",
       "      <td>14.0</td>\n",
       "      <td>0.005275</td>\n",
       "      <td>520.0</td>\n",
       "      <td>5.0</td>\n",
       "      <td>0.75</td>\n",
       "    </tr>\n",
       "    <tr>\n",
       "      <td>COAST_box_8760</td>\n",
       "      <td>8760.0</td>\n",
       "      <td>0.043910</td>\n",
       "      <td>14.0</td>\n",
       "      <td>0.008799</td>\n",
       "      <td>380.0</td>\n",
       "      <td>5.0</td>\n",
       "      <td>0.75</td>\n",
       "    </tr>\n",
       "    <tr>\n",
       "      <td>COAST_diff_17520</td>\n",
       "      <td>17520.0</td>\n",
       "      <td>0.174295</td>\n",
       "      <td>11.0</td>\n",
       "      <td>0.005275</td>\n",
       "      <td>800.0</td>\n",
       "      <td>22.5</td>\n",
       "      <td>0.50</td>\n",
       "    </tr>\n",
       "    <tr>\n",
       "      <td>COAST_diff_8760</td>\n",
       "      <td>8760.0</td>\n",
       "      <td>0.170884</td>\n",
       "      <td>9.0</td>\n",
       "      <td>0.005275</td>\n",
       "      <td>660.0</td>\n",
       "      <td>5.0</td>\n",
       "      <td>0.50</td>\n",
       "    </tr>\n",
       "    <tr>\n",
       "      <td>EAST_box_17520</td>\n",
       "      <td>17520.0</td>\n",
       "      <td>0.047605</td>\n",
       "      <td>7.0</td>\n",
       "      <td>0.008799</td>\n",
       "      <td>660.0</td>\n",
       "      <td>5.0</td>\n",
       "      <td>1.00</td>\n",
       "    </tr>\n",
       "    <tr>\n",
       "      <td>EAST_box_8760</td>\n",
       "      <td>8760.0</td>\n",
       "      <td>0.051555</td>\n",
       "      <td>11.0</td>\n",
       "      <td>0.005275</td>\n",
       "      <td>520.0</td>\n",
       "      <td>22.5</td>\n",
       "      <td>0.75</td>\n",
       "    </tr>\n",
       "    <tr>\n",
       "      <td>EAST_diff_17520</td>\n",
       "      <td>17520.0</td>\n",
       "      <td>0.133211</td>\n",
       "      <td>9.0</td>\n",
       "      <td>0.014678</td>\n",
       "      <td>380.0</td>\n",
       "      <td>22.5</td>\n",
       "      <td>0.75</td>\n",
       "    </tr>\n",
       "    <tr>\n",
       "      <td>EAST_diff_8760</td>\n",
       "      <td>8760.0</td>\n",
       "      <td>0.132001</td>\n",
       "      <td>7.0</td>\n",
       "      <td>0.005275</td>\n",
       "      <td>800.0</td>\n",
       "      <td>5.0</td>\n",
       "      <td>0.50</td>\n",
       "    </tr>\n",
       "    <tr>\n",
       "      <td>FARWEST_box_17520</td>\n",
       "      <td>17520.0</td>\n",
       "      <td>0.054972</td>\n",
       "      <td>11.0</td>\n",
       "      <td>0.008799</td>\n",
       "      <td>520.0</td>\n",
       "      <td>5.0</td>\n",
       "      <td>0.75</td>\n",
       "    </tr>\n",
       "    <tr>\n",
       "      <td>FARWEST_box_8760</td>\n",
       "      <td>8760.0</td>\n",
       "      <td>0.058895</td>\n",
       "      <td>11.0</td>\n",
       "      <td>0.008799</td>\n",
       "      <td>380.0</td>\n",
       "      <td>5.0</td>\n",
       "      <td>0.75</td>\n",
       "    </tr>\n",
       "    <tr>\n",
       "      <td>FARWEST_diff_17520</td>\n",
       "      <td>17520.0</td>\n",
       "      <td>0.136156</td>\n",
       "      <td>18.0</td>\n",
       "      <td>0.005275</td>\n",
       "      <td>800.0</td>\n",
       "      <td>22.5</td>\n",
       "      <td>0.50</td>\n",
       "    </tr>\n",
       "    <tr>\n",
       "      <td>FARWEST_diff_8760</td>\n",
       "      <td>8760.0</td>\n",
       "      <td>0.130020</td>\n",
       "      <td>11.0</td>\n",
       "      <td>0.008799</td>\n",
       "      <td>380.0</td>\n",
       "      <td>22.5</td>\n",
       "      <td>0.50</td>\n",
       "    </tr>\n",
       "    <tr>\n",
       "      <td>NORTHC_box_17520</td>\n",
       "      <td>17520.0</td>\n",
       "      <td>0.036613</td>\n",
       "      <td>11.0</td>\n",
       "      <td>0.014678</td>\n",
       "      <td>380.0</td>\n",
       "      <td>5.0</td>\n",
       "      <td>0.75</td>\n",
       "    </tr>\n",
       "    <tr>\n",
       "      <td>NORTHC_box_8760</td>\n",
       "      <td>8760.0</td>\n",
       "      <td>0.037602</td>\n",
       "      <td>14.0</td>\n",
       "      <td>0.003162</td>\n",
       "      <td>800.0</td>\n",
       "      <td>5.0</td>\n",
       "      <td>0.75</td>\n",
       "    </tr>\n",
       "    <tr>\n",
       "      <td>NORTHC_diff_17520</td>\n",
       "      <td>17520.0</td>\n",
       "      <td>0.137704</td>\n",
       "      <td>18.0</td>\n",
       "      <td>0.014678</td>\n",
       "      <td>240.0</td>\n",
       "      <td>22.5</td>\n",
       "      <td>0.75</td>\n",
       "    </tr>\n",
       "    <tr>\n",
       "      <td>NORTHC_diff_8760</td>\n",
       "      <td>8760.0</td>\n",
       "      <td>0.133519</td>\n",
       "      <td>9.0</td>\n",
       "      <td>0.014678</td>\n",
       "      <td>240.0</td>\n",
       "      <td>5.0</td>\n",
       "      <td>0.50</td>\n",
       "    </tr>\n",
       "    <tr>\n",
       "      <td>NORTH_box_17520</td>\n",
       "      <td>17520.0</td>\n",
       "      <td>0.048759</td>\n",
       "      <td>11.0</td>\n",
       "      <td>0.005275</td>\n",
       "      <td>800.0</td>\n",
       "      <td>5.0</td>\n",
       "      <td>0.75</td>\n",
       "    </tr>\n",
       "    <tr>\n",
       "      <td>NORTH_box_8760</td>\n",
       "      <td>8760.0</td>\n",
       "      <td>0.046323</td>\n",
       "      <td>11.0</td>\n",
       "      <td>0.024484</td>\n",
       "      <td>100.0</td>\n",
       "      <td>5.0</td>\n",
       "      <td>0.75</td>\n",
       "    </tr>\n",
       "    <tr>\n",
       "      <td>NORTH_diff_17520</td>\n",
       "      <td>17520.0</td>\n",
       "      <td>0.122575</td>\n",
       "      <td>16.0</td>\n",
       "      <td>0.005275</td>\n",
       "      <td>520.0</td>\n",
       "      <td>22.5</td>\n",
       "      <td>0.50</td>\n",
       "    </tr>\n",
       "    <tr>\n",
       "      <td>NORTH_diff_8760</td>\n",
       "      <td>8760.0</td>\n",
       "      <td>0.114363</td>\n",
       "      <td>9.0</td>\n",
       "      <td>0.008799</td>\n",
       "      <td>380.0</td>\n",
       "      <td>5.0</td>\n",
       "      <td>0.50</td>\n",
       "    </tr>\n",
       "    <tr>\n",
       "      <td>SOUTHC_box_17520</td>\n",
       "      <td>17520.0</td>\n",
       "      <td>0.040586</td>\n",
       "      <td>14.0</td>\n",
       "      <td>0.003162</td>\n",
       "      <td>800.0</td>\n",
       "      <td>5.0</td>\n",
       "      <td>0.75</td>\n",
       "    </tr>\n",
       "    <tr>\n",
       "      <td>SOUTHC_box_8760</td>\n",
       "      <td>8760.0</td>\n",
       "      <td>0.038444</td>\n",
       "      <td>14.0</td>\n",
       "      <td>0.003162</td>\n",
       "      <td>800.0</td>\n",
       "      <td>5.0</td>\n",
       "      <td>0.75</td>\n",
       "    </tr>\n",
       "    <tr>\n",
       "      <td>SOUTHC_diff_17520</td>\n",
       "      <td>17520.0</td>\n",
       "      <td>0.152160</td>\n",
       "      <td>11.0</td>\n",
       "      <td>0.005275</td>\n",
       "      <td>800.0</td>\n",
       "      <td>5.0</td>\n",
       "      <td>0.50</td>\n",
       "    </tr>\n",
       "    <tr>\n",
       "      <td>SOUTHC_diff_8760</td>\n",
       "      <td>8760.0</td>\n",
       "      <td>0.149242</td>\n",
       "      <td>9.0</td>\n",
       "      <td>0.014678</td>\n",
       "      <td>240.0</td>\n",
       "      <td>5.0</td>\n",
       "      <td>0.50</td>\n",
       "    </tr>\n",
       "    <tr>\n",
       "      <td>SOUTHERN_box_17520</td>\n",
       "      <td>17520.0</td>\n",
       "      <td>0.062506</td>\n",
       "      <td>14.0</td>\n",
       "      <td>0.003162</td>\n",
       "      <td>800.0</td>\n",
       "      <td>5.0</td>\n",
       "      <td>0.75</td>\n",
       "    </tr>\n",
       "    <tr>\n",
       "      <td>SOUTHERN_box_8760</td>\n",
       "      <td>8760.0</td>\n",
       "      <td>0.065454</td>\n",
       "      <td>14.0</td>\n",
       "      <td>0.003162</td>\n",
       "      <td>800.0</td>\n",
       "      <td>5.0</td>\n",
       "      <td>0.75</td>\n",
       "    </tr>\n",
       "    <tr>\n",
       "      <td>SOUTHERN_diff_17520</td>\n",
       "      <td>17520.0</td>\n",
       "      <td>0.169859</td>\n",
       "      <td>18.0</td>\n",
       "      <td>0.014678</td>\n",
       "      <td>240.0</td>\n",
       "      <td>22.5</td>\n",
       "      <td>0.50</td>\n",
       "    </tr>\n",
       "    <tr>\n",
       "      <td>SOUTHERN_diff_8760</td>\n",
       "      <td>8760.0</td>\n",
       "      <td>0.167615</td>\n",
       "      <td>9.0</td>\n",
       "      <td>0.014678</td>\n",
       "      <td>380.0</td>\n",
       "      <td>5.0</td>\n",
       "      <td>0.75</td>\n",
       "    </tr>\n",
       "    <tr>\n",
       "      <td>WEST_box_17520</td>\n",
       "      <td>17520.0</td>\n",
       "      <td>0.044852</td>\n",
       "      <td>11.0</td>\n",
       "      <td>0.014678</td>\n",
       "      <td>520.0</td>\n",
       "      <td>22.5</td>\n",
       "      <td>1.00</td>\n",
       "    </tr>\n",
       "    <tr>\n",
       "      <td>WEST_box_8760</td>\n",
       "      <td>8760.0</td>\n",
       "      <td>0.048207</td>\n",
       "      <td>14.0</td>\n",
       "      <td>0.003162</td>\n",
       "      <td>660.0</td>\n",
       "      <td>5.0</td>\n",
       "      <td>0.75</td>\n",
       "    </tr>\n",
       "    <tr>\n",
       "      <td>WEST_diff_17520</td>\n",
       "      <td>17520.0</td>\n",
       "      <td>0.138718</td>\n",
       "      <td>18.0</td>\n",
       "      <td>0.005275</td>\n",
       "      <td>660.0</td>\n",
       "      <td>22.5</td>\n",
       "      <td>0.50</td>\n",
       "    </tr>\n",
       "    <tr>\n",
       "      <td>WEST_diff_8760</td>\n",
       "      <td>8760.0</td>\n",
       "      <td>0.135306</td>\n",
       "      <td>9.0</td>\n",
       "      <td>0.008799</td>\n",
       "      <td>380.0</td>\n",
       "      <td>5.0</td>\n",
       "      <td>0.50</td>\n",
       "    </tr>\n",
       "  </tbody>\n",
       "</table>\n",
       "</div>"
      ],
      "text/plain": [
       "                        size  pca_rank_cor  max_depth  learning_rate  \\\n",
       "COAST_box_17520      17520.0      0.043341       14.0       0.005275   \n",
       "COAST_box_8760        8760.0      0.043910       14.0       0.008799   \n",
       "COAST_diff_17520     17520.0      0.174295       11.0       0.005275   \n",
       "COAST_diff_8760       8760.0      0.170884        9.0       0.005275   \n",
       "EAST_box_17520       17520.0      0.047605        7.0       0.008799   \n",
       "EAST_box_8760         8760.0      0.051555       11.0       0.005275   \n",
       "EAST_diff_17520      17520.0      0.133211        9.0       0.014678   \n",
       "EAST_diff_8760        8760.0      0.132001        7.0       0.005275   \n",
       "FARWEST_box_17520    17520.0      0.054972       11.0       0.008799   \n",
       "FARWEST_box_8760      8760.0      0.058895       11.0       0.008799   \n",
       "FARWEST_diff_17520   17520.0      0.136156       18.0       0.005275   \n",
       "FARWEST_diff_8760     8760.0      0.130020       11.0       0.008799   \n",
       "NORTHC_box_17520     17520.0      0.036613       11.0       0.014678   \n",
       "NORTHC_box_8760       8760.0      0.037602       14.0       0.003162   \n",
       "NORTHC_diff_17520    17520.0      0.137704       18.0       0.014678   \n",
       "NORTHC_diff_8760      8760.0      0.133519        9.0       0.014678   \n",
       "NORTH_box_17520      17520.0      0.048759       11.0       0.005275   \n",
       "NORTH_box_8760        8760.0      0.046323       11.0       0.024484   \n",
       "NORTH_diff_17520     17520.0      0.122575       16.0       0.005275   \n",
       "NORTH_diff_8760       8760.0      0.114363        9.0       0.008799   \n",
       "SOUTHC_box_17520     17520.0      0.040586       14.0       0.003162   \n",
       "SOUTHC_box_8760       8760.0      0.038444       14.0       0.003162   \n",
       "SOUTHC_diff_17520    17520.0      0.152160       11.0       0.005275   \n",
       "SOUTHC_diff_8760      8760.0      0.149242        9.0       0.014678   \n",
       "SOUTHERN_box_17520   17520.0      0.062506       14.0       0.003162   \n",
       "SOUTHERN_box_8760     8760.0      0.065454       14.0       0.003162   \n",
       "SOUTHERN_diff_17520  17520.0      0.169859       18.0       0.014678   \n",
       "SOUTHERN_diff_8760    8760.0      0.167615        9.0       0.014678   \n",
       "WEST_box_17520       17520.0      0.044852       11.0       0.014678   \n",
       "WEST_box_8760         8760.0      0.048207       14.0       0.003162   \n",
       "WEST_diff_17520      17520.0      0.138718       18.0       0.005275   \n",
       "WEST_diff_8760        8760.0      0.135306        9.0       0.008799   \n",
       "\n",
       "                     num_trees  min_child_weight  subsample  \n",
       "COAST_box_17520          520.0               5.0       0.75  \n",
       "COAST_box_8760           380.0               5.0       0.75  \n",
       "COAST_diff_17520         800.0              22.5       0.50  \n",
       "COAST_diff_8760          660.0               5.0       0.50  \n",
       "EAST_box_17520           660.0               5.0       1.00  \n",
       "EAST_box_8760            520.0              22.5       0.75  \n",
       "EAST_diff_17520          380.0              22.5       0.75  \n",
       "EAST_diff_8760           800.0               5.0       0.50  \n",
       "FARWEST_box_17520        520.0               5.0       0.75  \n",
       "FARWEST_box_8760         380.0               5.0       0.75  \n",
       "FARWEST_diff_17520       800.0              22.5       0.50  \n",
       "FARWEST_diff_8760        380.0              22.5       0.50  \n",
       "NORTHC_box_17520         380.0               5.0       0.75  \n",
       "NORTHC_box_8760          800.0               5.0       0.75  \n",
       "NORTHC_diff_17520        240.0              22.5       0.75  \n",
       "NORTHC_diff_8760         240.0               5.0       0.50  \n",
       "NORTH_box_17520          800.0               5.0       0.75  \n",
       "NORTH_box_8760           100.0               5.0       0.75  \n",
       "NORTH_diff_17520         520.0              22.5       0.50  \n",
       "NORTH_diff_8760          380.0               5.0       0.50  \n",
       "SOUTHC_box_17520         800.0               5.0       0.75  \n",
       "SOUTHC_box_8760          800.0               5.0       0.75  \n",
       "SOUTHC_diff_17520        800.0               5.0       0.50  \n",
       "SOUTHC_diff_8760         240.0               5.0       0.50  \n",
       "SOUTHERN_box_17520       800.0               5.0       0.75  \n",
       "SOUTHERN_box_8760        800.0               5.0       0.75  \n",
       "SOUTHERN_diff_17520      240.0              22.5       0.50  \n",
       "SOUTHERN_diff_8760       380.0               5.0       0.75  \n",
       "WEST_box_17520           520.0              22.5       1.00  \n",
       "WEST_box_8760            660.0               5.0       0.75  \n",
       "WEST_diff_17520          660.0              22.5       0.50  \n",
       "WEST_diff_8760           380.0               5.0       0.50  "
      ]
     },
     "execution_count": 18,
     "metadata": {},
     "output_type": "execute_result"
    }
   ],
   "source": [
    "df"
   ]
  },
  {
   "cell_type": "code",
   "execution_count": 24,
   "metadata": {},
   "outputs": [
    {
     "data": {
      "text/html": [
       "<div>\n",
       "<style scoped>\n",
       "    .dataframe tbody tr th:only-of-type {\n",
       "        vertical-align: middle;\n",
       "    }\n",
       "\n",
       "    .dataframe tbody tr th {\n",
       "        vertical-align: top;\n",
       "    }\n",
       "\n",
       "    .dataframe thead th {\n",
       "        text-align: right;\n",
       "    }\n",
       "</style>\n",
       "<table border=\"1\" class=\"dataframe\">\n",
       "  <thead>\n",
       "    <tr style=\"text-align: right;\">\n",
       "      <th></th>\n",
       "      <th>subsample</th>\n",
       "      <th>pca_rank_cor</th>\n",
       "    </tr>\n",
       "  </thead>\n",
       "  <tbody>\n",
       "    <tr>\n",
       "      <td>COAST_box_17520</td>\n",
       "      <td>0.75</td>\n",
       "      <td>0.043341</td>\n",
       "    </tr>\n",
       "    <tr>\n",
       "      <td>COAST_diff_17520</td>\n",
       "      <td>0.50</td>\n",
       "      <td>0.174295</td>\n",
       "    </tr>\n",
       "    <tr>\n",
       "      <td>EAST_box_17520</td>\n",
       "      <td>1.00</td>\n",
       "      <td>0.047605</td>\n",
       "    </tr>\n",
       "    <tr>\n",
       "      <td>EAST_diff_17520</td>\n",
       "      <td>0.75</td>\n",
       "      <td>0.133211</td>\n",
       "    </tr>\n",
       "    <tr>\n",
       "      <td>FARWEST_box_17520</td>\n",
       "      <td>0.75</td>\n",
       "      <td>0.054972</td>\n",
       "    </tr>\n",
       "    <tr>\n",
       "      <td>FARWEST_diff_17520</td>\n",
       "      <td>0.50</td>\n",
       "      <td>0.136156</td>\n",
       "    </tr>\n",
       "    <tr>\n",
       "      <td>NORTHC_box_17520</td>\n",
       "      <td>0.75</td>\n",
       "      <td>0.036613</td>\n",
       "    </tr>\n",
       "    <tr>\n",
       "      <td>NORTHC_diff_17520</td>\n",
       "      <td>0.75</td>\n",
       "      <td>0.137704</td>\n",
       "    </tr>\n",
       "    <tr>\n",
       "      <td>NORTH_box_17520</td>\n",
       "      <td>0.75</td>\n",
       "      <td>0.048759</td>\n",
       "    </tr>\n",
       "    <tr>\n",
       "      <td>NORTH_diff_17520</td>\n",
       "      <td>0.50</td>\n",
       "      <td>0.122575</td>\n",
       "    </tr>\n",
       "    <tr>\n",
       "      <td>SOUTHC_box_17520</td>\n",
       "      <td>0.75</td>\n",
       "      <td>0.040586</td>\n",
       "    </tr>\n",
       "    <tr>\n",
       "      <td>SOUTHC_diff_17520</td>\n",
       "      <td>0.50</td>\n",
       "      <td>0.152160</td>\n",
       "    </tr>\n",
       "    <tr>\n",
       "      <td>SOUTHERN_box_17520</td>\n",
       "      <td>0.75</td>\n",
       "      <td>0.062506</td>\n",
       "    </tr>\n",
       "    <tr>\n",
       "      <td>SOUTHERN_diff_17520</td>\n",
       "      <td>0.50</td>\n",
       "      <td>0.169859</td>\n",
       "    </tr>\n",
       "    <tr>\n",
       "      <td>WEST_box_17520</td>\n",
       "      <td>1.00</td>\n",
       "      <td>0.044852</td>\n",
       "    </tr>\n",
       "    <tr>\n",
       "      <td>WEST_diff_17520</td>\n",
       "      <td>0.50</td>\n",
       "      <td>0.138718</td>\n",
       "    </tr>\n",
       "  </tbody>\n",
       "</table>\n",
       "</div>"
      ],
      "text/plain": [
       "                     subsample  pca_rank_cor\n",
       "COAST_box_17520           0.75      0.043341\n",
       "COAST_diff_17520          0.50      0.174295\n",
       "EAST_box_17520            1.00      0.047605\n",
       "EAST_diff_17520           0.75      0.133211\n",
       "FARWEST_box_17520         0.75      0.054972\n",
       "FARWEST_diff_17520        0.50      0.136156\n",
       "NORTHC_box_17520          0.75      0.036613\n",
       "NORTHC_diff_17520         0.75      0.137704\n",
       "NORTH_box_17520           0.75      0.048759\n",
       "NORTH_diff_17520          0.50      0.122575\n",
       "SOUTHC_box_17520          0.75      0.040586\n",
       "SOUTHC_diff_17520         0.50      0.152160\n",
       "SOUTHERN_box_17520        0.75      0.062506\n",
       "SOUTHERN_diff_17520       0.50      0.169859\n",
       "WEST_box_17520            1.00      0.044852\n",
       "WEST_diff_17520           0.50      0.138718"
      ]
     },
     "execution_count": 24,
     "metadata": {},
     "output_type": "execute_result"
    }
   ],
   "source": [
    "df.loc[df['size'] == 17520][['subsample','pca_rank_cor']]"
   ]
  },
  {
   "cell_type": "code",
   "execution_count": 15,
   "metadata": {},
   "outputs": [
    {
     "data": {
      "application/vnd.plotly.v1+json": {
       "config": {
        "plotlyServerURL": "https://plot.ly"
       },
       "data": [
        {
         "boxmean": true,
         "name": "Size = 8760",
         "type": "box",
         "xaxis": "x",
         "y": [
          14,
          9,
          11,
          7,
          11,
          11,
          14,
          9,
          11,
          9,
          14,
          9,
          14,
          9,
          14,
          9
         ],
         "yaxis": "y"
        },
        {
         "boxmean": true,
         "name": "Size = 17520",
         "type": "box",
         "xaxis": "x",
         "y": [
          14,
          11,
          7,
          9,
          11,
          18,
          11,
          18,
          11,
          16,
          14,
          11,
          14,
          18,
          11,
          18
         ],
         "yaxis": "y"
        },
        {
         "boxmean": true,
         "name": "Size = 8760",
         "type": "box",
         "xaxis": "x3",
         "y": [
          -2.0555555555555554,
          -2.2777777777777777,
          -2.2777777777777777,
          -2.2777777777777777,
          -2.0555555555555554,
          -2.0555555555555554,
          -2.5,
          -1.8333333333333335,
          -1.6111111111111112,
          -2.0555555555555554,
          -2.5,
          -1.8333333333333335,
          -2.5,
          -1.8333333333333335,
          -2.5,
          -2.0555555555555554
         ],
         "yaxis": "y3"
        },
        {
         "boxmean": true,
         "name": "Size = 17520",
         "type": "box",
         "xaxis": "x3",
         "y": [
          -2.2777777777777777,
          -2.2777777777777777,
          -2.0555555555555554,
          -1.8333333333333335,
          -2.0555555555555554,
          -2.2777777777777777,
          -1.8333333333333335,
          -1.8333333333333335,
          -2.2777777777777777,
          -2.2777777777777777,
          -2.5,
          -2.2777777777777777,
          -2.5,
          -1.8333333333333335,
          -1.8333333333333335,
          -2.2777777777777777
         ],
         "yaxis": "y3"
        },
        {
         "boxmean": true,
         "name": "Size = 8760",
         "type": "box",
         "xaxis": "x5",
         "y": [
          380,
          660,
          520,
          800,
          380,
          380,
          800,
          240,
          100,
          380,
          800,
          240,
          800,
          380,
          660,
          380
         ],
         "yaxis": "y5"
        },
        {
         "boxmean": true,
         "name": "Size = 17520",
         "type": "box",
         "xaxis": "x5",
         "y": [
          520,
          800,
          660,
          380,
          520,
          800,
          380,
          240,
          800,
          520,
          800,
          800,
          800,
          240,
          520,
          660
         ],
         "yaxis": "y5"
        },
        {
         "boxmean": true,
         "name": "Size = 8760",
         "type": "box",
         "xaxis": "x7",
         "y": [
          5,
          5,
          22.5,
          5,
          5,
          22.5,
          5,
          5,
          5,
          5,
          5,
          5,
          5,
          5,
          5,
          5
         ],
         "yaxis": "y7"
        },
        {
         "boxmean": true,
         "name": "Size = 17520",
         "type": "box",
         "xaxis": "x7",
         "y": [
          5,
          22.5,
          5,
          22.5,
          5,
          22.5,
          5,
          22.5,
          5,
          22.5,
          5,
          5,
          5,
          22.5,
          22.5,
          22.5
         ],
         "yaxis": "y7"
        },
        {
         "boxmean": true,
         "name": "Size = 8760",
         "type": "box",
         "xaxis": "x9",
         "y": [
          0.75,
          0.5,
          0.75,
          0.5,
          0.75,
          0.5,
          0.75,
          0.5,
          0.75,
          0.5,
          0.75,
          0.5,
          0.75,
          0.75,
          0.75,
          0.5
         ],
         "yaxis": "y9"
        },
        {
         "boxmean": true,
         "name": "Size = 17520",
         "type": "box",
         "xaxis": "x9",
         "y": [
          0.75,
          0.5,
          1,
          0.75,
          0.75,
          0.5,
          0.75,
          0.75,
          0.75,
          0.5,
          0.75,
          0.5,
          0.75,
          0.5,
          1,
          0.5
         ],
         "yaxis": "y9"
        },
        {
         "mode": "markers",
         "type": "scatter",
         "x": [
          0.04334059028794689,
          0.04391002846159395,
          0.1742950289319662,
          0.17088399133344986,
          0.04760451253331445,
          0.0515548990724462,
          0.13321103149244717,
          0.1320012767072899,
          0.054971781696046815,
          0.058894662958050945,
          0.1361557294250355,
          0.13001995814154949,
          0.03661302448939458,
          0.03760171597487407,
          0.13770448419074494,
          0.13351931866568495,
          0.04875882362313011,
          0.04632348961927948,
          0.12257515652780968,
          0.11436333754703872,
          0.04058584108322523,
          0.03844440585830611,
          0.1521603469725592,
          0.1492418647754497,
          0.06250562668359318,
          0.06545425684020391,
          0.1698587442622334,
          0.16761516097623888,
          0.044852036768503425,
          0.04820707974614305,
          0.13871783695821072,
          0.13530592515832152
         ],
         "xaxis": "x2",
         "y": [
          14,
          9,
          11,
          7,
          11,
          11,
          14,
          9,
          11,
          9,
          14,
          9,
          14,
          9,
          14,
          9
         ],
         "yaxis": "y2"
        },
        {
         "mode": "markers",
         "type": "scatter",
         "x": [
          0.04334059028794689,
          0.04391002846159395,
          0.1742950289319662,
          0.17088399133344986,
          0.04760451253331445,
          0.0515548990724462,
          0.13321103149244717,
          0.1320012767072899,
          0.054971781696046815,
          0.058894662958050945,
          0.1361557294250355,
          0.13001995814154949,
          0.03661302448939458,
          0.03760171597487407,
          0.13770448419074494,
          0.13351931866568495,
          0.04875882362313011,
          0.04632348961927948,
          0.12257515652780968,
          0.11436333754703872,
          0.04058584108322523,
          0.03844440585830611,
          0.1521603469725592,
          0.1492418647754497,
          0.06250562668359318,
          0.06545425684020391,
          0.1698587442622334,
          0.16761516097623888,
          0.044852036768503425,
          0.04820707974614305,
          0.13871783695821072,
          0.13530592515832152
         ],
         "xaxis": "x2",
         "y": [
          14,
          11,
          7,
          9,
          11,
          18,
          11,
          18,
          11,
          16,
          14,
          11,
          14,
          18,
          11,
          18
         ],
         "yaxis": "y2"
        },
        {
         "mode": "markers",
         "type": "scatter",
         "x": [
          0.04334059028794689,
          0.04391002846159395,
          0.1742950289319662,
          0.17088399133344986,
          0.04760451253331445,
          0.0515548990724462,
          0.13321103149244717,
          0.1320012767072899,
          0.054971781696046815,
          0.058894662958050945,
          0.1361557294250355,
          0.13001995814154949,
          0.03661302448939458,
          0.03760171597487407,
          0.13770448419074494,
          0.13351931866568495,
          0.04875882362313011,
          0.04632348961927948,
          0.12257515652780968,
          0.11436333754703872,
          0.04058584108322523,
          0.03844440585830611,
          0.1521603469725592,
          0.1492418647754497,
          0.06250562668359318,
          0.06545425684020391,
          0.1698587442622334,
          0.16761516097623888,
          0.044852036768503425,
          0.04820707974614305,
          0.13871783695821072,
          0.13530592515832152
         ],
         "xaxis": "x4",
         "y": [
          0.008799225435691074,
          0.0052749970637026205,
          0.0052749970637026205,
          0.0052749970637026205,
          0.008799225435691074,
          0.008799225435691074,
          0.00316227766016838,
          0.014677992676220691,
          0.024484367468222263,
          0.008799225435691074,
          0.00316227766016838,
          0.014677992676220691,
          0.00316227766016838,
          0.014677992676220691,
          0.00316227766016838,
          0.008799225435691074
         ],
         "yaxis": "y4"
        },
        {
         "mode": "markers",
         "type": "scatter",
         "x": [
          0.04334059028794689,
          0.04391002846159395,
          0.1742950289319662,
          0.17088399133344986,
          0.04760451253331445,
          0.0515548990724462,
          0.13321103149244717,
          0.1320012767072899,
          0.054971781696046815,
          0.058894662958050945,
          0.1361557294250355,
          0.13001995814154949,
          0.03661302448939458,
          0.03760171597487407,
          0.13770448419074494,
          0.13351931866568495,
          0.04875882362313011,
          0.04632348961927948,
          0.12257515652780968,
          0.11436333754703872,
          0.04058584108322523,
          0.03844440585830611,
          0.1521603469725592,
          0.1492418647754497,
          0.06250562668359318,
          0.06545425684020391,
          0.1698587442622334,
          0.16761516097623888,
          0.044852036768503425,
          0.04820707974614305,
          0.13871783695821072,
          0.13530592515832152
         ],
         "xaxis": "x4",
         "y": [
          0.005274997063702621,
          0.0052749970637026205,
          0.008799225435691074,
          0.014677992676220691,
          0.008799225435691074,
          0.0052749970637026205,
          0.014677992676220691,
          0.014677992676220691,
          0.0052749970637026205,
          0.0052749970637026205,
          0.00316227766016838,
          0.0052749970637026205,
          0.00316227766016838,
          0.014677992676220691,
          0.014677992676220691,
          0.0052749970637026205
         ],
         "yaxis": "y4"
        },
        {
         "mode": "markers",
         "type": "scatter",
         "x": [
          0.04334059028794689,
          0.04391002846159395,
          0.1742950289319662,
          0.17088399133344986,
          0.04760451253331445,
          0.0515548990724462,
          0.13321103149244717,
          0.1320012767072899,
          0.054971781696046815,
          0.058894662958050945,
          0.1361557294250355,
          0.13001995814154949,
          0.03661302448939458,
          0.03760171597487407,
          0.13770448419074494,
          0.13351931866568495,
          0.04875882362313011,
          0.04632348961927948,
          0.12257515652780968,
          0.11436333754703872,
          0.04058584108322523,
          0.03844440585830611,
          0.1521603469725592,
          0.1492418647754497,
          0.06250562668359318,
          0.06545425684020391,
          0.1698587442622334,
          0.16761516097623888,
          0.044852036768503425,
          0.04820707974614305,
          0.13871783695821072,
          0.13530592515832152
         ],
         "xaxis": "x6",
         "y": [
          380,
          660,
          520,
          800,
          380,
          380,
          800,
          240,
          100,
          380,
          800,
          240,
          800,
          380,
          660,
          380
         ],
         "yaxis": "y6"
        },
        {
         "mode": "markers",
         "type": "scatter",
         "x": [
          0.04334059028794689,
          0.04391002846159395,
          0.1742950289319662,
          0.17088399133344986,
          0.04760451253331445,
          0.0515548990724462,
          0.13321103149244717,
          0.1320012767072899,
          0.054971781696046815,
          0.058894662958050945,
          0.1361557294250355,
          0.13001995814154949,
          0.03661302448939458,
          0.03760171597487407,
          0.13770448419074494,
          0.13351931866568495,
          0.04875882362313011,
          0.04632348961927948,
          0.12257515652780968,
          0.11436333754703872,
          0.04058584108322523,
          0.03844440585830611,
          0.1521603469725592,
          0.1492418647754497,
          0.06250562668359318,
          0.06545425684020391,
          0.1698587442622334,
          0.16761516097623888,
          0.044852036768503425,
          0.04820707974614305,
          0.13871783695821072,
          0.13530592515832152
         ],
         "xaxis": "x6",
         "y": [
          520,
          800,
          660,
          380,
          520,
          800,
          380,
          240,
          800,
          520,
          800,
          800,
          800,
          240,
          520,
          660
         ],
         "yaxis": "y6"
        },
        {
         "mode": "markers",
         "type": "scatter",
         "x": [
          0.04334059028794689,
          0.04391002846159395,
          0.1742950289319662,
          0.17088399133344986,
          0.04760451253331445,
          0.0515548990724462,
          0.13321103149244717,
          0.1320012767072899,
          0.054971781696046815,
          0.058894662958050945,
          0.1361557294250355,
          0.13001995814154949,
          0.03661302448939458,
          0.03760171597487407,
          0.13770448419074494,
          0.13351931866568495,
          0.04875882362313011,
          0.04632348961927948,
          0.12257515652780968,
          0.11436333754703872,
          0.04058584108322523,
          0.03844440585830611,
          0.1521603469725592,
          0.1492418647754497,
          0.06250562668359318,
          0.06545425684020391,
          0.1698587442622334,
          0.16761516097623888,
          0.044852036768503425,
          0.04820707974614305,
          0.13871783695821072,
          0.13530592515832152
         ],
         "xaxis": "x8",
         "y": [
          5,
          5,
          22.5,
          5,
          5,
          22.5,
          5,
          5,
          5,
          5,
          5,
          5,
          5,
          5,
          5,
          5
         ],
         "yaxis": "y8"
        },
        {
         "mode": "markers",
         "type": "scatter",
         "x": [
          0.04334059028794689,
          0.04391002846159395,
          0.1742950289319662,
          0.17088399133344986,
          0.04760451253331445,
          0.0515548990724462,
          0.13321103149244717,
          0.1320012767072899,
          0.054971781696046815,
          0.058894662958050945,
          0.1361557294250355,
          0.13001995814154949,
          0.03661302448939458,
          0.03760171597487407,
          0.13770448419074494,
          0.13351931866568495,
          0.04875882362313011,
          0.04632348961927948,
          0.12257515652780968,
          0.11436333754703872,
          0.04058584108322523,
          0.03844440585830611,
          0.1521603469725592,
          0.1492418647754497,
          0.06250562668359318,
          0.06545425684020391,
          0.1698587442622334,
          0.16761516097623888,
          0.044852036768503425,
          0.04820707974614305,
          0.13871783695821072,
          0.13530592515832152
         ],
         "xaxis": "x8",
         "y": [
          5,
          22.5,
          5,
          22.5,
          5,
          22.5,
          5,
          22.5,
          5,
          22.5,
          5,
          5,
          5,
          22.5,
          22.5,
          22.5
         ],
         "yaxis": "y8"
        },
        {
         "mode": "markers",
         "type": "scatter",
         "x": [
          0.04334059028794689,
          0.04391002846159395,
          0.1742950289319662,
          0.17088399133344986,
          0.04760451253331445,
          0.0515548990724462,
          0.13321103149244717,
          0.1320012767072899,
          0.054971781696046815,
          0.058894662958050945,
          0.1361557294250355,
          0.13001995814154949,
          0.03661302448939458,
          0.03760171597487407,
          0.13770448419074494,
          0.13351931866568495,
          0.04875882362313011,
          0.04632348961927948,
          0.12257515652780968,
          0.11436333754703872,
          0.04058584108322523,
          0.03844440585830611,
          0.1521603469725592,
          0.1492418647754497,
          0.06250562668359318,
          0.06545425684020391,
          0.1698587442622334,
          0.16761516097623888,
          0.044852036768503425,
          0.04820707974614305,
          0.13871783695821072,
          0.13530592515832152
         ],
         "xaxis": "x10",
         "y": [
          0.75,
          0.5,
          1,
          0.75,
          0.75,
          0.5,
          0.75,
          0.75,
          0.75,
          0.5,
          0.75,
          0.5,
          0.75,
          0.5,
          1,
          0.5
         ],
         "yaxis": "y10"
        },
        {
         "mode": "markers",
         "type": "scatter",
         "x": [
          0.04334059028794689,
          0.04391002846159395,
          0.1742950289319662,
          0.17088399133344986,
          0.04760451253331445,
          0.0515548990724462,
          0.13321103149244717,
          0.1320012767072899,
          0.054971781696046815,
          0.058894662958050945,
          0.1361557294250355,
          0.13001995814154949,
          0.03661302448939458,
          0.03760171597487407,
          0.13770448419074494,
          0.13351931866568495,
          0.04875882362313011,
          0.04632348961927948,
          0.12257515652780968,
          0.11436333754703872,
          0.04058584108322523,
          0.03844440585830611,
          0.1521603469725592,
          0.1492418647754497,
          0.06250562668359318,
          0.06545425684020391,
          0.1698587442622334,
          0.16761516097623888,
          0.044852036768503425,
          0.04820707974614305,
          0.13871783695821072,
          0.13530592515832152
         ],
         "xaxis": "x10",
         "y": [
          0.75,
          0.5,
          0.75,
          0.5,
          0.75,
          0.5,
          0.75,
          0.5,
          0.75,
          0.5,
          0.75,
          0.5,
          0.75,
          0.75,
          0.75,
          0.5
         ],
         "yaxis": "y10"
        }
       ],
       "layout": {
        "autosize": true,
        "showlegend": false,
        "template": {
         "data": {
          "bar": [
           {
            "error_x": {
             "color": "#2a3f5f"
            },
            "error_y": {
             "color": "#2a3f5f"
            },
            "marker": {
             "line": {
              "color": "#E5ECF6",
              "width": 0.5
             }
            },
            "type": "bar"
           }
          ],
          "barpolar": [
           {
            "marker": {
             "line": {
              "color": "#E5ECF6",
              "width": 0.5
             }
            },
            "type": "barpolar"
           }
          ],
          "carpet": [
           {
            "aaxis": {
             "endlinecolor": "#2a3f5f",
             "gridcolor": "white",
             "linecolor": "white",
             "minorgridcolor": "white",
             "startlinecolor": "#2a3f5f"
            },
            "baxis": {
             "endlinecolor": "#2a3f5f",
             "gridcolor": "white",
             "linecolor": "white",
             "minorgridcolor": "white",
             "startlinecolor": "#2a3f5f"
            },
            "type": "carpet"
           }
          ],
          "choropleth": [
           {
            "colorbar": {
             "outlinewidth": 0,
             "ticks": ""
            },
            "type": "choropleth"
           }
          ],
          "contour": [
           {
            "colorbar": {
             "outlinewidth": 0,
             "ticks": ""
            },
            "colorscale": [
             [
              0,
              "#0d0887"
             ],
             [
              0.1111111111111111,
              "#46039f"
             ],
             [
              0.2222222222222222,
              "#7201a8"
             ],
             [
              0.3333333333333333,
              "#9c179e"
             ],
             [
              0.4444444444444444,
              "#bd3786"
             ],
             [
              0.5555555555555556,
              "#d8576b"
             ],
             [
              0.6666666666666666,
              "#ed7953"
             ],
             [
              0.7777777777777778,
              "#fb9f3a"
             ],
             [
              0.8888888888888888,
              "#fdca26"
             ],
             [
              1,
              "#f0f921"
             ]
            ],
            "type": "contour"
           }
          ],
          "contourcarpet": [
           {
            "colorbar": {
             "outlinewidth": 0,
             "ticks": ""
            },
            "type": "contourcarpet"
           }
          ],
          "heatmap": [
           {
            "colorbar": {
             "outlinewidth": 0,
             "ticks": ""
            },
            "colorscale": [
             [
              0,
              "#0d0887"
             ],
             [
              0.1111111111111111,
              "#46039f"
             ],
             [
              0.2222222222222222,
              "#7201a8"
             ],
             [
              0.3333333333333333,
              "#9c179e"
             ],
             [
              0.4444444444444444,
              "#bd3786"
             ],
             [
              0.5555555555555556,
              "#d8576b"
             ],
             [
              0.6666666666666666,
              "#ed7953"
             ],
             [
              0.7777777777777778,
              "#fb9f3a"
             ],
             [
              0.8888888888888888,
              "#fdca26"
             ],
             [
              1,
              "#f0f921"
             ]
            ],
            "type": "heatmap"
           }
          ],
          "heatmapgl": [
           {
            "colorbar": {
             "outlinewidth": 0,
             "ticks": ""
            },
            "colorscale": [
             [
              0,
              "#0d0887"
             ],
             [
              0.1111111111111111,
              "#46039f"
             ],
             [
              0.2222222222222222,
              "#7201a8"
             ],
             [
              0.3333333333333333,
              "#9c179e"
             ],
             [
              0.4444444444444444,
              "#bd3786"
             ],
             [
              0.5555555555555556,
              "#d8576b"
             ],
             [
              0.6666666666666666,
              "#ed7953"
             ],
             [
              0.7777777777777778,
              "#fb9f3a"
             ],
             [
              0.8888888888888888,
              "#fdca26"
             ],
             [
              1,
              "#f0f921"
             ]
            ],
            "type": "heatmapgl"
           }
          ],
          "histogram": [
           {
            "marker": {
             "colorbar": {
              "outlinewidth": 0,
              "ticks": ""
             }
            },
            "type": "histogram"
           }
          ],
          "histogram2d": [
           {
            "colorbar": {
             "outlinewidth": 0,
             "ticks": ""
            },
            "colorscale": [
             [
              0,
              "#0d0887"
             ],
             [
              0.1111111111111111,
              "#46039f"
             ],
             [
              0.2222222222222222,
              "#7201a8"
             ],
             [
              0.3333333333333333,
              "#9c179e"
             ],
             [
              0.4444444444444444,
              "#bd3786"
             ],
             [
              0.5555555555555556,
              "#d8576b"
             ],
             [
              0.6666666666666666,
              "#ed7953"
             ],
             [
              0.7777777777777778,
              "#fb9f3a"
             ],
             [
              0.8888888888888888,
              "#fdca26"
             ],
             [
              1,
              "#f0f921"
             ]
            ],
            "type": "histogram2d"
           }
          ],
          "histogram2dcontour": [
           {
            "colorbar": {
             "outlinewidth": 0,
             "ticks": ""
            },
            "colorscale": [
             [
              0,
              "#0d0887"
             ],
             [
              0.1111111111111111,
              "#46039f"
             ],
             [
              0.2222222222222222,
              "#7201a8"
             ],
             [
              0.3333333333333333,
              "#9c179e"
             ],
             [
              0.4444444444444444,
              "#bd3786"
             ],
             [
              0.5555555555555556,
              "#d8576b"
             ],
             [
              0.6666666666666666,
              "#ed7953"
             ],
             [
              0.7777777777777778,
              "#fb9f3a"
             ],
             [
              0.8888888888888888,
              "#fdca26"
             ],
             [
              1,
              "#f0f921"
             ]
            ],
            "type": "histogram2dcontour"
           }
          ],
          "mesh3d": [
           {
            "colorbar": {
             "outlinewidth": 0,
             "ticks": ""
            },
            "type": "mesh3d"
           }
          ],
          "parcoords": [
           {
            "line": {
             "colorbar": {
              "outlinewidth": 0,
              "ticks": ""
             }
            },
            "type": "parcoords"
           }
          ],
          "scatter": [
           {
            "marker": {
             "colorbar": {
              "outlinewidth": 0,
              "ticks": ""
             }
            },
            "type": "scatter"
           }
          ],
          "scatter3d": [
           {
            "line": {
             "colorbar": {
              "outlinewidth": 0,
              "ticks": ""
             }
            },
            "marker": {
             "colorbar": {
              "outlinewidth": 0,
              "ticks": ""
             }
            },
            "type": "scatter3d"
           }
          ],
          "scattercarpet": [
           {
            "marker": {
             "colorbar": {
              "outlinewidth": 0,
              "ticks": ""
             }
            },
            "type": "scattercarpet"
           }
          ],
          "scattergeo": [
           {
            "marker": {
             "colorbar": {
              "outlinewidth": 0,
              "ticks": ""
             }
            },
            "type": "scattergeo"
           }
          ],
          "scattergl": [
           {
            "marker": {
             "colorbar": {
              "outlinewidth": 0,
              "ticks": ""
             }
            },
            "type": "scattergl"
           }
          ],
          "scattermapbox": [
           {
            "marker": {
             "colorbar": {
              "outlinewidth": 0,
              "ticks": ""
             }
            },
            "type": "scattermapbox"
           }
          ],
          "scatterpolar": [
           {
            "marker": {
             "colorbar": {
              "outlinewidth": 0,
              "ticks": ""
             }
            },
            "type": "scatterpolar"
           }
          ],
          "scatterpolargl": [
           {
            "marker": {
             "colorbar": {
              "outlinewidth": 0,
              "ticks": ""
             }
            },
            "type": "scatterpolargl"
           }
          ],
          "scatterternary": [
           {
            "marker": {
             "colorbar": {
              "outlinewidth": 0,
              "ticks": ""
             }
            },
            "type": "scatterternary"
           }
          ],
          "surface": [
           {
            "colorbar": {
             "outlinewidth": 0,
             "ticks": ""
            },
            "colorscale": [
             [
              0,
              "#0d0887"
             ],
             [
              0.1111111111111111,
              "#46039f"
             ],
             [
              0.2222222222222222,
              "#7201a8"
             ],
             [
              0.3333333333333333,
              "#9c179e"
             ],
             [
              0.4444444444444444,
              "#bd3786"
             ],
             [
              0.5555555555555556,
              "#d8576b"
             ],
             [
              0.6666666666666666,
              "#ed7953"
             ],
             [
              0.7777777777777778,
              "#fb9f3a"
             ],
             [
              0.8888888888888888,
              "#fdca26"
             ],
             [
              1,
              "#f0f921"
             ]
            ],
            "type": "surface"
           }
          ],
          "table": [
           {
            "cells": {
             "fill": {
              "color": "#EBF0F8"
             },
             "line": {
              "color": "white"
             }
            },
            "header": {
             "fill": {
              "color": "#C8D4E3"
             },
             "line": {
              "color": "white"
             }
            },
            "type": "table"
           }
          ]
         },
         "layout": {
          "annotationdefaults": {
           "arrowcolor": "#2a3f5f",
           "arrowhead": 0,
           "arrowwidth": 1
          },
          "colorscale": {
           "diverging": [
            [
             0,
             "#8e0152"
            ],
            [
             0.1,
             "#c51b7d"
            ],
            [
             0.2,
             "#de77ae"
            ],
            [
             0.3,
             "#f1b6da"
            ],
            [
             0.4,
             "#fde0ef"
            ],
            [
             0.5,
             "#f7f7f7"
            ],
            [
             0.6,
             "#e6f5d0"
            ],
            [
             0.7,
             "#b8e186"
            ],
            [
             0.8,
             "#7fbc41"
            ],
            [
             0.9,
             "#4d9221"
            ],
            [
             1,
             "#276419"
            ]
           ],
           "sequential": [
            [
             0,
             "#0d0887"
            ],
            [
             0.1111111111111111,
             "#46039f"
            ],
            [
             0.2222222222222222,
             "#7201a8"
            ],
            [
             0.3333333333333333,
             "#9c179e"
            ],
            [
             0.4444444444444444,
             "#bd3786"
            ],
            [
             0.5555555555555556,
             "#d8576b"
            ],
            [
             0.6666666666666666,
             "#ed7953"
            ],
            [
             0.7777777777777778,
             "#fb9f3a"
            ],
            [
             0.8888888888888888,
             "#fdca26"
            ],
            [
             1,
             "#f0f921"
            ]
           ],
           "sequentialminus": [
            [
             0,
             "#0d0887"
            ],
            [
             0.1111111111111111,
             "#46039f"
            ],
            [
             0.2222222222222222,
             "#7201a8"
            ],
            [
             0.3333333333333333,
             "#9c179e"
            ],
            [
             0.4444444444444444,
             "#bd3786"
            ],
            [
             0.5555555555555556,
             "#d8576b"
            ],
            [
             0.6666666666666666,
             "#ed7953"
            ],
            [
             0.7777777777777778,
             "#fb9f3a"
            ],
            [
             0.8888888888888888,
             "#fdca26"
            ],
            [
             1,
             "#f0f921"
            ]
           ]
          },
          "colorway": [
           "#636efa",
           "#EF553B",
           "#00cc96",
           "#ab63fa",
           "#FFA15A",
           "#19d3f3",
           "#FF6692",
           "#B6E880",
           "#FF97FF",
           "#FECB52"
          ],
          "font": {
           "color": "#2a3f5f"
          },
          "geo": {
           "bgcolor": "white",
           "lakecolor": "white",
           "landcolor": "#E5ECF6",
           "showlakes": true,
           "showland": true,
           "subunitcolor": "white"
          },
          "hoverlabel": {
           "align": "left"
          },
          "hovermode": "closest",
          "mapbox": {
           "style": "light"
          },
          "paper_bgcolor": "white",
          "plot_bgcolor": "#E5ECF6",
          "polar": {
           "angularaxis": {
            "gridcolor": "white",
            "linecolor": "white",
            "ticks": ""
           },
           "bgcolor": "#E5ECF6",
           "radialaxis": {
            "gridcolor": "white",
            "linecolor": "white",
            "ticks": ""
           }
          },
          "scene": {
           "xaxis": {
            "backgroundcolor": "#E5ECF6",
            "gridcolor": "white",
            "gridwidth": 2,
            "linecolor": "white",
            "showbackground": true,
            "ticks": "",
            "zerolinecolor": "white"
           },
           "yaxis": {
            "backgroundcolor": "#E5ECF6",
            "gridcolor": "white",
            "gridwidth": 2,
            "linecolor": "white",
            "showbackground": true,
            "ticks": "",
            "zerolinecolor": "white"
           },
           "zaxis": {
            "backgroundcolor": "#E5ECF6",
            "gridcolor": "white",
            "gridwidth": 2,
            "linecolor": "white",
            "showbackground": true,
            "ticks": "",
            "zerolinecolor": "white"
           }
          },
          "shapedefaults": {
           "line": {
            "color": "#2a3f5f"
           }
          },
          "ternary": {
           "aaxis": {
            "gridcolor": "white",
            "linecolor": "white",
            "ticks": ""
           },
           "baxis": {
            "gridcolor": "white",
            "linecolor": "white",
            "ticks": ""
           },
           "bgcolor": "#E5ECF6",
           "caxis": {
            "gridcolor": "white",
            "linecolor": "white",
            "ticks": ""
           }
          },
          "title": {
           "x": 0.05
          },
          "xaxis": {
           "automargin": true,
           "gridcolor": "white",
           "linecolor": "white",
           "ticks": "",
           "zerolinecolor": "white",
           "zerolinewidth": 2
          },
          "yaxis": {
           "automargin": true,
           "gridcolor": "white",
           "linecolor": "white",
           "ticks": "",
           "zerolinecolor": "white",
           "zerolinewidth": 2
          }
         }
        },
        "xaxis": {
         "anchor": "y",
         "autorange": true,
         "domain": [
          0,
          0.45
         ],
         "range": [
          -0.5,
          1.5
         ],
         "type": "category"
        },
        "xaxis10": {
         "anchor": "y10",
         "autorange": true,
         "domain": [
          0.55,
          1
         ],
         "range": [
          0.027196695165226097,
          0.18371135825613466
         ],
         "title": {
          "text": "Feature richness"
         },
         "type": "linear"
        },
        "xaxis2": {
         "anchor": "y2",
         "autorange": true,
         "domain": [
          0.55,
          1
         ],
         "range": [
          0.027196695165226097,
          0.18371135825613466
         ],
         "title": {
          "text": "Feature richness"
         },
         "type": "linear"
        },
        "xaxis3": {
         "anchor": "y3",
         "autorange": true,
         "domain": [
          0,
          0.45
         ],
         "range": [
          -0.5,
          1.5
         ],
         "type": "category"
        },
        "xaxis4": {
         "anchor": "y4",
         "autorange": true,
         "domain": [
          0.55,
          1
         ],
         "range": [
          0.027196695165226097,
          0.18371135825613466
         ],
         "title": {
          "text": "Feature richness"
         },
         "type": "linear"
        },
        "xaxis5": {
         "anchor": "y5",
         "autorange": true,
         "domain": [
          0,
          0.45
         ],
         "range": [
          -0.5,
          1.5
         ],
         "type": "category"
        },
        "xaxis6": {
         "anchor": "y6",
         "autorange": true,
         "domain": [
          0.55,
          1
         ],
         "range": [
          0.027196695165226097,
          0.18371135825613466
         ],
         "title": {
          "text": "Feature richness"
         },
         "type": "linear"
        },
        "xaxis7": {
         "anchor": "y7",
         "autorange": true,
         "domain": [
          0,
          0.45
         ],
         "range": [
          -0.5,
          1.5
         ],
         "type": "category"
        },
        "xaxis8": {
         "anchor": "y8",
         "autorange": true,
         "domain": [
          0.55,
          1
         ],
         "range": [
          0.027196695165226097,
          0.18371135825613466
         ],
         "title": {
          "text": "Feature richness"
         },
         "type": "linear"
        },
        "xaxis9": {
         "anchor": "y9",
         "autorange": true,
         "domain": [
          0,
          0.45
         ],
         "range": [
          -0.5,
          1.5
         ],
         "type": "category"
        },
        "yaxis": {
         "anchor": "x",
         "autorange": true,
         "domain": [
          0.848,
          1
         ],
         "range": [
          6.388888888888889,
          18.61111111111111
         ],
         "title": {
          "text": "Maximum depth"
         },
         "type": "linear"
        },
        "yaxis10": {
         "anchor": "x10",
         "autorange": true,
         "domain": [
          0,
          0.152
         ],
         "range": [
          0.40144720750101914,
          1.0985527924989809
         ],
         "title": {
          "text": "Subsample"
         },
         "type": "linear"
        },
        "yaxis2": {
         "anchor": "x2",
         "autorange": true,
         "domain": [
          0.848,
          1
         ],
         "range": [
          4.831838565022421,
          20.168161434977577
         ],
         "title": {
          "text": "Maximum depth"
         },
         "type": "linear"
        },
        "yaxis3": {
         "anchor": "x3",
         "autorange": true,
         "domain": [
          0.6359999999999999,
          0.7879999999999999
         ],
         "range": [
          -2.549382716049383,
          -1.5617283950617284
         ],
         "title": {
          "text": "Learning rate"
         },
         "type": "linear"
        },
        "yaxis4": {
         "anchor": "x4",
         "autorange": true,
         "domain": [
          0.6359999999999999,
          0.7879999999999999
         ],
         "range": [
          -0.0010404253248271567,
          0.0286870704532178
         ],
         "title": {
          "text": "Learning rate"
         },
         "type": "linear"
        },
        "yaxis5": {
         "anchor": "x5",
         "autorange": true,
         "domain": [
          0.424,
          0.576
         ],
         "range": [
          61.111111111111114,
          838.8888888888889
         ],
         "title": {
          "text": "Number of trees"
         },
         "type": "linear"
        },
        "yaxis6": {
         "anchor": "x6",
         "autorange": true,
         "domain": [
          0.424,
          0.576
         ],
         "range": [
          -37.97390949857319,
          937.9739094985732
         ],
         "title": {
          "text": "Number of trees"
         },
         "type": "linear"
        },
        "yaxis7": {
         "anchor": "x7",
         "autorange": true,
         "domain": [
          0.212,
          0.364
         ],
         "range": [
          4.027777777777778,
          23.47222222222222
         ],
         "title": {
          "text": "Minimum child weight"
         },
         "type": "linear"
        },
        "yaxis8": {
         "anchor": "x8",
         "autorange": true,
         "domain": [
          0.212,
          0.364
         ],
         "range": [
          1.550652262535671,
          25.94934773746433
         ],
         "title": {
          "text": "Minimum child weight"
         },
         "type": "linear"
        },
        "yaxis9": {
         "anchor": "x9",
         "autorange": true,
         "domain": [
          0,
          0.152
         ],
         "range": [
          0.4722222222222222,
          1.0277777777777777
         ],
         "title": {
          "text": "Subsample"
         },
         "type": "linear"
        }
       }
      },
      "image/png": "[encoded data removed]",
      "text/html": [
       "<div>\n",
       "        \n",
       "        \n",
       "            <div id=\"59e96411-3c6a-48ca-b64e-39938fda4b6c\" class=\"plotly-graph-div\" style=\"height:1200px; width:100%;\"></div>\n",
       "            <script type=\"text/javascript\">\n",
       "                require([\"plotly\"], function(Plotly) {\n",
       "                    window.PLOTLYENV=window.PLOTLYENV || {};\n",
       "                    \n",
       "                if (document.getElementById(\"59e96411-3c6a-48ca-b64e-39938fda4b6c\")) {\n",
       "                    Plotly.newPlot(\n",
       "                        '59e96411-3c6a-48ca-b64e-39938fda4b6c',\n",
       "                        [{\"boxmean\": true, \"name\": \"Size = 8760\", \"type\": \"box\", \"xaxis\": \"x\", \"y\": [14.0, 9.0, 11.0, 7.0, 11.0, 11.0, 14.0, 9.0, 11.0, 9.0, 14.0, 9.0, 14.0, 9.0, 14.0, 9.0], \"yaxis\": \"y\"}, {\"boxmean\": true, \"name\": \"Size = 17520\", \"type\": \"box\", \"xaxis\": \"x\", \"y\": [14.0, 11.0, 7.0, 9.0, 11.0, 18.0, 11.0, 18.0, 11.0, 16.0, 14.0, 11.0, 14.0, 18.0, 11.0, 18.0], \"yaxis\": \"y\"}, {\"boxmean\": true, \"name\": \"Size = 8760\", \"type\": \"box\", \"xaxis\": \"x3\", \"y\": [-2.0555555555555554, -2.2777777777777777, -2.2777777777777777, -2.2777777777777777, -2.0555555555555554, -2.0555555555555554, -2.5, -1.8333333333333335, -1.6111111111111112, -2.0555555555555554, -2.5, -1.8333333333333335, -2.5, -1.8333333333333335, -2.5, -2.0555555555555554], \"yaxis\": \"y3\"}, {\"boxmean\": true, \"name\": \"Size = 17520\", \"type\": \"box\", \"xaxis\": \"x3\", \"y\": [-2.2777777777777777, -2.2777777777777777, -2.0555555555555554, -1.8333333333333335, -2.0555555555555554, -2.2777777777777777, -1.8333333333333335, -1.8333333333333335, -2.2777777777777777, -2.2777777777777777, -2.5, -2.2777777777777777, -2.5, -1.8333333333333335, -1.8333333333333335, -2.2777777777777777], \"yaxis\": \"y3\"}, {\"boxmean\": true, \"name\": \"Size = 8760\", \"type\": \"box\", \"xaxis\": \"x5\", \"y\": [380.0, 660.0, 520.0, 800.0, 380.0, 380.0, 800.0, 240.0, 100.0, 380.0, 800.0, 240.0, 800.0, 380.0, 660.0, 380.0], \"yaxis\": \"y5\"}, {\"boxmean\": true, \"name\": \"Size = 17520\", \"type\": \"box\", \"xaxis\": \"x5\", \"y\": [520.0, 800.0, 660.0, 380.0, 520.0, 800.0, 380.0, 240.0, 800.0, 520.0, 800.0, 800.0, 800.0, 240.0, 520.0, 660.0], \"yaxis\": \"y5\"}, {\"boxmean\": true, \"name\": \"Size = 8760\", \"type\": \"box\", \"xaxis\": \"x7\", \"y\": [5.0, 5.0, 22.5, 5.0, 5.0, 22.5, 5.0, 5.0, 5.0, 5.0, 5.0, 5.0, 5.0, 5.0, 5.0, 5.0], \"yaxis\": \"y7\"}, {\"boxmean\": true, \"name\": \"Size = 17520\", \"type\": \"box\", \"xaxis\": \"x7\", \"y\": [5.0, 22.5, 5.0, 22.5, 5.0, 22.5, 5.0, 22.5, 5.0, 22.5, 5.0, 5.0, 5.0, 22.5, 22.5, 22.5], \"yaxis\": \"y7\"}, {\"boxmean\": true, \"name\": \"Size = 8760\", \"type\": \"box\", \"xaxis\": \"x9\", \"y\": [0.75, 0.5, 0.75, 0.5, 0.75, 0.5, 0.75, 0.5, 0.75, 0.5, 0.75, 0.5, 0.75, 0.75, 0.75, 0.5], \"yaxis\": \"y9\"}, {\"boxmean\": true, \"name\": \"Size = 17520\", \"type\": \"box\", \"xaxis\": \"x9\", \"y\": [0.75, 0.5, 1.0, 0.75, 0.75, 0.5, 0.75, 0.75, 0.75, 0.5, 0.75, 0.5, 0.75, 0.5, 1.0, 0.5], \"yaxis\": \"y9\"}, {\"mode\": \"markers\", \"type\": \"scatter\", \"x\": [0.04334059028794689, 0.04391002846159395, 0.1742950289319662, 0.17088399133344986, 0.04760451253331445, 0.0515548990724462, 0.13321103149244717, 0.1320012767072899, 0.054971781696046815, 0.058894662958050945, 0.1361557294250355, 0.13001995814154949, 0.03661302448939458, 0.03760171597487407, 0.13770448419074494, 0.13351931866568495, 0.04875882362313011, 0.04632348961927948, 0.12257515652780968, 0.11436333754703872, 0.04058584108322523, 0.03844440585830611, 0.1521603469725592, 0.1492418647754497, 0.06250562668359318, 0.06545425684020391, 0.1698587442622334, 0.16761516097623888, 0.044852036768503425, 0.04820707974614305, 0.13871783695821072, 0.13530592515832152], \"xaxis\": \"x2\", \"y\": [14.0, 9.0, 11.0, 7.0, 11.0, 11.0, 14.0, 9.0, 11.0, 9.0, 14.0, 9.0, 14.0, 9.0, 14.0, 9.0], \"yaxis\": \"y2\"}, {\"mode\": \"markers\", \"type\": \"scatter\", \"x\": [0.04334059028794689, 0.04391002846159395, 0.1742950289319662, 0.17088399133344986, 0.04760451253331445, 0.0515548990724462, 0.13321103149244717, 0.1320012767072899, 0.054971781696046815, 0.058894662958050945, 0.1361557294250355, 0.13001995814154949, 0.03661302448939458, 0.03760171597487407, 0.13770448419074494, 0.13351931866568495, 0.04875882362313011, 0.04632348961927948, 0.12257515652780968, 0.11436333754703872, 0.04058584108322523, 0.03844440585830611, 0.1521603469725592, 0.1492418647754497, 0.06250562668359318, 0.06545425684020391, 0.1698587442622334, 0.16761516097623888, 0.044852036768503425, 0.04820707974614305, 0.13871783695821072, 0.13530592515832152], \"xaxis\": \"x2\", \"y\": [14.0, 11.0, 7.0, 9.0, 11.0, 18.0, 11.0, 18.0, 11.0, 16.0, 14.0, 11.0, 14.0, 18.0, 11.0, 18.0], \"yaxis\": \"y2\"}, {\"mode\": \"markers\", \"type\": \"scatter\", \"x\": [0.04334059028794689, 0.04391002846159395, 0.1742950289319662, 0.17088399133344986, 0.04760451253331445, 0.0515548990724462, 0.13321103149244717, 0.1320012767072899, 0.054971781696046815, 0.058894662958050945, 0.1361557294250355, 0.13001995814154949, 0.03661302448939458, 0.03760171597487407, 0.13770448419074494, 0.13351931866568495, 0.04875882362313011, 0.04632348961927948, 0.12257515652780968, 0.11436333754703872, 0.04058584108322523, 0.03844440585830611, 0.1521603469725592, 0.1492418647754497, 0.06250562668359318, 0.06545425684020391, 0.1698587442622334, 0.16761516097623888, 0.044852036768503425, 0.04820707974614305, 0.13871783695821072, 0.13530592515832152], \"xaxis\": \"x4\", \"y\": [0.008799225435691074, 0.0052749970637026205, 0.0052749970637026205, 0.0052749970637026205, 0.008799225435691074, 0.008799225435691074, 0.00316227766016838, 0.014677992676220691, 0.024484367468222263, 0.008799225435691074, 0.00316227766016838, 0.014677992676220691, 0.00316227766016838, 0.014677992676220691, 0.00316227766016838, 0.008799225435691074], \"yaxis\": \"y4\"}, {\"mode\": \"markers\", \"type\": \"scatter\", \"x\": [0.04334059028794689, 0.04391002846159395, 0.1742950289319662, 0.17088399133344986, 0.04760451253331445, 0.0515548990724462, 0.13321103149244717, 0.1320012767072899, 0.054971781696046815, 0.058894662958050945, 0.1361557294250355, 0.13001995814154949, 0.03661302448939458, 0.03760171597487407, 0.13770448419074494, 0.13351931866568495, 0.04875882362313011, 0.04632348961927948, 0.12257515652780968, 0.11436333754703872, 0.04058584108322523, 0.03844440585830611, 0.1521603469725592, 0.1492418647754497, 0.06250562668359318, 0.06545425684020391, 0.1698587442622334, 0.16761516097623888, 0.044852036768503425, 0.04820707974614305, 0.13871783695821072, 0.13530592515832152], \"xaxis\": \"x4\", \"y\": [0.005274997063702621, 0.0052749970637026205, 0.008799225435691074, 0.014677992676220691, 0.008799225435691074, 0.0052749970637026205, 0.014677992676220691, 0.014677992676220691, 0.0052749970637026205, 0.0052749970637026205, 0.00316227766016838, 0.0052749970637026205, 0.00316227766016838, 0.014677992676220691, 0.014677992676220691, 0.0052749970637026205], \"yaxis\": \"y4\"}, {\"mode\": \"markers\", \"type\": \"scatter\", \"x\": [0.04334059028794689, 0.04391002846159395, 0.1742950289319662, 0.17088399133344986, 0.04760451253331445, 0.0515548990724462, 0.13321103149244717, 0.1320012767072899, 0.054971781696046815, 0.058894662958050945, 0.1361557294250355, 0.13001995814154949, 0.03661302448939458, 0.03760171597487407, 0.13770448419074494, 0.13351931866568495, 0.04875882362313011, 0.04632348961927948, 0.12257515652780968, 0.11436333754703872, 0.04058584108322523, 0.03844440585830611, 0.1521603469725592, 0.1492418647754497, 0.06250562668359318, 0.06545425684020391, 0.1698587442622334, 0.16761516097623888, 0.044852036768503425, 0.04820707974614305, 0.13871783695821072, 0.13530592515832152], \"xaxis\": \"x6\", \"y\": [380.0, 660.0, 520.0, 800.0, 380.0, 380.0, 800.0, 240.0, 100.0, 380.0, 800.0, 240.0, 800.0, 380.0, 660.0, 380.0], \"yaxis\": \"y6\"}, {\"mode\": \"markers\", \"type\": \"scatter\", \"x\": [0.04334059028794689, 0.04391002846159395, 0.1742950289319662, 0.17088399133344986, 0.04760451253331445, 0.0515548990724462, 0.13321103149244717, 0.1320012767072899, 0.054971781696046815, 0.058894662958050945, 0.1361557294250355, 0.13001995814154949, 0.03661302448939458, 0.03760171597487407, 0.13770448419074494, 0.13351931866568495, 0.04875882362313011, 0.04632348961927948, 0.12257515652780968, 0.11436333754703872, 0.04058584108322523, 0.03844440585830611, 0.1521603469725592, 0.1492418647754497, 0.06250562668359318, 0.06545425684020391, 0.1698587442622334, 0.16761516097623888, 0.044852036768503425, 0.04820707974614305, 0.13871783695821072, 0.13530592515832152], \"xaxis\": \"x6\", \"y\": [520.0, 800.0, 660.0, 380.0, 520.0, 800.0, 380.0, 240.0, 800.0, 520.0, 800.0, 800.0, 800.0, 240.0, 520.0, 660.0], \"yaxis\": \"y6\"}, {\"mode\": \"markers\", \"type\": \"scatter\", \"x\": [0.04334059028794689, 0.04391002846159395, 0.1742950289319662, 0.17088399133344986, 0.04760451253331445, 0.0515548990724462, 0.13321103149244717, 0.1320012767072899, 0.054971781696046815, 0.058894662958050945, 0.1361557294250355, 0.13001995814154949, 0.03661302448939458, 0.03760171597487407, 0.13770448419074494, 0.13351931866568495, 0.04875882362313011, 0.04632348961927948, 0.12257515652780968, 0.11436333754703872, 0.04058584108322523, 0.03844440585830611, 0.1521603469725592, 0.1492418647754497, 0.06250562668359318, 0.06545425684020391, 0.1698587442622334, 0.16761516097623888, 0.044852036768503425, 0.04820707974614305, 0.13871783695821072, 0.13530592515832152], \"xaxis\": \"x8\", \"y\": [5.0, 5.0, 22.5, 5.0, 5.0, 22.5, 5.0, 5.0, 5.0, 5.0, 5.0, 5.0, 5.0, 5.0, 5.0, 5.0], \"yaxis\": \"y8\"}, {\"mode\": \"markers\", \"type\": \"scatter\", \"x\": [0.04334059028794689, 0.04391002846159395, 0.1742950289319662, 0.17088399133344986, 0.04760451253331445, 0.0515548990724462, 0.13321103149244717, 0.1320012767072899, 0.054971781696046815, 0.058894662958050945, 0.1361557294250355, 0.13001995814154949, 0.03661302448939458, 0.03760171597487407, 0.13770448419074494, 0.13351931866568495, 0.04875882362313011, 0.04632348961927948, 0.12257515652780968, 0.11436333754703872, 0.04058584108322523, 0.03844440585830611, 0.1521603469725592, 0.1492418647754497, 0.06250562668359318, 0.06545425684020391, 0.1698587442622334, 0.16761516097623888, 0.044852036768503425, 0.04820707974614305, 0.13871783695821072, 0.13530592515832152], \"xaxis\": \"x8\", \"y\": [5.0, 22.5, 5.0, 22.5, 5.0, 22.5, 5.0, 22.5, 5.0, 22.5, 5.0, 5.0, 5.0, 22.5, 22.5, 22.5], \"yaxis\": \"y8\"}, {\"mode\": \"markers\", \"type\": \"scatter\", \"x\": [0.04334059028794689, 0.04391002846159395, 0.1742950289319662, 0.17088399133344986, 0.04760451253331445, 0.0515548990724462, 0.13321103149244717, 0.1320012767072899, 0.054971781696046815, 0.058894662958050945, 0.1361557294250355, 0.13001995814154949, 0.03661302448939458, 0.03760171597487407, 0.13770448419074494, 0.13351931866568495, 0.04875882362313011, 0.04632348961927948, 0.12257515652780968, 0.11436333754703872, 0.04058584108322523, 0.03844440585830611, 0.1521603469725592, 0.1492418647754497, 0.06250562668359318, 0.06545425684020391, 0.1698587442622334, 0.16761516097623888, 0.044852036768503425, 0.04820707974614305, 0.13871783695821072, 0.13530592515832152], \"xaxis\": \"x10\", \"y\": [0.75, 0.5, 1.0, 0.75, 0.75, 0.5, 0.75, 0.75, 0.75, 0.5, 0.75, 0.5, 0.75, 0.5, 1.0, 0.5], \"yaxis\": \"y10\"}, {\"mode\": \"markers\", \"type\": \"scatter\", \"x\": [0.04334059028794689, 0.04391002846159395, 0.1742950289319662, 0.17088399133344986, 0.04760451253331445, 0.0515548990724462, 0.13321103149244717, 0.1320012767072899, 0.054971781696046815, 0.058894662958050945, 0.1361557294250355, 0.13001995814154949, 0.03661302448939458, 0.03760171597487407, 0.13770448419074494, 0.13351931866568495, 0.04875882362313011, 0.04632348961927948, 0.12257515652780968, 0.11436333754703872, 0.04058584108322523, 0.03844440585830611, 0.1521603469725592, 0.1492418647754497, 0.06250562668359318, 0.06545425684020391, 0.1698587442622334, 0.16761516097623888, 0.044852036768503425, 0.04820707974614305, 0.13871783695821072, 0.13530592515832152], \"xaxis\": \"x10\", \"y\": [0.75, 0.5, 0.75, 0.5, 0.75, 0.5, 0.75, 0.5, 0.75, 0.5, 0.75, 0.5, 0.75, 0.75, 0.75, 0.5], \"yaxis\": \"y10\"}],\n",
       "                        {\"height\": 1200, \"showlegend\": false, \"template\": {\"data\": {\"bar\": [{\"error_x\": {\"color\": \"#2a3f5f\"}, \"error_y\": {\"color\": \"#2a3f5f\"}, \"marker\": {\"line\": {\"color\": \"#E5ECF6\", \"width\": 0.5}}, \"type\": \"bar\"}], \"barpolar\": [{\"marker\": {\"line\": {\"color\": \"#E5ECF6\", \"width\": 0.5}}, \"type\": \"barpolar\"}], \"carpet\": [{\"aaxis\": {\"endlinecolor\": \"#2a3f5f\", \"gridcolor\": \"white\", \"linecolor\": \"white\", \"minorgridcolor\": \"white\", \"startlinecolor\": \"#2a3f5f\"}, \"baxis\": {\"endlinecolor\": \"#2a3f5f\", \"gridcolor\": \"white\", \"linecolor\": \"white\", \"minorgridcolor\": \"white\", \"startlinecolor\": \"#2a3f5f\"}, \"type\": \"carpet\"}], \"choropleth\": [{\"colorbar\": {\"outlinewidth\": 0, \"ticks\": \"\"}, \"type\": \"choropleth\"}], \"contour\": [{\"colorbar\": {\"outlinewidth\": 0, \"ticks\": \"\"}, \"colorscale\": [[0.0, \"#0d0887\"], [0.1111111111111111, \"#46039f\"], [0.2222222222222222, \"#7201a8\"], [0.3333333333333333, \"#9c179e\"], [0.4444444444444444, \"#bd3786\"], [0.5555555555555556, \"#d8576b\"], [0.6666666666666666, \"#ed7953\"], [0.7777777777777778, \"#fb9f3a\"], [0.8888888888888888, \"#fdca26\"], [1.0, \"#f0f921\"]], \"type\": \"contour\"}], \"contourcarpet\": [{\"colorbar\": {\"outlinewidth\": 0, \"ticks\": \"\"}, \"type\": \"contourcarpet\"}], \"heatmap\": [{\"colorbar\": {\"outlinewidth\": 0, \"ticks\": \"\"}, \"colorscale\": [[0.0, \"#0d0887\"], [0.1111111111111111, \"#46039f\"], [0.2222222222222222, \"#7201a8\"], [0.3333333333333333, \"#9c179e\"], [0.4444444444444444, \"#bd3786\"], [0.5555555555555556, \"#d8576b\"], [0.6666666666666666, \"#ed7953\"], [0.7777777777777778, \"#fb9f3a\"], [0.8888888888888888, \"#fdca26\"], [1.0, \"#f0f921\"]], \"type\": \"heatmap\"}], \"heatmapgl\": [{\"colorbar\": {\"outlinewidth\": 0, \"ticks\": \"\"}, \"colorscale\": [[0.0, \"#0d0887\"], [0.1111111111111111, \"#46039f\"], [0.2222222222222222, \"#7201a8\"], [0.3333333333333333, \"#9c179e\"], [0.4444444444444444, \"#bd3786\"], [0.5555555555555556, \"#d8576b\"], [0.6666666666666666, \"#ed7953\"], [0.7777777777777778, \"#fb9f3a\"], [0.8888888888888888, \"#fdca26\"], [1.0, \"#f0f921\"]], \"type\": \"heatmapgl\"}], \"histogram\": [{\"marker\": {\"colorbar\": {\"outlinewidth\": 0, \"ticks\": \"\"}}, \"type\": \"histogram\"}], \"histogram2d\": [{\"colorbar\": {\"outlinewidth\": 0, \"ticks\": \"\"}, \"colorscale\": [[0.0, \"#0d0887\"], [0.1111111111111111, \"#46039f\"], [0.2222222222222222, \"#7201a8\"], [0.3333333333333333, \"#9c179e\"], [0.4444444444444444, \"#bd3786\"], [0.5555555555555556, \"#d8576b\"], [0.6666666666666666, \"#ed7953\"], [0.7777777777777778, \"#fb9f3a\"], [0.8888888888888888, \"#fdca26\"], [1.0, \"#f0f921\"]], \"type\": \"histogram2d\"}], \"histogram2dcontour\": [{\"colorbar\": {\"outlinewidth\": 0, \"ticks\": \"\"}, \"colorscale\": [[0.0, \"#0d0887\"], [0.1111111111111111, \"#46039f\"], [0.2222222222222222, \"#7201a8\"], [0.3333333333333333, \"#9c179e\"], [0.4444444444444444, \"#bd3786\"], [0.5555555555555556, \"#d8576b\"], [0.6666666666666666, \"#ed7953\"], [0.7777777777777778, \"#fb9f3a\"], [0.8888888888888888, \"#fdca26\"], [1.0, \"#f0f921\"]], \"type\": \"histogram2dcontour\"}], \"mesh3d\": [{\"colorbar\": {\"outlinewidth\": 0, \"ticks\": \"\"}, \"type\": \"mesh3d\"}], \"parcoords\": [{\"line\": {\"colorbar\": {\"outlinewidth\": 0, \"ticks\": \"\"}}, \"type\": \"parcoords\"}], \"scatter\": [{\"marker\": {\"colorbar\": {\"outlinewidth\": 0, \"ticks\": \"\"}}, \"type\": \"scatter\"}], \"scatter3d\": [{\"line\": {\"colorbar\": {\"outlinewidth\": 0, \"ticks\": \"\"}}, \"marker\": {\"colorbar\": {\"outlinewidth\": 0, \"ticks\": \"\"}}, \"type\": \"scatter3d\"}], \"scattercarpet\": [{\"marker\": {\"colorbar\": {\"outlinewidth\": 0, \"ticks\": \"\"}}, \"type\": \"scattercarpet\"}], \"scattergeo\": [{\"marker\": {\"colorbar\": {\"outlinewidth\": 0, \"ticks\": \"\"}}, \"type\": \"scattergeo\"}], \"scattergl\": [{\"marker\": {\"colorbar\": {\"outlinewidth\": 0, \"ticks\": \"\"}}, \"type\": \"scattergl\"}], \"scattermapbox\": [{\"marker\": {\"colorbar\": {\"outlinewidth\": 0, \"ticks\": \"\"}}, \"type\": \"scattermapbox\"}], \"scatterpolar\": [{\"marker\": {\"colorbar\": {\"outlinewidth\": 0, \"ticks\": \"\"}}, \"type\": \"scatterpolar\"}], \"scatterpolargl\": [{\"marker\": {\"colorbar\": {\"outlinewidth\": 0, \"ticks\": \"\"}}, \"type\": \"scatterpolargl\"}], \"scatterternary\": [{\"marker\": {\"colorbar\": {\"outlinewidth\": 0, \"ticks\": \"\"}}, \"type\": \"scatterternary\"}], \"surface\": [{\"colorbar\": {\"outlinewidth\": 0, \"ticks\": \"\"}, \"colorscale\": [[0.0, \"#0d0887\"], [0.1111111111111111, \"#46039f\"], [0.2222222222222222, \"#7201a8\"], [0.3333333333333333, \"#9c179e\"], [0.4444444444444444, \"#bd3786\"], [0.5555555555555556, \"#d8576b\"], [0.6666666666666666, \"#ed7953\"], [0.7777777777777778, \"#fb9f3a\"], [0.8888888888888888, \"#fdca26\"], [1.0, \"#f0f921\"]], \"type\": \"surface\"}], \"table\": [{\"cells\": {\"fill\": {\"color\": \"#EBF0F8\"}, \"line\": {\"color\": \"white\"}}, \"header\": {\"fill\": {\"color\": \"#C8D4E3\"}, \"line\": {\"color\": \"white\"}}, \"type\": \"table\"}]}, \"layout\": {\"annotationdefaults\": {\"arrowcolor\": \"#2a3f5f\", \"arrowhead\": 0, \"arrowwidth\": 1}, \"colorscale\": {\"diverging\": [[0, \"#8e0152\"], [0.1, \"#c51b7d\"], [0.2, \"#de77ae\"], [0.3, \"#f1b6da\"], [0.4, \"#fde0ef\"], [0.5, \"#f7f7f7\"], [0.6, \"#e6f5d0\"], [0.7, \"#b8e186\"], [0.8, \"#7fbc41\"], [0.9, \"#4d9221\"], [1, \"#276419\"]], \"sequential\": [[0.0, \"#0d0887\"], [0.1111111111111111, \"#46039f\"], [0.2222222222222222, \"#7201a8\"], [0.3333333333333333, \"#9c179e\"], [0.4444444444444444, \"#bd3786\"], [0.5555555555555556, \"#d8576b\"], [0.6666666666666666, \"#ed7953\"], [0.7777777777777778, \"#fb9f3a\"], [0.8888888888888888, \"#fdca26\"], [1.0, \"#f0f921\"]], \"sequentialminus\": [[0.0, \"#0d0887\"], [0.1111111111111111, \"#46039f\"], [0.2222222222222222, \"#7201a8\"], [0.3333333333333333, \"#9c179e\"], [0.4444444444444444, \"#bd3786\"], [0.5555555555555556, \"#d8576b\"], [0.6666666666666666, \"#ed7953\"], [0.7777777777777778, \"#fb9f3a\"], [0.8888888888888888, \"#fdca26\"], [1.0, \"#f0f921\"]]}, \"colorway\": [\"#636efa\", \"#EF553B\", \"#00cc96\", \"#ab63fa\", \"#FFA15A\", \"#19d3f3\", \"#FF6692\", \"#B6E880\", \"#FF97FF\", \"#FECB52\"], \"font\": {\"color\": \"#2a3f5f\"}, \"geo\": {\"bgcolor\": \"white\", \"lakecolor\": \"white\", \"landcolor\": \"#E5ECF6\", \"showlakes\": true, \"showland\": true, \"subunitcolor\": \"white\"}, \"hoverlabel\": {\"align\": \"left\"}, \"hovermode\": \"closest\", \"mapbox\": {\"style\": \"light\"}, \"paper_bgcolor\": \"white\", \"plot_bgcolor\": \"#E5ECF6\", \"polar\": {\"angularaxis\": {\"gridcolor\": \"white\", \"linecolor\": \"white\", \"ticks\": \"\"}, \"bgcolor\": \"#E5ECF6\", \"radialaxis\": {\"gridcolor\": \"white\", \"linecolor\": \"white\", \"ticks\": \"\"}}, \"scene\": {\"xaxis\": {\"backgroundcolor\": \"#E5ECF6\", \"gridcolor\": \"white\", \"gridwidth\": 2, \"linecolor\": \"white\", \"showbackground\": true, \"ticks\": \"\", \"zerolinecolor\": \"white\"}, \"yaxis\": {\"backgroundcolor\": \"#E5ECF6\", \"gridcolor\": \"white\", \"gridwidth\": 2, \"linecolor\": \"white\", \"showbackground\": true, \"ticks\": \"\", \"zerolinecolor\": \"white\"}, \"zaxis\": {\"backgroundcolor\": \"#E5ECF6\", \"gridcolor\": \"white\", \"gridwidth\": 2, \"linecolor\": \"white\", \"showbackground\": true, \"ticks\": \"\", \"zerolinecolor\": \"white\"}}, \"shapedefaults\": {\"line\": {\"color\": \"#2a3f5f\"}}, \"ternary\": {\"aaxis\": {\"gridcolor\": \"white\", \"linecolor\": \"white\", \"ticks\": \"\"}, \"baxis\": {\"gridcolor\": \"white\", \"linecolor\": \"white\", \"ticks\": \"\"}, \"bgcolor\": \"#E5ECF6\", \"caxis\": {\"gridcolor\": \"white\", \"linecolor\": \"white\", \"ticks\": \"\"}}, \"title\": {\"x\": 0.05}, \"xaxis\": {\"automargin\": true, \"gridcolor\": \"white\", \"linecolor\": \"white\", \"ticks\": \"\", \"zerolinecolor\": \"white\", \"zerolinewidth\": 2}, \"yaxis\": {\"automargin\": true, \"gridcolor\": \"white\", \"linecolor\": \"white\", \"ticks\": \"\", \"zerolinecolor\": \"white\", \"zerolinewidth\": 2}}}, \"xaxis\": {\"anchor\": \"y\", \"domain\": [0.0, 0.45]}, \"xaxis10\": {\"anchor\": \"y10\", \"domain\": [0.55, 1.0], \"title\": {\"text\": \"Feature richness\"}}, \"xaxis2\": {\"anchor\": \"y2\", \"domain\": [0.55, 1.0], \"title\": {\"text\": \"Feature richness\"}}, \"xaxis3\": {\"anchor\": \"y3\", \"domain\": [0.0, 0.45]}, \"xaxis4\": {\"anchor\": \"y4\", \"domain\": [0.55, 1.0], \"title\": {\"text\": \"Feature richness\"}}, \"xaxis5\": {\"anchor\": \"y5\", \"domain\": [0.0, 0.45]}, \"xaxis6\": {\"anchor\": \"y6\", \"domain\": [0.55, 1.0], \"title\": {\"text\": \"Feature richness\"}}, \"xaxis7\": {\"anchor\": \"y7\", \"domain\": [0.0, 0.45]}, \"xaxis8\": {\"anchor\": \"y8\", \"domain\": [0.55, 1.0], \"title\": {\"text\": \"Feature richness\"}}, \"xaxis9\": {\"anchor\": \"y9\", \"domain\": [0.0, 0.45]}, \"yaxis\": {\"anchor\": \"x\", \"domain\": [0.848, 1.0], \"title\": {\"text\": \"Maximum depth\"}}, \"yaxis10\": {\"anchor\": \"x10\", \"domain\": [0.0, 0.152], \"title\": {\"text\": \"Subsample\"}}, \"yaxis2\": {\"anchor\": \"x2\", \"domain\": [0.848, 1.0], \"title\": {\"text\": \"Maximum depth\"}}, \"yaxis3\": {\"anchor\": \"x3\", \"domain\": [0.6359999999999999, 0.7879999999999999], \"title\": {\"text\": \"Learning rate\"}}, \"yaxis4\": {\"anchor\": \"x4\", \"domain\": [0.6359999999999999, 0.7879999999999999], \"title\": {\"text\": \"Learning rate\"}}, \"yaxis5\": {\"anchor\": \"x5\", \"domain\": [0.424, 0.576], \"title\": {\"text\": \"Number of trees\"}}, \"yaxis6\": {\"anchor\": \"x6\", \"domain\": [0.424, 0.576], \"title\": {\"text\": \"Number of trees\"}}, \"yaxis7\": {\"anchor\": \"x7\", \"domain\": [0.212, 0.364], \"title\": {\"text\": \"Minimum child weight\"}}, \"yaxis8\": {\"anchor\": \"x8\", \"domain\": [0.212, 0.364], \"title\": {\"text\": \"Minimum child weight\"}}, \"yaxis9\": {\"anchor\": \"x9\", \"domain\": [0.0, 0.152], \"title\": {\"text\": \"Subsample\"}}},\n",
       "                        {\"responsive\": true}\n",
       "                    ).then(function(){\n",
       "                            \n",
       "var gd = document.getElementById('59e96411-3c6a-48ca-b64e-39938fda4b6c');\n",
       "var x = new MutationObserver(function (mutations, observer) {{\n",
       "        var display = window.getComputedStyle(gd).display;\n",
       "        if (!display || display === 'none') {{\n",
       "            console.log([gd, 'removed!']);\n",
       "            Plotly.purge(gd);\n",
       "            observer.disconnect();\n",
       "        }}\n",
       "}});\n",
       "\n",
       "// Listen for the removal of the full notebook cells\n",
       "var notebookContainer = gd.closest('#notebook-container');\n",
       "if (notebookContainer) {{\n",
       "    x.observe(notebookContainer, {childList: true});\n",
       "}}\n",
       "\n",
       "// Listen for the clearing of the current output cell\n",
       "var outputEl = gd.closest('.output');\n",
       "if (outputEl) {{\n",
       "    x.observe(outputEl, {childList: true});\n",
       "}}\n",
       "\n",
       "                        })\n",
       "                };\n",
       "                });\n",
       "            </script>\n",
       "        </div>"
      ]
     },
     "metadata": {},
     "output_type": "display_data"
    }
   ],
   "source": [
    "# size - hyperparameters\n",
    "fig = make_subplots(\n",
    "    rows=5,\n",
    "    cols=2\n",
    ")\n",
    "\n",
    "# first row: size\n",
    "fig.add_trace(go.Box(y=df.loc[df['size'] == 8760]['max_depth'],name='Size = 8760', boxmean=True), row=1, col=1)\n",
    "fig.add_trace(go.Box(y=df.loc[df['size'] == 17520]['max_depth'],name='Size = 17520', boxmean=True), row=1, col=1)\n",
    "fig.update_yaxes(title_text='Maximum depth', row=1, col=1)\n",
    "\n",
    "fig.add_trace(go.Box(y=np.log10(df.loc[df['size'] == 8760]['learning_rate']),name='Size = 8760', boxmean=True), row=2, col=1)\n",
    "fig.add_trace(go.Box(y=np.log10(df.loc[df['size'] == 17520]['learning_rate']),name='Size = 17520', boxmean=True), row=2, col=1)\n",
    "fig.update_yaxes(title_text='Learning rate', row=2, col=1)\n",
    "\n",
    "fig.add_trace(go.Box(y=df.loc[df['size'] == 8760]['num_trees'],name='Size = 8760', boxmean=True), row=3, col=1)\n",
    "fig.add_trace(go.Box(y=df.loc[df['size'] == 17520]['num_trees'],name='Size = 17520', boxmean=True), row=3, col=1)\n",
    "fig.update_yaxes(title_text='Number of trees', row=3, col=1)\n",
    "\n",
    "fig.add_trace(go.Box(y=df.loc[df['size'] == 8760]['min_child_weight'],name='Size = 8760', boxmean=True), row=4, col=1)\n",
    "fig.add_trace(go.Box(y=df.loc[df['size'] == 17520]['min_child_weight'],name='Size = 17520', boxmean=True), row=4, col=1)\n",
    "fig.update_yaxes(title_text='Minimum child weight', row=4, col=1)\n",
    "\n",
    "fig.add_trace(go.Box(y=df.loc[df['size'] == 8760]['subsample'],name='Size = 8760', boxmean=True), row=5, col=1)\n",
    "fig.add_trace(go.Box(y=df.loc[df['size'] == 17520]['subsample'],name='Size = 17520', boxmean=True), row=5, col=1)\n",
    "fig.update_yaxes(title_text='Subsample', row=5, col=1)\n",
    "\n",
    "# second row: feature richness\n",
    "fig.add_trace(go.Scatter(y=df.loc[df['size'] == 8760]['max_depth'],x=df['pca_rank_cor'], mode='markers'),row=1,col=2)\n",
    "fig.add_trace(go.Scatter(y=df.loc[df['size'] == 17520]['max_depth'],x=df['pca_rank_cor'], mode='markers'),row=1,col=2)\n",
    "fig.update_yaxes(title_text='Maximum depth', row=1, col=2)\n",
    "fig.update_xaxes(title_text='Feature richness', row=1, col=2)\n",
    "\n",
    "fig.add_trace(go.Scatter(y=df.loc[df['size'] == 8760]['learning_rate'],x=df['pca_rank_cor'], mode='markers'),row=2,col=2)\n",
    "fig.add_trace(go.Scatter(y=df.loc[df['size'] == 17520]['learning_rate'],x=df['pca_rank_cor'], mode='markers'),row=2,col=2)\n",
    "fig.update_yaxes(title_text='Learning rate', row=2, col=2)\n",
    "fig.update_xaxes(title_text='Feature richness', row=2, col=2)\n",
    "\n",
    "fig.add_trace(go.Scatter(y=df.loc[df['size'] == 8760]['num_trees'],x=df['pca_rank_cor'], mode='markers'),row=3,col=2)\n",
    "fig.add_trace(go.Scatter(y=df.loc[df['size'] == 17520]['num_trees'],x=df['pca_rank_cor'], mode='markers'),row=3,col=2)\n",
    "fig.update_yaxes(title_text='Number of trees', row=3, col=2)\n",
    "fig.update_xaxes(title_text='Feature richness', row=3, col=2)\n",
    "\n",
    "fig.add_trace(go.Scatter(y=df.loc[df['size'] == 8760]['min_child_weight'],x=df['pca_rank_cor'], mode='markers'),row=4,col=2)\n",
    "fig.add_trace(go.Scatter(y=df.loc[df['size'] == 17520]['min_child_weight'],x=df['pca_rank_cor'], mode='markers'),row=4,col=2)\n",
    "fig.update_yaxes(title_text='Minimum child weight', row=4, col=2)\n",
    "fig.update_xaxes(title_text='Feature richness', row=4, col=2)\n",
    "\n",
    "# fig.add_trace(go.Scatter(y=df['min_child_weight'],x=df['pca_rank_cor'], mode='markers'),row=5,col=2)\n",
    "fig.add_trace(go.Scatter(y=df.loc[df['size'] == 17520]['subsample'],x=df['pca_rank_cor'], mode='markers'),row=5,col=2)\n",
    "fig.add_trace(go.Scatter(y=df.loc[df['size'] == 8760]['subsample'],x=df['pca_rank_cor'], mode='markers'),row=5,col=2)\n",
    "fig.update_yaxes(title_text='Subsample', row=5, col=2)\n",
    "fig.update_xaxes(title_text='Feature richness', row=5, col=2)\n",
    "\n",
    "fig.update_layout(\n",
    "    showlegend=False,\n",
    "    height=1200\n",
    ")\n",
    "\n",
    "fig.show()"
   ]
  },
  {
   "cell_type": "code",
   "execution_count": 20,
   "metadata": {},
   "outputs": [
    {
     "data": {
      "text/html": [
       "<div>\n",
       "<style scoped>\n",
       "    .dataframe tbody tr th:only-of-type {\n",
       "        vertical-align: middle;\n",
       "    }\n",
       "\n",
       "    .dataframe tbody tr th {\n",
       "        vertical-align: top;\n",
       "    }\n",
       "\n",
       "    .dataframe thead th {\n",
       "        text-align: right;\n",
       "    }\n",
       "</style>\n",
       "<table border=\"1\" class=\"dataframe\">\n",
       "  <thead>\n",
       "    <tr style=\"text-align: right;\">\n",
       "      <th></th>\n",
       "      <th>size</th>\n",
       "      <th>pca_rank_cor</th>\n",
       "      <th>max_depth</th>\n",
       "      <th>learning_rate</th>\n",
       "      <th>num_trees</th>\n",
       "      <th>min_child_weight</th>\n",
       "      <th>subsample</th>\n",
       "    </tr>\n",
       "  </thead>\n",
       "  <tbody>\n",
       "    <tr>\n",
       "      <td>COAST_box_17520</td>\n",
       "      <td>17520.0</td>\n",
       "      <td>0.043341</td>\n",
       "      <td>14.0</td>\n",
       "      <td>0.005275</td>\n",
       "      <td>520.0</td>\n",
       "      <td>5.0</td>\n",
       "      <td>0.75</td>\n",
       "    </tr>\n",
       "    <tr>\n",
       "      <td>COAST_box_8760</td>\n",
       "      <td>8760.0</td>\n",
       "      <td>0.043910</td>\n",
       "      <td>14.0</td>\n",
       "      <td>0.008799</td>\n",
       "      <td>380.0</td>\n",
       "      <td>5.0</td>\n",
       "      <td>0.75</td>\n",
       "    </tr>\n",
       "    <tr>\n",
       "      <td>COAST_diff_17520</td>\n",
       "      <td>17520.0</td>\n",
       "      <td>0.174295</td>\n",
       "      <td>11.0</td>\n",
       "      <td>0.005275</td>\n",
       "      <td>800.0</td>\n",
       "      <td>22.5</td>\n",
       "      <td>0.50</td>\n",
       "    </tr>\n",
       "    <tr>\n",
       "      <td>COAST_diff_8760</td>\n",
       "      <td>8760.0</td>\n",
       "      <td>0.170884</td>\n",
       "      <td>9.0</td>\n",
       "      <td>0.005275</td>\n",
       "      <td>660.0</td>\n",
       "      <td>5.0</td>\n",
       "      <td>0.50</td>\n",
       "    </tr>\n",
       "    <tr>\n",
       "      <td>EAST_box_17520</td>\n",
       "      <td>17520.0</td>\n",
       "      <td>0.047605</td>\n",
       "      <td>7.0</td>\n",
       "      <td>0.008799</td>\n",
       "      <td>660.0</td>\n",
       "      <td>5.0</td>\n",
       "      <td>1.00</td>\n",
       "    </tr>\n",
       "    <tr>\n",
       "      <td>EAST_box_8760</td>\n",
       "      <td>8760.0</td>\n",
       "      <td>0.051555</td>\n",
       "      <td>11.0</td>\n",
       "      <td>0.005275</td>\n",
       "      <td>520.0</td>\n",
       "      <td>22.5</td>\n",
       "      <td>0.75</td>\n",
       "    </tr>\n",
       "    <tr>\n",
       "      <td>EAST_diff_17520</td>\n",
       "      <td>17520.0</td>\n",
       "      <td>0.133211</td>\n",
       "      <td>9.0</td>\n",
       "      <td>0.014678</td>\n",
       "      <td>380.0</td>\n",
       "      <td>22.5</td>\n",
       "      <td>0.75</td>\n",
       "    </tr>\n",
       "    <tr>\n",
       "      <td>EAST_diff_8760</td>\n",
       "      <td>8760.0</td>\n",
       "      <td>0.132001</td>\n",
       "      <td>7.0</td>\n",
       "      <td>0.005275</td>\n",
       "      <td>800.0</td>\n",
       "      <td>5.0</td>\n",
       "      <td>0.50</td>\n",
       "    </tr>\n",
       "    <tr>\n",
       "      <td>FARWEST_box_17520</td>\n",
       "      <td>17520.0</td>\n",
       "      <td>0.054972</td>\n",
       "      <td>11.0</td>\n",
       "      <td>0.008799</td>\n",
       "      <td>520.0</td>\n",
       "      <td>5.0</td>\n",
       "      <td>0.75</td>\n",
       "    </tr>\n",
       "    <tr>\n",
       "      <td>FARWEST_box_8760</td>\n",
       "      <td>8760.0</td>\n",
       "      <td>0.058895</td>\n",
       "      <td>11.0</td>\n",
       "      <td>0.008799</td>\n",
       "      <td>380.0</td>\n",
       "      <td>5.0</td>\n",
       "      <td>0.75</td>\n",
       "    </tr>\n",
       "    <tr>\n",
       "      <td>FARWEST_diff_17520</td>\n",
       "      <td>17520.0</td>\n",
       "      <td>0.136156</td>\n",
       "      <td>18.0</td>\n",
       "      <td>0.005275</td>\n",
       "      <td>800.0</td>\n",
       "      <td>22.5</td>\n",
       "      <td>0.50</td>\n",
       "    </tr>\n",
       "    <tr>\n",
       "      <td>FARWEST_diff_8760</td>\n",
       "      <td>8760.0</td>\n",
       "      <td>0.130020</td>\n",
       "      <td>11.0</td>\n",
       "      <td>0.008799</td>\n",
       "      <td>380.0</td>\n",
       "      <td>22.5</td>\n",
       "      <td>0.50</td>\n",
       "    </tr>\n",
       "    <tr>\n",
       "      <td>NORTHC_box_17520</td>\n",
       "      <td>17520.0</td>\n",
       "      <td>0.036613</td>\n",
       "      <td>11.0</td>\n",
       "      <td>0.014678</td>\n",
       "      <td>380.0</td>\n",
       "      <td>5.0</td>\n",
       "      <td>0.75</td>\n",
       "    </tr>\n",
       "    <tr>\n",
       "      <td>NORTHC_box_8760</td>\n",
       "      <td>8760.0</td>\n",
       "      <td>0.037602</td>\n",
       "      <td>14.0</td>\n",
       "      <td>0.003162</td>\n",
       "      <td>800.0</td>\n",
       "      <td>5.0</td>\n",
       "      <td>0.75</td>\n",
       "    </tr>\n",
       "    <tr>\n",
       "      <td>NORTHC_diff_17520</td>\n",
       "      <td>17520.0</td>\n",
       "      <td>0.137704</td>\n",
       "      <td>18.0</td>\n",
       "      <td>0.014678</td>\n",
       "      <td>240.0</td>\n",
       "      <td>22.5</td>\n",
       "      <td>0.75</td>\n",
       "    </tr>\n",
       "    <tr>\n",
       "      <td>NORTHC_diff_8760</td>\n",
       "      <td>8760.0</td>\n",
       "      <td>0.133519</td>\n",
       "      <td>9.0</td>\n",
       "      <td>0.014678</td>\n",
       "      <td>240.0</td>\n",
       "      <td>5.0</td>\n",
       "      <td>0.50</td>\n",
       "    </tr>\n",
       "    <tr>\n",
       "      <td>NORTH_box_17520</td>\n",
       "      <td>17520.0</td>\n",
       "      <td>0.048759</td>\n",
       "      <td>11.0</td>\n",
       "      <td>0.005275</td>\n",
       "      <td>800.0</td>\n",
       "      <td>5.0</td>\n",
       "      <td>0.75</td>\n",
       "    </tr>\n",
       "    <tr>\n",
       "      <td>NORTH_box_8760</td>\n",
       "      <td>8760.0</td>\n",
       "      <td>0.046323</td>\n",
       "      <td>11.0</td>\n",
       "      <td>0.024484</td>\n",
       "      <td>100.0</td>\n",
       "      <td>5.0</td>\n",
       "      <td>0.75</td>\n",
       "    </tr>\n",
       "    <tr>\n",
       "      <td>NORTH_diff_17520</td>\n",
       "      <td>17520.0</td>\n",
       "      <td>0.122575</td>\n",
       "      <td>16.0</td>\n",
       "      <td>0.005275</td>\n",
       "      <td>520.0</td>\n",
       "      <td>22.5</td>\n",
       "      <td>0.50</td>\n",
       "    </tr>\n",
       "    <tr>\n",
       "      <td>NORTH_diff_8760</td>\n",
       "      <td>8760.0</td>\n",
       "      <td>0.114363</td>\n",
       "      <td>9.0</td>\n",
       "      <td>0.008799</td>\n",
       "      <td>380.0</td>\n",
       "      <td>5.0</td>\n",
       "      <td>0.50</td>\n",
       "    </tr>\n",
       "    <tr>\n",
       "      <td>SOUTHC_box_17520</td>\n",
       "      <td>17520.0</td>\n",
       "      <td>0.040586</td>\n",
       "      <td>14.0</td>\n",
       "      <td>0.003162</td>\n",
       "      <td>800.0</td>\n",
       "      <td>5.0</td>\n",
       "      <td>0.75</td>\n",
       "    </tr>\n",
       "    <tr>\n",
       "      <td>SOUTHC_box_8760</td>\n",
       "      <td>8760.0</td>\n",
       "      <td>0.038444</td>\n",
       "      <td>14.0</td>\n",
       "      <td>0.003162</td>\n",
       "      <td>800.0</td>\n",
       "      <td>5.0</td>\n",
       "      <td>0.75</td>\n",
       "    </tr>\n",
       "    <tr>\n",
       "      <td>SOUTHC_diff_17520</td>\n",
       "      <td>17520.0</td>\n",
       "      <td>0.152160</td>\n",
       "      <td>11.0</td>\n",
       "      <td>0.005275</td>\n",
       "      <td>800.0</td>\n",
       "      <td>5.0</td>\n",
       "      <td>0.50</td>\n",
       "    </tr>\n",
       "    <tr>\n",
       "      <td>SOUTHC_diff_8760</td>\n",
       "      <td>8760.0</td>\n",
       "      <td>0.149242</td>\n",
       "      <td>9.0</td>\n",
       "      <td>0.014678</td>\n",
       "      <td>240.0</td>\n",
       "      <td>5.0</td>\n",
       "      <td>0.50</td>\n",
       "    </tr>\n",
       "    <tr>\n",
       "      <td>SOUTHERN_box_17520</td>\n",
       "      <td>17520.0</td>\n",
       "      <td>0.062506</td>\n",
       "      <td>14.0</td>\n",
       "      <td>0.003162</td>\n",
       "      <td>800.0</td>\n",
       "      <td>5.0</td>\n",
       "      <td>0.75</td>\n",
       "    </tr>\n",
       "    <tr>\n",
       "      <td>SOUTHERN_box_8760</td>\n",
       "      <td>8760.0</td>\n",
       "      <td>0.065454</td>\n",
       "      <td>14.0</td>\n",
       "      <td>0.003162</td>\n",
       "      <td>800.0</td>\n",
       "      <td>5.0</td>\n",
       "      <td>0.75</td>\n",
       "    </tr>\n",
       "    <tr>\n",
       "      <td>SOUTHERN_diff_17520</td>\n",
       "      <td>17520.0</td>\n",
       "      <td>0.169859</td>\n",
       "      <td>18.0</td>\n",
       "      <td>0.014678</td>\n",
       "      <td>240.0</td>\n",
       "      <td>22.5</td>\n",
       "      <td>0.50</td>\n",
       "    </tr>\n",
       "    <tr>\n",
       "      <td>SOUTHERN_diff_8760</td>\n",
       "      <td>8760.0</td>\n",
       "      <td>0.167615</td>\n",
       "      <td>9.0</td>\n",
       "      <td>0.014678</td>\n",
       "      <td>380.0</td>\n",
       "      <td>5.0</td>\n",
       "      <td>0.75</td>\n",
       "    </tr>\n",
       "    <tr>\n",
       "      <td>WEST_box_17520</td>\n",
       "      <td>17520.0</td>\n",
       "      <td>0.044852</td>\n",
       "      <td>11.0</td>\n",
       "      <td>0.014678</td>\n",
       "      <td>520.0</td>\n",
       "      <td>22.5</td>\n",
       "      <td>1.00</td>\n",
       "    </tr>\n",
       "    <tr>\n",
       "      <td>WEST_box_8760</td>\n",
       "      <td>8760.0</td>\n",
       "      <td>0.048207</td>\n",
       "      <td>14.0</td>\n",
       "      <td>0.003162</td>\n",
       "      <td>660.0</td>\n",
       "      <td>5.0</td>\n",
       "      <td>0.75</td>\n",
       "    </tr>\n",
       "    <tr>\n",
       "      <td>WEST_diff_17520</td>\n",
       "      <td>17520.0</td>\n",
       "      <td>0.138718</td>\n",
       "      <td>18.0</td>\n",
       "      <td>0.005275</td>\n",
       "      <td>660.0</td>\n",
       "      <td>22.5</td>\n",
       "      <td>0.50</td>\n",
       "    </tr>\n",
       "    <tr>\n",
       "      <td>WEST_diff_8760</td>\n",
       "      <td>8760.0</td>\n",
       "      <td>0.135306</td>\n",
       "      <td>9.0</td>\n",
       "      <td>0.008799</td>\n",
       "      <td>380.0</td>\n",
       "      <td>5.0</td>\n",
       "      <td>0.50</td>\n",
       "    </tr>\n",
       "  </tbody>\n",
       "</table>\n",
       "</div>"
      ],
      "text/plain": [
       "                        size  pca_rank_cor  max_depth  learning_rate  \\\n",
       "COAST_box_17520      17520.0      0.043341       14.0       0.005275   \n",
       "COAST_box_8760        8760.0      0.043910       14.0       0.008799   \n",
       "COAST_diff_17520     17520.0      0.174295       11.0       0.005275   \n",
       "COAST_diff_8760       8760.0      0.170884        9.0       0.005275   \n",
       "EAST_box_17520       17520.0      0.047605        7.0       0.008799   \n",
       "EAST_box_8760         8760.0      0.051555       11.0       0.005275   \n",
       "EAST_diff_17520      17520.0      0.133211        9.0       0.014678   \n",
       "EAST_diff_8760        8760.0      0.132001        7.0       0.005275   \n",
       "FARWEST_box_17520    17520.0      0.054972       11.0       0.008799   \n",
       "FARWEST_box_8760      8760.0      0.058895       11.0       0.008799   \n",
       "FARWEST_diff_17520   17520.0      0.136156       18.0       0.005275   \n",
       "FARWEST_diff_8760     8760.0      0.130020       11.0       0.008799   \n",
       "NORTHC_box_17520     17520.0      0.036613       11.0       0.014678   \n",
       "NORTHC_box_8760       8760.0      0.037602       14.0       0.003162   \n",
       "NORTHC_diff_17520    17520.0      0.137704       18.0       0.014678   \n",
       "NORTHC_diff_8760      8760.0      0.133519        9.0       0.014678   \n",
       "NORTH_box_17520      17520.0      0.048759       11.0       0.005275   \n",
       "NORTH_box_8760        8760.0      0.046323       11.0       0.024484   \n",
       "NORTH_diff_17520     17520.0      0.122575       16.0       0.005275   \n",
       "NORTH_diff_8760       8760.0      0.114363        9.0       0.008799   \n",
       "SOUTHC_box_17520     17520.0      0.040586       14.0       0.003162   \n",
       "SOUTHC_box_8760       8760.0      0.038444       14.0       0.003162   \n",
       "SOUTHC_diff_17520    17520.0      0.152160       11.0       0.005275   \n",
       "SOUTHC_diff_8760      8760.0      0.149242        9.0       0.014678   \n",
       "SOUTHERN_box_17520   17520.0      0.062506       14.0       0.003162   \n",
       "SOUTHERN_box_8760     8760.0      0.065454       14.0       0.003162   \n",
       "SOUTHERN_diff_17520  17520.0      0.169859       18.0       0.014678   \n",
       "SOUTHERN_diff_8760    8760.0      0.167615        9.0       0.014678   \n",
       "WEST_box_17520       17520.0      0.044852       11.0       0.014678   \n",
       "WEST_box_8760         8760.0      0.048207       14.0       0.003162   \n",
       "WEST_diff_17520      17520.0      0.138718       18.0       0.005275   \n",
       "WEST_diff_8760        8760.0      0.135306        9.0       0.008799   \n",
       "\n",
       "                     num_trees  min_child_weight  subsample  \n",
       "COAST_box_17520          520.0               5.0       0.75  \n",
       "COAST_box_8760           380.0               5.0       0.75  \n",
       "COAST_diff_17520         800.0              22.5       0.50  \n",
       "COAST_diff_8760          660.0               5.0       0.50  \n",
       "EAST_box_17520           660.0               5.0       1.00  \n",
       "EAST_box_8760            520.0              22.5       0.75  \n",
       "EAST_diff_17520          380.0              22.5       0.75  \n",
       "EAST_diff_8760           800.0               5.0       0.50  \n",
       "FARWEST_box_17520        520.0               5.0       0.75  \n",
       "FARWEST_box_8760         380.0               5.0       0.75  \n",
       "FARWEST_diff_17520       800.0              22.5       0.50  \n",
       "FARWEST_diff_8760        380.0              22.5       0.50  \n",
       "NORTHC_box_17520         380.0               5.0       0.75  \n",
       "NORTHC_box_8760          800.0               5.0       0.75  \n",
       "NORTHC_diff_17520        240.0              22.5       0.75  \n",
       "NORTHC_diff_8760         240.0               5.0       0.50  \n",
       "NORTH_box_17520          800.0               5.0       0.75  \n",
       "NORTH_box_8760           100.0               5.0       0.75  \n",
       "NORTH_diff_17520         520.0              22.5       0.50  \n",
       "NORTH_diff_8760          380.0               5.0       0.50  \n",
       "SOUTHC_box_17520         800.0               5.0       0.75  \n",
       "SOUTHC_box_8760          800.0               5.0       0.75  \n",
       "SOUTHC_diff_17520        800.0               5.0       0.50  \n",
       "SOUTHC_diff_8760         240.0               5.0       0.50  \n",
       "SOUTHERN_box_17520       800.0               5.0       0.75  \n",
       "SOUTHERN_box_8760        800.0               5.0       0.75  \n",
       "SOUTHERN_diff_17520      240.0              22.5       0.50  \n",
       "SOUTHERN_diff_8760       380.0               5.0       0.75  \n",
       "WEST_box_17520           520.0              22.5       1.00  \n",
       "WEST_box_8760            660.0               5.0       0.75  \n",
       "WEST_diff_17520          660.0              22.5       0.50  \n",
       "WEST_diff_8760           380.0               5.0       0.50  "
      ]
     },
     "execution_count": 20,
     "metadata": {},
     "output_type": "execute_result"
    }
   ],
   "source": [
    "df"
   ]
  },
  {
   "cell_type": "code",
   "execution_count": 25,
   "metadata": {},
   "outputs": [
    {
     "data": {
      "application/vnd.plotly.v1+json": {
       "config": {
        "plotlyServerURL": "https://plot.ly"
       },
       "data": [
        {
         "boxmean": true,
         "name": "Size = 8760",
         "type": "box",
         "xaxis": "x",
         "y": [
          14,
          9,
          11,
          7,
          11,
          11,
          14,
          9,
          11,
          9,
          14,
          9,
          14,
          9,
          14,
          9
         ],
         "yaxis": "y"
        },
        {
         "boxmean": true,
         "name": "Size = 17520",
         "type": "box",
         "xaxis": "x",
         "y": [
          14,
          11,
          7,
          9,
          11,
          18,
          11,
          18,
          11,
          16,
          14,
          11,
          14,
          18,
          11,
          18
         ],
         "yaxis": "y"
        },
        {
         "boxmean": true,
         "name": "Size = 8760",
         "type": "box",
         "xaxis": "x3",
         "y": [
          -2.0555555555555554,
          -2.2777777777777777,
          -2.2777777777777777,
          -2.2777777777777777,
          -2.0555555555555554,
          -2.0555555555555554,
          -2.5,
          -1.8333333333333335,
          -1.6111111111111112,
          -2.0555555555555554,
          -2.5,
          -1.8333333333333335,
          -2.5,
          -1.8333333333333335,
          -2.5,
          -2.0555555555555554
         ],
         "yaxis": "y3"
        },
        {
         "boxmean": true,
         "name": "Size = 17520",
         "type": "box",
         "xaxis": "x3",
         "y": [
          -2.2777777777777777,
          -2.2777777777777777,
          -2.0555555555555554,
          -1.8333333333333335,
          -2.0555555555555554,
          -2.2777777777777777,
          -1.8333333333333335,
          -1.8333333333333335,
          -2.2777777777777777,
          -2.2777777777777777,
          -2.5,
          -2.2777777777777777,
          -2.5,
          -1.8333333333333335,
          -1.8333333333333335,
          -2.2777777777777777
         ],
         "yaxis": "y3"
        },
        {
         "boxmean": true,
         "name": "Size = 8760",
         "type": "box",
         "xaxis": "x5",
         "y": [
          380,
          660,
          520,
          800,
          380,
          380,
          800,
          240,
          100,
          380,
          800,
          240,
          800,
          380,
          660,
          380
         ],
         "yaxis": "y5"
        },
        {
         "boxmean": true,
         "name": "Size = 17520",
         "type": "box",
         "xaxis": "x5",
         "y": [
          520,
          800,
          660,
          380,
          520,
          800,
          380,
          240,
          800,
          520,
          800,
          800,
          800,
          240,
          520,
          660
         ],
         "yaxis": "y5"
        },
        {
         "boxmean": true,
         "name": "Size = 8760",
         "type": "box",
         "xaxis": "x7",
         "y": [
          5,
          5,
          22.5,
          5,
          5,
          22.5,
          5,
          5,
          5,
          5,
          5,
          5,
          5,
          5,
          5,
          5
         ],
         "yaxis": "y7"
        },
        {
         "boxmean": true,
         "name": "Size = 17520",
         "type": "box",
         "xaxis": "x7",
         "y": [
          5,
          22.5,
          5,
          22.5,
          5,
          22.5,
          5,
          22.5,
          5,
          22.5,
          5,
          5,
          5,
          22.5,
          22.5,
          22.5
         ],
         "yaxis": "y7"
        },
        {
         "boxmean": true,
         "name": "Size = 8760",
         "type": "box",
         "xaxis": "x9",
         "y": [
          0.75,
          0.5,
          0.75,
          0.5,
          0.75,
          0.5,
          0.75,
          0.5,
          0.75,
          0.5,
          0.75,
          0.5,
          0.75,
          0.75,
          0.75,
          0.5
         ],
         "yaxis": "y9"
        },
        {
         "boxmean": true,
         "name": "Size = 17520",
         "type": "box",
         "xaxis": "x9",
         "y": [
          0.75,
          0.5,
          1,
          0.75,
          0.75,
          0.5,
          0.75,
          0.75,
          0.75,
          0.5,
          0.75,
          0.5,
          0.75,
          0.5,
          1,
          0.5
         ],
         "yaxis": "y9"
        },
        {
         "mode": "markers",
         "type": "scatter",
         "x": [
          0.04334059028794689,
          0.04391002846159395,
          0.1742950289319662,
          0.17088399133344986,
          0.04760451253331445,
          0.0515548990724462,
          0.13321103149244717,
          0.1320012767072899,
          0.054971781696046815,
          0.058894662958050945,
          0.1361557294250355,
          0.13001995814154949,
          0.03661302448939458,
          0.03760171597487407,
          0.13770448419074494,
          0.13351931866568495,
          0.04875882362313011,
          0.04632348961927948,
          0.12257515652780968,
          0.11436333754703872,
          0.04058584108322523,
          0.03844440585830611,
          0.1521603469725592,
          0.1492418647754497,
          0.06250562668359318,
          0.06545425684020391,
          0.1698587442622334,
          0.16761516097623888,
          0.044852036768503425,
          0.04820707974614305,
          0.13871783695821072,
          0.13530592515832152
         ],
         "xaxis": "x2",
         "y": [
          14,
          14,
          11,
          9,
          7,
          11,
          9,
          7,
          11,
          11,
          18,
          11,
          11,
          14,
          18,
          9,
          11,
          11,
          16,
          9,
          14,
          14,
          11,
          9,
          14,
          14,
          18,
          9,
          11,
          14,
          18,
          9
         ],
         "yaxis": "y2"
        },
        {
         "mode": "markers",
         "type": "scatter",
         "x": [
          0.04334059028794689,
          0.04391002846159395,
          0.1742950289319662,
          0.17088399133344986,
          0.04760451253331445,
          0.0515548990724462,
          0.13321103149244717,
          0.1320012767072899,
          0.054971781696046815,
          0.058894662958050945,
          0.1361557294250355,
          0.13001995814154949,
          0.03661302448939458,
          0.03760171597487407,
          0.13770448419074494,
          0.13351931866568495,
          0.04875882362313011,
          0.04632348961927948,
          0.12257515652780968,
          0.11436333754703872,
          0.04058584108322523,
          0.03844440585830611,
          0.1521603469725592,
          0.1492418647754497,
          0.06250562668359318,
          0.06545425684020391,
          0.1698587442622334,
          0.16761516097623888,
          0.044852036768503425,
          0.04820707974614305,
          0.13871783695821072,
          0.13530592515832152
         ],
         "xaxis": "x4",
         "y": [
          0.005274997063702621,
          0.008799225435691074,
          0.0052749970637026205,
          0.0052749970637026205,
          0.008799225435691074,
          0.0052749970637026205,
          0.014677992676220691,
          0.0052749970637026205,
          0.008799225435691074,
          0.008799225435691074,
          0.0052749970637026205,
          0.008799225435691074,
          0.014677992676220691,
          0.00316227766016838,
          0.014677992676220691,
          0.014677992676220691,
          0.0052749970637026205,
          0.024484367468222263,
          0.0052749970637026205,
          0.008799225435691074,
          0.00316227766016838,
          0.00316227766016838,
          0.0052749970637026205,
          0.014677992676220691,
          0.00316227766016838,
          0.00316227766016838,
          0.014677992676220691,
          0.014677992676220691,
          0.014677992676220691,
          0.00316227766016838,
          0.0052749970637026205,
          0.008799225435691074
         ],
         "yaxis": "y4"
        },
        {
         "mode": "markers",
         "type": "scatter",
         "x": [
          0.04334059028794689,
          0.04391002846159395,
          0.1742950289319662,
          0.17088399133344986,
          0.04760451253331445,
          0.0515548990724462,
          0.13321103149244717,
          0.1320012767072899,
          0.054971781696046815,
          0.058894662958050945,
          0.1361557294250355,
          0.13001995814154949,
          0.03661302448939458,
          0.03760171597487407,
          0.13770448419074494,
          0.13351931866568495,
          0.04875882362313011,
          0.04632348961927948,
          0.12257515652780968,
          0.11436333754703872,
          0.04058584108322523,
          0.03844440585830611,
          0.1521603469725592,
          0.1492418647754497,
          0.06250562668359318,
          0.06545425684020391,
          0.1698587442622334,
          0.16761516097623888,
          0.044852036768503425,
          0.04820707974614305,
          0.13871783695821072,
          0.13530592515832152
         ],
         "xaxis": "x6",
         "y": [
          520,
          380,
          800,
          660,
          660,
          520,
          380,
          800,
          520,
          380,
          800,
          380,
          380,
          800,
          240,
          240,
          800,
          100,
          520,
          380,
          800,
          800,
          800,
          240,
          800,
          800,
          240,
          380,
          520,
          660,
          660,
          380
         ],
         "yaxis": "y6"
        },
        {
         "mode": "markers",
         "type": "scatter",
         "x": [
          0.04334059028794689,
          0.04391002846159395,
          0.1742950289319662,
          0.17088399133344986,
          0.04760451253331445,
          0.0515548990724462,
          0.13321103149244717,
          0.1320012767072899,
          0.054971781696046815,
          0.058894662958050945,
          0.1361557294250355,
          0.13001995814154949,
          0.03661302448939458,
          0.03760171597487407,
          0.13770448419074494,
          0.13351931866568495,
          0.04875882362313011,
          0.04632348961927948,
          0.12257515652780968,
          0.11436333754703872,
          0.04058584108322523,
          0.03844440585830611,
          0.1521603469725592,
          0.1492418647754497,
          0.06250562668359318,
          0.06545425684020391,
          0.1698587442622334,
          0.16761516097623888,
          0.044852036768503425,
          0.04820707974614305,
          0.13871783695821072,
          0.13530592515832152
         ],
         "xaxis": "x8",
         "y": [
          5,
          5,
          22.5,
          5,
          5,
          22.5,
          22.5,
          5,
          5,
          5,
          22.5,
          22.5,
          5,
          5,
          22.5,
          5,
          5,
          5,
          22.5,
          5,
          5,
          5,
          5,
          5,
          5,
          5,
          22.5,
          5,
          22.5,
          5,
          22.5,
          5
         ],
         "yaxis": "y8"
        },
        {
         "mode": "markers",
         "type": "scatter",
         "x": [
          0.04334059028794689,
          0.04391002846159395,
          0.1742950289319662,
          0.17088399133344986,
          0.04760451253331445,
          0.0515548990724462,
          0.13321103149244717,
          0.1320012767072899,
          0.054971781696046815,
          0.058894662958050945,
          0.1361557294250355,
          0.13001995814154949,
          0.03661302448939458,
          0.03760171597487407,
          0.13770448419074494,
          0.13351931866568495,
          0.04875882362313011,
          0.04632348961927948,
          0.12257515652780968,
          0.11436333754703872,
          0.04058584108322523,
          0.03844440585830611,
          0.1521603469725592,
          0.1492418647754497,
          0.06250562668359318,
          0.06545425684020391,
          0.1698587442622334,
          0.16761516097623888,
          0.044852036768503425,
          0.04820707974614305,
          0.13871783695821072,
          0.13530592515832152
         ],
         "xaxis": "x10",
         "y": [
          0.75,
          0.75,
          0.5,
          0.5,
          1,
          0.75,
          0.75,
          0.5,
          0.75,
          0.75,
          0.5,
          0.5,
          0.75,
          0.75,
          0.75,
          0.5,
          0.75,
          0.75,
          0.5,
          0.5,
          0.75,
          0.75,
          0.5,
          0.5,
          0.75,
          0.75,
          0.5,
          0.75,
          1,
          0.75,
          0.5,
          0.5
         ],
         "yaxis": "y10"
        }
       ],
       "layout": {
        "autosize": true,
        "showlegend": false,
        "template": {
         "data": {
          "bar": [
           {
            "error_x": {
             "color": "#2a3f5f"
            },
            "error_y": {
             "color": "#2a3f5f"
            },
            "marker": {
             "line": {
              "color": "#E5ECF6",
              "width": 0.5
             }
            },
            "type": "bar"
           }
          ],
          "barpolar": [
           {
            "marker": {
             "line": {
              "color": "#E5ECF6",
              "width": 0.5
             }
            },
            "type": "barpolar"
           }
          ],
          "carpet": [
           {
            "aaxis": {
             "endlinecolor": "#2a3f5f",
             "gridcolor": "white",
             "linecolor": "white",
             "minorgridcolor": "white",
             "startlinecolor": "#2a3f5f"
            },
            "baxis": {
             "endlinecolor": "#2a3f5f",
             "gridcolor": "white",
             "linecolor": "white",
             "minorgridcolor": "white",
             "startlinecolor": "#2a3f5f"
            },
            "type": "carpet"
           }
          ],
          "choropleth": [
           {
            "colorbar": {
             "outlinewidth": 0,
             "ticks": ""
            },
            "type": "choropleth"
           }
          ],
          "contour": [
           {
            "colorbar": {
             "outlinewidth": 0,
             "ticks": ""
            },
            "colorscale": [
             [
              0,
              "#0d0887"
             ],
             [
              0.1111111111111111,
              "#46039f"
             ],
             [
              0.2222222222222222,
              "#7201a8"
             ],
             [
              0.3333333333333333,
              "#9c179e"
             ],
             [
              0.4444444444444444,
              "#bd3786"
             ],
             [
              0.5555555555555556,
              "#d8576b"
             ],
             [
              0.6666666666666666,
              "#ed7953"
             ],
             [
              0.7777777777777778,
              "#fb9f3a"
             ],
             [
              0.8888888888888888,
              "#fdca26"
             ],
             [
              1,
              "#f0f921"
             ]
            ],
            "type": "contour"
           }
          ],
          "contourcarpet": [
           {
            "colorbar": {
             "outlinewidth": 0,
             "ticks": ""
            },
            "type": "contourcarpet"
           }
          ],
          "heatmap": [
           {
            "colorbar": {
             "outlinewidth": 0,
             "ticks": ""
            },
            "colorscale": [
             [
              0,
              "#0d0887"
             ],
             [
              0.1111111111111111,
              "#46039f"
             ],
             [
              0.2222222222222222,
              "#7201a8"
             ],
             [
              0.3333333333333333,
              "#9c179e"
             ],
             [
              0.4444444444444444,
              "#bd3786"
             ],
             [
              0.5555555555555556,
              "#d8576b"
             ],
             [
              0.6666666666666666,
              "#ed7953"
             ],
             [
              0.7777777777777778,
              "#fb9f3a"
             ],
             [
              0.8888888888888888,
              "#fdca26"
             ],
             [
              1,
              "#f0f921"
             ]
            ],
            "type": "heatmap"
           }
          ],
          "heatmapgl": [
           {
            "colorbar": {
             "outlinewidth": 0,
             "ticks": ""
            },
            "colorscale": [
             [
              0,
              "#0d0887"
             ],
             [
              0.1111111111111111,
              "#46039f"
             ],
             [
              0.2222222222222222,
              "#7201a8"
             ],
             [
              0.3333333333333333,
              "#9c179e"
             ],
             [
              0.4444444444444444,
              "#bd3786"
             ],
             [
              0.5555555555555556,
              "#d8576b"
             ],
             [
              0.6666666666666666,
              "#ed7953"
             ],
             [
              0.7777777777777778,
              "#fb9f3a"
             ],
             [
              0.8888888888888888,
              "#fdca26"
             ],
             [
              1,
              "#f0f921"
             ]
            ],
            "type": "heatmapgl"
           }
          ],
          "histogram": [
           {
            "marker": {
             "colorbar": {
              "outlinewidth": 0,
              "ticks": ""
             }
            },
            "type": "histogram"
           }
          ],
          "histogram2d": [
           {
            "colorbar": {
             "outlinewidth": 0,
             "ticks": ""
            },
            "colorscale": [
             [
              0,
              "#0d0887"
             ],
             [
              0.1111111111111111,
              "#46039f"
             ],
             [
              0.2222222222222222,
              "#7201a8"
             ],
             [
              0.3333333333333333,
              "#9c179e"
             ],
             [
              0.4444444444444444,
              "#bd3786"
             ],
             [
              0.5555555555555556,
              "#d8576b"
             ],
             [
              0.6666666666666666,
              "#ed7953"
             ],
             [
              0.7777777777777778,
              "#fb9f3a"
             ],
             [
              0.8888888888888888,
              "#fdca26"
             ],
             [
              1,
              "#f0f921"
             ]
            ],
            "type": "histogram2d"
           }
          ],
          "histogram2dcontour": [
           {
            "colorbar": {
             "outlinewidth": 0,
             "ticks": ""
            },
            "colorscale": [
             [
              0,
              "#0d0887"
             ],
             [
              0.1111111111111111,
              "#46039f"
             ],
             [
              0.2222222222222222,
              "#7201a8"
             ],
             [
              0.3333333333333333,
              "#9c179e"
             ],
             [
              0.4444444444444444,
              "#bd3786"
             ],
             [
              0.5555555555555556,
              "#d8576b"
             ],
             [
              0.6666666666666666,
              "#ed7953"
             ],
             [
              0.7777777777777778,
              "#fb9f3a"
             ],
             [
              0.8888888888888888,
              "#fdca26"
             ],
             [
              1,
              "#f0f921"
             ]
            ],
            "type": "histogram2dcontour"
           }
          ],
          "mesh3d": [
           {
            "colorbar": {
             "outlinewidth": 0,
             "ticks": ""
            },
            "type": "mesh3d"
           }
          ],
          "parcoords": [
           {
            "line": {
             "colorbar": {
              "outlinewidth": 0,
              "ticks": ""
             }
            },
            "type": "parcoords"
           }
          ],
          "scatter": [
           {
            "marker": {
             "colorbar": {
              "outlinewidth": 0,
              "ticks": ""
             }
            },
            "type": "scatter"
           }
          ],
          "scatter3d": [
           {
            "line": {
             "colorbar": {
              "outlinewidth": 0,
              "ticks": ""
             }
            },
            "marker": {
             "colorbar": {
              "outlinewidth": 0,
              "ticks": ""
             }
            },
            "type": "scatter3d"
           }
          ],
          "scattercarpet": [
           {
            "marker": {
             "colorbar": {
              "outlinewidth": 0,
              "ticks": ""
             }
            },
            "type": "scattercarpet"
           }
          ],
          "scattergeo": [
           {
            "marker": {
             "colorbar": {
              "outlinewidth": 0,
              "ticks": ""
             }
            },
            "type": "scattergeo"
           }
          ],
          "scattergl": [
           {
            "marker": {
             "colorbar": {
              "outlinewidth": 0,
              "ticks": ""
             }
            },
            "type": "scattergl"
           }
          ],
          "scattermapbox": [
           {
            "marker": {
             "colorbar": {
              "outlinewidth": 0,
              "ticks": ""
             }
            },
            "type": "scattermapbox"
           }
          ],
          "scatterpolar": [
           {
            "marker": {
             "colorbar": {
              "outlinewidth": 0,
              "ticks": ""
             }
            },
            "type": "scatterpolar"
           }
          ],
          "scatterpolargl": [
           {
            "marker": {
             "colorbar": {
              "outlinewidth": 0,
              "ticks": ""
             }
            },
            "type": "scatterpolargl"
           }
          ],
          "scatterternary": [
           {
            "marker": {
             "colorbar": {
              "outlinewidth": 0,
              "ticks": ""
             }
            },
            "type": "scatterternary"
           }
          ],
          "surface": [
           {
            "colorbar": {
             "outlinewidth": 0,
             "ticks": ""
            },
            "colorscale": [
             [
              0,
              "#0d0887"
             ],
             [
              0.1111111111111111,
              "#46039f"
             ],
             [
              0.2222222222222222,
              "#7201a8"
             ],
             [
              0.3333333333333333,
              "#9c179e"
             ],
             [
              0.4444444444444444,
              "#bd3786"
             ],
             [
              0.5555555555555556,
              "#d8576b"
             ],
             [
              0.6666666666666666,
              "#ed7953"
             ],
             [
              0.7777777777777778,
              "#fb9f3a"
             ],
             [
              0.8888888888888888,
              "#fdca26"
             ],
             [
              1,
              "#f0f921"
             ]
            ],
            "type": "surface"
           }
          ],
          "table": [
           {
            "cells": {
             "fill": {
              "color": "#EBF0F8"
             },
             "line": {
              "color": "white"
             }
            },
            "header": {
             "fill": {
              "color": "#C8D4E3"
             },
             "line": {
              "color": "white"
             }
            },
            "type": "table"
           }
          ]
         },
         "layout": {
          "annotationdefaults": {
           "arrowcolor": "#2a3f5f",
           "arrowhead": 0,
           "arrowwidth": 1
          },
          "colorscale": {
           "diverging": [
            [
             0,
             "#8e0152"
            ],
            [
             0.1,
             "#c51b7d"
            ],
            [
             0.2,
             "#de77ae"
            ],
            [
             0.3,
             "#f1b6da"
            ],
            [
             0.4,
             "#fde0ef"
            ],
            [
             0.5,
             "#f7f7f7"
            ],
            [
             0.6,
             "#e6f5d0"
            ],
            [
             0.7,
             "#b8e186"
            ],
            [
             0.8,
             "#7fbc41"
            ],
            [
             0.9,
             "#4d9221"
            ],
            [
             1,
             "#276419"
            ]
           ],
           "sequential": [
            [
             0,
             "#0d0887"
            ],
            [
             0.1111111111111111,
             "#46039f"
            ],
            [
             0.2222222222222222,
             "#7201a8"
            ],
            [
             0.3333333333333333,
             "#9c179e"
            ],
            [
             0.4444444444444444,
             "#bd3786"
            ],
            [
             0.5555555555555556,
             "#d8576b"
            ],
            [
             0.6666666666666666,
             "#ed7953"
            ],
            [
             0.7777777777777778,
             "#fb9f3a"
            ],
            [
             0.8888888888888888,
             "#fdca26"
            ],
            [
             1,
             "#f0f921"
            ]
           ],
           "sequentialminus": [
            [
             0,
             "#0d0887"
            ],
            [
             0.1111111111111111,
             "#46039f"
            ],
            [
             0.2222222222222222,
             "#7201a8"
            ],
            [
             0.3333333333333333,
             "#9c179e"
            ],
            [
             0.4444444444444444,
             "#bd3786"
            ],
            [
             0.5555555555555556,
             "#d8576b"
            ],
            [
             0.6666666666666666,
             "#ed7953"
            ],
            [
             0.7777777777777778,
             "#fb9f3a"
            ],
            [
             0.8888888888888888,
             "#fdca26"
            ],
            [
             1,
             "#f0f921"
            ]
           ]
          },
          "colorway": [
           "#636efa",
           "#EF553B",
           "#00cc96",
           "#ab63fa",
           "#FFA15A",
           "#19d3f3",
           "#FF6692",
           "#B6E880",
           "#FF97FF",
           "#FECB52"
          ],
          "font": {
           "color": "#2a3f5f"
          },
          "geo": {
           "bgcolor": "white",
           "lakecolor": "white",
           "landcolor": "#E5ECF6",
           "showlakes": true,
           "showland": true,
           "subunitcolor": "white"
          },
          "hoverlabel": {
           "align": "left"
          },
          "hovermode": "closest",
          "mapbox": {
           "style": "light"
          },
          "paper_bgcolor": "white",
          "plot_bgcolor": "#E5ECF6",
          "polar": {
           "angularaxis": {
            "gridcolor": "white",
            "linecolor": "white",
            "ticks": ""
           },
           "bgcolor": "#E5ECF6",
           "radialaxis": {
            "gridcolor": "white",
            "linecolor": "white",
            "ticks": ""
           }
          },
          "scene": {
           "xaxis": {
            "backgroundcolor": "#E5ECF6",
            "gridcolor": "white",
            "gridwidth": 2,
            "linecolor": "white",
            "showbackground": true,
            "ticks": "",
            "zerolinecolor": "white"
           },
           "yaxis": {
            "backgroundcolor": "#E5ECF6",
            "gridcolor": "white",
            "gridwidth": 2,
            "linecolor": "white",
            "showbackground": true,
            "ticks": "",
            "zerolinecolor": "white"
           },
           "zaxis": {
            "backgroundcolor": "#E5ECF6",
            "gridcolor": "white",
            "gridwidth": 2,
            "linecolor": "white",
            "showbackground": true,
            "ticks": "",
            "zerolinecolor": "white"
           }
          },
          "shapedefaults": {
           "line": {
            "color": "#2a3f5f"
           }
          },
          "ternary": {
           "aaxis": {
            "gridcolor": "white",
            "linecolor": "white",
            "ticks": ""
           },
           "baxis": {
            "gridcolor": "white",
            "linecolor": "white",
            "ticks": ""
           },
           "bgcolor": "#E5ECF6",
           "caxis": {
            "gridcolor": "white",
            "linecolor": "white",
            "ticks": ""
           }
          },
          "title": {
           "x": 0.05
          },
          "xaxis": {
           "automargin": true,
           "gridcolor": "white",
           "linecolor": "white",
           "ticks": "",
           "zerolinecolor": "white",
           "zerolinewidth": 2
          },
          "yaxis": {
           "automargin": true,
           "gridcolor": "white",
           "linecolor": "white",
           "ticks": "",
           "zerolinecolor": "white",
           "zerolinewidth": 2
          }
         }
        },
        "xaxis": {
         "anchor": "y",
         "autorange": true,
         "domain": [
          0,
          0.45
         ],
         "range": [
          -0.5,
          1.5
         ],
         "showspikes": true,
         "type": "category"
        },
        "xaxis10": {
         "anchor": "y10",
         "autorange": true,
         "domain": [
          0.55,
          1
         ],
         "range": [
          0.027196695165226097,
          0.18371135825613466
         ],
         "showspikes": true,
         "title": {
          "text": "Feature richness"
         },
         "type": "linear"
        },
        "xaxis2": {
         "anchor": "y2",
         "autorange": true,
         "domain": [
          0.55,
          1
         ],
         "range": [
          0.027196695165226097,
          0.18371135825613466
         ],
         "showspikes": true,
         "title": {
          "text": "Feature richness"
         },
         "type": "linear"
        },
        "xaxis3": {
         "anchor": "y3",
         "autorange": true,
         "domain": [
          0,
          0.45
         ],
         "range": [
          -0.5,
          1.5
         ],
         "showspikes": true,
         "type": "category"
        },
        "xaxis4": {
         "anchor": "y4",
         "autorange": true,
         "domain": [
          0.55,
          1
         ],
         "range": [
          0.027196695165226097,
          0.18371135825613466
         ],
         "showspikes": true,
         "title": {
          "text": "Feature richness"
         },
         "type": "linear"
        },
        "xaxis5": {
         "anchor": "y5",
         "autorange": true,
         "domain": [
          0,
          0.45
         ],
         "range": [
          -0.5,
          1.5
         ],
         "showspikes": true,
         "type": "category"
        },
        "xaxis6": {
         "anchor": "y6",
         "autorange": true,
         "domain": [
          0.55,
          1
         ],
         "range": [
          0.027196695165226097,
          0.18371135825613466
         ],
         "showspikes": true,
         "title": {
          "text": "Feature richness"
         },
         "type": "linear"
        },
        "xaxis7": {
         "anchor": "y7",
         "autorange": true,
         "domain": [
          0,
          0.45
         ],
         "range": [
          -0.5,
          1.5
         ],
         "showspikes": true,
         "type": "category"
        },
        "xaxis8": {
         "anchor": "y8",
         "autorange": true,
         "domain": [
          0.55,
          1
         ],
         "range": [
          0.027196695165226097,
          0.18371135825613466
         ],
         "showspikes": true,
         "title": {
          "text": "Feature richness"
         },
         "type": "linear"
        },
        "xaxis9": {
         "anchor": "y9",
         "autorange": true,
         "domain": [
          0,
          0.45
         ],
         "range": [
          -0.5,
          1.5
         ],
         "showspikes": true,
         "type": "category"
        },
        "yaxis": {
         "anchor": "x",
         "autorange": true,
         "domain": [
          0.848,
          1
         ],
         "range": [
          6.388888888888889,
          18.61111111111111
         ],
         "showspikes": true,
         "title": {
          "text": "Maximum depth"
         },
         "type": "linear"
        },
        "yaxis10": {
         "anchor": "x10",
         "autorange": true,
         "domain": [
          0,
          0.152
         ],
         "range": [
          0.40144720750101914,
          1.0985527924989809
         ],
         "showspikes": true,
         "title": {
          "text": "Subsample"
         },
         "type": "linear"
        },
        "yaxis2": {
         "anchor": "x2",
         "autorange": true,
         "domain": [
          0.848,
          1
         ],
         "range": [
          4.831838565022421,
          20.168161434977577
         ],
         "showspikes": true,
         "title": {
          "text": "Maximum depth"
         },
         "type": "linear"
        },
        "yaxis3": {
         "anchor": "x3",
         "autorange": true,
         "domain": [
          0.6359999999999999,
          0.7879999999999999
         ],
         "range": [
          -2.549382716049383,
          -1.5617283950617284
         ],
         "showspikes": true,
         "title": {
          "text": "Learning rate"
         },
         "type": "linear"
        },
        "yaxis4": {
         "anchor": "x4",
         "autorange": true,
         "domain": [
          0.6359999999999999,
          0.7879999999999999
         ],
         "range": [
          -0.0010404253248271567,
          0.0286870704532178
         ],
         "showspikes": true,
         "title": {
          "text": "Learning rate"
         },
         "type": "linear"
        },
        "yaxis5": {
         "anchor": "x5",
         "autorange": true,
         "domain": [
          0.424,
          0.576
         ],
         "range": [
          61.111111111111114,
          838.8888888888889
         ],
         "showspikes": true,
         "title": {
          "text": "Number of trees"
         },
         "type": "linear"
        },
        "yaxis6": {
         "anchor": "x6",
         "autorange": true,
         "domain": [
          0.424,
          0.576
         ],
         "range": [
          -37.97390949857319,
          937.9739094985732
         ],
         "showspikes": true,
         "title": {
          "text": "Number of trees"
         },
         "type": "linear"
        },
        "yaxis7": {
         "anchor": "x7",
         "autorange": true,
         "domain": [
          0.212,
          0.364
         ],
         "range": [
          4.027777777777778,
          23.47222222222222
         ],
         "showspikes": true,
         "title": {
          "text": "Minimum child weight"
         },
         "type": "linear"
        },
        "yaxis8": {
         "anchor": "x8",
         "autorange": true,
         "domain": [
          0.212,
          0.364
         ],
         "range": [
          1.550652262535671,
          25.94934773746433
         ],
         "showspikes": true,
         "title": {
          "text": "Minimum child weight"
         },
         "type": "linear"
        },
        "yaxis9": {
         "anchor": "x9",
         "autorange": true,
         "domain": [
          0,
          0.152
         ],
         "range": [
          0.4722222222222222,
          1.0277777777777777
         ],
         "showspikes": true,
         "title": {
          "text": "Subsample"
         },
         "type": "linear"
        }
       }
      },
      "image/png": "[encoded data removed]",
      "text/html": [
       "<div>\n",
       "        \n",
       "        \n",
       "            <div id=\"11de9f2a-3642-4472-8b9c-d88da5c38186\" class=\"plotly-graph-div\" style=\"height:1200px; width:100%;\"></div>\n",
       "            <script type=\"text/javascript\">\n",
       "                require([\"plotly\"], function(Plotly) {\n",
       "                    window.PLOTLYENV=window.PLOTLYENV || {};\n",
       "                    \n",
       "                if (document.getElementById(\"11de9f2a-3642-4472-8b9c-d88da5c38186\")) {\n",
       "                    Plotly.newPlot(\n",
       "                        '11de9f2a-3642-4472-8b9c-d88da5c38186',\n",
       "                        [{\"boxmean\": true, \"name\": \"Size = 8760\", \"type\": \"box\", \"xaxis\": \"x\", \"y\": [14.0, 9.0, 11.0, 7.0, 11.0, 11.0, 14.0, 9.0, 11.0, 9.0, 14.0, 9.0, 14.0, 9.0, 14.0, 9.0], \"yaxis\": \"y\"}, {\"boxmean\": true, \"name\": \"Size = 17520\", \"type\": \"box\", \"xaxis\": \"x\", \"y\": [14.0, 11.0, 7.0, 9.0, 11.0, 18.0, 11.0, 18.0, 11.0, 16.0, 14.0, 11.0, 14.0, 18.0, 11.0, 18.0], \"yaxis\": \"y\"}, {\"boxmean\": true, \"name\": \"Size = 8760\", \"type\": \"box\", \"xaxis\": \"x3\", \"y\": [-2.0555555555555554, -2.2777777777777777, -2.2777777777777777, -2.2777777777777777, -2.0555555555555554, -2.0555555555555554, -2.5, -1.8333333333333335, -1.6111111111111112, -2.0555555555555554, -2.5, -1.8333333333333335, -2.5, -1.8333333333333335, -2.5, -2.0555555555555554], \"yaxis\": \"y3\"}, {\"boxmean\": true, \"name\": \"Size = 17520\", \"type\": \"box\", \"xaxis\": \"x3\", \"y\": [-2.2777777777777777, -2.2777777777777777, -2.0555555555555554, -1.8333333333333335, -2.0555555555555554, -2.2777777777777777, -1.8333333333333335, -1.8333333333333335, -2.2777777777777777, -2.2777777777777777, -2.5, -2.2777777777777777, -2.5, -1.8333333333333335, -1.8333333333333335, -2.2777777777777777], \"yaxis\": \"y3\"}, {\"boxmean\": true, \"name\": \"Size = 8760\", \"type\": \"box\", \"xaxis\": \"x5\", \"y\": [380.0, 660.0, 520.0, 800.0, 380.0, 380.0, 800.0, 240.0, 100.0, 380.0, 800.0, 240.0, 800.0, 380.0, 660.0, 380.0], \"yaxis\": \"y5\"}, {\"boxmean\": true, \"name\": \"Size = 17520\", \"type\": \"box\", \"xaxis\": \"x5\", \"y\": [520.0, 800.0, 660.0, 380.0, 520.0, 800.0, 380.0, 240.0, 800.0, 520.0, 800.0, 800.0, 800.0, 240.0, 520.0, 660.0], \"yaxis\": \"y5\"}, {\"boxmean\": true, \"name\": \"Size = 8760\", \"type\": \"box\", \"xaxis\": \"x7\", \"y\": [5.0, 5.0, 22.5, 5.0, 5.0, 22.5, 5.0, 5.0, 5.0, 5.0, 5.0, 5.0, 5.0, 5.0, 5.0, 5.0], \"yaxis\": \"y7\"}, {\"boxmean\": true, \"name\": \"Size = 17520\", \"type\": \"box\", \"xaxis\": \"x7\", \"y\": [5.0, 22.5, 5.0, 22.5, 5.0, 22.5, 5.0, 22.5, 5.0, 22.5, 5.0, 5.0, 5.0, 22.5, 22.5, 22.5], \"yaxis\": \"y7\"}, {\"boxmean\": true, \"name\": \"Size = 8760\", \"type\": \"box\", \"xaxis\": \"x9\", \"y\": [0.75, 0.5, 0.75, 0.5, 0.75, 0.5, 0.75, 0.5, 0.75, 0.5, 0.75, 0.5, 0.75, 0.75, 0.75, 0.5], \"yaxis\": \"y9\"}, {\"boxmean\": true, \"name\": \"Size = 17520\", \"type\": \"box\", \"xaxis\": \"x9\", \"y\": [0.75, 0.5, 1.0, 0.75, 0.75, 0.5, 0.75, 0.75, 0.75, 0.5, 0.75, 0.5, 0.75, 0.5, 1.0, 0.5], \"yaxis\": \"y9\"}, {\"mode\": \"markers\", \"type\": \"scatter\", \"x\": [0.04334059028794689, 0.04391002846159395, 0.1742950289319662, 0.17088399133344986, 0.04760451253331445, 0.0515548990724462, 0.13321103149244717, 0.1320012767072899, 0.054971781696046815, 0.058894662958050945, 0.1361557294250355, 0.13001995814154949, 0.03661302448939458, 0.03760171597487407, 0.13770448419074494, 0.13351931866568495, 0.04875882362313011, 0.04632348961927948, 0.12257515652780968, 0.11436333754703872, 0.04058584108322523, 0.03844440585830611, 0.1521603469725592, 0.1492418647754497, 0.06250562668359318, 0.06545425684020391, 0.1698587442622334, 0.16761516097623888, 0.044852036768503425, 0.04820707974614305, 0.13871783695821072, 0.13530592515832152], \"xaxis\": \"x2\", \"y\": [14.0, 14.0, 11.0, 9.0, 7.0, 11.0, 9.0, 7.0, 11.0, 11.0, 18.0, 11.0, 11.0, 14.0, 18.0, 9.0, 11.0, 11.0, 16.0, 9.0, 14.0, 14.0, 11.0, 9.0, 14.0, 14.0, 18.0, 9.0, 11.0, 14.0, 18.0, 9.0], \"yaxis\": \"y2\"}, {\"mode\": \"markers\", \"type\": \"scatter\", \"x\": [0.04334059028794689, 0.04391002846159395, 0.1742950289319662, 0.17088399133344986, 0.04760451253331445, 0.0515548990724462, 0.13321103149244717, 0.1320012767072899, 0.054971781696046815, 0.058894662958050945, 0.1361557294250355, 0.13001995814154949, 0.03661302448939458, 0.03760171597487407, 0.13770448419074494, 0.13351931866568495, 0.04875882362313011, 0.04632348961927948, 0.12257515652780968, 0.11436333754703872, 0.04058584108322523, 0.03844440585830611, 0.1521603469725592, 0.1492418647754497, 0.06250562668359318, 0.06545425684020391, 0.1698587442622334, 0.16761516097623888, 0.044852036768503425, 0.04820707974614305, 0.13871783695821072, 0.13530592515832152], \"xaxis\": \"x4\", \"y\": [0.005274997063702621, 0.008799225435691074, 0.0052749970637026205, 0.0052749970637026205, 0.008799225435691074, 0.0052749970637026205, 0.014677992676220691, 0.0052749970637026205, 0.008799225435691074, 0.008799225435691074, 0.0052749970637026205, 0.008799225435691074, 0.014677992676220691, 0.00316227766016838, 0.014677992676220691, 0.014677992676220691, 0.0052749970637026205, 0.024484367468222263, 0.0052749970637026205, 0.008799225435691074, 0.00316227766016838, 0.00316227766016838, 0.0052749970637026205, 0.014677992676220691, 0.00316227766016838, 0.00316227766016838, 0.014677992676220691, 0.014677992676220691, 0.014677992676220691, 0.00316227766016838, 0.0052749970637026205, 0.008799225435691074], \"yaxis\": \"y4\"}, {\"mode\": \"markers\", \"type\": \"scatter\", \"x\": [0.04334059028794689, 0.04391002846159395, 0.1742950289319662, 0.17088399133344986, 0.04760451253331445, 0.0515548990724462, 0.13321103149244717, 0.1320012767072899, 0.054971781696046815, 0.058894662958050945, 0.1361557294250355, 0.13001995814154949, 0.03661302448939458, 0.03760171597487407, 0.13770448419074494, 0.13351931866568495, 0.04875882362313011, 0.04632348961927948, 0.12257515652780968, 0.11436333754703872, 0.04058584108322523, 0.03844440585830611, 0.1521603469725592, 0.1492418647754497, 0.06250562668359318, 0.06545425684020391, 0.1698587442622334, 0.16761516097623888, 0.044852036768503425, 0.04820707974614305, 0.13871783695821072, 0.13530592515832152], \"xaxis\": \"x6\", \"y\": [520.0, 380.0, 800.0, 660.0, 660.0, 520.0, 380.0, 800.0, 520.0, 380.0, 800.0, 380.0, 380.0, 800.0, 240.0, 240.0, 800.0, 100.0, 520.0, 380.0, 800.0, 800.0, 800.0, 240.0, 800.0, 800.0, 240.0, 380.0, 520.0, 660.0, 660.0, 380.0], \"yaxis\": \"y6\"}, {\"mode\": \"markers\", \"type\": \"scatter\", \"x\": [0.04334059028794689, 0.04391002846159395, 0.1742950289319662, 0.17088399133344986, 0.04760451253331445, 0.0515548990724462, 0.13321103149244717, 0.1320012767072899, 0.054971781696046815, 0.058894662958050945, 0.1361557294250355, 0.13001995814154949, 0.03661302448939458, 0.03760171597487407, 0.13770448419074494, 0.13351931866568495, 0.04875882362313011, 0.04632348961927948, 0.12257515652780968, 0.11436333754703872, 0.04058584108322523, 0.03844440585830611, 0.1521603469725592, 0.1492418647754497, 0.06250562668359318, 0.06545425684020391, 0.1698587442622334, 0.16761516097623888, 0.044852036768503425, 0.04820707974614305, 0.13871783695821072, 0.13530592515832152], \"xaxis\": \"x8\", \"y\": [5.0, 5.0, 22.5, 5.0, 5.0, 22.5, 22.5, 5.0, 5.0, 5.0, 22.5, 22.5, 5.0, 5.0, 22.5, 5.0, 5.0, 5.0, 22.5, 5.0, 5.0, 5.0, 5.0, 5.0, 5.0, 5.0, 22.5, 5.0, 22.5, 5.0, 22.5, 5.0], \"yaxis\": \"y8\"}, {\"mode\": \"markers\", \"type\": \"scatter\", \"x\": [0.04334059028794689, 0.04391002846159395, 0.1742950289319662, 0.17088399133344986, 0.04760451253331445, 0.0515548990724462, 0.13321103149244717, 0.1320012767072899, 0.054971781696046815, 0.058894662958050945, 0.1361557294250355, 0.13001995814154949, 0.03661302448939458, 0.03760171597487407, 0.13770448419074494, 0.13351931866568495, 0.04875882362313011, 0.04632348961927948, 0.12257515652780968, 0.11436333754703872, 0.04058584108322523, 0.03844440585830611, 0.1521603469725592, 0.1492418647754497, 0.06250562668359318, 0.06545425684020391, 0.1698587442622334, 0.16761516097623888, 0.044852036768503425, 0.04820707974614305, 0.13871783695821072, 0.13530592515832152], \"xaxis\": \"x10\", \"y\": [0.75, 0.75, 0.5, 0.5, 1.0, 0.75, 0.75, 0.5, 0.75, 0.75, 0.5, 0.5, 0.75, 0.75, 0.75, 0.5, 0.75, 0.75, 0.5, 0.5, 0.75, 0.75, 0.5, 0.5, 0.75, 0.75, 0.5, 0.75, 1.0, 0.75, 0.5, 0.5], \"yaxis\": \"y10\"}],\n",
       "                        {\"height\": 1200, \"showlegend\": false, \"template\": {\"data\": {\"bar\": [{\"error_x\": {\"color\": \"#2a3f5f\"}, \"error_y\": {\"color\": \"#2a3f5f\"}, \"marker\": {\"line\": {\"color\": \"#E5ECF6\", \"width\": 0.5}}, \"type\": \"bar\"}], \"barpolar\": [{\"marker\": {\"line\": {\"color\": \"#E5ECF6\", \"width\": 0.5}}, \"type\": \"barpolar\"}], \"carpet\": [{\"aaxis\": {\"endlinecolor\": \"#2a3f5f\", \"gridcolor\": \"white\", \"linecolor\": \"white\", \"minorgridcolor\": \"white\", \"startlinecolor\": \"#2a3f5f\"}, \"baxis\": {\"endlinecolor\": \"#2a3f5f\", \"gridcolor\": \"white\", \"linecolor\": \"white\", \"minorgridcolor\": \"white\", \"startlinecolor\": \"#2a3f5f\"}, \"type\": \"carpet\"}], \"choropleth\": [{\"colorbar\": {\"outlinewidth\": 0, \"ticks\": \"\"}, \"type\": \"choropleth\"}], \"contour\": [{\"colorbar\": {\"outlinewidth\": 0, \"ticks\": \"\"}, \"colorscale\": [[0.0, \"#0d0887\"], [0.1111111111111111, \"#46039f\"], [0.2222222222222222, \"#7201a8\"], [0.3333333333333333, \"#9c179e\"], [0.4444444444444444, \"#bd3786\"], [0.5555555555555556, \"#d8576b\"], [0.6666666666666666, \"#ed7953\"], [0.7777777777777778, \"#fb9f3a\"], [0.8888888888888888, \"#fdca26\"], [1.0, \"#f0f921\"]], \"type\": \"contour\"}], \"contourcarpet\": [{\"colorbar\": {\"outlinewidth\": 0, \"ticks\": \"\"}, \"type\": \"contourcarpet\"}], \"heatmap\": [{\"colorbar\": {\"outlinewidth\": 0, \"ticks\": \"\"}, \"colorscale\": [[0.0, \"#0d0887\"], [0.1111111111111111, \"#46039f\"], [0.2222222222222222, \"#7201a8\"], [0.3333333333333333, \"#9c179e\"], [0.4444444444444444, \"#bd3786\"], [0.5555555555555556, \"#d8576b\"], [0.6666666666666666, \"#ed7953\"], [0.7777777777777778, \"#fb9f3a\"], [0.8888888888888888, \"#fdca26\"], [1.0, \"#f0f921\"]], \"type\": \"heatmap\"}], \"heatmapgl\": [{\"colorbar\": {\"outlinewidth\": 0, \"ticks\": \"\"}, \"colorscale\": [[0.0, \"#0d0887\"], [0.1111111111111111, \"#46039f\"], [0.2222222222222222, \"#7201a8\"], [0.3333333333333333, \"#9c179e\"], [0.4444444444444444, \"#bd3786\"], [0.5555555555555556, \"#d8576b\"], [0.6666666666666666, \"#ed7953\"], [0.7777777777777778, \"#fb9f3a\"], [0.8888888888888888, \"#fdca26\"], [1.0, \"#f0f921\"]], \"type\": \"heatmapgl\"}], \"histogram\": [{\"marker\": {\"colorbar\": {\"outlinewidth\": 0, \"ticks\": \"\"}}, \"type\": \"histogram\"}], \"histogram2d\": [{\"colorbar\": {\"outlinewidth\": 0, \"ticks\": \"\"}, \"colorscale\": [[0.0, \"#0d0887\"], [0.1111111111111111, \"#46039f\"], [0.2222222222222222, \"#7201a8\"], [0.3333333333333333, \"#9c179e\"], [0.4444444444444444, \"#bd3786\"], [0.5555555555555556, \"#d8576b\"], [0.6666666666666666, \"#ed7953\"], [0.7777777777777778, \"#fb9f3a\"], [0.8888888888888888, \"#fdca26\"], [1.0, \"#f0f921\"]], \"type\": \"histogram2d\"}], \"histogram2dcontour\": [{\"colorbar\": {\"outlinewidth\": 0, \"ticks\": \"\"}, \"colorscale\": [[0.0, \"#0d0887\"], [0.1111111111111111, \"#46039f\"], [0.2222222222222222, \"#7201a8\"], [0.3333333333333333, \"#9c179e\"], [0.4444444444444444, \"#bd3786\"], [0.5555555555555556, \"#d8576b\"], [0.6666666666666666, \"#ed7953\"], [0.7777777777777778, \"#fb9f3a\"], [0.8888888888888888, \"#fdca26\"], [1.0, \"#f0f921\"]], \"type\": \"histogram2dcontour\"}], \"mesh3d\": [{\"colorbar\": {\"outlinewidth\": 0, \"ticks\": \"\"}, \"type\": \"mesh3d\"}], \"parcoords\": [{\"line\": {\"colorbar\": {\"outlinewidth\": 0, \"ticks\": \"\"}}, \"type\": \"parcoords\"}], \"scatter\": [{\"marker\": {\"colorbar\": {\"outlinewidth\": 0, \"ticks\": \"\"}}, \"type\": \"scatter\"}], \"scatter3d\": [{\"line\": {\"colorbar\": {\"outlinewidth\": 0, \"ticks\": \"\"}}, \"marker\": {\"colorbar\": {\"outlinewidth\": 0, \"ticks\": \"\"}}, \"type\": \"scatter3d\"}], \"scattercarpet\": [{\"marker\": {\"colorbar\": {\"outlinewidth\": 0, \"ticks\": \"\"}}, \"type\": \"scattercarpet\"}], \"scattergeo\": [{\"marker\": {\"colorbar\": {\"outlinewidth\": 0, \"ticks\": \"\"}}, \"type\": \"scattergeo\"}], \"scattergl\": [{\"marker\": {\"colorbar\": {\"outlinewidth\": 0, \"ticks\": \"\"}}, \"type\": \"scattergl\"}], \"scattermapbox\": [{\"marker\": {\"colorbar\": {\"outlinewidth\": 0, \"ticks\": \"\"}}, \"type\": \"scattermapbox\"}], \"scatterpolar\": [{\"marker\": {\"colorbar\": {\"outlinewidth\": 0, \"ticks\": \"\"}}, \"type\": \"scatterpolar\"}], \"scatterpolargl\": [{\"marker\": {\"colorbar\": {\"outlinewidth\": 0, \"ticks\": \"\"}}, \"type\": \"scatterpolargl\"}], \"scatterternary\": [{\"marker\": {\"colorbar\": {\"outlinewidth\": 0, \"ticks\": \"\"}}, \"type\": \"scatterternary\"}], \"surface\": [{\"colorbar\": {\"outlinewidth\": 0, \"ticks\": \"\"}, \"colorscale\": [[0.0, \"#0d0887\"], [0.1111111111111111, \"#46039f\"], [0.2222222222222222, \"#7201a8\"], [0.3333333333333333, \"#9c179e\"], [0.4444444444444444, \"#bd3786\"], [0.5555555555555556, \"#d8576b\"], [0.6666666666666666, \"#ed7953\"], [0.7777777777777778, \"#fb9f3a\"], [0.8888888888888888, \"#fdca26\"], [1.0, \"#f0f921\"]], \"type\": \"surface\"}], \"table\": [{\"cells\": {\"fill\": {\"color\": \"#EBF0F8\"}, \"line\": {\"color\": \"white\"}}, \"header\": {\"fill\": {\"color\": \"#C8D4E3\"}, \"line\": {\"color\": \"white\"}}, \"type\": \"table\"}]}, \"layout\": {\"annotationdefaults\": {\"arrowcolor\": \"#2a3f5f\", \"arrowhead\": 0, \"arrowwidth\": 1}, \"colorscale\": {\"diverging\": [[0, \"#8e0152\"], [0.1, \"#c51b7d\"], [0.2, \"#de77ae\"], [0.3, \"#f1b6da\"], [0.4, \"#fde0ef\"], [0.5, \"#f7f7f7\"], [0.6, \"#e6f5d0\"], [0.7, \"#b8e186\"], [0.8, \"#7fbc41\"], [0.9, \"#4d9221\"], [1, \"#276419\"]], \"sequential\": [[0.0, \"#0d0887\"], [0.1111111111111111, \"#46039f\"], [0.2222222222222222, \"#7201a8\"], [0.3333333333333333, \"#9c179e\"], [0.4444444444444444, \"#bd3786\"], [0.5555555555555556, \"#d8576b\"], [0.6666666666666666, \"#ed7953\"], [0.7777777777777778, \"#fb9f3a\"], [0.8888888888888888, \"#fdca26\"], [1.0, \"#f0f921\"]], \"sequentialminus\": [[0.0, \"#0d0887\"], [0.1111111111111111, \"#46039f\"], [0.2222222222222222, \"#7201a8\"], [0.3333333333333333, \"#9c179e\"], [0.4444444444444444, \"#bd3786\"], [0.5555555555555556, \"#d8576b\"], [0.6666666666666666, \"#ed7953\"], [0.7777777777777778, \"#fb9f3a\"], [0.8888888888888888, \"#fdca26\"], [1.0, \"#f0f921\"]]}, \"colorway\": [\"#636efa\", \"#EF553B\", \"#00cc96\", \"#ab63fa\", \"#FFA15A\", \"#19d3f3\", \"#FF6692\", \"#B6E880\", \"#FF97FF\", \"#FECB52\"], \"font\": {\"color\": \"#2a3f5f\"}, \"geo\": {\"bgcolor\": \"white\", \"lakecolor\": \"white\", \"landcolor\": \"#E5ECF6\", \"showlakes\": true, \"showland\": true, \"subunitcolor\": \"white\"}, \"hoverlabel\": {\"align\": \"left\"}, \"hovermode\": \"closest\", \"mapbox\": {\"style\": \"light\"}, \"paper_bgcolor\": \"white\", \"plot_bgcolor\": \"#E5ECF6\", \"polar\": {\"angularaxis\": {\"gridcolor\": \"white\", \"linecolor\": \"white\", \"ticks\": \"\"}, \"bgcolor\": \"#E5ECF6\", \"radialaxis\": {\"gridcolor\": \"white\", \"linecolor\": \"white\", \"ticks\": \"\"}}, \"scene\": {\"xaxis\": {\"backgroundcolor\": \"#E5ECF6\", \"gridcolor\": \"white\", \"gridwidth\": 2, \"linecolor\": \"white\", \"showbackground\": true, \"ticks\": \"\", \"zerolinecolor\": \"white\"}, \"yaxis\": {\"backgroundcolor\": \"#E5ECF6\", \"gridcolor\": \"white\", \"gridwidth\": 2, \"linecolor\": \"white\", \"showbackground\": true, \"ticks\": \"\", \"zerolinecolor\": \"white\"}, \"zaxis\": {\"backgroundcolor\": \"#E5ECF6\", \"gridcolor\": \"white\", \"gridwidth\": 2, \"linecolor\": \"white\", \"showbackground\": true, \"ticks\": \"\", \"zerolinecolor\": \"white\"}}, \"shapedefaults\": {\"line\": {\"color\": \"#2a3f5f\"}}, \"ternary\": {\"aaxis\": {\"gridcolor\": \"white\", \"linecolor\": \"white\", \"ticks\": \"\"}, \"baxis\": {\"gridcolor\": \"white\", \"linecolor\": \"white\", \"ticks\": \"\"}, \"bgcolor\": \"#E5ECF6\", \"caxis\": {\"gridcolor\": \"white\", \"linecolor\": \"white\", \"ticks\": \"\"}}, \"title\": {\"x\": 0.05}, \"xaxis\": {\"automargin\": true, \"gridcolor\": \"white\", \"linecolor\": \"white\", \"ticks\": \"\", \"zerolinecolor\": \"white\", \"zerolinewidth\": 2}, \"yaxis\": {\"automargin\": true, \"gridcolor\": \"white\", \"linecolor\": \"white\", \"ticks\": \"\", \"zerolinecolor\": \"white\", \"zerolinewidth\": 2}}}, \"xaxis\": {\"anchor\": \"y\", \"domain\": [0.0, 0.45]}, \"xaxis10\": {\"anchor\": \"y10\", \"domain\": [0.55, 1.0], \"title\": {\"text\": \"Feature richness\"}}, \"xaxis2\": {\"anchor\": \"y2\", \"domain\": [0.55, 1.0], \"title\": {\"text\": \"Feature richness\"}}, \"xaxis3\": {\"anchor\": \"y3\", \"domain\": [0.0, 0.45]}, \"xaxis4\": {\"anchor\": \"y4\", \"domain\": [0.55, 1.0], \"title\": {\"text\": \"Feature richness\"}}, \"xaxis5\": {\"anchor\": \"y5\", \"domain\": [0.0, 0.45]}, \"xaxis6\": {\"anchor\": \"y6\", \"domain\": [0.55, 1.0], \"title\": {\"text\": \"Feature richness\"}}, \"xaxis7\": {\"anchor\": \"y7\", \"domain\": [0.0, 0.45]}, \"xaxis8\": {\"anchor\": \"y8\", \"domain\": [0.55, 1.0], \"title\": {\"text\": \"Feature richness\"}}, \"xaxis9\": {\"anchor\": \"y9\", \"domain\": [0.0, 0.45]}, \"yaxis\": {\"anchor\": \"x\", \"domain\": [0.848, 1.0], \"title\": {\"text\": \"Maximum depth\"}}, \"yaxis10\": {\"anchor\": \"x10\", \"domain\": [0.0, 0.152], \"title\": {\"text\": \"Subsample\"}}, \"yaxis2\": {\"anchor\": \"x2\", \"domain\": [0.848, 1.0], \"title\": {\"text\": \"Maximum depth\"}}, \"yaxis3\": {\"anchor\": \"x3\", \"domain\": [0.6359999999999999, 0.7879999999999999], \"title\": {\"text\": \"Learning rate\"}}, \"yaxis4\": {\"anchor\": \"x4\", \"domain\": [0.6359999999999999, 0.7879999999999999], \"title\": {\"text\": \"Learning rate\"}}, \"yaxis5\": {\"anchor\": \"x5\", \"domain\": [0.424, 0.576], \"title\": {\"text\": \"Number of trees\"}}, \"yaxis6\": {\"anchor\": \"x6\", \"domain\": [0.424, 0.576], \"title\": {\"text\": \"Number of trees\"}}, \"yaxis7\": {\"anchor\": \"x7\", \"domain\": [0.212, 0.364], \"title\": {\"text\": \"Minimum child weight\"}}, \"yaxis8\": {\"anchor\": \"x8\", \"domain\": [0.212, 0.364], \"title\": {\"text\": \"Minimum child weight\"}}, \"yaxis9\": {\"anchor\": \"x9\", \"domain\": [0.0, 0.152], \"title\": {\"text\": \"Subsample\"}}},\n",
       "                        {\"responsive\": true}\n",
       "                    ).then(function(){\n",
       "                            \n",
       "var gd = document.getElementById('11de9f2a-3642-4472-8b9c-d88da5c38186');\n",
       "var x = new MutationObserver(function (mutations, observer) {{\n",
       "        var display = window.getComputedStyle(gd).display;\n",
       "        if (!display || display === 'none') {{\n",
       "            console.log([gd, 'removed!']);\n",
       "            Plotly.purge(gd);\n",
       "            observer.disconnect();\n",
       "        }}\n",
       "}});\n",
       "\n",
       "// Listen for the removal of the full notebook cells\n",
       "var notebookContainer = gd.closest('#notebook-container');\n",
       "if (notebookContainer) {{\n",
       "    x.observe(notebookContainer, {childList: true});\n",
       "}}\n",
       "\n",
       "// Listen for the clearing of the current output cell\n",
       "var outputEl = gd.closest('.output');\n",
       "if (outputEl) {{\n",
       "    x.observe(outputEl, {childList: true});\n",
       "}}\n",
       "\n",
       "                        })\n",
       "                };\n",
       "                });\n",
       "            </script>\n",
       "        </div>"
      ]
     },
     "metadata": {},
     "output_type": "display_data"
    }
   ],
   "source": [
    "# size - hyperparameters\n",
    "fig = make_subplots(\n",
    "    rows=5,\n",
    "    cols=2\n",
    ")\n",
    "\n",
    "# first row: size\n",
    "fig.add_trace(go.Box(y=df.loc[df['size'] == 8760]['max_depth'],name='Size = 8760', boxmean=True), row=1, col=1)\n",
    "fig.add_trace(go.Box(y=df.loc[df['size'] == 17520]['max_depth'],name='Size = 17520', boxmean=True), row=1, col=1)\n",
    "fig.update_yaxes(title_text='Maximum depth', row=1, col=1)\n",
    "\n",
    "fig.add_trace(go.Box(y=np.log10(df.loc[df['size'] == 8760]['learning_rate']),name='Size = 8760', boxmean=True), row=2, col=1)\n",
    "fig.add_trace(go.Box(y=np.log10(df.loc[df['size'] == 17520]['learning_rate']),name='Size = 17520', boxmean=True), row=2, col=1)\n",
    "fig.update_yaxes(title_text='Learning rate', row=2, col=1)\n",
    "\n",
    "fig.add_trace(go.Box(y=df.loc[df['size'] == 8760]['num_trees'],name='Size = 8760', boxmean=True), row=3, col=1)\n",
    "fig.add_trace(go.Box(y=df.loc[df['size'] == 17520]['num_trees'],name='Size = 17520', boxmean=True), row=3, col=1)\n",
    "fig.update_yaxes(title_text='Number of trees', row=3, col=1)\n",
    "\n",
    "fig.add_trace(go.Box(y=df.loc[df['size'] == 8760]['min_child_weight'],name='Size = 8760', boxmean=True), row=4, col=1)\n",
    "fig.add_trace(go.Box(y=df.loc[df['size'] == 17520]['min_child_weight'],name='Size = 17520', boxmean=True), row=4, col=1)\n",
    "fig.update_yaxes(title_text='Minimum child weight', row=4, col=1)\n",
    "\n",
    "fig.add_trace(go.Box(y=df.loc[df['size'] == 8760]['subsample'],name='Size = 8760', boxmean=True), row=5, col=1)\n",
    "fig.add_trace(go.Box(y=df.loc[df['size'] == 17520]['subsample'],name='Size = 17520', boxmean=True), row=5, col=1)\n",
    "fig.update_yaxes(title_text='Subsample', row=5, col=1)\n",
    "\n",
    "# second row: feature richness\n",
    "fig.add_trace(go.Scatter(y=df['max_depth'],x=df['pca_rank_cor'], mode='markers'),row=,col=2)\n",
    "fig.update_yaxes(title_text='Maximum depth', row=1, col=2)\n",
    "fig.update_xaxes(title_text='Feature richness', row=1, col=2)\n",
    "\n",
    "fig.add_trace(go.Scatter(y=df['learning_rate'],x=df['pca_rank_cor'], mode='markers'),row=2,col=2)\n",
    "fig.update_yaxes(title_text='Learning rate', row=2, col=2)\n",
    "fig.update_xaxes(title_text='Feature richness', row=2, col=2)\n",
    "\n",
    "fig.add_trace(go.Scatter(y=df['num_trees'],x=df['pca_rank_cor'], mode='markers'),row=3,col=2)\n",
    "fig.update_yaxes(title_text='Number of trees', row=3, col=2)\n",
    "fig.update_xaxes(title_text='Feature richness', row=3, col=2)\n",
    "\n",
    "fig.add_trace(go.Scatter(y=df['min_child_weight'],x=df['pca_rank_cor'], mode='markers'),row=4,col=2)\n",
    "fig.update_yaxes(title_text='Minimum child weight', row=4, col=2)\n",
    "fig.update_xaxes(title_text='Feature richness', row=4, col=2)\n",
    "\n",
    "fig.add_trace(go.Scatter(y=df['subsample'],x=df['pca_rank_cor'], mode='markers'),row=5,col=2)\n",
    "fig.update_yaxes(title_text='Subsample', row=5, col=2)\n",
    "fig.update_xaxes(title_text='Feature richness', row=5, col=2)\n",
    "\n",
    "fig.update_layout(\n",
    "    showlegend=False,\n",
    "    height=2000\n",
    ")\n",
    "\n",
    "fig.show()"
   ]
  },
  {
   "cell_type": "markdown",
   "metadata": {},
   "source": [
    "### Old stuff"
   ]
  },
  {
   "cell_type": "code",
   "execution_count": 8,
   "metadata": {},
   "outputs": [
    {
     "data": {
      "application/vnd.plotly.v1+json": {
       "config": {
        "plotlyServerURL": "https://plot.ly"
       },
       "data": [
        {
         "boxmean": true,
         "name": "Size = 8760",
         "type": "box",
         "xaxis": "x",
         "y": [
          14,
          9,
          11,
          7,
          11,
          11,
          14,
          9,
          11,
          9,
          14,
          9,
          14,
          9,
          14,
          9
         ],
         "yaxis": "y"
        },
        {
         "boxmean": true,
         "name": "Size = 17520",
         "type": "box",
         "xaxis": "x",
         "y": [
          14,
          11,
          7,
          9,
          11,
          18,
          11,
          18,
          11,
          16,
          14,
          11,
          14,
          18,
          11,
          18
         ],
         "yaxis": "y"
        },
        {
         "boxmean": true,
         "name": "Size = 8760",
         "type": "box",
         "xaxis": "x2",
         "y": [
          -2.0555555555555554,
          -2.2777777777777777,
          -2.2777777777777777,
          -2.2777777777777777,
          -2.0555555555555554,
          -2.0555555555555554,
          -2.5,
          -1.8333333333333335,
          -1.6111111111111112,
          -2.0555555555555554,
          -2.5,
          -1.8333333333333335,
          -2.5,
          -1.8333333333333335,
          -2.5,
          -2.0555555555555554
         ],
         "yaxis": "y2"
        },
        {
         "boxmean": true,
         "name": "Size = 17520",
         "type": "box",
         "xaxis": "x2",
         "y": [
          -2.2777777777777777,
          -2.2777777777777777,
          -2.0555555555555554,
          -1.8333333333333335,
          -2.0555555555555554,
          -2.2777777777777777,
          -1.8333333333333335,
          -1.8333333333333335,
          -2.2777777777777777,
          -2.2777777777777777,
          -2.5,
          -2.2777777777777777,
          -2.5,
          -1.8333333333333335,
          -1.8333333333333335,
          -2.2777777777777777
         ],
         "yaxis": "y2"
        },
        {
         "boxmean": true,
         "name": "Size = 8760",
         "type": "box",
         "xaxis": "x3",
         "y": [
          380,
          660,
          520,
          800,
          380,
          380,
          800,
          240,
          100,
          380,
          800,
          240,
          800,
          380,
          660,
          380
         ],
         "yaxis": "y3"
        },
        {
         "boxmean": true,
         "name": "Size = 17520",
         "type": "box",
         "xaxis": "x3",
         "y": [
          520,
          800,
          660,
          380,
          520,
          800,
          380,
          240,
          800,
          520,
          800,
          800,
          800,
          240,
          520,
          660
         ],
         "yaxis": "y3"
        },
        {
         "mode": "markers",
         "type": "scatter",
         "x": [
          0.04334059028794689,
          0.04391002846159395,
          0.1742950289319662,
          0.17088399133344986,
          0.04760451253331445,
          0.0515548990724462,
          0.13321103149244717,
          0.1320012767072899,
          0.054971781696046815,
          0.058894662958050945,
          0.1361557294250355,
          0.13001995814154949,
          0.03661302448939458,
          0.03760171597487407,
          0.13770448419074494,
          0.13351931866568495,
          0.04875882362313011,
          0.04632348961927948,
          0.12257515652780968,
          0.11436333754703872,
          0.04058584108322523,
          0.03844440585830611,
          0.1521603469725592,
          0.1492418647754497,
          0.06250562668359318,
          0.06545425684020391,
          0.1698587442622334,
          0.16761516097623888,
          0.044852036768503425,
          0.04820707974614305,
          0.13871783695821072,
          0.13530592515832152
         ],
         "xaxis": "x4",
         "y": [
          5,
          5,
          22.5,
          5,
          5,
          22.5,
          22.5,
          5,
          5,
          5,
          22.5,
          22.5,
          5,
          5,
          22.5,
          5,
          5,
          5,
          22.5,
          5,
          5,
          5,
          5,
          5,
          5,
          5,
          22.5,
          5,
          22.5,
          5,
          22.5,
          5
         ],
         "yaxis": "y4"
        },
        {
         "mode": "markers",
         "type": "scatter",
         "x": [
          0.04334059028794689,
          0.04391002846159395,
          0.1742950289319662,
          0.17088399133344986,
          0.04760451253331445,
          0.0515548990724462,
          0.13321103149244717,
          0.1320012767072899,
          0.054971781696046815,
          0.058894662958050945,
          0.1361557294250355,
          0.13001995814154949,
          0.03661302448939458,
          0.03760171597487407,
          0.13770448419074494,
          0.13351931866568495,
          0.04875882362313011,
          0.04632348961927948,
          0.12257515652780968,
          0.11436333754703872,
          0.04058584108322523,
          0.03844440585830611,
          0.1521603469725592,
          0.1492418647754497,
          0.06250562668359318,
          0.06545425684020391,
          0.1698587442622334,
          0.16761516097623888,
          0.044852036768503425,
          0.04820707974614305,
          0.13871783695821072,
          0.13530592515832152
         ],
         "xaxis": "x5",
         "y": [
          0.75,
          0.75,
          0.5,
          0.5,
          1,
          0.75,
          0.75,
          0.5,
          0.75,
          0.75,
          0.5,
          0.5,
          0.75,
          0.75,
          0.75,
          0.5,
          0.75,
          0.75,
          0.5,
          0.5,
          0.75,
          0.75,
          0.5,
          0.5,
          0.75,
          0.75,
          0.5,
          0.75,
          1,
          0.75,
          0.5,
          0.5
         ],
         "yaxis": "y5"
        },
        {
         "mode": "markers",
         "type": "scatter",
         "x": [
          0.04334059028794689,
          0.04391002846159395,
          0.1742950289319662,
          0.17088399133344986,
          0.04760451253331445,
          0.0515548990724462,
          0.13321103149244717,
          0.1320012767072899,
          0.054971781696046815,
          0.058894662958050945,
          0.1361557294250355,
          0.13001995814154949,
          0.03661302448939458,
          0.03760171597487407,
          0.13770448419074494,
          0.13351931866568495,
          0.04875882362313011,
          0.04632348961927948,
          0.12257515652780968,
          0.11436333754703872,
          0.04058584108322523,
          0.03844440585830611,
          0.1521603469725592,
          0.1492418647754497,
          0.06250562668359318,
          0.06545425684020391,
          0.1698587442622334,
          0.16761516097623888,
          0.044852036768503425,
          0.04820707974614305,
          0.13871783695821072,
          0.13530592515832152
         ],
         "xaxis": "x6",
         "y": [
          14,
          14,
          11,
          9,
          7,
          11,
          9,
          7,
          11,
          11,
          18,
          11,
          11,
          14,
          18,
          9,
          11,
          11,
          16,
          9,
          14,
          14,
          11,
          9,
          14,
          14,
          18,
          9,
          11,
          14,
          18,
          9
         ],
         "yaxis": "y6"
        }
       ],
       "layout": {
        "autosize": true,
        "showlegend": false,
        "template": {
         "data": {
          "bar": [
           {
            "error_x": {
             "color": "#2a3f5f"
            },
            "error_y": {
             "color": "#2a3f5f"
            },
            "marker": {
             "line": {
              "color": "#E5ECF6",
              "width": 0.5
             }
            },
            "type": "bar"
           }
          ],
          "barpolar": [
           {
            "marker": {
             "line": {
              "color": "#E5ECF6",
              "width": 0.5
             }
            },
            "type": "barpolar"
           }
          ],
          "carpet": [
           {
            "aaxis": {
             "endlinecolor": "#2a3f5f",
             "gridcolor": "white",
             "linecolor": "white",
             "minorgridcolor": "white",
             "startlinecolor": "#2a3f5f"
            },
            "baxis": {
             "endlinecolor": "#2a3f5f",
             "gridcolor": "white",
             "linecolor": "white",
             "minorgridcolor": "white",
             "startlinecolor": "#2a3f5f"
            },
            "type": "carpet"
           }
          ],
          "choropleth": [
           {
            "colorbar": {
             "outlinewidth": 0,
             "ticks": ""
            },
            "type": "choropleth"
           }
          ],
          "contour": [
           {
            "colorbar": {
             "outlinewidth": 0,
             "ticks": ""
            },
            "colorscale": [
             [
              0,
              "#0d0887"
             ],
             [
              0.1111111111111111,
              "#46039f"
             ],
             [
              0.2222222222222222,
              "#7201a8"
             ],
             [
              0.3333333333333333,
              "#9c179e"
             ],
             [
              0.4444444444444444,
              "#bd3786"
             ],
             [
              0.5555555555555556,
              "#d8576b"
             ],
             [
              0.6666666666666666,
              "#ed7953"
             ],
             [
              0.7777777777777778,
              "#fb9f3a"
             ],
             [
              0.8888888888888888,
              "#fdca26"
             ],
             [
              1,
              "#f0f921"
             ]
            ],
            "type": "contour"
           }
          ],
          "contourcarpet": [
           {
            "colorbar": {
             "outlinewidth": 0,
             "ticks": ""
            },
            "type": "contourcarpet"
           }
          ],
          "heatmap": [
           {
            "colorbar": {
             "outlinewidth": 0,
             "ticks": ""
            },
            "colorscale": [
             [
              0,
              "#0d0887"
             ],
             [
              0.1111111111111111,
              "#46039f"
             ],
             [
              0.2222222222222222,
              "#7201a8"
             ],
             [
              0.3333333333333333,
              "#9c179e"
             ],
             [
              0.4444444444444444,
              "#bd3786"
             ],
             [
              0.5555555555555556,
              "#d8576b"
             ],
             [
              0.6666666666666666,
              "#ed7953"
             ],
             [
              0.7777777777777778,
              "#fb9f3a"
             ],
             [
              0.8888888888888888,
              "#fdca26"
             ],
             [
              1,
              "#f0f921"
             ]
            ],
            "type": "heatmap"
           }
          ],
          "heatmapgl": [
           {
            "colorbar": {
             "outlinewidth": 0,
             "ticks": ""
            },
            "colorscale": [
             [
              0,
              "#0d0887"
             ],
             [
              0.1111111111111111,
              "#46039f"
             ],
             [
              0.2222222222222222,
              "#7201a8"
             ],
             [
              0.3333333333333333,
              "#9c179e"
             ],
             [
              0.4444444444444444,
              "#bd3786"
             ],
             [
              0.5555555555555556,
              "#d8576b"
             ],
             [
              0.6666666666666666,
              "#ed7953"
             ],
             [
              0.7777777777777778,
              "#fb9f3a"
             ],
             [
              0.8888888888888888,
              "#fdca26"
             ],
             [
              1,
              "#f0f921"
             ]
            ],
            "type": "heatmapgl"
           }
          ],
          "histogram": [
           {
            "marker": {
             "colorbar": {
              "outlinewidth": 0,
              "ticks": ""
             }
            },
            "type": "histogram"
           }
          ],
          "histogram2d": [
           {
            "colorbar": {
             "outlinewidth": 0,
             "ticks": ""
            },
            "colorscale": [
             [
              0,
              "#0d0887"
             ],
             [
              0.1111111111111111,
              "#46039f"
             ],
             [
              0.2222222222222222,
              "#7201a8"
             ],
             [
              0.3333333333333333,
              "#9c179e"
             ],
             [
              0.4444444444444444,
              "#bd3786"
             ],
             [
              0.5555555555555556,
              "#d8576b"
             ],
             [
              0.6666666666666666,
              "#ed7953"
             ],
             [
              0.7777777777777778,
              "#fb9f3a"
             ],
             [
              0.8888888888888888,
              "#fdca26"
             ],
             [
              1,
              "#f0f921"
             ]
            ],
            "type": "histogram2d"
           }
          ],
          "histogram2dcontour": [
           {
            "colorbar": {
             "outlinewidth": 0,
             "ticks": ""
            },
            "colorscale": [
             [
              0,
              "#0d0887"
             ],
             [
              0.1111111111111111,
              "#46039f"
             ],
             [
              0.2222222222222222,
              "#7201a8"
             ],
             [
              0.3333333333333333,
              "#9c179e"
             ],
             [
              0.4444444444444444,
              "#bd3786"
             ],
             [
              0.5555555555555556,
              "#d8576b"
             ],
             [
              0.6666666666666666,
              "#ed7953"
             ],
             [
              0.7777777777777778,
              "#fb9f3a"
             ],
             [
              0.8888888888888888,
              "#fdca26"
             ],
             [
              1,
              "#f0f921"
             ]
            ],
            "type": "histogram2dcontour"
           }
          ],
          "mesh3d": [
           {
            "colorbar": {
             "outlinewidth": 0,
             "ticks": ""
            },
            "type": "mesh3d"
           }
          ],
          "parcoords": [
           {
            "line": {
             "colorbar": {
              "outlinewidth": 0,
              "ticks": ""
             }
            },
            "type": "parcoords"
           }
          ],
          "scatter": [
           {
            "marker": {
             "colorbar": {
              "outlinewidth": 0,
              "ticks": ""
             }
            },
            "type": "scatter"
           }
          ],
          "scatter3d": [
           {
            "line": {
             "colorbar": {
              "outlinewidth": 0,
              "ticks": ""
             }
            },
            "marker": {
             "colorbar": {
              "outlinewidth": 0,
              "ticks": ""
             }
            },
            "type": "scatter3d"
           }
          ],
          "scattercarpet": [
           {
            "marker": {
             "colorbar": {
              "outlinewidth": 0,
              "ticks": ""
             }
            },
            "type": "scattercarpet"
           }
          ],
          "scattergeo": [
           {
            "marker": {
             "colorbar": {
              "outlinewidth": 0,
              "ticks": ""
             }
            },
            "type": "scattergeo"
           }
          ],
          "scattergl": [
           {
            "marker": {
             "colorbar": {
              "outlinewidth": 0,
              "ticks": ""
             }
            },
            "type": "scattergl"
           }
          ],
          "scattermapbox": [
           {
            "marker": {
             "colorbar": {
              "outlinewidth": 0,
              "ticks": ""
             }
            },
            "type": "scattermapbox"
           }
          ],
          "scatterpolar": [
           {
            "marker": {
             "colorbar": {
              "outlinewidth": 0,
              "ticks": ""
             }
            },
            "type": "scatterpolar"
           }
          ],
          "scatterpolargl": [
           {
            "marker": {
             "colorbar": {
              "outlinewidth": 0,
              "ticks": ""
             }
            },
            "type": "scatterpolargl"
           }
          ],
          "scatterternary": [
           {
            "marker": {
             "colorbar": {
              "outlinewidth": 0,
              "ticks": ""
             }
            },
            "type": "scatterternary"
           }
          ],
          "surface": [
           {
            "colorbar": {
             "outlinewidth": 0,
             "ticks": ""
            },
            "colorscale": [
             [
              0,
              "#0d0887"
             ],
             [
              0.1111111111111111,
              "#46039f"
             ],
             [
              0.2222222222222222,
              "#7201a8"
             ],
             [
              0.3333333333333333,
              "#9c179e"
             ],
             [
              0.4444444444444444,
              "#bd3786"
             ],
             [
              0.5555555555555556,
              "#d8576b"
             ],
             [
              0.6666666666666666,
              "#ed7953"
             ],
             [
              0.7777777777777778,
              "#fb9f3a"
             ],
             [
              0.8888888888888888,
              "#fdca26"
             ],
             [
              1,
              "#f0f921"
             ]
            ],
            "type": "surface"
           }
          ],
          "table": [
           {
            "cells": {
             "fill": {
              "color": "#EBF0F8"
             },
             "line": {
              "color": "white"
             }
            },
            "header": {
             "fill": {
              "color": "#C8D4E3"
             },
             "line": {
              "color": "white"
             }
            },
            "type": "table"
           }
          ]
         },
         "layout": {
          "annotationdefaults": {
           "arrowcolor": "#2a3f5f",
           "arrowhead": 0,
           "arrowwidth": 1
          },
          "colorscale": {
           "diverging": [
            [
             0,
             "#8e0152"
            ],
            [
             0.1,
             "#c51b7d"
            ],
            [
             0.2,
             "#de77ae"
            ],
            [
             0.3,
             "#f1b6da"
            ],
            [
             0.4,
             "#fde0ef"
            ],
            [
             0.5,
             "#f7f7f7"
            ],
            [
             0.6,
             "#e6f5d0"
            ],
            [
             0.7,
             "#b8e186"
            ],
            [
             0.8,
             "#7fbc41"
            ],
            [
             0.9,
             "#4d9221"
            ],
            [
             1,
             "#276419"
            ]
           ],
           "sequential": [
            [
             0,
             "#0d0887"
            ],
            [
             0.1111111111111111,
             "#46039f"
            ],
            [
             0.2222222222222222,
             "#7201a8"
            ],
            [
             0.3333333333333333,
             "#9c179e"
            ],
            [
             0.4444444444444444,
             "#bd3786"
            ],
            [
             0.5555555555555556,
             "#d8576b"
            ],
            [
             0.6666666666666666,
             "#ed7953"
            ],
            [
             0.7777777777777778,
             "#fb9f3a"
            ],
            [
             0.8888888888888888,
             "#fdca26"
            ],
            [
             1,
             "#f0f921"
            ]
           ],
           "sequentialminus": [
            [
             0,
             "#0d0887"
            ],
            [
             0.1111111111111111,
             "#46039f"
            ],
            [
             0.2222222222222222,
             "#7201a8"
            ],
            [
             0.3333333333333333,
             "#9c179e"
            ],
            [
             0.4444444444444444,
             "#bd3786"
            ],
            [
             0.5555555555555556,
             "#d8576b"
            ],
            [
             0.6666666666666666,
             "#ed7953"
            ],
            [
             0.7777777777777778,
             "#fb9f3a"
            ],
            [
             0.8888888888888888,
             "#fdca26"
            ],
            [
             1,
             "#f0f921"
            ]
           ]
          },
          "colorway": [
           "#636efa",
           "#EF553B",
           "#00cc96",
           "#ab63fa",
           "#FFA15A",
           "#19d3f3",
           "#FF6692",
           "#B6E880",
           "#FF97FF",
           "#FECB52"
          ],
          "font": {
           "color": "#2a3f5f"
          },
          "geo": {
           "bgcolor": "white",
           "lakecolor": "white",
           "landcolor": "#E5ECF6",
           "showlakes": true,
           "showland": true,
           "subunitcolor": "white"
          },
          "hoverlabel": {
           "align": "left"
          },
          "hovermode": "closest",
          "mapbox": {
           "style": "light"
          },
          "paper_bgcolor": "white",
          "plot_bgcolor": "#E5ECF6",
          "polar": {
           "angularaxis": {
            "gridcolor": "white",
            "linecolor": "white",
            "ticks": ""
           },
           "bgcolor": "#E5ECF6",
           "radialaxis": {
            "gridcolor": "white",
            "linecolor": "white",
            "ticks": ""
           }
          },
          "scene": {
           "xaxis": {
            "backgroundcolor": "#E5ECF6",
            "gridcolor": "white",
            "gridwidth": 2,
            "linecolor": "white",
            "showbackground": true,
            "ticks": "",
            "zerolinecolor": "white"
           },
           "yaxis": {
            "backgroundcolor": "#E5ECF6",
            "gridcolor": "white",
            "gridwidth": 2,
            "linecolor": "white",
            "showbackground": true,
            "ticks": "",
            "zerolinecolor": "white"
           },
           "zaxis": {
            "backgroundcolor": "#E5ECF6",
            "gridcolor": "white",
            "gridwidth": 2,
            "linecolor": "white",
            "showbackground": true,
            "ticks": "",
            "zerolinecolor": "white"
           }
          },
          "shapedefaults": {
           "line": {
            "color": "#2a3f5f"
           }
          },
          "ternary": {
           "aaxis": {
            "gridcolor": "white",
            "linecolor": "white",
            "ticks": ""
           },
           "baxis": {
            "gridcolor": "white",
            "linecolor": "white",
            "ticks": ""
           },
           "bgcolor": "#E5ECF6",
           "caxis": {
            "gridcolor": "white",
            "linecolor": "white",
            "ticks": ""
           }
          },
          "title": {
           "x": 0.05
          },
          "xaxis": {
           "automargin": true,
           "gridcolor": "white",
           "linecolor": "white",
           "ticks": "",
           "zerolinecolor": "white",
           "zerolinewidth": 2
          },
          "yaxis": {
           "automargin": true,
           "gridcolor": "white",
           "linecolor": "white",
           "ticks": "",
           "zerolinecolor": "white",
           "zerolinewidth": 2
          }
         }
        },
        "xaxis": {
         "anchor": "y",
         "autorange": true,
         "domain": [
          0,
          0.2888888888888889
         ],
         "range": [
          -0.5,
          1.5
         ],
         "type": "category"
        },
        "xaxis2": {
         "anchor": "y2",
         "autorange": true,
         "domain": [
          0.35555555555555557,
          0.6444444444444445
         ],
         "range": [
          -0.5,
          1.5
         ],
         "type": "category"
        },
        "xaxis3": {
         "anchor": "y3",
         "autorange": true,
         "domain": [
          0.7111111111111111,
          1
         ],
         "range": [
          -0.5,
          1.5
         ],
         "type": "category"
        },
        "xaxis4": {
         "anchor": "y4",
         "autorange": true,
         "domain": [
          0,
          0.2888888888888889
         ],
         "range": [
          0.02617513256290243,
          0.18473292085845835
         ],
         "title": {
          "text": "Feature richness"
         },
         "type": "linear"
        },
        "xaxis5": {
         "anchor": "y5",
         "autorange": true,
         "domain": [
          0.35555555555555557,
          0.6444444444444445
         ],
         "range": [
          0.02617513256290243,
          0.18473292085845835
         ],
         "title": {
          "text": "Feature richness"
         },
         "type": "linear"
        },
        "xaxis6": {
         "anchor": "y6",
         "autorange": true,
         "domain": [
          0.7111111111111111,
          1
         ],
         "range": [
          0.02617513256290243,
          0.18473292085845835
         ],
         "title": {
          "text": "Feature richness"
         },
         "type": "linear"
        },
        "yaxis": {
         "anchor": "x",
         "autorange": true,
         "domain": [
          0.575,
          1
         ],
         "range": [
          6.388888888888889,
          18.61111111111111
         ],
         "title": {
          "text": "Maximum depth"
         },
         "type": "linear"
        },
        "yaxis2": {
         "anchor": "x2",
         "autorange": true,
         "domain": [
          0.575,
          1
         ],
         "range": [
          -2.549382716049383,
          -1.5617283950617284
         ],
         "title": {
          "text": "Learning rate"
         },
         "type": "linear"
        },
        "yaxis3": {
         "anchor": "x3",
         "autorange": true,
         "domain": [
          0.575,
          1
         ],
         "range": [
          61.111111111111114,
          838.8888888888889
         ],
         "title": {
          "text": "Number of trees"
         },
         "type": "linear"
        },
        "yaxis4": {
         "anchor": "x4",
         "autorange": true,
         "domain": [
          0,
          0.425
         ],
         "range": [
          3.266444792482381,
          24.233555207517618
         ],
         "title": {
          "text": "Minimum child weight"
         },
         "type": "linear"
        },
        "yaxis5": {
         "anchor": "x5",
         "autorange": true,
         "domain": [
          0,
          0.425
         ],
         "range": [
          0.4504698512137823,
          1.0495301487862176
         ],
         "title": {
          "text": "Subsample"
         },
         "type": "linear"
        },
        "yaxis6": {
         "anchor": "x6",
         "autorange": true,
         "domain": [
          0,
          0.425
         ],
         "range": [
          5.9103367267032105,
          19.08966327329679
         ],
         "title": {
          "text": "Maximum depth"
         },
         "type": "linear"
        }
       }
      },
      "image/png": "[encoded data removed]",
      "text/html": [
       "<div>\n",
       "        \n",
       "        \n",
       "            <div id=\"c35912e4-29f4-41cf-a430-9055cd830ba4\" class=\"plotly-graph-div\" style=\"height:525px; width:100%;\"></div>\n",
       "            <script type=\"text/javascript\">\n",
       "                require([\"plotly\"], function(Plotly) {\n",
       "                    window.PLOTLYENV=window.PLOTLYENV || {};\n",
       "                    \n",
       "                if (document.getElementById(\"c35912e4-29f4-41cf-a430-9055cd830ba4\")) {\n",
       "                    Plotly.newPlot(\n",
       "                        'c35912e4-29f4-41cf-a430-9055cd830ba4',\n",
       "                        [{\"boxmean\": true, \"name\": \"Size = 8760\", \"type\": \"box\", \"xaxis\": \"x\", \"y\": [14.0, 9.0, 11.0, 7.0, 11.0, 11.0, 14.0, 9.0, 11.0, 9.0, 14.0, 9.0, 14.0, 9.0, 14.0, 9.0], \"yaxis\": \"y\"}, {\"boxmean\": true, \"name\": \"Size = 17520\", \"type\": \"box\", \"xaxis\": \"x\", \"y\": [14.0, 11.0, 7.0, 9.0, 11.0, 18.0, 11.0, 18.0, 11.0, 16.0, 14.0, 11.0, 14.0, 18.0, 11.0, 18.0], \"yaxis\": \"y\"}, {\"boxmean\": true, \"name\": \"Size = 8760\", \"type\": \"box\", \"xaxis\": \"x2\", \"y\": [-2.0555555555555554, -2.2777777777777777, -2.2777777777777777, -2.2777777777777777, -2.0555555555555554, -2.0555555555555554, -2.5, -1.8333333333333335, -1.6111111111111112, -2.0555555555555554, -2.5, -1.8333333333333335, -2.5, -1.8333333333333335, -2.5, -2.0555555555555554], \"yaxis\": \"y2\"}, {\"boxmean\": true, \"name\": \"Size = 17520\", \"type\": \"box\", \"xaxis\": \"x2\", \"y\": [-2.2777777777777777, -2.2777777777777777, -2.0555555555555554, -1.8333333333333335, -2.0555555555555554, -2.2777777777777777, -1.8333333333333335, -1.8333333333333335, -2.2777777777777777, -2.2777777777777777, -2.5, -2.2777777777777777, -2.5, -1.8333333333333335, -1.8333333333333335, -2.2777777777777777], \"yaxis\": \"y2\"}, {\"boxmean\": true, \"name\": \"Size = 8760\", \"type\": \"box\", \"xaxis\": \"x3\", \"y\": [380.0, 660.0, 520.0, 800.0, 380.0, 380.0, 800.0, 240.0, 100.0, 380.0, 800.0, 240.0, 800.0, 380.0, 660.0, 380.0], \"yaxis\": \"y3\"}, {\"boxmean\": true, \"name\": \"Size = 17520\", \"type\": \"box\", \"xaxis\": \"x3\", \"y\": [520.0, 800.0, 660.0, 380.0, 520.0, 800.0, 380.0, 240.0, 800.0, 520.0, 800.0, 800.0, 800.0, 240.0, 520.0, 660.0], \"yaxis\": \"y3\"}, {\"mode\": \"markers\", \"type\": \"scatter\", \"x\": [0.04334059028794689, 0.04391002846159395, 0.1742950289319662, 0.17088399133344986, 0.04760451253331445, 0.0515548990724462, 0.13321103149244717, 0.1320012767072899, 0.054971781696046815, 0.058894662958050945, 0.1361557294250355, 0.13001995814154949, 0.03661302448939458, 0.03760171597487407, 0.13770448419074494, 0.13351931866568495, 0.04875882362313011, 0.04632348961927948, 0.12257515652780968, 0.11436333754703872, 0.04058584108322523, 0.03844440585830611, 0.1521603469725592, 0.1492418647754497, 0.06250562668359318, 0.06545425684020391, 0.1698587442622334, 0.16761516097623888, 0.044852036768503425, 0.04820707974614305, 0.13871783695821072, 0.13530592515832152], \"xaxis\": \"x4\", \"y\": [5.0, 5.0, 22.5, 5.0, 5.0, 22.5, 22.5, 5.0, 5.0, 5.0, 22.5, 22.5, 5.0, 5.0, 22.5, 5.0, 5.0, 5.0, 22.5, 5.0, 5.0, 5.0, 5.0, 5.0, 5.0, 5.0, 22.5, 5.0, 22.5, 5.0, 22.5, 5.0], \"yaxis\": \"y4\"}, {\"mode\": \"markers\", \"type\": \"scatter\", \"x\": [0.04334059028794689, 0.04391002846159395, 0.1742950289319662, 0.17088399133344986, 0.04760451253331445, 0.0515548990724462, 0.13321103149244717, 0.1320012767072899, 0.054971781696046815, 0.058894662958050945, 0.1361557294250355, 0.13001995814154949, 0.03661302448939458, 0.03760171597487407, 0.13770448419074494, 0.13351931866568495, 0.04875882362313011, 0.04632348961927948, 0.12257515652780968, 0.11436333754703872, 0.04058584108322523, 0.03844440585830611, 0.1521603469725592, 0.1492418647754497, 0.06250562668359318, 0.06545425684020391, 0.1698587442622334, 0.16761516097623888, 0.044852036768503425, 0.04820707974614305, 0.13871783695821072, 0.13530592515832152], \"xaxis\": \"x5\", \"y\": [0.75, 0.75, 0.5, 0.5, 1.0, 0.75, 0.75, 0.5, 0.75, 0.75, 0.5, 0.5, 0.75, 0.75, 0.75, 0.5, 0.75, 0.75, 0.5, 0.5, 0.75, 0.75, 0.5, 0.5, 0.75, 0.75, 0.5, 0.75, 1.0, 0.75, 0.5, 0.5], \"yaxis\": \"y5\"}, {\"mode\": \"markers\", \"type\": \"scatter\", \"x\": [0.04334059028794689, 0.04391002846159395, 0.1742950289319662, 0.17088399133344986, 0.04760451253331445, 0.0515548990724462, 0.13321103149244717, 0.1320012767072899, 0.054971781696046815, 0.058894662958050945, 0.1361557294250355, 0.13001995814154949, 0.03661302448939458, 0.03760171597487407, 0.13770448419074494, 0.13351931866568495, 0.04875882362313011, 0.04632348961927948, 0.12257515652780968, 0.11436333754703872, 0.04058584108322523, 0.03844440585830611, 0.1521603469725592, 0.1492418647754497, 0.06250562668359318, 0.06545425684020391, 0.1698587442622334, 0.16761516097623888, 0.044852036768503425, 0.04820707974614305, 0.13871783695821072, 0.13530592515832152], \"xaxis\": \"x6\", \"y\": [14.0, 14.0, 11.0, 9.0, 7.0, 11.0, 9.0, 7.0, 11.0, 11.0, 18.0, 11.0, 11.0, 14.0, 18.0, 9.0, 11.0, 11.0, 16.0, 9.0, 14.0, 14.0, 11.0, 9.0, 14.0, 14.0, 18.0, 9.0, 11.0, 14.0, 18.0, 9.0], \"yaxis\": \"y6\"}],\n",
       "                        {\"showlegend\": false, \"template\": {\"data\": {\"bar\": [{\"error_x\": {\"color\": \"#2a3f5f\"}, \"error_y\": {\"color\": \"#2a3f5f\"}, \"marker\": {\"line\": {\"color\": \"#E5ECF6\", \"width\": 0.5}}, \"type\": \"bar\"}], \"barpolar\": [{\"marker\": {\"line\": {\"color\": \"#E5ECF6\", \"width\": 0.5}}, \"type\": \"barpolar\"}], \"carpet\": [{\"aaxis\": {\"endlinecolor\": \"#2a3f5f\", \"gridcolor\": \"white\", \"linecolor\": \"white\", \"minorgridcolor\": \"white\", \"startlinecolor\": \"#2a3f5f\"}, \"baxis\": {\"endlinecolor\": \"#2a3f5f\", \"gridcolor\": \"white\", \"linecolor\": \"white\", \"minorgridcolor\": \"white\", \"startlinecolor\": \"#2a3f5f\"}, \"type\": \"carpet\"}], \"choropleth\": [{\"colorbar\": {\"outlinewidth\": 0, \"ticks\": \"\"}, \"type\": \"choropleth\"}], \"contour\": [{\"colorbar\": {\"outlinewidth\": 0, \"ticks\": \"\"}, \"colorscale\": [[0.0, \"#0d0887\"], [0.1111111111111111, \"#46039f\"], [0.2222222222222222, \"#7201a8\"], [0.3333333333333333, \"#9c179e\"], [0.4444444444444444, \"#bd3786\"], [0.5555555555555556, \"#d8576b\"], [0.6666666666666666, \"#ed7953\"], [0.7777777777777778, \"#fb9f3a\"], [0.8888888888888888, \"#fdca26\"], [1.0, \"#f0f921\"]], \"type\": \"contour\"}], \"contourcarpet\": [{\"colorbar\": {\"outlinewidth\": 0, \"ticks\": \"\"}, \"type\": \"contourcarpet\"}], \"heatmap\": [{\"colorbar\": {\"outlinewidth\": 0, \"ticks\": \"\"}, \"colorscale\": [[0.0, \"#0d0887\"], [0.1111111111111111, \"#46039f\"], [0.2222222222222222, \"#7201a8\"], [0.3333333333333333, \"#9c179e\"], [0.4444444444444444, \"#bd3786\"], [0.5555555555555556, \"#d8576b\"], [0.6666666666666666, \"#ed7953\"], [0.7777777777777778, \"#fb9f3a\"], [0.8888888888888888, \"#fdca26\"], [1.0, \"#f0f921\"]], \"type\": \"heatmap\"}], \"heatmapgl\": [{\"colorbar\": {\"outlinewidth\": 0, \"ticks\": \"\"}, \"colorscale\": [[0.0, \"#0d0887\"], [0.1111111111111111, \"#46039f\"], [0.2222222222222222, \"#7201a8\"], [0.3333333333333333, \"#9c179e\"], [0.4444444444444444, \"#bd3786\"], [0.5555555555555556, \"#d8576b\"], [0.6666666666666666, \"#ed7953\"], [0.7777777777777778, \"#fb9f3a\"], [0.8888888888888888, \"#fdca26\"], [1.0, \"#f0f921\"]], \"type\": \"heatmapgl\"}], \"histogram\": [{\"marker\": {\"colorbar\": {\"outlinewidth\": 0, \"ticks\": \"\"}}, \"type\": \"histogram\"}], \"histogram2d\": [{\"colorbar\": {\"outlinewidth\": 0, \"ticks\": \"\"}, \"colorscale\": [[0.0, \"#0d0887\"], [0.1111111111111111, \"#46039f\"], [0.2222222222222222, \"#7201a8\"], [0.3333333333333333, \"#9c179e\"], [0.4444444444444444, \"#bd3786\"], [0.5555555555555556, \"#d8576b\"], [0.6666666666666666, \"#ed7953\"], [0.7777777777777778, \"#fb9f3a\"], [0.8888888888888888, \"#fdca26\"], [1.0, \"#f0f921\"]], \"type\": \"histogram2d\"}], \"histogram2dcontour\": [{\"colorbar\": {\"outlinewidth\": 0, \"ticks\": \"\"}, \"colorscale\": [[0.0, \"#0d0887\"], [0.1111111111111111, \"#46039f\"], [0.2222222222222222, \"#7201a8\"], [0.3333333333333333, \"#9c179e\"], [0.4444444444444444, \"#bd3786\"], [0.5555555555555556, \"#d8576b\"], [0.6666666666666666, \"#ed7953\"], [0.7777777777777778, \"#fb9f3a\"], [0.8888888888888888, \"#fdca26\"], [1.0, \"#f0f921\"]], \"type\": \"histogram2dcontour\"}], \"mesh3d\": [{\"colorbar\": {\"outlinewidth\": 0, \"ticks\": \"\"}, \"type\": \"mesh3d\"}], \"parcoords\": [{\"line\": {\"colorbar\": {\"outlinewidth\": 0, \"ticks\": \"\"}}, \"type\": \"parcoords\"}], \"scatter\": [{\"marker\": {\"colorbar\": {\"outlinewidth\": 0, \"ticks\": \"\"}}, \"type\": \"scatter\"}], \"scatter3d\": [{\"line\": {\"colorbar\": {\"outlinewidth\": 0, \"ticks\": \"\"}}, \"marker\": {\"colorbar\": {\"outlinewidth\": 0, \"ticks\": \"\"}}, \"type\": \"scatter3d\"}], \"scattercarpet\": [{\"marker\": {\"colorbar\": {\"outlinewidth\": 0, \"ticks\": \"\"}}, \"type\": \"scattercarpet\"}], \"scattergeo\": [{\"marker\": {\"colorbar\": {\"outlinewidth\": 0, \"ticks\": \"\"}}, \"type\": \"scattergeo\"}], \"scattergl\": [{\"marker\": {\"colorbar\": {\"outlinewidth\": 0, \"ticks\": \"\"}}, \"type\": \"scattergl\"}], \"scattermapbox\": [{\"marker\": {\"colorbar\": {\"outlinewidth\": 0, \"ticks\": \"\"}}, \"type\": \"scattermapbox\"}], \"scatterpolar\": [{\"marker\": {\"colorbar\": {\"outlinewidth\": 0, \"ticks\": \"\"}}, \"type\": \"scatterpolar\"}], \"scatterpolargl\": [{\"marker\": {\"colorbar\": {\"outlinewidth\": 0, \"ticks\": \"\"}}, \"type\": \"scatterpolargl\"}], \"scatterternary\": [{\"marker\": {\"colorbar\": {\"outlinewidth\": 0, \"ticks\": \"\"}}, \"type\": \"scatterternary\"}], \"surface\": [{\"colorbar\": {\"outlinewidth\": 0, \"ticks\": \"\"}, \"colorscale\": [[0.0, \"#0d0887\"], [0.1111111111111111, \"#46039f\"], [0.2222222222222222, \"#7201a8\"], [0.3333333333333333, \"#9c179e\"], [0.4444444444444444, \"#bd3786\"], [0.5555555555555556, \"#d8576b\"], [0.6666666666666666, \"#ed7953\"], [0.7777777777777778, \"#fb9f3a\"], [0.8888888888888888, \"#fdca26\"], [1.0, \"#f0f921\"]], \"type\": \"surface\"}], \"table\": [{\"cells\": {\"fill\": {\"color\": \"#EBF0F8\"}, \"line\": {\"color\": \"white\"}}, \"header\": {\"fill\": {\"color\": \"#C8D4E3\"}, \"line\": {\"color\": \"white\"}}, \"type\": \"table\"}]}, \"layout\": {\"annotationdefaults\": {\"arrowcolor\": \"#2a3f5f\", \"arrowhead\": 0, \"arrowwidth\": 1}, \"colorscale\": {\"diverging\": [[0, \"#8e0152\"], [0.1, \"#c51b7d\"], [0.2, \"#de77ae\"], [0.3, \"#f1b6da\"], [0.4, \"#fde0ef\"], [0.5, \"#f7f7f7\"], [0.6, \"#e6f5d0\"], [0.7, \"#b8e186\"], [0.8, \"#7fbc41\"], [0.9, \"#4d9221\"], [1, \"#276419\"]], \"sequential\": [[0.0, \"#0d0887\"], [0.1111111111111111, \"#46039f\"], [0.2222222222222222, \"#7201a8\"], [0.3333333333333333, \"#9c179e\"], [0.4444444444444444, \"#bd3786\"], [0.5555555555555556, \"#d8576b\"], [0.6666666666666666, \"#ed7953\"], [0.7777777777777778, \"#fb9f3a\"], [0.8888888888888888, \"#fdca26\"], [1.0, \"#f0f921\"]], \"sequentialminus\": [[0.0, \"#0d0887\"], [0.1111111111111111, \"#46039f\"], [0.2222222222222222, \"#7201a8\"], [0.3333333333333333, \"#9c179e\"], [0.4444444444444444, \"#bd3786\"], [0.5555555555555556, \"#d8576b\"], [0.6666666666666666, \"#ed7953\"], [0.7777777777777778, \"#fb9f3a\"], [0.8888888888888888, \"#fdca26\"], [1.0, \"#f0f921\"]]}, \"colorway\": [\"#636efa\", \"#EF553B\", \"#00cc96\", \"#ab63fa\", \"#FFA15A\", \"#19d3f3\", \"#FF6692\", \"#B6E880\", \"#FF97FF\", \"#FECB52\"], \"font\": {\"color\": \"#2a3f5f\"}, \"geo\": {\"bgcolor\": \"white\", \"lakecolor\": \"white\", \"landcolor\": \"#E5ECF6\", \"showlakes\": true, \"showland\": true, \"subunitcolor\": \"white\"}, \"hoverlabel\": {\"align\": \"left\"}, \"hovermode\": \"closest\", \"mapbox\": {\"style\": \"light\"}, \"paper_bgcolor\": \"white\", \"plot_bgcolor\": \"#E5ECF6\", \"polar\": {\"angularaxis\": {\"gridcolor\": \"white\", \"linecolor\": \"white\", \"ticks\": \"\"}, \"bgcolor\": \"#E5ECF6\", \"radialaxis\": {\"gridcolor\": \"white\", \"linecolor\": \"white\", \"ticks\": \"\"}}, \"scene\": {\"xaxis\": {\"backgroundcolor\": \"#E5ECF6\", \"gridcolor\": \"white\", \"gridwidth\": 2, \"linecolor\": \"white\", \"showbackground\": true, \"ticks\": \"\", \"zerolinecolor\": \"white\"}, \"yaxis\": {\"backgroundcolor\": \"#E5ECF6\", \"gridcolor\": \"white\", \"gridwidth\": 2, \"linecolor\": \"white\", \"showbackground\": true, \"ticks\": \"\", \"zerolinecolor\": \"white\"}, \"zaxis\": {\"backgroundcolor\": \"#E5ECF6\", \"gridcolor\": \"white\", \"gridwidth\": 2, \"linecolor\": \"white\", \"showbackground\": true, \"ticks\": \"\", \"zerolinecolor\": \"white\"}}, \"shapedefaults\": {\"line\": {\"color\": \"#2a3f5f\"}}, \"ternary\": {\"aaxis\": {\"gridcolor\": \"white\", \"linecolor\": \"white\", \"ticks\": \"\"}, \"baxis\": {\"gridcolor\": \"white\", \"linecolor\": \"white\", \"ticks\": \"\"}, \"bgcolor\": \"#E5ECF6\", \"caxis\": {\"gridcolor\": \"white\", \"linecolor\": \"white\", \"ticks\": \"\"}}, \"title\": {\"x\": 0.05}, \"xaxis\": {\"automargin\": true, \"gridcolor\": \"white\", \"linecolor\": \"white\", \"ticks\": \"\", \"zerolinecolor\": \"white\", \"zerolinewidth\": 2}, \"yaxis\": {\"automargin\": true, \"gridcolor\": \"white\", \"linecolor\": \"white\", \"ticks\": \"\", \"zerolinecolor\": \"white\", \"zerolinewidth\": 2}}}, \"xaxis\": {\"anchor\": \"y\", \"domain\": [0.0, 0.2888888888888889]}, \"xaxis2\": {\"anchor\": \"y2\", \"domain\": [0.35555555555555557, 0.6444444444444445]}, \"xaxis3\": {\"anchor\": \"y3\", \"domain\": [0.7111111111111111, 1.0]}, \"xaxis4\": {\"anchor\": \"y4\", \"domain\": [0.0, 0.2888888888888889], \"title\": {\"text\": \"Feature richness\"}}, \"xaxis5\": {\"anchor\": \"y5\", \"domain\": [0.35555555555555557, 0.6444444444444445], \"title\": {\"text\": \"Feature richness\"}}, \"xaxis6\": {\"anchor\": \"y6\", \"domain\": [0.7111111111111111, 1.0], \"title\": {\"text\": \"Feature richness\"}}, \"yaxis\": {\"anchor\": \"x\", \"domain\": [0.575, 1.0], \"title\": {\"text\": \"Maximum depth\"}}, \"yaxis2\": {\"anchor\": \"x2\", \"domain\": [0.575, 1.0], \"title\": {\"text\": \"Learning rate\"}}, \"yaxis3\": {\"anchor\": \"x3\", \"domain\": [0.575, 1.0], \"title\": {\"text\": \"Number of trees\"}}, \"yaxis4\": {\"anchor\": \"x4\", \"domain\": [0.0, 0.425], \"title\": {\"text\": \"Minimum child weight\"}}, \"yaxis5\": {\"anchor\": \"x5\", \"domain\": [0.0, 0.425], \"title\": {\"text\": \"Subsample\"}}, \"yaxis6\": {\"anchor\": \"x6\", \"domain\": [0.0, 0.425], \"title\": {\"text\": \"Maximum depth\"}}},\n",
       "                        {\"responsive\": true}\n",
       "                    ).then(function(){\n",
       "                            \n",
       "var gd = document.getElementById('c35912e4-29f4-41cf-a430-9055cd830ba4');\n",
       "var x = new MutationObserver(function (mutations, observer) {{\n",
       "        var display = window.getComputedStyle(gd).display;\n",
       "        if (!display || display === 'none') {{\n",
       "            console.log([gd, 'removed!']);\n",
       "            Plotly.purge(gd);\n",
       "            observer.disconnect();\n",
       "        }}\n",
       "}});\n",
       "\n",
       "// Listen for the removal of the full notebook cells\n",
       "var notebookContainer = gd.closest('#notebook-container');\n",
       "if (notebookContainer) {{\n",
       "    x.observe(notebookContainer, {childList: true});\n",
       "}}\n",
       "\n",
       "// Listen for the clearing of the current output cell\n",
       "var outputEl = gd.closest('.output');\n",
       "if (outputEl) {{\n",
       "    x.observe(outputEl, {childList: true});\n",
       "}}\n",
       "\n",
       "                        })\n",
       "                };\n",
       "                });\n",
       "            </script>\n",
       "        </div>"
      ]
     },
     "metadata": {},
     "output_type": "display_data"
    }
   ],
   "source": [
    "# size - hyperparameters\n",
    "fig = make_subplots(\n",
    "    rows=2,\n",
    "    cols=3\n",
    ")\n",
    "\n",
    "# first row: size\n",
    "fig.add_trace(go.Box(y=df.loc[df['size'] == 8760]['max_depth'],name='Size = 8760', boxmean=True), row=1, col=1)\n",
    "fig.add_trace(go.Box(y=df.loc[df['size'] == 17520]['max_depth'],name='Size = 17520', boxmean=True), row=1, col=1)\n",
    "fig.update_yaxes(title_text='Maximum depth', row=1, col=1)\n",
    "\n",
    "fig.add_trace(go.Box(y=np.log10(df.loc[df['size'] == 8760]['learning_rate']),name='Size = 8760', boxmean=True), row=1, col=2)\n",
    "fig.add_trace(go.Box(y=np.log10(df.loc[df['size'] == 17520]['learning_rate']),name='Size = 17520', boxmean=True), row=1, col=2)\n",
    "fig.update_yaxes(title_text='Learning rate', row=1, col=2)\n",
    "\n",
    "fig.add_trace(go.Box(y=df.loc[df['size'] == 8760]['num_trees'],name='Size = 8760', boxmean=True), row=1, col=3)\n",
    "fig.add_trace(go.Box(y=df.loc[df['size'] == 17520]['num_trees'],name='Size = 17520', boxmean=True), row=1, col=3)\n",
    "fig.update_yaxes(title_text='Number of trees', row=1, col=3)\n",
    "\n",
    "# second row: feature richness\n",
    "fig.add_trace(go.Scatter(y=df['min_child_weight'],x=df['pca_rank_cor'], mode='markers'),row=2,col=1)\n",
    "fig.update_yaxes(title_text='Minimum child weight', row=2, col=1)\n",
    "fig.update_xaxes(title_text='Feature richness', row=2, col=1)\n",
    "\n",
    "fig.add_trace(go.Scatter(y=df['subsample'],x=df['pca_rank_cor'], mode='markers'),row=2,col=2)\n",
    "fig.update_yaxes(title_text='Subsample', row=2, col=2)\n",
    "fig.update_xaxes(title_text='Feature richness', row=2, col=2)\n",
    "\n",
    "fig.add_trace(go.Scatter(y=df['max_depth'],x=df['pca_rank_cor'], mode='markers'),row=2,col=3)\n",
    "fig.update_yaxes(title_text='Maximum depth', row=2, col=3)\n",
    "fig.update_xaxes(title_text='Feature richness', row=2, col=3)\n",
    "\n",
    "fig.update_layout(showlegend=False)\n",
    "\n",
    "fig.show()"
   ]
  },
  {
   "cell_type": "code",
   "execution_count": 5,
   "metadata": {},
   "outputs": [
    {
     "data": {
      "application/vnd.plotly.v1+json": {
       "config": {
        "plotlyServerURL": "https://plot.ly"
       },
       "data": [
        {
         "boxmean": true,
         "name": "Size = 8760",
         "type": "box",
         "xaxis": "x",
         "y": [
          14,
          9,
          11,
          7,
          11,
          11,
          14,
          9,
          11,
          9,
          14,
          9,
          14,
          9,
          14,
          9,
          14,
          9,
          18,
          7,
          11,
          14,
          14,
          9,
          11,
          9,
          14,
          9,
          14,
          16,
          14,
          9
         ],
         "yaxis": "y"
        },
        {
         "boxmean": true,
         "name": "Size = 17520",
         "type": "box",
         "xaxis": "x",
         "y": [
          14,
          11,
          7,
          9,
          11,
          18,
          11,
          18,
          11,
          16,
          14,
          11,
          14,
          18,
          11,
          18,
          14,
          14,
          7,
          9,
          11,
          16,
          11,
          20,
          11,
          18,
          14,
          11,
          16,
          20,
          11,
          16
         ],
         "yaxis": "y"
        },
        {
         "boxmean": true,
         "name": "Size = 8760",
         "type": "box",
         "xaxis": "x2",
         "y": [
          -2.0555555555555554,
          -2.2777777777777777,
          -2.2777777777777777,
          -2.2777777777777777,
          -2.0555555555555554,
          -2.0555555555555554,
          -2.5,
          -1.8333333333333335,
          -1.6111111111111112,
          -2.0555555555555554,
          -2.5,
          -1.8333333333333335,
          -2.5,
          -1.8333333333333335,
          -2.5,
          -2.0555555555555554,
          -2.5,
          -2.2777777777777777,
          -2.2777777777777777,
          -2.0555555555555554,
          -2.2777777777777777,
          -2.0555555555555554,
          -2.2777777777777777,
          -2.2777777777777777,
          -2.2777777777777777,
          -1.8333333333333335,
          -2.0555555555555554,
          -2.2777777777777777,
          -2.5,
          -2.0555555555555554,
          -2.5,
          -1.8333333333333335
         ],
         "yaxis": "y2"
        },
        {
         "boxmean": true,
         "name": "Size = 17520",
         "type": "box",
         "xaxis": "x2",
         "y": [
          -2.2777777777777777,
          -2.2777777777777777,
          -2.0555555555555554,
          -1.8333333333333335,
          -2.0555555555555554,
          -2.2777777777777777,
          -1.8333333333333335,
          -1.8333333333333335,
          -2.2777777777777777,
          -2.2777777777777777,
          -2.5,
          -2.2777777777777777,
          -2.5,
          -1.8333333333333335,
          -1.8333333333333335,
          -2.2777777777777777,
          -2.2777777777777777,
          -1.8333333333333335,
          -1.6111111111111112,
          -1.8333333333333335,
          -2.0555555555555554,
          -2.2777777777777777,
          -1.8333333333333335,
          -1.8333333333333335,
          -2.2777777777777777,
          -2.2777777777777777,
          -2.2777777777777777,
          -2.2777777777777777,
          -2.2777777777777777,
          -2.2777777777777777,
          -2.2777777777777777,
          -2.2777777777777777
         ],
         "yaxis": "y2"
        },
        {
         "boxmean": true,
         "name": "Size = 8760",
         "type": "box",
         "xaxis": "x3",
         "y": [
          380,
          660,
          520,
          800,
          380,
          380,
          800,
          240,
          100,
          380,
          800,
          240,
          800,
          380,
          660,
          380,
          800,
          800,
          520,
          520,
          660,
          380,
          520,
          800,
          520,
          240,
          240,
          800,
          660,
          520,
          800,
          240
         ],
         "yaxis": "y3"
        },
        {
         "boxmean": true,
         "name": "Size = 17520",
         "type": "box",
         "xaxis": "x3",
         "y": [
          520,
          800,
          660,
          380,
          520,
          800,
          380,
          240,
          800,
          520,
          800,
          800,
          800,
          240,
          520,
          660,
          660,
          240,
          240,
          520,
          660,
          800,
          520,
          240,
          660,
          520,
          520,
          660,
          520,
          800,
          660,
          660
         ],
         "yaxis": "y3"
        },
        {
         "mode": "markers",
         "type": "scatter",
         "x": [
          0.04334059028794689,
          0.04391002846159395,
          0.1742950289319662,
          0.17088399133344986,
          0.04760451253331445,
          0.0515548990724462,
          0.13321103149244717,
          0.1320012767072899,
          0.054971781696046815,
          0.058894662958050945,
          0.1361557294250355,
          0.13001995814154949,
          0.03661302448939458,
          0.03760171597487407,
          0.13770448419074494,
          0.13351931866568495,
          0.04875882362313011,
          0.04632348961927948,
          0.12257515652780968,
          0.11436333754703872,
          0.04058584108322523,
          0.03844440585830611,
          0.1521603469725592,
          0.1492418647754497,
          0.06250562668359318,
          0.06545425684020391,
          0.1698587442622334,
          0.16761516097623888,
          0.044852036768503425,
          0.04820707974614305,
          0.13871783695821072,
          0.13530592515832152,
          0.04334059028794689,
          0.04391002846159395,
          0.1742950289319662,
          0.17088399133344986,
          0.04760451253331445,
          0.0515548990724462,
          0.13321103149244717,
          0.1320012767072899,
          0.054971781696046815,
          0.058894662958050945,
          0.1361557294250355,
          0.13001995814154949,
          0.03661302448939458,
          0.03760171597487407,
          0.13770448419074494,
          0.13351931866568495,
          0.04875882362313011,
          0.04632348961927948,
          0.12257515652780968,
          0.11436333754703872,
          0.04058584108322523,
          0.03844440585830611,
          0.1521603469725592,
          0.1492418647754497,
          0.06250562668359318,
          0.06545425684020391,
          0.1698587442622334,
          0.16761516097623888,
          0.044852036768503425,
          0.04820707974614305,
          0.13871783695821072,
          0.13530592515832152
         ],
         "xaxis": "x4",
         "y": [
          5,
          5,
          22.5,
          5,
          5,
          22.5,
          22.5,
          5,
          5,
          5,
          22.5,
          22.5,
          5,
          5,
          22.5,
          5,
          5,
          5,
          22.5,
          5,
          5,
          5,
          5,
          5,
          5,
          5,
          22.5,
          5,
          22.5,
          5,
          22.5,
          5,
          5,
          5,
          22.5,
          5,
          5,
          40,
          40,
          5,
          5,
          5,
          22.5,
          22.5,
          5,
          5,
          22.5,
          5,
          5,
          5,
          22.5,
          5,
          5,
          5,
          5,
          5,
          5,
          5,
          22.5,
          22.5,
          5,
          22.5,
          22.5,
          5
         ],
         "yaxis": "y4"
        },
        {
         "mode": "markers",
         "type": "scatter",
         "x": [
          0.04334059028794689,
          0.04391002846159395,
          0.1742950289319662,
          0.17088399133344986,
          0.04760451253331445,
          0.0515548990724462,
          0.13321103149244717,
          0.1320012767072899,
          0.054971781696046815,
          0.058894662958050945,
          0.1361557294250355,
          0.13001995814154949,
          0.03661302448939458,
          0.03760171597487407,
          0.13770448419074494,
          0.13351931866568495,
          0.04875882362313011,
          0.04632348961927948,
          0.12257515652780968,
          0.11436333754703872,
          0.04058584108322523,
          0.03844440585830611,
          0.1521603469725592,
          0.1492418647754497,
          0.06250562668359318,
          0.06545425684020391,
          0.1698587442622334,
          0.16761516097623888,
          0.044852036768503425,
          0.04820707974614305,
          0.13871783695821072,
          0.13530592515832152,
          0.04334059028794689,
          0.04391002846159395,
          0.1742950289319662,
          0.17088399133344986,
          0.04760451253331445,
          0.0515548990724462,
          0.13321103149244717,
          0.1320012767072899,
          0.054971781696046815,
          0.058894662958050945,
          0.1361557294250355,
          0.13001995814154949,
          0.03661302448939458,
          0.03760171597487407,
          0.13770448419074494,
          0.13351931866568495,
          0.04875882362313011,
          0.04632348961927948,
          0.12257515652780968,
          0.11436333754703872,
          0.04058584108322523,
          0.03844440585830611,
          0.1521603469725592,
          0.1492418647754497,
          0.06250562668359318,
          0.06545425684020391,
          0.1698587442622334,
          0.16761516097623888,
          0.044852036768503425,
          0.04820707974614305,
          0.13871783695821072,
          0.13530592515832152
         ],
         "xaxis": "x5",
         "y": [
          0.75,
          0.75,
          0.5,
          0.5,
          1,
          0.75,
          0.75,
          0.5,
          0.75,
          0.75,
          0.5,
          0.5,
          0.75,
          0.75,
          0.75,
          0.5,
          0.75,
          0.75,
          0.5,
          0.5,
          0.75,
          0.75,
          0.5,
          0.5,
          0.75,
          0.75,
          0.5,
          0.75,
          1,
          0.75,
          0.5,
          0.5,
          0.75,
          0.75,
          0.5,
          0.5,
          1,
          0.75,
          0.75,
          0.5,
          0.75,
          0.75,
          0.5,
          0.5,
          0.75,
          0.75,
          0.75,
          0.5,
          0.75,
          0.75,
          0.5,
          0.5,
          0.75,
          0.75,
          0.5,
          0.5,
          0.5,
          0.75,
          0.5,
          0.75,
          0.75,
          0.75,
          0.5,
          0.5
         ],
         "yaxis": "y5"
        },
        {
         "mode": "markers",
         "type": "scatter",
         "x": [
          0.04334059028794689,
          0.04391002846159395,
          0.1742950289319662,
          0.17088399133344986,
          0.04760451253331445,
          0.0515548990724462,
          0.13321103149244717,
          0.1320012767072899,
          0.054971781696046815,
          0.058894662958050945,
          0.1361557294250355,
          0.13001995814154949,
          0.03661302448939458,
          0.03760171597487407,
          0.13770448419074494,
          0.13351931866568495,
          0.04875882362313011,
          0.04632348961927948,
          0.12257515652780968,
          0.11436333754703872,
          0.04058584108322523,
          0.03844440585830611,
          0.1521603469725592,
          0.1492418647754497,
          0.06250562668359318,
          0.06545425684020391,
          0.1698587442622334,
          0.16761516097623888,
          0.044852036768503425,
          0.04820707974614305,
          0.13871783695821072,
          0.13530592515832152,
          0.04334059028794689,
          0.04391002846159395,
          0.1742950289319662,
          0.17088399133344986,
          0.04760451253331445,
          0.0515548990724462,
          0.13321103149244717,
          0.1320012767072899,
          0.054971781696046815,
          0.058894662958050945,
          0.1361557294250355,
          0.13001995814154949,
          0.03661302448939458,
          0.03760171597487407,
          0.13770448419074494,
          0.13351931866568495,
          0.04875882362313011,
          0.04632348961927948,
          0.12257515652780968,
          0.11436333754703872,
          0.04058584108322523,
          0.03844440585830611,
          0.1521603469725592,
          0.1492418647754497,
          0.06250562668359318,
          0.06545425684020391,
          0.1698587442622334,
          0.16761516097623888,
          0.044852036768503425,
          0.04820707974614305,
          0.13871783695821072,
          0.13530592515832152
         ],
         "xaxis": "x6",
         "y": [
          14,
          14,
          11,
          9,
          7,
          11,
          9,
          7,
          11,
          11,
          18,
          11,
          11,
          14,
          18,
          9,
          11,
          11,
          16,
          9,
          14,
          14,
          11,
          9,
          14,
          14,
          18,
          9,
          11,
          14,
          18,
          9,
          14,
          14,
          14,
          9,
          7,
          18,
          9,
          7,
          11,
          11,
          16,
          14,
          11,
          14,
          20,
          9,
          11,
          11,
          18,
          9,
          14,
          14,
          11,
          9,
          16,
          14,
          20,
          16,
          11,
          14,
          16,
          9
         ],
         "yaxis": "y6"
        }
       ],
       "layout": {
        "autosize": true,
        "showlegend": false,
        "template": {
         "data": {
          "bar": [
           {
            "error_x": {
             "color": "#2a3f5f"
            },
            "error_y": {
             "color": "#2a3f5f"
            },
            "marker": {
             "line": {
              "color": "#E5ECF6",
              "width": 0.5
             }
            },
            "type": "bar"
           }
          ],
          "barpolar": [
           {
            "marker": {
             "line": {
              "color": "#E5ECF6",
              "width": 0.5
             }
            },
            "type": "barpolar"
           }
          ],
          "carpet": [
           {
            "aaxis": {
             "endlinecolor": "#2a3f5f",
             "gridcolor": "white",
             "linecolor": "white",
             "minorgridcolor": "white",
             "startlinecolor": "#2a3f5f"
            },
            "baxis": {
             "endlinecolor": "#2a3f5f",
             "gridcolor": "white",
             "linecolor": "white",
             "minorgridcolor": "white",
             "startlinecolor": "#2a3f5f"
            },
            "type": "carpet"
           }
          ],
          "choropleth": [
           {
            "colorbar": {
             "outlinewidth": 0,
             "ticks": ""
            },
            "type": "choropleth"
           }
          ],
          "contour": [
           {
            "colorbar": {
             "outlinewidth": 0,
             "ticks": ""
            },
            "colorscale": [
             [
              0,
              "#0d0887"
             ],
             [
              0.1111111111111111,
              "#46039f"
             ],
             [
              0.2222222222222222,
              "#7201a8"
             ],
             [
              0.3333333333333333,
              "#9c179e"
             ],
             [
              0.4444444444444444,
              "#bd3786"
             ],
             [
              0.5555555555555556,
              "#d8576b"
             ],
             [
              0.6666666666666666,
              "#ed7953"
             ],
             [
              0.7777777777777778,
              "#fb9f3a"
             ],
             [
              0.8888888888888888,
              "#fdca26"
             ],
             [
              1,
              "#f0f921"
             ]
            ],
            "type": "contour"
           }
          ],
          "contourcarpet": [
           {
            "colorbar": {
             "outlinewidth": 0,
             "ticks": ""
            },
            "type": "contourcarpet"
           }
          ],
          "heatmap": [
           {
            "colorbar": {
             "outlinewidth": 0,
             "ticks": ""
            },
            "colorscale": [
             [
              0,
              "#0d0887"
             ],
             [
              0.1111111111111111,
              "#46039f"
             ],
             [
              0.2222222222222222,
              "#7201a8"
             ],
             [
              0.3333333333333333,
              "#9c179e"
             ],
             [
              0.4444444444444444,
              "#bd3786"
             ],
             [
              0.5555555555555556,
              "#d8576b"
             ],
             [
              0.6666666666666666,
              "#ed7953"
             ],
             [
              0.7777777777777778,
              "#fb9f3a"
             ],
             [
              0.8888888888888888,
              "#fdca26"
             ],
             [
              1,
              "#f0f921"
             ]
            ],
            "type": "heatmap"
           }
          ],
          "heatmapgl": [
           {
            "colorbar": {
             "outlinewidth": 0,
             "ticks": ""
            },
            "colorscale": [
             [
              0,
              "#0d0887"
             ],
             [
              0.1111111111111111,
              "#46039f"
             ],
             [
              0.2222222222222222,
              "#7201a8"
             ],
             [
              0.3333333333333333,
              "#9c179e"
             ],
             [
              0.4444444444444444,
              "#bd3786"
             ],
             [
              0.5555555555555556,
              "#d8576b"
             ],
             [
              0.6666666666666666,
              "#ed7953"
             ],
             [
              0.7777777777777778,
              "#fb9f3a"
             ],
             [
              0.8888888888888888,
              "#fdca26"
             ],
             [
              1,
              "#f0f921"
             ]
            ],
            "type": "heatmapgl"
           }
          ],
          "histogram": [
           {
            "marker": {
             "colorbar": {
              "outlinewidth": 0,
              "ticks": ""
             }
            },
            "type": "histogram"
           }
          ],
          "histogram2d": [
           {
            "colorbar": {
             "outlinewidth": 0,
             "ticks": ""
            },
            "colorscale": [
             [
              0,
              "#0d0887"
             ],
             [
              0.1111111111111111,
              "#46039f"
             ],
             [
              0.2222222222222222,
              "#7201a8"
             ],
             [
              0.3333333333333333,
              "#9c179e"
             ],
             [
              0.4444444444444444,
              "#bd3786"
             ],
             [
              0.5555555555555556,
              "#d8576b"
             ],
             [
              0.6666666666666666,
              "#ed7953"
             ],
             [
              0.7777777777777778,
              "#fb9f3a"
             ],
             [
              0.8888888888888888,
              "#fdca26"
             ],
             [
              1,
              "#f0f921"
             ]
            ],
            "type": "histogram2d"
           }
          ],
          "histogram2dcontour": [
           {
            "colorbar": {
             "outlinewidth": 0,
             "ticks": ""
            },
            "colorscale": [
             [
              0,
              "#0d0887"
             ],
             [
              0.1111111111111111,
              "#46039f"
             ],
             [
              0.2222222222222222,
              "#7201a8"
             ],
             [
              0.3333333333333333,
              "#9c179e"
             ],
             [
              0.4444444444444444,
              "#bd3786"
             ],
             [
              0.5555555555555556,
              "#d8576b"
             ],
             [
              0.6666666666666666,
              "#ed7953"
             ],
             [
              0.7777777777777778,
              "#fb9f3a"
             ],
             [
              0.8888888888888888,
              "#fdca26"
             ],
             [
              1,
              "#f0f921"
             ]
            ],
            "type": "histogram2dcontour"
           }
          ],
          "mesh3d": [
           {
            "colorbar": {
             "outlinewidth": 0,
             "ticks": ""
            },
            "type": "mesh3d"
           }
          ],
          "parcoords": [
           {
            "line": {
             "colorbar": {
              "outlinewidth": 0,
              "ticks": ""
             }
            },
            "type": "parcoords"
           }
          ],
          "scatter": [
           {
            "marker": {
             "colorbar": {
              "outlinewidth": 0,
              "ticks": ""
             }
            },
            "type": "scatter"
           }
          ],
          "scatter3d": [
           {
            "line": {
             "colorbar": {
              "outlinewidth": 0,
              "ticks": ""
             }
            },
            "marker": {
             "colorbar": {
              "outlinewidth": 0,
              "ticks": ""
             }
            },
            "type": "scatter3d"
           }
          ],
          "scattercarpet": [
           {
            "marker": {
             "colorbar": {
              "outlinewidth": 0,
              "ticks": ""
             }
            },
            "type": "scattercarpet"
           }
          ],
          "scattergeo": [
           {
            "marker": {
             "colorbar": {
              "outlinewidth": 0,
              "ticks": ""
             }
            },
            "type": "scattergeo"
           }
          ],
          "scattergl": [
           {
            "marker": {
             "colorbar": {
              "outlinewidth": 0,
              "ticks": ""
             }
            },
            "type": "scattergl"
           }
          ],
          "scattermapbox": [
           {
            "marker": {
             "colorbar": {
              "outlinewidth": 0,
              "ticks": ""
             }
            },
            "type": "scattermapbox"
           }
          ],
          "scatterpolar": [
           {
            "marker": {
             "colorbar": {
              "outlinewidth": 0,
              "ticks": ""
             }
            },
            "type": "scatterpolar"
           }
          ],
          "scatterpolargl": [
           {
            "marker": {
             "colorbar": {
              "outlinewidth": 0,
              "ticks": ""
             }
            },
            "type": "scatterpolargl"
           }
          ],
          "scatterternary": [
           {
            "marker": {
             "colorbar": {
              "outlinewidth": 0,
              "ticks": ""
             }
            },
            "type": "scatterternary"
           }
          ],
          "surface": [
           {
            "colorbar": {
             "outlinewidth": 0,
             "ticks": ""
            },
            "colorscale": [
             [
              0,
              "#0d0887"
             ],
             [
              0.1111111111111111,
              "#46039f"
             ],
             [
              0.2222222222222222,
              "#7201a8"
             ],
             [
              0.3333333333333333,
              "#9c179e"
             ],
             [
              0.4444444444444444,
              "#bd3786"
             ],
             [
              0.5555555555555556,
              "#d8576b"
             ],
             [
              0.6666666666666666,
              "#ed7953"
             ],
             [
              0.7777777777777778,
              "#fb9f3a"
             ],
             [
              0.8888888888888888,
              "#fdca26"
             ],
             [
              1,
              "#f0f921"
             ]
            ],
            "type": "surface"
           }
          ],
          "table": [
           {
            "cells": {
             "fill": {
              "color": "#EBF0F8"
             },
             "line": {
              "color": "white"
             }
            },
            "header": {
             "fill": {
              "color": "#C8D4E3"
             },
             "line": {
              "color": "white"
             }
            },
            "type": "table"
           }
          ]
         },
         "layout": {
          "annotationdefaults": {
           "arrowcolor": "#2a3f5f",
           "arrowhead": 0,
           "arrowwidth": 1
          },
          "colorscale": {
           "diverging": [
            [
             0,
             "#8e0152"
            ],
            [
             0.1,
             "#c51b7d"
            ],
            [
             0.2,
             "#de77ae"
            ],
            [
             0.3,
             "#f1b6da"
            ],
            [
             0.4,
             "#fde0ef"
            ],
            [
             0.5,
             "#f7f7f7"
            ],
            [
             0.6,
             "#e6f5d0"
            ],
            [
             0.7,
             "#b8e186"
            ],
            [
             0.8,
             "#7fbc41"
            ],
            [
             0.9,
             "#4d9221"
            ],
            [
             1,
             "#276419"
            ]
           ],
           "sequential": [
            [
             0,
             "#0d0887"
            ],
            [
             0.1111111111111111,
             "#46039f"
            ],
            [
             0.2222222222222222,
             "#7201a8"
            ],
            [
             0.3333333333333333,
             "#9c179e"
            ],
            [
             0.4444444444444444,
             "#bd3786"
            ],
            [
             0.5555555555555556,
             "#d8576b"
            ],
            [
             0.6666666666666666,
             "#ed7953"
            ],
            [
             0.7777777777777778,
             "#fb9f3a"
            ],
            [
             0.8888888888888888,
             "#fdca26"
            ],
            [
             1,
             "#f0f921"
            ]
           ],
           "sequentialminus": [
            [
             0,
             "#0d0887"
            ],
            [
             0.1111111111111111,
             "#46039f"
            ],
            [
             0.2222222222222222,
             "#7201a8"
            ],
            [
             0.3333333333333333,
             "#9c179e"
            ],
            [
             0.4444444444444444,
             "#bd3786"
            ],
            [
             0.5555555555555556,
             "#d8576b"
            ],
            [
             0.6666666666666666,
             "#ed7953"
            ],
            [
             0.7777777777777778,
             "#fb9f3a"
            ],
            [
             0.8888888888888888,
             "#fdca26"
            ],
            [
             1,
             "#f0f921"
            ]
           ]
          },
          "colorway": [
           "#636efa",
           "#EF553B",
           "#00cc96",
           "#ab63fa",
           "#FFA15A",
           "#19d3f3",
           "#FF6692",
           "#B6E880",
           "#FF97FF",
           "#FECB52"
          ],
          "font": {
           "color": "#2a3f5f"
          },
          "geo": {
           "bgcolor": "white",
           "lakecolor": "white",
           "landcolor": "#E5ECF6",
           "showlakes": true,
           "showland": true,
           "subunitcolor": "white"
          },
          "hoverlabel": {
           "align": "left"
          },
          "hovermode": "closest",
          "mapbox": {
           "style": "light"
          },
          "paper_bgcolor": "white",
          "plot_bgcolor": "#E5ECF6",
          "polar": {
           "angularaxis": {
            "gridcolor": "white",
            "linecolor": "white",
            "ticks": ""
           },
           "bgcolor": "#E5ECF6",
           "radialaxis": {
            "gridcolor": "white",
            "linecolor": "white",
            "ticks": ""
           }
          },
          "scene": {
           "xaxis": {
            "backgroundcolor": "#E5ECF6",
            "gridcolor": "white",
            "gridwidth": 2,
            "linecolor": "white",
            "showbackground": true,
            "ticks": "",
            "zerolinecolor": "white"
           },
           "yaxis": {
            "backgroundcolor": "#E5ECF6",
            "gridcolor": "white",
            "gridwidth": 2,
            "linecolor": "white",
            "showbackground": true,
            "ticks": "",
            "zerolinecolor": "white"
           },
           "zaxis": {
            "backgroundcolor": "#E5ECF6",
            "gridcolor": "white",
            "gridwidth": 2,
            "linecolor": "white",
            "showbackground": true,
            "ticks": "",
            "zerolinecolor": "white"
           }
          },
          "shapedefaults": {
           "line": {
            "color": "#2a3f5f"
           }
          },
          "ternary": {
           "aaxis": {
            "gridcolor": "white",
            "linecolor": "white",
            "ticks": ""
           },
           "baxis": {
            "gridcolor": "white",
            "linecolor": "white",
            "ticks": ""
           },
           "bgcolor": "#E5ECF6",
           "caxis": {
            "gridcolor": "white",
            "linecolor": "white",
            "ticks": ""
           }
          },
          "title": {
           "x": 0.05
          },
          "xaxis": {
           "automargin": true,
           "gridcolor": "white",
           "linecolor": "white",
           "ticks": "",
           "zerolinecolor": "white",
           "zerolinewidth": 2
          },
          "yaxis": {
           "automargin": true,
           "gridcolor": "white",
           "linecolor": "white",
           "ticks": "",
           "zerolinecolor": "white",
           "zerolinewidth": 2
          }
         }
        },
        "xaxis": {
         "anchor": "y",
         "autorange": true,
         "domain": [
          0,
          0.2888888888888889
         ],
         "range": [
          -0.5,
          1.5
         ],
         "type": "category"
        },
        "xaxis2": {
         "anchor": "y2",
         "autorange": true,
         "domain": [
          0.35555555555555557,
          0.6444444444444445
         ],
         "range": [
          -0.5,
          1.5
         ],
         "type": "category"
        },
        "xaxis3": {
         "anchor": "y3",
         "autorange": true,
         "domain": [
          0.7111111111111111,
          1
         ],
         "range": [
          -0.5,
          1.5
         ],
         "type": "category"
        },
        "xaxis4": {
         "anchor": "y4",
         "autorange": true,
         "domain": [
          0,
          0.2888888888888889
         ],
         "range": [
          0.02617513256290243,
          0.18473292085845835
         ],
         "title": {
          "text": "Feature richness"
         },
         "type": "linear"
        },
        "xaxis5": {
         "anchor": "y5",
         "autorange": true,
         "domain": [
          0.35555555555555557,
          0.6444444444444445
         ],
         "range": [
          0.02617513256290243,
          0.18473292085845835
         ],
         "title": {
          "text": "Feature richness"
         },
         "type": "linear"
        },
        "xaxis6": {
         "anchor": "y6",
         "autorange": true,
         "domain": [
          0.7111111111111111,
          1
         ],
         "range": [
          0.02617513256290243,
          0.18473292085845835
         ],
         "title": {
          "text": "Feature richness"
         },
         "type": "linear"
        },
        "yaxis": {
         "anchor": "x",
         "autorange": true,
         "domain": [
          0.575,
          1
         ],
         "range": [
          6.277777777777778,
          20.72222222222222
         ],
         "title": {
          "text": "Maximum depth"
         },
         "type": "linear"
        },
        "yaxis2": {
         "anchor": "x2",
         "autorange": true,
         "domain": [
          0.575,
          1
         ],
         "range": [
          -2.549382716049383,
          -1.5617283950617284
         ],
         "title": {
          "text": "Learning rate"
         },
         "type": "linear"
        },
        "yaxis3": {
         "anchor": "x3",
         "autorange": true,
         "domain": [
          0.575,
          1
         ],
         "range": [
          61.111111111111114,
          838.8888888888889
         ],
         "title": {
          "text": "Number of trees"
         },
         "type": "linear"
        },
        "yaxis4": {
         "anchor": "x4",
         "autorange": true,
         "domain": [
          0,
          0.425
         ],
         "range": [
          1.5328895849647615,
          43.467110415035236
         ],
         "title": {
          "text": "Minimum child weight"
         },
         "type": "linear"
        },
        "yaxis5": {
         "anchor": "x5",
         "autorange": true,
         "domain": [
          0,
          0.425
         ],
         "range": [
          0.4504698512137823,
          1.0495301487862176
         ],
         "title": {
          "text": "Subsample"
         },
         "type": "linear"
        },
        "yaxis6": {
         "anchor": "x6",
         "autorange": true,
         "domain": [
          0,
          0.425
         ],
         "range": [
          5.71221613155834,
          21.28778386844166
         ],
         "title": {
          "text": "Maximum depth"
         },
         "type": "linear"
        }
       }
      },
      "image/png": "[encoded data removed]",
      "text/html": [
       "<div>\n",
       "        \n",
       "        \n",
       "            <div id=\"a113b931-c102-456f-95a4-2445b7022dd0\" class=\"plotly-graph-div\" style=\"height:525px; width:100%;\"></div>\n",
       "            <script type=\"text/javascript\">\n",
       "                require([\"plotly\"], function(Plotly) {\n",
       "                    window.PLOTLYENV=window.PLOTLYENV || {};\n",
       "                    \n",
       "                if (document.getElementById(\"a113b931-c102-456f-95a4-2445b7022dd0\")) {\n",
       "                    Plotly.newPlot(\n",
       "                        'a113b931-c102-456f-95a4-2445b7022dd0',\n",
       "                        [{\"boxmean\": true, \"name\": \"Size = 8760\", \"type\": \"box\", \"xaxis\": \"x\", \"y\": [14.0, 9.0, 11.0, 7.0, 11.0, 11.0, 14.0, 9.0, 11.0, 9.0, 14.0, 9.0, 14.0, 9.0, 14.0, 9.0, 14.0, 9.0, 18.0, 7.0, 11.0, 14.0, 14.0, 9.0, 11.0, 9.0, 14.0, 9.0, 14.0, 16.0, 14.0, 9.0], \"yaxis\": \"y\"}, {\"boxmean\": true, \"name\": \"Size = 17520\", \"type\": \"box\", \"xaxis\": \"x\", \"y\": [14.0, 11.0, 7.0, 9.0, 11.0, 18.0, 11.0, 18.0, 11.0, 16.0, 14.0, 11.0, 14.0, 18.0, 11.0, 18.0, 14.0, 14.0, 7.0, 9.0, 11.0, 16.0, 11.0, 20.0, 11.0, 18.0, 14.0, 11.0, 16.0, 20.0, 11.0, 16.0], \"yaxis\": \"y\"}, {\"boxmean\": true, \"name\": \"Size = 8760\", \"type\": \"box\", \"xaxis\": \"x2\", \"y\": [-2.0555555555555554, -2.2777777777777777, -2.2777777777777777, -2.2777777777777777, -2.0555555555555554, -2.0555555555555554, -2.5, -1.8333333333333335, -1.6111111111111112, -2.0555555555555554, -2.5, -1.8333333333333335, -2.5, -1.8333333333333335, -2.5, -2.0555555555555554, -2.5, -2.2777777777777777, -2.2777777777777777, -2.0555555555555554, -2.2777777777777777, -2.0555555555555554, -2.2777777777777777, -2.2777777777777777, -2.2777777777777777, -1.8333333333333335, -2.0555555555555554, -2.2777777777777777, -2.5, -2.0555555555555554, -2.5, -1.8333333333333335], \"yaxis\": \"y2\"}, {\"boxmean\": true, \"name\": \"Size = 17520\", \"type\": \"box\", \"xaxis\": \"x2\", \"y\": [-2.2777777777777777, -2.2777777777777777, -2.0555555555555554, -1.8333333333333335, -2.0555555555555554, -2.2777777777777777, -1.8333333333333335, -1.8333333333333335, -2.2777777777777777, -2.2777777777777777, -2.5, -2.2777777777777777, -2.5, -1.8333333333333335, -1.8333333333333335, -2.2777777777777777, -2.2777777777777777, -1.8333333333333335, -1.6111111111111112, -1.8333333333333335, -2.0555555555555554, -2.2777777777777777, -1.8333333333333335, -1.8333333333333335, -2.2777777777777777, -2.2777777777777777, -2.2777777777777777, -2.2777777777777777, -2.2777777777777777, -2.2777777777777777, -2.2777777777777777, -2.2777777777777777], \"yaxis\": \"y2\"}, {\"boxmean\": true, \"name\": \"Size = 8760\", \"type\": \"box\", \"xaxis\": \"x3\", \"y\": [380.0, 660.0, 520.0, 800.0, 380.0, 380.0, 800.0, 240.0, 100.0, 380.0, 800.0, 240.0, 800.0, 380.0, 660.0, 380.0, 800.0, 800.0, 520.0, 520.0, 660.0, 380.0, 520.0, 800.0, 520.0, 240.0, 240.0, 800.0, 660.0, 520.0, 800.0, 240.0], \"yaxis\": \"y3\"}, {\"boxmean\": true, \"name\": \"Size = 17520\", \"type\": \"box\", \"xaxis\": \"x3\", \"y\": [520.0, 800.0, 660.0, 380.0, 520.0, 800.0, 380.0, 240.0, 800.0, 520.0, 800.0, 800.0, 800.0, 240.0, 520.0, 660.0, 660.0, 240.0, 240.0, 520.0, 660.0, 800.0, 520.0, 240.0, 660.0, 520.0, 520.0, 660.0, 520.0, 800.0, 660.0, 660.0], \"yaxis\": \"y3\"}, {\"mode\": \"markers\", \"type\": \"scatter\", \"x\": [0.04334059028794689, 0.04391002846159395, 0.1742950289319662, 0.17088399133344986, 0.04760451253331445, 0.0515548990724462, 0.13321103149244717, 0.1320012767072899, 0.054971781696046815, 0.058894662958050945, 0.1361557294250355, 0.13001995814154949, 0.03661302448939458, 0.03760171597487407, 0.13770448419074494, 0.13351931866568495, 0.04875882362313011, 0.04632348961927948, 0.12257515652780968, 0.11436333754703872, 0.04058584108322523, 0.03844440585830611, 0.1521603469725592, 0.1492418647754497, 0.06250562668359318, 0.06545425684020391, 0.1698587442622334, 0.16761516097623888, 0.044852036768503425, 0.04820707974614305, 0.13871783695821072, 0.13530592515832152, 0.04334059028794689, 0.04391002846159395, 0.1742950289319662, 0.17088399133344986, 0.04760451253331445, 0.0515548990724462, 0.13321103149244717, 0.1320012767072899, 0.054971781696046815, 0.058894662958050945, 0.1361557294250355, 0.13001995814154949, 0.03661302448939458, 0.03760171597487407, 0.13770448419074494, 0.13351931866568495, 0.04875882362313011, 0.04632348961927948, 0.12257515652780968, 0.11436333754703872, 0.04058584108322523, 0.03844440585830611, 0.1521603469725592, 0.1492418647754497, 0.06250562668359318, 0.06545425684020391, 0.1698587442622334, 0.16761516097623888, 0.044852036768503425, 0.04820707974614305, 0.13871783695821072, 0.13530592515832152], \"xaxis\": \"x4\", \"y\": [5.0, 5.0, 22.5, 5.0, 5.0, 22.5, 22.5, 5.0, 5.0, 5.0, 22.5, 22.5, 5.0, 5.0, 22.5, 5.0, 5.0, 5.0, 22.5, 5.0, 5.0, 5.0, 5.0, 5.0, 5.0, 5.0, 22.5, 5.0, 22.5, 5.0, 22.5, 5.0, 5.0, 5.0, 22.5, 5.0, 5.0, 40.0, 40.0, 5.0, 5.0, 5.0, 22.5, 22.5, 5.0, 5.0, 22.5, 5.0, 5.0, 5.0, 22.5, 5.0, 5.0, 5.0, 5.0, 5.0, 5.0, 5.0, 22.5, 22.5, 5.0, 22.5, 22.5, 5.0], \"yaxis\": \"y4\"}, {\"mode\": \"markers\", \"type\": \"scatter\", \"x\": [0.04334059028794689, 0.04391002846159395, 0.1742950289319662, 0.17088399133344986, 0.04760451253331445, 0.0515548990724462, 0.13321103149244717, 0.1320012767072899, 0.054971781696046815, 0.058894662958050945, 0.1361557294250355, 0.13001995814154949, 0.03661302448939458, 0.03760171597487407, 0.13770448419074494, 0.13351931866568495, 0.04875882362313011, 0.04632348961927948, 0.12257515652780968, 0.11436333754703872, 0.04058584108322523, 0.03844440585830611, 0.1521603469725592, 0.1492418647754497, 0.06250562668359318, 0.06545425684020391, 0.1698587442622334, 0.16761516097623888, 0.044852036768503425, 0.04820707974614305, 0.13871783695821072, 0.13530592515832152, 0.04334059028794689, 0.04391002846159395, 0.1742950289319662, 0.17088399133344986, 0.04760451253331445, 0.0515548990724462, 0.13321103149244717, 0.1320012767072899, 0.054971781696046815, 0.058894662958050945, 0.1361557294250355, 0.13001995814154949, 0.03661302448939458, 0.03760171597487407, 0.13770448419074494, 0.13351931866568495, 0.04875882362313011, 0.04632348961927948, 0.12257515652780968, 0.11436333754703872, 0.04058584108322523, 0.03844440585830611, 0.1521603469725592, 0.1492418647754497, 0.06250562668359318, 0.06545425684020391, 0.1698587442622334, 0.16761516097623888, 0.044852036768503425, 0.04820707974614305, 0.13871783695821072, 0.13530592515832152], \"xaxis\": \"x5\", \"y\": [0.75, 0.75, 0.5, 0.5, 1.0, 0.75, 0.75, 0.5, 0.75, 0.75, 0.5, 0.5, 0.75, 0.75, 0.75, 0.5, 0.75, 0.75, 0.5, 0.5, 0.75, 0.75, 0.5, 0.5, 0.75, 0.75, 0.5, 0.75, 1.0, 0.75, 0.5, 0.5, 0.75, 0.75, 0.5, 0.5, 1.0, 0.75, 0.75, 0.5, 0.75, 0.75, 0.5, 0.5, 0.75, 0.75, 0.75, 0.5, 0.75, 0.75, 0.5, 0.5, 0.75, 0.75, 0.5, 0.5, 0.5, 0.75, 0.5, 0.75, 0.75, 0.75, 0.5, 0.5], \"yaxis\": \"y5\"}, {\"mode\": \"markers\", \"type\": \"scatter\", \"x\": [0.04334059028794689, 0.04391002846159395, 0.1742950289319662, 0.17088399133344986, 0.04760451253331445, 0.0515548990724462, 0.13321103149244717, 0.1320012767072899, 0.054971781696046815, 0.058894662958050945, 0.1361557294250355, 0.13001995814154949, 0.03661302448939458, 0.03760171597487407, 0.13770448419074494, 0.13351931866568495, 0.04875882362313011, 0.04632348961927948, 0.12257515652780968, 0.11436333754703872, 0.04058584108322523, 0.03844440585830611, 0.1521603469725592, 0.1492418647754497, 0.06250562668359318, 0.06545425684020391, 0.1698587442622334, 0.16761516097623888, 0.044852036768503425, 0.04820707974614305, 0.13871783695821072, 0.13530592515832152, 0.04334059028794689, 0.04391002846159395, 0.1742950289319662, 0.17088399133344986, 0.04760451253331445, 0.0515548990724462, 0.13321103149244717, 0.1320012767072899, 0.054971781696046815, 0.058894662958050945, 0.1361557294250355, 0.13001995814154949, 0.03661302448939458, 0.03760171597487407, 0.13770448419074494, 0.13351931866568495, 0.04875882362313011, 0.04632348961927948, 0.12257515652780968, 0.11436333754703872, 0.04058584108322523, 0.03844440585830611, 0.1521603469725592, 0.1492418647754497, 0.06250562668359318, 0.06545425684020391, 0.1698587442622334, 0.16761516097623888, 0.044852036768503425, 0.04820707974614305, 0.13871783695821072, 0.13530592515832152], \"xaxis\": \"x6\", \"y\": [14.0, 14.0, 11.0, 9.0, 7.0, 11.0, 9.0, 7.0, 11.0, 11.0, 18.0, 11.0, 11.0, 14.0, 18.0, 9.0, 11.0, 11.0, 16.0, 9.0, 14.0, 14.0, 11.0, 9.0, 14.0, 14.0, 18.0, 9.0, 11.0, 14.0, 18.0, 9.0, 14.0, 14.0, 14.0, 9.0, 7.0, 18.0, 9.0, 7.0, 11.0, 11.0, 16.0, 14.0, 11.0, 14.0, 20.0, 9.0, 11.0, 11.0, 18.0, 9.0, 14.0, 14.0, 11.0, 9.0, 16.0, 14.0, 20.0, 16.0, 11.0, 14.0, 16.0, 9.0], \"yaxis\": \"y6\"}],\n",
       "                        {\"showlegend\": false, \"template\": {\"data\": {\"bar\": [{\"error_x\": {\"color\": \"#2a3f5f\"}, \"error_y\": {\"color\": \"#2a3f5f\"}, \"marker\": {\"line\": {\"color\": \"#E5ECF6\", \"width\": 0.5}}, \"type\": \"bar\"}], \"barpolar\": [{\"marker\": {\"line\": {\"color\": \"#E5ECF6\", \"width\": 0.5}}, \"type\": \"barpolar\"}], \"carpet\": [{\"aaxis\": {\"endlinecolor\": \"#2a3f5f\", \"gridcolor\": \"white\", \"linecolor\": \"white\", \"minorgridcolor\": \"white\", \"startlinecolor\": \"#2a3f5f\"}, \"baxis\": {\"endlinecolor\": \"#2a3f5f\", \"gridcolor\": \"white\", \"linecolor\": \"white\", \"minorgridcolor\": \"white\", \"startlinecolor\": \"#2a3f5f\"}, \"type\": \"carpet\"}], \"choropleth\": [{\"colorbar\": {\"outlinewidth\": 0, \"ticks\": \"\"}, \"type\": \"choropleth\"}], \"contour\": [{\"colorbar\": {\"outlinewidth\": 0, \"ticks\": \"\"}, \"colorscale\": [[0.0, \"#0d0887\"], [0.1111111111111111, \"#46039f\"], [0.2222222222222222, \"#7201a8\"], [0.3333333333333333, \"#9c179e\"], [0.4444444444444444, \"#bd3786\"], [0.5555555555555556, \"#d8576b\"], [0.6666666666666666, \"#ed7953\"], [0.7777777777777778, \"#fb9f3a\"], [0.8888888888888888, \"#fdca26\"], [1.0, \"#f0f921\"]], \"type\": \"contour\"}], \"contourcarpet\": [{\"colorbar\": {\"outlinewidth\": 0, \"ticks\": \"\"}, \"type\": \"contourcarpet\"}], \"heatmap\": [{\"colorbar\": {\"outlinewidth\": 0, \"ticks\": \"\"}, \"colorscale\": [[0.0, \"#0d0887\"], [0.1111111111111111, \"#46039f\"], [0.2222222222222222, \"#7201a8\"], [0.3333333333333333, \"#9c179e\"], [0.4444444444444444, \"#bd3786\"], [0.5555555555555556, \"#d8576b\"], [0.6666666666666666, \"#ed7953\"], [0.7777777777777778, \"#fb9f3a\"], [0.8888888888888888, \"#fdca26\"], [1.0, \"#f0f921\"]], \"type\": \"heatmap\"}], \"heatmapgl\": [{\"colorbar\": {\"outlinewidth\": 0, \"ticks\": \"\"}, \"colorscale\": [[0.0, \"#0d0887\"], [0.1111111111111111, \"#46039f\"], [0.2222222222222222, \"#7201a8\"], [0.3333333333333333, \"#9c179e\"], [0.4444444444444444, \"#bd3786\"], [0.5555555555555556, \"#d8576b\"], [0.6666666666666666, \"#ed7953\"], [0.7777777777777778, \"#fb9f3a\"], [0.8888888888888888, \"#fdca26\"], [1.0, \"#f0f921\"]], \"type\": \"heatmapgl\"}], \"histogram\": [{\"marker\": {\"colorbar\": {\"outlinewidth\": 0, \"ticks\": \"\"}}, \"type\": \"histogram\"}], \"histogram2d\": [{\"colorbar\": {\"outlinewidth\": 0, \"ticks\": \"\"}, \"colorscale\": [[0.0, \"#0d0887\"], [0.1111111111111111, \"#46039f\"], [0.2222222222222222, \"#7201a8\"], [0.3333333333333333, \"#9c179e\"], [0.4444444444444444, \"#bd3786\"], [0.5555555555555556, \"#d8576b\"], [0.6666666666666666, \"#ed7953\"], [0.7777777777777778, \"#fb9f3a\"], [0.8888888888888888, \"#fdca26\"], [1.0, \"#f0f921\"]], \"type\": \"histogram2d\"}], \"histogram2dcontour\": [{\"colorbar\": {\"outlinewidth\": 0, \"ticks\": \"\"}, \"colorscale\": [[0.0, \"#0d0887\"], [0.1111111111111111, \"#46039f\"], [0.2222222222222222, \"#7201a8\"], [0.3333333333333333, \"#9c179e\"], [0.4444444444444444, \"#bd3786\"], [0.5555555555555556, \"#d8576b\"], [0.6666666666666666, \"#ed7953\"], [0.7777777777777778, \"#fb9f3a\"], [0.8888888888888888, \"#fdca26\"], [1.0, \"#f0f921\"]], \"type\": \"histogram2dcontour\"}], \"mesh3d\": [{\"colorbar\": {\"outlinewidth\": 0, \"ticks\": \"\"}, \"type\": \"mesh3d\"}], \"parcoords\": [{\"line\": {\"colorbar\": {\"outlinewidth\": 0, \"ticks\": \"\"}}, \"type\": \"parcoords\"}], \"scatter\": [{\"marker\": {\"colorbar\": {\"outlinewidth\": 0, \"ticks\": \"\"}}, \"type\": \"scatter\"}], \"scatter3d\": [{\"line\": {\"colorbar\": {\"outlinewidth\": 0, \"ticks\": \"\"}}, \"marker\": {\"colorbar\": {\"outlinewidth\": 0, \"ticks\": \"\"}}, \"type\": \"scatter3d\"}], \"scattercarpet\": [{\"marker\": {\"colorbar\": {\"outlinewidth\": 0, \"ticks\": \"\"}}, \"type\": \"scattercarpet\"}], \"scattergeo\": [{\"marker\": {\"colorbar\": {\"outlinewidth\": 0, \"ticks\": \"\"}}, \"type\": \"scattergeo\"}], \"scattergl\": [{\"marker\": {\"colorbar\": {\"outlinewidth\": 0, \"ticks\": \"\"}}, \"type\": \"scattergl\"}], \"scattermapbox\": [{\"marker\": {\"colorbar\": {\"outlinewidth\": 0, \"ticks\": \"\"}}, \"type\": \"scattermapbox\"}], \"scatterpolar\": [{\"marker\": {\"colorbar\": {\"outlinewidth\": 0, \"ticks\": \"\"}}, \"type\": \"scatterpolar\"}], \"scatterpolargl\": [{\"marker\": {\"colorbar\": {\"outlinewidth\": 0, \"ticks\": \"\"}}, \"type\": \"scatterpolargl\"}], \"scatterternary\": [{\"marker\": {\"colorbar\": {\"outlinewidth\": 0, \"ticks\": \"\"}}, \"type\": \"scatterternary\"}], \"surface\": [{\"colorbar\": {\"outlinewidth\": 0, \"ticks\": \"\"}, \"colorscale\": [[0.0, \"#0d0887\"], [0.1111111111111111, \"#46039f\"], [0.2222222222222222, \"#7201a8\"], [0.3333333333333333, \"#9c179e\"], [0.4444444444444444, \"#bd3786\"], [0.5555555555555556, \"#d8576b\"], [0.6666666666666666, \"#ed7953\"], [0.7777777777777778, \"#fb9f3a\"], [0.8888888888888888, \"#fdca26\"], [1.0, \"#f0f921\"]], \"type\": \"surface\"}], \"table\": [{\"cells\": {\"fill\": {\"color\": \"#EBF0F8\"}, \"line\": {\"color\": \"white\"}}, \"header\": {\"fill\": {\"color\": \"#C8D4E3\"}, \"line\": {\"color\": \"white\"}}, \"type\": \"table\"}]}, \"layout\": {\"annotationdefaults\": {\"arrowcolor\": \"#2a3f5f\", \"arrowhead\": 0, \"arrowwidth\": 1}, \"colorscale\": {\"diverging\": [[0, \"#8e0152\"], [0.1, \"#c51b7d\"], [0.2, \"#de77ae\"], [0.3, \"#f1b6da\"], [0.4, \"#fde0ef\"], [0.5, \"#f7f7f7\"], [0.6, \"#e6f5d0\"], [0.7, \"#b8e186\"], [0.8, \"#7fbc41\"], [0.9, \"#4d9221\"], [1, \"#276419\"]], \"sequential\": [[0.0, \"#0d0887\"], [0.1111111111111111, \"#46039f\"], [0.2222222222222222, \"#7201a8\"], [0.3333333333333333, \"#9c179e\"], [0.4444444444444444, \"#bd3786\"], [0.5555555555555556, \"#d8576b\"], [0.6666666666666666, \"#ed7953\"], [0.7777777777777778, \"#fb9f3a\"], [0.8888888888888888, \"#fdca26\"], [1.0, \"#f0f921\"]], \"sequentialminus\": [[0.0, \"#0d0887\"], [0.1111111111111111, \"#46039f\"], [0.2222222222222222, \"#7201a8\"], [0.3333333333333333, \"#9c179e\"], [0.4444444444444444, \"#bd3786\"], [0.5555555555555556, \"#d8576b\"], [0.6666666666666666, \"#ed7953\"], [0.7777777777777778, \"#fb9f3a\"], [0.8888888888888888, \"#fdca26\"], [1.0, \"#f0f921\"]]}, \"colorway\": [\"#636efa\", \"#EF553B\", \"#00cc96\", \"#ab63fa\", \"#FFA15A\", \"#19d3f3\", \"#FF6692\", \"#B6E880\", \"#FF97FF\", \"#FECB52\"], \"font\": {\"color\": \"#2a3f5f\"}, \"geo\": {\"bgcolor\": \"white\", \"lakecolor\": \"white\", \"landcolor\": \"#E5ECF6\", \"showlakes\": true, \"showland\": true, \"subunitcolor\": \"white\"}, \"hoverlabel\": {\"align\": \"left\"}, \"hovermode\": \"closest\", \"mapbox\": {\"style\": \"light\"}, \"paper_bgcolor\": \"white\", \"plot_bgcolor\": \"#E5ECF6\", \"polar\": {\"angularaxis\": {\"gridcolor\": \"white\", \"linecolor\": \"white\", \"ticks\": \"\"}, \"bgcolor\": \"#E5ECF6\", \"radialaxis\": {\"gridcolor\": \"white\", \"linecolor\": \"white\", \"ticks\": \"\"}}, \"scene\": {\"xaxis\": {\"backgroundcolor\": \"#E5ECF6\", \"gridcolor\": \"white\", \"gridwidth\": 2, \"linecolor\": \"white\", \"showbackground\": true, \"ticks\": \"\", \"zerolinecolor\": \"white\"}, \"yaxis\": {\"backgroundcolor\": \"#E5ECF6\", \"gridcolor\": \"white\", \"gridwidth\": 2, \"linecolor\": \"white\", \"showbackground\": true, \"ticks\": \"\", \"zerolinecolor\": \"white\"}, \"zaxis\": {\"backgroundcolor\": \"#E5ECF6\", \"gridcolor\": \"white\", \"gridwidth\": 2, \"linecolor\": \"white\", \"showbackground\": true, \"ticks\": \"\", \"zerolinecolor\": \"white\"}}, \"shapedefaults\": {\"line\": {\"color\": \"#2a3f5f\"}}, \"ternary\": {\"aaxis\": {\"gridcolor\": \"white\", \"linecolor\": \"white\", \"ticks\": \"\"}, \"baxis\": {\"gridcolor\": \"white\", \"linecolor\": \"white\", \"ticks\": \"\"}, \"bgcolor\": \"#E5ECF6\", \"caxis\": {\"gridcolor\": \"white\", \"linecolor\": \"white\", \"ticks\": \"\"}}, \"title\": {\"x\": 0.05}, \"xaxis\": {\"automargin\": true, \"gridcolor\": \"white\", \"linecolor\": \"white\", \"ticks\": \"\", \"zerolinecolor\": \"white\", \"zerolinewidth\": 2}, \"yaxis\": {\"automargin\": true, \"gridcolor\": \"white\", \"linecolor\": \"white\", \"ticks\": \"\", \"zerolinecolor\": \"white\", \"zerolinewidth\": 2}}}, \"xaxis\": {\"anchor\": \"y\", \"domain\": [0.0, 0.2888888888888889]}, \"xaxis2\": {\"anchor\": \"y2\", \"domain\": [0.35555555555555557, 0.6444444444444445]}, \"xaxis3\": {\"anchor\": \"y3\", \"domain\": [0.7111111111111111, 1.0]}, \"xaxis4\": {\"anchor\": \"y4\", \"domain\": [0.0, 0.2888888888888889], \"title\": {\"text\": \"Feature richness\"}}, \"xaxis5\": {\"anchor\": \"y5\", \"domain\": [0.35555555555555557, 0.6444444444444445], \"title\": {\"text\": \"Feature richness\"}}, \"xaxis6\": {\"anchor\": \"y6\", \"domain\": [0.7111111111111111, 1.0], \"title\": {\"text\": \"Feature richness\"}}, \"yaxis\": {\"anchor\": \"x\", \"domain\": [0.575, 1.0], \"title\": {\"text\": \"Maximum depth\"}}, \"yaxis2\": {\"anchor\": \"x2\", \"domain\": [0.575, 1.0], \"title\": {\"text\": \"Learning rate\"}}, \"yaxis3\": {\"anchor\": \"x3\", \"domain\": [0.575, 1.0], \"title\": {\"text\": \"Number of trees\"}}, \"yaxis4\": {\"anchor\": \"x4\", \"domain\": [0.0, 0.425], \"title\": {\"text\": \"Minimum child weight\"}}, \"yaxis5\": {\"anchor\": \"x5\", \"domain\": [0.0, 0.425], \"title\": {\"text\": \"Subsample\"}}, \"yaxis6\": {\"anchor\": \"x6\", \"domain\": [0.0, 0.425], \"title\": {\"text\": \"Maximum depth\"}}},\n",
       "                        {\"responsive\": true}\n",
       "                    ).then(function(){\n",
       "                            \n",
       "var gd = document.getElementById('a113b931-c102-456f-95a4-2445b7022dd0');\n",
       "var x = new MutationObserver(function (mutations, observer) {{\n",
       "        var display = window.getComputedStyle(gd).display;\n",
       "        if (!display || display === 'none') {{\n",
       "            console.log([gd, 'removed!']);\n",
       "            Plotly.purge(gd);\n",
       "            observer.disconnect();\n",
       "        }}\n",
       "}});\n",
       "\n",
       "// Listen for the removal of the full notebook cells\n",
       "var notebookContainer = gd.closest('#notebook-container');\n",
       "if (notebookContainer) {{\n",
       "    x.observe(notebookContainer, {childList: true});\n",
       "}}\n",
       "\n",
       "// Listen for the clearing of the current output cell\n",
       "var outputEl = gd.closest('.output');\n",
       "if (outputEl) {{\n",
       "    x.observe(outputEl, {childList: true});\n",
       "}}\n",
       "\n",
       "                        })\n",
       "                };\n",
       "                });\n",
       "            </script>\n",
       "        </div>"
      ]
     },
     "metadata": {},
     "output_type": "display_data"
    }
   ],
   "source": [
    "# size - hyperparameters\n",
    "fig = make_subplots(\n",
    "    rows=2,\n",
    "    cols=3\n",
    ")\n",
    "\n",
    "# first row: size\n",
    "fig.add_trace(go.Box(y=df.loc[df['size'] == 8760]['max_depth'],name='Size = 8760', boxmean=True), row=1, col=1)\n",
    "fig.add_trace(go.Box(y=df.loc[df['size'] == 17520]['max_depth'],name='Size = 17520', boxmean=True), row=1, col=1)\n",
    "fig.update_yaxes(title_text='Maximum depth', row=1, col=1)\n",
    "\n",
    "fig.add_trace(go.Box(y=np.log10(df.loc[df['size'] == 8760]['learning_rate']),name='Size = 8760', boxmean=True), row=1, col=2)\n",
    "fig.add_trace(go.Box(y=np.log10(df.loc[df['size'] == 17520]['learning_rate']),name='Size = 17520', boxmean=True), row=1, col=2)\n",
    "fig.update_yaxes(title_text='Learning rate', row=1, col=2)\n",
    "\n",
    "fig.add_trace(go.Box(y=df.loc[df['size'] == 8760]['num_trees'],name='Size = 8760', boxmean=True), row=1, col=3)\n",
    "fig.add_trace(go.Box(y=df.loc[df['size'] == 17520]['num_trees'],name='Size = 17520', boxmean=True), row=1, col=3)\n",
    "fig.update_yaxes(title_text='Number of trees', row=1, col=3)\n",
    "\n",
    "# second row: feature richness\n",
    "fig.add_trace(go.Scatter(y=df['min_child_weight'],x=df['pca_rank_cor'], mode='markers'),row=2,col=1)\n",
    "fig.update_yaxes(title_text='Minimum child weight', row=2, col=1)\n",
    "fig.update_xaxes(title_text='Feature richness', row=2, col=1)\n",
    "\n",
    "fig.add_trace(go.Scatter(y=df['subsample'],x=df['pca_rank_cor'], mode='markers'),row=2,col=2)\n",
    "fig.update_yaxes(title_text='Subsample', row=2, col=2)\n",
    "fig.update_xaxes(title_text='Feature richness', row=2, col=2)\n",
    "\n",
    "fig.add_trace(go.Scatter(y=df['max_depth'],x=df['pca_rank_cor'], mode='markers'),row=2,col=3)\n",
    "fig.update_yaxes(title_text='Maximum depth', row=2, col=3)\n",
    "fig.update_xaxes(title_text='Feature richness', row=2, col=3)\n",
    "\n",
    "fig.update_layout(showlegend=False)\n",
    "\n",
    "fig.show()"
   ]
  }
 ],
 "metadata": {
  "kernelspec": {
   "display_name": "AutoXGB Notebook",
   "language": "python",
   "name": "autoxgb_kernel"
  },
  "language_info": {
   "codemirror_mode": {
    "name": "ipython",
    "version": 3
   },
   "file_extension": ".py",
   "mimetype": "text/x-python",
   "name": "python",
   "nbconvert_exporter": "python",
   "pygments_lexer": "ipython3",
   "version": "3.6.4"
  }
 },
 "nbformat": 4,
 "nbformat_minor": 4
}
