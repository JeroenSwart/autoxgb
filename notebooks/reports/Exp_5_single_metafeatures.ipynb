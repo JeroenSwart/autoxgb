{
 "cells": [
  {
   "cell_type": "markdown",
   "metadata": {},
   "source": [
    "# Experiment 5: Separate metafeatures"
   ]
  },
  {
   "cell_type": "code",
   "execution_count": 34,
   "metadata": {},
   "outputs": [],
   "source": [
    "from src.experimenting.hopt_experiment import HoptExperiment\n",
    "from src.pipeline_optimization.bayesian_hopt import BayesianHopt\n",
    "from src.utils.metafeature_utils import pca_rank_cor, size, unit\n",
    "from src.utils.thesis_utils import thesis_lookup_objective, thesis_search_space, get_standard_dataset\n",
    "from src.metalearning.metadata import MetaDataset\n",
    "from src.metalearning.warmstarter import Warmstarter\n",
    "import pandas as pd\n",
    "import pickle\n",
    "import dill\n",
    "from tqdm import tqdm"
   ]
  },
  {
   "cell_type": "markdown",
   "metadata": {},
   "source": [
    "### Global parameters"
   ]
  },
  {
   "cell_type": "code",
   "execution_count": 35,
   "metadata": {},
   "outputs": [],
   "source": [
    "max_evals = 100\n",
    "duplicates = 3\n",
    "n_init_configs = 5\n",
    "dataset_names = !ls ../../data/metadata/interim"
   ]
  },
  {
   "cell_type": "markdown",
   "metadata": {},
   "source": [
    "### Fixed parts of the experiment"
   ]
  },
  {
   "cell_type": "code",
   "execution_count": 36,
   "metadata": {},
   "outputs": [
    {
     "name": "stderr",
     "output_type": "stream",
     "text": [
      "Calculate metafeatures of metasamples: 100%|██████████| 32/32 [00:00<00:00, 3254.08it/s]\n"
     ]
    }
   ],
   "source": [
    "# Initialize metadataset and calculate metafeatures\n",
    "metadataset_sample_names = !ls ../../data/metadata/interim\n",
    "metasamples = [pickle.load(open('../../data/metadata/interim/' + sample_name,\"rb\")) for sample_name in metadataset_sample_names]\n",
    "metadataset = MetaDataset(metasamples, metafeature_functions=[size, unit])\n",
    "\n",
    "# Initialize thesis objective, search space and targets for leave-one-out procedure\n",
    "objective = thesis_lookup_objective\n",
    "search_space = thesis_search_space()\n",
    "target_ids = [metasample.identifier for metasample in metadataset.metasamples]"
   ]
  },
  {
   "cell_type": "markdown",
   "metadata": {},
   "source": [
    "# Experiment"
   ]
  },
  {
   "cell_type": "code",
   "execution_count": 37,
   "metadata": {},
   "outputs": [],
   "source": [
    "# initialize searches\n",
    "rand = BayesianHopt(\n",
    "    identifier='Random search',\n",
    "    search_space=search_space,\n",
    "    objective=objective,\n",
    "    max_evals=max_evals,\n",
    "    nr_random_starts=max_evals\n",
    ")\n",
    "naive = BayesianHopt(\n",
    "    identifier='Naive',\n",
    "    search_space=search_space,\n",
    "    objective=objective,\n",
    "    max_evals=max_evals,\n",
    "    nr_random_starts=n_init_configs\n",
    ")\n",
    "warm = BayesianHopt(\n",
    "    identifier='Warmstarted',\n",
    "    search_space=search_space,\n",
    "    objective=objective,\n",
    "    max_evals=max_evals,\n",
    "    warmstarter=Warmstarter(metadataset, n_init_configs=n_init_configs, n_sim_samples=5, n_best_per_sample=5)\n",
    ")\n",
    "cold = BayesianHopt(\n",
    "    identifier='Coldstarted',\n",
    "    search_space=search_space,\n",
    "    objective=objective,\n",
    "    max_evals=max_evals,\n",
    "    warmstarter=Warmstarter(metadataset, n_init_configs=n_init_configs, n_sim_samples=5, n_best_per_sample=5, cold=True)\n",
    ")\n",
    "hopt_exp_size = HoptExperiment(\n",
    "    hopts=[naive, warm, cold],\n",
    "    duplicates=duplicates,\n",
    "    objective=objective,\n",
    "    metadataset=metadataset\n",
    ")"
   ]
  },
  {
   "cell_type": "code",
   "execution_count": 38,
   "metadata": {
    "scrolled": true
   },
   "outputs": [
    {
     "name": "stderr",
     "output_type": "stream",
     "text": [
      "Target time series: 100%|██████████| 32/32 [45:28<00:00, 85.27s/it]\n"
     ]
    }
   ],
   "source": [
    "hopt_exp_size.run_hopt_experiment(target_ids)"
   ]
  },
  {
   "cell_type": "markdown",
   "metadata": {},
   "source": [
    "# Badly tuned warmstart (Size)"
   ]
  },
  {
   "cell_type": "code",
   "execution_count": 39,
   "metadata": {},
   "outputs": [
    {
     "data": {
      "application/vnd.plotly.v1+json": {
       "config": {
        "plotlyServerURL": "https://plot.ly"
       },
       "data": [
        {
         "name": "Naive",
         "type": "scatter",
         "y": [
          2.5885416666666665,
          2.5989583333333335,
          2.375,
          2.2708333333333335,
          2.21875,
          1.9895833333333333,
          1.96875,
          1.875,
          1.7916666666666667,
          1.796875,
          1.8385416666666667,
          1.84375,
          1.8333333333333333,
          1.796875,
          1.7864583333333333,
          1.7864583333333333,
          1.8072916666666667,
          1.8020833333333333,
          1.8229166666666667,
          1.7395833333333333,
          1.8489583333333333,
          1.859375,
          1.8385416666666667,
          1.8541666666666667,
          1.8541666666666667,
          1.859375,
          1.859375,
          1.859375,
          1.8385416666666667,
          1.78125,
          1.78125,
          1.796875,
          1.7395833333333333,
          1.765625,
          1.8177083333333333,
          1.8333333333333333,
          1.828125,
          1.875,
          1.875,
          1.8802083333333333,
          1.9010416666666667,
          1.890625,
          1.90625,
          1.921875,
          1.9114583333333333,
          1.8958333333333333,
          1.9010416666666667,
          1.890625,
          1.890625,
          1.890625,
          1.921875,
          1.9166666666666667,
          1.9114583333333333,
          1.9010416666666667,
          1.9166666666666667,
          1.9166666666666667,
          1.9166666666666667,
          1.921875,
          1.9010416666666667,
          1.90625,
          1.921875,
          1.9114583333333333,
          1.9166666666666667,
          1.9166666666666667,
          1.9322916666666667,
          1.9479166666666667,
          1.9322916666666667,
          1.953125,
          1.9270833333333333,
          1.9166666666666667,
          1.921875,
          1.9010416666666667,
          1.8802083333333333,
          1.9010416666666667,
          1.90625,
          1.9114583333333333,
          1.9166666666666667,
          1.9114583333333333,
          1.9114583333333333,
          1.90625,
          1.9166666666666667,
          1.921875,
          1.9270833333333333,
          1.9479166666666667,
          1.9635416666666667,
          1.9791666666666667,
          1.9739583333333333,
          1.9739583333333333,
          1.9739583333333333,
          1.9791666666666667,
          1.984375,
          1.9791666666666667,
          1.9895833333333333,
          2,
          2,
          2.0052083333333335,
          2.0104166666666665,
          2.0052083333333335,
          1.9947916666666667,
          1.9947916666666667
         ]
        },
        {
         "name": "Warmstarted",
         "type": "scatter",
         "y": [
          1.75,
          1.703125,
          1.7604166666666667,
          1.8125,
          1.84375,
          1.9166666666666667,
          1.9166666666666667,
          1.9791666666666667,
          2.0364583333333335,
          2.0833333333333335,
          2.0520833333333335,
          2.078125,
          2.046875,
          2.0520833333333335,
          2.0520833333333335,
          2.0572916666666665,
          2.0364583333333335,
          2.0520833333333335,
          2.0520833333333335,
          2.0677083333333335,
          2.0104166666666665,
          2.0364583333333335,
          2.0520833333333335,
          2.0364583333333335,
          2.0416666666666665,
          2.0520833333333335,
          2.0572916666666665,
          2.0260416666666665,
          2.0416666666666665,
          2.0677083333333335,
          2.0833333333333335,
          2.0729166666666665,
          2.0989583333333335,
          2.078125,
          2.0364583333333335,
          2.0208333333333335,
          2.0364583333333335,
          2.0052083333333335,
          2,
          1.984375,
          1.9895833333333333,
          2.0104166666666665,
          1.984375,
          1.9739583333333333,
          1.9739583333333333,
          1.9791666666666667,
          1.96875,
          1.9791666666666667,
          1.96875,
          1.9583333333333333,
          1.9114583333333333,
          1.9010416666666667,
          1.8958333333333333,
          1.9010416666666667,
          1.90625,
          1.9010416666666667,
          1.9010416666666667,
          1.8958333333333333,
          1.90625,
          1.8697916666666667,
          1.8541666666666667,
          1.8645833333333333,
          1.8541666666666667,
          1.8541666666666667,
          1.859375,
          1.875,
          1.9114583333333333,
          1.9114583333333333,
          1.90625,
          1.921875,
          1.9322916666666667,
          1.953125,
          1.9635416666666667,
          1.9427083333333333,
          1.953125,
          1.9583333333333333,
          1.9635416666666667,
          1.9479166666666667,
          1.9479166666666667,
          1.9479166666666667,
          1.921875,
          1.9114583333333333,
          1.9010416666666667,
          1.890625,
          1.890625,
          1.8958333333333333,
          1.90625,
          1.90625,
          1.90625,
          1.9166666666666667,
          1.9375,
          1.9479166666666667,
          1.9270833333333333,
          1.921875,
          1.921875,
          1.9270833333333333,
          1.9166666666666667,
          1.9270833333333333,
          1.9322916666666667,
          1.9322916666666667
         ]
        },
        {
         "name": "Coldstarted",
         "type": "scatter",
         "y": [
          1.6614583333333333,
          1.6979166666666667,
          1.8645833333333333,
          1.9166666666666667,
          1.9375,
          2.09375,
          2.1145833333333335,
          2.1458333333333335,
          2.171875,
          2.1197916666666665,
          2.109375,
          2.078125,
          2.1197916666666665,
          2.1510416666666665,
          2.1614583333333335,
          2.15625,
          2.15625,
          2.1458333333333335,
          2.125,
          2.1927083333333335,
          2.140625,
          2.1041666666666665,
          2.109375,
          2.109375,
          2.1041666666666665,
          2.0885416666666665,
          2.0833333333333335,
          2.1145833333333335,
          2.1197916666666665,
          2.1510416666666665,
          2.1354166666666665,
          2.1302083333333335,
          2.1614583333333335,
          2.15625,
          2.1458333333333335,
          2.1458333333333335,
          2.1354166666666665,
          2.1197916666666665,
          2.125,
          2.1354166666666665,
          2.109375,
          2.0989583333333335,
          2.109375,
          2.1041666666666665,
          2.1145833333333335,
          2.125,
          2.1302083333333335,
          2.1302083333333335,
          2.140625,
          2.1510416666666665,
          2.1666666666666665,
          2.1822916666666665,
          2.1927083333333335,
          2.1979166666666665,
          2.1770833333333335,
          2.1822916666666665,
          2.1822916666666665,
          2.1822916666666665,
          2.1927083333333335,
          2.2239583333333335,
          2.2239583333333335,
          2.2239583333333335,
          2.2291666666666665,
          2.2291666666666665,
          2.2083333333333335,
          2.1770833333333335,
          2.15625,
          2.1354166666666665,
          2.1666666666666665,
          2.1614583333333335,
          2.1458333333333335,
          2.1458333333333335,
          2.15625,
          2.15625,
          2.140625,
          2.1302083333333335,
          2.1197916666666665,
          2.140625,
          2.140625,
          2.1458333333333335,
          2.1614583333333335,
          2.1666666666666665,
          2.171875,
          2.1614583333333335,
          2.1458333333333335,
          2.125,
          2.1197916666666665,
          2.1197916666666665,
          2.1197916666666665,
          2.1041666666666665,
          2.078125,
          2.0729166666666665,
          2.0833333333333335,
          2.078125,
          2.078125,
          2.0677083333333335,
          2.0729166666666665,
          2.0677083333333335,
          2.0729166666666665,
          2.0729166666666665
         ]
        }
       ],
       "layout": {
        "autosize": true,
        "template": {
         "data": {
          "bar": [
           {
            "error_x": {
             "color": "#2a3f5f"
            },
            "error_y": {
             "color": "#2a3f5f"
            },
            "marker": {
             "line": {
              "color": "#E5ECF6",
              "width": 0.5
             }
            },
            "type": "bar"
           }
          ],
          "barpolar": [
           {
            "marker": {
             "line": {
              "color": "#E5ECF6",
              "width": 0.5
             }
            },
            "type": "barpolar"
           }
          ],
          "carpet": [
           {
            "aaxis": {
             "endlinecolor": "#2a3f5f",
             "gridcolor": "white",
             "linecolor": "white",
             "minorgridcolor": "white",
             "startlinecolor": "#2a3f5f"
            },
            "baxis": {
             "endlinecolor": "#2a3f5f",
             "gridcolor": "white",
             "linecolor": "white",
             "minorgridcolor": "white",
             "startlinecolor": "#2a3f5f"
            },
            "type": "carpet"
           }
          ],
          "choropleth": [
           {
            "colorbar": {
             "outlinewidth": 0,
             "ticks": ""
            },
            "type": "choropleth"
           }
          ],
          "contour": [
           {
            "colorbar": {
             "outlinewidth": 0,
             "ticks": ""
            },
            "colorscale": [
             [
              0,
              "#0d0887"
             ],
             [
              0.1111111111111111,
              "#46039f"
             ],
             [
              0.2222222222222222,
              "#7201a8"
             ],
             [
              0.3333333333333333,
              "#9c179e"
             ],
             [
              0.4444444444444444,
              "#bd3786"
             ],
             [
              0.5555555555555556,
              "#d8576b"
             ],
             [
              0.6666666666666666,
              "#ed7953"
             ],
             [
              0.7777777777777778,
              "#fb9f3a"
             ],
             [
              0.8888888888888888,
              "#fdca26"
             ],
             [
              1,
              "#f0f921"
             ]
            ],
            "type": "contour"
           }
          ],
          "contourcarpet": [
           {
            "colorbar": {
             "outlinewidth": 0,
             "ticks": ""
            },
            "type": "contourcarpet"
           }
          ],
          "heatmap": [
           {
            "colorbar": {
             "outlinewidth": 0,
             "ticks": ""
            },
            "colorscale": [
             [
              0,
              "#0d0887"
             ],
             [
              0.1111111111111111,
              "#46039f"
             ],
             [
              0.2222222222222222,
              "#7201a8"
             ],
             [
              0.3333333333333333,
              "#9c179e"
             ],
             [
              0.4444444444444444,
              "#bd3786"
             ],
             [
              0.5555555555555556,
              "#d8576b"
             ],
             [
              0.6666666666666666,
              "#ed7953"
             ],
             [
              0.7777777777777778,
              "#fb9f3a"
             ],
             [
              0.8888888888888888,
              "#fdca26"
             ],
             [
              1,
              "#f0f921"
             ]
            ],
            "type": "heatmap"
           }
          ],
          "heatmapgl": [
           {
            "colorbar": {
             "outlinewidth": 0,
             "ticks": ""
            },
            "colorscale": [
             [
              0,
              "#0d0887"
             ],
             [
              0.1111111111111111,
              "#46039f"
             ],
             [
              0.2222222222222222,
              "#7201a8"
             ],
             [
              0.3333333333333333,
              "#9c179e"
             ],
             [
              0.4444444444444444,
              "#bd3786"
             ],
             [
              0.5555555555555556,
              "#d8576b"
             ],
             [
              0.6666666666666666,
              "#ed7953"
             ],
             [
              0.7777777777777778,
              "#fb9f3a"
             ],
             [
              0.8888888888888888,
              "#fdca26"
             ],
             [
              1,
              "#f0f921"
             ]
            ],
            "type": "heatmapgl"
           }
          ],
          "histogram": [
           {
            "marker": {
             "colorbar": {
              "outlinewidth": 0,
              "ticks": ""
             }
            },
            "type": "histogram"
           }
          ],
          "histogram2d": [
           {
            "colorbar": {
             "outlinewidth": 0,
             "ticks": ""
            },
            "colorscale": [
             [
              0,
              "#0d0887"
             ],
             [
              0.1111111111111111,
              "#46039f"
             ],
             [
              0.2222222222222222,
              "#7201a8"
             ],
             [
              0.3333333333333333,
              "#9c179e"
             ],
             [
              0.4444444444444444,
              "#bd3786"
             ],
             [
              0.5555555555555556,
              "#d8576b"
             ],
             [
              0.6666666666666666,
              "#ed7953"
             ],
             [
              0.7777777777777778,
              "#fb9f3a"
             ],
             [
              0.8888888888888888,
              "#fdca26"
             ],
             [
              1,
              "#f0f921"
             ]
            ],
            "type": "histogram2d"
           }
          ],
          "histogram2dcontour": [
           {
            "colorbar": {
             "outlinewidth": 0,
             "ticks": ""
            },
            "colorscale": [
             [
              0,
              "#0d0887"
             ],
             [
              0.1111111111111111,
              "#46039f"
             ],
             [
              0.2222222222222222,
              "#7201a8"
             ],
             [
              0.3333333333333333,
              "#9c179e"
             ],
             [
              0.4444444444444444,
              "#bd3786"
             ],
             [
              0.5555555555555556,
              "#d8576b"
             ],
             [
              0.6666666666666666,
              "#ed7953"
             ],
             [
              0.7777777777777778,
              "#fb9f3a"
             ],
             [
              0.8888888888888888,
              "#fdca26"
             ],
             [
              1,
              "#f0f921"
             ]
            ],
            "type": "histogram2dcontour"
           }
          ],
          "mesh3d": [
           {
            "colorbar": {
             "outlinewidth": 0,
             "ticks": ""
            },
            "type": "mesh3d"
           }
          ],
          "parcoords": [
           {
            "line": {
             "colorbar": {
              "outlinewidth": 0,
              "ticks": ""
             }
            },
            "type": "parcoords"
           }
          ],
          "scatter": [
           {
            "marker": {
             "colorbar": {
              "outlinewidth": 0,
              "ticks": ""
             }
            },
            "type": "scatter"
           }
          ],
          "scatter3d": [
           {
            "line": {
             "colorbar": {
              "outlinewidth": 0,
              "ticks": ""
             }
            },
            "marker": {
             "colorbar": {
              "outlinewidth": 0,
              "ticks": ""
             }
            },
            "type": "scatter3d"
           }
          ],
          "scattercarpet": [
           {
            "marker": {
             "colorbar": {
              "outlinewidth": 0,
              "ticks": ""
             }
            },
            "type": "scattercarpet"
           }
          ],
          "scattergeo": [
           {
            "marker": {
             "colorbar": {
              "outlinewidth": 0,
              "ticks": ""
             }
            },
            "type": "scattergeo"
           }
          ],
          "scattergl": [
           {
            "marker": {
             "colorbar": {
              "outlinewidth": 0,
              "ticks": ""
             }
            },
            "type": "scattergl"
           }
          ],
          "scattermapbox": [
           {
            "marker": {
             "colorbar": {
              "outlinewidth": 0,
              "ticks": ""
             }
            },
            "type": "scattermapbox"
           }
          ],
          "scatterpolar": [
           {
            "marker": {
             "colorbar": {
              "outlinewidth": 0,
              "ticks": ""
             }
            },
            "type": "scatterpolar"
           }
          ],
          "scatterpolargl": [
           {
            "marker": {
             "colorbar": {
              "outlinewidth": 0,
              "ticks": ""
             }
            },
            "type": "scatterpolargl"
           }
          ],
          "scatterternary": [
           {
            "marker": {
             "colorbar": {
              "outlinewidth": 0,
              "ticks": ""
             }
            },
            "type": "scatterternary"
           }
          ],
          "surface": [
           {
            "colorbar": {
             "outlinewidth": 0,
             "ticks": ""
            },
            "colorscale": [
             [
              0,
              "#0d0887"
             ],
             [
              0.1111111111111111,
              "#46039f"
             ],
             [
              0.2222222222222222,
              "#7201a8"
             ],
             [
              0.3333333333333333,
              "#9c179e"
             ],
             [
              0.4444444444444444,
              "#bd3786"
             ],
             [
              0.5555555555555556,
              "#d8576b"
             ],
             [
              0.6666666666666666,
              "#ed7953"
             ],
             [
              0.7777777777777778,
              "#fb9f3a"
             ],
             [
              0.8888888888888888,
              "#fdca26"
             ],
             [
              1,
              "#f0f921"
             ]
            ],
            "type": "surface"
           }
          ],
          "table": [
           {
            "cells": {
             "fill": {
              "color": "#EBF0F8"
             },
             "line": {
              "color": "white"
             }
            },
            "header": {
             "fill": {
              "color": "#C8D4E3"
             },
             "line": {
              "color": "white"
             }
            },
            "type": "table"
           }
          ]
         },
         "layout": {
          "annotationdefaults": {
           "arrowcolor": "#2a3f5f",
           "arrowhead": 0,
           "arrowwidth": 1
          },
          "colorscale": {
           "diverging": [
            [
             0,
             "#8e0152"
            ],
            [
             0.1,
             "#c51b7d"
            ],
            [
             0.2,
             "#de77ae"
            ],
            [
             0.3,
             "#f1b6da"
            ],
            [
             0.4,
             "#fde0ef"
            ],
            [
             0.5,
             "#f7f7f7"
            ],
            [
             0.6,
             "#e6f5d0"
            ],
            [
             0.7,
             "#b8e186"
            ],
            [
             0.8,
             "#7fbc41"
            ],
            [
             0.9,
             "#4d9221"
            ],
            [
             1,
             "#276419"
            ]
           ],
           "sequential": [
            [
             0,
             "#0d0887"
            ],
            [
             0.1111111111111111,
             "#46039f"
            ],
            [
             0.2222222222222222,
             "#7201a8"
            ],
            [
             0.3333333333333333,
             "#9c179e"
            ],
            [
             0.4444444444444444,
             "#bd3786"
            ],
            [
             0.5555555555555556,
             "#d8576b"
            ],
            [
             0.6666666666666666,
             "#ed7953"
            ],
            [
             0.7777777777777778,
             "#fb9f3a"
            ],
            [
             0.8888888888888888,
             "#fdca26"
            ],
            [
             1,
             "#f0f921"
            ]
           ],
           "sequentialminus": [
            [
             0,
             "#0d0887"
            ],
            [
             0.1111111111111111,
             "#46039f"
            ],
            [
             0.2222222222222222,
             "#7201a8"
            ],
            [
             0.3333333333333333,
             "#9c179e"
            ],
            [
             0.4444444444444444,
             "#bd3786"
            ],
            [
             0.5555555555555556,
             "#d8576b"
            ],
            [
             0.6666666666666666,
             "#ed7953"
            ],
            [
             0.7777777777777778,
             "#fb9f3a"
            ],
            [
             0.8888888888888888,
             "#fdca26"
            ],
            [
             1,
             "#f0f921"
            ]
           ]
          },
          "colorway": [
           "#636efa",
           "#EF553B",
           "#00cc96",
           "#ab63fa",
           "#FFA15A",
           "#19d3f3",
           "#FF6692",
           "#B6E880",
           "#FF97FF",
           "#FECB52"
          ],
          "font": {
           "color": "#2a3f5f"
          },
          "geo": {
           "bgcolor": "white",
           "lakecolor": "white",
           "landcolor": "#E5ECF6",
           "showlakes": true,
           "showland": true,
           "subunitcolor": "white"
          },
          "hoverlabel": {
           "align": "left"
          },
          "hovermode": "closest",
          "mapbox": {
           "style": "light"
          },
          "paper_bgcolor": "white",
          "plot_bgcolor": "#E5ECF6",
          "polar": {
           "angularaxis": {
            "gridcolor": "white",
            "linecolor": "white",
            "ticks": ""
           },
           "bgcolor": "#E5ECF6",
           "radialaxis": {
            "gridcolor": "white",
            "linecolor": "white",
            "ticks": ""
           }
          },
          "scene": {
           "xaxis": {
            "backgroundcolor": "#E5ECF6",
            "gridcolor": "white",
            "gridwidth": 2,
            "linecolor": "white",
            "showbackground": true,
            "ticks": "",
            "zerolinecolor": "white"
           },
           "yaxis": {
            "backgroundcolor": "#E5ECF6",
            "gridcolor": "white",
            "gridwidth": 2,
            "linecolor": "white",
            "showbackground": true,
            "ticks": "",
            "zerolinecolor": "white"
           },
           "zaxis": {
            "backgroundcolor": "#E5ECF6",
            "gridcolor": "white",
            "gridwidth": 2,
            "linecolor": "white",
            "showbackground": true,
            "ticks": "",
            "zerolinecolor": "white"
           }
          },
          "shapedefaults": {
           "line": {
            "color": "#2a3f5f"
           }
          },
          "ternary": {
           "aaxis": {
            "gridcolor": "white",
            "linecolor": "white",
            "ticks": ""
           },
           "baxis": {
            "gridcolor": "white",
            "linecolor": "white",
            "ticks": ""
           },
           "bgcolor": "#E5ECF6",
           "caxis": {
            "gridcolor": "white",
            "linecolor": "white",
            "ticks": ""
           }
          },
          "title": {
           "x": 0.05
          },
          "xaxis": {
           "automargin": true,
           "gridcolor": "white",
           "linecolor": "white",
           "ticks": "",
           "zerolinecolor": "white",
           "zerolinewidth": 2
          },
          "yaxis": {
           "automargin": true,
           "gridcolor": "white",
           "linecolor": "white",
           "ticks": "",
           "zerolinecolor": "white",
           "zerolinewidth": 2
          }
         }
        },
        "xaxis": {
         "autorange": true,
         "range": [
          0,
          99
         ],
         "title": {
          "text": "Iterations"
         }
        },
        "yaxis": {
         "autorange": true,
         "range": [
          1.609375,
          2.651041666666667
         ],
         "title": {
          "text": "Rank"
         },
         "type": "linear"
        }
       }
      },
      "image/png": "[encoded data removed]",
      "text/html": [
       "<div>\n",
       "        \n",
       "        \n",
       "            <div id=\"0d3c257c-7ede-4e2d-95ff-a2a12e536189\" class=\"plotly-graph-div\" style=\"height:525px; width:100%;\"></div>\n",
       "            <script type=\"text/javascript\">\n",
       "                require([\"plotly\"], function(Plotly) {\n",
       "                    window.PLOTLYENV=window.PLOTLYENV || {};\n",
       "                    \n",
       "                if (document.getElementById(\"0d3c257c-7ede-4e2d-95ff-a2a12e536189\")) {\n",
       "                    Plotly.newPlot(\n",
       "                        '0d3c257c-7ede-4e2d-95ff-a2a12e536189',\n",
       "                        [{\"name\": \"Naive\", \"type\": \"scatter\", \"y\": [2.5885416666666665, 2.5989583333333335, 2.375, 2.2708333333333335, 2.21875, 1.9895833333333333, 1.96875, 1.875, 1.7916666666666667, 1.796875, 1.8385416666666667, 1.84375, 1.8333333333333333, 1.796875, 1.7864583333333333, 1.7864583333333333, 1.8072916666666667, 1.8020833333333333, 1.8229166666666667, 1.7395833333333333, 1.8489583333333333, 1.859375, 1.8385416666666667, 1.8541666666666667, 1.8541666666666667, 1.859375, 1.859375, 1.859375, 1.8385416666666667, 1.78125, 1.78125, 1.796875, 1.7395833333333333, 1.765625, 1.8177083333333333, 1.8333333333333333, 1.828125, 1.875, 1.875, 1.8802083333333333, 1.9010416666666667, 1.890625, 1.90625, 1.921875, 1.9114583333333333, 1.8958333333333333, 1.9010416666666667, 1.890625, 1.890625, 1.890625, 1.921875, 1.9166666666666667, 1.9114583333333333, 1.9010416666666667, 1.9166666666666667, 1.9166666666666667, 1.9166666666666667, 1.921875, 1.9010416666666667, 1.90625, 1.921875, 1.9114583333333333, 1.9166666666666667, 1.9166666666666667, 1.9322916666666667, 1.9479166666666667, 1.9322916666666667, 1.953125, 1.9270833333333333, 1.9166666666666667, 1.921875, 1.9010416666666667, 1.8802083333333333, 1.9010416666666667, 1.90625, 1.9114583333333333, 1.9166666666666667, 1.9114583333333333, 1.9114583333333333, 1.90625, 1.9166666666666667, 1.921875, 1.9270833333333333, 1.9479166666666667, 1.9635416666666667, 1.9791666666666667, 1.9739583333333333, 1.9739583333333333, 1.9739583333333333, 1.9791666666666667, 1.984375, 1.9791666666666667, 1.9895833333333333, 2.0, 2.0, 2.0052083333333335, 2.0104166666666665, 2.0052083333333335, 1.9947916666666667, 1.9947916666666667]}, {\"name\": \"Warmstarted\", \"type\": \"scatter\", \"y\": [1.75, 1.703125, 1.7604166666666667, 1.8125, 1.84375, 1.9166666666666667, 1.9166666666666667, 1.9791666666666667, 2.0364583333333335, 2.0833333333333335, 2.0520833333333335, 2.078125, 2.046875, 2.0520833333333335, 2.0520833333333335, 2.0572916666666665, 2.0364583333333335, 2.0520833333333335, 2.0520833333333335, 2.0677083333333335, 2.0104166666666665, 2.0364583333333335, 2.0520833333333335, 2.0364583333333335, 2.0416666666666665, 2.0520833333333335, 2.0572916666666665, 2.0260416666666665, 2.0416666666666665, 2.0677083333333335, 2.0833333333333335, 2.0729166666666665, 2.0989583333333335, 2.078125, 2.0364583333333335, 2.0208333333333335, 2.0364583333333335, 2.0052083333333335, 2.0, 1.984375, 1.9895833333333333, 2.0104166666666665, 1.984375, 1.9739583333333333, 1.9739583333333333, 1.9791666666666667, 1.96875, 1.9791666666666667, 1.96875, 1.9583333333333333, 1.9114583333333333, 1.9010416666666667, 1.8958333333333333, 1.9010416666666667, 1.90625, 1.9010416666666667, 1.9010416666666667, 1.8958333333333333, 1.90625, 1.8697916666666667, 1.8541666666666667, 1.8645833333333333, 1.8541666666666667, 1.8541666666666667, 1.859375, 1.875, 1.9114583333333333, 1.9114583333333333, 1.90625, 1.921875, 1.9322916666666667, 1.953125, 1.9635416666666667, 1.9427083333333333, 1.953125, 1.9583333333333333, 1.9635416666666667, 1.9479166666666667, 1.9479166666666667, 1.9479166666666667, 1.921875, 1.9114583333333333, 1.9010416666666667, 1.890625, 1.890625, 1.8958333333333333, 1.90625, 1.90625, 1.90625, 1.9166666666666667, 1.9375, 1.9479166666666667, 1.9270833333333333, 1.921875, 1.921875, 1.9270833333333333, 1.9166666666666667, 1.9270833333333333, 1.9322916666666667, 1.9322916666666667]}, {\"name\": \"Coldstarted\", \"type\": \"scatter\", \"y\": [1.6614583333333333, 1.6979166666666667, 1.8645833333333333, 1.9166666666666667, 1.9375, 2.09375, 2.1145833333333335, 2.1458333333333335, 2.171875, 2.1197916666666665, 2.109375, 2.078125, 2.1197916666666665, 2.1510416666666665, 2.1614583333333335, 2.15625, 2.15625, 2.1458333333333335, 2.125, 2.1927083333333335, 2.140625, 2.1041666666666665, 2.109375, 2.109375, 2.1041666666666665, 2.0885416666666665, 2.0833333333333335, 2.1145833333333335, 2.1197916666666665, 2.1510416666666665, 2.1354166666666665, 2.1302083333333335, 2.1614583333333335, 2.15625, 2.1458333333333335, 2.1458333333333335, 2.1354166666666665, 2.1197916666666665, 2.125, 2.1354166666666665, 2.109375, 2.0989583333333335, 2.109375, 2.1041666666666665, 2.1145833333333335, 2.125, 2.1302083333333335, 2.1302083333333335, 2.140625, 2.1510416666666665, 2.1666666666666665, 2.1822916666666665, 2.1927083333333335, 2.1979166666666665, 2.1770833333333335, 2.1822916666666665, 2.1822916666666665, 2.1822916666666665, 2.1927083333333335, 2.2239583333333335, 2.2239583333333335, 2.2239583333333335, 2.2291666666666665, 2.2291666666666665, 2.2083333333333335, 2.1770833333333335, 2.15625, 2.1354166666666665, 2.1666666666666665, 2.1614583333333335, 2.1458333333333335, 2.1458333333333335, 2.15625, 2.15625, 2.140625, 2.1302083333333335, 2.1197916666666665, 2.140625, 2.140625, 2.1458333333333335, 2.1614583333333335, 2.1666666666666665, 2.171875, 2.1614583333333335, 2.1458333333333335, 2.125, 2.1197916666666665, 2.1197916666666665, 2.1197916666666665, 2.1041666666666665, 2.078125, 2.0729166666666665, 2.0833333333333335, 2.078125, 2.078125, 2.0677083333333335, 2.0729166666666665, 2.0677083333333335, 2.0729166666666665, 2.0729166666666665]}],\n",
       "                        {\"template\": {\"data\": {\"bar\": [{\"error_x\": {\"color\": \"#2a3f5f\"}, \"error_y\": {\"color\": \"#2a3f5f\"}, \"marker\": {\"line\": {\"color\": \"#E5ECF6\", \"width\": 0.5}}, \"type\": \"bar\"}], \"barpolar\": [{\"marker\": {\"line\": {\"color\": \"#E5ECF6\", \"width\": 0.5}}, \"type\": \"barpolar\"}], \"carpet\": [{\"aaxis\": {\"endlinecolor\": \"#2a3f5f\", \"gridcolor\": \"white\", \"linecolor\": \"white\", \"minorgridcolor\": \"white\", \"startlinecolor\": \"#2a3f5f\"}, \"baxis\": {\"endlinecolor\": \"#2a3f5f\", \"gridcolor\": \"white\", \"linecolor\": \"white\", \"minorgridcolor\": \"white\", \"startlinecolor\": \"#2a3f5f\"}, \"type\": \"carpet\"}], \"choropleth\": [{\"colorbar\": {\"outlinewidth\": 0, \"ticks\": \"\"}, \"type\": \"choropleth\"}], \"contour\": [{\"colorbar\": {\"outlinewidth\": 0, \"ticks\": \"\"}, \"colorscale\": [[0.0, \"#0d0887\"], [0.1111111111111111, \"#46039f\"], [0.2222222222222222, \"#7201a8\"], [0.3333333333333333, \"#9c179e\"], [0.4444444444444444, \"#bd3786\"], [0.5555555555555556, \"#d8576b\"], [0.6666666666666666, \"#ed7953\"], [0.7777777777777778, \"#fb9f3a\"], [0.8888888888888888, \"#fdca26\"], [1.0, \"#f0f921\"]], \"type\": \"contour\"}], \"contourcarpet\": [{\"colorbar\": {\"outlinewidth\": 0, \"ticks\": \"\"}, \"type\": \"contourcarpet\"}], \"heatmap\": [{\"colorbar\": {\"outlinewidth\": 0, \"ticks\": \"\"}, \"colorscale\": [[0.0, \"#0d0887\"], [0.1111111111111111, \"#46039f\"], [0.2222222222222222, \"#7201a8\"], [0.3333333333333333, \"#9c179e\"], [0.4444444444444444, \"#bd3786\"], [0.5555555555555556, \"#d8576b\"], [0.6666666666666666, \"#ed7953\"], [0.7777777777777778, \"#fb9f3a\"], [0.8888888888888888, \"#fdca26\"], [1.0, \"#f0f921\"]], \"type\": \"heatmap\"}], \"heatmapgl\": [{\"colorbar\": {\"outlinewidth\": 0, \"ticks\": \"\"}, \"colorscale\": [[0.0, \"#0d0887\"], [0.1111111111111111, \"#46039f\"], [0.2222222222222222, \"#7201a8\"], [0.3333333333333333, \"#9c179e\"], [0.4444444444444444, \"#bd3786\"], [0.5555555555555556, \"#d8576b\"], [0.6666666666666666, \"#ed7953\"], [0.7777777777777778, \"#fb9f3a\"], [0.8888888888888888, \"#fdca26\"], [1.0, \"#f0f921\"]], \"type\": \"heatmapgl\"}], \"histogram\": [{\"marker\": {\"colorbar\": {\"outlinewidth\": 0, \"ticks\": \"\"}}, \"type\": \"histogram\"}], \"histogram2d\": [{\"colorbar\": {\"outlinewidth\": 0, \"ticks\": \"\"}, \"colorscale\": [[0.0, \"#0d0887\"], [0.1111111111111111, \"#46039f\"], [0.2222222222222222, \"#7201a8\"], [0.3333333333333333, \"#9c179e\"], [0.4444444444444444, \"#bd3786\"], [0.5555555555555556, \"#d8576b\"], [0.6666666666666666, \"#ed7953\"], [0.7777777777777778, \"#fb9f3a\"], [0.8888888888888888, \"#fdca26\"], [1.0, \"#f0f921\"]], \"type\": \"histogram2d\"}], \"histogram2dcontour\": [{\"colorbar\": {\"outlinewidth\": 0, \"ticks\": \"\"}, \"colorscale\": [[0.0, \"#0d0887\"], [0.1111111111111111, \"#46039f\"], [0.2222222222222222, \"#7201a8\"], [0.3333333333333333, \"#9c179e\"], [0.4444444444444444, \"#bd3786\"], [0.5555555555555556, \"#d8576b\"], [0.6666666666666666, \"#ed7953\"], [0.7777777777777778, \"#fb9f3a\"], [0.8888888888888888, \"#fdca26\"], [1.0, \"#f0f921\"]], \"type\": \"histogram2dcontour\"}], \"mesh3d\": [{\"colorbar\": {\"outlinewidth\": 0, \"ticks\": \"\"}, \"type\": \"mesh3d\"}], \"parcoords\": [{\"line\": {\"colorbar\": {\"outlinewidth\": 0, \"ticks\": \"\"}}, \"type\": \"parcoords\"}], \"scatter\": [{\"marker\": {\"colorbar\": {\"outlinewidth\": 0, \"ticks\": \"\"}}, \"type\": \"scatter\"}], \"scatter3d\": [{\"line\": {\"colorbar\": {\"outlinewidth\": 0, \"ticks\": \"\"}}, \"marker\": {\"colorbar\": {\"outlinewidth\": 0, \"ticks\": \"\"}}, \"type\": \"scatter3d\"}], \"scattercarpet\": [{\"marker\": {\"colorbar\": {\"outlinewidth\": 0, \"ticks\": \"\"}}, \"type\": \"scattercarpet\"}], \"scattergeo\": [{\"marker\": {\"colorbar\": {\"outlinewidth\": 0, \"ticks\": \"\"}}, \"type\": \"scattergeo\"}], \"scattergl\": [{\"marker\": {\"colorbar\": {\"outlinewidth\": 0, \"ticks\": \"\"}}, \"type\": \"scattergl\"}], \"scattermapbox\": [{\"marker\": {\"colorbar\": {\"outlinewidth\": 0, \"ticks\": \"\"}}, \"type\": \"scattermapbox\"}], \"scatterpolar\": [{\"marker\": {\"colorbar\": {\"outlinewidth\": 0, \"ticks\": \"\"}}, \"type\": \"scatterpolar\"}], \"scatterpolargl\": [{\"marker\": {\"colorbar\": {\"outlinewidth\": 0, \"ticks\": \"\"}}, \"type\": \"scatterpolargl\"}], \"scatterternary\": [{\"marker\": {\"colorbar\": {\"outlinewidth\": 0, \"ticks\": \"\"}}, \"type\": \"scatterternary\"}], \"surface\": [{\"colorbar\": {\"outlinewidth\": 0, \"ticks\": \"\"}, \"colorscale\": [[0.0, \"#0d0887\"], [0.1111111111111111, \"#46039f\"], [0.2222222222222222, \"#7201a8\"], [0.3333333333333333, \"#9c179e\"], [0.4444444444444444, \"#bd3786\"], [0.5555555555555556, \"#d8576b\"], [0.6666666666666666, \"#ed7953\"], [0.7777777777777778, \"#fb9f3a\"], [0.8888888888888888, \"#fdca26\"], [1.0, \"#f0f921\"]], \"type\": \"surface\"}], \"table\": [{\"cells\": {\"fill\": {\"color\": \"#EBF0F8\"}, \"line\": {\"color\": \"white\"}}, \"header\": {\"fill\": {\"color\": \"#C8D4E3\"}, \"line\": {\"color\": \"white\"}}, \"type\": \"table\"}]}, \"layout\": {\"annotationdefaults\": {\"arrowcolor\": \"#2a3f5f\", \"arrowhead\": 0, \"arrowwidth\": 1}, \"colorscale\": {\"diverging\": [[0, \"#8e0152\"], [0.1, \"#c51b7d\"], [0.2, \"#de77ae\"], [0.3, \"#f1b6da\"], [0.4, \"#fde0ef\"], [0.5, \"#f7f7f7\"], [0.6, \"#e6f5d0\"], [0.7, \"#b8e186\"], [0.8, \"#7fbc41\"], [0.9, \"#4d9221\"], [1, \"#276419\"]], \"sequential\": [[0.0, \"#0d0887\"], [0.1111111111111111, \"#46039f\"], [0.2222222222222222, \"#7201a8\"], [0.3333333333333333, \"#9c179e\"], [0.4444444444444444, \"#bd3786\"], [0.5555555555555556, \"#d8576b\"], [0.6666666666666666, \"#ed7953\"], [0.7777777777777778, \"#fb9f3a\"], [0.8888888888888888, \"#fdca26\"], [1.0, \"#f0f921\"]], \"sequentialminus\": [[0.0, \"#0d0887\"], [0.1111111111111111, \"#46039f\"], [0.2222222222222222, \"#7201a8\"], [0.3333333333333333, \"#9c179e\"], [0.4444444444444444, \"#bd3786\"], [0.5555555555555556, \"#d8576b\"], [0.6666666666666666, \"#ed7953\"], [0.7777777777777778, \"#fb9f3a\"], [0.8888888888888888, \"#fdca26\"], [1.0, \"#f0f921\"]]}, \"colorway\": [\"#636efa\", \"#EF553B\", \"#00cc96\", \"#ab63fa\", \"#FFA15A\", \"#19d3f3\", \"#FF6692\", \"#B6E880\", \"#FF97FF\", \"#FECB52\"], \"font\": {\"color\": \"#2a3f5f\"}, \"geo\": {\"bgcolor\": \"white\", \"lakecolor\": \"white\", \"landcolor\": \"#E5ECF6\", \"showlakes\": true, \"showland\": true, \"subunitcolor\": \"white\"}, \"hoverlabel\": {\"align\": \"left\"}, \"hovermode\": \"closest\", \"mapbox\": {\"style\": \"light\"}, \"paper_bgcolor\": \"white\", \"plot_bgcolor\": \"#E5ECF6\", \"polar\": {\"angularaxis\": {\"gridcolor\": \"white\", \"linecolor\": \"white\", \"ticks\": \"\"}, \"bgcolor\": \"#E5ECF6\", \"radialaxis\": {\"gridcolor\": \"white\", \"linecolor\": \"white\", \"ticks\": \"\"}}, \"scene\": {\"xaxis\": {\"backgroundcolor\": \"#E5ECF6\", \"gridcolor\": \"white\", \"gridwidth\": 2, \"linecolor\": \"white\", \"showbackground\": true, \"ticks\": \"\", \"zerolinecolor\": \"white\"}, \"yaxis\": {\"backgroundcolor\": \"#E5ECF6\", \"gridcolor\": \"white\", \"gridwidth\": 2, \"linecolor\": \"white\", \"showbackground\": true, \"ticks\": \"\", \"zerolinecolor\": \"white\"}, \"zaxis\": {\"backgroundcolor\": \"#E5ECF6\", \"gridcolor\": \"white\", \"gridwidth\": 2, \"linecolor\": \"white\", \"showbackground\": true, \"ticks\": \"\", \"zerolinecolor\": \"white\"}}, \"shapedefaults\": {\"line\": {\"color\": \"#2a3f5f\"}}, \"ternary\": {\"aaxis\": {\"gridcolor\": \"white\", \"linecolor\": \"white\", \"ticks\": \"\"}, \"baxis\": {\"gridcolor\": \"white\", \"linecolor\": \"white\", \"ticks\": \"\"}, \"bgcolor\": \"#E5ECF6\", \"caxis\": {\"gridcolor\": \"white\", \"linecolor\": \"white\", \"ticks\": \"\"}}, \"title\": {\"x\": 0.05}, \"xaxis\": {\"automargin\": true, \"gridcolor\": \"white\", \"linecolor\": \"white\", \"ticks\": \"\", \"zerolinecolor\": \"white\", \"zerolinewidth\": 2}, \"yaxis\": {\"automargin\": true, \"gridcolor\": \"white\", \"linecolor\": \"white\", \"ticks\": \"\", \"zerolinecolor\": \"white\", \"zerolinewidth\": 2}}}, \"xaxis\": {\"title\": {\"text\": \"Iterations\"}}, \"yaxis\": {\"title\": {\"text\": \"Rank\"}}},\n",
       "                        {\"responsive\": true}\n",
       "                    ).then(function(){\n",
       "                            \n",
       "var gd = document.getElementById('0d3c257c-7ede-4e2d-95ff-a2a12e536189');\n",
       "var x = new MutationObserver(function (mutations, observer) {{\n",
       "        var display = window.getComputedStyle(gd).display;\n",
       "        if (!display || display === 'none') {{\n",
       "            console.log([gd, 'removed!']);\n",
       "            Plotly.purge(gd);\n",
       "            observer.disconnect();\n",
       "        }}\n",
       "}});\n",
       "\n",
       "// Listen for the removal of the full notebook cells\n",
       "var notebookContainer = gd.closest('#notebook-container');\n",
       "if (notebookContainer) {{\n",
       "    x.observe(notebookContainer, {childList: true});\n",
       "}}\n",
       "\n",
       "// Listen for the clearing of the current output cell\n",
       "var outputEl = gd.closest('.output');\n",
       "if (outputEl) {{\n",
       "    x.observe(outputEl, {childList: true});\n",
       "}}\n",
       "\n",
       "                        })\n",
       "                };\n",
       "                });\n",
       "            </script>\n",
       "        </div>"
      ]
     },
     "metadata": {},
     "output_type": "display_data"
    }
   ],
   "source": [
    "from src.visualization.hopt_experiment_visualizers import visualize_avg_ranks\n",
    "visualize_avg_ranks(hopt_exp_size)"
   ]
  },
  {
   "cell_type": "markdown",
   "metadata": {},
   "source": [
    "# Input richness"
   ]
  },
  {
   "cell_type": "code",
   "execution_count": 40,
   "metadata": {},
   "outputs": [
    {
     "name": "stderr",
     "output_type": "stream",
     "text": [
      "Calculate metafeatures of metasamples: 100%|██████████| 32/32 [00:01<00:00, 21.71it/s]\n"
     ]
    }
   ],
   "source": [
    "# Initialize metadataset and calculate metafeatures\n",
    "metadataset_sample_names = !ls ../../data/metadata/interim\n",
    "metasamples = [pickle.load(open('../../data/metadata/interim/' + sample_name,\"rb\")) for sample_name in metadataset_sample_names]\n",
    "metadataset = MetaDataset(metasamples, metafeature_functions=[pca_rank_cor, unit])\n",
    "\n",
    "# Initialize thesis objective, search space and targets for leave-one-out procedure\n",
    "objective = thesis_lookup_objective\n",
    "search_space = thesis_search_space()\n",
    "target_ids = [metasample.identifier for metasample in metadataset.metasamples]"
   ]
  },
  {
   "cell_type": "markdown",
   "metadata": {},
   "source": [
    "# Experiment"
   ]
  },
  {
   "cell_type": "code",
   "execution_count": 41,
   "metadata": {},
   "outputs": [],
   "source": [
    "# initialize searches\n",
    "rand = BayesianHopt(\n",
    "    identifier='Random search',\n",
    "    search_space=search_space,\n",
    "    objective=objective,\n",
    "    max_evals=max_evals,\n",
    "    nr_random_starts=max_evals\n",
    ")\n",
    "naive = BayesianHopt(\n",
    "    identifier='Naive',\n",
    "    search_space=search_space,\n",
    "    objective=objective,\n",
    "    max_evals=max_evals,\n",
    "    nr_random_starts=n_init_configs\n",
    ")\n",
    "warm = BayesianHopt(\n",
    "    identifier='Warmstarted',\n",
    "    search_space=search_space,\n",
    "    objective=objective,\n",
    "    max_evals=max_evals,\n",
    "    warmstarter=Warmstarter(metadataset, n_init_configs=n_init_configs, n_sim_samples=5, n_best_per_sample=5)\n",
    ")\n",
    "cold = BayesianHopt(\n",
    "    identifier='Coldstarted',\n",
    "    search_space=search_space,\n",
    "    objective=objective,\n",
    "    max_evals=max_evals,\n",
    "    warmstarter=Warmstarter(metadataset, n_init_configs=n_init_configs, n_sim_samples=5, n_best_per_sample=5, cold=True)\n",
    ")\n",
    "hopt_exp_input_richness = HoptExperiment(\n",
    "    hopts=[naive, warm, cold],\n",
    "    duplicates=duplicates,\n",
    "    objective=objective,\n",
    "    metadataset=metadataset\n",
    ")"
   ]
  },
  {
   "cell_type": "code",
   "execution_count": 42,
   "metadata": {
    "scrolled": true
   },
   "outputs": [
    {
     "name": "stderr",
     "output_type": "stream",
     "text": [
      "Target time series: 100%|██████████| 32/32 [45:10<00:00, 84.70s/it]\n"
     ]
    }
   ],
   "source": [
    "hopt_exp_input_richness.run_hopt_experiment(target_ids)"
   ]
  },
  {
   "cell_type": "markdown",
   "metadata": {},
   "source": [
    "# Badly tuned warmstart (Input richness)"
   ]
  },
  {
   "cell_type": "code",
   "execution_count": 43,
   "metadata": {},
   "outputs": [
    {
     "data": {
      "application/vnd.plotly.v1+json": {
       "config": {
        "plotlyServerURL": "https://plot.ly"
       },
       "data": [
        {
         "name": "Naive",
         "type": "scatter",
         "y": [
          2.6614583333333335,
          2.6927083333333335,
          2.6666666666666665,
          2.59375,
          2.5989583333333335,
          2.4479166666666665,
          2.3177083333333335,
          2.265625,
          2.25,
          2.25,
          2.2239583333333335,
          2.2239583333333335,
          2.1354166666666665,
          2.046875,
          2.0729166666666665,
          2.0885416666666665,
          2.1197916666666665,
          2.1145833333333335,
          2.0885416666666665,
          2.0833333333333335,
          2.0885416666666665,
          2.0260416666666665,
          2.0208333333333335,
          2.0260416666666665,
          1.9947916666666667,
          2.0208333333333335,
          2.046875,
          2.0729166666666665,
          2.0885416666666665,
          2.0833333333333335,
          2.0885416666666665,
          2.09375,
          2.078125,
          2.078125,
          2.1041666666666665,
          2.1302083333333335,
          2.09375,
          2.0989583333333335,
          2.0885416666666665,
          2.09375,
          2.09375,
          2.125,
          2.1302083333333335,
          2.1197916666666665,
          2.109375,
          2.109375,
          2.09375,
          2.0833333333333335,
          2.0677083333333335,
          2.0625,
          2.0572916666666665,
          2.0416666666666665,
          2.0416666666666665,
          2.0572916666666665,
          2.046875,
          2.0364583333333335,
          2.046875,
          2.0625,
          2.0416666666666665,
          2.03125,
          2.046875,
          2.0416666666666665,
          2.0520833333333335,
          2.0416666666666665,
          2.0416666666666665,
          2.0260416666666665,
          2.0260416666666665,
          2.0364583333333335,
          2.0364583333333335,
          2.046875,
          2.0260416666666665,
          2.0260416666666665,
          2.0208333333333335,
          2.0260416666666665,
          2.0364583333333335,
          2.046875,
          2.0520833333333335,
          2.0572916666666665,
          2.0416666666666665,
          2.0729166666666665,
          2.0677083333333335,
          2.078125,
          2.078125,
          2.0885416666666665,
          2.0885416666666665,
          2.0833333333333335,
          2.0885416666666665,
          2.0572916666666665,
          2.0572916666666665,
          2.0572916666666665,
          2.0625,
          2.0625,
          2.0625,
          2.0729166666666665,
          2.0729166666666665,
          2.0677083333333335,
          2.078125,
          2.0833333333333335,
          2.078125,
          2.0625
         ]
        },
        {
         "name": "Warmstarted",
         "type": "scatter",
         "y": [
          1.75,
          1.6875,
          1.6145833333333333,
          1.5833333333333333,
          1.6822916666666667,
          1.75,
          1.7708333333333333,
          1.78125,
          1.7760416666666667,
          1.765625,
          1.7552083333333333,
          1.734375,
          1.75,
          1.796875,
          1.7552083333333333,
          1.75,
          1.7291666666666667,
          1.71875,
          1.7291666666666667,
          1.7135416666666667,
          1.7604166666666667,
          1.7760416666666667,
          1.7864583333333333,
          1.8072916666666667,
          1.8125,
          1.796875,
          1.7760416666666667,
          1.7604166666666667,
          1.7604166666666667,
          1.8072916666666667,
          1.84375,
          1.84375,
          1.8697916666666667,
          1.8802083333333333,
          1.890625,
          1.8541666666666667,
          1.859375,
          1.84375,
          1.8385416666666667,
          1.8489583333333333,
          1.8541666666666667,
          1.84375,
          1.8489583333333333,
          1.8489583333333333,
          1.84375,
          1.84375,
          1.84375,
          1.875,
          1.8802083333333333,
          1.8645833333333333,
          1.8385416666666667,
          1.828125,
          1.8229166666666667,
          1.7864583333333333,
          1.8072916666666667,
          1.7916666666666667,
          1.78125,
          1.765625,
          1.7708333333333333,
          1.7760416666666667,
          1.7760416666666667,
          1.7708333333333333,
          1.7708333333333333,
          1.78125,
          1.7864583333333333,
          1.8125,
          1.8020833333333333,
          1.8177083333333333,
          1.8489583333333333,
          1.8385416666666667,
          1.8385416666666667,
          1.8489583333333333,
          1.8489583333333333,
          1.8489583333333333,
          1.8333333333333333,
          1.8229166666666667,
          1.8385416666666667,
          1.8229166666666667,
          1.8333333333333333,
          1.8177083333333333,
          1.828125,
          1.8177083333333333,
          1.8177083333333333,
          1.8125,
          1.8125,
          1.8229166666666667,
          1.8333333333333333,
          1.8541666666666667,
          1.8489583333333333,
          1.8489583333333333,
          1.8541666666666667,
          1.8541666666666667,
          1.8541666666666667,
          1.84375,
          1.84375,
          1.8541666666666667,
          1.8385416666666667,
          1.828125,
          1.8333333333333333,
          1.8385416666666667
         ]
        },
        {
         "name": "Coldstarted",
         "type": "scatter",
         "y": [
          1.5885416666666667,
          1.6197916666666667,
          1.71875,
          1.8229166666666667,
          1.71875,
          1.8020833333333333,
          1.9114583333333333,
          1.953125,
          1.9739583333333333,
          1.984375,
          2.0208333333333335,
          2.0416666666666665,
          2.1145833333333335,
          2.15625,
          2.171875,
          2.1614583333333335,
          2.1510416666666665,
          2.1666666666666665,
          2.1822916666666665,
          2.203125,
          2.1510416666666665,
          2.1979166666666665,
          2.1927083333333335,
          2.1666666666666665,
          2.1927083333333335,
          2.1822916666666665,
          2.1770833333333335,
          2.1666666666666665,
          2.1510416666666665,
          2.109375,
          2.0677083333333335,
          2.0625,
          2.0520833333333335,
          2.0416666666666665,
          2.0052083333333335,
          2.015625,
          2.046875,
          2.0572916666666665,
          2.0729166666666665,
          2.0572916666666665,
          2.0520833333333335,
          2.03125,
          2.0208333333333335,
          2.03125,
          2.046875,
          2.046875,
          2.0625,
          2.0416666666666665,
          2.0520833333333335,
          2.0729166666666665,
          2.1041666666666665,
          2.1302083333333335,
          2.1354166666666665,
          2.15625,
          2.1458333333333335,
          2.171875,
          2.171875,
          2.171875,
          2.1875,
          2.1927083333333335,
          2.1770833333333335,
          2.1875,
          2.1770833333333335,
          2.1770833333333335,
          2.171875,
          2.1614583333333335,
          2.171875,
          2.1458333333333335,
          2.1145833333333335,
          2.1145833333333335,
          2.1354166666666665,
          2.125,
          2.1302083333333335,
          2.125,
          2.1302083333333335,
          2.1302083333333335,
          2.109375,
          2.1197916666666665,
          2.125,
          2.109375,
          2.1041666666666665,
          2.1041666666666665,
          2.1041666666666665,
          2.0989583333333335,
          2.0989583333333335,
          2.09375,
          2.078125,
          2.0885416666666665,
          2.09375,
          2.09375,
          2.0833333333333335,
          2.0833333333333335,
          2.0833333333333335,
          2.0833333333333335,
          2.0833333333333335,
          2.078125,
          2.0833333333333335,
          2.0885416666666665,
          2.0885416666666665,
          2.0989583333333335
         ]
        }
       ],
       "layout": {
        "autosize": true,
        "template": {
         "data": {
          "bar": [
           {
            "error_x": {
             "color": "#2a3f5f"
            },
            "error_y": {
             "color": "#2a3f5f"
            },
            "marker": {
             "line": {
              "color": "#E5ECF6",
              "width": 0.5
             }
            },
            "type": "bar"
           }
          ],
          "barpolar": [
           {
            "marker": {
             "line": {
              "color": "#E5ECF6",
              "width": 0.5
             }
            },
            "type": "barpolar"
           }
          ],
          "carpet": [
           {
            "aaxis": {
             "endlinecolor": "#2a3f5f",
             "gridcolor": "white",
             "linecolor": "white",
             "minorgridcolor": "white",
             "startlinecolor": "#2a3f5f"
            },
            "baxis": {
             "endlinecolor": "#2a3f5f",
             "gridcolor": "white",
             "linecolor": "white",
             "minorgridcolor": "white",
             "startlinecolor": "#2a3f5f"
            },
            "type": "carpet"
           }
          ],
          "choropleth": [
           {
            "colorbar": {
             "outlinewidth": 0,
             "ticks": ""
            },
            "type": "choropleth"
           }
          ],
          "contour": [
           {
            "colorbar": {
             "outlinewidth": 0,
             "ticks": ""
            },
            "colorscale": [
             [
              0,
              "#0d0887"
             ],
             [
              0.1111111111111111,
              "#46039f"
             ],
             [
              0.2222222222222222,
              "#7201a8"
             ],
             [
              0.3333333333333333,
              "#9c179e"
             ],
             [
              0.4444444444444444,
              "#bd3786"
             ],
             [
              0.5555555555555556,
              "#d8576b"
             ],
             [
              0.6666666666666666,
              "#ed7953"
             ],
             [
              0.7777777777777778,
              "#fb9f3a"
             ],
             [
              0.8888888888888888,
              "#fdca26"
             ],
             [
              1,
              "#f0f921"
             ]
            ],
            "type": "contour"
           }
          ],
          "contourcarpet": [
           {
            "colorbar": {
             "outlinewidth": 0,
             "ticks": ""
            },
            "type": "contourcarpet"
           }
          ],
          "heatmap": [
           {
            "colorbar": {
             "outlinewidth": 0,
             "ticks": ""
            },
            "colorscale": [
             [
              0,
              "#0d0887"
             ],
             [
              0.1111111111111111,
              "#46039f"
             ],
             [
              0.2222222222222222,
              "#7201a8"
             ],
             [
              0.3333333333333333,
              "#9c179e"
             ],
             [
              0.4444444444444444,
              "#bd3786"
             ],
             [
              0.5555555555555556,
              "#d8576b"
             ],
             [
              0.6666666666666666,
              "#ed7953"
             ],
             [
              0.7777777777777778,
              "#fb9f3a"
             ],
             [
              0.8888888888888888,
              "#fdca26"
             ],
             [
              1,
              "#f0f921"
             ]
            ],
            "type": "heatmap"
           }
          ],
          "heatmapgl": [
           {
            "colorbar": {
             "outlinewidth": 0,
             "ticks": ""
            },
            "colorscale": [
             [
              0,
              "#0d0887"
             ],
             [
              0.1111111111111111,
              "#46039f"
             ],
             [
              0.2222222222222222,
              "#7201a8"
             ],
             [
              0.3333333333333333,
              "#9c179e"
             ],
             [
              0.4444444444444444,
              "#bd3786"
             ],
             [
              0.5555555555555556,
              "#d8576b"
             ],
             [
              0.6666666666666666,
              "#ed7953"
             ],
             [
              0.7777777777777778,
              "#fb9f3a"
             ],
             [
              0.8888888888888888,
              "#fdca26"
             ],
             [
              1,
              "#f0f921"
             ]
            ],
            "type": "heatmapgl"
           }
          ],
          "histogram": [
           {
            "marker": {
             "colorbar": {
              "outlinewidth": 0,
              "ticks": ""
             }
            },
            "type": "histogram"
           }
          ],
          "histogram2d": [
           {
            "colorbar": {
             "outlinewidth": 0,
             "ticks": ""
            },
            "colorscale": [
             [
              0,
              "#0d0887"
             ],
             [
              0.1111111111111111,
              "#46039f"
             ],
             [
              0.2222222222222222,
              "#7201a8"
             ],
             [
              0.3333333333333333,
              "#9c179e"
             ],
             [
              0.4444444444444444,
              "#bd3786"
             ],
             [
              0.5555555555555556,
              "#d8576b"
             ],
             [
              0.6666666666666666,
              "#ed7953"
             ],
             [
              0.7777777777777778,
              "#fb9f3a"
             ],
             [
              0.8888888888888888,
              "#fdca26"
             ],
             [
              1,
              "#f0f921"
             ]
            ],
            "type": "histogram2d"
           }
          ],
          "histogram2dcontour": [
           {
            "colorbar": {
             "outlinewidth": 0,
             "ticks": ""
            },
            "colorscale": [
             [
              0,
              "#0d0887"
             ],
             [
              0.1111111111111111,
              "#46039f"
             ],
             [
              0.2222222222222222,
              "#7201a8"
             ],
             [
              0.3333333333333333,
              "#9c179e"
             ],
             [
              0.4444444444444444,
              "#bd3786"
             ],
             [
              0.5555555555555556,
              "#d8576b"
             ],
             [
              0.6666666666666666,
              "#ed7953"
             ],
             [
              0.7777777777777778,
              "#fb9f3a"
             ],
             [
              0.8888888888888888,
              "#fdca26"
             ],
             [
              1,
              "#f0f921"
             ]
            ],
            "type": "histogram2dcontour"
           }
          ],
          "mesh3d": [
           {
            "colorbar": {
             "outlinewidth": 0,
             "ticks": ""
            },
            "type": "mesh3d"
           }
          ],
          "parcoords": [
           {
            "line": {
             "colorbar": {
              "outlinewidth": 0,
              "ticks": ""
             }
            },
            "type": "parcoords"
           }
          ],
          "scatter": [
           {
            "marker": {
             "colorbar": {
              "outlinewidth": 0,
              "ticks": ""
             }
            },
            "type": "scatter"
           }
          ],
          "scatter3d": [
           {
            "line": {
             "colorbar": {
              "outlinewidth": 0,
              "ticks": ""
             }
            },
            "marker": {
             "colorbar": {
              "outlinewidth": 0,
              "ticks": ""
             }
            },
            "type": "scatter3d"
           }
          ],
          "scattercarpet": [
           {
            "marker": {
             "colorbar": {
              "outlinewidth": 0,
              "ticks": ""
             }
            },
            "type": "scattercarpet"
           }
          ],
          "scattergeo": [
           {
            "marker": {
             "colorbar": {
              "outlinewidth": 0,
              "ticks": ""
             }
            },
            "type": "scattergeo"
           }
          ],
          "scattergl": [
           {
            "marker": {
             "colorbar": {
              "outlinewidth": 0,
              "ticks": ""
             }
            },
            "type": "scattergl"
           }
          ],
          "scattermapbox": [
           {
            "marker": {
             "colorbar": {
              "outlinewidth": 0,
              "ticks": ""
             }
            },
            "type": "scattermapbox"
           }
          ],
          "scatterpolar": [
           {
            "marker": {
             "colorbar": {
              "outlinewidth": 0,
              "ticks": ""
             }
            },
            "type": "scatterpolar"
           }
          ],
          "scatterpolargl": [
           {
            "marker": {
             "colorbar": {
              "outlinewidth": 0,
              "ticks": ""
             }
            },
            "type": "scatterpolargl"
           }
          ],
          "scatterternary": [
           {
            "marker": {
             "colorbar": {
              "outlinewidth": 0,
              "ticks": ""
             }
            },
            "type": "scatterternary"
           }
          ],
          "surface": [
           {
            "colorbar": {
             "outlinewidth": 0,
             "ticks": ""
            },
            "colorscale": [
             [
              0,
              "#0d0887"
             ],
             [
              0.1111111111111111,
              "#46039f"
             ],
             [
              0.2222222222222222,
              "#7201a8"
             ],
             [
              0.3333333333333333,
              "#9c179e"
             ],
             [
              0.4444444444444444,
              "#bd3786"
             ],
             [
              0.5555555555555556,
              "#d8576b"
             ],
             [
              0.6666666666666666,
              "#ed7953"
             ],
             [
              0.7777777777777778,
              "#fb9f3a"
             ],
             [
              0.8888888888888888,
              "#fdca26"
             ],
             [
              1,
              "#f0f921"
             ]
            ],
            "type": "surface"
           }
          ],
          "table": [
           {
            "cells": {
             "fill": {
              "color": "#EBF0F8"
             },
             "line": {
              "color": "white"
             }
            },
            "header": {
             "fill": {
              "color": "#C8D4E3"
             },
             "line": {
              "color": "white"
             }
            },
            "type": "table"
           }
          ]
         },
         "layout": {
          "annotationdefaults": {
           "arrowcolor": "#2a3f5f",
           "arrowhead": 0,
           "arrowwidth": 1
          },
          "colorscale": {
           "diverging": [
            [
             0,
             "#8e0152"
            ],
            [
             0.1,
             "#c51b7d"
            ],
            [
             0.2,
             "#de77ae"
            ],
            [
             0.3,
             "#f1b6da"
            ],
            [
             0.4,
             "#fde0ef"
            ],
            [
             0.5,
             "#f7f7f7"
            ],
            [
             0.6,
             "#e6f5d0"
            ],
            [
             0.7,
             "#b8e186"
            ],
            [
             0.8,
             "#7fbc41"
            ],
            [
             0.9,
             "#4d9221"
            ],
            [
             1,
             "#276419"
            ]
           ],
           "sequential": [
            [
             0,
             "#0d0887"
            ],
            [
             0.1111111111111111,
             "#46039f"
            ],
            [
             0.2222222222222222,
             "#7201a8"
            ],
            [
             0.3333333333333333,
             "#9c179e"
            ],
            [
             0.4444444444444444,
             "#bd3786"
            ],
            [
             0.5555555555555556,
             "#d8576b"
            ],
            [
             0.6666666666666666,
             "#ed7953"
            ],
            [
             0.7777777777777778,
             "#fb9f3a"
            ],
            [
             0.8888888888888888,
             "#fdca26"
            ],
            [
             1,
             "#f0f921"
            ]
           ],
           "sequentialminus": [
            [
             0,
             "#0d0887"
            ],
            [
             0.1111111111111111,
             "#46039f"
            ],
            [
             0.2222222222222222,
             "#7201a8"
            ],
            [
             0.3333333333333333,
             "#9c179e"
            ],
            [
             0.4444444444444444,
             "#bd3786"
            ],
            [
             0.5555555555555556,
             "#d8576b"
            ],
            [
             0.6666666666666666,
             "#ed7953"
            ],
            [
             0.7777777777777778,
             "#fb9f3a"
            ],
            [
             0.8888888888888888,
             "#fdca26"
            ],
            [
             1,
             "#f0f921"
            ]
           ]
          },
          "colorway": [
           "#636efa",
           "#EF553B",
           "#00cc96",
           "#ab63fa",
           "#FFA15A",
           "#19d3f3",
           "#FF6692",
           "#B6E880",
           "#FF97FF",
           "#FECB52"
          ],
          "font": {
           "color": "#2a3f5f"
          },
          "geo": {
           "bgcolor": "white",
           "lakecolor": "white",
           "landcolor": "#E5ECF6",
           "showlakes": true,
           "showland": true,
           "subunitcolor": "white"
          },
          "hoverlabel": {
           "align": "left"
          },
          "hovermode": "closest",
          "mapbox": {
           "style": "light"
          },
          "paper_bgcolor": "white",
          "plot_bgcolor": "#E5ECF6",
          "polar": {
           "angularaxis": {
            "gridcolor": "white",
            "linecolor": "white",
            "ticks": ""
           },
           "bgcolor": "#E5ECF6",
           "radialaxis": {
            "gridcolor": "white",
            "linecolor": "white",
            "ticks": ""
           }
          },
          "scene": {
           "xaxis": {
            "backgroundcolor": "#E5ECF6",
            "gridcolor": "white",
            "gridwidth": 2,
            "linecolor": "white",
            "showbackground": true,
            "ticks": "",
            "zerolinecolor": "white"
           },
           "yaxis": {
            "backgroundcolor": "#E5ECF6",
            "gridcolor": "white",
            "gridwidth": 2,
            "linecolor": "white",
            "showbackground": true,
            "ticks": "",
            "zerolinecolor": "white"
           },
           "zaxis": {
            "backgroundcolor": "#E5ECF6",
            "gridcolor": "white",
            "gridwidth": 2,
            "linecolor": "white",
            "showbackground": true,
            "ticks": "",
            "zerolinecolor": "white"
           }
          },
          "shapedefaults": {
           "line": {
            "color": "#2a3f5f"
           }
          },
          "ternary": {
           "aaxis": {
            "gridcolor": "white",
            "linecolor": "white",
            "ticks": ""
           },
           "baxis": {
            "gridcolor": "white",
            "linecolor": "white",
            "ticks": ""
           },
           "bgcolor": "#E5ECF6",
           "caxis": {
            "gridcolor": "white",
            "linecolor": "white",
            "ticks": ""
           }
          },
          "title": {
           "x": 0.05
          },
          "xaxis": {
           "automargin": true,
           "gridcolor": "white",
           "linecolor": "white",
           "ticks": "",
           "zerolinecolor": "white",
           "zerolinewidth": 2
          },
          "yaxis": {
           "automargin": true,
           "gridcolor": "white",
           "linecolor": "white",
           "ticks": "",
           "zerolinecolor": "white",
           "zerolinewidth": 2
          }
         }
        },
        "xaxis": {
         "autorange": true,
         "range": [
          0,
          99
         ],
         "title": {
          "text": "Iterations"
         }
        },
        "yaxis": {
         "autorange": true,
         "range": [
          1.5217013888888888,
          2.754340277777778
         ],
         "title": {
          "text": "Rank"
         },
         "type": "linear"
        }
       }
      },
      "image/png": "[encoded data removed]",
      "text/html": [
       "<div>\n",
       "        \n",
       "        \n",
       "            <div id=\"65cfec8d-eddc-4658-a446-f844a01663ec\" class=\"plotly-graph-div\" style=\"height:525px; width:100%;\"></div>\n",
       "            <script type=\"text/javascript\">\n",
       "                require([\"plotly\"], function(Plotly) {\n",
       "                    window.PLOTLYENV=window.PLOTLYENV || {};\n",
       "                    \n",
       "                if (document.getElementById(\"65cfec8d-eddc-4658-a446-f844a01663ec\")) {\n",
       "                    Plotly.newPlot(\n",
       "                        '65cfec8d-eddc-4658-a446-f844a01663ec',\n",
       "                        [{\"name\": \"Naive\", \"type\": \"scatter\", \"y\": [2.6614583333333335, 2.6927083333333335, 2.6666666666666665, 2.59375, 2.5989583333333335, 2.4479166666666665, 2.3177083333333335, 2.265625, 2.25, 2.25, 2.2239583333333335, 2.2239583333333335, 2.1354166666666665, 2.046875, 2.0729166666666665, 2.0885416666666665, 2.1197916666666665, 2.1145833333333335, 2.0885416666666665, 2.0833333333333335, 2.0885416666666665, 2.0260416666666665, 2.0208333333333335, 2.0260416666666665, 1.9947916666666667, 2.0208333333333335, 2.046875, 2.0729166666666665, 2.0885416666666665, 2.0833333333333335, 2.0885416666666665, 2.09375, 2.078125, 2.078125, 2.1041666666666665, 2.1302083333333335, 2.09375, 2.0989583333333335, 2.0885416666666665, 2.09375, 2.09375, 2.125, 2.1302083333333335, 2.1197916666666665, 2.109375, 2.109375, 2.09375, 2.0833333333333335, 2.0677083333333335, 2.0625, 2.0572916666666665, 2.0416666666666665, 2.0416666666666665, 2.0572916666666665, 2.046875, 2.0364583333333335, 2.046875, 2.0625, 2.0416666666666665, 2.03125, 2.046875, 2.0416666666666665, 2.0520833333333335, 2.0416666666666665, 2.0416666666666665, 2.0260416666666665, 2.0260416666666665, 2.0364583333333335, 2.0364583333333335, 2.046875, 2.0260416666666665, 2.0260416666666665, 2.0208333333333335, 2.0260416666666665, 2.0364583333333335, 2.046875, 2.0520833333333335, 2.0572916666666665, 2.0416666666666665, 2.0729166666666665, 2.0677083333333335, 2.078125, 2.078125, 2.0885416666666665, 2.0885416666666665, 2.0833333333333335, 2.0885416666666665, 2.0572916666666665, 2.0572916666666665, 2.0572916666666665, 2.0625, 2.0625, 2.0625, 2.0729166666666665, 2.0729166666666665, 2.0677083333333335, 2.078125, 2.0833333333333335, 2.078125, 2.0625]}, {\"name\": \"Warmstarted\", \"type\": \"scatter\", \"y\": [1.75, 1.6875, 1.6145833333333333, 1.5833333333333333, 1.6822916666666667, 1.75, 1.7708333333333333, 1.78125, 1.7760416666666667, 1.765625, 1.7552083333333333, 1.734375, 1.75, 1.796875, 1.7552083333333333, 1.75, 1.7291666666666667, 1.71875, 1.7291666666666667, 1.7135416666666667, 1.7604166666666667, 1.7760416666666667, 1.7864583333333333, 1.8072916666666667, 1.8125, 1.796875, 1.7760416666666667, 1.7604166666666667, 1.7604166666666667, 1.8072916666666667, 1.84375, 1.84375, 1.8697916666666667, 1.8802083333333333, 1.890625, 1.8541666666666667, 1.859375, 1.84375, 1.8385416666666667, 1.8489583333333333, 1.8541666666666667, 1.84375, 1.8489583333333333, 1.8489583333333333, 1.84375, 1.84375, 1.84375, 1.875, 1.8802083333333333, 1.8645833333333333, 1.8385416666666667, 1.828125, 1.8229166666666667, 1.7864583333333333, 1.8072916666666667, 1.7916666666666667, 1.78125, 1.765625, 1.7708333333333333, 1.7760416666666667, 1.7760416666666667, 1.7708333333333333, 1.7708333333333333, 1.78125, 1.7864583333333333, 1.8125, 1.8020833333333333, 1.8177083333333333, 1.8489583333333333, 1.8385416666666667, 1.8385416666666667, 1.8489583333333333, 1.8489583333333333, 1.8489583333333333, 1.8333333333333333, 1.8229166666666667, 1.8385416666666667, 1.8229166666666667, 1.8333333333333333, 1.8177083333333333, 1.828125, 1.8177083333333333, 1.8177083333333333, 1.8125, 1.8125, 1.8229166666666667, 1.8333333333333333, 1.8541666666666667, 1.8489583333333333, 1.8489583333333333, 1.8541666666666667, 1.8541666666666667, 1.8541666666666667, 1.84375, 1.84375, 1.8541666666666667, 1.8385416666666667, 1.828125, 1.8333333333333333, 1.8385416666666667]}, {\"name\": \"Coldstarted\", \"type\": \"scatter\", \"y\": [1.5885416666666667, 1.6197916666666667, 1.71875, 1.8229166666666667, 1.71875, 1.8020833333333333, 1.9114583333333333, 1.953125, 1.9739583333333333, 1.984375, 2.0208333333333335, 2.0416666666666665, 2.1145833333333335, 2.15625, 2.171875, 2.1614583333333335, 2.1510416666666665, 2.1666666666666665, 2.1822916666666665, 2.203125, 2.1510416666666665, 2.1979166666666665, 2.1927083333333335, 2.1666666666666665, 2.1927083333333335, 2.1822916666666665, 2.1770833333333335, 2.1666666666666665, 2.1510416666666665, 2.109375, 2.0677083333333335, 2.0625, 2.0520833333333335, 2.0416666666666665, 2.0052083333333335, 2.015625, 2.046875, 2.0572916666666665, 2.0729166666666665, 2.0572916666666665, 2.0520833333333335, 2.03125, 2.0208333333333335, 2.03125, 2.046875, 2.046875, 2.0625, 2.0416666666666665, 2.0520833333333335, 2.0729166666666665, 2.1041666666666665, 2.1302083333333335, 2.1354166666666665, 2.15625, 2.1458333333333335, 2.171875, 2.171875, 2.171875, 2.1875, 2.1927083333333335, 2.1770833333333335, 2.1875, 2.1770833333333335, 2.1770833333333335, 2.171875, 2.1614583333333335, 2.171875, 2.1458333333333335, 2.1145833333333335, 2.1145833333333335, 2.1354166666666665, 2.125, 2.1302083333333335, 2.125, 2.1302083333333335, 2.1302083333333335, 2.109375, 2.1197916666666665, 2.125, 2.109375, 2.1041666666666665, 2.1041666666666665, 2.1041666666666665, 2.0989583333333335, 2.0989583333333335, 2.09375, 2.078125, 2.0885416666666665, 2.09375, 2.09375, 2.0833333333333335, 2.0833333333333335, 2.0833333333333335, 2.0833333333333335, 2.0833333333333335, 2.078125, 2.0833333333333335, 2.0885416666666665, 2.0885416666666665, 2.0989583333333335]}],\n",
       "                        {\"template\": {\"data\": {\"bar\": [{\"error_x\": {\"color\": \"#2a3f5f\"}, \"error_y\": {\"color\": \"#2a3f5f\"}, \"marker\": {\"line\": {\"color\": \"#E5ECF6\", \"width\": 0.5}}, \"type\": \"bar\"}], \"barpolar\": [{\"marker\": {\"line\": {\"color\": \"#E5ECF6\", \"width\": 0.5}}, \"type\": \"barpolar\"}], \"carpet\": [{\"aaxis\": {\"endlinecolor\": \"#2a3f5f\", \"gridcolor\": \"white\", \"linecolor\": \"white\", \"minorgridcolor\": \"white\", \"startlinecolor\": \"#2a3f5f\"}, \"baxis\": {\"endlinecolor\": \"#2a3f5f\", \"gridcolor\": \"white\", \"linecolor\": \"white\", \"minorgridcolor\": \"white\", \"startlinecolor\": \"#2a3f5f\"}, \"type\": \"carpet\"}], \"choropleth\": [{\"colorbar\": {\"outlinewidth\": 0, \"ticks\": \"\"}, \"type\": \"choropleth\"}], \"contour\": [{\"colorbar\": {\"outlinewidth\": 0, \"ticks\": \"\"}, \"colorscale\": [[0.0, \"#0d0887\"], [0.1111111111111111, \"#46039f\"], [0.2222222222222222, \"#7201a8\"], [0.3333333333333333, \"#9c179e\"], [0.4444444444444444, \"#bd3786\"], [0.5555555555555556, \"#d8576b\"], [0.6666666666666666, \"#ed7953\"], [0.7777777777777778, \"#fb9f3a\"], [0.8888888888888888, \"#fdca26\"], [1.0, \"#f0f921\"]], \"type\": \"contour\"}], \"contourcarpet\": [{\"colorbar\": {\"outlinewidth\": 0, \"ticks\": \"\"}, \"type\": \"contourcarpet\"}], \"heatmap\": [{\"colorbar\": {\"outlinewidth\": 0, \"ticks\": \"\"}, \"colorscale\": [[0.0, \"#0d0887\"], [0.1111111111111111, \"#46039f\"], [0.2222222222222222, \"#7201a8\"], [0.3333333333333333, \"#9c179e\"], [0.4444444444444444, \"#bd3786\"], [0.5555555555555556, \"#d8576b\"], [0.6666666666666666, \"#ed7953\"], [0.7777777777777778, \"#fb9f3a\"], [0.8888888888888888, \"#fdca26\"], [1.0, \"#f0f921\"]], \"type\": \"heatmap\"}], \"heatmapgl\": [{\"colorbar\": {\"outlinewidth\": 0, \"ticks\": \"\"}, \"colorscale\": [[0.0, \"#0d0887\"], [0.1111111111111111, \"#46039f\"], [0.2222222222222222, \"#7201a8\"], [0.3333333333333333, \"#9c179e\"], [0.4444444444444444, \"#bd3786\"], [0.5555555555555556, \"#d8576b\"], [0.6666666666666666, \"#ed7953\"], [0.7777777777777778, \"#fb9f3a\"], [0.8888888888888888, \"#fdca26\"], [1.0, \"#f0f921\"]], \"type\": \"heatmapgl\"}], \"histogram\": [{\"marker\": {\"colorbar\": {\"outlinewidth\": 0, \"ticks\": \"\"}}, \"type\": \"histogram\"}], \"histogram2d\": [{\"colorbar\": {\"outlinewidth\": 0, \"ticks\": \"\"}, \"colorscale\": [[0.0, \"#0d0887\"], [0.1111111111111111, \"#46039f\"], [0.2222222222222222, \"#7201a8\"], [0.3333333333333333, \"#9c179e\"], [0.4444444444444444, \"#bd3786\"], [0.5555555555555556, \"#d8576b\"], [0.6666666666666666, \"#ed7953\"], [0.7777777777777778, \"#fb9f3a\"], [0.8888888888888888, \"#fdca26\"], [1.0, \"#f0f921\"]], \"type\": \"histogram2d\"}], \"histogram2dcontour\": [{\"colorbar\": {\"outlinewidth\": 0, \"ticks\": \"\"}, \"colorscale\": [[0.0, \"#0d0887\"], [0.1111111111111111, \"#46039f\"], [0.2222222222222222, \"#7201a8\"], [0.3333333333333333, \"#9c179e\"], [0.4444444444444444, \"#bd3786\"], [0.5555555555555556, \"#d8576b\"], [0.6666666666666666, \"#ed7953\"], [0.7777777777777778, \"#fb9f3a\"], [0.8888888888888888, \"#fdca26\"], [1.0, \"#f0f921\"]], \"type\": \"histogram2dcontour\"}], \"mesh3d\": [{\"colorbar\": {\"outlinewidth\": 0, \"ticks\": \"\"}, \"type\": \"mesh3d\"}], \"parcoords\": [{\"line\": {\"colorbar\": {\"outlinewidth\": 0, \"ticks\": \"\"}}, \"type\": \"parcoords\"}], \"scatter\": [{\"marker\": {\"colorbar\": {\"outlinewidth\": 0, \"ticks\": \"\"}}, \"type\": \"scatter\"}], \"scatter3d\": [{\"line\": {\"colorbar\": {\"outlinewidth\": 0, \"ticks\": \"\"}}, \"marker\": {\"colorbar\": {\"outlinewidth\": 0, \"ticks\": \"\"}}, \"type\": \"scatter3d\"}], \"scattercarpet\": [{\"marker\": {\"colorbar\": {\"outlinewidth\": 0, \"ticks\": \"\"}}, \"type\": \"scattercarpet\"}], \"scattergeo\": [{\"marker\": {\"colorbar\": {\"outlinewidth\": 0, \"ticks\": \"\"}}, \"type\": \"scattergeo\"}], \"scattergl\": [{\"marker\": {\"colorbar\": {\"outlinewidth\": 0, \"ticks\": \"\"}}, \"type\": \"scattergl\"}], \"scattermapbox\": [{\"marker\": {\"colorbar\": {\"outlinewidth\": 0, \"ticks\": \"\"}}, \"type\": \"scattermapbox\"}], \"scatterpolar\": [{\"marker\": {\"colorbar\": {\"outlinewidth\": 0, \"ticks\": \"\"}}, \"type\": \"scatterpolar\"}], \"scatterpolargl\": [{\"marker\": {\"colorbar\": {\"outlinewidth\": 0, \"ticks\": \"\"}}, \"type\": \"scatterpolargl\"}], \"scatterternary\": [{\"marker\": {\"colorbar\": {\"outlinewidth\": 0, \"ticks\": \"\"}}, \"type\": \"scatterternary\"}], \"surface\": [{\"colorbar\": {\"outlinewidth\": 0, \"ticks\": \"\"}, \"colorscale\": [[0.0, \"#0d0887\"], [0.1111111111111111, \"#46039f\"], [0.2222222222222222, \"#7201a8\"], [0.3333333333333333, \"#9c179e\"], [0.4444444444444444, \"#bd3786\"], [0.5555555555555556, \"#d8576b\"], [0.6666666666666666, \"#ed7953\"], [0.7777777777777778, \"#fb9f3a\"], [0.8888888888888888, \"#fdca26\"], [1.0, \"#f0f921\"]], \"type\": \"surface\"}], \"table\": [{\"cells\": {\"fill\": {\"color\": \"#EBF0F8\"}, \"line\": {\"color\": \"white\"}}, \"header\": {\"fill\": {\"color\": \"#C8D4E3\"}, \"line\": {\"color\": \"white\"}}, \"type\": \"table\"}]}, \"layout\": {\"annotationdefaults\": {\"arrowcolor\": \"#2a3f5f\", \"arrowhead\": 0, \"arrowwidth\": 1}, \"colorscale\": {\"diverging\": [[0, \"#8e0152\"], [0.1, \"#c51b7d\"], [0.2, \"#de77ae\"], [0.3, \"#f1b6da\"], [0.4, \"#fde0ef\"], [0.5, \"#f7f7f7\"], [0.6, \"#e6f5d0\"], [0.7, \"#b8e186\"], [0.8, \"#7fbc41\"], [0.9, \"#4d9221\"], [1, \"#276419\"]], \"sequential\": [[0.0, \"#0d0887\"], [0.1111111111111111, \"#46039f\"], [0.2222222222222222, \"#7201a8\"], [0.3333333333333333, \"#9c179e\"], [0.4444444444444444, \"#bd3786\"], [0.5555555555555556, \"#d8576b\"], [0.6666666666666666, \"#ed7953\"], [0.7777777777777778, \"#fb9f3a\"], [0.8888888888888888, \"#fdca26\"], [1.0, \"#f0f921\"]], \"sequentialminus\": [[0.0, \"#0d0887\"], [0.1111111111111111, \"#46039f\"], [0.2222222222222222, \"#7201a8\"], [0.3333333333333333, \"#9c179e\"], [0.4444444444444444, \"#bd3786\"], [0.5555555555555556, \"#d8576b\"], [0.6666666666666666, \"#ed7953\"], [0.7777777777777778, \"#fb9f3a\"], [0.8888888888888888, \"#fdca26\"], [1.0, \"#f0f921\"]]}, \"colorway\": [\"#636efa\", \"#EF553B\", \"#00cc96\", \"#ab63fa\", \"#FFA15A\", \"#19d3f3\", \"#FF6692\", \"#B6E880\", \"#FF97FF\", \"#FECB52\"], \"font\": {\"color\": \"#2a3f5f\"}, \"geo\": {\"bgcolor\": \"white\", \"lakecolor\": \"white\", \"landcolor\": \"#E5ECF6\", \"showlakes\": true, \"showland\": true, \"subunitcolor\": \"white\"}, \"hoverlabel\": {\"align\": \"left\"}, \"hovermode\": \"closest\", \"mapbox\": {\"style\": \"light\"}, \"paper_bgcolor\": \"white\", \"plot_bgcolor\": \"#E5ECF6\", \"polar\": {\"angularaxis\": {\"gridcolor\": \"white\", \"linecolor\": \"white\", \"ticks\": \"\"}, \"bgcolor\": \"#E5ECF6\", \"radialaxis\": {\"gridcolor\": \"white\", \"linecolor\": \"white\", \"ticks\": \"\"}}, \"scene\": {\"xaxis\": {\"backgroundcolor\": \"#E5ECF6\", \"gridcolor\": \"white\", \"gridwidth\": 2, \"linecolor\": \"white\", \"showbackground\": true, \"ticks\": \"\", \"zerolinecolor\": \"white\"}, \"yaxis\": {\"backgroundcolor\": \"#E5ECF6\", \"gridcolor\": \"white\", \"gridwidth\": 2, \"linecolor\": \"white\", \"showbackground\": true, \"ticks\": \"\", \"zerolinecolor\": \"white\"}, \"zaxis\": {\"backgroundcolor\": \"#E5ECF6\", \"gridcolor\": \"white\", \"gridwidth\": 2, \"linecolor\": \"white\", \"showbackground\": true, \"ticks\": \"\", \"zerolinecolor\": \"white\"}}, \"shapedefaults\": {\"line\": {\"color\": \"#2a3f5f\"}}, \"ternary\": {\"aaxis\": {\"gridcolor\": \"white\", \"linecolor\": \"white\", \"ticks\": \"\"}, \"baxis\": {\"gridcolor\": \"white\", \"linecolor\": \"white\", \"ticks\": \"\"}, \"bgcolor\": \"#E5ECF6\", \"caxis\": {\"gridcolor\": \"white\", \"linecolor\": \"white\", \"ticks\": \"\"}}, \"title\": {\"x\": 0.05}, \"xaxis\": {\"automargin\": true, \"gridcolor\": \"white\", \"linecolor\": \"white\", \"ticks\": \"\", \"zerolinecolor\": \"white\", \"zerolinewidth\": 2}, \"yaxis\": {\"automargin\": true, \"gridcolor\": \"white\", \"linecolor\": \"white\", \"ticks\": \"\", \"zerolinecolor\": \"white\", \"zerolinewidth\": 2}}}, \"xaxis\": {\"title\": {\"text\": \"Iterations\"}}, \"yaxis\": {\"title\": {\"text\": \"Rank\"}}},\n",
       "                        {\"responsive\": true}\n",
       "                    ).then(function(){\n",
       "                            \n",
       "var gd = document.getElementById('65cfec8d-eddc-4658-a446-f844a01663ec');\n",
       "var x = new MutationObserver(function (mutations, observer) {{\n",
       "        var display = window.getComputedStyle(gd).display;\n",
       "        if (!display || display === 'none') {{\n",
       "            console.log([gd, 'removed!']);\n",
       "            Plotly.purge(gd);\n",
       "            observer.disconnect();\n",
       "        }}\n",
       "}});\n",
       "\n",
       "// Listen for the removal of the full notebook cells\n",
       "var notebookContainer = gd.closest('#notebook-container');\n",
       "if (notebookContainer) {{\n",
       "    x.observe(notebookContainer, {childList: true});\n",
       "}}\n",
       "\n",
       "// Listen for the clearing of the current output cell\n",
       "var outputEl = gd.closest('.output');\n",
       "if (outputEl) {{\n",
       "    x.observe(outputEl, {childList: true});\n",
       "}}\n",
       "\n",
       "                        })\n",
       "                };\n",
       "                });\n",
       "            </script>\n",
       "        </div>"
      ]
     },
     "metadata": {},
     "output_type": "display_data"
    }
   ],
   "source": [
    "from src.visualization.hopt_experiment_visualizers import visualize_avg_ranks\n",
    "visualize_avg_ranks(hopt_exp_input_richness)"
   ]
  },
  {
   "cell_type": "markdown",
   "metadata": {},
   "source": [
    "# Input richness"
   ]
  },
  {
   "cell_type": "code",
   "execution_count": 44,
   "metadata": {},
   "outputs": [
    {
     "name": "stderr",
     "output_type": "stream",
     "text": [
      "Calculate metafeatures of metasamples: 100%|██████████| 32/32 [00:00<00:00, 3049.85it/s]\n"
     ]
    }
   ],
   "source": [
    "# Initialize metadataset and calculate metafeatures\n",
    "metadataset_sample_names = !ls ../../data/metadata/interim\n",
    "metasamples = [pickle.load(open('../../data/metadata/interim/' + sample_name,\"rb\")) for sample_name in metadataset_sample_names]\n",
    "metadataset = MetaDataset(metasamples, metafeature_functions=[size, unit])\n",
    "\n",
    "# Initialize thesis objective, search space and targets for leave-one-out procedure\n",
    "objective = thesis_lookup_objective\n",
    "search_space = thesis_search_space()\n",
    "target_ids = [metasample.identifier for metasample in metadataset.metasamples]"
   ]
  },
  {
   "cell_type": "markdown",
   "metadata": {},
   "source": [
    "# Experiment"
   ]
  },
  {
   "cell_type": "code",
   "execution_count": 45,
   "metadata": {},
   "outputs": [],
   "source": [
    "# initialize searches\n",
    "rand = BayesianHopt(\n",
    "    identifier='Random search',\n",
    "    search_space=search_space,\n",
    "    objective=objective,\n",
    "    max_evals=max_evals,\n",
    "    nr_random_starts=max_evals\n",
    ")\n",
    "naive = BayesianHopt(\n",
    "    identifier='Naive',\n",
    "    search_space=search_space,\n",
    "    objective=objective,\n",
    "    max_evals=max_evals,\n",
    "    nr_random_starts=n_init_configs\n",
    ")\n",
    "warm = BayesianHopt(\n",
    "    identifier='Warmstarted',\n",
    "    search_space=search_space,\n",
    "    objective=objective,\n",
    "    max_evals=max_evals,\n",
    "    warmstarter=Warmstarter(metadataset, n_init_configs=n_init_configs, n_sim_samples=10, n_best_per_sample=5)\n",
    ")\n",
    "cold = BayesianHopt(\n",
    "    identifier='Coldstarted',\n",
    "    search_space=search_space,\n",
    "    objective=objective,\n",
    "    max_evals=max_evals,\n",
    "    warmstarter=Warmstarter(metadataset, n_init_configs=n_init_configs, n_sim_samples=10, n_best_per_sample=5, cold=True)\n",
    ")\n",
    "hopt_exp_input_richness = HoptExperiment(\n",
    "    hopts=[naive, warm, cold],\n",
    "    duplicates=duplicates,\n",
    "    objective=objective,\n",
    "    metadataset=metadataset\n",
    ")"
   ]
  },
  {
   "cell_type": "code",
   "execution_count": 46,
   "metadata": {
    "scrolled": true
   },
   "outputs": [
    {
     "name": "stderr",
     "output_type": "stream",
     "text": [
      "Target time series: 100%|██████████| 32/32 [56:33<00:00, 106.05s/it] \n"
     ]
    }
   ],
   "source": [
    "hopt_exp_input_richness.run_hopt_experiment(target_ids)"
   ]
  },
  {
   "cell_type": "markdown",
   "metadata": {},
   "source": [
    "# Well tuned warmstart (size)"
   ]
  },
  {
   "cell_type": "code",
   "execution_count": 47,
   "metadata": {},
   "outputs": [
    {
     "data": {
      "application/vnd.plotly.v1+json": {
       "config": {
        "plotlyServerURL": "https://plot.ly"
       },
       "data": [
        {
         "name": "Naive",
         "type": "scatter",
         "y": [
          2.4270833333333335,
          2.625,
          2.5,
          2.3229166666666665,
          2.2291666666666665,
          2.0416666666666665,
          1.9583333333333333,
          1.9114583333333333,
          1.953125,
          1.9427083333333333,
          1.9375,
          1.96875,
          1.9479166666666667,
          1.8958333333333333,
          1.8958333333333333,
          1.8958333333333333,
          1.90625,
          1.953125,
          1.984375,
          1.9270833333333333,
          2,
          2.015625,
          1.9947916666666667,
          1.984375,
          1.9322916666666667,
          1.9322916666666667,
          1.9479166666666667,
          1.9322916666666667,
          1.9322916666666667,
          1.9375,
          1.9479166666666667,
          1.9427083333333333,
          1.9375,
          1.953125,
          1.9947916666666667,
          2.0052083333333335,
          2.0260416666666665,
          2.0260416666666665,
          2.015625,
          2.0208333333333335,
          2.0208333333333335,
          2.0208333333333335,
          2.0104166666666665,
          1.9947916666666667,
          1.9895833333333333,
          1.9427083333333333,
          1.9583333333333333,
          1.9479166666666667,
          1.9479166666666667,
          1.953125,
          1.9375,
          1.9375,
          1.9375,
          1.9479166666666667,
          1.9479166666666667,
          1.9635416666666667,
          1.9270833333333333,
          1.9322916666666667,
          1.921875,
          1.9114583333333333,
          1.9114583333333333,
          1.9427083333333333,
          1.9479166666666667,
          1.953125,
          1.9583333333333333,
          1.9427083333333333,
          1.984375,
          1.9791666666666667,
          1.9947916666666667,
          1.9947916666666667,
          1.9947916666666667,
          1.9583333333333333,
          1.9635416666666667,
          1.953125,
          1.9635416666666667,
          1.96875,
          1.9739583333333333,
          1.9739583333333333,
          1.9739583333333333,
          1.9791666666666667,
          1.984375,
          1.984375,
          1.9895833333333333,
          1.984375,
          2.0104166666666665,
          2,
          1.9895833333333333,
          2,
          2,
          2.0104166666666665,
          2.0104166666666665,
          2.015625,
          2.015625,
          2.0052083333333335,
          2.015625,
          2.0052083333333335,
          2.0104166666666665,
          2.0104166666666665,
          2.0104166666666665,
          2.0260416666666665
         ]
        },
        {
         "name": "Warmstarted",
         "type": "scatter",
         "y": [
          1.8125,
          1.6979166666666667,
          1.6979166666666667,
          1.78125,
          1.8333333333333333,
          1.9270833333333333,
          1.9791666666666667,
          2.0052083333333335,
          2.015625,
          2.0260416666666665,
          2.0625,
          2.0625,
          2.0520833333333335,
          2.0625,
          2.0520833333333335,
          2.0416666666666665,
          2.0208333333333335,
          1.9947916666666667,
          1.9739583333333333,
          1.9895833333333333,
          2,
          1.96875,
          1.9739583333333333,
          1.9479166666666667,
          1.984375,
          1.9635416666666667,
          1.984375,
          1.9947916666666667,
          1.9583333333333333,
          1.9270833333333333,
          1.9114583333333333,
          1.9166666666666667,
          1.9166666666666667,
          1.875,
          1.921875,
          1.921875,
          1.921875,
          1.9375,
          1.953125,
          1.9375,
          1.9375,
          1.9166666666666667,
          1.9114583333333333,
          1.9479166666666667,
          1.9635416666666667,
          1.984375,
          1.9739583333333333,
          1.9791666666666667,
          1.96875,
          1.9739583333333333,
          1.9791666666666667,
          1.9791666666666667,
          1.9739583333333333,
          1.9895833333333333,
          1.984375,
          1.984375,
          1.9895833333333333,
          1.984375,
          1.9739583333333333,
          1.9739583333333333,
          1.9583333333333333,
          1.9479166666666667,
          1.9375,
          1.9114583333333333,
          1.9270833333333333,
          1.9322916666666667,
          1.890625,
          1.8854166666666667,
          1.8854166666666667,
          1.875,
          1.8802083333333333,
          1.9010416666666667,
          1.8958333333333333,
          1.9166666666666667,
          1.9166666666666667,
          1.9375,
          1.9479166666666667,
          1.9427083333333333,
          1.9583333333333333,
          1.9270833333333333,
          1.9322916666666667,
          1.921875,
          1.9166666666666667,
          1.9166666666666667,
          1.8958333333333333,
          1.9010416666666667,
          1.90625,
          1.890625,
          1.890625,
          1.890625,
          1.8854166666666667,
          1.8958333333333333,
          1.8958333333333333,
          1.9010416666666667,
          1.9114583333333333,
          1.9166666666666667,
          1.921875,
          1.921875,
          1.921875,
          1.9322916666666667
         ]
        },
        {
         "name": "Coldstarted",
         "type": "scatter",
         "y": [
          1.7604166666666667,
          1.6770833333333333,
          1.8020833333333333,
          1.8958333333333333,
          1.9375,
          2.03125,
          2.0625,
          2.0833333333333335,
          2.03125,
          2.03125,
          2,
          1.96875,
          2,
          2.0416666666666665,
          2.0520833333333335,
          2.0625,
          2.0729166666666665,
          2.0520833333333335,
          2.0416666666666665,
          2.0833333333333335,
          2,
          2.015625,
          2.03125,
          2.0677083333333335,
          2.0833333333333335,
          2.1041666666666665,
          2.0677083333333335,
          2.0729166666666665,
          2.109375,
          2.1354166666666665,
          2.140625,
          2.140625,
          2.1458333333333335,
          2.171875,
          2.0833333333333335,
          2.0729166666666665,
          2.0520833333333335,
          2.0364583333333335,
          2.03125,
          2.0416666666666665,
          2.0416666666666665,
          2.0625,
          2.078125,
          2.0572916666666665,
          2.046875,
          2.0729166666666665,
          2.0677083333333335,
          2.0729166666666665,
          2.0833333333333335,
          2.0729166666666665,
          2.0833333333333335,
          2.0833333333333335,
          2.0885416666666665,
          2.0625,
          2.0677083333333335,
          2.0520833333333335,
          2.0833333333333335,
          2.0833333333333335,
          2.1041666666666665,
          2.1145833333333335,
          2.1302083333333335,
          2.109375,
          2.1145833333333335,
          2.1354166666666665,
          2.1145833333333335,
          2.125,
          2.125,
          2.1354166666666665,
          2.1197916666666665,
          2.1302083333333335,
          2.125,
          2.140625,
          2.140625,
          2.1302083333333335,
          2.1197916666666665,
          2.09375,
          2.078125,
          2.0833333333333335,
          2.0677083333333335,
          2.09375,
          2.0833333333333335,
          2.09375,
          2.09375,
          2.0989583333333335,
          2.09375,
          2.0989583333333335,
          2.1041666666666665,
          2.109375,
          2.109375,
          2.0989583333333335,
          2.1041666666666665,
          2.0885416666666665,
          2.0885416666666665,
          2.09375,
          2.0729166666666665,
          2.078125,
          2.0677083333333335,
          2.0677083333333335,
          2.0677083333333335,
          2.0416666666666665
         ]
        }
       ],
       "layout": {
        "autosize": true,
        "template": {
         "data": {
          "bar": [
           {
            "error_x": {
             "color": "#2a3f5f"
            },
            "error_y": {
             "color": "#2a3f5f"
            },
            "marker": {
             "line": {
              "color": "#E5ECF6",
              "width": 0.5
             }
            },
            "type": "bar"
           }
          ],
          "barpolar": [
           {
            "marker": {
             "line": {
              "color": "#E5ECF6",
              "width": 0.5
             }
            },
            "type": "barpolar"
           }
          ],
          "carpet": [
           {
            "aaxis": {
             "endlinecolor": "#2a3f5f",
             "gridcolor": "white",
             "linecolor": "white",
             "minorgridcolor": "white",
             "startlinecolor": "#2a3f5f"
            },
            "baxis": {
             "endlinecolor": "#2a3f5f",
             "gridcolor": "white",
             "linecolor": "white",
             "minorgridcolor": "white",
             "startlinecolor": "#2a3f5f"
            },
            "type": "carpet"
           }
          ],
          "choropleth": [
           {
            "colorbar": {
             "outlinewidth": 0,
             "ticks": ""
            },
            "type": "choropleth"
           }
          ],
          "contour": [
           {
            "colorbar": {
             "outlinewidth": 0,
             "ticks": ""
            },
            "colorscale": [
             [
              0,
              "#0d0887"
             ],
             [
              0.1111111111111111,
              "#46039f"
             ],
             [
              0.2222222222222222,
              "#7201a8"
             ],
             [
              0.3333333333333333,
              "#9c179e"
             ],
             [
              0.4444444444444444,
              "#bd3786"
             ],
             [
              0.5555555555555556,
              "#d8576b"
             ],
             [
              0.6666666666666666,
              "#ed7953"
             ],
             [
              0.7777777777777778,
              "#fb9f3a"
             ],
             [
              0.8888888888888888,
              "#fdca26"
             ],
             [
              1,
              "#f0f921"
             ]
            ],
            "type": "contour"
           }
          ],
          "contourcarpet": [
           {
            "colorbar": {
             "outlinewidth": 0,
             "ticks": ""
            },
            "type": "contourcarpet"
           }
          ],
          "heatmap": [
           {
            "colorbar": {
             "outlinewidth": 0,
             "ticks": ""
            },
            "colorscale": [
             [
              0,
              "#0d0887"
             ],
             [
              0.1111111111111111,
              "#46039f"
             ],
             [
              0.2222222222222222,
              "#7201a8"
             ],
             [
              0.3333333333333333,
              "#9c179e"
             ],
             [
              0.4444444444444444,
              "#bd3786"
             ],
             [
              0.5555555555555556,
              "#d8576b"
             ],
             [
              0.6666666666666666,
              "#ed7953"
             ],
             [
              0.7777777777777778,
              "#fb9f3a"
             ],
             [
              0.8888888888888888,
              "#fdca26"
             ],
             [
              1,
              "#f0f921"
             ]
            ],
            "type": "heatmap"
           }
          ],
          "heatmapgl": [
           {
            "colorbar": {
             "outlinewidth": 0,
             "ticks": ""
            },
            "colorscale": [
             [
              0,
              "#0d0887"
             ],
             [
              0.1111111111111111,
              "#46039f"
             ],
             [
              0.2222222222222222,
              "#7201a8"
             ],
             [
              0.3333333333333333,
              "#9c179e"
             ],
             [
              0.4444444444444444,
              "#bd3786"
             ],
             [
              0.5555555555555556,
              "#d8576b"
             ],
             [
              0.6666666666666666,
              "#ed7953"
             ],
             [
              0.7777777777777778,
              "#fb9f3a"
             ],
             [
              0.8888888888888888,
              "#fdca26"
             ],
             [
              1,
              "#f0f921"
             ]
            ],
            "type": "heatmapgl"
           }
          ],
          "histogram": [
           {
            "marker": {
             "colorbar": {
              "outlinewidth": 0,
              "ticks": ""
             }
            },
            "type": "histogram"
           }
          ],
          "histogram2d": [
           {
            "colorbar": {
             "outlinewidth": 0,
             "ticks": ""
            },
            "colorscale": [
             [
              0,
              "#0d0887"
             ],
             [
              0.1111111111111111,
              "#46039f"
             ],
             [
              0.2222222222222222,
              "#7201a8"
             ],
             [
              0.3333333333333333,
              "#9c179e"
             ],
             [
              0.4444444444444444,
              "#bd3786"
             ],
             [
              0.5555555555555556,
              "#d8576b"
             ],
             [
              0.6666666666666666,
              "#ed7953"
             ],
             [
              0.7777777777777778,
              "#fb9f3a"
             ],
             [
              0.8888888888888888,
              "#fdca26"
             ],
             [
              1,
              "#f0f921"
             ]
            ],
            "type": "histogram2d"
           }
          ],
          "histogram2dcontour": [
           {
            "colorbar": {
             "outlinewidth": 0,
             "ticks": ""
            },
            "colorscale": [
             [
              0,
              "#0d0887"
             ],
             [
              0.1111111111111111,
              "#46039f"
             ],
             [
              0.2222222222222222,
              "#7201a8"
             ],
             [
              0.3333333333333333,
              "#9c179e"
             ],
             [
              0.4444444444444444,
              "#bd3786"
             ],
             [
              0.5555555555555556,
              "#d8576b"
             ],
             [
              0.6666666666666666,
              "#ed7953"
             ],
             [
              0.7777777777777778,
              "#fb9f3a"
             ],
             [
              0.8888888888888888,
              "#fdca26"
             ],
             [
              1,
              "#f0f921"
             ]
            ],
            "type": "histogram2dcontour"
           }
          ],
          "mesh3d": [
           {
            "colorbar": {
             "outlinewidth": 0,
             "ticks": ""
            },
            "type": "mesh3d"
           }
          ],
          "parcoords": [
           {
            "line": {
             "colorbar": {
              "outlinewidth": 0,
              "ticks": ""
             }
            },
            "type": "parcoords"
           }
          ],
          "scatter": [
           {
            "marker": {
             "colorbar": {
              "outlinewidth": 0,
              "ticks": ""
             }
            },
            "type": "scatter"
           }
          ],
          "scatter3d": [
           {
            "line": {
             "colorbar": {
              "outlinewidth": 0,
              "ticks": ""
             }
            },
            "marker": {
             "colorbar": {
              "outlinewidth": 0,
              "ticks": ""
             }
            },
            "type": "scatter3d"
           }
          ],
          "scattercarpet": [
           {
            "marker": {
             "colorbar": {
              "outlinewidth": 0,
              "ticks": ""
             }
            },
            "type": "scattercarpet"
           }
          ],
          "scattergeo": [
           {
            "marker": {
             "colorbar": {
              "outlinewidth": 0,
              "ticks": ""
             }
            },
            "type": "scattergeo"
           }
          ],
          "scattergl": [
           {
            "marker": {
             "colorbar": {
              "outlinewidth": 0,
              "ticks": ""
             }
            },
            "type": "scattergl"
           }
          ],
          "scattermapbox": [
           {
            "marker": {
             "colorbar": {
              "outlinewidth": 0,
              "ticks": ""
             }
            },
            "type": "scattermapbox"
           }
          ],
          "scatterpolar": [
           {
            "marker": {
             "colorbar": {
              "outlinewidth": 0,
              "ticks": ""
             }
            },
            "type": "scatterpolar"
           }
          ],
          "scatterpolargl": [
           {
            "marker": {
             "colorbar": {
              "outlinewidth": 0,
              "ticks": ""
             }
            },
            "type": "scatterpolargl"
           }
          ],
          "scatterternary": [
           {
            "marker": {
             "colorbar": {
              "outlinewidth": 0,
              "ticks": ""
             }
            },
            "type": "scatterternary"
           }
          ],
          "surface": [
           {
            "colorbar": {
             "outlinewidth": 0,
             "ticks": ""
            },
            "colorscale": [
             [
              0,
              "#0d0887"
             ],
             [
              0.1111111111111111,
              "#46039f"
             ],
             [
              0.2222222222222222,
              "#7201a8"
             ],
             [
              0.3333333333333333,
              "#9c179e"
             ],
             [
              0.4444444444444444,
              "#bd3786"
             ],
             [
              0.5555555555555556,
              "#d8576b"
             ],
             [
              0.6666666666666666,
              "#ed7953"
             ],
             [
              0.7777777777777778,
              "#fb9f3a"
             ],
             [
              0.8888888888888888,
              "#fdca26"
             ],
             [
              1,
              "#f0f921"
             ]
            ],
            "type": "surface"
           }
          ],
          "table": [
           {
            "cells": {
             "fill": {
              "color": "#EBF0F8"
             },
             "line": {
              "color": "white"
             }
            },
            "header": {
             "fill": {
              "color": "#C8D4E3"
             },
             "line": {
              "color": "white"
             }
            },
            "type": "table"
           }
          ]
         },
         "layout": {
          "annotationdefaults": {
           "arrowcolor": "#2a3f5f",
           "arrowhead": 0,
           "arrowwidth": 1
          },
          "colorscale": {
           "diverging": [
            [
             0,
             "#8e0152"
            ],
            [
             0.1,
             "#c51b7d"
            ],
            [
             0.2,
             "#de77ae"
            ],
            [
             0.3,
             "#f1b6da"
            ],
            [
             0.4,
             "#fde0ef"
            ],
            [
             0.5,
             "#f7f7f7"
            ],
            [
             0.6,
             "#e6f5d0"
            ],
            [
             0.7,
             "#b8e186"
            ],
            [
             0.8,
             "#7fbc41"
            ],
            [
             0.9,
             "#4d9221"
            ],
            [
             1,
             "#276419"
            ]
           ],
           "sequential": [
            [
             0,
             "#0d0887"
            ],
            [
             0.1111111111111111,
             "#46039f"
            ],
            [
             0.2222222222222222,
             "#7201a8"
            ],
            [
             0.3333333333333333,
             "#9c179e"
            ],
            [
             0.4444444444444444,
             "#bd3786"
            ],
            [
             0.5555555555555556,
             "#d8576b"
            ],
            [
             0.6666666666666666,
             "#ed7953"
            ],
            [
             0.7777777777777778,
             "#fb9f3a"
            ],
            [
             0.8888888888888888,
             "#fdca26"
            ],
            [
             1,
             "#f0f921"
            ]
           ],
           "sequentialminus": [
            [
             0,
             "#0d0887"
            ],
            [
             0.1111111111111111,
             "#46039f"
            ],
            [
             0.2222222222222222,
             "#7201a8"
            ],
            [
             0.3333333333333333,
             "#9c179e"
            ],
            [
             0.4444444444444444,
             "#bd3786"
            ],
            [
             0.5555555555555556,
             "#d8576b"
            ],
            [
             0.6666666666666666,
             "#ed7953"
            ],
            [
             0.7777777777777778,
             "#fb9f3a"
            ],
            [
             0.8888888888888888,
             "#fdca26"
            ],
            [
             1,
             "#f0f921"
            ]
           ]
          },
          "colorway": [
           "#636efa",
           "#EF553B",
           "#00cc96",
           "#ab63fa",
           "#FFA15A",
           "#19d3f3",
           "#FF6692",
           "#B6E880",
           "#FF97FF",
           "#FECB52"
          ],
          "font": {
           "color": "#2a3f5f"
          },
          "geo": {
           "bgcolor": "white",
           "lakecolor": "white",
           "landcolor": "#E5ECF6",
           "showlakes": true,
           "showland": true,
           "subunitcolor": "white"
          },
          "hoverlabel": {
           "align": "left"
          },
          "hovermode": "closest",
          "mapbox": {
           "style": "light"
          },
          "paper_bgcolor": "white",
          "plot_bgcolor": "#E5ECF6",
          "polar": {
           "angularaxis": {
            "gridcolor": "white",
            "linecolor": "white",
            "ticks": ""
           },
           "bgcolor": "#E5ECF6",
           "radialaxis": {
            "gridcolor": "white",
            "linecolor": "white",
            "ticks": ""
           }
          },
          "scene": {
           "xaxis": {
            "backgroundcolor": "#E5ECF6",
            "gridcolor": "white",
            "gridwidth": 2,
            "linecolor": "white",
            "showbackground": true,
            "ticks": "",
            "zerolinecolor": "white"
           },
           "yaxis": {
            "backgroundcolor": "#E5ECF6",
            "gridcolor": "white",
            "gridwidth": 2,
            "linecolor": "white",
            "showbackground": true,
            "ticks": "",
            "zerolinecolor": "white"
           },
           "zaxis": {
            "backgroundcolor": "#E5ECF6",
            "gridcolor": "white",
            "gridwidth": 2,
            "linecolor": "white",
            "showbackground": true,
            "ticks": "",
            "zerolinecolor": "white"
           }
          },
          "shapedefaults": {
           "line": {
            "color": "#2a3f5f"
           }
          },
          "ternary": {
           "aaxis": {
            "gridcolor": "white",
            "linecolor": "white",
            "ticks": ""
           },
           "baxis": {
            "gridcolor": "white",
            "linecolor": "white",
            "ticks": ""
           },
           "bgcolor": "#E5ECF6",
           "caxis": {
            "gridcolor": "white",
            "linecolor": "white",
            "ticks": ""
           }
          },
          "title": {
           "x": 0.05
          },
          "xaxis": {
           "automargin": true,
           "gridcolor": "white",
           "linecolor": "white",
           "ticks": "",
           "zerolinecolor": "white",
           "zerolinewidth": 2
          },
          "yaxis": {
           "automargin": true,
           "gridcolor": "white",
           "linecolor": "white",
           "ticks": "",
           "zerolinecolor": "white",
           "zerolinewidth": 2
          }
         }
        },
        "xaxis": {
         "autorange": true,
         "range": [
          0,
          99
         ],
         "title": {
          "text": "Iterations"
         }
        },
        "yaxis": {
         "autorange": true,
         "range": [
          1.6244212962962963,
          2.677662037037037
         ],
         "title": {
          "text": "Rank"
         },
         "type": "linear"
        }
       }
      },
      "image/png": "[encoded data removed]",
      "text/html": [
       "<div>\n",
       "        \n",
       "        \n",
       "            <div id=\"fc96db46-5703-4389-8ffe-394f1ef05ad4\" class=\"plotly-graph-div\" style=\"height:525px; width:100%;\"></div>\n",
       "            <script type=\"text/javascript\">\n",
       "                require([\"plotly\"], function(Plotly) {\n",
       "                    window.PLOTLYENV=window.PLOTLYENV || {};\n",
       "                    \n",
       "                if (document.getElementById(\"fc96db46-5703-4389-8ffe-394f1ef05ad4\")) {\n",
       "                    Plotly.newPlot(\n",
       "                        'fc96db46-5703-4389-8ffe-394f1ef05ad4',\n",
       "                        [{\"name\": \"Naive\", \"type\": \"scatter\", \"y\": [2.4270833333333335, 2.625, 2.5, 2.3229166666666665, 2.2291666666666665, 2.0416666666666665, 1.9583333333333333, 1.9114583333333333, 1.953125, 1.9427083333333333, 1.9375, 1.96875, 1.9479166666666667, 1.8958333333333333, 1.8958333333333333, 1.8958333333333333, 1.90625, 1.953125, 1.984375, 1.9270833333333333, 2.0, 2.015625, 1.9947916666666667, 1.984375, 1.9322916666666667, 1.9322916666666667, 1.9479166666666667, 1.9322916666666667, 1.9322916666666667, 1.9375, 1.9479166666666667, 1.9427083333333333, 1.9375, 1.953125, 1.9947916666666667, 2.0052083333333335, 2.0260416666666665, 2.0260416666666665, 2.015625, 2.0208333333333335, 2.0208333333333335, 2.0208333333333335, 2.0104166666666665, 1.9947916666666667, 1.9895833333333333, 1.9427083333333333, 1.9583333333333333, 1.9479166666666667, 1.9479166666666667, 1.953125, 1.9375, 1.9375, 1.9375, 1.9479166666666667, 1.9479166666666667, 1.9635416666666667, 1.9270833333333333, 1.9322916666666667, 1.921875, 1.9114583333333333, 1.9114583333333333, 1.9427083333333333, 1.9479166666666667, 1.953125, 1.9583333333333333, 1.9427083333333333, 1.984375, 1.9791666666666667, 1.9947916666666667, 1.9947916666666667, 1.9947916666666667, 1.9583333333333333, 1.9635416666666667, 1.953125, 1.9635416666666667, 1.96875, 1.9739583333333333, 1.9739583333333333, 1.9739583333333333, 1.9791666666666667, 1.984375, 1.984375, 1.9895833333333333, 1.984375, 2.0104166666666665, 2.0, 1.9895833333333333, 2.0, 2.0, 2.0104166666666665, 2.0104166666666665, 2.015625, 2.015625, 2.0052083333333335, 2.015625, 2.0052083333333335, 2.0104166666666665, 2.0104166666666665, 2.0104166666666665, 2.0260416666666665]}, {\"name\": \"Warmstarted\", \"type\": \"scatter\", \"y\": [1.8125, 1.6979166666666667, 1.6979166666666667, 1.78125, 1.8333333333333333, 1.9270833333333333, 1.9791666666666667, 2.0052083333333335, 2.015625, 2.0260416666666665, 2.0625, 2.0625, 2.0520833333333335, 2.0625, 2.0520833333333335, 2.0416666666666665, 2.0208333333333335, 1.9947916666666667, 1.9739583333333333, 1.9895833333333333, 2.0, 1.96875, 1.9739583333333333, 1.9479166666666667, 1.984375, 1.9635416666666667, 1.984375, 1.9947916666666667, 1.9583333333333333, 1.9270833333333333, 1.9114583333333333, 1.9166666666666667, 1.9166666666666667, 1.875, 1.921875, 1.921875, 1.921875, 1.9375, 1.953125, 1.9375, 1.9375, 1.9166666666666667, 1.9114583333333333, 1.9479166666666667, 1.9635416666666667, 1.984375, 1.9739583333333333, 1.9791666666666667, 1.96875, 1.9739583333333333, 1.9791666666666667, 1.9791666666666667, 1.9739583333333333, 1.9895833333333333, 1.984375, 1.984375, 1.9895833333333333, 1.984375, 1.9739583333333333, 1.9739583333333333, 1.9583333333333333, 1.9479166666666667, 1.9375, 1.9114583333333333, 1.9270833333333333, 1.9322916666666667, 1.890625, 1.8854166666666667, 1.8854166666666667, 1.875, 1.8802083333333333, 1.9010416666666667, 1.8958333333333333, 1.9166666666666667, 1.9166666666666667, 1.9375, 1.9479166666666667, 1.9427083333333333, 1.9583333333333333, 1.9270833333333333, 1.9322916666666667, 1.921875, 1.9166666666666667, 1.9166666666666667, 1.8958333333333333, 1.9010416666666667, 1.90625, 1.890625, 1.890625, 1.890625, 1.8854166666666667, 1.8958333333333333, 1.8958333333333333, 1.9010416666666667, 1.9114583333333333, 1.9166666666666667, 1.921875, 1.921875, 1.921875, 1.9322916666666667]}, {\"name\": \"Coldstarted\", \"type\": \"scatter\", \"y\": [1.7604166666666667, 1.6770833333333333, 1.8020833333333333, 1.8958333333333333, 1.9375, 2.03125, 2.0625, 2.0833333333333335, 2.03125, 2.03125, 2.0, 1.96875, 2.0, 2.0416666666666665, 2.0520833333333335, 2.0625, 2.0729166666666665, 2.0520833333333335, 2.0416666666666665, 2.0833333333333335, 2.0, 2.015625, 2.03125, 2.0677083333333335, 2.0833333333333335, 2.1041666666666665, 2.0677083333333335, 2.0729166666666665, 2.109375, 2.1354166666666665, 2.140625, 2.140625, 2.1458333333333335, 2.171875, 2.0833333333333335, 2.0729166666666665, 2.0520833333333335, 2.0364583333333335, 2.03125, 2.0416666666666665, 2.0416666666666665, 2.0625, 2.078125, 2.0572916666666665, 2.046875, 2.0729166666666665, 2.0677083333333335, 2.0729166666666665, 2.0833333333333335, 2.0729166666666665, 2.0833333333333335, 2.0833333333333335, 2.0885416666666665, 2.0625, 2.0677083333333335, 2.0520833333333335, 2.0833333333333335, 2.0833333333333335, 2.1041666666666665, 2.1145833333333335, 2.1302083333333335, 2.109375, 2.1145833333333335, 2.1354166666666665, 2.1145833333333335, 2.125, 2.125, 2.1354166666666665, 2.1197916666666665, 2.1302083333333335, 2.125, 2.140625, 2.140625, 2.1302083333333335, 2.1197916666666665, 2.09375, 2.078125, 2.0833333333333335, 2.0677083333333335, 2.09375, 2.0833333333333335, 2.09375, 2.09375, 2.0989583333333335, 2.09375, 2.0989583333333335, 2.1041666666666665, 2.109375, 2.109375, 2.0989583333333335, 2.1041666666666665, 2.0885416666666665, 2.0885416666666665, 2.09375, 2.0729166666666665, 2.078125, 2.0677083333333335, 2.0677083333333335, 2.0677083333333335, 2.0416666666666665]}],\n",
       "                        {\"template\": {\"data\": {\"bar\": [{\"error_x\": {\"color\": \"#2a3f5f\"}, \"error_y\": {\"color\": \"#2a3f5f\"}, \"marker\": {\"line\": {\"color\": \"#E5ECF6\", \"width\": 0.5}}, \"type\": \"bar\"}], \"barpolar\": [{\"marker\": {\"line\": {\"color\": \"#E5ECF6\", \"width\": 0.5}}, \"type\": \"barpolar\"}], \"carpet\": [{\"aaxis\": {\"endlinecolor\": \"#2a3f5f\", \"gridcolor\": \"white\", \"linecolor\": \"white\", \"minorgridcolor\": \"white\", \"startlinecolor\": \"#2a3f5f\"}, \"baxis\": {\"endlinecolor\": \"#2a3f5f\", \"gridcolor\": \"white\", \"linecolor\": \"white\", \"minorgridcolor\": \"white\", \"startlinecolor\": \"#2a3f5f\"}, \"type\": \"carpet\"}], \"choropleth\": [{\"colorbar\": {\"outlinewidth\": 0, \"ticks\": \"\"}, \"type\": \"choropleth\"}], \"contour\": [{\"colorbar\": {\"outlinewidth\": 0, \"ticks\": \"\"}, \"colorscale\": [[0.0, \"#0d0887\"], [0.1111111111111111, \"#46039f\"], [0.2222222222222222, \"#7201a8\"], [0.3333333333333333, \"#9c179e\"], [0.4444444444444444, \"#bd3786\"], [0.5555555555555556, \"#d8576b\"], [0.6666666666666666, \"#ed7953\"], [0.7777777777777778, \"#fb9f3a\"], [0.8888888888888888, \"#fdca26\"], [1.0, \"#f0f921\"]], \"type\": \"contour\"}], \"contourcarpet\": [{\"colorbar\": {\"outlinewidth\": 0, \"ticks\": \"\"}, \"type\": \"contourcarpet\"}], \"heatmap\": [{\"colorbar\": {\"outlinewidth\": 0, \"ticks\": \"\"}, \"colorscale\": [[0.0, \"#0d0887\"], [0.1111111111111111, \"#46039f\"], [0.2222222222222222, \"#7201a8\"], [0.3333333333333333, \"#9c179e\"], [0.4444444444444444, \"#bd3786\"], [0.5555555555555556, \"#d8576b\"], [0.6666666666666666, \"#ed7953\"], [0.7777777777777778, \"#fb9f3a\"], [0.8888888888888888, \"#fdca26\"], [1.0, \"#f0f921\"]], \"type\": \"heatmap\"}], \"heatmapgl\": [{\"colorbar\": {\"outlinewidth\": 0, \"ticks\": \"\"}, \"colorscale\": [[0.0, \"#0d0887\"], [0.1111111111111111, \"#46039f\"], [0.2222222222222222, \"#7201a8\"], [0.3333333333333333, \"#9c179e\"], [0.4444444444444444, \"#bd3786\"], [0.5555555555555556, \"#d8576b\"], [0.6666666666666666, \"#ed7953\"], [0.7777777777777778, \"#fb9f3a\"], [0.8888888888888888, \"#fdca26\"], [1.0, \"#f0f921\"]], \"type\": \"heatmapgl\"}], \"histogram\": [{\"marker\": {\"colorbar\": {\"outlinewidth\": 0, \"ticks\": \"\"}}, \"type\": \"histogram\"}], \"histogram2d\": [{\"colorbar\": {\"outlinewidth\": 0, \"ticks\": \"\"}, \"colorscale\": [[0.0, \"#0d0887\"], [0.1111111111111111, \"#46039f\"], [0.2222222222222222, \"#7201a8\"], [0.3333333333333333, \"#9c179e\"], [0.4444444444444444, \"#bd3786\"], [0.5555555555555556, \"#d8576b\"], [0.6666666666666666, \"#ed7953\"], [0.7777777777777778, \"#fb9f3a\"], [0.8888888888888888, \"#fdca26\"], [1.0, \"#f0f921\"]], \"type\": \"histogram2d\"}], \"histogram2dcontour\": [{\"colorbar\": {\"outlinewidth\": 0, \"ticks\": \"\"}, \"colorscale\": [[0.0, \"#0d0887\"], [0.1111111111111111, \"#46039f\"], [0.2222222222222222, \"#7201a8\"], [0.3333333333333333, \"#9c179e\"], [0.4444444444444444, \"#bd3786\"], [0.5555555555555556, \"#d8576b\"], [0.6666666666666666, \"#ed7953\"], [0.7777777777777778, \"#fb9f3a\"], [0.8888888888888888, \"#fdca26\"], [1.0, \"#f0f921\"]], \"type\": \"histogram2dcontour\"}], \"mesh3d\": [{\"colorbar\": {\"outlinewidth\": 0, \"ticks\": \"\"}, \"type\": \"mesh3d\"}], \"parcoords\": [{\"line\": {\"colorbar\": {\"outlinewidth\": 0, \"ticks\": \"\"}}, \"type\": \"parcoords\"}], \"scatter\": [{\"marker\": {\"colorbar\": {\"outlinewidth\": 0, \"ticks\": \"\"}}, \"type\": \"scatter\"}], \"scatter3d\": [{\"line\": {\"colorbar\": {\"outlinewidth\": 0, \"ticks\": \"\"}}, \"marker\": {\"colorbar\": {\"outlinewidth\": 0, \"ticks\": \"\"}}, \"type\": \"scatter3d\"}], \"scattercarpet\": [{\"marker\": {\"colorbar\": {\"outlinewidth\": 0, \"ticks\": \"\"}}, \"type\": \"scattercarpet\"}], \"scattergeo\": [{\"marker\": {\"colorbar\": {\"outlinewidth\": 0, \"ticks\": \"\"}}, \"type\": \"scattergeo\"}], \"scattergl\": [{\"marker\": {\"colorbar\": {\"outlinewidth\": 0, \"ticks\": \"\"}}, \"type\": \"scattergl\"}], \"scattermapbox\": [{\"marker\": {\"colorbar\": {\"outlinewidth\": 0, \"ticks\": \"\"}}, \"type\": \"scattermapbox\"}], \"scatterpolar\": [{\"marker\": {\"colorbar\": {\"outlinewidth\": 0, \"ticks\": \"\"}}, \"type\": \"scatterpolar\"}], \"scatterpolargl\": [{\"marker\": {\"colorbar\": {\"outlinewidth\": 0, \"ticks\": \"\"}}, \"type\": \"scatterpolargl\"}], \"scatterternary\": [{\"marker\": {\"colorbar\": {\"outlinewidth\": 0, \"ticks\": \"\"}}, \"type\": \"scatterternary\"}], \"surface\": [{\"colorbar\": {\"outlinewidth\": 0, \"ticks\": \"\"}, \"colorscale\": [[0.0, \"#0d0887\"], [0.1111111111111111, \"#46039f\"], [0.2222222222222222, \"#7201a8\"], [0.3333333333333333, \"#9c179e\"], [0.4444444444444444, \"#bd3786\"], [0.5555555555555556, \"#d8576b\"], [0.6666666666666666, \"#ed7953\"], [0.7777777777777778, \"#fb9f3a\"], [0.8888888888888888, \"#fdca26\"], [1.0, \"#f0f921\"]], \"type\": \"surface\"}], \"table\": [{\"cells\": {\"fill\": {\"color\": \"#EBF0F8\"}, \"line\": {\"color\": \"white\"}}, \"header\": {\"fill\": {\"color\": \"#C8D4E3\"}, \"line\": {\"color\": \"white\"}}, \"type\": \"table\"}]}, \"layout\": {\"annotationdefaults\": {\"arrowcolor\": \"#2a3f5f\", \"arrowhead\": 0, \"arrowwidth\": 1}, \"colorscale\": {\"diverging\": [[0, \"#8e0152\"], [0.1, \"#c51b7d\"], [0.2, \"#de77ae\"], [0.3, \"#f1b6da\"], [0.4, \"#fde0ef\"], [0.5, \"#f7f7f7\"], [0.6, \"#e6f5d0\"], [0.7, \"#b8e186\"], [0.8, \"#7fbc41\"], [0.9, \"#4d9221\"], [1, \"#276419\"]], \"sequential\": [[0.0, \"#0d0887\"], [0.1111111111111111, \"#46039f\"], [0.2222222222222222, \"#7201a8\"], [0.3333333333333333, \"#9c179e\"], [0.4444444444444444, \"#bd3786\"], [0.5555555555555556, \"#d8576b\"], [0.6666666666666666, \"#ed7953\"], [0.7777777777777778, \"#fb9f3a\"], [0.8888888888888888, \"#fdca26\"], [1.0, \"#f0f921\"]], \"sequentialminus\": [[0.0, \"#0d0887\"], [0.1111111111111111, \"#46039f\"], [0.2222222222222222, \"#7201a8\"], [0.3333333333333333, \"#9c179e\"], [0.4444444444444444, \"#bd3786\"], [0.5555555555555556, \"#d8576b\"], [0.6666666666666666, \"#ed7953\"], [0.7777777777777778, \"#fb9f3a\"], [0.8888888888888888, \"#fdca26\"], [1.0, \"#f0f921\"]]}, \"colorway\": [\"#636efa\", \"#EF553B\", \"#00cc96\", \"#ab63fa\", \"#FFA15A\", \"#19d3f3\", \"#FF6692\", \"#B6E880\", \"#FF97FF\", \"#FECB52\"], \"font\": {\"color\": \"#2a3f5f\"}, \"geo\": {\"bgcolor\": \"white\", \"lakecolor\": \"white\", \"landcolor\": \"#E5ECF6\", \"showlakes\": true, \"showland\": true, \"subunitcolor\": \"white\"}, \"hoverlabel\": {\"align\": \"left\"}, \"hovermode\": \"closest\", \"mapbox\": {\"style\": \"light\"}, \"paper_bgcolor\": \"white\", \"plot_bgcolor\": \"#E5ECF6\", \"polar\": {\"angularaxis\": {\"gridcolor\": \"white\", \"linecolor\": \"white\", \"ticks\": \"\"}, \"bgcolor\": \"#E5ECF6\", \"radialaxis\": {\"gridcolor\": \"white\", \"linecolor\": \"white\", \"ticks\": \"\"}}, \"scene\": {\"xaxis\": {\"backgroundcolor\": \"#E5ECF6\", \"gridcolor\": \"white\", \"gridwidth\": 2, \"linecolor\": \"white\", \"showbackground\": true, \"ticks\": \"\", \"zerolinecolor\": \"white\"}, \"yaxis\": {\"backgroundcolor\": \"#E5ECF6\", \"gridcolor\": \"white\", \"gridwidth\": 2, \"linecolor\": \"white\", \"showbackground\": true, \"ticks\": \"\", \"zerolinecolor\": \"white\"}, \"zaxis\": {\"backgroundcolor\": \"#E5ECF6\", \"gridcolor\": \"white\", \"gridwidth\": 2, \"linecolor\": \"white\", \"showbackground\": true, \"ticks\": \"\", \"zerolinecolor\": \"white\"}}, \"shapedefaults\": {\"line\": {\"color\": \"#2a3f5f\"}}, \"ternary\": {\"aaxis\": {\"gridcolor\": \"white\", \"linecolor\": \"white\", \"ticks\": \"\"}, \"baxis\": {\"gridcolor\": \"white\", \"linecolor\": \"white\", \"ticks\": \"\"}, \"bgcolor\": \"#E5ECF6\", \"caxis\": {\"gridcolor\": \"white\", \"linecolor\": \"white\", \"ticks\": \"\"}}, \"title\": {\"x\": 0.05}, \"xaxis\": {\"automargin\": true, \"gridcolor\": \"white\", \"linecolor\": \"white\", \"ticks\": \"\", \"zerolinecolor\": \"white\", \"zerolinewidth\": 2}, \"yaxis\": {\"automargin\": true, \"gridcolor\": \"white\", \"linecolor\": \"white\", \"ticks\": \"\", \"zerolinecolor\": \"white\", \"zerolinewidth\": 2}}}, \"xaxis\": {\"title\": {\"text\": \"Iterations\"}}, \"yaxis\": {\"title\": {\"text\": \"Rank\"}}},\n",
       "                        {\"responsive\": true}\n",
       "                    ).then(function(){\n",
       "                            \n",
       "var gd = document.getElementById('fc96db46-5703-4389-8ffe-394f1ef05ad4');\n",
       "var x = new MutationObserver(function (mutations, observer) {{\n",
       "        var display = window.getComputedStyle(gd).display;\n",
       "        if (!display || display === 'none') {{\n",
       "            console.log([gd, 'removed!']);\n",
       "            Plotly.purge(gd);\n",
       "            observer.disconnect();\n",
       "        }}\n",
       "}});\n",
       "\n",
       "// Listen for the removal of the full notebook cells\n",
       "var notebookContainer = gd.closest('#notebook-container');\n",
       "if (notebookContainer) {{\n",
       "    x.observe(notebookContainer, {childList: true});\n",
       "}}\n",
       "\n",
       "// Listen for the clearing of the current output cell\n",
       "var outputEl = gd.closest('.output');\n",
       "if (outputEl) {{\n",
       "    x.observe(outputEl, {childList: true});\n",
       "}}\n",
       "\n",
       "                        })\n",
       "                };\n",
       "                });\n",
       "            </script>\n",
       "        </div>"
      ]
     },
     "metadata": {},
     "output_type": "display_data"
    }
   ],
   "source": [
    "from src.visualization.hopt_experiment_visualizers import visualize_avg_ranks\n",
    "visualize_avg_ranks(hopt_exp_input_richness)"
   ]
  },
  {
   "cell_type": "markdown",
   "metadata": {},
   "source": [
    "# Input richness"
   ]
  },
  {
   "cell_type": "code",
   "execution_count": 48,
   "metadata": {},
   "outputs": [
    {
     "name": "stderr",
     "output_type": "stream",
     "text": [
      "Calculate metafeatures of metasamples: 100%|██████████| 32/32 [00:01<00:00, 21.92it/s]\n"
     ]
    }
   ],
   "source": [
    "# Initialize metadataset and calculate metafeatures\n",
    "metadataset_sample_names = !ls ../../data/metadata/interim\n",
    "metasamples = [pickle.load(open('../../data/metadata/interim/' + sample_name,\"rb\")) for sample_name in metadataset_sample_names]\n",
    "metadataset = MetaDataset(metasamples, metafeature_functions=[pca_rank_cor, unit])\n",
    "\n",
    "# Initialize thesis objective, search space and targets for leave-one-out procedure\n",
    "objective = thesis_lookup_objective\n",
    "search_space = thesis_search_space()\n",
    "target_ids = [metasample.identifier for metasample in metadataset.metasamples]"
   ]
  },
  {
   "cell_type": "markdown",
   "metadata": {},
   "source": [
    "# Experiment"
   ]
  },
  {
   "cell_type": "code",
   "execution_count": 49,
   "metadata": {},
   "outputs": [],
   "source": [
    "# initialize searches\n",
    "rand = BayesianHopt(\n",
    "    identifier='Random search',\n",
    "    search_space=search_space,\n",
    "    objective=objective,\n",
    "    max_evals=max_evals,\n",
    "    nr_random_starts=max_evals\n",
    ")\n",
    "naive = BayesianHopt(\n",
    "    identifier='Naive',\n",
    "    search_space=search_space,\n",
    "    objective=objective,\n",
    "    max_evals=max_evals,\n",
    "    nr_random_starts=n_init_configs\n",
    ")\n",
    "warm = BayesianHopt(\n",
    "    identifier='Warmstarted',\n",
    "    search_space=search_space,\n",
    "    objective=objective,\n",
    "    max_evals=max_evals,\n",
    "    warmstarter=Warmstarter(metadataset, n_init_configs=n_init_configs, n_sim_samples=10, n_best_per_sample=5)\n",
    ")\n",
    "cold = BayesianHopt(\n",
    "    identifier='Coldstarted',\n",
    "    search_space=search_space,\n",
    "    objective=objective,\n",
    "    max_evals=max_evals,\n",
    "    warmstarter=Warmstarter(metadataset, n_init_configs=n_init_configs, n_sim_samples=10, n_best_per_sample=5, cold=True)\n",
    ")\n",
    "hopt_exp_input_richness = HoptExperiment(\n",
    "    hopts=[naive, warm, cold],\n",
    "    duplicates=duplicates,\n",
    "    objective=objective,\n",
    "    metadataset=metadataset\n",
    ")"
   ]
  },
  {
   "cell_type": "code",
   "execution_count": 50,
   "metadata": {
    "scrolled": true
   },
   "outputs": [
    {
     "name": "stderr",
     "output_type": "stream",
     "text": [
      "Target time series: 100%|██████████| 32/32 [42:38<00:00, 79.94s/it]\n"
     ]
    }
   ],
   "source": [
    "hopt_exp_input_richness.run_hopt_experiment(target_ids)"
   ]
  },
  {
   "cell_type": "markdown",
   "metadata": {},
   "source": [
    "# Well tuned warmstart (input richness)"
   ]
  },
  {
   "cell_type": "code",
   "execution_count": 51,
   "metadata": {},
   "outputs": [
    {
     "data": {
      "application/vnd.plotly.v1+json": {
       "config": {
        "plotlyServerURL": "https://plot.ly"
       },
       "data": [
        {
         "name": "Naive",
         "type": "scatter",
         "y": [
          2.6770833333333335,
          2.6510416666666665,
          2.6302083333333335,
          2.5729166666666665,
          2.5364583333333335,
          2.3645833333333335,
          2.3489583333333335,
          2.3697916666666665,
          2.2447916666666665,
          2.234375,
          2.2552083333333335,
          2.265625,
          2.28125,
          2.2760416666666665,
          2.203125,
          2.203125,
          2.1822916666666665,
          2.1614583333333335,
          2.171875,
          2.1302083333333335,
          2.1614583333333335,
          2.1354166666666665,
          2.1197916666666665,
          2.1197916666666665,
          2.1145833333333335,
          2.125,
          2.1197916666666665,
          2.140625,
          2.0989583333333335,
          2.0729166666666665,
          2.09375,
          2.0989583333333335,
          2.1354166666666665,
          2.1354166666666665,
          2.1302083333333335,
          2.1510416666666665,
          2.1302083333333335,
          2.1354166666666665,
          2.125,
          2.1510416666666665,
          2.1614583333333335,
          2.171875,
          2.171875,
          2.171875,
          2.1770833333333335,
          2.1770833333333335,
          2.1614583333333335,
          2.171875,
          2.1458333333333335,
          2.15625,
          2.1354166666666665,
          2.1197916666666665,
          2.1197916666666665,
          2.125,
          2.125,
          2.125,
          2.1354166666666665,
          2.1510416666666665,
          2.1510416666666665,
          2.1510416666666665,
          2.15625,
          2.1510416666666665,
          2.1510416666666665,
          2.1354166666666665,
          2.1354166666666665,
          2.1666666666666665,
          2.125,
          2.109375,
          2.1197916666666665,
          2.1041666666666665,
          2.109375,
          2.1145833333333335,
          2.1197916666666665,
          2.125,
          2.125,
          2.125,
          2.1145833333333335,
          2.0989583333333335,
          2.0885416666666665,
          2.1041666666666665,
          2.109375,
          2.1197916666666665,
          2.125,
          2.1145833333333335,
          2.1197916666666665,
          2.1197916666666665,
          2.1041666666666665,
          2.1041666666666665,
          2.1041666666666665,
          2.09375,
          2.09375,
          2.0989583333333335,
          2.078125,
          2.0833333333333335,
          2.0833333333333335,
          2.0885416666666665,
          2.09375,
          2.1041666666666665,
          2.1041666666666665,
          2.1041666666666665
         ]
        },
        {
         "name": "Warmstarted",
         "type": "scatter",
         "y": [
          1.7395833333333333,
          1.6197916666666667,
          1.5364583333333333,
          1.359375,
          1.3385416666666667,
          1.4270833333333333,
          1.453125,
          1.4322916666666667,
          1.4739583333333333,
          1.4791666666666667,
          1.4895833333333333,
          1.4895833333333333,
          1.4739583333333333,
          1.4947916666666667,
          1.515625,
          1.5364583333333333,
          1.546875,
          1.5572916666666667,
          1.5416666666666667,
          1.5625,
          1.5885416666666667,
          1.6041666666666667,
          1.5989583333333333,
          1.625,
          1.640625,
          1.640625,
          1.609375,
          1.6354166666666667,
          1.671875,
          1.6614583333333333,
          1.6822916666666667,
          1.6927083333333333,
          1.6458333333333333,
          1.6302083333333333,
          1.640625,
          1.6302083333333333,
          1.6510416666666667,
          1.65625,
          1.6822916666666667,
          1.671875,
          1.65625,
          1.640625,
          1.6145833333333333,
          1.6145833333333333,
          1.6197916666666667,
          1.6197916666666667,
          1.6302083333333333,
          1.609375,
          1.6197916666666667,
          1.5989583333333333,
          1.5989583333333333,
          1.609375,
          1.59375,
          1.5885416666666667,
          1.59375,
          1.59375,
          1.6145833333333333,
          1.5989583333333333,
          1.5989583333333333,
          1.5989583333333333,
          1.6041666666666667,
          1.6197916666666667,
          1.6145833333333333,
          1.625,
          1.6302083333333333,
          1.6614583333333333,
          1.6770833333333333,
          1.7083333333333333,
          1.7135416666666667,
          1.7447916666666667,
          1.7604166666666667,
          1.765625,
          1.7708333333333333,
          1.7604166666666667,
          1.7708333333333333,
          1.7708333333333333,
          1.7760416666666667,
          1.78125,
          1.7864583333333333,
          1.7916666666666667,
          1.796875,
          1.8177083333333333,
          1.8229166666666667,
          1.828125,
          1.8333333333333333,
          1.8385416666666667,
          1.859375,
          1.859375,
          1.859375,
          1.8541666666666667,
          1.8541666666666667,
          1.8697916666666667,
          1.8802083333333333,
          1.8854166666666667,
          1.8854166666666667,
          1.8958333333333333,
          1.8802083333333333,
          1.875,
          1.875,
          1.890625
         ]
        },
        {
         "name": "Coldstarted",
         "type": "scatter",
         "y": [
          1.5833333333333333,
          1.7291666666666667,
          1.8333333333333333,
          2.0677083333333335,
          2.125,
          2.2083333333333335,
          2.1979166666666665,
          2.1979166666666665,
          2.28125,
          2.2864583333333335,
          2.2552083333333335,
          2.2447916666666665,
          2.2447916666666665,
          2.2291666666666665,
          2.28125,
          2.2604166666666665,
          2.2708333333333335,
          2.28125,
          2.2864583333333335,
          2.3072916666666665,
          2.25,
          2.2604166666666665,
          2.28125,
          2.2552083333333335,
          2.2447916666666665,
          2.234375,
          2.2708333333333335,
          2.2239583333333335,
          2.2291666666666665,
          2.265625,
          2.2239583333333335,
          2.2083333333333335,
          2.21875,
          2.234375,
          2.2291666666666665,
          2.21875,
          2.21875,
          2.2083333333333335,
          2.1927083333333335,
          2.1770833333333335,
          2.1822916666666665,
          2.1875,
          2.2135416666666665,
          2.2135416666666665,
          2.203125,
          2.203125,
          2.2083333333333335,
          2.21875,
          2.234375,
          2.2447916666666665,
          2.265625,
          2.2708333333333335,
          2.2864583333333335,
          2.2864583333333335,
          2.28125,
          2.28125,
          2.25,
          2.25,
          2.25,
          2.25,
          2.2395833333333335,
          2.2291666666666665,
          2.234375,
          2.2395833333333335,
          2.234375,
          2.171875,
          2.1979166666666665,
          2.1822916666666665,
          2.1666666666666665,
          2.1510416666666665,
          2.1302083333333335,
          2.1197916666666665,
          2.109375,
          2.1145833333333335,
          2.1041666666666665,
          2.1041666666666665,
          2.109375,
          2.1197916666666665,
          2.125,
          2.1041666666666665,
          2.09375,
          2.0625,
          2.0520833333333335,
          2.0572916666666665,
          2.046875,
          2.0416666666666665,
          2.0364583333333335,
          2.0364583333333335,
          2.0364583333333335,
          2.0520833333333335,
          2.0520833333333335,
          2.03125,
          2.0416666666666665,
          2.03125,
          2.03125,
          2.015625,
          2.0260416666666665,
          2.0208333333333335,
          2.0208333333333335,
          2.0052083333333335
         ]
        }
       ],
       "layout": {
        "autosize": true,
        "template": {
         "data": {
          "bar": [
           {
            "error_x": {
             "color": "#2a3f5f"
            },
            "error_y": {
             "color": "#2a3f5f"
            },
            "marker": {
             "line": {
              "color": "#E5ECF6",
              "width": 0.5
             }
            },
            "type": "bar"
           }
          ],
          "barpolar": [
           {
            "marker": {
             "line": {
              "color": "#E5ECF6",
              "width": 0.5
             }
            },
            "type": "barpolar"
           }
          ],
          "carpet": [
           {
            "aaxis": {
             "endlinecolor": "#2a3f5f",
             "gridcolor": "white",
             "linecolor": "white",
             "minorgridcolor": "white",
             "startlinecolor": "#2a3f5f"
            },
            "baxis": {
             "endlinecolor": "#2a3f5f",
             "gridcolor": "white",
             "linecolor": "white",
             "minorgridcolor": "white",
             "startlinecolor": "#2a3f5f"
            },
            "type": "carpet"
           }
          ],
          "choropleth": [
           {
            "colorbar": {
             "outlinewidth": 0,
             "ticks": ""
            },
            "type": "choropleth"
           }
          ],
          "contour": [
           {
            "colorbar": {
             "outlinewidth": 0,
             "ticks": ""
            },
            "colorscale": [
             [
              0,
              "#0d0887"
             ],
             [
              0.1111111111111111,
              "#46039f"
             ],
             [
              0.2222222222222222,
              "#7201a8"
             ],
             [
              0.3333333333333333,
              "#9c179e"
             ],
             [
              0.4444444444444444,
              "#bd3786"
             ],
             [
              0.5555555555555556,
              "#d8576b"
             ],
             [
              0.6666666666666666,
              "#ed7953"
             ],
             [
              0.7777777777777778,
              "#fb9f3a"
             ],
             [
              0.8888888888888888,
              "#fdca26"
             ],
             [
              1,
              "#f0f921"
             ]
            ],
            "type": "contour"
           }
          ],
          "contourcarpet": [
           {
            "colorbar": {
             "outlinewidth": 0,
             "ticks": ""
            },
            "type": "contourcarpet"
           }
          ],
          "heatmap": [
           {
            "colorbar": {
             "outlinewidth": 0,
             "ticks": ""
            },
            "colorscale": [
             [
              0,
              "#0d0887"
             ],
             [
              0.1111111111111111,
              "#46039f"
             ],
             [
              0.2222222222222222,
              "#7201a8"
             ],
             [
              0.3333333333333333,
              "#9c179e"
             ],
             [
              0.4444444444444444,
              "#bd3786"
             ],
             [
              0.5555555555555556,
              "#d8576b"
             ],
             [
              0.6666666666666666,
              "#ed7953"
             ],
             [
              0.7777777777777778,
              "#fb9f3a"
             ],
             [
              0.8888888888888888,
              "#fdca26"
             ],
             [
              1,
              "#f0f921"
             ]
            ],
            "type": "heatmap"
           }
          ],
          "heatmapgl": [
           {
            "colorbar": {
             "outlinewidth": 0,
             "ticks": ""
            },
            "colorscale": [
             [
              0,
              "#0d0887"
             ],
             [
              0.1111111111111111,
              "#46039f"
             ],
             [
              0.2222222222222222,
              "#7201a8"
             ],
             [
              0.3333333333333333,
              "#9c179e"
             ],
             [
              0.4444444444444444,
              "#bd3786"
             ],
             [
              0.5555555555555556,
              "#d8576b"
             ],
             [
              0.6666666666666666,
              "#ed7953"
             ],
             [
              0.7777777777777778,
              "#fb9f3a"
             ],
             [
              0.8888888888888888,
              "#fdca26"
             ],
             [
              1,
              "#f0f921"
             ]
            ],
            "type": "heatmapgl"
           }
          ],
          "histogram": [
           {
            "marker": {
             "colorbar": {
              "outlinewidth": 0,
              "ticks": ""
             }
            },
            "type": "histogram"
           }
          ],
          "histogram2d": [
           {
            "colorbar": {
             "outlinewidth": 0,
             "ticks": ""
            },
            "colorscale": [
             [
              0,
              "#0d0887"
             ],
             [
              0.1111111111111111,
              "#46039f"
             ],
             [
              0.2222222222222222,
              "#7201a8"
             ],
             [
              0.3333333333333333,
              "#9c179e"
             ],
             [
              0.4444444444444444,
              "#bd3786"
             ],
             [
              0.5555555555555556,
              "#d8576b"
             ],
             [
              0.6666666666666666,
              "#ed7953"
             ],
             [
              0.7777777777777778,
              "#fb9f3a"
             ],
             [
              0.8888888888888888,
              "#fdca26"
             ],
             [
              1,
              "#f0f921"
             ]
            ],
            "type": "histogram2d"
           }
          ],
          "histogram2dcontour": [
           {
            "colorbar": {
             "outlinewidth": 0,
             "ticks": ""
            },
            "colorscale": [
             [
              0,
              "#0d0887"
             ],
             [
              0.1111111111111111,
              "#46039f"
             ],
             [
              0.2222222222222222,
              "#7201a8"
             ],
             [
              0.3333333333333333,
              "#9c179e"
             ],
             [
              0.4444444444444444,
              "#bd3786"
             ],
             [
              0.5555555555555556,
              "#d8576b"
             ],
             [
              0.6666666666666666,
              "#ed7953"
             ],
             [
              0.7777777777777778,
              "#fb9f3a"
             ],
             [
              0.8888888888888888,
              "#fdca26"
             ],
             [
              1,
              "#f0f921"
             ]
            ],
            "type": "histogram2dcontour"
           }
          ],
          "mesh3d": [
           {
            "colorbar": {
             "outlinewidth": 0,
             "ticks": ""
            },
            "type": "mesh3d"
           }
          ],
          "parcoords": [
           {
            "line": {
             "colorbar": {
              "outlinewidth": 0,
              "ticks": ""
             }
            },
            "type": "parcoords"
           }
          ],
          "scatter": [
           {
            "marker": {
             "colorbar": {
              "outlinewidth": 0,
              "ticks": ""
             }
            },
            "type": "scatter"
           }
          ],
          "scatter3d": [
           {
            "line": {
             "colorbar": {
              "outlinewidth": 0,
              "ticks": ""
             }
            },
            "marker": {
             "colorbar": {
              "outlinewidth": 0,
              "ticks": ""
             }
            },
            "type": "scatter3d"
           }
          ],
          "scattercarpet": [
           {
            "marker": {
             "colorbar": {
              "outlinewidth": 0,
              "ticks": ""
             }
            },
            "type": "scattercarpet"
           }
          ],
          "scattergeo": [
           {
            "marker": {
             "colorbar": {
              "outlinewidth": 0,
              "ticks": ""
             }
            },
            "type": "scattergeo"
           }
          ],
          "scattergl": [
           {
            "marker": {
             "colorbar": {
              "outlinewidth": 0,
              "ticks": ""
             }
            },
            "type": "scattergl"
           }
          ],
          "scattermapbox": [
           {
            "marker": {
             "colorbar": {
              "outlinewidth": 0,
              "ticks": ""
             }
            },
            "type": "scattermapbox"
           }
          ],
          "scatterpolar": [
           {
            "marker": {
             "colorbar": {
              "outlinewidth": 0,
              "ticks": ""
             }
            },
            "type": "scatterpolar"
           }
          ],
          "scatterpolargl": [
           {
            "marker": {
             "colorbar": {
              "outlinewidth": 0,
              "ticks": ""
             }
            },
            "type": "scatterpolargl"
           }
          ],
          "scatterternary": [
           {
            "marker": {
             "colorbar": {
              "outlinewidth": 0,
              "ticks": ""
             }
            },
            "type": "scatterternary"
           }
          ],
          "surface": [
           {
            "colorbar": {
             "outlinewidth": 0,
             "ticks": ""
            },
            "colorscale": [
             [
              0,
              "#0d0887"
             ],
             [
              0.1111111111111111,
              "#46039f"
             ],
             [
              0.2222222222222222,
              "#7201a8"
             ],
             [
              0.3333333333333333,
              "#9c179e"
             ],
             [
              0.4444444444444444,
              "#bd3786"
             ],
             [
              0.5555555555555556,
              "#d8576b"
             ],
             [
              0.6666666666666666,
              "#ed7953"
             ],
             [
              0.7777777777777778,
              "#fb9f3a"
             ],
             [
              0.8888888888888888,
              "#fdca26"
             ],
             [
              1,
              "#f0f921"
             ]
            ],
            "type": "surface"
           }
          ],
          "table": [
           {
            "cells": {
             "fill": {
              "color": "#EBF0F8"
             },
             "line": {
              "color": "white"
             }
            },
            "header": {
             "fill": {
              "color": "#C8D4E3"
             },
             "line": {
              "color": "white"
             }
            },
            "type": "table"
           }
          ]
         },
         "layout": {
          "annotationdefaults": {
           "arrowcolor": "#2a3f5f",
           "arrowhead": 0,
           "arrowwidth": 1
          },
          "colorscale": {
           "diverging": [
            [
             0,
             "#8e0152"
            ],
            [
             0.1,
             "#c51b7d"
            ],
            [
             0.2,
             "#de77ae"
            ],
            [
             0.3,
             "#f1b6da"
            ],
            [
             0.4,
             "#fde0ef"
            ],
            [
             0.5,
             "#f7f7f7"
            ],
            [
             0.6,
             "#e6f5d0"
            ],
            [
             0.7,
             "#b8e186"
            ],
            [
             0.8,
             "#7fbc41"
            ],
            [
             0.9,
             "#4d9221"
            ],
            [
             1,
             "#276419"
            ]
           ],
           "sequential": [
            [
             0,
             "#0d0887"
            ],
            [
             0.1111111111111111,
             "#46039f"
            ],
            [
             0.2222222222222222,
             "#7201a8"
            ],
            [
             0.3333333333333333,
             "#9c179e"
            ],
            [
             0.4444444444444444,
             "#bd3786"
            ],
            [
             0.5555555555555556,
             "#d8576b"
            ],
            [
             0.6666666666666666,
             "#ed7953"
            ],
            [
             0.7777777777777778,
             "#fb9f3a"
            ],
            [
             0.8888888888888888,
             "#fdca26"
            ],
            [
             1,
             "#f0f921"
            ]
           ],
           "sequentialminus": [
            [
             0,
             "#0d0887"
            ],
            [
             0.1111111111111111,
             "#46039f"
            ],
            [
             0.2222222222222222,
             "#7201a8"
            ],
            [
             0.3333333333333333,
             "#9c179e"
            ],
            [
             0.4444444444444444,
             "#bd3786"
            ],
            [
             0.5555555555555556,
             "#d8576b"
            ],
            [
             0.6666666666666666,
             "#ed7953"
            ],
            [
             0.7777777777777778,
             "#fb9f3a"
            ],
            [
             0.8888888888888888,
             "#fdca26"
            ],
            [
             1,
             "#f0f921"
            ]
           ]
          },
          "colorway": [
           "#636efa",
           "#EF553B",
           "#00cc96",
           "#ab63fa",
           "#FFA15A",
           "#19d3f3",
           "#FF6692",
           "#B6E880",
           "#FF97FF",
           "#FECB52"
          ],
          "font": {
           "color": "#2a3f5f"
          },
          "geo": {
           "bgcolor": "white",
           "lakecolor": "white",
           "landcolor": "#E5ECF6",
           "showlakes": true,
           "showland": true,
           "subunitcolor": "white"
          },
          "hoverlabel": {
           "align": "left"
          },
          "hovermode": "closest",
          "mapbox": {
           "style": "light"
          },
          "paper_bgcolor": "white",
          "plot_bgcolor": "#E5ECF6",
          "polar": {
           "angularaxis": {
            "gridcolor": "white",
            "linecolor": "white",
            "ticks": ""
           },
           "bgcolor": "#E5ECF6",
           "radialaxis": {
            "gridcolor": "white",
            "linecolor": "white",
            "ticks": ""
           }
          },
          "scene": {
           "xaxis": {
            "backgroundcolor": "#E5ECF6",
            "gridcolor": "white",
            "gridwidth": 2,
            "linecolor": "white",
            "showbackground": true,
            "ticks": "",
            "zerolinecolor": "white"
           },
           "yaxis": {
            "backgroundcolor": "#E5ECF6",
            "gridcolor": "white",
            "gridwidth": 2,
            "linecolor": "white",
            "showbackground": true,
            "ticks": "",
            "zerolinecolor": "white"
           },
           "zaxis": {
            "backgroundcolor": "#E5ECF6",
            "gridcolor": "white",
            "gridwidth": 2,
            "linecolor": "white",
            "showbackground": true,
            "ticks": "",
            "zerolinecolor": "white"
           }
          },
          "shapedefaults": {
           "line": {
            "color": "#2a3f5f"
           }
          },
          "ternary": {
           "aaxis": {
            "gridcolor": "white",
            "linecolor": "white",
            "ticks": ""
           },
           "baxis": {
            "gridcolor": "white",
            "linecolor": "white",
            "ticks": ""
           },
           "bgcolor": "#E5ECF6",
           "caxis": {
            "gridcolor": "white",
            "linecolor": "white",
            "ticks": ""
           }
          },
          "title": {
           "x": 0.05
          },
          "xaxis": {
           "automargin": true,
           "gridcolor": "white",
           "linecolor": "white",
           "ticks": "",
           "zerolinecolor": "white",
           "zerolinewidth": 2
          },
          "yaxis": {
           "automargin": true,
           "gridcolor": "white",
           "linecolor": "white",
           "ticks": "",
           "zerolinecolor": "white",
           "zerolinewidth": 2
          }
         }
        },
        "xaxis": {
         "autorange": true,
         "range": [
          0,
          99
         ],
         "title": {
          "text": "Iterations"
         }
        },
        "yaxis": {
         "autorange": true,
         "range": [
          1.264178240740741,
          2.7514467592592595
         ],
         "title": {
          "text": "Rank"
         },
         "type": "linear"
        }
       }
      },
      "image/png": "[encoded data removed]",
      "text/html": [
       "<div>\n",
       "        \n",
       "        \n",
       "            <div id=\"4b70877a-b458-4db8-a2a6-4eb884c7fa5d\" class=\"plotly-graph-div\" style=\"height:525px; width:100%;\"></div>\n",
       "            <script type=\"text/javascript\">\n",
       "                require([\"plotly\"], function(Plotly) {\n",
       "                    window.PLOTLYENV=window.PLOTLYENV || {};\n",
       "                    \n",
       "                if (document.getElementById(\"4b70877a-b458-4db8-a2a6-4eb884c7fa5d\")) {\n",
       "                    Plotly.newPlot(\n",
       "                        '4b70877a-b458-4db8-a2a6-4eb884c7fa5d',\n",
       "                        [{\"name\": \"Naive\", \"type\": \"scatter\", \"y\": [2.6770833333333335, 2.6510416666666665, 2.6302083333333335, 2.5729166666666665, 2.5364583333333335, 2.3645833333333335, 2.3489583333333335, 2.3697916666666665, 2.2447916666666665, 2.234375, 2.2552083333333335, 2.265625, 2.28125, 2.2760416666666665, 2.203125, 2.203125, 2.1822916666666665, 2.1614583333333335, 2.171875, 2.1302083333333335, 2.1614583333333335, 2.1354166666666665, 2.1197916666666665, 2.1197916666666665, 2.1145833333333335, 2.125, 2.1197916666666665, 2.140625, 2.0989583333333335, 2.0729166666666665, 2.09375, 2.0989583333333335, 2.1354166666666665, 2.1354166666666665, 2.1302083333333335, 2.1510416666666665, 2.1302083333333335, 2.1354166666666665, 2.125, 2.1510416666666665, 2.1614583333333335, 2.171875, 2.171875, 2.171875, 2.1770833333333335, 2.1770833333333335, 2.1614583333333335, 2.171875, 2.1458333333333335, 2.15625, 2.1354166666666665, 2.1197916666666665, 2.1197916666666665, 2.125, 2.125, 2.125, 2.1354166666666665, 2.1510416666666665, 2.1510416666666665, 2.1510416666666665, 2.15625, 2.1510416666666665, 2.1510416666666665, 2.1354166666666665, 2.1354166666666665, 2.1666666666666665, 2.125, 2.109375, 2.1197916666666665, 2.1041666666666665, 2.109375, 2.1145833333333335, 2.1197916666666665, 2.125, 2.125, 2.125, 2.1145833333333335, 2.0989583333333335, 2.0885416666666665, 2.1041666666666665, 2.109375, 2.1197916666666665, 2.125, 2.1145833333333335, 2.1197916666666665, 2.1197916666666665, 2.1041666666666665, 2.1041666666666665, 2.1041666666666665, 2.09375, 2.09375, 2.0989583333333335, 2.078125, 2.0833333333333335, 2.0833333333333335, 2.0885416666666665, 2.09375, 2.1041666666666665, 2.1041666666666665, 2.1041666666666665]}, {\"name\": \"Warmstarted\", \"type\": \"scatter\", \"y\": [1.7395833333333333, 1.6197916666666667, 1.5364583333333333, 1.359375, 1.3385416666666667, 1.4270833333333333, 1.453125, 1.4322916666666667, 1.4739583333333333, 1.4791666666666667, 1.4895833333333333, 1.4895833333333333, 1.4739583333333333, 1.4947916666666667, 1.515625, 1.5364583333333333, 1.546875, 1.5572916666666667, 1.5416666666666667, 1.5625, 1.5885416666666667, 1.6041666666666667, 1.5989583333333333, 1.625, 1.640625, 1.640625, 1.609375, 1.6354166666666667, 1.671875, 1.6614583333333333, 1.6822916666666667, 1.6927083333333333, 1.6458333333333333, 1.6302083333333333, 1.640625, 1.6302083333333333, 1.6510416666666667, 1.65625, 1.6822916666666667, 1.671875, 1.65625, 1.640625, 1.6145833333333333, 1.6145833333333333, 1.6197916666666667, 1.6197916666666667, 1.6302083333333333, 1.609375, 1.6197916666666667, 1.5989583333333333, 1.5989583333333333, 1.609375, 1.59375, 1.5885416666666667, 1.59375, 1.59375, 1.6145833333333333, 1.5989583333333333, 1.5989583333333333, 1.5989583333333333, 1.6041666666666667, 1.6197916666666667, 1.6145833333333333, 1.625, 1.6302083333333333, 1.6614583333333333, 1.6770833333333333, 1.7083333333333333, 1.7135416666666667, 1.7447916666666667, 1.7604166666666667, 1.765625, 1.7708333333333333, 1.7604166666666667, 1.7708333333333333, 1.7708333333333333, 1.7760416666666667, 1.78125, 1.7864583333333333, 1.7916666666666667, 1.796875, 1.8177083333333333, 1.8229166666666667, 1.828125, 1.8333333333333333, 1.8385416666666667, 1.859375, 1.859375, 1.859375, 1.8541666666666667, 1.8541666666666667, 1.8697916666666667, 1.8802083333333333, 1.8854166666666667, 1.8854166666666667, 1.8958333333333333, 1.8802083333333333, 1.875, 1.875, 1.890625]}, {\"name\": \"Coldstarted\", \"type\": \"scatter\", \"y\": [1.5833333333333333, 1.7291666666666667, 1.8333333333333333, 2.0677083333333335, 2.125, 2.2083333333333335, 2.1979166666666665, 2.1979166666666665, 2.28125, 2.2864583333333335, 2.2552083333333335, 2.2447916666666665, 2.2447916666666665, 2.2291666666666665, 2.28125, 2.2604166666666665, 2.2708333333333335, 2.28125, 2.2864583333333335, 2.3072916666666665, 2.25, 2.2604166666666665, 2.28125, 2.2552083333333335, 2.2447916666666665, 2.234375, 2.2708333333333335, 2.2239583333333335, 2.2291666666666665, 2.265625, 2.2239583333333335, 2.2083333333333335, 2.21875, 2.234375, 2.2291666666666665, 2.21875, 2.21875, 2.2083333333333335, 2.1927083333333335, 2.1770833333333335, 2.1822916666666665, 2.1875, 2.2135416666666665, 2.2135416666666665, 2.203125, 2.203125, 2.2083333333333335, 2.21875, 2.234375, 2.2447916666666665, 2.265625, 2.2708333333333335, 2.2864583333333335, 2.2864583333333335, 2.28125, 2.28125, 2.25, 2.25, 2.25, 2.25, 2.2395833333333335, 2.2291666666666665, 2.234375, 2.2395833333333335, 2.234375, 2.171875, 2.1979166666666665, 2.1822916666666665, 2.1666666666666665, 2.1510416666666665, 2.1302083333333335, 2.1197916666666665, 2.109375, 2.1145833333333335, 2.1041666666666665, 2.1041666666666665, 2.109375, 2.1197916666666665, 2.125, 2.1041666666666665, 2.09375, 2.0625, 2.0520833333333335, 2.0572916666666665, 2.046875, 2.0416666666666665, 2.0364583333333335, 2.0364583333333335, 2.0364583333333335, 2.0520833333333335, 2.0520833333333335, 2.03125, 2.0416666666666665, 2.03125, 2.03125, 2.015625, 2.0260416666666665, 2.0208333333333335, 2.0208333333333335, 2.0052083333333335]}],\n",
       "                        {\"template\": {\"data\": {\"bar\": [{\"error_x\": {\"color\": \"#2a3f5f\"}, \"error_y\": {\"color\": \"#2a3f5f\"}, \"marker\": {\"line\": {\"color\": \"#E5ECF6\", \"width\": 0.5}}, \"type\": \"bar\"}], \"barpolar\": [{\"marker\": {\"line\": {\"color\": \"#E5ECF6\", \"width\": 0.5}}, \"type\": \"barpolar\"}], \"carpet\": [{\"aaxis\": {\"endlinecolor\": \"#2a3f5f\", \"gridcolor\": \"white\", \"linecolor\": \"white\", \"minorgridcolor\": \"white\", \"startlinecolor\": \"#2a3f5f\"}, \"baxis\": {\"endlinecolor\": \"#2a3f5f\", \"gridcolor\": \"white\", \"linecolor\": \"white\", \"minorgridcolor\": \"white\", \"startlinecolor\": \"#2a3f5f\"}, \"type\": \"carpet\"}], \"choropleth\": [{\"colorbar\": {\"outlinewidth\": 0, \"ticks\": \"\"}, \"type\": \"choropleth\"}], \"contour\": [{\"colorbar\": {\"outlinewidth\": 0, \"ticks\": \"\"}, \"colorscale\": [[0.0, \"#0d0887\"], [0.1111111111111111, \"#46039f\"], [0.2222222222222222, \"#7201a8\"], [0.3333333333333333, \"#9c179e\"], [0.4444444444444444, \"#bd3786\"], [0.5555555555555556, \"#d8576b\"], [0.6666666666666666, \"#ed7953\"], [0.7777777777777778, \"#fb9f3a\"], [0.8888888888888888, \"#fdca26\"], [1.0, \"#f0f921\"]], \"type\": \"contour\"}], \"contourcarpet\": [{\"colorbar\": {\"outlinewidth\": 0, \"ticks\": \"\"}, \"type\": \"contourcarpet\"}], \"heatmap\": [{\"colorbar\": {\"outlinewidth\": 0, \"ticks\": \"\"}, \"colorscale\": [[0.0, \"#0d0887\"], [0.1111111111111111, \"#46039f\"], [0.2222222222222222, \"#7201a8\"], [0.3333333333333333, \"#9c179e\"], [0.4444444444444444, \"#bd3786\"], [0.5555555555555556, \"#d8576b\"], [0.6666666666666666, \"#ed7953\"], [0.7777777777777778, \"#fb9f3a\"], [0.8888888888888888, \"#fdca26\"], [1.0, \"#f0f921\"]], \"type\": \"heatmap\"}], \"heatmapgl\": [{\"colorbar\": {\"outlinewidth\": 0, \"ticks\": \"\"}, \"colorscale\": [[0.0, \"#0d0887\"], [0.1111111111111111, \"#46039f\"], [0.2222222222222222, \"#7201a8\"], [0.3333333333333333, \"#9c179e\"], [0.4444444444444444, \"#bd3786\"], [0.5555555555555556, \"#d8576b\"], [0.6666666666666666, \"#ed7953\"], [0.7777777777777778, \"#fb9f3a\"], [0.8888888888888888, \"#fdca26\"], [1.0, \"#f0f921\"]], \"type\": \"heatmapgl\"}], \"histogram\": [{\"marker\": {\"colorbar\": {\"outlinewidth\": 0, \"ticks\": \"\"}}, \"type\": \"histogram\"}], \"histogram2d\": [{\"colorbar\": {\"outlinewidth\": 0, \"ticks\": \"\"}, \"colorscale\": [[0.0, \"#0d0887\"], [0.1111111111111111, \"#46039f\"], [0.2222222222222222, \"#7201a8\"], [0.3333333333333333, \"#9c179e\"], [0.4444444444444444, \"#bd3786\"], [0.5555555555555556, \"#d8576b\"], [0.6666666666666666, \"#ed7953\"], [0.7777777777777778, \"#fb9f3a\"], [0.8888888888888888, \"#fdca26\"], [1.0, \"#f0f921\"]], \"type\": \"histogram2d\"}], \"histogram2dcontour\": [{\"colorbar\": {\"outlinewidth\": 0, \"ticks\": \"\"}, \"colorscale\": [[0.0, \"#0d0887\"], [0.1111111111111111, \"#46039f\"], [0.2222222222222222, \"#7201a8\"], [0.3333333333333333, \"#9c179e\"], [0.4444444444444444, \"#bd3786\"], [0.5555555555555556, \"#d8576b\"], [0.6666666666666666, \"#ed7953\"], [0.7777777777777778, \"#fb9f3a\"], [0.8888888888888888, \"#fdca26\"], [1.0, \"#f0f921\"]], \"type\": \"histogram2dcontour\"}], \"mesh3d\": [{\"colorbar\": {\"outlinewidth\": 0, \"ticks\": \"\"}, \"type\": \"mesh3d\"}], \"parcoords\": [{\"line\": {\"colorbar\": {\"outlinewidth\": 0, \"ticks\": \"\"}}, \"type\": \"parcoords\"}], \"scatter\": [{\"marker\": {\"colorbar\": {\"outlinewidth\": 0, \"ticks\": \"\"}}, \"type\": \"scatter\"}], \"scatter3d\": [{\"line\": {\"colorbar\": {\"outlinewidth\": 0, \"ticks\": \"\"}}, \"marker\": {\"colorbar\": {\"outlinewidth\": 0, \"ticks\": \"\"}}, \"type\": \"scatter3d\"}], \"scattercarpet\": [{\"marker\": {\"colorbar\": {\"outlinewidth\": 0, \"ticks\": \"\"}}, \"type\": \"scattercarpet\"}], \"scattergeo\": [{\"marker\": {\"colorbar\": {\"outlinewidth\": 0, \"ticks\": \"\"}}, \"type\": \"scattergeo\"}], \"scattergl\": [{\"marker\": {\"colorbar\": {\"outlinewidth\": 0, \"ticks\": \"\"}}, \"type\": \"scattergl\"}], \"scattermapbox\": [{\"marker\": {\"colorbar\": {\"outlinewidth\": 0, \"ticks\": \"\"}}, \"type\": \"scattermapbox\"}], \"scatterpolar\": [{\"marker\": {\"colorbar\": {\"outlinewidth\": 0, \"ticks\": \"\"}}, \"type\": \"scatterpolar\"}], \"scatterpolargl\": [{\"marker\": {\"colorbar\": {\"outlinewidth\": 0, \"ticks\": \"\"}}, \"type\": \"scatterpolargl\"}], \"scatterternary\": [{\"marker\": {\"colorbar\": {\"outlinewidth\": 0, \"ticks\": \"\"}}, \"type\": \"scatterternary\"}], \"surface\": [{\"colorbar\": {\"outlinewidth\": 0, \"ticks\": \"\"}, \"colorscale\": [[0.0, \"#0d0887\"], [0.1111111111111111, \"#46039f\"], [0.2222222222222222, \"#7201a8\"], [0.3333333333333333, \"#9c179e\"], [0.4444444444444444, \"#bd3786\"], [0.5555555555555556, \"#d8576b\"], [0.6666666666666666, \"#ed7953\"], [0.7777777777777778, \"#fb9f3a\"], [0.8888888888888888, \"#fdca26\"], [1.0, \"#f0f921\"]], \"type\": \"surface\"}], \"table\": [{\"cells\": {\"fill\": {\"color\": \"#EBF0F8\"}, \"line\": {\"color\": \"white\"}}, \"header\": {\"fill\": {\"color\": \"#C8D4E3\"}, \"line\": {\"color\": \"white\"}}, \"type\": \"table\"}]}, \"layout\": {\"annotationdefaults\": {\"arrowcolor\": \"#2a3f5f\", \"arrowhead\": 0, \"arrowwidth\": 1}, \"colorscale\": {\"diverging\": [[0, \"#8e0152\"], [0.1, \"#c51b7d\"], [0.2, \"#de77ae\"], [0.3, \"#f1b6da\"], [0.4, \"#fde0ef\"], [0.5, \"#f7f7f7\"], [0.6, \"#e6f5d0\"], [0.7, \"#b8e186\"], [0.8, \"#7fbc41\"], [0.9, \"#4d9221\"], [1, \"#276419\"]], \"sequential\": [[0.0, \"#0d0887\"], [0.1111111111111111, \"#46039f\"], [0.2222222222222222, \"#7201a8\"], [0.3333333333333333, \"#9c179e\"], [0.4444444444444444, \"#bd3786\"], [0.5555555555555556, \"#d8576b\"], [0.6666666666666666, \"#ed7953\"], [0.7777777777777778, \"#fb9f3a\"], [0.8888888888888888, \"#fdca26\"], [1.0, \"#f0f921\"]], \"sequentialminus\": [[0.0, \"#0d0887\"], [0.1111111111111111, \"#46039f\"], [0.2222222222222222, \"#7201a8\"], [0.3333333333333333, \"#9c179e\"], [0.4444444444444444, \"#bd3786\"], [0.5555555555555556, \"#d8576b\"], [0.6666666666666666, \"#ed7953\"], [0.7777777777777778, \"#fb9f3a\"], [0.8888888888888888, \"#fdca26\"], [1.0, \"#f0f921\"]]}, \"colorway\": [\"#636efa\", \"#EF553B\", \"#00cc96\", \"#ab63fa\", \"#FFA15A\", \"#19d3f3\", \"#FF6692\", \"#B6E880\", \"#FF97FF\", \"#FECB52\"], \"font\": {\"color\": \"#2a3f5f\"}, \"geo\": {\"bgcolor\": \"white\", \"lakecolor\": \"white\", \"landcolor\": \"#E5ECF6\", \"showlakes\": true, \"showland\": true, \"subunitcolor\": \"white\"}, \"hoverlabel\": {\"align\": \"left\"}, \"hovermode\": \"closest\", \"mapbox\": {\"style\": \"light\"}, \"paper_bgcolor\": \"white\", \"plot_bgcolor\": \"#E5ECF6\", \"polar\": {\"angularaxis\": {\"gridcolor\": \"white\", \"linecolor\": \"white\", \"ticks\": \"\"}, \"bgcolor\": \"#E5ECF6\", \"radialaxis\": {\"gridcolor\": \"white\", \"linecolor\": \"white\", \"ticks\": \"\"}}, \"scene\": {\"xaxis\": {\"backgroundcolor\": \"#E5ECF6\", \"gridcolor\": \"white\", \"gridwidth\": 2, \"linecolor\": \"white\", \"showbackground\": true, \"ticks\": \"\", \"zerolinecolor\": \"white\"}, \"yaxis\": {\"backgroundcolor\": \"#E5ECF6\", \"gridcolor\": \"white\", \"gridwidth\": 2, \"linecolor\": \"white\", \"showbackground\": true, \"ticks\": \"\", \"zerolinecolor\": \"white\"}, \"zaxis\": {\"backgroundcolor\": \"#E5ECF6\", \"gridcolor\": \"white\", \"gridwidth\": 2, \"linecolor\": \"white\", \"showbackground\": true, \"ticks\": \"\", \"zerolinecolor\": \"white\"}}, \"shapedefaults\": {\"line\": {\"color\": \"#2a3f5f\"}}, \"ternary\": {\"aaxis\": {\"gridcolor\": \"white\", \"linecolor\": \"white\", \"ticks\": \"\"}, \"baxis\": {\"gridcolor\": \"white\", \"linecolor\": \"white\", \"ticks\": \"\"}, \"bgcolor\": \"#E5ECF6\", \"caxis\": {\"gridcolor\": \"white\", \"linecolor\": \"white\", \"ticks\": \"\"}}, \"title\": {\"x\": 0.05}, \"xaxis\": {\"automargin\": true, \"gridcolor\": \"white\", \"linecolor\": \"white\", \"ticks\": \"\", \"zerolinecolor\": \"white\", \"zerolinewidth\": 2}, \"yaxis\": {\"automargin\": true, \"gridcolor\": \"white\", \"linecolor\": \"white\", \"ticks\": \"\", \"zerolinecolor\": \"white\", \"zerolinewidth\": 2}}}, \"xaxis\": {\"title\": {\"text\": \"Iterations\"}}, \"yaxis\": {\"title\": {\"text\": \"Rank\"}}},\n",
       "                        {\"responsive\": true}\n",
       "                    ).then(function(){\n",
       "                            \n",
       "var gd = document.getElementById('4b70877a-b458-4db8-a2a6-4eb884c7fa5d');\n",
       "var x = new MutationObserver(function (mutations, observer) {{\n",
       "        var display = window.getComputedStyle(gd).display;\n",
       "        if (!display || display === 'none') {{\n",
       "            console.log([gd, 'removed!']);\n",
       "            Plotly.purge(gd);\n",
       "            observer.disconnect();\n",
       "        }}\n",
       "}});\n",
       "\n",
       "// Listen for the removal of the full notebook cells\n",
       "var notebookContainer = gd.closest('#notebook-container');\n",
       "if (notebookContainer) {{\n",
       "    x.observe(notebookContainer, {childList: true});\n",
       "}}\n",
       "\n",
       "// Listen for the clearing of the current output cell\n",
       "var outputEl = gd.closest('.output');\n",
       "if (outputEl) {{\n",
       "    x.observe(outputEl, {childList: true});\n",
       "}}\n",
       "\n",
       "                        })\n",
       "                };\n",
       "                });\n",
       "            </script>\n",
       "        </div>"
      ]
     },
     "metadata": {},
     "output_type": "display_data"
    }
   ],
   "source": [
    "from src.visualization.hopt_experiment_visualizers import visualize_avg_ranks\n",
    "visualize_avg_ranks(hopt_exp_input_richness)"
   ]
  }
 ],
 "metadata": {
  "kernelspec": {
   "display_name": "AutoXGB Notebook",
   "language": "python",
   "name": "autoxgb_kernel"
  },
  "language_info": {
   "codemirror_mode": {
    "name": "ipython",
    "version": 3
   },
   "file_extension": ".py",
   "mimetype": "text/x-python",
   "name": "python",
   "nbconvert_exporter": "python",
   "pygments_lexer": "ipython3",
   "version": "3.6.4"
  }
 },
 "nbformat": 4,
 "nbformat_minor": 4
}
