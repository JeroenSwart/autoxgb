{
 "cells": [
  {
   "cell_type": "markdown",
   "metadata": {},
   "source": [
    "# Experiment 1: hyperparameter optimizing on single datasets"
   ]
  },
  {
   "cell_type": "code",
   "execution_count": 17,
   "metadata": {},
   "outputs": [],
   "source": [
    "# Import external libraries\n",
    "import pickle\n",
    "import random\n",
    "\n",
    "# Import internal metalearning libraries\n",
    "from src.experimenting.hopt_experiment import HoptExperiment\n",
    "from src.metalearning.metadata import MetaDataset\n",
    "from src.metalearning.warmstarter import Warmstarter\n",
    "from src.pipeline_optimization.bayesian_hopt import BayesianHopt\n",
    "from src.utils.metafeature_utils import pca_rank_cor, size\n",
    "from src.visualization.visualizers import visualize_search_performance\n",
    "\n",
    "# Import thesis specific objective and search space\n",
    "from src.utils.thesis_utils import thesis_lookup_objective, thesis_search_space"
   ]
  },
  {
   "cell_type": "markdown",
   "metadata": {},
   "source": [
    "### Global parameters"
   ]
  },
  {
   "cell_type": "code",
   "execution_count": 18,
   "metadata": {},
   "outputs": [],
   "source": [
    "max_evals = 50\n",
    "duplicates = 5\n",
    "n_init_configs = 5"
   ]
  },
  {
   "cell_type": "markdown",
   "metadata": {},
   "source": [
    "### Fixed parts of the experiment"
   ]
  },
  {
   "cell_type": "code",
   "execution_count": 19,
   "metadata": {},
   "outputs": [
    {
     "name": "stderr",
     "output_type": "stream",
     "text": [
      "\n",
      "Calculate metafeatures of metasamples:   0%|          | 0/32 [00:00<?, ?it/s]\u001b[A\n",
      "Calculate metafeatures of metasamples:   6%|▋         | 2/32 [00:00<00:01, 16.81it/s]\u001b[A\n",
      "Calculate metafeatures of metasamples:  16%|█▌        | 5/32 [00:00<00:01, 18.21it/s]\u001b[A\n",
      "Calculate metafeatures of metasamples:  25%|██▌       | 8/32 [00:00<00:01, 20.31it/s]\u001b[A\n",
      "Calculate metafeatures of metasamples:  34%|███▍      | 11/32 [00:00<00:00, 21.42it/s]\u001b[A\n",
      "Calculate metafeatures of metasamples:  44%|████▍     | 14/32 [00:00<00:00, 23.02it/s]\u001b[A\n",
      "Calculate metafeatures of metasamples:  53%|█████▎    | 17/32 [00:00<00:00, 23.33it/s]\u001b[A\n",
      "Calculate metafeatures of metasamples:  62%|██████▎   | 20/32 [00:00<00:00, 24.46it/s]\u001b[A\n",
      "Calculate metafeatures of metasamples:  72%|███████▏  | 23/32 [00:00<00:00, 24.73it/s]\u001b[A\n",
      "Calculate metafeatures of metasamples:  81%|████████▏ | 26/32 [00:01<00:00, 25.72it/s]\u001b[A\n",
      "Calculate metafeatures of metasamples:  91%|█████████ | 29/32 [00:01<00:00, 25.46it/s]\u001b[A\n",
      "Calculate metafeatures of metasamples: 100%|██████████| 32/32 [00:01<00:00, 25.05it/s]\u001b[A\n"
     ]
    }
   ],
   "source": [
    "# Initialize metadataset and calculate metafeatures\n",
    "metadataset_sample_names = !ls ../../data/metadata/interim\n",
    "metasamples = [pickle.load(open('../../data/metadata/interim/' + sample_name,\"rb\")) for sample_name in metadataset_sample_names]\n",
    "metadataset_all = MetaDataset(metasamples, metafeature_functions=[size, pca_rank_cor])\n",
    "\n",
    "# Initialize thesis objective, search space and targets for leave-one-out procedure\n",
    "objective = thesis_lookup_objective\n",
    "search_space = thesis_search_space()\n",
    "target_ids = ['EAST_diff_17520', 'EAST_box_17520', 'NORTHC_box_8760']"
   ]
  },
  {
   "cell_type": "markdown",
   "metadata": {},
   "source": [
    "# Experiment definition"
   ]
  },
  {
   "cell_type": "code",
   "execution_count": 20,
   "metadata": {},
   "outputs": [],
   "source": [
    "# initialize search strategies\n",
    "rand = BayesianHopt(\n",
    "    identifier='Random search',\n",
    "    search_space=search_space,\n",
    "    objective=objective,\n",
    "    max_evals=max_evals,\n",
    "    nr_random_starts=max_evals\n",
    ")\n",
    "naive = BayesianHopt(\n",
    "    identifier='Naive',\n",
    "    search_space=search_space,\n",
    "    objective=objective,\n",
    "    max_evals=max_evals,\n",
    "    nr_random_starts=n_init_configs\n",
    ")\n",
    "warm = BayesianHopt(\n",
    "    identifier='Warmstarted',\n",
    "    search_space=search_space,\n",
    "    objective=objective,\n",
    "    max_evals=max_evals,\n",
    "    warmstarter=Warmstarter(metadataset_all, n_init_configs=n_init_configs, n_sim_samples=5, n_best_per_sample=5)\n",
    ")\n",
    "cold = BayesianHopt(\n",
    "    identifier='Coldstarted',\n",
    "    search_space=search_space,\n",
    "    objective=objective,\n",
    "    max_evals=max_evals,\n",
    "    warmstarter=Warmstarter(metadataset_all, n_init_configs=n_init_configs, n_sim_samples=5, n_best_per_sample=5, cold=True)\n",
    ")\n",
    "\n",
    "# initialize hyperoptimization experiment\n",
    "hopt_exp = HoptExperiment(\n",
    "    hopts=[naive, warm, cold, rand],\n",
    "    duplicates=duplicates,\n",
    "    objective=objective,\n",
    "    metadataset=metadataset_all\n",
    ")"
   ]
  },
  {
   "cell_type": "markdown",
   "metadata": {},
   "source": [
    "### Run experiment"
   ]
  },
  {
   "cell_type": "code",
   "execution_count": 21,
   "metadata": {
    "scrolled": true
   },
   "outputs": [
    {
     "name": "stderr",
     "output_type": "stream",
     "text": [
      "\n",
      "Target time series:   0%|          | 0/3 [00:00<?, ?it/s]\u001b[A\n",
      "Target time series:  33%|███▎      | 1/3 [01:12<02:24, 72.12s/it]\u001b[A\n",
      "Target time series:  67%|██████▋   | 2/3 [02:28<01:13, 73.43s/it]\u001b[A\n",
      "Target time series: 100%|██████████| 3/3 [03:43<00:00, 74.37s/it]\u001b[A\n"
     ]
    }
   ],
   "source": [
    "hopt_exp.run_hopt_experiment(target_ids)"
   ]
  },
  {
   "cell_type": "markdown",
   "metadata": {},
   "source": [
    "### Visualize search performance on single datasets"
   ]
  },
  {
   "cell_type": "code",
   "execution_count": 42,
   "metadata": {},
   "outputs": [],
   "source": [
    "from src.visualization.visualizers import visualize_search_performance"
   ]
  },
  {
   "cell_type": "code",
   "execution_count": 46,
   "metadata": {},
   "outputs": [
    {
     "data": {
      "application/vnd.plotly.v1+json": {
       "config": {
        "plotlyServerURL": "https://plot.ly"
       },
       "data": [
        {
         "mode": "lines",
         "name": "Best so far",
         "type": "scatter",
         "x": [
          0,
          1,
          2,
          3,
          4,
          5,
          6,
          7,
          8,
          9,
          10,
          11,
          12,
          13,
          14,
          15,
          16,
          17,
          18,
          19,
          20,
          21,
          22,
          23,
          24,
          25,
          26,
          27,
          28,
          29,
          30,
          31,
          32,
          33,
          34,
          35,
          36,
          37,
          38,
          39,
          40,
          41,
          42,
          43,
          44,
          45,
          46,
          47,
          48,
          49
         ],
         "y": [
          101.46043668214672,
          101.46043668214672,
          101.46043668214672,
          99.6208202759868,
          99.33249332687764,
          99.33249332687764,
          99.33249332687764,
          99.33249332687764,
          99.33249332687764,
          99.33249332687764,
          99.33249332687764,
          99.33249332687764,
          99.33249332687764,
          99.33249332687764,
          99.33249332687764,
          99.33249332687764,
          99.33249332687764,
          99.33249332687764,
          99.33249332687764,
          99.33249332687764,
          99.33249332687764,
          99.33249332687764,
          99.33249332687764,
          97.93728128990524,
          97.93728128990524,
          97.93728128990524,
          97.93728128990524,
          97.93728128990524,
          97.93728128990524,
          97.93728128990524,
          97.93728128990524,
          97.93728128990524,
          97.93728128990524,
          97.93728128990524,
          97.93728128990524,
          97.93728128990524,
          97.03212918795764,
          97.03212918795764,
          97.03212918795764,
          97.03212918795764,
          97.03212918795764,
          97.03212918795764,
          97.03212918795764,
          97.03212918795764,
          97.03212918795764,
          97.03212918795764,
          97.03212918795764,
          97.03212918795764,
          97.03212918795764,
          97.03212918795764
         ]
        },
        {
         "mode": "lines",
         "name": "Crossvalidation so far",
         "type": "scatter",
         "x": [
          0,
          1,
          2,
          3,
          4,
          5,
          6,
          7,
          8,
          9,
          10,
          11,
          12,
          13,
          14,
          15,
          16,
          17,
          18,
          19,
          20,
          21,
          22,
          23,
          24,
          25,
          26,
          27,
          28,
          29,
          30,
          31,
          32,
          33,
          34,
          35,
          36,
          37,
          38,
          39,
          40,
          41,
          42,
          43,
          44,
          45,
          46,
          47,
          48,
          49
         ],
         "y": [
          103.00547056891769,
          103.00547056891769,
          103.00547056891769,
          100.39518059261421,
          100.12985957818657,
          100.12985957818657,
          100.12985957818657,
          100.12985957818657,
          100.12985957818657,
          100.12985957818657,
          100.12985957818657,
          100.12985957818657,
          100.12985957818657,
          100.12985957818657,
          100.12985957818657,
          100.12985957818657,
          100.12985957818657,
          100.12985957818657,
          100.12985957818657,
          100.12985957818657,
          100.12985957818657,
          100.12985957818657,
          100.12985957818657,
          98.63639902834566,
          98.63639902834566,
          98.63639902834566,
          98.63639902834566,
          98.63639902834566,
          98.63639902834566,
          98.63639902834566,
          98.63639902834566,
          98.63639902834566,
          98.63639902834566,
          98.63639902834566,
          98.63639902834566,
          98.63639902834566,
          96.9197269302612,
          96.9197269302612,
          96.9197269302612,
          96.9197269302612,
          96.9197269302612,
          96.9197269302612,
          96.9197269302612,
          96.9197269302612,
          96.9197269302612,
          96.9197269302612,
          96.9197269302612,
          96.9197269302612,
          96.9197269302612,
          96.9197269302612
         ]
        }
       ],
       "layout": {
        "autosize": true,
        "template": {
         "data": {
          "bar": [
           {
            "error_x": {
             "color": "#2a3f5f"
            },
            "error_y": {
             "color": "#2a3f5f"
            },
            "marker": {
             "line": {
              "color": "#E5ECF6",
              "width": 0.5
             }
            },
            "type": "bar"
           }
          ],
          "barpolar": [
           {
            "marker": {
             "line": {
              "color": "#E5ECF6",
              "width": 0.5
             }
            },
            "type": "barpolar"
           }
          ],
          "carpet": [
           {
            "aaxis": {
             "endlinecolor": "#2a3f5f",
             "gridcolor": "white",
             "linecolor": "white",
             "minorgridcolor": "white",
             "startlinecolor": "#2a3f5f"
            },
            "baxis": {
             "endlinecolor": "#2a3f5f",
             "gridcolor": "white",
             "linecolor": "white",
             "minorgridcolor": "white",
             "startlinecolor": "#2a3f5f"
            },
            "type": "carpet"
           }
          ],
          "choropleth": [
           {
            "colorbar": {
             "outlinewidth": 0,
             "ticks": ""
            },
            "type": "choropleth"
           }
          ],
          "contour": [
           {
            "colorbar": {
             "outlinewidth": 0,
             "ticks": ""
            },
            "colorscale": [
             [
              0,
              "#0d0887"
             ],
             [
              0.1111111111111111,
              "#46039f"
             ],
             [
              0.2222222222222222,
              "#7201a8"
             ],
             [
              0.3333333333333333,
              "#9c179e"
             ],
             [
              0.4444444444444444,
              "#bd3786"
             ],
             [
              0.5555555555555556,
              "#d8576b"
             ],
             [
              0.6666666666666666,
              "#ed7953"
             ],
             [
              0.7777777777777778,
              "#fb9f3a"
             ],
             [
              0.8888888888888888,
              "#fdca26"
             ],
             [
              1,
              "#f0f921"
             ]
            ],
            "type": "contour"
           }
          ],
          "contourcarpet": [
           {
            "colorbar": {
             "outlinewidth": 0,
             "ticks": ""
            },
            "type": "contourcarpet"
           }
          ],
          "heatmap": [
           {
            "colorbar": {
             "outlinewidth": 0,
             "ticks": ""
            },
            "colorscale": [
             [
              0,
              "#0d0887"
             ],
             [
              0.1111111111111111,
              "#46039f"
             ],
             [
              0.2222222222222222,
              "#7201a8"
             ],
             [
              0.3333333333333333,
              "#9c179e"
             ],
             [
              0.4444444444444444,
              "#bd3786"
             ],
             [
              0.5555555555555556,
              "#d8576b"
             ],
             [
              0.6666666666666666,
              "#ed7953"
             ],
             [
              0.7777777777777778,
              "#fb9f3a"
             ],
             [
              0.8888888888888888,
              "#fdca26"
             ],
             [
              1,
              "#f0f921"
             ]
            ],
            "type": "heatmap"
           }
          ],
          "heatmapgl": [
           {
            "colorbar": {
             "outlinewidth": 0,
             "ticks": ""
            },
            "colorscale": [
             [
              0,
              "#0d0887"
             ],
             [
              0.1111111111111111,
              "#46039f"
             ],
             [
              0.2222222222222222,
              "#7201a8"
             ],
             [
              0.3333333333333333,
              "#9c179e"
             ],
             [
              0.4444444444444444,
              "#bd3786"
             ],
             [
              0.5555555555555556,
              "#d8576b"
             ],
             [
              0.6666666666666666,
              "#ed7953"
             ],
             [
              0.7777777777777778,
              "#fb9f3a"
             ],
             [
              0.8888888888888888,
              "#fdca26"
             ],
             [
              1,
              "#f0f921"
             ]
            ],
            "type": "heatmapgl"
           }
          ],
          "histogram": [
           {
            "marker": {
             "colorbar": {
              "outlinewidth": 0,
              "ticks": ""
             }
            },
            "type": "histogram"
           }
          ],
          "histogram2d": [
           {
            "colorbar": {
             "outlinewidth": 0,
             "ticks": ""
            },
            "colorscale": [
             [
              0,
              "#0d0887"
             ],
             [
              0.1111111111111111,
              "#46039f"
             ],
             [
              0.2222222222222222,
              "#7201a8"
             ],
             [
              0.3333333333333333,
              "#9c179e"
             ],
             [
              0.4444444444444444,
              "#bd3786"
             ],
             [
              0.5555555555555556,
              "#d8576b"
             ],
             [
              0.6666666666666666,
              "#ed7953"
             ],
             [
              0.7777777777777778,
              "#fb9f3a"
             ],
             [
              0.8888888888888888,
              "#fdca26"
             ],
             [
              1,
              "#f0f921"
             ]
            ],
            "type": "histogram2d"
           }
          ],
          "histogram2dcontour": [
           {
            "colorbar": {
             "outlinewidth": 0,
             "ticks": ""
            },
            "colorscale": [
             [
              0,
              "#0d0887"
             ],
             [
              0.1111111111111111,
              "#46039f"
             ],
             [
              0.2222222222222222,
              "#7201a8"
             ],
             [
              0.3333333333333333,
              "#9c179e"
             ],
             [
              0.4444444444444444,
              "#bd3786"
             ],
             [
              0.5555555555555556,
              "#d8576b"
             ],
             [
              0.6666666666666666,
              "#ed7953"
             ],
             [
              0.7777777777777778,
              "#fb9f3a"
             ],
             [
              0.8888888888888888,
              "#fdca26"
             ],
             [
              1,
              "#f0f921"
             ]
            ],
            "type": "histogram2dcontour"
           }
          ],
          "mesh3d": [
           {
            "colorbar": {
             "outlinewidth": 0,
             "ticks": ""
            },
            "type": "mesh3d"
           }
          ],
          "parcoords": [
           {
            "line": {
             "colorbar": {
              "outlinewidth": 0,
              "ticks": ""
             }
            },
            "type": "parcoords"
           }
          ],
          "scatter": [
           {
            "marker": {
             "colorbar": {
              "outlinewidth": 0,
              "ticks": ""
             }
            },
            "type": "scatter"
           }
          ],
          "scatter3d": [
           {
            "line": {
             "colorbar": {
              "outlinewidth": 0,
              "ticks": ""
             }
            },
            "marker": {
             "colorbar": {
              "outlinewidth": 0,
              "ticks": ""
             }
            },
            "type": "scatter3d"
           }
          ],
          "scattercarpet": [
           {
            "marker": {
             "colorbar": {
              "outlinewidth": 0,
              "ticks": ""
             }
            },
            "type": "scattercarpet"
           }
          ],
          "scattergeo": [
           {
            "marker": {
             "colorbar": {
              "outlinewidth": 0,
              "ticks": ""
             }
            },
            "type": "scattergeo"
           }
          ],
          "scattergl": [
           {
            "marker": {
             "colorbar": {
              "outlinewidth": 0,
              "ticks": ""
             }
            },
            "type": "scattergl"
           }
          ],
          "scattermapbox": [
           {
            "marker": {
             "colorbar": {
              "outlinewidth": 0,
              "ticks": ""
             }
            },
            "type": "scattermapbox"
           }
          ],
          "scatterpolar": [
           {
            "marker": {
             "colorbar": {
              "outlinewidth": 0,
              "ticks": ""
             }
            },
            "type": "scatterpolar"
           }
          ],
          "scatterpolargl": [
           {
            "marker": {
             "colorbar": {
              "outlinewidth": 0,
              "ticks": ""
             }
            },
            "type": "scatterpolargl"
           }
          ],
          "scatterternary": [
           {
            "marker": {
             "colorbar": {
              "outlinewidth": 0,
              "ticks": ""
             }
            },
            "type": "scatterternary"
           }
          ],
          "surface": [
           {
            "colorbar": {
             "outlinewidth": 0,
             "ticks": ""
            },
            "colorscale": [
             [
              0,
              "#0d0887"
             ],
             [
              0.1111111111111111,
              "#46039f"
             ],
             [
              0.2222222222222222,
              "#7201a8"
             ],
             [
              0.3333333333333333,
              "#9c179e"
             ],
             [
              0.4444444444444444,
              "#bd3786"
             ],
             [
              0.5555555555555556,
              "#d8576b"
             ],
             [
              0.6666666666666666,
              "#ed7953"
             ],
             [
              0.7777777777777778,
              "#fb9f3a"
             ],
             [
              0.8888888888888888,
              "#fdca26"
             ],
             [
              1,
              "#f0f921"
             ]
            ],
            "type": "surface"
           }
          ],
          "table": [
           {
            "cells": {
             "fill": {
              "color": "#EBF0F8"
             },
             "line": {
              "color": "white"
             }
            },
            "header": {
             "fill": {
              "color": "#C8D4E3"
             },
             "line": {
              "color": "white"
             }
            },
            "type": "table"
           }
          ]
         },
         "layout": {
          "annotationdefaults": {
           "arrowcolor": "#2a3f5f",
           "arrowhead": 0,
           "arrowwidth": 1
          },
          "colorscale": {
           "diverging": [
            [
             0,
             "#8e0152"
            ],
            [
             0.1,
             "#c51b7d"
            ],
            [
             0.2,
             "#de77ae"
            ],
            [
             0.3,
             "#f1b6da"
            ],
            [
             0.4,
             "#fde0ef"
            ],
            [
             0.5,
             "#f7f7f7"
            ],
            [
             0.6,
             "#e6f5d0"
            ],
            [
             0.7,
             "#b8e186"
            ],
            [
             0.8,
             "#7fbc41"
            ],
            [
             0.9,
             "#4d9221"
            ],
            [
             1,
             "#276419"
            ]
           ],
           "sequential": [
            [
             0,
             "#0d0887"
            ],
            [
             0.1111111111111111,
             "#46039f"
            ],
            [
             0.2222222222222222,
             "#7201a8"
            ],
            [
             0.3333333333333333,
             "#9c179e"
            ],
            [
             0.4444444444444444,
             "#bd3786"
            ],
            [
             0.5555555555555556,
             "#d8576b"
            ],
            [
             0.6666666666666666,
             "#ed7953"
            ],
            [
             0.7777777777777778,
             "#fb9f3a"
            ],
            [
             0.8888888888888888,
             "#fdca26"
            ],
            [
             1,
             "#f0f921"
            ]
           ],
           "sequentialminus": [
            [
             0,
             "#0d0887"
            ],
            [
             0.1111111111111111,
             "#46039f"
            ],
            [
             0.2222222222222222,
             "#7201a8"
            ],
            [
             0.3333333333333333,
             "#9c179e"
            ],
            [
             0.4444444444444444,
             "#bd3786"
            ],
            [
             0.5555555555555556,
             "#d8576b"
            ],
            [
             0.6666666666666666,
             "#ed7953"
            ],
            [
             0.7777777777777778,
             "#fb9f3a"
            ],
            [
             0.8888888888888888,
             "#fdca26"
            ],
            [
             1,
             "#f0f921"
            ]
           ]
          },
          "colorway": [
           "#636efa",
           "#EF553B",
           "#00cc96",
           "#ab63fa",
           "#FFA15A",
           "#19d3f3",
           "#FF6692",
           "#B6E880",
           "#FF97FF",
           "#FECB52"
          ],
          "font": {
           "color": "#2a3f5f"
          },
          "geo": {
           "bgcolor": "white",
           "lakecolor": "white",
           "landcolor": "#E5ECF6",
           "showlakes": true,
           "showland": true,
           "subunitcolor": "white"
          },
          "hoverlabel": {
           "align": "left"
          },
          "hovermode": "closest",
          "mapbox": {
           "style": "light"
          },
          "paper_bgcolor": "white",
          "plot_bgcolor": "#E5ECF6",
          "polar": {
           "angularaxis": {
            "gridcolor": "white",
            "linecolor": "white",
            "ticks": ""
           },
           "bgcolor": "#E5ECF6",
           "radialaxis": {
            "gridcolor": "white",
            "linecolor": "white",
            "ticks": ""
           }
          },
          "scene": {
           "xaxis": {
            "backgroundcolor": "#E5ECF6",
            "gridcolor": "white",
            "gridwidth": 2,
            "linecolor": "white",
            "showbackground": true,
            "ticks": "",
            "zerolinecolor": "white"
           },
           "yaxis": {
            "backgroundcolor": "#E5ECF6",
            "gridcolor": "white",
            "gridwidth": 2,
            "linecolor": "white",
            "showbackground": true,
            "ticks": "",
            "zerolinecolor": "white"
           },
           "zaxis": {
            "backgroundcolor": "#E5ECF6",
            "gridcolor": "white",
            "gridwidth": 2,
            "linecolor": "white",
            "showbackground": true,
            "ticks": "",
            "zerolinecolor": "white"
           }
          },
          "shapedefaults": {
           "line": {
            "color": "#2a3f5f"
           }
          },
          "ternary": {
           "aaxis": {
            "gridcolor": "white",
            "linecolor": "white",
            "ticks": ""
           },
           "baxis": {
            "gridcolor": "white",
            "linecolor": "white",
            "ticks": ""
           },
           "bgcolor": "#E5ECF6",
           "caxis": {
            "gridcolor": "white",
            "linecolor": "white",
            "ticks": ""
           }
          },
          "title": {
           "x": 0.05
          },
          "xaxis": {
           "automargin": true,
           "gridcolor": "white",
           "linecolor": "white",
           "ticks": "",
           "zerolinecolor": "white",
           "zerolinewidth": 2
          },
          "yaxis": {
           "automargin": true,
           "gridcolor": "white",
           "linecolor": "white",
           "ticks": "",
           "zerolinecolor": "white",
           "zerolinewidth": 2
          }
         }
        },
        "xaxis": {
         "autorange": true,
         "range": [
          0,
          49
         ],
         "title": {
          "text": "Iterations"
         },
         "type": "linear"
        },
        "yaxis": {
         "autorange": true,
         "range": [
          96.58163006144696,
          103.34356743773193
         ],
         "title": {
          "text": "MAE"
         },
         "type": "linear"
        }
       }
      },
      "image/png": "[encoded data removed]",
      "text/html": [
       "<div>\n",
       "        \n",
       "        \n",
       "            <div id=\"9f18d6b0-7e3e-4872-84cd-256ce41f76c1\" class=\"plotly-graph-div\" style=\"height:525px; width:100%;\"></div>\n",
       "            <script type=\"text/javascript\">\n",
       "                require([\"plotly\"], function(Plotly) {\n",
       "                    window.PLOTLYENV=window.PLOTLYENV || {};\n",
       "                    \n",
       "                if (document.getElementById(\"9f18d6b0-7e3e-4872-84cd-256ce41f76c1\")) {\n",
       "                    Plotly.newPlot(\n",
       "                        '9f18d6b0-7e3e-4872-84cd-256ce41f76c1',\n",
       "                        [{\"mode\": \"lines\", \"name\": \"Best so far\", \"type\": \"scatter\", \"x\": [0, 1, 2, 3, 4, 5, 6, 7, 8, 9, 10, 11, 12, 13, 14, 15, 16, 17, 18, 19, 20, 21, 22, 23, 24, 25, 26, 27, 28, 29, 30, 31, 32, 33, 34, 35, 36, 37, 38, 39, 40, 41, 42, 43, 44, 45, 46, 47, 48, 49], \"y\": [101.46043668214672, 101.46043668214672, 101.46043668214672, 99.6208202759868, 99.33249332687764, 99.33249332687764, 99.33249332687764, 99.33249332687764, 99.33249332687764, 99.33249332687764, 99.33249332687764, 99.33249332687764, 99.33249332687764, 99.33249332687764, 99.33249332687764, 99.33249332687764, 99.33249332687764, 99.33249332687764, 99.33249332687764, 99.33249332687764, 99.33249332687764, 99.33249332687764, 99.33249332687764, 97.93728128990524, 97.93728128990524, 97.93728128990524, 97.93728128990524, 97.93728128990524, 97.93728128990524, 97.93728128990524, 97.93728128990524, 97.93728128990524, 97.93728128990524, 97.93728128990524, 97.93728128990524, 97.93728128990524, 97.03212918795764, 97.03212918795764, 97.03212918795764, 97.03212918795764, 97.03212918795764, 97.03212918795764, 97.03212918795764, 97.03212918795764, 97.03212918795764, 97.03212918795764, 97.03212918795764, 97.03212918795764, 97.03212918795764, 97.03212918795764]}, {\"mode\": \"lines\", \"name\": \"Crossvalidation so far\", \"type\": \"scatter\", \"x\": [0, 1, 2, 3, 4, 5, 6, 7, 8, 9, 10, 11, 12, 13, 14, 15, 16, 17, 18, 19, 20, 21, 22, 23, 24, 25, 26, 27, 28, 29, 30, 31, 32, 33, 34, 35, 36, 37, 38, 39, 40, 41, 42, 43, 44, 45, 46, 47, 48, 49], \"y\": [103.00547056891769, 103.00547056891769, 103.00547056891769, 100.39518059261421, 100.12985957818657, 100.12985957818657, 100.12985957818657, 100.12985957818657, 100.12985957818657, 100.12985957818657, 100.12985957818657, 100.12985957818657, 100.12985957818657, 100.12985957818657, 100.12985957818657, 100.12985957818657, 100.12985957818657, 100.12985957818657, 100.12985957818657, 100.12985957818657, 100.12985957818657, 100.12985957818657, 100.12985957818657, 98.63639902834566, 98.63639902834566, 98.63639902834566, 98.63639902834566, 98.63639902834566, 98.63639902834566, 98.63639902834566, 98.63639902834566, 98.63639902834566, 98.63639902834566, 98.63639902834566, 98.63639902834566, 98.63639902834566, 96.9197269302612, 96.9197269302612, 96.9197269302612, 96.9197269302612, 96.9197269302612, 96.9197269302612, 96.9197269302612, 96.9197269302612, 96.9197269302612, 96.9197269302612, 96.9197269302612, 96.9197269302612, 96.9197269302612, 96.9197269302612]}],\n",
       "                        {\"template\": {\"data\": {\"bar\": [{\"error_x\": {\"color\": \"#2a3f5f\"}, \"error_y\": {\"color\": \"#2a3f5f\"}, \"marker\": {\"line\": {\"color\": \"#E5ECF6\", \"width\": 0.5}}, \"type\": \"bar\"}], \"barpolar\": [{\"marker\": {\"line\": {\"color\": \"#E5ECF6\", \"width\": 0.5}}, \"type\": \"barpolar\"}], \"carpet\": [{\"aaxis\": {\"endlinecolor\": \"#2a3f5f\", \"gridcolor\": \"white\", \"linecolor\": \"white\", \"minorgridcolor\": \"white\", \"startlinecolor\": \"#2a3f5f\"}, \"baxis\": {\"endlinecolor\": \"#2a3f5f\", \"gridcolor\": \"white\", \"linecolor\": \"white\", \"minorgridcolor\": \"white\", \"startlinecolor\": \"#2a3f5f\"}, \"type\": \"carpet\"}], \"choropleth\": [{\"colorbar\": {\"outlinewidth\": 0, \"ticks\": \"\"}, \"type\": \"choropleth\"}], \"contour\": [{\"colorbar\": {\"outlinewidth\": 0, \"ticks\": \"\"}, \"colorscale\": [[0.0, \"#0d0887\"], [0.1111111111111111, \"#46039f\"], [0.2222222222222222, \"#7201a8\"], [0.3333333333333333, \"#9c179e\"], [0.4444444444444444, \"#bd3786\"], [0.5555555555555556, \"#d8576b\"], [0.6666666666666666, \"#ed7953\"], [0.7777777777777778, \"#fb9f3a\"], [0.8888888888888888, \"#fdca26\"], [1.0, \"#f0f921\"]], \"type\": \"contour\"}], \"contourcarpet\": [{\"colorbar\": {\"outlinewidth\": 0, \"ticks\": \"\"}, \"type\": \"contourcarpet\"}], \"heatmap\": [{\"colorbar\": {\"outlinewidth\": 0, \"ticks\": \"\"}, \"colorscale\": [[0.0, \"#0d0887\"], [0.1111111111111111, \"#46039f\"], [0.2222222222222222, \"#7201a8\"], [0.3333333333333333, \"#9c179e\"], [0.4444444444444444, \"#bd3786\"], [0.5555555555555556, \"#d8576b\"], [0.6666666666666666, \"#ed7953\"], [0.7777777777777778, \"#fb9f3a\"], [0.8888888888888888, \"#fdca26\"], [1.0, \"#f0f921\"]], \"type\": \"heatmap\"}], \"heatmapgl\": [{\"colorbar\": {\"outlinewidth\": 0, \"ticks\": \"\"}, \"colorscale\": [[0.0, \"#0d0887\"], [0.1111111111111111, \"#46039f\"], [0.2222222222222222, \"#7201a8\"], [0.3333333333333333, \"#9c179e\"], [0.4444444444444444, \"#bd3786\"], [0.5555555555555556, \"#d8576b\"], [0.6666666666666666, \"#ed7953\"], [0.7777777777777778, \"#fb9f3a\"], [0.8888888888888888, \"#fdca26\"], [1.0, \"#f0f921\"]], \"type\": \"heatmapgl\"}], \"histogram\": [{\"marker\": {\"colorbar\": {\"outlinewidth\": 0, \"ticks\": \"\"}}, \"type\": \"histogram\"}], \"histogram2d\": [{\"colorbar\": {\"outlinewidth\": 0, \"ticks\": \"\"}, \"colorscale\": [[0.0, \"#0d0887\"], [0.1111111111111111, \"#46039f\"], [0.2222222222222222, \"#7201a8\"], [0.3333333333333333, \"#9c179e\"], [0.4444444444444444, \"#bd3786\"], [0.5555555555555556, \"#d8576b\"], [0.6666666666666666, \"#ed7953\"], [0.7777777777777778, \"#fb9f3a\"], [0.8888888888888888, \"#fdca26\"], [1.0, \"#f0f921\"]], \"type\": \"histogram2d\"}], \"histogram2dcontour\": [{\"colorbar\": {\"outlinewidth\": 0, \"ticks\": \"\"}, \"colorscale\": [[0.0, \"#0d0887\"], [0.1111111111111111, \"#46039f\"], [0.2222222222222222, \"#7201a8\"], [0.3333333333333333, \"#9c179e\"], [0.4444444444444444, \"#bd3786\"], [0.5555555555555556, \"#d8576b\"], [0.6666666666666666, \"#ed7953\"], [0.7777777777777778, \"#fb9f3a\"], [0.8888888888888888, \"#fdca26\"], [1.0, \"#f0f921\"]], \"type\": \"histogram2dcontour\"}], \"mesh3d\": [{\"colorbar\": {\"outlinewidth\": 0, \"ticks\": \"\"}, \"type\": \"mesh3d\"}], \"parcoords\": [{\"line\": {\"colorbar\": {\"outlinewidth\": 0, \"ticks\": \"\"}}, \"type\": \"parcoords\"}], \"scatter\": [{\"marker\": {\"colorbar\": {\"outlinewidth\": 0, \"ticks\": \"\"}}, \"type\": \"scatter\"}], \"scatter3d\": [{\"line\": {\"colorbar\": {\"outlinewidth\": 0, \"ticks\": \"\"}}, \"marker\": {\"colorbar\": {\"outlinewidth\": 0, \"ticks\": \"\"}}, \"type\": \"scatter3d\"}], \"scattercarpet\": [{\"marker\": {\"colorbar\": {\"outlinewidth\": 0, \"ticks\": \"\"}}, \"type\": \"scattercarpet\"}], \"scattergeo\": [{\"marker\": {\"colorbar\": {\"outlinewidth\": 0, \"ticks\": \"\"}}, \"type\": \"scattergeo\"}], \"scattergl\": [{\"marker\": {\"colorbar\": {\"outlinewidth\": 0, \"ticks\": \"\"}}, \"type\": \"scattergl\"}], \"scattermapbox\": [{\"marker\": {\"colorbar\": {\"outlinewidth\": 0, \"ticks\": \"\"}}, \"type\": \"scattermapbox\"}], \"scatterpolar\": [{\"marker\": {\"colorbar\": {\"outlinewidth\": 0, \"ticks\": \"\"}}, \"type\": \"scatterpolar\"}], \"scatterpolargl\": [{\"marker\": {\"colorbar\": {\"outlinewidth\": 0, \"ticks\": \"\"}}, \"type\": \"scatterpolargl\"}], \"scatterternary\": [{\"marker\": {\"colorbar\": {\"outlinewidth\": 0, \"ticks\": \"\"}}, \"type\": \"scatterternary\"}], \"surface\": [{\"colorbar\": {\"outlinewidth\": 0, \"ticks\": \"\"}, \"colorscale\": [[0.0, \"#0d0887\"], [0.1111111111111111, \"#46039f\"], [0.2222222222222222, \"#7201a8\"], [0.3333333333333333, \"#9c179e\"], [0.4444444444444444, \"#bd3786\"], [0.5555555555555556, \"#d8576b\"], [0.6666666666666666, \"#ed7953\"], [0.7777777777777778, \"#fb9f3a\"], [0.8888888888888888, \"#fdca26\"], [1.0, \"#f0f921\"]], \"type\": \"surface\"}], \"table\": [{\"cells\": {\"fill\": {\"color\": \"#EBF0F8\"}, \"line\": {\"color\": \"white\"}}, \"header\": {\"fill\": {\"color\": \"#C8D4E3\"}, \"line\": {\"color\": \"white\"}}, \"type\": \"table\"}]}, \"layout\": {\"annotationdefaults\": {\"arrowcolor\": \"#2a3f5f\", \"arrowhead\": 0, \"arrowwidth\": 1}, \"colorscale\": {\"diverging\": [[0, \"#8e0152\"], [0.1, \"#c51b7d\"], [0.2, \"#de77ae\"], [0.3, \"#f1b6da\"], [0.4, \"#fde0ef\"], [0.5, \"#f7f7f7\"], [0.6, \"#e6f5d0\"], [0.7, \"#b8e186\"], [0.8, \"#7fbc41\"], [0.9, \"#4d9221\"], [1, \"#276419\"]], \"sequential\": [[0.0, \"#0d0887\"], [0.1111111111111111, \"#46039f\"], [0.2222222222222222, \"#7201a8\"], [0.3333333333333333, \"#9c179e\"], [0.4444444444444444, \"#bd3786\"], [0.5555555555555556, \"#d8576b\"], [0.6666666666666666, \"#ed7953\"], [0.7777777777777778, \"#fb9f3a\"], [0.8888888888888888, \"#fdca26\"], [1.0, \"#f0f921\"]], \"sequentialminus\": [[0.0, \"#0d0887\"], [0.1111111111111111, \"#46039f\"], [0.2222222222222222, \"#7201a8\"], [0.3333333333333333, \"#9c179e\"], [0.4444444444444444, \"#bd3786\"], [0.5555555555555556, \"#d8576b\"], [0.6666666666666666, \"#ed7953\"], [0.7777777777777778, \"#fb9f3a\"], [0.8888888888888888, \"#fdca26\"], [1.0, \"#f0f921\"]]}, \"colorway\": [\"#636efa\", \"#EF553B\", \"#00cc96\", \"#ab63fa\", \"#FFA15A\", \"#19d3f3\", \"#FF6692\", \"#B6E880\", \"#FF97FF\", \"#FECB52\"], \"font\": {\"color\": \"#2a3f5f\"}, \"geo\": {\"bgcolor\": \"white\", \"lakecolor\": \"white\", \"landcolor\": \"#E5ECF6\", \"showlakes\": true, \"showland\": true, \"subunitcolor\": \"white\"}, \"hoverlabel\": {\"align\": \"left\"}, \"hovermode\": \"closest\", \"mapbox\": {\"style\": \"light\"}, \"paper_bgcolor\": \"white\", \"plot_bgcolor\": \"#E5ECF6\", \"polar\": {\"angularaxis\": {\"gridcolor\": \"white\", \"linecolor\": \"white\", \"ticks\": \"\"}, \"bgcolor\": \"#E5ECF6\", \"radialaxis\": {\"gridcolor\": \"white\", \"linecolor\": \"white\", \"ticks\": \"\"}}, \"scene\": {\"xaxis\": {\"backgroundcolor\": \"#E5ECF6\", \"gridcolor\": \"white\", \"gridwidth\": 2, \"linecolor\": \"white\", \"showbackground\": true, \"ticks\": \"\", \"zerolinecolor\": \"white\"}, \"yaxis\": {\"backgroundcolor\": \"#E5ECF6\", \"gridcolor\": \"white\", \"gridwidth\": 2, \"linecolor\": \"white\", \"showbackground\": true, \"ticks\": \"\", \"zerolinecolor\": \"white\"}, \"zaxis\": {\"backgroundcolor\": \"#E5ECF6\", \"gridcolor\": \"white\", \"gridwidth\": 2, \"linecolor\": \"white\", \"showbackground\": true, \"ticks\": \"\", \"zerolinecolor\": \"white\"}}, \"shapedefaults\": {\"line\": {\"color\": \"#2a3f5f\"}}, \"ternary\": {\"aaxis\": {\"gridcolor\": \"white\", \"linecolor\": \"white\", \"ticks\": \"\"}, \"baxis\": {\"gridcolor\": \"white\", \"linecolor\": \"white\", \"ticks\": \"\"}, \"bgcolor\": \"#E5ECF6\", \"caxis\": {\"gridcolor\": \"white\", \"linecolor\": \"white\", \"ticks\": \"\"}}, \"title\": {\"x\": 0.05}, \"xaxis\": {\"automargin\": true, \"gridcolor\": \"white\", \"linecolor\": \"white\", \"ticks\": \"\", \"zerolinecolor\": \"white\", \"zerolinewidth\": 2}, \"yaxis\": {\"automargin\": true, \"gridcolor\": \"white\", \"linecolor\": \"white\", \"ticks\": \"\", \"zerolinecolor\": \"white\", \"zerolinewidth\": 2}}}, \"xaxis\": {\"title\": {\"text\": \"Iterations\"}}, \"yaxis\": {\"title\": {\"text\": \"MAE\"}}},\n",
       "                        {\"responsive\": true}\n",
       "                    ).then(function(){\n",
       "                            \n",
       "var gd = document.getElementById('9f18d6b0-7e3e-4872-84cd-256ce41f76c1');\n",
       "var x = new MutationObserver(function (mutations, observer) {{\n",
       "        var display = window.getComputedStyle(gd).display;\n",
       "        if (!display || display === 'none') {{\n",
       "            console.log([gd, 'removed!']);\n",
       "            Plotly.purge(gd);\n",
       "            observer.disconnect();\n",
       "        }}\n",
       "}});\n",
       "\n",
       "// Listen for the removal of the full notebook cells\n",
       "var notebookContainer = gd.closest('#notebook-container');\n",
       "if (notebookContainer) {{\n",
       "    x.observe(notebookContainer, {childList: true});\n",
       "}}\n",
       "\n",
       "// Listen for the clearing of the current output cell\n",
       "var outputEl = gd.closest('.output');\n",
       "if (outputEl) {{\n",
       "    x.observe(outputEl, {childList: true});\n",
       "}}\n",
       "\n",
       "                        })\n",
       "                };\n",
       "                });\n",
       "            </script>\n",
       "        </div>"
      ]
     },
     "metadata": {},
     "output_type": "display_data"
    }
   ],
   "source": [
    "visualize_search_performance(hopt_exp._hopts[2],crossvalidation=True)"
   ]
  },
  {
   "cell_type": "code",
   "execution_count": null,
   "metadata": {},
   "outputs": [],
   "source": [
    "visualize_walltime_comparison(hopt_exp,)"
   ]
  },
  {
   "cell_type": "code",
   "execution_count": 22,
   "metadata": {},
   "outputs": [],
   "source": [
    "import plotly.graph_objects as go\n",
    "from plotly.subplots import make_subplots"
   ]
  },
  {
   "cell_type": "code",
   "execution_count": 37,
   "metadata": {
    "scrolled": true
   },
   "outputs": [
    {
     "data": {
      "text/html": [
       "<div>\n",
       "<style scoped>\n",
       "    .dataframe tbody tr th:only-of-type {\n",
       "        vertical-align: middle;\n",
       "    }\n",
       "\n",
       "    .dataframe tbody tr th {\n",
       "        vertical-align: top;\n",
       "    }\n",
       "\n",
       "    .dataframe thead tr th {\n",
       "        text-align: left;\n",
       "    }\n",
       "</style>\n",
       "<table border=\"1\" class=\"dataframe\">\n",
       "  <thead>\n",
       "    <tr>\n",
       "      <th></th>\n",
       "      <th colspan=\"4\" halign=\"left\">results</th>\n",
       "      <th colspan=\"5\" halign=\"left\">configs</th>\n",
       "    </tr>\n",
       "    <tr>\n",
       "      <th></th>\n",
       "      <th>loss</th>\n",
       "      <th>status</th>\n",
       "      <th>walltime</th>\n",
       "      <th>crossval</th>\n",
       "      <th>num_trees</th>\n",
       "      <th>learning_rate</th>\n",
       "      <th>max_depth</th>\n",
       "      <th>min_child_weight</th>\n",
       "      <th>subsample</th>\n",
       "    </tr>\n",
       "  </thead>\n",
       "  <tbody>\n",
       "    <tr>\n",
       "      <td>0</td>\n",
       "      <td>105.852281</td>\n",
       "      <td>ok</td>\n",
       "      <td>18.738668</td>\n",
       "      <td>107.443923</td>\n",
       "      <td>660.0</td>\n",
       "      <td>0.068129</td>\n",
       "      <td>7.0</td>\n",
       "      <td>40.0</td>\n",
       "      <td>0.50</td>\n",
       "    </tr>\n",
       "    <tr>\n",
       "      <td>1</td>\n",
       "      <td>102.457369</td>\n",
       "      <td>ok</td>\n",
       "      <td>26.379866</td>\n",
       "      <td>103.943138</td>\n",
       "      <td>520.0</td>\n",
       "      <td>0.040842</td>\n",
       "      <td>16.0</td>\n",
       "      <td>22.5</td>\n",
       "      <td>0.50</td>\n",
       "    </tr>\n",
       "    <tr>\n",
       "      <td>2</td>\n",
       "      <td>103.780481</td>\n",
       "      <td>ok</td>\n",
       "      <td>20.022041</td>\n",
       "      <td>105.440611</td>\n",
       "      <td>380.0</td>\n",
       "      <td>0.005275</td>\n",
       "      <td>18.0</td>\n",
       "      <td>40.0</td>\n",
       "      <td>0.75</td>\n",
       "    </tr>\n",
       "    <tr>\n",
       "      <td>3</td>\n",
       "      <td>103.863006</td>\n",
       "      <td>ok</td>\n",
       "      <td>18.589500</td>\n",
       "      <td>105.267396</td>\n",
       "      <td>380.0</td>\n",
       "      <td>0.316228</td>\n",
       "      <td>14.0</td>\n",
       "      <td>22.5</td>\n",
       "      <td>0.50</td>\n",
       "    </tr>\n",
       "    <tr>\n",
       "      <td>4</td>\n",
       "      <td>106.355107</td>\n",
       "      <td>ok</td>\n",
       "      <td>15.844731</td>\n",
       "      <td>107.499553</td>\n",
       "      <td>520.0</td>\n",
       "      <td>0.040842</td>\n",
       "      <td>7.0</td>\n",
       "      <td>22.5</td>\n",
       "      <td>0.75</td>\n",
       "    </tr>\n",
       "    <tr>\n",
       "      <td>5</td>\n",
       "      <td>110.624199</td>\n",
       "      <td>ok</td>\n",
       "      <td>7.054958</td>\n",
       "      <td>111.103903</td>\n",
       "      <td>100.0</td>\n",
       "      <td>0.005275</td>\n",
       "      <td>20.0</td>\n",
       "      <td>5.0</td>\n",
       "      <td>1.00</td>\n",
       "    </tr>\n",
       "    <tr>\n",
       "      <td>6</td>\n",
       "      <td>98.125873</td>\n",
       "      <td>ok</td>\n",
       "      <td>45.484251</td>\n",
       "      <td>98.904690</td>\n",
       "      <td>800.0</td>\n",
       "      <td>0.316228</td>\n",
       "      <td>14.0</td>\n",
       "      <td>5.0</td>\n",
       "      <td>0.50</td>\n",
       "    </tr>\n",
       "    <tr>\n",
       "      <td>7</td>\n",
       "      <td>100.188851</td>\n",
       "      <td>ok</td>\n",
       "      <td>35.481001</td>\n",
       "      <td>100.192825</td>\n",
       "      <td>800.0</td>\n",
       "      <td>0.316228</td>\n",
       "      <td>11.0</td>\n",
       "      <td>5.0</td>\n",
       "      <td>1.00</td>\n",
       "    </tr>\n",
       "    <tr>\n",
       "      <td>8</td>\n",
       "      <td>97.463048</td>\n",
       "      <td>ok</td>\n",
       "      <td>38.262138</td>\n",
       "      <td>97.819714</td>\n",
       "      <td>800.0</td>\n",
       "      <td>0.113646</td>\n",
       "      <td>11.0</td>\n",
       "      <td>5.0</td>\n",
       "      <td>0.75</td>\n",
       "    </tr>\n",
       "    <tr>\n",
       "      <td>9</td>\n",
       "      <td>105.793100</td>\n",
       "      <td>ok</td>\n",
       "      <td>8.584146</td>\n",
       "      <td>106.456069</td>\n",
       "      <td>240.0</td>\n",
       "      <td>0.014678</td>\n",
       "      <td>9.0</td>\n",
       "      <td>5.0</td>\n",
       "      <td>0.75</td>\n",
       "    </tr>\n",
       "    <tr>\n",
       "      <td>10</td>\n",
       "      <td>98.764674</td>\n",
       "      <td>ok</td>\n",
       "      <td>57.633698</td>\n",
       "      <td>97.285296</td>\n",
       "      <td>660.0</td>\n",
       "      <td>0.113646</td>\n",
       "      <td>20.0</td>\n",
       "      <td>5.0</td>\n",
       "      <td>1.00</td>\n",
       "    </tr>\n",
       "    <tr>\n",
       "      <td>11</td>\n",
       "      <td>102.679273</td>\n",
       "      <td>ok</td>\n",
       "      <td>23.969457</td>\n",
       "      <td>103.859541</td>\n",
       "      <td>660.0</td>\n",
       "      <td>0.113646</td>\n",
       "      <td>9.0</td>\n",
       "      <td>22.5</td>\n",
       "      <td>0.75</td>\n",
       "    </tr>\n",
       "    <tr>\n",
       "      <td>12</td>\n",
       "      <td>116.177840</td>\n",
       "      <td>ok</td>\n",
       "      <td>0.843862</td>\n",
       "      <td>117.491959</td>\n",
       "      <td>100.0</td>\n",
       "      <td>0.014678</td>\n",
       "      <td>5.0</td>\n",
       "      <td>40.0</td>\n",
       "      <td>1.00</td>\n",
       "    </tr>\n",
       "    <tr>\n",
       "      <td>13</td>\n",
       "      <td>96.352653</td>\n",
       "      <td>ok</td>\n",
       "      <td>57.325639</td>\n",
       "      <td>96.179273</td>\n",
       "      <td>800.0</td>\n",
       "      <td>0.014678</td>\n",
       "      <td>16.0</td>\n",
       "      <td>5.0</td>\n",
       "      <td>0.75</td>\n",
       "    </tr>\n",
       "    <tr>\n",
       "      <td>14</td>\n",
       "      <td>106.643074</td>\n",
       "      <td>ok</td>\n",
       "      <td>12.254156</td>\n",
       "      <td>107.955176</td>\n",
       "      <td>240.0</td>\n",
       "      <td>0.014678</td>\n",
       "      <td>18.0</td>\n",
       "      <td>22.5</td>\n",
       "      <td>0.50</td>\n",
       "    </tr>\n",
       "    <tr>\n",
       "      <td>15</td>\n",
       "      <td>97.694416</td>\n",
       "      <td>ok</td>\n",
       "      <td>46.802328</td>\n",
       "      <td>96.497492</td>\n",
       "      <td>660.0</td>\n",
       "      <td>0.008799</td>\n",
       "      <td>16.0</td>\n",
       "      <td>5.0</td>\n",
       "      <td>1.00</td>\n",
       "    </tr>\n",
       "    <tr>\n",
       "      <td>16</td>\n",
       "      <td>102.319501</td>\n",
       "      <td>ok</td>\n",
       "      <td>27.169545</td>\n",
       "      <td>104.061779</td>\n",
       "      <td>520.0</td>\n",
       "      <td>0.003162</td>\n",
       "      <td>18.0</td>\n",
       "      <td>40.0</td>\n",
       "      <td>0.75</td>\n",
       "    </tr>\n",
       "    <tr>\n",
       "      <td>17</td>\n",
       "      <td>97.463048</td>\n",
       "      <td>ok</td>\n",
       "      <td>38.262138</td>\n",
       "      <td>97.819714</td>\n",
       "      <td>800.0</td>\n",
       "      <td>0.113646</td>\n",
       "      <td>11.0</td>\n",
       "      <td>5.0</td>\n",
       "      <td>0.75</td>\n",
       "    </tr>\n",
       "    <tr>\n",
       "      <td>18</td>\n",
       "      <td>96.352653</td>\n",
       "      <td>ok</td>\n",
       "      <td>57.325639</td>\n",
       "      <td>96.179273</td>\n",
       "      <td>800.0</td>\n",
       "      <td>0.024484</td>\n",
       "      <td>16.0</td>\n",
       "      <td>5.0</td>\n",
       "      <td>0.75</td>\n",
       "    </tr>\n",
       "    <tr>\n",
       "      <td>19</td>\n",
       "      <td>96.352653</td>\n",
       "      <td>ok</td>\n",
       "      <td>57.325639</td>\n",
       "      <td>96.179273</td>\n",
       "      <td>800.0</td>\n",
       "      <td>0.024484</td>\n",
       "      <td>16.0</td>\n",
       "      <td>5.0</td>\n",
       "      <td>0.75</td>\n",
       "    </tr>\n",
       "    <tr>\n",
       "      <td>20</td>\n",
       "      <td>96.471925</td>\n",
       "      <td>ok</td>\n",
       "      <td>47.092549</td>\n",
       "      <td>96.310682</td>\n",
       "      <td>660.0</td>\n",
       "      <td>0.024484</td>\n",
       "      <td>16.0</td>\n",
       "      <td>5.0</td>\n",
       "      <td>0.75</td>\n",
       "    </tr>\n",
       "    <tr>\n",
       "      <td>21</td>\n",
       "      <td>96.261827</td>\n",
       "      <td>ok</td>\n",
       "      <td>49.111165</td>\n",
       "      <td>96.098132</td>\n",
       "      <td>800.0</td>\n",
       "      <td>0.008799</td>\n",
       "      <td>14.0</td>\n",
       "      <td>5.0</td>\n",
       "      <td>0.75</td>\n",
       "    </tr>\n",
       "    <tr>\n",
       "      <td>22</td>\n",
       "      <td>100.265046</td>\n",
       "      <td>ok</td>\n",
       "      <td>35.009976</td>\n",
       "      <td>101.581142</td>\n",
       "      <td>660.0</td>\n",
       "      <td>0.005275</td>\n",
       "      <td>14.0</td>\n",
       "      <td>22.5</td>\n",
       "      <td>0.75</td>\n",
       "    </tr>\n",
       "    <tr>\n",
       "      <td>23</td>\n",
       "      <td>98.919214</td>\n",
       "      <td>ok</td>\n",
       "      <td>29.774843</td>\n",
       "      <td>99.738936</td>\n",
       "      <td>520.0</td>\n",
       "      <td>0.008799</td>\n",
       "      <td>14.0</td>\n",
       "      <td>5.0</td>\n",
       "      <td>0.50</td>\n",
       "    </tr>\n",
       "    <tr>\n",
       "      <td>24</td>\n",
       "      <td>98.311473</td>\n",
       "      <td>ok</td>\n",
       "      <td>56.178252</td>\n",
       "      <td>96.762090</td>\n",
       "      <td>800.0</td>\n",
       "      <td>0.003162</td>\n",
       "      <td>18.0</td>\n",
       "      <td>5.0</td>\n",
       "      <td>1.00</td>\n",
       "    </tr>\n",
       "    <tr>\n",
       "      <td>25</td>\n",
       "      <td>102.679273</td>\n",
       "      <td>ok</td>\n",
       "      <td>23.969457</td>\n",
       "      <td>103.859541</td>\n",
       "      <td>660.0</td>\n",
       "      <td>0.024484</td>\n",
       "      <td>9.0</td>\n",
       "      <td>22.5</td>\n",
       "      <td>0.75</td>\n",
       "    </tr>\n",
       "    <tr>\n",
       "      <td>26</td>\n",
       "      <td>98.742154</td>\n",
       "      <td>ok</td>\n",
       "      <td>32.417629</td>\n",
       "      <td>99.086185</td>\n",
       "      <td>380.0</td>\n",
       "      <td>0.008799</td>\n",
       "      <td>20.0</td>\n",
       "      <td>5.0</td>\n",
       "      <td>0.75</td>\n",
       "    </tr>\n",
       "    <tr>\n",
       "      <td>27</td>\n",
       "      <td>99.332493</td>\n",
       "      <td>ok</td>\n",
       "      <td>35.532666</td>\n",
       "      <td>100.129860</td>\n",
       "      <td>800.0</td>\n",
       "      <td>0.008799</td>\n",
       "      <td>11.0</td>\n",
       "      <td>5.0</td>\n",
       "      <td>0.50</td>\n",
       "    </tr>\n",
       "    <tr>\n",
       "      <td>28</td>\n",
       "      <td>100.056647</td>\n",
       "      <td>ok</td>\n",
       "      <td>34.962858</td>\n",
       "      <td>101.262048</td>\n",
       "      <td>660.0</td>\n",
       "      <td>0.068129</td>\n",
       "      <td>14.0</td>\n",
       "      <td>22.5</td>\n",
       "      <td>1.00</td>\n",
       "    </tr>\n",
       "    <tr>\n",
       "      <td>29</td>\n",
       "      <td>108.014600</td>\n",
       "      <td>ok</td>\n",
       "      <td>10.466990</td>\n",
       "      <td>109.575891</td>\n",
       "      <td>240.0</td>\n",
       "      <td>0.068129</td>\n",
       "      <td>18.0</td>\n",
       "      <td>40.0</td>\n",
       "      <td>0.50</td>\n",
       "    </tr>\n",
       "    <tr>\n",
       "      <td>30</td>\n",
       "      <td>97.032129</td>\n",
       "      <td>ok</td>\n",
       "      <td>36.935046</td>\n",
       "      <td>96.919727</td>\n",
       "      <td>520.0</td>\n",
       "      <td>0.040842</td>\n",
       "      <td>16.0</td>\n",
       "      <td>5.0</td>\n",
       "      <td>0.75</td>\n",
       "    </tr>\n",
       "    <tr>\n",
       "      <td>31</td>\n",
       "      <td>105.399639</td>\n",
       "      <td>ok</td>\n",
       "      <td>22.812560</td>\n",
       "      <td>107.001410</td>\n",
       "      <td>800.0</td>\n",
       "      <td>0.024484</td>\n",
       "      <td>7.0</td>\n",
       "      <td>40.0</td>\n",
       "      <td>0.50</td>\n",
       "    </tr>\n",
       "    <tr>\n",
       "      <td>32</td>\n",
       "      <td>100.105594</td>\n",
       "      <td>ok</td>\n",
       "      <td>39.074987</td>\n",
       "      <td>101.476063</td>\n",
       "      <td>660.0</td>\n",
       "      <td>0.040842</td>\n",
       "      <td>16.0</td>\n",
       "      <td>22.5</td>\n",
       "      <td>0.75</td>\n",
       "    </tr>\n",
       "    <tr>\n",
       "      <td>33</td>\n",
       "      <td>98.509006</td>\n",
       "      <td>ok</td>\n",
       "      <td>24.410152</td>\n",
       "      <td>98.751247</td>\n",
       "      <td>380.0</td>\n",
       "      <td>0.005275</td>\n",
       "      <td>14.0</td>\n",
       "      <td>5.0</td>\n",
       "      <td>0.75</td>\n",
       "    </tr>\n",
       "    <tr>\n",
       "      <td>34</td>\n",
       "      <td>102.388558</td>\n",
       "      <td>ok</td>\n",
       "      <td>27.698243</td>\n",
       "      <td>103.920236</td>\n",
       "      <td>520.0</td>\n",
       "      <td>0.003162</td>\n",
       "      <td>18.0</td>\n",
       "      <td>22.5</td>\n",
       "      <td>0.50</td>\n",
       "    </tr>\n",
       "    <tr>\n",
       "      <td>35</td>\n",
       "      <td>100.890711</td>\n",
       "      <td>ok</td>\n",
       "      <td>28.963376</td>\n",
       "      <td>101.692857</td>\n",
       "      <td>800.0</td>\n",
       "      <td>0.005275</td>\n",
       "      <td>9.0</td>\n",
       "      <td>5.0</td>\n",
       "      <td>1.00</td>\n",
       "    </tr>\n",
       "    <tr>\n",
       "      <td>36</td>\n",
       "      <td>101.555382</td>\n",
       "      <td>ok</td>\n",
       "      <td>22.845729</td>\n",
       "      <td>102.888209</td>\n",
       "      <td>520.0</td>\n",
       "      <td>0.040842</td>\n",
       "      <td>11.0</td>\n",
       "      <td>22.5</td>\n",
       "      <td>0.75</td>\n",
       "    </tr>\n",
       "    <tr>\n",
       "      <td>37</td>\n",
       "      <td>98.137866</td>\n",
       "      <td>ok</td>\n",
       "      <td>51.272374</td>\n",
       "      <td>98.931357</td>\n",
       "      <td>660.0</td>\n",
       "      <td>0.068129</td>\n",
       "      <td>20.0</td>\n",
       "      <td>5.0</td>\n",
       "      <td>0.50</td>\n",
       "    </tr>\n",
       "    <tr>\n",
       "      <td>38</td>\n",
       "      <td>96.261827</td>\n",
       "      <td>ok</td>\n",
       "      <td>49.111165</td>\n",
       "      <td>96.098132</td>\n",
       "      <td>800.0</td>\n",
       "      <td>0.014678</td>\n",
       "      <td>14.0</td>\n",
       "      <td>5.0</td>\n",
       "      <td>0.75</td>\n",
       "    </tr>\n",
       "    <tr>\n",
       "      <td>39</td>\n",
       "      <td>111.159170</td>\n",
       "      <td>ok</td>\n",
       "      <td>5.817868</td>\n",
       "      <td>112.303587</td>\n",
       "      <td>240.0</td>\n",
       "      <td>0.014678</td>\n",
       "      <td>7.0</td>\n",
       "      <td>22.5</td>\n",
       "      <td>1.00</td>\n",
       "    </tr>\n",
       "    <tr>\n",
       "      <td>40</td>\n",
       "      <td>98.509006</td>\n",
       "      <td>ok</td>\n",
       "      <td>24.410152</td>\n",
       "      <td>98.751247</td>\n",
       "      <td>380.0</td>\n",
       "      <td>0.005275</td>\n",
       "      <td>14.0</td>\n",
       "      <td>5.0</td>\n",
       "      <td>0.75</td>\n",
       "    </tr>\n",
       "    <tr>\n",
       "      <td>41</td>\n",
       "      <td>117.713364</td>\n",
       "      <td>ok</td>\n",
       "      <td>0.806550</td>\n",
       "      <td>118.928505</td>\n",
       "      <td>100.0</td>\n",
       "      <td>0.189574</td>\n",
       "      <td>5.0</td>\n",
       "      <td>5.0</td>\n",
       "      <td>1.00</td>\n",
       "    </tr>\n",
       "    <tr>\n",
       "      <td>42</td>\n",
       "      <td>103.699625</td>\n",
       "      <td>ok</td>\n",
       "      <td>27.370254</td>\n",
       "      <td>105.535214</td>\n",
       "      <td>800.0</td>\n",
       "      <td>0.008799</td>\n",
       "      <td>9.0</td>\n",
       "      <td>40.0</td>\n",
       "      <td>0.50</td>\n",
       "    </tr>\n",
       "    <tr>\n",
       "      <td>43</td>\n",
       "      <td>99.622288</td>\n",
       "      <td>ok</td>\n",
       "      <td>18.414203</td>\n",
       "      <td>100.151768</td>\n",
       "      <td>380.0</td>\n",
       "      <td>0.014678</td>\n",
       "      <td>11.0</td>\n",
       "      <td>5.0</td>\n",
       "      <td>0.75</td>\n",
       "    </tr>\n",
       "    <tr>\n",
       "      <td>44</td>\n",
       "      <td>100.265046</td>\n",
       "      <td>ok</td>\n",
       "      <td>35.009976</td>\n",
       "      <td>101.581142</td>\n",
       "      <td>660.0</td>\n",
       "      <td>0.008799</td>\n",
       "      <td>14.0</td>\n",
       "      <td>22.5</td>\n",
       "      <td>0.75</td>\n",
       "    </tr>\n",
       "    <tr>\n",
       "      <td>45</td>\n",
       "      <td>100.188851</td>\n",
       "      <td>ok</td>\n",
       "      <td>35.481001</td>\n",
       "      <td>100.192825</td>\n",
       "      <td>800.0</td>\n",
       "      <td>0.003162</td>\n",
       "      <td>11.0</td>\n",
       "      <td>5.0</td>\n",
       "      <td>1.00</td>\n",
       "    </tr>\n",
       "    <tr>\n",
       "      <td>46</td>\n",
       "      <td>100.686833</td>\n",
       "      <td>ok</td>\n",
       "      <td>25.047641</td>\n",
       "      <td>101.296994</td>\n",
       "      <td>660.0</td>\n",
       "      <td>0.014678</td>\n",
       "      <td>9.0</td>\n",
       "      <td>5.0</td>\n",
       "      <td>0.75</td>\n",
       "    </tr>\n",
       "    <tr>\n",
       "      <td>47</td>\n",
       "      <td>102.443899</td>\n",
       "      <td>ok</td>\n",
       "      <td>24.869373</td>\n",
       "      <td>104.114300</td>\n",
       "      <td>520.0</td>\n",
       "      <td>0.005275</td>\n",
       "      <td>14.0</td>\n",
       "      <td>40.0</td>\n",
       "      <td>0.75</td>\n",
       "    </tr>\n",
       "    <tr>\n",
       "      <td>48</td>\n",
       "      <td>99.720287</td>\n",
       "      <td>ok</td>\n",
       "      <td>47.586804</td>\n",
       "      <td>101.187488</td>\n",
       "      <td>800.0</td>\n",
       "      <td>0.040842</td>\n",
       "      <td>16.0</td>\n",
       "      <td>22.5</td>\n",
       "      <td>1.00</td>\n",
       "    </tr>\n",
       "    <tr>\n",
       "      <td>49</td>\n",
       "      <td>106.205796</td>\n",
       "      <td>ok</td>\n",
       "      <td>19.171135</td>\n",
       "      <td>106.877328</td>\n",
       "      <td>660.0</td>\n",
       "      <td>0.189574</td>\n",
       "      <td>7.0</td>\n",
       "      <td>5.0</td>\n",
       "      <td>0.50</td>\n",
       "    </tr>\n",
       "  </tbody>\n",
       "</table>\n",
       "</div>"
      ],
      "text/plain": [
       "       results                                 configs                \\\n",
       "          loss status   walltime    crossval num_trees learning_rate   \n",
       "0   105.852281     ok  18.738668  107.443923     660.0      0.068129   \n",
       "1   102.457369     ok  26.379866  103.943138     520.0      0.040842   \n",
       "2   103.780481     ok  20.022041  105.440611     380.0      0.005275   \n",
       "3   103.863006     ok  18.589500  105.267396     380.0      0.316228   \n",
       "4   106.355107     ok  15.844731  107.499553     520.0      0.040842   \n",
       "5   110.624199     ok   7.054958  111.103903     100.0      0.005275   \n",
       "6    98.125873     ok  45.484251   98.904690     800.0      0.316228   \n",
       "7   100.188851     ok  35.481001  100.192825     800.0      0.316228   \n",
       "8    97.463048     ok  38.262138   97.819714     800.0      0.113646   \n",
       "9   105.793100     ok   8.584146  106.456069     240.0      0.014678   \n",
       "10   98.764674     ok  57.633698   97.285296     660.0      0.113646   \n",
       "11  102.679273     ok  23.969457  103.859541     660.0      0.113646   \n",
       "12  116.177840     ok   0.843862  117.491959     100.0      0.014678   \n",
       "13   96.352653     ok  57.325639   96.179273     800.0      0.014678   \n",
       "14  106.643074     ok  12.254156  107.955176     240.0      0.014678   \n",
       "15   97.694416     ok  46.802328   96.497492     660.0      0.008799   \n",
       "16  102.319501     ok  27.169545  104.061779     520.0      0.003162   \n",
       "17   97.463048     ok  38.262138   97.819714     800.0      0.113646   \n",
       "18   96.352653     ok  57.325639   96.179273     800.0      0.024484   \n",
       "19   96.352653     ok  57.325639   96.179273     800.0      0.024484   \n",
       "20   96.471925     ok  47.092549   96.310682     660.0      0.024484   \n",
       "21   96.261827     ok  49.111165   96.098132     800.0      0.008799   \n",
       "22  100.265046     ok  35.009976  101.581142     660.0      0.005275   \n",
       "23   98.919214     ok  29.774843   99.738936     520.0      0.008799   \n",
       "24   98.311473     ok  56.178252   96.762090     800.0      0.003162   \n",
       "25  102.679273     ok  23.969457  103.859541     660.0      0.024484   \n",
       "26   98.742154     ok  32.417629   99.086185     380.0      0.008799   \n",
       "27   99.332493     ok  35.532666  100.129860     800.0      0.008799   \n",
       "28  100.056647     ok  34.962858  101.262048     660.0      0.068129   \n",
       "29  108.014600     ok  10.466990  109.575891     240.0      0.068129   \n",
       "30   97.032129     ok  36.935046   96.919727     520.0      0.040842   \n",
       "31  105.399639     ok  22.812560  107.001410     800.0      0.024484   \n",
       "32  100.105594     ok  39.074987  101.476063     660.0      0.040842   \n",
       "33   98.509006     ok  24.410152   98.751247     380.0      0.005275   \n",
       "34  102.388558     ok  27.698243  103.920236     520.0      0.003162   \n",
       "35  100.890711     ok  28.963376  101.692857     800.0      0.005275   \n",
       "36  101.555382     ok  22.845729  102.888209     520.0      0.040842   \n",
       "37   98.137866     ok  51.272374   98.931357     660.0      0.068129   \n",
       "38   96.261827     ok  49.111165   96.098132     800.0      0.014678   \n",
       "39  111.159170     ok   5.817868  112.303587     240.0      0.014678   \n",
       "40   98.509006     ok  24.410152   98.751247     380.0      0.005275   \n",
       "41  117.713364     ok   0.806550  118.928505     100.0      0.189574   \n",
       "42  103.699625     ok  27.370254  105.535214     800.0      0.008799   \n",
       "43   99.622288     ok  18.414203  100.151768     380.0      0.014678   \n",
       "44  100.265046     ok  35.009976  101.581142     660.0      0.008799   \n",
       "45  100.188851     ok  35.481001  100.192825     800.0      0.003162   \n",
       "46  100.686833     ok  25.047641  101.296994     660.0      0.014678   \n",
       "47  102.443899     ok  24.869373  104.114300     520.0      0.005275   \n",
       "48   99.720287     ok  47.586804  101.187488     800.0      0.040842   \n",
       "49  106.205796     ok  19.171135  106.877328     660.0      0.189574   \n",
       "\n",
       "                                         \n",
       "   max_depth min_child_weight subsample  \n",
       "0        7.0             40.0      0.50  \n",
       "1       16.0             22.5      0.50  \n",
       "2       18.0             40.0      0.75  \n",
       "3       14.0             22.5      0.50  \n",
       "4        7.0             22.5      0.75  \n",
       "5       20.0              5.0      1.00  \n",
       "6       14.0              5.0      0.50  \n",
       "7       11.0              5.0      1.00  \n",
       "8       11.0              5.0      0.75  \n",
       "9        9.0              5.0      0.75  \n",
       "10      20.0              5.0      1.00  \n",
       "11       9.0             22.5      0.75  \n",
       "12       5.0             40.0      1.00  \n",
       "13      16.0              5.0      0.75  \n",
       "14      18.0             22.5      0.50  \n",
       "15      16.0              5.0      1.00  \n",
       "16      18.0             40.0      0.75  \n",
       "17      11.0              5.0      0.75  \n",
       "18      16.0              5.0      0.75  \n",
       "19      16.0              5.0      0.75  \n",
       "20      16.0              5.0      0.75  \n",
       "21      14.0              5.0      0.75  \n",
       "22      14.0             22.5      0.75  \n",
       "23      14.0              5.0      0.50  \n",
       "24      18.0              5.0      1.00  \n",
       "25       9.0             22.5      0.75  \n",
       "26      20.0              5.0      0.75  \n",
       "27      11.0              5.0      0.50  \n",
       "28      14.0             22.5      1.00  \n",
       "29      18.0             40.0      0.50  \n",
       "30      16.0              5.0      0.75  \n",
       "31       7.0             40.0      0.50  \n",
       "32      16.0             22.5      0.75  \n",
       "33      14.0              5.0      0.75  \n",
       "34      18.0             22.5      0.50  \n",
       "35       9.0              5.0      1.00  \n",
       "36      11.0             22.5      0.75  \n",
       "37      20.0              5.0      0.50  \n",
       "38      14.0              5.0      0.75  \n",
       "39       7.0             22.5      1.00  \n",
       "40      14.0              5.0      0.75  \n",
       "41       5.0              5.0      1.00  \n",
       "42       9.0             40.0      0.50  \n",
       "43      11.0              5.0      0.75  \n",
       "44      14.0             22.5      0.75  \n",
       "45      11.0              5.0      1.00  \n",
       "46       9.0              5.0      0.75  \n",
       "47      14.0             40.0      0.75  \n",
       "48      16.0             22.5      1.00  \n",
       "49       7.0              5.0      0.50  "
      ]
     },
     "execution_count": 37,
     "metadata": {},
     "output_type": "execute_result"
    }
   ],
   "source": [
    "hopt_exp._hopts[0].results"
   ]
  },
  {
   "cell_type": "code",
   "execution_count": 39,
   "metadata": {},
   "outputs": [],
   "source": [
    "import pandas as pd\n",
    "rolling_min = pd.Series(\n",
    "    [hopt_exp._hopts[0].results.loc[:i, (\"results\", \"loss\")].min() for i in range(len(hopt_exp._hopts[0].results))]\n",
    ")"
   ]
  },
  {
   "cell_type": "code",
   "execution_count": 40,
   "metadata": {
    "scrolled": true
   },
   "outputs": [
    {
     "data": {
      "text/plain": [
       "0     105.852281\n",
       "1     102.457369\n",
       "2     102.457369\n",
       "3     102.457369\n",
       "4     102.457369\n",
       "5     102.457369\n",
       "6      98.125873\n",
       "7      98.125873\n",
       "8      97.463048\n",
       "9      97.463048\n",
       "10     97.463048\n",
       "11     97.463048\n",
       "12     97.463048\n",
       "13     96.352653\n",
       "14     96.352653\n",
       "15     96.352653\n",
       "16     96.352653\n",
       "17     96.352653\n",
       "18     96.352653\n",
       "19     96.352653\n",
       "20     96.352653\n",
       "21     96.261827\n",
       "22     96.261827\n",
       "23     96.261827\n",
       "24     96.261827\n",
       "25     96.261827\n",
       "26     96.261827\n",
       "27     96.261827\n",
       "28     96.261827\n",
       "29     96.261827\n",
       "30     96.261827\n",
       "31     96.261827\n",
       "32     96.261827\n",
       "33     96.261827\n",
       "34     96.261827\n",
       "35     96.261827\n",
       "36     96.261827\n",
       "37     96.261827\n",
       "38     96.261827\n",
       "39     96.261827\n",
       "40     96.261827\n",
       "41     96.261827\n",
       "42     96.261827\n",
       "43     96.261827\n",
       "44     96.261827\n",
       "45     96.261827\n",
       "46     96.261827\n",
       "47     96.261827\n",
       "48     96.261827\n",
       "49     96.261827\n",
       "dtype: float64"
      ]
     },
     "execution_count": 40,
     "metadata": {},
     "output_type": "execute_result"
    }
   ],
   "source": [
    "rolling_min"
   ]
  },
  {
   "cell_type": "code",
   "execution_count": null,
   "metadata": {},
   "outputs": [],
   "source": [
    "fig.add_trace(go.Scatter(x=idx, y=rolling_min, mode=\"lines\", name=\"Best so far\"))"
   ]
  },
  {
   "cell_type": "code",
   "execution_count": 23,
   "metadata": {},
   "outputs": [
    {
     "data": {
      "application/vnd.plotly.v1+json": {
       "config": {
        "plotlyServerURL": "https://plot.ly"
       },
       "data": [
        {
         "line": {
          "color": "red"
         },
         "name": "Naive",
         "showlegend": true,
         "type": "scatter",
         "xaxis": "x",
         "y": [
          24.55332085604304,
          24.279456436812154,
          24.139253444112708,
          24.094040653195197,
          24.094040653195197,
          24.094040653195197,
          24.074051846942677,
          24.06084281164166,
          24.06084281164166,
          24.06084281164166,
          24.06084281164166,
          24.06084281164166,
          24.06084281164166,
          24.06084281164166,
          24.06084281164166,
          24.06084281164166,
          24.06084281164166,
          24.06084281164166,
          24.06084281164166,
          24.06022665584289,
          24.0574119948434,
          24.0574119948434,
          24.0574119948434,
          24.0574119948434,
          24.055209416390426,
          24.055209416390426,
          24.055209416390426,
          24.055209416390426,
          24.053083315599075,
          24.053083315599075,
          24.053083315599075,
          24.053083315599075,
          24.053083315599075,
          24.051964589061974,
          24.051964589061974,
          24.051964589061974,
          24.051964589061974,
          24.051964589061974,
          24.051964589061974,
          24.043009209717905,
          24.043009209717905,
          24.043009209717905,
          24.043009209717905,
          24.043009209717905,
          24.043009209717905,
          24.043009209717905,
          24.043009209717905,
          24.043009209717905,
          24.043009209717905,
          24.043009209717905
         ],
         "yaxis": "y"
        },
        {
         "line": {
          "color": "blue"
         },
         "name": "Warmstarted",
         "showlegend": true,
         "type": "scatter",
         "xaxis": "x",
         "y": [
          24.073688916676378,
          24.073688916676378,
          24.073688916676378,
          24.073688916676378,
          24.073688916676378,
          24.073688916676378,
          24.073688916676378,
          24.073688916676378,
          24.073688916676378,
          24.067971897161037,
          24.063786569311738,
          24.063786569311738,
          24.063786569311738,
          24.063786569311738,
          24.063786569311738,
          24.063786569311738,
          24.063786569311738,
          24.063786569311738,
          24.063786569311738,
          24.063786569311738,
          24.06216749865447,
          24.06216749865447,
          24.06216749865447,
          24.06216749865447,
          24.06216749865447,
          24.06216749865447,
          24.058995205362454,
          24.058995205362454,
          24.058995205362454,
          24.058995205362454,
          24.054515103189853,
          24.054515103189853,
          24.054515103189853,
          24.054515103189853,
          24.054515103189853,
          24.054515103189853,
          24.054515103189853,
          24.054515103189853,
          24.054515103189853,
          24.054515103189853,
          24.054515103189853,
          24.054314925415337,
          24.054314925415337,
          24.053813725878967,
          24.053813725878967,
          24.051611147425994,
          24.051611147425994,
          24.051611147425994,
          24.051611147425994,
          24.051611147425994
         ],
         "yaxis": "y"
        },
        {
         "line": {
          "color": "green"
         },
         "name": "Coldstarted",
         "showlegend": true,
         "type": "scatter",
         "xaxis": "x",
         "y": [
          24.65505419938805,
          24.06797508537682,
          24.045574574513825,
          24.045574574513825,
          24.045574574513825,
          24.045574574513825,
          24.045574574513825,
          24.045574574513825,
          24.045574574513825,
          24.045574574513825,
          24.045574574513825,
          24.040594788169724,
          24.040594788169724,
          24.040594788169724,
          24.040594788169724,
          24.040594788169724,
          24.040594788169724,
          24.040594788169724,
          24.040594788169724,
          24.040594788169724,
          24.040594788169724,
          24.040594788169724,
          24.040594788169724,
          24.040594788169724,
          24.040594788169724,
          24.040594788169724,
          24.040594788169724,
          24.040594788169724,
          24.040594788169724,
          24.035615001825626,
          24.035615001825626,
          24.035615001825626,
          24.035615001825626,
          24.035615001825626,
          24.035615001825626,
          24.035615001825626,
          24.035615001825626,
          24.035615001825626,
          24.035615001825626,
          24.035615001825626,
          24.03552085074279,
          24.03552085074279,
          24.03552085074279,
          24.03552085074279,
          24.03552085074279,
          24.03552085074279,
          24.03552085074279,
          24.03552085074279,
          24.035426699659965,
          24.035426699659965
         ],
         "yaxis": "y"
        },
        {
         "line": {
          "color": "purple"
         },
         "name": "Random search",
         "showlegend": true,
         "type": "scatter",
         "xaxis": "x",
         "y": [
          24.29079167599474,
          24.177718334078854,
          24.161048401493638,
          24.161048401493638,
          24.145981071810706,
          24.13352532716607,
          24.09024503122584,
          24.09024503122584,
          24.09024503122584,
          24.087881158217023,
          24.08591623046781,
          24.08591623046781,
          24.081586987399486,
          24.081586987399486,
          24.081586987399486,
          24.081586987399486,
          24.081586987399486,
          24.081586987399486,
          24.076282122057712,
          24.076282122057712,
          24.076282122057712,
          24.076282122057712,
          24.076282122057712,
          24.076282122057712,
          24.076282122057712,
          24.061143085119948,
          24.061143085119948,
          24.061143085119948,
          24.061143085119948,
          24.061143085119948,
          24.061143085119948,
          24.061143085119948,
          24.05960567787177,
          24.05960567787177,
          24.05960567787177,
          24.05960567787177,
          24.05960567787177,
          24.05960567787177,
          24.05960567787177,
          24.05960567787177,
          24.05960567787177,
          24.05960567787177,
          24.05960567787177,
          24.05960567787177,
          24.05960567787177,
          24.05949580968741,
          24.05949580968741,
          24.05949580968741,
          24.05949580968741,
          24.05949580968741
         ],
         "yaxis": "y"
        },
        {
         "line": {
          "color": "red"
         },
         "name": "Naive",
         "showlegend": false,
         "type": "scatter",
         "xaxis": "x2",
         "y": [
          30.875828566599967,
          26.600717477621252,
          25.30796911962927,
          24.541593717716246,
          24.541593717716246,
          24.34028919436801,
          24.107828907933282,
          23.974871977890153,
          23.427136337748134,
          23.401569603156474,
          23.401569603156474,
          23.401569603156474,
          23.39253198022943,
          23.39253198022943,
          23.39253198022943,
          23.39253198022943,
          23.39253198022943,
          23.39253198022943,
          23.360040542022624,
          23.341607848999665,
          23.111943778393975,
          23.100169638521084,
          23.086259833896314,
          23.086259833896314,
          23.086259833896314,
          23.086259833896314,
          23.086259833896314,
          23.086259833896314,
          23.07712766119988,
          23.07712766119988,
          23.07712766119988,
          23.07712766119988,
          23.075986238723647,
          23.054284348306027,
          23.054284348306027,
          23.054284348306027,
          23.054284348306027,
          23.054284348306027,
          23.054284348306027,
          23.054284348306027,
          23.054284348306027,
          23.054284348306027,
          23.054284348306027,
          23.054284348306027,
          23.054284348306027,
          23.054284348306027,
          23.054284348306027,
          23.054284348306027,
          23.054284348306027,
          23.054284348306027
         ],
         "yaxis": "y2"
        },
        {
         "line": {
          "color": "blue"
         },
         "name": "Warmstarted",
         "showlegend": false,
         "type": "scatter",
         "xaxis": "x2",
         "y": [
          32.99456969546526,
          27.606744844296077,
          23.599820460866784,
          23.599820460866784,
          23.050170959122113,
          23.050170959122113,
          23.050170959122113,
          23.050170959122113,
          23.050170959122113,
          23.050170959122113,
          23.050170959122113,
          23.050170959122113,
          23.050170959122113,
          23.050170959122113,
          23.050170959122113,
          23.050170959122113,
          23.050170959122113,
          23.050170959122113,
          23.050170959122113,
          23.050170959122113,
          23.050170959122113,
          23.050170959122113,
          23.050170959122113,
          23.050170959122113,
          23.050170959122113,
          23.050170959122113,
          23.050170959122113,
          23.050170959122113,
          23.050170959122113,
          23.050170959122113,
          23.050170959122113,
          23.050170959122113,
          23.050170959122113,
          23.050170959122113,
          23.050170959122113,
          23.050170959122113,
          23.050170959122113,
          23.050170959122113,
          23.050170959122113,
          23.050170959122113,
          23.050170959122113,
          23.050170959122113,
          23.050170959122113,
          23.050170959122113,
          23.050170959122113,
          23.050170959122113,
          23.050170959122113,
          23.050170959122113,
          23.050170959122113,
          23.050170959122113
         ],
         "yaxis": "y2"
        },
        {
         "line": {
          "color": "green"
         },
         "name": "Coldstarted",
         "showlegend": false,
         "type": "scatter",
         "xaxis": "x2",
         "y": [
          23.48456158101008,
          23.48456158101008,
          23.48456158101008,
          23.48456158101008,
          23.070627297405213,
          23.070627297405213,
          23.070627297405213,
          23.070627297405213,
          23.070178914028617,
          23.070178914028617,
          23.070178914028617,
          23.070178914028617,
          23.070178914028617,
          23.070178914028617,
          23.070178914028617,
          23.070178914028617,
          23.070178914028617,
          23.070178914028617,
          23.070178914028617,
          23.070178914028617,
          23.067214994415743,
          23.067214994415743,
          23.066934735480853,
          23.06163835419389,
          23.061462754691945,
          23.061462754691945,
          23.061462754691945,
          23.061462754691945,
          23.061376824738034,
          23.061376824738034,
          23.061376824738034,
          23.061376824738034,
          23.061376824738034,
          23.061376824738034,
          23.061376824738034,
          23.061376824738034,
          23.061376824738034,
          23.061376824738034,
          23.061376824738034,
          23.061376824738034,
          23.061376824738034,
          23.061376824738034,
          23.061096565803144,
          23.061096565803144,
          23.061096565803144,
          23.061096565803144,
          23.058581029566863,
          23.058581029566863,
          23.058581029566863,
          23.058581029566863
         ],
         "yaxis": "y2"
        },
        {
         "line": {
          "color": "purple"
         },
         "name": "Random search",
         "showlegend": false,
         "type": "scatter",
         "xaxis": "x2",
         "y": [
          29.581035681949277,
          27.002562652950058,
          27.00004839661609,
          26.38876162577006,
          24.446184140004213,
          23.333495992829477,
          23.333495992829477,
          23.333495992829477,
          23.333495992829477,
          23.333495992829477,
          23.24184377560446,
          23.203034179400543,
          23.203034179400543,
          23.203034179400543,
          23.203034179400543,
          23.203034179400543,
          23.145376749218332,
          23.145376749218332,
          23.062589892497357,
          23.06008183132132,
          23.06008183132132,
          23.06008183132132,
          23.06008183132132,
          23.06008183132132,
          23.06008183132132,
          23.06008183132132,
          23.06008183132132,
          23.06008183132132,
          23.06008183132132,
          23.06008183132132,
          23.06008183132132,
          23.06008183132132,
          23.06008183132132,
          23.06008183132132,
          23.06008183132132,
          23.06008183132132,
          23.06008183132132,
          23.06008183132132,
          23.06008183132132,
          23.06008183132132,
          23.06008183132132,
          23.06008183132132,
          23.06008183132132,
          23.06008183132132,
          23.06008183132132,
          23.06008183132132,
          23.06008183132132,
          23.06008183132132,
          23.06008183132132,
          23.06008183132132
         ],
         "yaxis": "y2"
        },
        {
         "line": {
          "color": "red"
         },
         "name": "Naive",
         "showlegend": false,
         "type": "scatter",
         "xaxis": "x3",
         "y": [
          102.4515643600741,
          101.6630867256915,
          100.3112845082709,
          100.3112845082709,
          100.3112845082709,
          99.06196375556189,
          98.16390016766522,
          98.10088837483161,
          97.42316272126325,
          97.42316272126325,
          97.42316272126325,
          97.42316272126325,
          97.42316272126325,
          97.05799954699239,
          97.05799954699239,
          97.05799954699239,
          97.05799954699239,
          96.96083964682107,
          96.96083964682107,
          96.90908892809749,
          96.66884473619064,
          96.64500008576411,
          96.64500008576411,
          96.64500008576411,
          96.64500008576411,
          96.64500008576411,
          96.64500008576411,
          96.64500008576411,
          96.64500008576411,
          96.64500008576411,
          96.64500008576411,
          96.64500008576411,
          96.64500008576411,
          96.64500008576411,
          96.64500008576411,
          96.64500008576411,
          96.64500008576411,
          96.64500008576411,
          96.64500008576411,
          96.64500008576411,
          96.64500008576411,
          96.64500008576411,
          96.64500008576411,
          96.64500008576411,
          96.64500008576411,
          96.58803308733599,
          96.58803308733599,
          96.58803308733599,
          96.58803308733599,
          96.58803308733599
         ],
         "yaxis": "y3"
        },
        {
         "line": {
          "color": "blue"
         },
         "name": "Warmstarted",
         "showlegend": false,
         "type": "scatter",
         "xaxis": "x3",
         "y": [
          96.26182663370348,
          96.26182663370348,
          96.26182663370348,
          96.26182663370348,
          96.26182663370348,
          96.26182663370348,
          96.26182663370348,
          96.26182663370348,
          96.26182663370348,
          96.26182663370348,
          96.26182663370348,
          96.26182663370348,
          96.26182663370348,
          96.26182663370348,
          96.26182663370348,
          96.26182663370348,
          96.26182663370348,
          96.26182663370348,
          96.26182663370348,
          96.26182663370348,
          96.26182663370348,
          96.26182663370348,
          96.26182663370348,
          96.26182663370348,
          96.26182663370348,
          96.26182663370348,
          96.26182663370348,
          96.26182663370348,
          96.26182663370348,
          96.26182663370348,
          96.26182663370348,
          96.26182663370348,
          96.26182663370348,
          96.26182663370348,
          96.26182663370348,
          96.26182663370348,
          96.26182663370348,
          96.26182663370348,
          96.26182663370348,
          96.26182663370348,
          96.26182663370348,
          96.26182663370348,
          96.26182663370348,
          96.26182663370348,
          96.26182663370348,
          96.26182663370348,
          96.26182663370348,
          96.26182663370348,
          96.26182663370348,
          96.26182663370348
         ],
         "yaxis": "y3"
        },
        {
         "line": {
          "color": "green"
         },
         "name": "Coldstarted",
         "showlegend": false,
         "type": "scatter",
         "xaxis": "x3",
         "y": [
          101.46043668214672,
          101.46043668214672,
          101.46043668214672,
          99.6208202759868,
          99.33249332687764,
          99.33249332687764,
          99.33249332687764,
          98.43276418596304,
          98.43276418596304,
          98.43276418596304,
          98.43276418596304,
          98.43276418596304,
          98.43276418596304,
          98.43276418596304,
          98.43276418596304,
          98.43276418596304,
          98.35010841900453,
          98.35010841900453,
          98.35010841900453,
          97.89003559122052,
          97.89003559122052,
          97.89003559122052,
          97.89003559122052,
          97.61099318382604,
          97.45123980446272,
          97.2861807121952,
          97.2861807121952,
          97.2861807121952,
          97.25522679217758,
          97.22262509769787,
          97.22262509769787,
          97.22262509769787,
          97.18060546998146,
          97.18060546998146,
          96.85930033568364,
          96.83085798621572,
          96.6498275658262,
          96.6498275658262,
          96.6498275658262,
          96.57645127027534,
          96.57645127027534,
          96.57645127027534,
          96.57645127027534,
          96.57645127027534,
          96.57645127027534,
          96.57645127027534,
          96.57645127027534,
          96.57645127027534,
          96.57645127027534,
          96.57645127027534
         ],
         "yaxis": "y3"
        },
        {
         "line": {
          "color": "purple"
         },
         "name": "Random search",
         "showlegend": false,
         "type": "scatter",
         "xaxis": "x3",
         "y": [
          103.60558157620964,
          102.33590445782767,
          101.72152115475295,
          101.04752671675138,
          99.42254987884994,
          99.39605753366979,
          98.80671389732166,
          98.80671389732166,
          98.80671389732166,
          98.80671389732166,
          98.80671389732166,
          98.44788965376215,
          98.319736351497,
          98.319736351497,
          98.319736351497,
          98.319736351497,
          98.319736351497,
          98.319736351497,
          98.319736351497,
          97.63457177050539,
          97.5710588821269,
          97.37104170068343,
          97.37104170068343,
          97.37104170068343,
          97.37104170068343,
          97.37104170068343,
          97.37104170068343,
          97.37104170068343,
          97.37104170068343,
          97.37104170068343,
          97.37104170068343,
          97.37104170068343,
          97.37104170068343,
          97.37104170068343,
          97.37104170068343,
          97.0520154627779,
          96.981370200544,
          96.96383463325938,
          96.96383463325938,
          96.96383463325938,
          96.96383463325938,
          96.96383463325938,
          96.96383463325938,
          96.96383463325938,
          96.96383463325938,
          96.96383463325938,
          96.96383463325938,
          96.96383463325938,
          96.96383463325938,
          96.89467561805768
         ],
         "yaxis": "y3"
        }
       ],
       "layout": {
        "annotations": [
         {
          "font": {
           "size": 16
          },
          "showarrow": false,
          "text": "Dataset (a)",
          "x": 0.14444444444444446,
          "xanchor": "center",
          "xref": "paper",
          "y": 1,
          "yanchor": "bottom",
          "yref": "paper"
         },
         {
          "font": {
           "size": 16
          },
          "showarrow": false,
          "text": "Dataset (b)",
          "x": 0.5,
          "xanchor": "center",
          "xref": "paper",
          "y": 1,
          "yanchor": "bottom",
          "yref": "paper"
         },
         {
          "font": {
           "size": 16
          },
          "showarrow": false,
          "text": "Dataset (c)",
          "x": 0.8555555555555556,
          "xanchor": "center",
          "xref": "paper",
          "y": 1,
          "yanchor": "bottom",
          "yref": "paper"
         }
        ],
        "autosize": true,
        "template": {
         "data": {
          "bar": [
           {
            "error_x": {
             "color": "#2a3f5f"
            },
            "error_y": {
             "color": "#2a3f5f"
            },
            "marker": {
             "line": {
              "color": "#E5ECF6",
              "width": 0.5
             }
            },
            "type": "bar"
           }
          ],
          "barpolar": [
           {
            "marker": {
             "line": {
              "color": "#E5ECF6",
              "width": 0.5
             }
            },
            "type": "barpolar"
           }
          ],
          "carpet": [
           {
            "aaxis": {
             "endlinecolor": "#2a3f5f",
             "gridcolor": "white",
             "linecolor": "white",
             "minorgridcolor": "white",
             "startlinecolor": "#2a3f5f"
            },
            "baxis": {
             "endlinecolor": "#2a3f5f",
             "gridcolor": "white",
             "linecolor": "white",
             "minorgridcolor": "white",
             "startlinecolor": "#2a3f5f"
            },
            "type": "carpet"
           }
          ],
          "choropleth": [
           {
            "colorbar": {
             "outlinewidth": 0,
             "ticks": ""
            },
            "type": "choropleth"
           }
          ],
          "contour": [
           {
            "colorbar": {
             "outlinewidth": 0,
             "ticks": ""
            },
            "colorscale": [
             [
              0,
              "#0d0887"
             ],
             [
              0.1111111111111111,
              "#46039f"
             ],
             [
              0.2222222222222222,
              "#7201a8"
             ],
             [
              0.3333333333333333,
              "#9c179e"
             ],
             [
              0.4444444444444444,
              "#bd3786"
             ],
             [
              0.5555555555555556,
              "#d8576b"
             ],
             [
              0.6666666666666666,
              "#ed7953"
             ],
             [
              0.7777777777777778,
              "#fb9f3a"
             ],
             [
              0.8888888888888888,
              "#fdca26"
             ],
             [
              1,
              "#f0f921"
             ]
            ],
            "type": "contour"
           }
          ],
          "contourcarpet": [
           {
            "colorbar": {
             "outlinewidth": 0,
             "ticks": ""
            },
            "type": "contourcarpet"
           }
          ],
          "heatmap": [
           {
            "colorbar": {
             "outlinewidth": 0,
             "ticks": ""
            },
            "colorscale": [
             [
              0,
              "#0d0887"
             ],
             [
              0.1111111111111111,
              "#46039f"
             ],
             [
              0.2222222222222222,
              "#7201a8"
             ],
             [
              0.3333333333333333,
              "#9c179e"
             ],
             [
              0.4444444444444444,
              "#bd3786"
             ],
             [
              0.5555555555555556,
              "#d8576b"
             ],
             [
              0.6666666666666666,
              "#ed7953"
             ],
             [
              0.7777777777777778,
              "#fb9f3a"
             ],
             [
              0.8888888888888888,
              "#fdca26"
             ],
             [
              1,
              "#f0f921"
             ]
            ],
            "type": "heatmap"
           }
          ],
          "heatmapgl": [
           {
            "colorbar": {
             "outlinewidth": 0,
             "ticks": ""
            },
            "colorscale": [
             [
              0,
              "#0d0887"
             ],
             [
              0.1111111111111111,
              "#46039f"
             ],
             [
              0.2222222222222222,
              "#7201a8"
             ],
             [
              0.3333333333333333,
              "#9c179e"
             ],
             [
              0.4444444444444444,
              "#bd3786"
             ],
             [
              0.5555555555555556,
              "#d8576b"
             ],
             [
              0.6666666666666666,
              "#ed7953"
             ],
             [
              0.7777777777777778,
              "#fb9f3a"
             ],
             [
              0.8888888888888888,
              "#fdca26"
             ],
             [
              1,
              "#f0f921"
             ]
            ],
            "type": "heatmapgl"
           }
          ],
          "histogram": [
           {
            "marker": {
             "colorbar": {
              "outlinewidth": 0,
              "ticks": ""
             }
            },
            "type": "histogram"
           }
          ],
          "histogram2d": [
           {
            "colorbar": {
             "outlinewidth": 0,
             "ticks": ""
            },
            "colorscale": [
             [
              0,
              "#0d0887"
             ],
             [
              0.1111111111111111,
              "#46039f"
             ],
             [
              0.2222222222222222,
              "#7201a8"
             ],
             [
              0.3333333333333333,
              "#9c179e"
             ],
             [
              0.4444444444444444,
              "#bd3786"
             ],
             [
              0.5555555555555556,
              "#d8576b"
             ],
             [
              0.6666666666666666,
              "#ed7953"
             ],
             [
              0.7777777777777778,
              "#fb9f3a"
             ],
             [
              0.8888888888888888,
              "#fdca26"
             ],
             [
              1,
              "#f0f921"
             ]
            ],
            "type": "histogram2d"
           }
          ],
          "histogram2dcontour": [
           {
            "colorbar": {
             "outlinewidth": 0,
             "ticks": ""
            },
            "colorscale": [
             [
              0,
              "#0d0887"
             ],
             [
              0.1111111111111111,
              "#46039f"
             ],
             [
              0.2222222222222222,
              "#7201a8"
             ],
             [
              0.3333333333333333,
              "#9c179e"
             ],
             [
              0.4444444444444444,
              "#bd3786"
             ],
             [
              0.5555555555555556,
              "#d8576b"
             ],
             [
              0.6666666666666666,
              "#ed7953"
             ],
             [
              0.7777777777777778,
              "#fb9f3a"
             ],
             [
              0.8888888888888888,
              "#fdca26"
             ],
             [
              1,
              "#f0f921"
             ]
            ],
            "type": "histogram2dcontour"
           }
          ],
          "mesh3d": [
           {
            "colorbar": {
             "outlinewidth": 0,
             "ticks": ""
            },
            "type": "mesh3d"
           }
          ],
          "parcoords": [
           {
            "line": {
             "colorbar": {
              "outlinewidth": 0,
              "ticks": ""
             }
            },
            "type": "parcoords"
           }
          ],
          "scatter": [
           {
            "marker": {
             "colorbar": {
              "outlinewidth": 0,
              "ticks": ""
             }
            },
            "type": "scatter"
           }
          ],
          "scatter3d": [
           {
            "line": {
             "colorbar": {
              "outlinewidth": 0,
              "ticks": ""
             }
            },
            "marker": {
             "colorbar": {
              "outlinewidth": 0,
              "ticks": ""
             }
            },
            "type": "scatter3d"
           }
          ],
          "scattercarpet": [
           {
            "marker": {
             "colorbar": {
              "outlinewidth": 0,
              "ticks": ""
             }
            },
            "type": "scattercarpet"
           }
          ],
          "scattergeo": [
           {
            "marker": {
             "colorbar": {
              "outlinewidth": 0,
              "ticks": ""
             }
            },
            "type": "scattergeo"
           }
          ],
          "scattergl": [
           {
            "marker": {
             "colorbar": {
              "outlinewidth": 0,
              "ticks": ""
             }
            },
            "type": "scattergl"
           }
          ],
          "scattermapbox": [
           {
            "marker": {
             "colorbar": {
              "outlinewidth": 0,
              "ticks": ""
             }
            },
            "type": "scattermapbox"
           }
          ],
          "scatterpolar": [
           {
            "marker": {
             "colorbar": {
              "outlinewidth": 0,
              "ticks": ""
             }
            },
            "type": "scatterpolar"
           }
          ],
          "scatterpolargl": [
           {
            "marker": {
             "colorbar": {
              "outlinewidth": 0,
              "ticks": ""
             }
            },
            "type": "scatterpolargl"
           }
          ],
          "scatterternary": [
           {
            "marker": {
             "colorbar": {
              "outlinewidth": 0,
              "ticks": ""
             }
            },
            "type": "scatterternary"
           }
          ],
          "surface": [
           {
            "colorbar": {
             "outlinewidth": 0,
             "ticks": ""
            },
            "colorscale": [
             [
              0,
              "#0d0887"
             ],
             [
              0.1111111111111111,
              "#46039f"
             ],
             [
              0.2222222222222222,
              "#7201a8"
             ],
             [
              0.3333333333333333,
              "#9c179e"
             ],
             [
              0.4444444444444444,
              "#bd3786"
             ],
             [
              0.5555555555555556,
              "#d8576b"
             ],
             [
              0.6666666666666666,
              "#ed7953"
             ],
             [
              0.7777777777777778,
              "#fb9f3a"
             ],
             [
              0.8888888888888888,
              "#fdca26"
             ],
             [
              1,
              "#f0f921"
             ]
            ],
            "type": "surface"
           }
          ],
          "table": [
           {
            "cells": {
             "fill": {
              "color": "#EBF0F8"
             },
             "line": {
              "color": "white"
             }
            },
            "header": {
             "fill": {
              "color": "#C8D4E3"
             },
             "line": {
              "color": "white"
             }
            },
            "type": "table"
           }
          ]
         },
         "layout": {
          "annotationdefaults": {
           "arrowcolor": "#2a3f5f",
           "arrowhead": 0,
           "arrowwidth": 1
          },
          "colorscale": {
           "diverging": [
            [
             0,
             "#8e0152"
            ],
            [
             0.1,
             "#c51b7d"
            ],
            [
             0.2,
             "#de77ae"
            ],
            [
             0.3,
             "#f1b6da"
            ],
            [
             0.4,
             "#fde0ef"
            ],
            [
             0.5,
             "#f7f7f7"
            ],
            [
             0.6,
             "#e6f5d0"
            ],
            [
             0.7,
             "#b8e186"
            ],
            [
             0.8,
             "#7fbc41"
            ],
            [
             0.9,
             "#4d9221"
            ],
            [
             1,
             "#276419"
            ]
           ],
           "sequential": [
            [
             0,
             "#0d0887"
            ],
            [
             0.1111111111111111,
             "#46039f"
            ],
            [
             0.2222222222222222,
             "#7201a8"
            ],
            [
             0.3333333333333333,
             "#9c179e"
            ],
            [
             0.4444444444444444,
             "#bd3786"
            ],
            [
             0.5555555555555556,
             "#d8576b"
            ],
            [
             0.6666666666666666,
             "#ed7953"
            ],
            [
             0.7777777777777778,
             "#fb9f3a"
            ],
            [
             0.8888888888888888,
             "#fdca26"
            ],
            [
             1,
             "#f0f921"
            ]
           ],
           "sequentialminus": [
            [
             0,
             "#0d0887"
            ],
            [
             0.1111111111111111,
             "#46039f"
            ],
            [
             0.2222222222222222,
             "#7201a8"
            ],
            [
             0.3333333333333333,
             "#9c179e"
            ],
            [
             0.4444444444444444,
             "#bd3786"
            ],
            [
             0.5555555555555556,
             "#d8576b"
            ],
            [
             0.6666666666666666,
             "#ed7953"
            ],
            [
             0.7777777777777778,
             "#fb9f3a"
            ],
            [
             0.8888888888888888,
             "#fdca26"
            ],
            [
             1,
             "#f0f921"
            ]
           ]
          },
          "colorway": [
           "#636efa",
           "#EF553B",
           "#00cc96",
           "#ab63fa",
           "#FFA15A",
           "#19d3f3",
           "#FF6692",
           "#B6E880",
           "#FF97FF",
           "#FECB52"
          ],
          "font": {
           "color": "#2a3f5f"
          },
          "geo": {
           "bgcolor": "white",
           "lakecolor": "white",
           "landcolor": "#E5ECF6",
           "showlakes": true,
           "showland": true,
           "subunitcolor": "white"
          },
          "hoverlabel": {
           "align": "left"
          },
          "hovermode": "closest",
          "mapbox": {
           "style": "light"
          },
          "paper_bgcolor": "white",
          "plot_bgcolor": "#E5ECF6",
          "polar": {
           "angularaxis": {
            "gridcolor": "white",
            "linecolor": "white",
            "ticks": ""
           },
           "bgcolor": "#E5ECF6",
           "radialaxis": {
            "gridcolor": "white",
            "linecolor": "white",
            "ticks": ""
           }
          },
          "scene": {
           "xaxis": {
            "backgroundcolor": "#E5ECF6",
            "gridcolor": "white",
            "gridwidth": 2,
            "linecolor": "white",
            "showbackground": true,
            "ticks": "",
            "zerolinecolor": "white"
           },
           "yaxis": {
            "backgroundcolor": "#E5ECF6",
            "gridcolor": "white",
            "gridwidth": 2,
            "linecolor": "white",
            "showbackground": true,
            "ticks": "",
            "zerolinecolor": "white"
           },
           "zaxis": {
            "backgroundcolor": "#E5ECF6",
            "gridcolor": "white",
            "gridwidth": 2,
            "linecolor": "white",
            "showbackground": true,
            "ticks": "",
            "zerolinecolor": "white"
           }
          },
          "shapedefaults": {
           "line": {
            "color": "#2a3f5f"
           }
          },
          "ternary": {
           "aaxis": {
            "gridcolor": "white",
            "linecolor": "white",
            "ticks": ""
           },
           "baxis": {
            "gridcolor": "white",
            "linecolor": "white",
            "ticks": ""
           },
           "bgcolor": "#E5ECF6",
           "caxis": {
            "gridcolor": "white",
            "linecolor": "white",
            "ticks": ""
           }
          },
          "title": {
           "x": 0.05
          },
          "xaxis": {
           "automargin": true,
           "gridcolor": "white",
           "linecolor": "white",
           "ticks": "",
           "zerolinecolor": "white",
           "zerolinewidth": 2
          },
          "yaxis": {
           "automargin": true,
           "gridcolor": "white",
           "linecolor": "white",
           "ticks": "",
           "zerolinecolor": "white",
           "zerolinewidth": 2
          }
         }
        },
        "xaxis": {
         "anchor": "y",
         "autorange": true,
         "domain": [
          0,
          0.2888888888888889
         ],
         "range": [
          0,
          49
         ],
         "title": {
          "text": "Iterations"
         }
        },
        "xaxis2": {
         "anchor": "y2",
         "autorange": true,
         "domain": [
          0.35555555555555557,
          0.6444444444444445
         ],
         "range": [
          0,
          49
         ],
         "title": {
          "text": "Iterations"
         }
        },
        "xaxis3": {
         "anchor": "y3",
         "autorange": true,
         "domain": [
          0.7111111111111111,
          1
         ],
         "range": [
          0,
          49
         ],
         "title": {
          "text": "Iterations"
         }
        },
        "yaxis": {
         "autorange": true,
         "range": [
          24.001002949675073,
          24.689477949372943
         ],
         "title": {
          "text": "MAE"
         },
         "type": "linear"
        },
        "yaxis2": {
         "anchor": "x2",
         "autorange": true,
         "domain": [
          0,
          1
         ],
         "range": [
          22.497704362658606,
          33.54703629192877
         ],
         "type": "linear"
        },
        "yaxis3": {
         "anchor": "x3",
         "autorange": true,
         "domain": [
          0,
          1
         ],
         "range": [
          95.8538402480087,
          104.01356796190443
         ],
         "type": "linear"
        }
       }
      },
      "image/png": "[encoded data removed]",
      "text/html": [
       "<div>\n",
       "        \n",
       "        \n",
       "            <div id=\"c4163c7c-aeb3-408d-97f1-290ab1a9a218\" class=\"plotly-graph-div\" style=\"height:525px; width:1000px;\"></div>\n",
       "            <script type=\"text/javascript\">\n",
       "                require([\"plotly\"], function(Plotly) {\n",
       "                    window.PLOTLYENV=window.PLOTLYENV || {};\n",
       "                    \n",
       "                if (document.getElementById(\"c4163c7c-aeb3-408d-97f1-290ab1a9a218\")) {\n",
       "                    Plotly.newPlot(\n",
       "                        'c4163c7c-aeb3-408d-97f1-290ab1a9a218',\n",
       "                        [{\"line\": {\"color\": \"red\"}, \"name\": \"Naive\", \"showlegend\": true, \"type\": \"scatter\", \"xaxis\": \"x\", \"y\": [24.55332085604304, 24.279456436812154, 24.139253444112708, 24.094040653195197, 24.094040653195197, 24.094040653195197, 24.074051846942677, 24.06084281164166, 24.06084281164166, 24.06084281164166, 24.06084281164166, 24.06084281164166, 24.06084281164166, 24.06084281164166, 24.06084281164166, 24.06084281164166, 24.06084281164166, 24.06084281164166, 24.06084281164166, 24.06022665584289, 24.0574119948434, 24.0574119948434, 24.0574119948434, 24.0574119948434, 24.055209416390426, 24.055209416390426, 24.055209416390426, 24.055209416390426, 24.053083315599075, 24.053083315599075, 24.053083315599075, 24.053083315599075, 24.053083315599075, 24.051964589061974, 24.051964589061974, 24.051964589061974, 24.051964589061974, 24.051964589061974, 24.051964589061974, 24.043009209717905, 24.043009209717905, 24.043009209717905, 24.043009209717905, 24.043009209717905, 24.043009209717905, 24.043009209717905, 24.043009209717905, 24.043009209717905, 24.043009209717905, 24.043009209717905], \"yaxis\": \"y\"}, {\"line\": {\"color\": \"blue\"}, \"name\": \"Warmstarted\", \"showlegend\": true, \"type\": \"scatter\", \"xaxis\": \"x\", \"y\": [24.073688916676378, 24.073688916676378, 24.073688916676378, 24.073688916676378, 24.073688916676378, 24.073688916676378, 24.073688916676378, 24.073688916676378, 24.073688916676378, 24.067971897161037, 24.063786569311738, 24.063786569311738, 24.063786569311738, 24.063786569311738, 24.063786569311738, 24.063786569311738, 24.063786569311738, 24.063786569311738, 24.063786569311738, 24.063786569311738, 24.06216749865447, 24.06216749865447, 24.06216749865447, 24.06216749865447, 24.06216749865447, 24.06216749865447, 24.058995205362454, 24.058995205362454, 24.058995205362454, 24.058995205362454, 24.054515103189853, 24.054515103189853, 24.054515103189853, 24.054515103189853, 24.054515103189853, 24.054515103189853, 24.054515103189853, 24.054515103189853, 24.054515103189853, 24.054515103189853, 24.054515103189853, 24.054314925415337, 24.054314925415337, 24.053813725878967, 24.053813725878967, 24.051611147425994, 24.051611147425994, 24.051611147425994, 24.051611147425994, 24.051611147425994], \"yaxis\": \"y\"}, {\"line\": {\"color\": \"green\"}, \"name\": \"Coldstarted\", \"showlegend\": true, \"type\": \"scatter\", \"xaxis\": \"x\", \"y\": [24.65505419938805, 24.06797508537682, 24.045574574513825, 24.045574574513825, 24.045574574513825, 24.045574574513825, 24.045574574513825, 24.045574574513825, 24.045574574513825, 24.045574574513825, 24.045574574513825, 24.040594788169724, 24.040594788169724, 24.040594788169724, 24.040594788169724, 24.040594788169724, 24.040594788169724, 24.040594788169724, 24.040594788169724, 24.040594788169724, 24.040594788169724, 24.040594788169724, 24.040594788169724, 24.040594788169724, 24.040594788169724, 24.040594788169724, 24.040594788169724, 24.040594788169724, 24.040594788169724, 24.035615001825626, 24.035615001825626, 24.035615001825626, 24.035615001825626, 24.035615001825626, 24.035615001825626, 24.035615001825626, 24.035615001825626, 24.035615001825626, 24.035615001825626, 24.035615001825626, 24.03552085074279, 24.03552085074279, 24.03552085074279, 24.03552085074279, 24.03552085074279, 24.03552085074279, 24.03552085074279, 24.03552085074279, 24.035426699659965, 24.035426699659965], \"yaxis\": \"y\"}, {\"line\": {\"color\": \"purple\"}, \"name\": \"Random search\", \"showlegend\": true, \"type\": \"scatter\", \"xaxis\": \"x\", \"y\": [24.29079167599474, 24.177718334078854, 24.161048401493638, 24.161048401493638, 24.145981071810706, 24.13352532716607, 24.09024503122584, 24.09024503122584, 24.09024503122584, 24.087881158217023, 24.08591623046781, 24.08591623046781, 24.081586987399486, 24.081586987399486, 24.081586987399486, 24.081586987399486, 24.081586987399486, 24.081586987399486, 24.076282122057712, 24.076282122057712, 24.076282122057712, 24.076282122057712, 24.076282122057712, 24.076282122057712, 24.076282122057712, 24.061143085119948, 24.061143085119948, 24.061143085119948, 24.061143085119948, 24.061143085119948, 24.061143085119948, 24.061143085119948, 24.05960567787177, 24.05960567787177, 24.05960567787177, 24.05960567787177, 24.05960567787177, 24.05960567787177, 24.05960567787177, 24.05960567787177, 24.05960567787177, 24.05960567787177, 24.05960567787177, 24.05960567787177, 24.05960567787177, 24.05949580968741, 24.05949580968741, 24.05949580968741, 24.05949580968741, 24.05949580968741], \"yaxis\": \"y\"}, {\"line\": {\"color\": \"red\"}, \"name\": \"Naive\", \"showlegend\": false, \"type\": \"scatter\", \"xaxis\": \"x2\", \"y\": [30.875828566599967, 26.600717477621252, 25.30796911962927, 24.541593717716246, 24.541593717716246, 24.34028919436801, 24.107828907933282, 23.974871977890153, 23.427136337748134, 23.401569603156474, 23.401569603156474, 23.401569603156474, 23.39253198022943, 23.39253198022943, 23.39253198022943, 23.39253198022943, 23.39253198022943, 23.39253198022943, 23.360040542022624, 23.341607848999665, 23.111943778393975, 23.100169638521084, 23.086259833896314, 23.086259833896314, 23.086259833896314, 23.086259833896314, 23.086259833896314, 23.086259833896314, 23.07712766119988, 23.07712766119988, 23.07712766119988, 23.07712766119988, 23.075986238723647, 23.054284348306027, 23.054284348306027, 23.054284348306027, 23.054284348306027, 23.054284348306027, 23.054284348306027, 23.054284348306027, 23.054284348306027, 23.054284348306027, 23.054284348306027, 23.054284348306027, 23.054284348306027, 23.054284348306027, 23.054284348306027, 23.054284348306027, 23.054284348306027, 23.054284348306027], \"yaxis\": \"y2\"}, {\"line\": {\"color\": \"blue\"}, \"name\": \"Warmstarted\", \"showlegend\": false, \"type\": \"scatter\", \"xaxis\": \"x2\", \"y\": [32.99456969546526, 27.606744844296077, 23.599820460866784, 23.599820460866784, 23.050170959122113, 23.050170959122113, 23.050170959122113, 23.050170959122113, 23.050170959122113, 23.050170959122113, 23.050170959122113, 23.050170959122113, 23.050170959122113, 23.050170959122113, 23.050170959122113, 23.050170959122113, 23.050170959122113, 23.050170959122113, 23.050170959122113, 23.050170959122113, 23.050170959122113, 23.050170959122113, 23.050170959122113, 23.050170959122113, 23.050170959122113, 23.050170959122113, 23.050170959122113, 23.050170959122113, 23.050170959122113, 23.050170959122113, 23.050170959122113, 23.050170959122113, 23.050170959122113, 23.050170959122113, 23.050170959122113, 23.050170959122113, 23.050170959122113, 23.050170959122113, 23.050170959122113, 23.050170959122113, 23.050170959122113, 23.050170959122113, 23.050170959122113, 23.050170959122113, 23.050170959122113, 23.050170959122113, 23.050170959122113, 23.050170959122113, 23.050170959122113, 23.050170959122113], \"yaxis\": \"y2\"}, {\"line\": {\"color\": \"green\"}, \"name\": \"Coldstarted\", \"showlegend\": false, \"type\": \"scatter\", \"xaxis\": \"x2\", \"y\": [23.48456158101008, 23.48456158101008, 23.48456158101008, 23.48456158101008, 23.070627297405213, 23.070627297405213, 23.070627297405213, 23.070627297405213, 23.070178914028617, 23.070178914028617, 23.070178914028617, 23.070178914028617, 23.070178914028617, 23.070178914028617, 23.070178914028617, 23.070178914028617, 23.070178914028617, 23.070178914028617, 23.070178914028617, 23.070178914028617, 23.067214994415743, 23.067214994415743, 23.066934735480853, 23.06163835419389, 23.061462754691945, 23.061462754691945, 23.061462754691945, 23.061462754691945, 23.061376824738034, 23.061376824738034, 23.061376824738034, 23.061376824738034, 23.061376824738034, 23.061376824738034, 23.061376824738034, 23.061376824738034, 23.061376824738034, 23.061376824738034, 23.061376824738034, 23.061376824738034, 23.061376824738034, 23.061376824738034, 23.061096565803144, 23.061096565803144, 23.061096565803144, 23.061096565803144, 23.058581029566863, 23.058581029566863, 23.058581029566863, 23.058581029566863], \"yaxis\": \"y2\"}, {\"line\": {\"color\": \"purple\"}, \"name\": \"Random search\", \"showlegend\": false, \"type\": \"scatter\", \"xaxis\": \"x2\", \"y\": [29.581035681949277, 27.002562652950058, 27.00004839661609, 26.38876162577006, 24.446184140004213, 23.333495992829477, 23.333495992829477, 23.333495992829477, 23.333495992829477, 23.333495992829477, 23.24184377560446, 23.203034179400543, 23.203034179400543, 23.203034179400543, 23.203034179400543, 23.203034179400543, 23.145376749218332, 23.145376749218332, 23.062589892497357, 23.06008183132132, 23.06008183132132, 23.06008183132132, 23.06008183132132, 23.06008183132132, 23.06008183132132, 23.06008183132132, 23.06008183132132, 23.06008183132132, 23.06008183132132, 23.06008183132132, 23.06008183132132, 23.06008183132132, 23.06008183132132, 23.06008183132132, 23.06008183132132, 23.06008183132132, 23.06008183132132, 23.06008183132132, 23.06008183132132, 23.06008183132132, 23.06008183132132, 23.06008183132132, 23.06008183132132, 23.06008183132132, 23.06008183132132, 23.06008183132132, 23.06008183132132, 23.06008183132132, 23.06008183132132, 23.06008183132132], \"yaxis\": \"y2\"}, {\"line\": {\"color\": \"red\"}, \"name\": \"Naive\", \"showlegend\": false, \"type\": \"scatter\", \"xaxis\": \"x3\", \"y\": [102.4515643600741, 101.6630867256915, 100.3112845082709, 100.3112845082709, 100.3112845082709, 99.06196375556189, 98.16390016766522, 98.10088837483161, 97.42316272126325, 97.42316272126325, 97.42316272126325, 97.42316272126325, 97.42316272126325, 97.05799954699239, 97.05799954699239, 97.05799954699239, 97.05799954699239, 96.96083964682107, 96.96083964682107, 96.90908892809749, 96.66884473619064, 96.64500008576411, 96.64500008576411, 96.64500008576411, 96.64500008576411, 96.64500008576411, 96.64500008576411, 96.64500008576411, 96.64500008576411, 96.64500008576411, 96.64500008576411, 96.64500008576411, 96.64500008576411, 96.64500008576411, 96.64500008576411, 96.64500008576411, 96.64500008576411, 96.64500008576411, 96.64500008576411, 96.64500008576411, 96.64500008576411, 96.64500008576411, 96.64500008576411, 96.64500008576411, 96.64500008576411, 96.58803308733599, 96.58803308733599, 96.58803308733599, 96.58803308733599, 96.58803308733599], \"yaxis\": \"y3\"}, {\"line\": {\"color\": \"blue\"}, \"name\": \"Warmstarted\", \"showlegend\": false, \"type\": \"scatter\", \"xaxis\": \"x3\", \"y\": [96.26182663370348, 96.26182663370348, 96.26182663370348, 96.26182663370348, 96.26182663370348, 96.26182663370348, 96.26182663370348, 96.26182663370348, 96.26182663370348, 96.26182663370348, 96.26182663370348, 96.26182663370348, 96.26182663370348, 96.26182663370348, 96.26182663370348, 96.26182663370348, 96.26182663370348, 96.26182663370348, 96.26182663370348, 96.26182663370348, 96.26182663370348, 96.26182663370348, 96.26182663370348, 96.26182663370348, 96.26182663370348, 96.26182663370348, 96.26182663370348, 96.26182663370348, 96.26182663370348, 96.26182663370348, 96.26182663370348, 96.26182663370348, 96.26182663370348, 96.26182663370348, 96.26182663370348, 96.26182663370348, 96.26182663370348, 96.26182663370348, 96.26182663370348, 96.26182663370348, 96.26182663370348, 96.26182663370348, 96.26182663370348, 96.26182663370348, 96.26182663370348, 96.26182663370348, 96.26182663370348, 96.26182663370348, 96.26182663370348, 96.26182663370348], \"yaxis\": \"y3\"}, {\"line\": {\"color\": \"green\"}, \"name\": \"Coldstarted\", \"showlegend\": false, \"type\": \"scatter\", \"xaxis\": \"x3\", \"y\": [101.46043668214672, 101.46043668214672, 101.46043668214672, 99.6208202759868, 99.33249332687764, 99.33249332687764, 99.33249332687764, 98.43276418596304, 98.43276418596304, 98.43276418596304, 98.43276418596304, 98.43276418596304, 98.43276418596304, 98.43276418596304, 98.43276418596304, 98.43276418596304, 98.35010841900453, 98.35010841900453, 98.35010841900453, 97.89003559122052, 97.89003559122052, 97.89003559122052, 97.89003559122052, 97.61099318382604, 97.45123980446272, 97.2861807121952, 97.2861807121952, 97.2861807121952, 97.25522679217758, 97.22262509769787, 97.22262509769787, 97.22262509769787, 97.18060546998146, 97.18060546998146, 96.85930033568364, 96.83085798621572, 96.6498275658262, 96.6498275658262, 96.6498275658262, 96.57645127027534, 96.57645127027534, 96.57645127027534, 96.57645127027534, 96.57645127027534, 96.57645127027534, 96.57645127027534, 96.57645127027534, 96.57645127027534, 96.57645127027534, 96.57645127027534], \"yaxis\": \"y3\"}, {\"line\": {\"color\": \"purple\"}, \"name\": \"Random search\", \"showlegend\": false, \"type\": \"scatter\", \"xaxis\": \"x3\", \"y\": [103.60558157620964, 102.33590445782767, 101.72152115475295, 101.04752671675138, 99.42254987884994, 99.39605753366979, 98.80671389732166, 98.80671389732166, 98.80671389732166, 98.80671389732166, 98.80671389732166, 98.44788965376215, 98.319736351497, 98.319736351497, 98.319736351497, 98.319736351497, 98.319736351497, 98.319736351497, 98.319736351497, 97.63457177050539, 97.5710588821269, 97.37104170068343, 97.37104170068343, 97.37104170068343, 97.37104170068343, 97.37104170068343, 97.37104170068343, 97.37104170068343, 97.37104170068343, 97.37104170068343, 97.37104170068343, 97.37104170068343, 97.37104170068343, 97.37104170068343, 97.37104170068343, 97.0520154627779, 96.981370200544, 96.96383463325938, 96.96383463325938, 96.96383463325938, 96.96383463325938, 96.96383463325938, 96.96383463325938, 96.96383463325938, 96.96383463325938, 96.96383463325938, 96.96383463325938, 96.96383463325938, 96.96383463325938, 96.89467561805768], \"yaxis\": \"y3\"}],\n",
       "                        {\"annotations\": [{\"font\": {\"size\": 16}, \"showarrow\": false, \"text\": \"Dataset (a)\", \"x\": 0.14444444444444446, \"xanchor\": \"center\", \"xref\": \"paper\", \"y\": 1.0, \"yanchor\": \"bottom\", \"yref\": \"paper\"}, {\"font\": {\"size\": 16}, \"showarrow\": false, \"text\": \"Dataset (b)\", \"x\": 0.5, \"xanchor\": \"center\", \"xref\": \"paper\", \"y\": 1.0, \"yanchor\": \"bottom\", \"yref\": \"paper\"}, {\"font\": {\"size\": 16}, \"showarrow\": false, \"text\": \"Dataset (c)\", \"x\": 0.8555555555555556, \"xanchor\": \"center\", \"xref\": \"paper\", \"y\": 1.0, \"yanchor\": \"bottom\", \"yref\": \"paper\"}], \"template\": {\"data\": {\"bar\": [{\"error_x\": {\"color\": \"#2a3f5f\"}, \"error_y\": {\"color\": \"#2a3f5f\"}, \"marker\": {\"line\": {\"color\": \"#E5ECF6\", \"width\": 0.5}}, \"type\": \"bar\"}], \"barpolar\": [{\"marker\": {\"line\": {\"color\": \"#E5ECF6\", \"width\": 0.5}}, \"type\": \"barpolar\"}], \"carpet\": [{\"aaxis\": {\"endlinecolor\": \"#2a3f5f\", \"gridcolor\": \"white\", \"linecolor\": \"white\", \"minorgridcolor\": \"white\", \"startlinecolor\": \"#2a3f5f\"}, \"baxis\": {\"endlinecolor\": \"#2a3f5f\", \"gridcolor\": \"white\", \"linecolor\": \"white\", \"minorgridcolor\": \"white\", \"startlinecolor\": \"#2a3f5f\"}, \"type\": \"carpet\"}], \"choropleth\": [{\"colorbar\": {\"outlinewidth\": 0, \"ticks\": \"\"}, \"type\": \"choropleth\"}], \"contour\": [{\"colorbar\": {\"outlinewidth\": 0, \"ticks\": \"\"}, \"colorscale\": [[0.0, \"#0d0887\"], [0.1111111111111111, \"#46039f\"], [0.2222222222222222, \"#7201a8\"], [0.3333333333333333, \"#9c179e\"], [0.4444444444444444, \"#bd3786\"], [0.5555555555555556, \"#d8576b\"], [0.6666666666666666, \"#ed7953\"], [0.7777777777777778, \"#fb9f3a\"], [0.8888888888888888, \"#fdca26\"], [1.0, \"#f0f921\"]], \"type\": \"contour\"}], \"contourcarpet\": [{\"colorbar\": {\"outlinewidth\": 0, \"ticks\": \"\"}, \"type\": \"contourcarpet\"}], \"heatmap\": [{\"colorbar\": {\"outlinewidth\": 0, \"ticks\": \"\"}, \"colorscale\": [[0.0, \"#0d0887\"], [0.1111111111111111, \"#46039f\"], [0.2222222222222222, \"#7201a8\"], [0.3333333333333333, \"#9c179e\"], [0.4444444444444444, \"#bd3786\"], [0.5555555555555556, \"#d8576b\"], [0.6666666666666666, \"#ed7953\"], [0.7777777777777778, \"#fb9f3a\"], [0.8888888888888888, \"#fdca26\"], [1.0, \"#f0f921\"]], \"type\": \"heatmap\"}], \"heatmapgl\": [{\"colorbar\": {\"outlinewidth\": 0, \"ticks\": \"\"}, \"colorscale\": [[0.0, \"#0d0887\"], [0.1111111111111111, \"#46039f\"], [0.2222222222222222, \"#7201a8\"], [0.3333333333333333, \"#9c179e\"], [0.4444444444444444, \"#bd3786\"], [0.5555555555555556, \"#d8576b\"], [0.6666666666666666, \"#ed7953\"], [0.7777777777777778, \"#fb9f3a\"], [0.8888888888888888, \"#fdca26\"], [1.0, \"#f0f921\"]], \"type\": \"heatmapgl\"}], \"histogram\": [{\"marker\": {\"colorbar\": {\"outlinewidth\": 0, \"ticks\": \"\"}}, \"type\": \"histogram\"}], \"histogram2d\": [{\"colorbar\": {\"outlinewidth\": 0, \"ticks\": \"\"}, \"colorscale\": [[0.0, \"#0d0887\"], [0.1111111111111111, \"#46039f\"], [0.2222222222222222, \"#7201a8\"], [0.3333333333333333, \"#9c179e\"], [0.4444444444444444, \"#bd3786\"], [0.5555555555555556, \"#d8576b\"], [0.6666666666666666, \"#ed7953\"], [0.7777777777777778, \"#fb9f3a\"], [0.8888888888888888, \"#fdca26\"], [1.0, \"#f0f921\"]], \"type\": \"histogram2d\"}], \"histogram2dcontour\": [{\"colorbar\": {\"outlinewidth\": 0, \"ticks\": \"\"}, \"colorscale\": [[0.0, \"#0d0887\"], [0.1111111111111111, \"#46039f\"], [0.2222222222222222, \"#7201a8\"], [0.3333333333333333, \"#9c179e\"], [0.4444444444444444, \"#bd3786\"], [0.5555555555555556, \"#d8576b\"], [0.6666666666666666, \"#ed7953\"], [0.7777777777777778, \"#fb9f3a\"], [0.8888888888888888, \"#fdca26\"], [1.0, \"#f0f921\"]], \"type\": \"histogram2dcontour\"}], \"mesh3d\": [{\"colorbar\": {\"outlinewidth\": 0, \"ticks\": \"\"}, \"type\": \"mesh3d\"}], \"parcoords\": [{\"line\": {\"colorbar\": {\"outlinewidth\": 0, \"ticks\": \"\"}}, \"type\": \"parcoords\"}], \"scatter\": [{\"marker\": {\"colorbar\": {\"outlinewidth\": 0, \"ticks\": \"\"}}, \"type\": \"scatter\"}], \"scatter3d\": [{\"line\": {\"colorbar\": {\"outlinewidth\": 0, \"ticks\": \"\"}}, \"marker\": {\"colorbar\": {\"outlinewidth\": 0, \"ticks\": \"\"}}, \"type\": \"scatter3d\"}], \"scattercarpet\": [{\"marker\": {\"colorbar\": {\"outlinewidth\": 0, \"ticks\": \"\"}}, \"type\": \"scattercarpet\"}], \"scattergeo\": [{\"marker\": {\"colorbar\": {\"outlinewidth\": 0, \"ticks\": \"\"}}, \"type\": \"scattergeo\"}], \"scattergl\": [{\"marker\": {\"colorbar\": {\"outlinewidth\": 0, \"ticks\": \"\"}}, \"type\": \"scattergl\"}], \"scattermapbox\": [{\"marker\": {\"colorbar\": {\"outlinewidth\": 0, \"ticks\": \"\"}}, \"type\": \"scattermapbox\"}], \"scatterpolar\": [{\"marker\": {\"colorbar\": {\"outlinewidth\": 0, \"ticks\": \"\"}}, \"type\": \"scatterpolar\"}], \"scatterpolargl\": [{\"marker\": {\"colorbar\": {\"outlinewidth\": 0, \"ticks\": \"\"}}, \"type\": \"scatterpolargl\"}], \"scatterternary\": [{\"marker\": {\"colorbar\": {\"outlinewidth\": 0, \"ticks\": \"\"}}, \"type\": \"scatterternary\"}], \"surface\": [{\"colorbar\": {\"outlinewidth\": 0, \"ticks\": \"\"}, \"colorscale\": [[0.0, \"#0d0887\"], [0.1111111111111111, \"#46039f\"], [0.2222222222222222, \"#7201a8\"], [0.3333333333333333, \"#9c179e\"], [0.4444444444444444, \"#bd3786\"], [0.5555555555555556, \"#d8576b\"], [0.6666666666666666, \"#ed7953\"], [0.7777777777777778, \"#fb9f3a\"], [0.8888888888888888, \"#fdca26\"], [1.0, \"#f0f921\"]], \"type\": \"surface\"}], \"table\": [{\"cells\": {\"fill\": {\"color\": \"#EBF0F8\"}, \"line\": {\"color\": \"white\"}}, \"header\": {\"fill\": {\"color\": \"#C8D4E3\"}, \"line\": {\"color\": \"white\"}}, \"type\": \"table\"}]}, \"layout\": {\"annotationdefaults\": {\"arrowcolor\": \"#2a3f5f\", \"arrowhead\": 0, \"arrowwidth\": 1}, \"colorscale\": {\"diverging\": [[0, \"#8e0152\"], [0.1, \"#c51b7d\"], [0.2, \"#de77ae\"], [0.3, \"#f1b6da\"], [0.4, \"#fde0ef\"], [0.5, \"#f7f7f7\"], [0.6, \"#e6f5d0\"], [0.7, \"#b8e186\"], [0.8, \"#7fbc41\"], [0.9, \"#4d9221\"], [1, \"#276419\"]], \"sequential\": [[0.0, \"#0d0887\"], [0.1111111111111111, \"#46039f\"], [0.2222222222222222, \"#7201a8\"], [0.3333333333333333, \"#9c179e\"], [0.4444444444444444, \"#bd3786\"], [0.5555555555555556, \"#d8576b\"], [0.6666666666666666, \"#ed7953\"], [0.7777777777777778, \"#fb9f3a\"], [0.8888888888888888, \"#fdca26\"], [1.0, \"#f0f921\"]], \"sequentialminus\": [[0.0, \"#0d0887\"], [0.1111111111111111, \"#46039f\"], [0.2222222222222222, \"#7201a8\"], [0.3333333333333333, \"#9c179e\"], [0.4444444444444444, \"#bd3786\"], [0.5555555555555556, \"#d8576b\"], [0.6666666666666666, \"#ed7953\"], [0.7777777777777778, \"#fb9f3a\"], [0.8888888888888888, \"#fdca26\"], [1.0, \"#f0f921\"]]}, \"colorway\": [\"#636efa\", \"#EF553B\", \"#00cc96\", \"#ab63fa\", \"#FFA15A\", \"#19d3f3\", \"#FF6692\", \"#B6E880\", \"#FF97FF\", \"#FECB52\"], \"font\": {\"color\": \"#2a3f5f\"}, \"geo\": {\"bgcolor\": \"white\", \"lakecolor\": \"white\", \"landcolor\": \"#E5ECF6\", \"showlakes\": true, \"showland\": true, \"subunitcolor\": \"white\"}, \"hoverlabel\": {\"align\": \"left\"}, \"hovermode\": \"closest\", \"mapbox\": {\"style\": \"light\"}, \"paper_bgcolor\": \"white\", \"plot_bgcolor\": \"#E5ECF6\", \"polar\": {\"angularaxis\": {\"gridcolor\": \"white\", \"linecolor\": \"white\", \"ticks\": \"\"}, \"bgcolor\": \"#E5ECF6\", \"radialaxis\": {\"gridcolor\": \"white\", \"linecolor\": \"white\", \"ticks\": \"\"}}, \"scene\": {\"xaxis\": {\"backgroundcolor\": \"#E5ECF6\", \"gridcolor\": \"white\", \"gridwidth\": 2, \"linecolor\": \"white\", \"showbackground\": true, \"ticks\": \"\", \"zerolinecolor\": \"white\"}, \"yaxis\": {\"backgroundcolor\": \"#E5ECF6\", \"gridcolor\": \"white\", \"gridwidth\": 2, \"linecolor\": \"white\", \"showbackground\": true, \"ticks\": \"\", \"zerolinecolor\": \"white\"}, \"zaxis\": {\"backgroundcolor\": \"#E5ECF6\", \"gridcolor\": \"white\", \"gridwidth\": 2, \"linecolor\": \"white\", \"showbackground\": true, \"ticks\": \"\", \"zerolinecolor\": \"white\"}}, \"shapedefaults\": {\"line\": {\"color\": \"#2a3f5f\"}}, \"ternary\": {\"aaxis\": {\"gridcolor\": \"white\", \"linecolor\": \"white\", \"ticks\": \"\"}, \"baxis\": {\"gridcolor\": \"white\", \"linecolor\": \"white\", \"ticks\": \"\"}, \"bgcolor\": \"#E5ECF6\", \"caxis\": {\"gridcolor\": \"white\", \"linecolor\": \"white\", \"ticks\": \"\"}}, \"title\": {\"x\": 0.05}, \"xaxis\": {\"automargin\": true, \"gridcolor\": \"white\", \"linecolor\": \"white\", \"ticks\": \"\", \"zerolinecolor\": \"white\", \"zerolinewidth\": 2}, \"yaxis\": {\"automargin\": true, \"gridcolor\": \"white\", \"linecolor\": \"white\", \"ticks\": \"\", \"zerolinecolor\": \"white\", \"zerolinewidth\": 2}}}, \"width\": 1000, \"xaxis\": {\"anchor\": \"y\", \"domain\": [0.0, 0.2888888888888889], \"title\": {\"text\": \"Iterations\"}}, \"xaxis2\": {\"anchor\": \"y2\", \"domain\": [0.35555555555555557, 0.6444444444444445], \"title\": {\"text\": \"Iterations\"}}, \"xaxis3\": {\"anchor\": \"y3\", \"domain\": [0.7111111111111111, 1.0], \"title\": {\"text\": \"Iterations\"}}, \"yaxis\": {\"title\": {\"text\": \"MAE\"}}, \"yaxis2\": {\"anchor\": \"x2\", \"domain\": [0.0, 1.0]}, \"yaxis3\": {\"anchor\": \"x3\", \"domain\": [0.0, 1.0]}},\n",
       "                        {\"responsive\": true}\n",
       "                    ).then(function(){\n",
       "                            \n",
       "var gd = document.getElementById('c4163c7c-aeb3-408d-97f1-290ab1a9a218');\n",
       "var x = new MutationObserver(function (mutations, observer) {{\n",
       "        var display = window.getComputedStyle(gd).display;\n",
       "        if (!display || display === 'none') {{\n",
       "            console.log([gd, 'removed!']);\n",
       "            Plotly.purge(gd);\n",
       "            observer.disconnect();\n",
       "        }}\n",
       "}});\n",
       "\n",
       "// Listen for the removal of the full notebook cells\n",
       "var notebookContainer = gd.closest('#notebook-container');\n",
       "if (notebookContainer) {{\n",
       "    x.observe(notebookContainer, {childList: true});\n",
       "}}\n",
       "\n",
       "// Listen for the clearing of the current output cell\n",
       "var outputEl = gd.closest('.output');\n",
       "if (outputEl) {{\n",
       "    x.observe(outputEl, {childList: true});\n",
       "}}\n",
       "\n",
       "                        })\n",
       "                };\n",
       "                });\n",
       "            </script>\n",
       "        </div>"
      ]
     },
     "metadata": {},
     "output_type": "display_data"
    }
   ],
   "source": [
    "colors = ['red','blue','green','purple']\n",
    "legend = [True, False, False]\n",
    "\n",
    "fig = make_subplots(\n",
    "    rows=1,\n",
    "    cols=3,\n",
    "    subplot_titles=('Dataset (a)', 'Dataset (b)', 'Dataset (c)')\n",
    ")\n",
    "\n",
    "for i, sample_id in enumerate(target_ids):\n",
    "        # transform to best so far dataframe\n",
    "        data = hopt_exp.best_so_far[sample_id].mean(level='iterations')\n",
    "\n",
    "        for j, identifier in enumerate([hopt.identifier for hopt in hopt_exp._hopts]):\n",
    "            fig.add_trace(go.Scatter(\n",
    "                y = data[identifier],\n",
    "                name = identifier,\n",
    "                line = {'color': colors[j]},\n",
    "                showlegend = legend[i]\n",
    "            ),row=1, col=i+1)\n",
    "        fig.update_xaxes(title_text='Iterations', row=1, col=i+1)\n",
    "        \n",
    "        fig.update_layout(\n",
    "            width=1000,\n",
    "            yaxis=go.layout.YAxis(title='MAE')\n",
    "        )\n",
    "\n",
    "fig.show()"
   ]
  },
  {
   "cell_type": "markdown",
   "metadata": {},
   "source": [
    "# Old stuff"
   ]
  },
  {
   "cell_type": "markdown",
   "metadata": {},
   "source": [
    "### Visualizers"
   ]
  },
  {
   "cell_type": "code",
   "execution_count": null,
   "metadata": {},
   "outputs": [],
   "source": [
    "hopt_exp.visualize_avg_ranks()"
   ]
  },
  {
   "cell_type": "markdown",
   "metadata": {},
   "source": [
    "### Visualize search performance on single datasets"
   ]
  },
  {
   "cell_type": "code",
   "execution_count": null,
   "metadata": {},
   "outputs": [],
   "source": [
    "import plotly.graph_objects as go\n",
    "from plotly.subplots import make_subplots"
   ]
  },
  {
   "cell_type": "code",
   "execution_count": null,
   "metadata": {},
   "outputs": [],
   "source": [
    "colors = ['red','blue','green','black']\n",
    "legend = [True, False, False]\n",
    "\n",
    "fig = make_subplots(\n",
    "    rows=1,\n",
    "    cols=3,\n",
    "    subplot_titles=('Dataset (a)', 'Dataset (b)', 'Dataset (c)')\n",
    ")\n",
    "\n",
    "for i, sample_id in enumerate(target_ids):\n",
    "        # transform to best so far dataframe\n",
    "        data = hopt_exp.best_so_far[sample_id].mean(level='iterations')\n",
    "\n",
    "        for j, identifier in enumerate([hopt.identifier for hopt in hopt_exp._hopts]):\n",
    "            fig.add_trace(go.Scatter(\n",
    "                y = data[identifier],\n",
    "                name = identifier,\n",
    "                line = {'color': colors[j]},\n",
    "                showlegend = legend[i]\n",
    "            ),row=1, col=i+1)\n",
    "        fig.update_xaxes(title_text='Iterations', row=1, col=i+1)\n",
    "        \n",
    "        fig.update_layout(\n",
    "            width=1000,\n",
    "            yaxis=go.layout.YAxis(title='MAE')\n",
    "        )\n",
    "\n",
    "fig.show()"
   ]
  },
  {
   "cell_type": "markdown",
   "metadata": {},
   "source": [
    "### Visualize perfromance heatmap of single dataset"
   ]
  },
  {
   "cell_type": "code",
   "execution_count": null,
   "metadata": {},
   "outputs": [],
   "source": [
    "import pandas as pd\n",
    "intermediate = hopt_exp.results.stack(0)\n",
    "intermediate.columns = pd.Index(['Coldstarted', 'Bayesian', 'Random search','Warmstarted'], name='hopt')\n",
    "hopt_exp.results = intermediate.stack().unstack(2).unstack(2)"
   ]
  },
  {
   "cell_type": "code",
   "execution_count": null,
   "metadata": {},
   "outputs": [],
   "source": [
    "sample_id = target_ids[2]\n",
    "\n",
    "hopt_ids = [hopt.identifier for hopt in hopt_exp._hopts]\n",
    "result = hopt_exp.results[sample_id]\n",
    "\n",
    "fig = make_subplots(rows=1, cols=len(hopt_ids), subplot_titles=hopt_ids)\n",
    "\n",
    "for j, hopt_id in enumerate(hopt_ids):\n",
    "    data = result[hopt_id]\n",
    "    x = list(data.index.levels[1]) * hopt_exp._duplicates\n",
    "    y = data.values\n",
    "    fig.add_trace(go.Histogram2dContour(x=x, y=y, name=hopt_id, showlegend=False), row=1, col=j + 1)\n",
    "\n",
    "fig.update_yaxes(title_text=\"Mean squared error\")\n",
    "fig.update_xaxes(title_text=\"Iterations\")\n",
    "\n",
    "fig.show()"
   ]
  }
 ],
 "metadata": {
  "kernelspec": {
   "display_name": "AutoXGB Notebook",
   "language": "python",
   "name": "autoxgb_kernel"
  },
  "language_info": {
   "codemirror_mode": {
    "name": "ipython",
    "version": 3
   },
   "file_extension": ".py",
   "mimetype": "text/x-python",
   "name": "python",
   "nbconvert_exporter": "python",
   "pygments_lexer": "ipython3",
   "version": "3.6.4"
  }
 },
 "nbformat": 4,
 "nbformat_minor": 4
}
