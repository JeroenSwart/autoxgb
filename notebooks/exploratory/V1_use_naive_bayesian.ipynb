{
 "cells": [
  {
   "cell_type": "markdown",
   "metadata": {},
   "source": [
    "# create objective function"
   ]
  },
  {
   "cell_type": "code",
   "execution_count": 1,
   "metadata": {},
   "outputs": [],
   "source": [
    "from src.hyperparameter_analyses.bayesian_optimization import hyperopt_lookup_objective\n",
    "objective = hyperopt_lookup_objective('SOUTHC_box_8760')"
   ]
  },
  {
   "cell_type": "code",
   "execution_count": 2,
   "metadata": {},
   "outputs": [],
   "source": [
    "from src.hyperparameter_analyses.bayesian_optimization import Space, BayesianOptimization"
   ]
  },
  {
   "cell_type": "code",
   "execution_count": 3,
   "metadata": {},
   "outputs": [],
   "source": [
    "import numpy as np"
   ]
  },
  {
   "cell_type": "code",
   "execution_count": 28,
   "metadata": {},
   "outputs": [],
   "source": [
    "# lookup table space\n",
    "search_space = {\n",
    "    'num_trees': np.linspace(100, 800, 6),\n",
    "    'learning_rate': np.linspace(-2.5, -0.5, 10),\n",
    "    'max_depth': np.linspace(5, 20, 8),\n",
    "    'min_child_weight': np.linspace(5, 40, 3),\n",
    "    'subsample': np.linspace(0.5, 1.0, 3)\n",
    "}"
   ]
  },
  {
   "cell_type": "code",
   "execution_count": 29,
   "metadata": {},
   "outputs": [],
   "source": [
    "# Base abstraction space\n",
    "search_space = {\n",
    "    'num_trees': Space(scope=[100,800],granularity=6,rounding=1),\n",
    "    'learning_rate': Space(scope=[-2.5,-0.5],granularity=10),\n",
    "    'max_depth': Space(scope=[5,20],granularity=8,rounding=1),\n",
    "    'min_child_weight': Space(scope=[5,40],granularity=3,rounding=1),\n",
    "    'subsample': Space(scope=[0.5,1.0],granularity=3)\n",
    "}"
   ]
  },
  {
   "cell_type": "code",
   "execution_count": 37,
   "metadata": {},
   "outputs": [
    {
     "data": {
      "text/plain": [
       "{'num_trees': array([100., 240., 380., 520., 660., 800.]),\n",
       " 'learning_rate': array([-2.5       , -2.27777778, -2.05555556, -1.83333333, -1.61111111,\n",
       "        -1.38888889, -1.16666667, -0.94444444, -0.72222222, -0.5       ]),\n",
       " 'max_depth': array([ 5.        ,  7.14285714,  9.28571429, 11.42857143, 13.57142857,\n",
       "        15.71428571, 17.85714286, 20.        ]),\n",
       " 'min_child_weight': array([ 5. , 22.5, 40. ]),\n",
       " 'subsample': array([0.5 , 0.75, 1.  ])}"
      ]
     },
     "execution_count": 37,
     "metadata": {},
     "output_type": "execute_result"
    }
   ],
   "source": [
    "np_space = {key: np.linspace(\n",
    "    search_space[key]._scope[0],\n",
    "    search_space[key]._scope[1],\n",
    "    search_space[key].granularity) for key in search_space.keys()}"
   ]
  },
  {
   "cell_type": "code",
   "execution_count": 34,
   "metadata": {},
   "outputs": [],
   "source": [
    "hyp = {'num_trees': 2, 'learning_rate': 4, 'max_depth': 6, 'min_child_weight': 1, 'subsample': 2}"
   ]
  },
  {
   "cell_type": "code",
   "execution_count": 41,
   "metadata": {},
   "outputs": [
    {
     "data": {
      "text/plain": [
       "{'num_trees': 380.0,\n",
       " 'learning_rate': -1.6111111111111112,\n",
       " 'max_depth': 17.857142857142858,\n",
       " 'min_child_weight': 22.5,\n",
       " 'subsample': 1.0}"
      ]
     },
     "execution_count": 41,
     "metadata": {},
     "output_type": "execute_result"
    }
   ],
   "source": [
    "{key: np_space[key][hyp[key]] for key in search_space.keys()}"
   ]
  },
  {
   "cell_type": "code",
   "execution_count": 3,
   "metadata": {},
   "outputs": [
    {
     "ename": "NameError",
     "evalue": "name 'search_space' is not defined",
     "output_type": "error",
     "traceback": [
      "\u001b[0;31m---------------------------------------------------------------------------\u001b[0m",
      "\u001b[0;31mNameError\u001b[0m                                 Traceback (most recent call last)",
      "\u001b[0;32m<ipython-input-3-99a333f5626f>\u001b[0m in \u001b[0;36m<module>\u001b[0;34m\u001b[0m\n\u001b[1;32m      1\u001b[0m bay_opt = BayesianOptimization(\n\u001b[0;32m----> 2\u001b[0;31m     \u001b[0msearch_space\u001b[0m\u001b[0;34m=\u001b[0m\u001b[0msearch_space\u001b[0m\u001b[0;34m,\u001b[0m\u001b[0;34m\u001b[0m\u001b[0m\n\u001b[0m\u001b[1;32m      3\u001b[0m     \u001b[0mobjective\u001b[0m\u001b[0;34m=\u001b[0m\u001b[0mobjective\u001b[0m\u001b[0;34m,\u001b[0m\u001b[0;34m\u001b[0m\u001b[0m\n\u001b[1;32m      4\u001b[0m     \u001b[0mmax_evals\u001b[0m\u001b[0;34m=\u001b[0m\u001b[0;36m10\u001b[0m\u001b[0;34m,\u001b[0m\u001b[0;34m\u001b[0m\u001b[0m\n\u001b[1;32m      5\u001b[0m     \u001b[0malgo\u001b[0m\u001b[0;34m=\u001b[0m\u001b[0;34m'tpe'\u001b[0m\u001b[0;34m\u001b[0m\u001b[0m\n",
      "\u001b[0;31mNameError\u001b[0m: name 'search_space' is not defined"
     ]
    }
   ],
   "source": [
    "bay_opt = BayesianOptimization(\n",
    "    search_space=search_space,\n",
    "    objective=objective,\n",
    "    max_evals=10,\n",
    "    algo='tpe'\n",
    ")"
   ]
  },
  {
   "cell_type": "code",
   "execution_count": null,
   "metadata": {},
   "outputs": [],
   "source": [
    "bay_result = bay_opt.run_analysis()"
   ]
  },
  {
   "cell_type": "markdown",
   "metadata": {},
   "source": [
    "# Search space transformation for hyperopt"
   ]
  },
  {
   "cell_type": "code",
   "execution_count": 41,
   "metadata": {},
   "outputs": [
    {
     "data": {
      "text/plain": [
       "array([2.])"
      ]
     },
     "execution_count": 41,
     "metadata": {},
     "output_type": "execute_result"
    }
   ],
   "source": [
    "import numpy as np\n",
    "a = np.linspace(2,7,1.5)\n",
    "a"
   ]
  },
  {
   "cell_type": "code",
   "execution_count": 38,
   "metadata": {},
   "outputs": [
    {
     "data": {
      "text/plain": [
       "8"
      ]
     },
     "execution_count": 38,
     "metadata": {},
     "output_type": "execute_result"
    }
   ],
   "source": [
    "len(a)"
   ]
  },
  {
   "cell_type": "code",
   "execution_count": null,
   "metadata": {},
   "outputs": [],
   "source": [
    "[1,2,3,4,5,6,7,8]"
   ]
  },
  {
   "cell_type": "code",
   "execution_count": 27,
   "metadata": {},
   "outputs": [],
   "source": [
    "import pandas as pd"
   ]
  },
  {
   "cell_type": "code",
   "execution_count": 32,
   "metadata": {},
   "outputs": [],
   "source": [
    "name = 'COAST_diff_8760'\n",
    "params = {'max_depth': 9.0, 'learning_rate': 0.008799225435691074, 'min_child_weight': 5.0, 'subsample': 0.5, 'num_trees': 380.0}"
   ]
  },
  {
   "cell_type": "code",
   "execution_count": 34,
   "metadata": {},
   "outputs": [
    {
     "data": {
      "text/plain": [
       "161.7836431155196"
      ]
     },
     "execution_count": 34,
     "metadata": {},
     "output_type": "execute_result"
    }
   ],
   "source": [
    "# import lookup table\n",
    "lookup_table = pd.read_csv('../../data/metadata/raw/' + name + '.csv', index_col=0, header=[0, 1])\n",
    "# get row index\n",
    "idx = lookup_table.index[\n",
    "    (lookup_table['hyperparameters']['max_depth'] == params['max_depth']) &\n",
    "    (lookup_table['hyperparameters']['learning_rate'] == params['learning_rate']) &\n",
    "    (lookup_table['hyperparameters']['min_child_weight'] == params['min_child_weight']) &\n",
    "    (lookup_table['hyperparameters']['subsample'] == params['subsample']) &\n",
    "    (lookup_table['hyperparameters']['num_trees'] == params['num_trees'])\n",
    "    ]\n",
    "result = lookup_table.iloc[idx]['diagnostics']['mae'].squeeze()\n",
    "result"
   ]
  }
 ],
 "metadata": {
  "kernelspec": {
   "display_name": "AutoXGB Notebook",
   "language": "python",
   "name": "autoxgb_kernel"
  },
  "language_info": {
   "codemirror_mode": {
    "name": "ipython",
    "version": 3
   },
   "file_extension": ".py",
   "mimetype": "text/x-python",
   "name": "python",
   "nbconvert_exporter": "python",
   "pygments_lexer": "ipython3",
   "version": "3.6.4"
  }
 },
 "nbformat": 4,
 "nbformat_minor": 4
}
