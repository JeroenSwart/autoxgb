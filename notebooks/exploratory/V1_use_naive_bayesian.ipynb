{
 "cells": [
  {
   "cell_type": "markdown",
   "metadata": {},
   "source": [
    "# Importing a lookup table"
   ]
  },
  {
   "cell_type": "code",
   "execution_count": 1,
   "metadata": {},
   "outputs": [],
   "source": [
    "#import pandas as pd\n",
    "import numpy as np\n",
    "from src.data.make_dataset import make_grid_lookuptable"
   ]
  },
  {
   "cell_type": "code",
   "execution_count": 2,
   "metadata": {},
   "outputs": [],
   "source": [
    "df = make_grid_lookuptable('SOUTHC_box_8760')"
   ]
  },
  {
   "cell_type": "markdown",
   "metadata": {},
   "source": [
    "# Using Bayesian optimization class (will inherit from HyperparameterAnalysis in future)"
   ]
  },
  {
   "cell_type": "code",
   "execution_count": 1,
   "metadata": {},
   "outputs": [],
   "source": [
    "from src.hyperparameter_analyses.bayesian_optimization import create_lookup_objective"
   ]
  },
  {
   "cell_type": "code",
   "execution_count": 3,
   "metadata": {},
   "outputs": [],
   "source": [
    "objective = create_lookup_objective('SOUTHC_box_8760')"
   ]
  },
  {
   "cell_type": "code",
   "execution_count": null,
   "metadata": {},
   "outputs": [],
   "source": [
    "search_space = [\n",
    "    Space('num_trees', scope=[100,800], scale='linear' granularity=6, rounding=1),\n",
    "    Space('learning_rate', scope=[-2.5,-0.5], scale='log' granularity=10),\n",
    "    Space('max_depth', scope=[5,20], scale='linear' granularity=8, rounding=1),\n",
    "    Space('min_child_weight', scope=[5,40], scale='linear' granularity=3),\n",
    "    Space('subsample', scope=[0.5,1.0], scale='linear' granularity=3)\n",
    "]"
   ]
  },
  {
   "cell_type": "code",
   "execution_count": null,
   "metadata": {},
   "outputs": [],
   "source": [
    "bay_opt = BayesianOptimization(\n",
    "    search_space=search_space,\n",
    "    objective=objective,\n",
    "    algo='tpe',\n",
    "    max_evals=max_evals\n",
    ")"
   ]
  },
  {
   "cell_type": "code",
   "execution_count": null,
   "metadata": {},
   "outputs": [],
   "source": [
    "bay_result = bay_opt.run_analysis()"
   ]
  }
 ],
 "metadata": {
  "kernelspec": {
   "display_name": "AutoXGB Notebook",
   "language": "python",
   "name": "autoxgb_kernel"
  },
  "language_info": {
   "codemirror_mode": {
    "name": "ipython",
    "version": 3
   },
   "file_extension": ".py",
   "mimetype": "text/x-python",
   "name": "python",
   "nbconvert_exporter": "python",
   "pygments_lexer": "ipython3",
   "version": "3.6.4"
  }
 },
 "nbformat": 4,
 "nbformat_minor": 4
}
