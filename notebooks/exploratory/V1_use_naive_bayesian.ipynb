{
 "cells": [
  {
   "cell_type": "markdown",
   "metadata": {},
   "source": [
    "# how to use bayesian optimization"
   ]
  },
  {
   "cell_type": "code",
   "execution_count": 1,
   "metadata": {},
   "outputs": [],
   "source": [
    "import pandas as pd\n",
    "import numpy as np\n",
    "from src.data.make_dataset import thesis_lookup_objective, thesis_search_space\n",
    "from src.hyperparameter_analyses.bayesian_optimization import BayesianOptimization\n",
    "from src.hyperparameter_analyses.bayesian_optimization import Config\n",
    "from src.visualization.visualize import visualize_search_performance, compare_search_performance"
   ]
  },
  {
   "cell_type": "code",
   "execution_count": 2,
   "metadata": {},
   "outputs": [],
   "source": [
    "objective = thesis_lookup_objective('WEST_diff_17520')\n",
    "search_space = thesis_search_space()"
   ]
  },
  {
   "cell_type": "code",
   "execution_count": 3,
   "metadata": {},
   "outputs": [],
   "source": [
    "bay_opt = BayesianOptimization(\n",
    "    search_space=search_space,\n",
    "    objective=objective,\n",
    "    max_evals=100,\n",
    "    algo='tpe'\n",
    ")"
   ]
  },
  {
   "cell_type": "code",
   "execution_count": 4,
   "metadata": {
    "scrolled": true
   },
   "outputs": [
    {
     "name": "stdout",
     "output_type": "stream",
     "text": [
      "100%|██████████| 100/100 [00:09<00:00, 11.06it/s, best loss: 13.550832541979823]\n"
     ]
    }
   ],
   "source": [
    "results = bay_opt.run_analysis()"
   ]
  }
 ],
 "metadata": {
  "kernelspec": {
   "display_name": "AutoXGB Notebook",
   "language": "python",
   "name": "autoxgb_kernel"
  },
  "language_info": {
   "codemirror_mode": {
    "name": "ipython",
    "version": 3
   },
   "file_extension": ".py",
   "mimetype": "text/x-python",
   "name": "python",
   "nbconvert_exporter": "python",
   "pygments_lexer": "ipython3",
   "version": "3.6.4"
  }
 },
 "nbformat": 4,
 "nbformat_minor": 4
}
