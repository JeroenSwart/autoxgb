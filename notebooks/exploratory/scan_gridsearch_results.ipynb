{
 "cells": [
  {
   "cell_type": "code",
   "execution_count": 1,
   "metadata": {},
   "outputs": [
    {
     "data": {
      "text/html": [
       "        <script type=\"text/javascript\">\n",
       "        window.PlotlyConfig = {MathJaxConfig: 'local'};\n",
       "        if (window.MathJax) {MathJax.Hub.Config({SVG: {font: \"STIX-Web\"}});}\n",
       "        if (typeof require !== 'undefined') {\n",
       "        require.undef(\"plotly\");\n",
       "        requirejs.config({\n",
       "            paths: {\n",
       "                'plotly': ['https://cdn.plot.ly/plotly-latest.min']\n",
       "            }\n",
       "        });\n",
       "        require(['plotly'], function(Plotly) {\n",
       "            window._Plotly = Plotly;\n",
       "        });\n",
       "        }\n",
       "        </script>\n",
       "        "
      ]
     },
     "metadata": {},
     "output_type": "display_data"
    }
   ],
   "source": [
    "from hyperopt import hp\n",
    "import datetime\n",
    "import numpy as np\n",
    "import os\n",
    "import pandas as pd\n",
    "import plotly.express as px\n",
    "\n",
    "# Location\n",
    "#/Users/Jeroen/Code/autoxgb/temp_notebooks\n",
    "DATA_DIR = '/Users/Jeroen/Code/autoxgb/data/metadata/raw/'\n",
    "\n",
    "# Create directories for visualizations if they don't exist yet.\n",
    "for dir_path in [DATA_DIR]:\n",
    "    if not os.path.exists(dir_path):\n",
    "        os.makedirs(dir_path)\n",
    "\n",
    "import plotly.offline as py\n",
    "import plotly.graph_objects as go\n",
    "py.init_notebook_mode(connected=True)"
   ]
  },
  {
   "cell_type": "markdown",
   "metadata": {},
   "source": [
    "# Search Space bounds choice\n",
    "\n",
    "This notebook will show how the bounds of the search domain are derived. Some points to take into consideration:\n",
    "- a too large space:\n",
    "    - no fair comparison warmstart/naive\n",
    "    - not granular enough??\n",
    "    - computational complexity blows up for high max_depth and num_trees\n",
    " - a too small space:\n",
    "    - the optimum is not representative of the global optimum? -> might mix up the usability of metafeatures?\n",
    "        - dataset length might indicate a num_trees/learning_rate ratio?\n",
    "        - overfitting, don't know specifically?"
   ]
  },
  {
   "cell_type": "markdown",
   "metadata": {},
   "source": [
    "### Bounds constraints visualization"
   ]
  },
  {
   "cell_type": "markdown",
   "metadata": {},
   "source": [
    "1. histogram of best 10% hyperparameters for one search_frame"
   ]
  },
  {
   "cell_type": "code",
   "execution_count": 2,
   "metadata": {},
   "outputs": [],
   "source": [
    "df = pd.read_csv(DATA_DIR + 'COAST_box_17520.csv', index_col=0, header=[0,1])"
   ]
  },
  {
   "cell_type": "code",
   "execution_count": 3,
   "metadata": {},
   "outputs": [],
   "source": [
    "nt = df.iloc[:30]['hyperparameters']"
   ]
  },
  {
   "cell_type": "code",
   "execution_count": 4,
   "metadata": {},
   "outputs": [],
   "source": [
    "fig = px.histogram(nt, x='max_depth', nbins=20)"
   ]
  },
  {
   "cell_type": "code",
   "execution_count": 5,
   "metadata": {},
   "outputs": [
    {
     "data": {
      "application/vnd.plotly.v1+json": {
       "config": {
        "plotlyServerURL": "https://plot.ly"
       },
       "data": [
        {
         "alignmentgroup": "True",
         "bingroup": "x",
         "hoverlabel": {
          "namelength": 0
         },
         "hovertemplate": "max_depth=%{x}<br>count=%{y}",
         "legendgroup": "",
         "marker": {
          "color": "#636efa"
         },
         "name": "",
         "nbinsx": 20,
         "offsetgroup": "",
         "orientation": "v",
         "showlegend": false,
         "type": "histogram",
         "x": [
          5,
          5,
          5,
          5,
          5,
          5,
          5,
          5,
          5,
          7,
          7,
          7,
          7,
          7,
          7,
          7,
          7,
          7,
          9,
          9,
          9,
          9,
          9,
          9,
          9,
          9,
          9,
          11,
          11,
          11
         ],
         "xaxis": "x",
         "yaxis": "y"
        }
       ],
       "layout": {
        "autosize": true,
        "barmode": "relative",
        "legend": {
         "tracegroupgap": 0
        },
        "margin": {
         "t": 60
        },
        "template": {
         "data": {
          "bar": [
           {
            "error_x": {
             "color": "#2a3f5f"
            },
            "error_y": {
             "color": "#2a3f5f"
            },
            "marker": {
             "line": {
              "color": "#E5ECF6",
              "width": 0.5
             }
            },
            "type": "bar"
           }
          ],
          "barpolar": [
           {
            "marker": {
             "line": {
              "color": "#E5ECF6",
              "width": 0.5
             }
            },
            "type": "barpolar"
           }
          ],
          "carpet": [
           {
            "aaxis": {
             "endlinecolor": "#2a3f5f",
             "gridcolor": "white",
             "linecolor": "white",
             "minorgridcolor": "white",
             "startlinecolor": "#2a3f5f"
            },
            "baxis": {
             "endlinecolor": "#2a3f5f",
             "gridcolor": "white",
             "linecolor": "white",
             "minorgridcolor": "white",
             "startlinecolor": "#2a3f5f"
            },
            "type": "carpet"
           }
          ],
          "choropleth": [
           {
            "colorbar": {
             "outlinewidth": 0,
             "ticks": ""
            },
            "type": "choropleth"
           }
          ],
          "contour": [
           {
            "colorbar": {
             "outlinewidth": 0,
             "ticks": ""
            },
            "colorscale": [
             [
              0,
              "#0d0887"
             ],
             [
              0.1111111111111111,
              "#46039f"
             ],
             [
              0.2222222222222222,
              "#7201a8"
             ],
             [
              0.3333333333333333,
              "#9c179e"
             ],
             [
              0.4444444444444444,
              "#bd3786"
             ],
             [
              0.5555555555555556,
              "#d8576b"
             ],
             [
              0.6666666666666666,
              "#ed7953"
             ],
             [
              0.7777777777777778,
              "#fb9f3a"
             ],
             [
              0.8888888888888888,
              "#fdca26"
             ],
             [
              1,
              "#f0f921"
             ]
            ],
            "type": "contour"
           }
          ],
          "contourcarpet": [
           {
            "colorbar": {
             "outlinewidth": 0,
             "ticks": ""
            },
            "type": "contourcarpet"
           }
          ],
          "heatmap": [
           {
            "colorbar": {
             "outlinewidth": 0,
             "ticks": ""
            },
            "colorscale": [
             [
              0,
              "#0d0887"
             ],
             [
              0.1111111111111111,
              "#46039f"
             ],
             [
              0.2222222222222222,
              "#7201a8"
             ],
             [
              0.3333333333333333,
              "#9c179e"
             ],
             [
              0.4444444444444444,
              "#bd3786"
             ],
             [
              0.5555555555555556,
              "#d8576b"
             ],
             [
              0.6666666666666666,
              "#ed7953"
             ],
             [
              0.7777777777777778,
              "#fb9f3a"
             ],
             [
              0.8888888888888888,
              "#fdca26"
             ],
             [
              1,
              "#f0f921"
             ]
            ],
            "type": "heatmap"
           }
          ],
          "heatmapgl": [
           {
            "colorbar": {
             "outlinewidth": 0,
             "ticks": ""
            },
            "colorscale": [
             [
              0,
              "#0d0887"
             ],
             [
              0.1111111111111111,
              "#46039f"
             ],
             [
              0.2222222222222222,
              "#7201a8"
             ],
             [
              0.3333333333333333,
              "#9c179e"
             ],
             [
              0.4444444444444444,
              "#bd3786"
             ],
             [
              0.5555555555555556,
              "#d8576b"
             ],
             [
              0.6666666666666666,
              "#ed7953"
             ],
             [
              0.7777777777777778,
              "#fb9f3a"
             ],
             [
              0.8888888888888888,
              "#fdca26"
             ],
             [
              1,
              "#f0f921"
             ]
            ],
            "type": "heatmapgl"
           }
          ],
          "histogram": [
           {
            "marker": {
             "colorbar": {
              "outlinewidth": 0,
              "ticks": ""
             }
            },
            "type": "histogram"
           }
          ],
          "histogram2d": [
           {
            "colorbar": {
             "outlinewidth": 0,
             "ticks": ""
            },
            "colorscale": [
             [
              0,
              "#0d0887"
             ],
             [
              0.1111111111111111,
              "#46039f"
             ],
             [
              0.2222222222222222,
              "#7201a8"
             ],
             [
              0.3333333333333333,
              "#9c179e"
             ],
             [
              0.4444444444444444,
              "#bd3786"
             ],
             [
              0.5555555555555556,
              "#d8576b"
             ],
             [
              0.6666666666666666,
              "#ed7953"
             ],
             [
              0.7777777777777778,
              "#fb9f3a"
             ],
             [
              0.8888888888888888,
              "#fdca26"
             ],
             [
              1,
              "#f0f921"
             ]
            ],
            "type": "histogram2d"
           }
          ],
          "histogram2dcontour": [
           {
            "colorbar": {
             "outlinewidth": 0,
             "ticks": ""
            },
            "colorscale": [
             [
              0,
              "#0d0887"
             ],
             [
              0.1111111111111111,
              "#46039f"
             ],
             [
              0.2222222222222222,
              "#7201a8"
             ],
             [
              0.3333333333333333,
              "#9c179e"
             ],
             [
              0.4444444444444444,
              "#bd3786"
             ],
             [
              0.5555555555555556,
              "#d8576b"
             ],
             [
              0.6666666666666666,
              "#ed7953"
             ],
             [
              0.7777777777777778,
              "#fb9f3a"
             ],
             [
              0.8888888888888888,
              "#fdca26"
             ],
             [
              1,
              "#f0f921"
             ]
            ],
            "type": "histogram2dcontour"
           }
          ],
          "mesh3d": [
           {
            "colorbar": {
             "outlinewidth": 0,
             "ticks": ""
            },
            "type": "mesh3d"
           }
          ],
          "parcoords": [
           {
            "line": {
             "colorbar": {
              "outlinewidth": 0,
              "ticks": ""
             }
            },
            "type": "parcoords"
           }
          ],
          "scatter": [
           {
            "marker": {
             "colorbar": {
              "outlinewidth": 0,
              "ticks": ""
             }
            },
            "type": "scatter"
           }
          ],
          "scatter3d": [
           {
            "line": {
             "colorbar": {
              "outlinewidth": 0,
              "ticks": ""
             }
            },
            "marker": {
             "colorbar": {
              "outlinewidth": 0,
              "ticks": ""
             }
            },
            "type": "scatter3d"
           }
          ],
          "scattercarpet": [
           {
            "marker": {
             "colorbar": {
              "outlinewidth": 0,
              "ticks": ""
             }
            },
            "type": "scattercarpet"
           }
          ],
          "scattergeo": [
           {
            "marker": {
             "colorbar": {
              "outlinewidth": 0,
              "ticks": ""
             }
            },
            "type": "scattergeo"
           }
          ],
          "scattergl": [
           {
            "marker": {
             "colorbar": {
              "outlinewidth": 0,
              "ticks": ""
             }
            },
            "type": "scattergl"
           }
          ],
          "scattermapbox": [
           {
            "marker": {
             "colorbar": {
              "outlinewidth": 0,
              "ticks": ""
             }
            },
            "type": "scattermapbox"
           }
          ],
          "scatterpolar": [
           {
            "marker": {
             "colorbar": {
              "outlinewidth": 0,
              "ticks": ""
             }
            },
            "type": "scatterpolar"
           }
          ],
          "scatterpolargl": [
           {
            "marker": {
             "colorbar": {
              "outlinewidth": 0,
              "ticks": ""
             }
            },
            "type": "scatterpolargl"
           }
          ],
          "scatterternary": [
           {
            "marker": {
             "colorbar": {
              "outlinewidth": 0,
              "ticks": ""
             }
            },
            "type": "scatterternary"
           }
          ],
          "surface": [
           {
            "colorbar": {
             "outlinewidth": 0,
             "ticks": ""
            },
            "colorscale": [
             [
              0,
              "#0d0887"
             ],
             [
              0.1111111111111111,
              "#46039f"
             ],
             [
              0.2222222222222222,
              "#7201a8"
             ],
             [
              0.3333333333333333,
              "#9c179e"
             ],
             [
              0.4444444444444444,
              "#bd3786"
             ],
             [
              0.5555555555555556,
              "#d8576b"
             ],
             [
              0.6666666666666666,
              "#ed7953"
             ],
             [
              0.7777777777777778,
              "#fb9f3a"
             ],
             [
              0.8888888888888888,
              "#fdca26"
             ],
             [
              1,
              "#f0f921"
             ]
            ],
            "type": "surface"
           }
          ],
          "table": [
           {
            "cells": {
             "fill": {
              "color": "#EBF0F8"
             },
             "line": {
              "color": "white"
             }
            },
            "header": {
             "fill": {
              "color": "#C8D4E3"
             },
             "line": {
              "color": "white"
             }
            },
            "type": "table"
           }
          ]
         },
         "layout": {
          "annotationdefaults": {
           "arrowcolor": "#2a3f5f",
           "arrowhead": 0,
           "arrowwidth": 1
          },
          "colorscale": {
           "diverging": [
            [
             0,
             "#8e0152"
            ],
            [
             0.1,
             "#c51b7d"
            ],
            [
             0.2,
             "#de77ae"
            ],
            [
             0.3,
             "#f1b6da"
            ],
            [
             0.4,
             "#fde0ef"
            ],
            [
             0.5,
             "#f7f7f7"
            ],
            [
             0.6,
             "#e6f5d0"
            ],
            [
             0.7,
             "#b8e186"
            ],
            [
             0.8,
             "#7fbc41"
            ],
            [
             0.9,
             "#4d9221"
            ],
            [
             1,
             "#276419"
            ]
           ],
           "sequential": [
            [
             0,
             "#0d0887"
            ],
            [
             0.1111111111111111,
             "#46039f"
            ],
            [
             0.2222222222222222,
             "#7201a8"
            ],
            [
             0.3333333333333333,
             "#9c179e"
            ],
            [
             0.4444444444444444,
             "#bd3786"
            ],
            [
             0.5555555555555556,
             "#d8576b"
            ],
            [
             0.6666666666666666,
             "#ed7953"
            ],
            [
             0.7777777777777778,
             "#fb9f3a"
            ],
            [
             0.8888888888888888,
             "#fdca26"
            ],
            [
             1,
             "#f0f921"
            ]
           ],
           "sequentialminus": [
            [
             0,
             "#0d0887"
            ],
            [
             0.1111111111111111,
             "#46039f"
            ],
            [
             0.2222222222222222,
             "#7201a8"
            ],
            [
             0.3333333333333333,
             "#9c179e"
            ],
            [
             0.4444444444444444,
             "#bd3786"
            ],
            [
             0.5555555555555556,
             "#d8576b"
            ],
            [
             0.6666666666666666,
             "#ed7953"
            ],
            [
             0.7777777777777778,
             "#fb9f3a"
            ],
            [
             0.8888888888888888,
             "#fdca26"
            ],
            [
             1,
             "#f0f921"
            ]
           ]
          },
          "colorway": [
           "#636efa",
           "#EF553B",
           "#00cc96",
           "#ab63fa",
           "#FFA15A",
           "#19d3f3",
           "#FF6692",
           "#B6E880",
           "#FF97FF",
           "#FECB52"
          ],
          "font": {
           "color": "#2a3f5f"
          },
          "geo": {
           "bgcolor": "white",
           "lakecolor": "white",
           "landcolor": "#E5ECF6",
           "showlakes": true,
           "showland": true,
           "subunitcolor": "white"
          },
          "hoverlabel": {
           "align": "left"
          },
          "hovermode": "closest",
          "mapbox": {
           "style": "light"
          },
          "paper_bgcolor": "white",
          "plot_bgcolor": "#E5ECF6",
          "polar": {
           "angularaxis": {
            "gridcolor": "white",
            "linecolor": "white",
            "ticks": ""
           },
           "bgcolor": "#E5ECF6",
           "radialaxis": {
            "gridcolor": "white",
            "linecolor": "white",
            "ticks": ""
           }
          },
          "scene": {
           "xaxis": {
            "backgroundcolor": "#E5ECF6",
            "gridcolor": "white",
            "gridwidth": 2,
            "linecolor": "white",
            "showbackground": true,
            "ticks": "",
            "zerolinecolor": "white"
           },
           "yaxis": {
            "backgroundcolor": "#E5ECF6",
            "gridcolor": "white",
            "gridwidth": 2,
            "linecolor": "white",
            "showbackground": true,
            "ticks": "",
            "zerolinecolor": "white"
           },
           "zaxis": {
            "backgroundcolor": "#E5ECF6",
            "gridcolor": "white",
            "gridwidth": 2,
            "linecolor": "white",
            "showbackground": true,
            "ticks": "",
            "zerolinecolor": "white"
           }
          },
          "shapedefaults": {
           "line": {
            "color": "#2a3f5f"
           }
          },
          "ternary": {
           "aaxis": {
            "gridcolor": "white",
            "linecolor": "white",
            "ticks": ""
           },
           "baxis": {
            "gridcolor": "white",
            "linecolor": "white",
            "ticks": ""
           },
           "bgcolor": "#E5ECF6",
           "caxis": {
            "gridcolor": "white",
            "linecolor": "white",
            "ticks": ""
           }
          },
          "title": {
           "x": 0.05
          },
          "xaxis": {
           "automargin": true,
           "gridcolor": "white",
           "linecolor": "white",
           "ticks": "",
           "zerolinecolor": "white",
           "zerolinewidth": 2
          },
          "yaxis": {
           "automargin": true,
           "gridcolor": "white",
           "linecolor": "white",
           "ticks": "",
           "zerolinecolor": "white",
           "zerolinewidth": 2
          }
         }
        },
        "xaxis": {
         "anchor": "y",
         "autorange": true,
         "domain": [
          0,
          0.98
         ],
         "range": [
          4.75,
          11.25
         ],
         "title": {
          "text": "max_depth"
         },
         "type": "linear"
        },
        "yaxis": {
         "anchor": "x",
         "autorange": true,
         "domain": [
          0,
          1
         ],
         "range": [
          0,
          9.473684210526315
         ],
         "title": {
          "text": "count"
         }
        }
       }
      },
      "image/png": "[encoded data removed]",
      "text/html": [
       "<div>\n",
       "        \n",
       "        \n",
       "            <div id=\"c073d099-895c-46d2-90c0-2a7ffd1ba041\" class=\"plotly-graph-div\" style=\"height:600px; width:100%;\"></div>\n",
       "            <script type=\"text/javascript\">\n",
       "                require([\"plotly\"], function(Plotly) {\n",
       "                    window.PLOTLYENV=window.PLOTLYENV || {};\n",
       "                    \n",
       "                if (document.getElementById(\"c073d099-895c-46d2-90c0-2a7ffd1ba041\")) {\n",
       "                    Plotly.newPlot(\n",
       "                        'c073d099-895c-46d2-90c0-2a7ffd1ba041',\n",
       "                        [{\"alignmentgroup\": \"True\", \"bingroup\": \"x\", \"hoverlabel\": {\"namelength\": 0}, \"hovertemplate\": \"max_depth=%{x}<br>count=%{y}\", \"legendgroup\": \"\", \"marker\": {\"color\": \"#636efa\"}, \"name\": \"\", \"nbinsx\": 20, \"offsetgroup\": \"\", \"orientation\": \"v\", \"showlegend\": false, \"type\": \"histogram\", \"x\": [5.0, 5.0, 5.0, 5.0, 5.0, 5.0, 5.0, 5.0, 5.0, 7.0, 7.0, 7.0, 7.0, 7.0, 7.0, 7.0, 7.0, 7.0, 9.0, 9.0, 9.0, 9.0, 9.0, 9.0, 9.0, 9.0, 9.0, 11.0, 11.0, 11.0], \"xaxis\": \"x\", \"yaxis\": \"y\"}],\n",
       "                        {\"barmode\": \"relative\", \"height\": 600, \"legend\": {\"tracegroupgap\": 0}, \"margin\": {\"t\": 60}, \"template\": {\"data\": {\"bar\": [{\"error_x\": {\"color\": \"#2a3f5f\"}, \"error_y\": {\"color\": \"#2a3f5f\"}, \"marker\": {\"line\": {\"color\": \"#E5ECF6\", \"width\": 0.5}}, \"type\": \"bar\"}], \"barpolar\": [{\"marker\": {\"line\": {\"color\": \"#E5ECF6\", \"width\": 0.5}}, \"type\": \"barpolar\"}], \"carpet\": [{\"aaxis\": {\"endlinecolor\": \"#2a3f5f\", \"gridcolor\": \"white\", \"linecolor\": \"white\", \"minorgridcolor\": \"white\", \"startlinecolor\": \"#2a3f5f\"}, \"baxis\": {\"endlinecolor\": \"#2a3f5f\", \"gridcolor\": \"white\", \"linecolor\": \"white\", \"minorgridcolor\": \"white\", \"startlinecolor\": \"#2a3f5f\"}, \"type\": \"carpet\"}], \"choropleth\": [{\"colorbar\": {\"outlinewidth\": 0, \"ticks\": \"\"}, \"type\": \"choropleth\"}], \"contour\": [{\"colorbar\": {\"outlinewidth\": 0, \"ticks\": \"\"}, \"colorscale\": [[0.0, \"#0d0887\"], [0.1111111111111111, \"#46039f\"], [0.2222222222222222, \"#7201a8\"], [0.3333333333333333, \"#9c179e\"], [0.4444444444444444, \"#bd3786\"], [0.5555555555555556, \"#d8576b\"], [0.6666666666666666, \"#ed7953\"], [0.7777777777777778, \"#fb9f3a\"], [0.8888888888888888, \"#fdca26\"], [1.0, \"#f0f921\"]], \"type\": \"contour\"}], \"contourcarpet\": [{\"colorbar\": {\"outlinewidth\": 0, \"ticks\": \"\"}, \"type\": \"contourcarpet\"}], \"heatmap\": [{\"colorbar\": {\"outlinewidth\": 0, \"ticks\": \"\"}, \"colorscale\": [[0.0, \"#0d0887\"], [0.1111111111111111, \"#46039f\"], [0.2222222222222222, \"#7201a8\"], [0.3333333333333333, \"#9c179e\"], [0.4444444444444444, \"#bd3786\"], [0.5555555555555556, \"#d8576b\"], [0.6666666666666666, \"#ed7953\"], [0.7777777777777778, \"#fb9f3a\"], [0.8888888888888888, \"#fdca26\"], [1.0, \"#f0f921\"]], \"type\": \"heatmap\"}], \"heatmapgl\": [{\"colorbar\": {\"outlinewidth\": 0, \"ticks\": \"\"}, \"colorscale\": [[0.0, \"#0d0887\"], [0.1111111111111111, \"#46039f\"], [0.2222222222222222, \"#7201a8\"], [0.3333333333333333, \"#9c179e\"], [0.4444444444444444, \"#bd3786\"], [0.5555555555555556, \"#d8576b\"], [0.6666666666666666, \"#ed7953\"], [0.7777777777777778, \"#fb9f3a\"], [0.8888888888888888, \"#fdca26\"], [1.0, \"#f0f921\"]], \"type\": \"heatmapgl\"}], \"histogram\": [{\"marker\": {\"colorbar\": {\"outlinewidth\": 0, \"ticks\": \"\"}}, \"type\": \"histogram\"}], \"histogram2d\": [{\"colorbar\": {\"outlinewidth\": 0, \"ticks\": \"\"}, \"colorscale\": [[0.0, \"#0d0887\"], [0.1111111111111111, \"#46039f\"], [0.2222222222222222, \"#7201a8\"], [0.3333333333333333, \"#9c179e\"], [0.4444444444444444, \"#bd3786\"], [0.5555555555555556, \"#d8576b\"], [0.6666666666666666, \"#ed7953\"], [0.7777777777777778, \"#fb9f3a\"], [0.8888888888888888, \"#fdca26\"], [1.0, \"#f0f921\"]], \"type\": \"histogram2d\"}], \"histogram2dcontour\": [{\"colorbar\": {\"outlinewidth\": 0, \"ticks\": \"\"}, \"colorscale\": [[0.0, \"#0d0887\"], [0.1111111111111111, \"#46039f\"], [0.2222222222222222, \"#7201a8\"], [0.3333333333333333, \"#9c179e\"], [0.4444444444444444, \"#bd3786\"], [0.5555555555555556, \"#d8576b\"], [0.6666666666666666, \"#ed7953\"], [0.7777777777777778, \"#fb9f3a\"], [0.8888888888888888, \"#fdca26\"], [1.0, \"#f0f921\"]], \"type\": \"histogram2dcontour\"}], \"mesh3d\": [{\"colorbar\": {\"outlinewidth\": 0, \"ticks\": \"\"}, \"type\": \"mesh3d\"}], \"parcoords\": [{\"line\": {\"colorbar\": {\"outlinewidth\": 0, \"ticks\": \"\"}}, \"type\": \"parcoords\"}], \"scatter\": [{\"marker\": {\"colorbar\": {\"outlinewidth\": 0, \"ticks\": \"\"}}, \"type\": \"scatter\"}], \"scatter3d\": [{\"line\": {\"colorbar\": {\"outlinewidth\": 0, \"ticks\": \"\"}}, \"marker\": {\"colorbar\": {\"outlinewidth\": 0, \"ticks\": \"\"}}, \"type\": \"scatter3d\"}], \"scattercarpet\": [{\"marker\": {\"colorbar\": {\"outlinewidth\": 0, \"ticks\": \"\"}}, \"type\": \"scattercarpet\"}], \"scattergeo\": [{\"marker\": {\"colorbar\": {\"outlinewidth\": 0, \"ticks\": \"\"}}, \"type\": \"scattergeo\"}], \"scattergl\": [{\"marker\": {\"colorbar\": {\"outlinewidth\": 0, \"ticks\": \"\"}}, \"type\": \"scattergl\"}], \"scattermapbox\": [{\"marker\": {\"colorbar\": {\"outlinewidth\": 0, \"ticks\": \"\"}}, \"type\": \"scattermapbox\"}], \"scatterpolar\": [{\"marker\": {\"colorbar\": {\"outlinewidth\": 0, \"ticks\": \"\"}}, \"type\": \"scatterpolar\"}], \"scatterpolargl\": [{\"marker\": {\"colorbar\": {\"outlinewidth\": 0, \"ticks\": \"\"}}, \"type\": \"scatterpolargl\"}], \"scatterternary\": [{\"marker\": {\"colorbar\": {\"outlinewidth\": 0, \"ticks\": \"\"}}, \"type\": \"scatterternary\"}], \"surface\": [{\"colorbar\": {\"outlinewidth\": 0, \"ticks\": \"\"}, \"colorscale\": [[0.0, \"#0d0887\"], [0.1111111111111111, \"#46039f\"], [0.2222222222222222, \"#7201a8\"], [0.3333333333333333, \"#9c179e\"], [0.4444444444444444, \"#bd3786\"], [0.5555555555555556, \"#d8576b\"], [0.6666666666666666, \"#ed7953\"], [0.7777777777777778, \"#fb9f3a\"], [0.8888888888888888, \"#fdca26\"], [1.0, \"#f0f921\"]], \"type\": \"surface\"}], \"table\": [{\"cells\": {\"fill\": {\"color\": \"#EBF0F8\"}, \"line\": {\"color\": \"white\"}}, \"header\": {\"fill\": {\"color\": \"#C8D4E3\"}, \"line\": {\"color\": \"white\"}}, \"type\": \"table\"}]}, \"layout\": {\"annotationdefaults\": {\"arrowcolor\": \"#2a3f5f\", \"arrowhead\": 0, \"arrowwidth\": 1}, \"colorscale\": {\"diverging\": [[0, \"#8e0152\"], [0.1, \"#c51b7d\"], [0.2, \"#de77ae\"], [0.3, \"#f1b6da\"], [0.4, \"#fde0ef\"], [0.5, \"#f7f7f7\"], [0.6, \"#e6f5d0\"], [0.7, \"#b8e186\"], [0.8, \"#7fbc41\"], [0.9, \"#4d9221\"], [1, \"#276419\"]], \"sequential\": [[0.0, \"#0d0887\"], [0.1111111111111111, \"#46039f\"], [0.2222222222222222, \"#7201a8\"], [0.3333333333333333, \"#9c179e\"], [0.4444444444444444, \"#bd3786\"], [0.5555555555555556, \"#d8576b\"], [0.6666666666666666, \"#ed7953\"], [0.7777777777777778, \"#fb9f3a\"], [0.8888888888888888, \"#fdca26\"], [1.0, \"#f0f921\"]], \"sequentialminus\": [[0.0, \"#0d0887\"], [0.1111111111111111, \"#46039f\"], [0.2222222222222222, \"#7201a8\"], [0.3333333333333333, \"#9c179e\"], [0.4444444444444444, \"#bd3786\"], [0.5555555555555556, \"#d8576b\"], [0.6666666666666666, \"#ed7953\"], [0.7777777777777778, \"#fb9f3a\"], [0.8888888888888888, \"#fdca26\"], [1.0, \"#f0f921\"]]}, \"colorway\": [\"#636efa\", \"#EF553B\", \"#00cc96\", \"#ab63fa\", \"#FFA15A\", \"#19d3f3\", \"#FF6692\", \"#B6E880\", \"#FF97FF\", \"#FECB52\"], \"font\": {\"color\": \"#2a3f5f\"}, \"geo\": {\"bgcolor\": \"white\", \"lakecolor\": \"white\", \"landcolor\": \"#E5ECF6\", \"showlakes\": true, \"showland\": true, \"subunitcolor\": \"white\"}, \"hoverlabel\": {\"align\": \"left\"}, \"hovermode\": \"closest\", \"mapbox\": {\"style\": \"light\"}, \"paper_bgcolor\": \"white\", \"plot_bgcolor\": \"#E5ECF6\", \"polar\": {\"angularaxis\": {\"gridcolor\": \"white\", \"linecolor\": \"white\", \"ticks\": \"\"}, \"bgcolor\": \"#E5ECF6\", \"radialaxis\": {\"gridcolor\": \"white\", \"linecolor\": \"white\", \"ticks\": \"\"}}, \"scene\": {\"xaxis\": {\"backgroundcolor\": \"#E5ECF6\", \"gridcolor\": \"white\", \"gridwidth\": 2, \"linecolor\": \"white\", \"showbackground\": true, \"ticks\": \"\", \"zerolinecolor\": \"white\"}, \"yaxis\": {\"backgroundcolor\": \"#E5ECF6\", \"gridcolor\": \"white\", \"gridwidth\": 2, \"linecolor\": \"white\", \"showbackground\": true, \"ticks\": \"\", \"zerolinecolor\": \"white\"}, \"zaxis\": {\"backgroundcolor\": \"#E5ECF6\", \"gridcolor\": \"white\", \"gridwidth\": 2, \"linecolor\": \"white\", \"showbackground\": true, \"ticks\": \"\", \"zerolinecolor\": \"white\"}}, \"shapedefaults\": {\"line\": {\"color\": \"#2a3f5f\"}}, \"ternary\": {\"aaxis\": {\"gridcolor\": \"white\", \"linecolor\": \"white\", \"ticks\": \"\"}, \"baxis\": {\"gridcolor\": \"white\", \"linecolor\": \"white\", \"ticks\": \"\"}, \"bgcolor\": \"#E5ECF6\", \"caxis\": {\"gridcolor\": \"white\", \"linecolor\": \"white\", \"ticks\": \"\"}}, \"title\": {\"x\": 0.05}, \"xaxis\": {\"automargin\": true, \"gridcolor\": \"white\", \"linecolor\": \"white\", \"ticks\": \"\", \"zerolinecolor\": \"white\", \"zerolinewidth\": 2}, \"yaxis\": {\"automargin\": true, \"gridcolor\": \"white\", \"linecolor\": \"white\", \"ticks\": \"\", \"zerolinecolor\": \"white\", \"zerolinewidth\": 2}}}, \"xaxis\": {\"anchor\": \"y\", \"domain\": [0.0, 0.98], \"title\": {\"text\": \"max_depth\"}}, \"yaxis\": {\"anchor\": \"x\", \"domain\": [0.0, 1.0], \"title\": {\"text\": \"count\"}}},\n",
       "                        {\"responsive\": true}\n",
       "                    ).then(function(){\n",
       "                            \n",
       "var gd = document.getElementById('c073d099-895c-46d2-90c0-2a7ffd1ba041');\n",
       "var x = new MutationObserver(function (mutations, observer) {{\n",
       "        var display = window.getComputedStyle(gd).display;\n",
       "        if (!display || display === 'none') {{\n",
       "            console.log([gd, 'removed!']);\n",
       "            Plotly.purge(gd);\n",
       "            observer.disconnect();\n",
       "        }}\n",
       "}});\n",
       "\n",
       "// Listen for the removal of the full notebook cells\n",
       "var notebookContainer = gd.closest('#notebook-container');\n",
       "if (notebookContainer) {{\n",
       "    x.observe(notebookContainer, {childList: true});\n",
       "}}\n",
       "\n",
       "// Listen for the clearing of the current output cell\n",
       "var outputEl = gd.closest('.output');\n",
       "if (outputEl) {{\n",
       "    x.observe(outputEl, {childList: true});\n",
       "}}\n",
       "\n",
       "                        })\n",
       "                };\n",
       "                });\n",
       "            </script>\n",
       "        </div>"
      ]
     },
     "metadata": {},
     "output_type": "display_data"
    }
   ],
   "source": [
    "fig.show()"
   ]
  },
  {
   "cell_type": "markdown",
   "metadata": {},
   "source": [
    "2. histogram of best 10% hyperparameters for multiple search_frames + make beautiful"
   ]
  },
  {
   "cell_type": "code",
   "execution_count": 6,
   "metadata": {},
   "outputs": [],
   "source": [
    "search_space = {\n",
    "    'num_trees': np.linspace(100, 800, 6),\n",
    "    'learning_rate': np.logspace(-2.5, -0.5, 10),\n",
    "    'max_depth': np.linspace(5, 20, 8),\n",
    "    'min_child_weight': np.linspace(5, 40, 3),\n",
    "    'subsample': np.linspace(0.5, 1.0, 3)\n",
    "}"
   ]
  },
  {
   "cell_type": "code",
   "execution_count": 7,
   "metadata": {},
   "outputs": [],
   "source": [
    "search_space = {\n",
    "    'num_trees': {\n",
    "        'range': [100, 800],\n",
    "        'scale': 'linear',\n",
    "    },\n",
    "    'learning_rate': {\n",
    "        'range': [-2.5, -0.5],\n",
    "        'scale': 'log',\n",
    "    },\n",
    "    'max_depth': {\n",
    "        'range': [5, 20],\n",
    "        'scale': 'linear',\n",
    "    },\n",
    "    'min_child_weight': {\n",
    "        'range': [5, 40],\n",
    "        'scale': 'linear',\n",
    "    },\n",
    "    'subsample': {\n",
    "        'range': [0.5, 1.0],\n",
    "        'scale': 'linear',\n",
    "    },\n",
    "}"
   ]
  },
  {
   "cell_type": "code",
   "execution_count": 8,
   "metadata": {},
   "outputs": [
    {
     "data": {
      "application/vnd.plotly.v1+json": {
       "config": {
        "plotlyServerURL": "https://plot.ly"
       },
       "data": [
        {
         "histnorm": "probability density",
         "legendgroup": "distplot",
         "marker": {
          "color": "rgb(31, 119, 180)"
         },
         "name": "distplot",
         "opacity": 0.7,
         "type": "histogram",
         "x": [
          0.5176540693435158,
          -1.9266384976079325,
          0.17938536641161643,
          0.38915999543031055,
          -0.7591380806708211,
          0.470470818044731,
          1.7729368568894235,
          1.777151062645996,
          0.05295514403855496,
          0.056140995617671045,
          0.9017079487146321,
          1.3462507011950788,
          1.2184069539321611,
          -0.1962336218110319,
          1.0044040406461634,
          1.6364032564105302,
          1.9408029587365212,
          1.096666009955292,
          0.14803800774767198,
          -0.5262906949038044,
          -0.719228251906166,
          -0.35598290422113404,
          -0.18143819287838592,
          0.18635279645667757,
          -0.11974425243084415,
          -1.3168971112726042,
          -0.07808900946482286,
          0.5515942381396092,
          -0.7786192545249374,
          0.7197425159349782,
          0.5035751328690016,
          -1.0975544133127682,
          -0.17798774939768366,
          0.3502108586063837,
          -0.9377428715668532,
          0.5210103557023739,
          0.618795733581758,
          -0.5263740012461203,
          0.6758945560537417,
          0.7867211328760503,
          -0.3391495865588815,
          0.0878176997154205,
          -0.5320752859874237,
          0.06092790112647874,
          0.9487932923551486,
          1.17376023847231,
          -0.4144893483640793,
          0.25177257945859066,
          -0.9092014968648322,
          0.32311916269616187,
          1.7589643968994397,
          0.6941603495168558,
          0.2040645061431851,
          0.570705593734165,
          2.1359386958855944,
          -0.8675187804202622,
          -0.8294872194177998,
          1.075051042471335,
          0.18125039798246262,
          0.6326882348281612,
          -0.7039120429158643,
          0.3728495871425359,
          -0.12022459248783132,
          -1.1037976560201377,
          0.14439594084090815,
          -0.6061862253368453,
          0.39808305113857817,
          -1.4075842568154828,
          -2.3290616445329313,
          2.1991460584616624,
          0.5096813750668424,
          -1.3821391588688383,
          -1.081608999599621,
          0.21639804495572226,
          -2.256735111507702,
          -0.13173250688878557,
          -0.7021141318310798,
          0.4831675523383652,
          0.781100132671573,
          0.7866839197495062,
          -3.0380716902472704,
          -0.18156217647710624,
          2.105929308978488,
          -0.08597987049919015,
          -0.37464999409496696,
          0.49485272217474124,
          0.3318397206931223,
          0.1671556604629985,
          0.2163674463671284,
          1.0550534621189471,
          -0.8681644809038571,
          -0.5052373329986323,
          -0.1475715345886041,
          -0.6224740050125744,
          -0.22980126130673714,
          0.35229852935762945,
          -0.6673258421953506,
          0.23337428048920517,
          1.021323723086961,
          1.6532956726498056,
          0.8766072792848989,
          1.517733439640362,
          0.04190298500601147,
          0.19144616333039705,
          -0.9628045938138505,
          -0.7951131929490192,
          -0.2676518221786831,
          -1.406762247004167,
          0.4970938121029308,
          1.6377526543081762,
          -0.7105747980315011,
          -0.369337625340982,
          0.09095864054456108,
          1.6409188996845399,
          1.1828328032069237,
          0.7531740009015915,
          1.401477164577915,
          2.0265028437288466,
          0.12481609434978702,
          -0.7883439847434381,
          0.4063123766927022,
          0.313908048285553,
          -0.8112688932493007,
          0.4585480471684246,
          -0.49408942162925257,
          1.4890226561958075,
          0.08849632266818273,
          -0.7715599385231667,
          2.4177007192616724,
          1.081717225032806,
          -1.0047092980763521,
          -0.526927832796693,
          -0.47403098625298934,
          -0.6191574726418316,
          -0.13747512146849108,
          0.38663150207961694,
          1.1461304611391374,
          0.16839478652372317,
          -0.5469486403862741,
          0.5185845318868094,
          -0.429482207853616,
          0.7674907102208245,
          -0.7124943517664116,
          1.6263125330836903,
          -0.8313458375158056,
          1.3807336913206503,
          1.01266622891095,
          -0.022246201443898307,
          -1.416059149429094,
          1.8075217892278568,
          -0.18532710673819175,
          0.306681191099923,
          1.094043027426311,
          0.7081660153958996,
          -2.3761080117860245,
          -1.8312132158775782,
          0.7795870377663889,
          0.7576388308751754,
          0.9773063462698506,
          0.3125281871505035,
          -0.6992945647365195,
          -0.19189324236968983,
          2.77011549842281,
          0.10996023124626447,
          -0.16557025202537515,
          1.3966745321944505,
          0.9893935178484842,
          -0.11016062179517669,
          0.5978183622033814,
          0.7463147460628005,
          -0.8906185713369069,
          -0.1309529077667626,
          -0.45955844871040985,
          -0.7334038060905612,
          -1.5368540183962514,
          0.5133659808874632,
          -2.2445665859604413,
          0.38079347572104977,
          0.6363758410016216,
          0.22872470563580097,
          0.719487381606402,
          0.41361928538213977,
          -2.422074900556862,
          0.8124728412803435,
          -0.7441395775650883,
          -0.0646371710482722,
          1.2620841630064616,
          0.3860271250085018,
          -0.41021768320562363,
          0.8545853455005852,
          1.540586018135902,
          -0.4421801955365669,
          -0.14057927769479542,
          0.4383111468987668,
          -0.9928328794020447,
          -1.1538867730165836,
          -0.4434525319583714,
          1.1721753760535374,
          0.7400997754070168,
          -1.928870858057466,
          -0.055955740727583414,
          -0.15206276512134217,
          0.45887183603814463,
          -1.0395124085546823,
          -0.5557921482260121,
          -0.9006947045884975,
          -2.0136606655309683,
          -0.29152386207182335,
          0.3073488968070651,
          -0.28521284048771245,
          -1.3182797020290957,
          0.9582914894701384,
          -0.3295682264659043,
          -0.5171536004178932,
          -0.009963347048653325,
          1.235243521105968,
          -1.4436919844572271,
          1.578442281022645,
          0.8612281978645211,
          -1.806332851547567,
          -1.2355973973504308,
          0.4708884541054725,
          0.2698936945043562,
          -0.08393383261978744,
          -1.402341954105711,
          0.1021821959244801,
          -0.2597548404501037,
          0.6186793668729009,
          -0.823241962957012,
          -0.6380814834294847,
          -0.24937678869441457,
          1.1690299087949507,
          1.3483637293282429,
          -0.276236457940628,
          0.3642380741910434,
          0.8585951179872289,
          0.30828399085072494,
          0.4512465765904475,
          -0.9994713690655778,
          -0.2224597019354993,
          -0.16019134832134602,
          -0.22327713100755917,
          -0.4537095114412808,
          -1.9392463465876217,
          -1.3903204861782832,
          -0.3957906519112031,
          0.14203966467751775,
          -0.26367901228831064,
          0.38457141318657234,
          -0.7541404241148093,
          0.9632455572439081,
          -0.1759374993963902,
          -0.9558703471216313,
          -0.19923660705668098,
          0.781147704140476,
          -0.15830552636250586,
          -0.2864821770048353,
          0.7746861083144464,
          0.1421546057532976,
          0.9059375401191695,
          0.9668865607485847,
          -1.37584645077546,
          -0.0984830952180347,
          -0.06389426184229359,
          -0.3932634641148235,
          -0.24322737896112046,
          0.31760558267867495,
          1.4432754282574252,
          1.0973421709574067,
          -0.9474177616675014,
          0.12301834048386043,
          0.03463437021977247,
          -1.5009104151129389,
          -1.6562077786501708,
          -0.047282406449509755,
          1.4972225179952374,
          0.39755523211514027,
          -1.1727099662867846,
          -1.9847914760034886,
          0.6694733448361697,
          -1.1200498356592656,
          -0.5563080131220066,
          -0.12045659044806346,
          -0.0036563319677333406,
          -0.6316190989534181,
          0.05481258959265315,
          -1.4491538386548564,
          0.5060457289212263,
          -0.5880287551415027,
          -0.5920551893456799,
          -0.36746679507615737,
          1.6070655938727327,
          1.0837562057081274,
          -1.5904383166400742,
          -0.5127656352878892,
          -0.39852216897057013,
          0.3057887486879108,
          -2.502600747385001,
          1.355851097280561,
          -0.6608028996163037,
          1.931412634786183,
          -0.7297620283486996,
          1.242704235656297,
          -0.8105835633648948,
          0.5879665959088253,
          0.8914264928774869,
          -0.6090337671581159,
          -0.4282379424513153,
          -0.23149780022407473,
          -0.22743645284907293,
          0.4945766952847596,
          1.0162001434745358,
          -1.426637361765932,
          -1.19319440355357,
          0.02899371140684854,
          -1.332431474540195,
          -1.328177715822475,
          0.02401336180543119,
          -1.2941558382195215,
          -1.0325420079008316,
          -0.014739789394705674,
          0.8330190806928046,
          -2.052629631860973,
          -0.005428501158042683,
          -0.6156942548479216,
          -0.49974284389051865,
          -0.40163277658251395,
          1.3994467409418847,
          0.18052243839447832,
          -1.1763053261460574,
          -1.4379328555283186,
          -1.7619213070887996,
          0.7467597876840905,
          1.3163920894566998,
          -0.8349902596893789,
          0.9674129712669334,
          1.519074783579965,
          -0.02443555029954905,
          -1.8129985933064643,
          -0.4475915585810136,
          2.760636711019427,
          -0.8827932473544,
          -0.24349410576888283,
          -0.49560777901552194,
          -1.2729333262311116,
          0.5046602362099798,
          -1.0140996810746494,
          0.0808385544994782,
          0.39655782095257264,
          -2.0779471841567156,
          0.37182216849554633,
          1.9927660198673063,
          1.027510178334594,
          -1.2521716622546275,
          0.5567064315904057,
          1.0991423445464708,
          1.3591323216232216,
          -0.29769230005035224,
          1.223341369228566,
          -0.12473317086123134,
          1.0628325077312728,
          0.30270658110899823,
          0.6638559359261477,
          -1.8142986202725364,
          -0.020938081218498626,
          -0.4926534948337888,
          0.43766607333803215,
          0.0990706863998156,
          -0.17431430601469824,
          0.5557453880879886,
          -1.2543615417479104,
          0.803831998302554,
          -1.6607665176851647,
          -1.162478807251615,
          -1.2190956919586442,
          0.1708358168144749,
          0.7573032365620472,
          -0.13937656348360225,
          -0.6525699460776868,
          -0.12956877525086666,
          0.7734968216224868,
          1.221614191965468,
          0.13056232156912867,
          -1.4025700213797023,
          1.3754094291018273,
          -0.4682430276337166,
          0.1860227347102457,
          -0.03209501083089391,
          -1.0973823131884912,
          0.4466467149267491,
          -0.5558386084049444,
          0.02336428380937664,
          0.4718092176648599,
          0.38254374540817876,
          0.1045195542146154,
          1.6449285262045883,
          -1.0292698983461337,
          -0.3734110138393443,
          -0.6577665183904536,
          0.7803893143990183,
          0.42485478100593005,
          -0.900746143184742,
          -0.7997001142684761,
          0.8655207971591592,
          0.6881326344362714,
          -1.241389506393177,
          -0.3380873437307681,
          0.8103301395022581,
          -2.0942689279144426,
          -1.1413001468160755,
          -0.10688625446333933,
          0.4908189298472821,
          -0.07221050966564956,
          -0.5171236510537423,
          0.7825194033978676,
          0.3500123267726148,
          -0.6445042962734321,
          -0.6425729914566368,
          -0.40659015931427883,
          -0.6082427023545377,
          2.6423190759031643,
          -0.6894748505389573,
          1.9043956890100613,
          -0.003184970704104557,
          -0.18584171442600178,
          1.540839765524826,
          -1.552868456867993,
          0.3991289135160396,
          0.7830411210962609,
          -1.4801545687952813,
          -0.6671995120197551,
          1.067272037967401,
          0.9950750602580812,
          -0.23794101747155727,
          0.09228213261495417,
          -0.5485898259885943,
          1.0365619413019491,
          -0.5475394229577961,
          1.7301116092492168,
          0.6613229287606193,
          -0.9366769010749078,
          2.613659001987841,
          -0.1335858495710417,
          -0.05409776715442029,
          0.8108499606192617,
          1.4475906394786502,
          1.021048004705793,
          0.7563759321761447,
          1.0932634414396036,
          0.7105674156459114,
          0.05819706501539681,
          1.0952228311948602,
          0.9799509895379702,
          -0.012241647512248896,
          0.932275535008552,
          1.1403022137452665,
          -1.000224625066208,
          1.0542017727989248,
          -0.18778174841542272,
          1.0325636246265348,
          1.0712963655526857,
          -0.9052989712197218,
          0.6645551932447237,
          0.06567210585627466,
          0.3985729220599194,
          -1.630932735550995,
          0.11050290362290567,
          0.8683586987110188,
          0.025187291290748315,
          2.0529564213870986,
          -1.1853654875590205,
          -1.7223373938732602,
          -1.1400409618703362,
          -2.5546322197200544,
          1.3360621649251982,
          -1.7945738203465973,
          -1.5071166837145473,
          -0.20047223456922528,
          -0.24721427929537862,
          -0.183246357544602,
          0.1805624299129483,
          -0.541755214484417,
          -0.8294629154726576,
          -0.5497728050136961,
          0.6913545398171642,
          -0.5252277399217683,
          1.0848975161108245,
          -1.1261784453901182,
          1.795521108039668,
          1.1052335361751,
          -0.5107071811992713,
          0.5811792928285329,
          1.1585656550715533,
          -0.2988746942471171,
          -0.4449511108713603,
          -0.938670135481349,
          2.191342265725638,
          0.4893131707486348,
          0.4024687183116444,
          0.666096007644043,
          -0.8299719778838393,
          0.38289437401411947,
          0.01963430737558851,
          -0.6832682068124004,
          -1.2720398758503797,
          -0.9135152999974037,
          -1.4095423623732115,
          1.1195344863427565,
          1.7749794202111446,
          -1.0368259813141636,
          -0.3333288057953158,
          -0.8093760010340953,
          -0.29936734469173865,
          -0.13814617997926315,
          0.5590060777311671,
          0.2485736210991344,
          0.8566995667213149,
          -0.744030055425132,
          2.512804327619227,
          -0.46720771434871383,
          0.34950021024545697,
          -0.668093499349435,
          1.1019787583734624,
          0.2709277924277512,
          -0.6932113544036781,
          0.990005446134624,
          -0.4053364853247077,
          0.27032139414074696,
          1.3523964886697784,
          -1.4743003326173263,
          2.02950900794197,
          1.3819580768382234,
          -0.11154380256540024,
          -0.9134990677247453,
          0.4926764681990856,
          1.215947707025049,
          -0.5842354939817912,
          -0.4570122073212928,
          0.4842270490325069,
          -1.4482033894909778,
          0.5960310092158441,
          -0.4976320495903822,
          -0.35703181614933094,
          0.006240545041463764,
          0.32335676697813864,
          -0.5573122453366383,
          1.4792545989191792,
          2.1160520623170704,
          -0.27431884484601954,
          -0.7041826768395525,
          0.04163916499754548,
          -1.1069679762971993,
          0.006013362549389266,
          -0.38600179140620444,
          -2.1754534957800367,
          0.30313417061884756,
          0.5876266804339528,
          -0.2638429276717713,
          -0.13563731297848386,
          0.49105312616858776,
          0.7160229815851786,
          1.0493091752528045,
          0.2574325777961832,
          2.1088399762242274,
          -0.6472619297270138,
          1.4814016256810751,
          -0.12557952454879487,
          1.2459657110172455,
          2.3744575364144267,
          -1.1358481500447495,
          1.753004793418907,
          -0.7554012511351378,
          0.7380856460798914,
          -0.1725971252048306,
          -0.1316722986993851,
          0.19921983536990606,
          -2.9630045464452963,
          0.7954415028172516,
          1.0770756154049592,
          -0.3012280365357591,
          1.6031086240885268,
          1.255524236819302,
          1.7623599620065982,
          -0.9594908921596574,
          -0.7534163239818783,
          -0.40951525444397346,
          0.6323059753964619,
          -0.7970540650322421,
          -0.009855436323174857,
          -0.3286866399388179,
          -0.6051203054058497,
          -1.5264523161776793,
          1.544810643670232,
          1.6597542317180152,
          -1.5687070902233817,
          1.5230181656304578,
          0.8710730008766445,
          -0.6998525091218011,
          0.7298716324912629,
          0.6780818657594858,
          -1.2827407064887582,
          0.9031435006417228,
          -1.3930631033739296,
          -0.1948822706095099,
          1.4151487130322173,
          3.5079223422841994,
          1.9125450363864642,
          0.6916274846959922,
          -2.4668822327383313,
          0.20500827709820554,
          0.7710122414326426,
          -0.3815481973417496,
          0.45042703485548463,
          -0.21414095743028083,
          0.6181107238669865,
          -0.17863689122463206,
          0.14847401390618578,
          0.5051357688744977,
          -0.5176654285346497,
          0.1089179673024441,
          -0.5621416151825596,
          0.05728706346858822,
          0.9407739452599932,
          1.280316992955253,
          -0.7665420866968221,
          -0.37343186949310386,
          0.8196735943352245,
          -0.2255401902428453,
          -0.514657206704833,
          0.10997294315597067,
          -1.0296424741870902,
          -0.13498650419349179,
          1.0213412153734338,
          -0.9447319968490071,
          -0.7693834165668905,
          -0.796351281810764,
          -0.07831590704555025,
          -1.2848145049392317,
          0.4071089704860083,
          -0.2370201386600546,
          0.8297882165239746,
          -0.6809490103864995,
          -0.1273464321581614,
          0.6574563495671082,
          0.6768582332260945,
          1.1411420647493908,
          1.0277217448176563,
          -0.15491175309474703,
          -1.165762204842779,
          1.4936821864345486,
          -2.387826723060757,
          1.6452922171184898,
          -1.5783010034173979,
          -0.7243710211501975,
          -0.37585400927809653,
          1.47135263875769,
          -1.742036961934263,
          -0.9400190311587641,
          0.6819927167747134,
          -0.9983365457647454,
          -0.37669526726971864,
          -1.595736421514321,
          -0.11643591074607326,
          2.0550173679160753,
          0.8934614307645752,
          1.6616821409338542,
          0.8472682888397679,
          0.5180082744138681,
          0.977696538241902,
          -0.5064104535777053,
          0.0679776214546193,
          -0.40437889064030647,
          -0.8940944118383336,
          -0.5984690676772132,
          0.40154390997203815,
          -0.49112797152680776,
          -0.34742072326978946,
          0.6537411033558539,
          -1.6602878360119977,
          1.8416901283435265,
          0.6212888606176002,
          0.4366327524250317,
          -0.7373110927875501,
          0.11290403170692584,
          -0.7535779359073022,
          0.6129590960801988,
          -0.9011275744636698,
          -0.152963184552418,
          0.05861887303468093,
          -0.4064415228927279,
          -2.576485472884896,
          -0.9202455730383773,
          1.6787703823389393,
          1.6811070763871103,
          0.05459224122853927,
          -0.3726091308827082,
          -0.10864864795883425,
          -0.8600334251778055,
          -1.133366703150724,
          0.23476944668376512,
          2.0312900945968875,
          0.29454972445541605,
          1.473628158464711,
          2.1354860740778223,
          -0.8169976117646578,
          0.024234547988855375,
          0.13968319510593216,
          -0.6445991589498212,
          0.016464755078633445,
          -1.623967149137165,
          0.1442909726947298,
          0.9165949221851991,
          -0.10726965789985832,
          -0.3989433998367592,
          0.6190583635293229,
          0.2236456732612047,
          0.11782423676174622,
          -0.6946436365024259,
          0.7870261103704146,
          0.5687379586344113,
          1.4397911700595525,
          -0.5993177214956202,
          2.685199696714186,
          -1.4885694303487196,
          0.951658533729458,
          0.2617313432390226,
          0.6880087079713368,
          -0.24838774881187792,
          -1.9020316159348185,
          0.4092775220433891,
          -0.26853674069667494,
          1.5257701584305967,
          -1.9698142661929439,
          -2.836284759399074,
          -0.14279703448903328,
          0.7080362808357733,
          0.09176408772437497,
          1.1959836253771443,
          -0.20921337658538772,
          -0.6720780142212934,
          -0.9677232096049433,
          -0.12728606846241117,
          -0.7919927338041344,
          -1.0580272105587494,
          -2.1645802320991776,
          1.2161594454580116,
          -0.666308317817951,
          0.21836625215686112,
          -0.4070969736561259,
          0.5644219639877234,
          -0.7220152152586076,
          0.516979615307253,
          -1.3179416388696932,
          -1.5815739820017507,
          0.04968288785390097,
          0.3786708468173321,
          0.5904367220931169,
          2.012847925546007,
          1.186920524352372,
          -1.2207487179845988,
          1.4296988764920975,
          -0.32550084596338125,
          0.3113305753768962,
          -1.9204793217359153,
          -0.30043810663571807,
          0.7341294413159623,
          1.0731199816872155,
          -1.1385426256330968,
          0.6023940648499483,
          2.275021496068711,
          -0.043962375150168286,
          -0.4651755658400948,
          2.8186372178100036,
          -0.3681675300238779,
          1.1569327617197296,
          -0.6646915052051928,
          -1.0639848748182636,
          0.3144638481686363,
          -0.5299027577594396,
          0.9120937132534034,
          -1.5410468454881958,
          0.15319659347046313,
          0.3368374069508085,
          -0.14181843919761594,
          -1.8592727039349788,
          -1.6196392198537617,
          -1.3357413957662219,
          -1.1417084575149303,
          -0.38568806809252587,
          1.166879312775614,
          0.7725415638487971,
          0.05950665498552722,
          0.851874558560094,
          -0.25807034565526354,
          2.5837161264749873,
          -1.353222534677922,
          0.13456814550959245,
          -0.33600813528683,
          -0.46281424199798077,
          -1.0821823920439257,
          0.7742242098928073,
          1.5552616674000026,
          -2.203494325615232,
          -0.5628072288306241,
          0.7862883212527749,
          -0.8275645771687379,
          0.6547053734920519,
          -0.949008990504814,
          1.0348544697463875,
          1.5685548687849993,
          -1.423220623109335,
          0.4922794290278497,
          0.6372587400959718,
          0.35395360731109404,
          -0.014785474904181565,
          -0.31310831080021023,
          0.3671866963993864,
          -1.1797069638817568,
          1.1315225976287564,
          -0.12732340676200707,
          -1.12655016981363,
          0.6098777795310888,
          -2.9412377675287864,
          -0.24479063326775757,
          0.9458536976785847,
          -0.08580027891962273,
          0.9494524129202309,
          -0.23217744932198903,
          0.5400646274997215,
          0.042024200716335676,
          0.8470105177726862,
          0.7775328610231259,
          -0.8417997271772831,
          1.595606018805888,
          0.9952911937329436,
          -0.8205570714330156,
          0.12887046889661996,
          1.2667850226910593,
          -2.2127427707865754,
          0.10419356547149763,
          0.6887369921058105,
          1.681128007765359,
          0.6741741951312531,
          1.412771792122196,
          -2.3260550213300655,
          1.4188644235891532,
          -0.1642245065803281,
          -1.227916190279069,
          1.0306214595658154,
          1.0641190730106134,
          -1.2161659568277299,
          1.3849696161522993,
          0.9729659596800463,
          -0.6318679540603132,
          -2.552390071243379,
          0.2290095344686462,
          1.8382713310084648,
          0.6870883164007735,
          -0.7416376487486801,
          -0.03075003980434744,
          0.21293812760318742,
          0.696352667010797,
          -0.13773198878280535,
          0.8411112419590081,
          -0.14108737480582284,
          -0.8097361460032098,
          -2.975870569345094,
          -1.027367314118927,
          0.9378540374406644,
          -2.22315592516175,
          -0.541318628490737,
          0.7115901849999661,
          -0.9888993494174527,
          2.5589313811947063,
          -1.8188162136606938,
          -0.8194365298858131,
          -0.6576550883304514,
          0.20939995404036807,
          -0.04678016464232463,
          -0.20509157649263762,
          0.13909675361403945,
          0.6381537727524907,
          1.67607810596255,
          -0.9276596053170765,
          0.22984307026308487,
          -0.1937658576313271,
          -0.17887856983493303,
          1.8342760046889042,
          -1.5074485969479958,
          0.3149346713410393,
          -0.6134260464264295,
          0.24189262863742875,
          -1.582993962877902,
          0.23182293095767476,
          0.3964697628917399,
          -0.09581458081832789,
          0.6844930077602323,
          0.10646062396850377,
          -0.11718160192726274,
          1.4988721839330332,
          0.6378661083648928,
          -1.4976821986221351,
          0.3330551256691911,
          0.8977044232767982,
          1.4637774912415202,
          -0.4658348062426277,
          -0.5284418337489296,
          0.6232990920259873,
          -1.1442687412110637,
          -0.368438996439852,
          0.5147002178471921,
          -0.2626978868767779,
          0.1630696442140985,
          0.4345659711608185,
          -0.2327190398000096,
          -1.1334451661144385,
          -1.6088562697112592,
          -0.8310475755146527,
          2.3899664867509496,
          -0.02370996136101748,
          -0.0011481249678289504,
          0.45848272857328304,
          -0.009185722120149328,
          -0.5461623200733047,
          1.0057149659488556,
          3.5027524267540033,
          -0.1600528825217717,
          0.7140286967070273,
          0.38954686926099164,
          1.616035335778273,
          -0.3494161790828438,
          0.12009857420278454,
          0.6568893961997023,
          0.09985967870984391,
          1.1341303663985471,
          0.29709282987092916,
          0.22827715588510372,
          0.06239246210357985,
          -1.7363709293717824,
          -1.2782574038163106,
          0.5699147735140889,
          -0.6841900622234082,
          0.15847348710272127,
          1.0679287325143851,
          1.420356179634184,
          -0.6184516834323519,
          0.7237460569149741,
          0.44894479714601043,
          0.06762763749861578,
          -0.5677768538679993,
          -0.5484469122093723,
          -0.27455759866360485,
          -0.73564962639789,
          -0.900597076526784,
          -0.2037144323964399,
          1.1739533400814999,
          -1.0895503630836423,
          1.666886927093478,
          0.16252718176958691,
          -0.18894743881980394,
          -2.0958371669518945,
          1.7160266793272347,
          0.32331039945944795,
          0.42155042166777623,
          -0.716096774036913,
          1.1811270871037578,
          -0.32355874522816874,
          -0.2925078829117037,
          -1.151291130979886,
          -0.6761264629523266,
          0.1533371806077532,
          -1.0983128932998332,
          -0.46599933758486783,
          1.2622476232647935,
          -1.0555372585969447,
          -0.4376487348692336,
          1.1189210387718893,
          -0.8100808522187397,
          1.156171751652358,
          0.12697706742397738,
          -1.0071048652685115,
          0.6458681213101952,
          0.45893043520037485,
          -0.01159571279584804,
          0.529654637290038,
          -1.0916330184223413,
          -0.87428869073398,
          0.8946187727519147,
          -0.04446802207967394,
          1.4476168084220227,
          1.2648004045568977,
          -0.8127692092848352,
          -0.8994205425655596,
          1.1699293935437245,
          0.8079176651693478,
          -0.22864991233723544,
          -0.05314083427587971,
          1.0176847619059808,
          1.363115453046521,
          -0.5850303268573964
         ],
         "xaxis": "x",
         "xbins": {
          "end": 3.5079223422841994,
          "size": 1,
          "start": -3.0380716902472704
         },
         "yaxis": "y"
        },
        {
         "legendgroup": "distplot",
         "marker": {
          "color": "rgb(31, 119, 180)"
         },
         "mode": "lines",
         "name": "distplot",
         "showlegend": false,
         "type": "scatter",
         "x": [
          -3.0380716902472704,
          -3.0249797021822076,
          -3.0118877141171447,
          -2.9987957260520814,
          -2.9857037379870186,
          -2.9726117499219558,
          -2.959519761856893,
          -2.9464277737918296,
          -2.933335785726767,
          -2.920243797661704,
          -2.907151809596641,
          -2.8940598215315783,
          -2.880967833466515,
          -2.867875845401452,
          -2.8547838573363893,
          -2.8416918692713264,
          -2.8285998812062636,
          -2.8155078931412003,
          -2.8024159050761375,
          -2.7893239170110746,
          -2.776231928946012,
          -2.763139940880949,
          -2.7500479528158857,
          -2.736955964750823,
          -2.72386397668576,
          -2.7107719886206967,
          -2.697680000555634,
          -2.684588012490571,
          -2.671496024425508,
          -2.6584040363604453,
          -2.6453120482953825,
          -2.632220060230319,
          -2.6191280721652563,
          -2.6060360841001935,
          -2.5929440960351307,
          -2.5798521079700674,
          -2.5667601199050045,
          -2.5536681318399417,
          -2.540576143774879,
          -2.527484155709816,
          -2.514392167644753,
          -2.50130017957969,
          -2.488208191514627,
          -2.475116203449564,
          -2.462024215384501,
          -2.448932227319438,
          -2.435840239254375,
          -2.4227482511893124,
          -2.4096562631242495,
          -2.3965642750591867,
          -2.3834722869941234,
          -2.3703802989290605,
          -2.3572883108639977,
          -2.3441963227989344,
          -2.3311043347338716,
          -2.3180123466688087,
          -2.304920358603746,
          -2.291828370538683,
          -2.27873638247362,
          -2.265644394408557,
          -2.252552406343494,
          -2.2394604182784312,
          -2.226368430213368,
          -2.213276442148305,
          -2.2001844540832423,
          -2.1870924660181794,
          -2.1740004779531166,
          -2.1609084898880537,
          -2.1478165018229904,
          -2.1347245137579276,
          -2.1216325256928648,
          -2.1085405376278015,
          -2.0954485495627386,
          -2.082356561497676,
          -2.069264573432613,
          -2.05617258536755,
          -2.0430805973024873,
          -2.0299886092374244,
          -2.0168966211723616,
          -2.0038046331072983,
          -1.9907126450422354,
          -1.9776206569771724,
          -1.9645286689121093,
          -1.9514366808470465,
          -1.9383446927819836,
          -1.9252527047169206,
          -1.9121607166518577,
          -1.8990687285867949,
          -1.8859767405217318,
          -1.8728847524566687,
          -1.859792764391606,
          -1.846700776326543,
          -1.8336087882614802,
          -1.8205168001964172,
          -1.807424812131354,
          -1.7943328240662912,
          -1.7812408360012282,
          -1.7681488479361653,
          -1.7550568598711025,
          -1.7419648718060396,
          -1.7288728837409764,
          -1.7157808956759135,
          -1.7026889076108507,
          -1.6895969195457878,
          -1.6765049314807248,
          -1.663412943415662,
          -1.6503209553505989,
          -1.637228967285536,
          -1.624136979220473,
          -1.61104499115541,
          -1.5979530030903473,
          -1.5848610150252844,
          -1.5717690269602211,
          -1.5586770388951583,
          -1.5455850508300955,
          -1.5324930627650324,
          -1.5194010746999695,
          -1.5063090866349067,
          -1.4932170985698436,
          -1.4801251105047806,
          -1.4670331224397177,
          -1.4539411343746549,
          -1.440849146309592,
          -1.427757158244529,
          -1.414665170179466,
          -1.401573182114403,
          -1.3884811940493402,
          -1.3753892059842772,
          -1.3622972179192143,
          -1.3492052298541515,
          -1.3361132417890882,
          -1.3230212537240253,
          -1.3099292656589625,
          -1.2968372775938997,
          -1.2837452895288366,
          -1.2706533014637738,
          -1.2575613133987107,
          -1.2444693253336478,
          -1.2313773372685848,
          -1.218285349203522,
          -1.205193361138459,
          -1.1921013730733963,
          -1.179009385008333,
          -1.1659173969432701,
          -1.1528254088782073,
          -1.1397334208131442,
          -1.1266414327480814,
          -1.1135494446830185,
          -1.1004574566179555,
          -1.0873654685528924,
          -1.0742734804878296,
          -1.0611814924227667,
          -1.0480895043577039,
          -1.0349975162926408,
          -1.021905528227578,
          -1.0088135401625151,
          -0.9957215520974523,
          -0.982629564032389,
          -0.9695375759673261,
          -0.9564455879022629,
          -0.9433535998372005,
          -0.9302616117721372,
          -0.9171696237070743,
          -0.9040776356420115,
          -0.8909856475769482,
          -0.8778936595118858,
          -0.8648016714468225,
          -0.8517096833817597,
          -0.8386176953166968,
          -0.8255257072516335,
          -0.8124337191865707,
          -0.7993417311215079,
          -0.786249743056445,
          -0.7731577549913822,
          -0.7600657669263193,
          -0.746973778861256,
          -0.7338817907961932,
          -0.7207898027311304,
          -0.7076978146660671,
          -0.6946058266010047,
          -0.6815138385359414,
          -0.6684218504708781,
          -0.6553298624058157,
          -0.6422378743407524,
          -0.62914588627569,
          -0.6160538982106267,
          -0.6029619101455639,
          -0.589869922080501,
          -0.5767779340154378,
          -0.5636859459503749,
          -0.5505939578853121,
          -0.5375019698202492,
          -0.5244099817551859,
          -0.5113179936901231,
          -0.49822600562506025,
          -0.4851340175599974,
          -0.47204202949493457,
          -0.4589500414298713,
          -0.4458580533648089,
          -0.4327660652997456,
          -0.4196740772346823,
          -0.4065820891696199,
          -0.3934901011045566,
          -0.3803981130394942,
          -0.36730612497443094,
          -0.35421413690936765,
          -0.34112214884430525,
          -0.32803016077924196,
          -0.3149381727141791,
          -0.3018461846491163,
          -0.28875419658405344,
          -0.27566220851899015,
          -0.2625702204539273,
          -0.24947823238886446,
          -0.23638624432380162,
          -0.22329425625873878,
          -0.2102022681936755,
          -0.19711028012861265,
          -0.1840182920635498,
          -0.17092630399848652,
          -0.15783431593342412,
          -0.14474232786836083,
          -0.13165033980329843,
          -0.11855835173823515,
          -0.10546636367317186,
          -0.09237437560810946,
          -0.07928238754304617,
          -0.06619039947798333,
          -0.05309841141292049,
          -0.0400064233478572,
          -0.026914435282794358,
          -0.013822447217731515,
          -0.0007304591526686721,
          0.01236152891239417,
          0.025453516977457014,
          0.0385455050425203,
          0.05163749310758314,
          0.06472948117264599,
          0.07782146923770927,
          0.09091345730277167,
          0.10400544536783496,
          0.11709743343289825,
          0.13018942149796064,
          0.14328140956302393,
          0.15637339762808633,
          0.16946538569314962,
          0.18255737375821246,
          0.1956493618232753,
          0.2087413498883386,
          0.22183333795340143,
          0.23492532601846428,
          0.24801731408352712,
          0.26110930214858996,
          0.27420129021365325,
          0.2872932782787161,
          0.30038526634377893,
          0.3134772544088418,
          0.32656924247390506,
          0.33966123053896746,
          0.35275321860403075,
          0.36584520666909404,
          0.37893719473415644,
          0.3920291827992197,
          0.4051211708642821,
          0.4182131589293454,
          0.4313051469944087,
          0.4443971350594711,
          0.4574891231245344,
          0.4705811111895972,
          0.48367309925466007,
          0.4967650873197229,
          0.5098570753847858,
          0.522949063449849,
          0.5360410515149119,
          0.5491330395799747,
          0.5622250276450376,
          0.5753170157101009,
          0.5884090037751637,
          0.6015009918402265,
          0.6145929799052898,
          0.6276849679703522,
          0.6407769560354155,
          0.6538689441004779,
          0.6669609321655412,
          0.6800529202306045,
          0.6931449082956669,
          0.7062368963607302,
          0.719328884425793,
          0.7324208724908559,
          0.7455128605559191,
          0.758604848620982,
          0.7716968366860448,
          0.7847888247511077,
          0.7978808128161705,
          0.8109728008812334,
          0.8240647889462966,
          0.8371567770113595,
          0.8502487650764223,
          0.8633407531414856,
          0.876432741206548,
          0.8895247292716113,
          0.9026167173366741,
          0.915708705401737,
          0.9288006934668003,
          0.9418926815318627,
          0.954984669596926,
          0.9680766576619888,
          0.9811686457270516,
          0.9942606337921145,
          1.0073526218571782,
          1.0204446099222402,
          1.033536597987304,
          1.0466285860523659,
          1.0597205741174296,
          1.0728125621824924,
          1.0859045502475553,
          1.0989965383126181,
          1.112088526377681,
          1.1251805144427447,
          1.1382725025078075,
          1.1513644905728695,
          1.1644564786379332,
          1.177548466702996,
          1.190640454768059,
          1.2037324428331218,
          1.2168244308981846,
          1.2299164189632474,
          1.2430084070283103,
          1.256100395093374,
          1.269192383158436,
          1.2822843712234988,
          1.2953763592885625,
          1.3084683473536254,
          1.3215603354186882,
          1.334652323483751,
          1.347744311548814,
          1.3608362996138768,
          1.3739282876789405,
          1.3870202757440033,
          1.4001122638090653,
          1.413204251874129,
          1.4262962399391919,
          1.4393882280042547,
          1.4524802160693184,
          1.4655722041343804,
          1.4786641921994432,
          1.491756180264506,
          1.5048481683295698,
          1.5179401563946318,
          1.5310321444596946,
          1.5441241325247583,
          1.5572161205898212,
          1.570308108654884,
          1.5834000967199469,
          1.5964920847850097,
          1.6095840728500725,
          1.6226760609151363,
          1.6357680489801991,
          1.648860037045261,
          1.6619520251103248,
          1.6750440131753876,
          1.6881360012404505,
          1.7012279893055142,
          1.7143199773705762,
          1.727411965435639,
          1.7405039535007019,
          1.7535959415657656,
          1.7666879296308284,
          1.7797799176958904,
          1.7928719057609541,
          1.805963893826017,
          1.8190558818910798,
          1.8321478699561426,
          1.8452398580212055,
          1.8583318460862683,
          1.871423834151332,
          1.884515822216395,
          1.8976078102814569,
          1.9106997983465206,
          1.9237917864115834,
          1.9368837744766463,
          1.94997576254171,
          1.963067750606772,
          1.9761597386718348,
          1.9892517267368985,
          2.0023437148019614,
          2.0154357028670242,
          2.028527690932086,
          2.04161967899715,
          2.0547116670622128,
          2.0678036551272756,
          2.0808956431923393,
          2.0939876312574013,
          2.107079619322464,
          2.120171607387528,
          2.1332635954525907,
          2.1463555835176527,
          2.1594475715827164,
          2.1725395596477792,
          2.185631547712842,
          2.198723535777906,
          2.2118155238429678,
          2.2249075119080306,
          2.2379994999730943,
          2.251091488038157,
          2.26418347610322,
          2.277275464168282,
          2.2903674522333457,
          2.3034594402984085,
          2.3165514283634714,
          2.329643416428535,
          2.342735404493597,
          2.35582739255866,
          2.3689193806237236,
          2.3820113686887865,
          2.3951033567538493,
          2.408195344818912,
          2.421287332883975,
          2.434379320949038,
          2.4474713090141016,
          2.4605632970791635,
          2.4736552851442264,
          2.48674727320929,
          2.499839261274353,
          2.512931249339416,
          2.5260232374044778,
          2.5391152254695415,
          2.5522072135346043,
          2.565299201599667,
          2.578391189664731,
          2.591483177729793,
          2.6045751657948557,
          2.6176671538599194,
          2.6307591419249823,
          2.643851129990045,
          2.656943118055108,
          2.670035106120171,
          2.6831270941852337,
          2.6962190822502974,
          2.7093110703153602,
          2.722403058380422,
          2.735495046445486,
          2.7485870345105488,
          2.7616790225756116,
          2.7747710106406736,
          2.7878629987057373,
          2.8009549867708,
          2.814046974835863,
          2.8271389629009267,
          2.8402309509659887,
          2.8533229390310515,
          2.8664149270961152,
          2.879506915161178,
          2.892598903226241,
          2.9056908912913038,
          2.9187828793563666,
          2.9318748674214294,
          2.944966855486493,
          2.958058843551556,
          2.971150831616618,
          2.9842428196816817,
          2.9973348077467445,
          3.0104267958118074,
          3.0235187838768693,
          3.036610771941933,
          3.049702760006996,
          3.0627947480720588,
          3.0758867361371225,
          3.0889787242021844,
          3.1020707122672473,
          3.115162700332311,
          3.128254688397374,
          3.1413466764624367,
          3.1544386645274995,
          3.1675306525925624,
          3.1806226406576252,
          3.193714628722689,
          3.206806616787752,
          3.2198986048528138,
          3.2329905929178775,
          3.2460825809829403,
          3.259174569048003,
          3.272266557113067,
          3.285358545178129,
          3.2984505332431917,
          3.3115425213082545,
          3.3246345093733183,
          3.337726497438381,
          3.350818485503443,
          3.363910473568507,
          3.3770024616335697,
          3.3900944496986325,
          3.4031864377636953,
          3.416278425828758,
          3.429370413893821,
          3.4424624019588848,
          3.4555543900239476,
          3.4686463780890096,
          3.4817383661540733,
          3.494830354219136
         ],
         "xaxis": "x",
         "y": [
          0.008624878787226292,
          0.00889865013781849,
          0.009170909690792964,
          0.009441826224864763,
          0.009711673915426332,
          0.009980831709105919,
          0.010249780963181966,
          0.010519101346550257,
          0.010789465032955931,
          0.011061629251328095,
          0.011336427291493168,
          0.011614758095500687,
          0.011897574594503985,
          0.012185870977875962,
          0.012480669104353624,
          0.01278300428392622,
          0.013093910673446015,
          0.013414406538197062,
          0.013745479635683441,
          0.014088072976600715,
          0.014443071211375188,
          0.014811287878968401,
          0.015193453738149818,
          0.015590206380555992,
          0.016002081300101136,
          0.016429504565292692,
          0.0168727872104169,
          0.017332121429124592,
          0.01780757862042797,
          0.018299109303285564,
          0.01880654488255978,
          0.01932960121690682,
          0.019867883908772654,
          0.020420895208730062,
          0.02098804240142096,
          0.02156864751880256,
          0.022161958208563416,
          0.022767159571706608,
          0.023383386773513058,
          0.02400973822641935,
          0.024645289141687055,
          0.025289105248937196,
          0.025940256488416552,
          0.02659783048993045,
          0.02726094566433338,
          0.02792876374789145,
          0.02860050165625773,
          0.029275442522757104,
          0.029952945814684842,
          0.03063245644090691,
          0.03131351278375739,
          0.031995753607636096,
          0.03267892381542675,
          0.03336287904153801,
          0.03404758908671887,
          0.034733140214570586,
          0.035419736342675034,
          0.036107699172346845,
          0.03679746731010927,
          0.03748959444105815,
          0.03818474661933219,
          0.03888369874401966,
          0.0395873302901059,
          0.04029662036365892,
          0.04101264214854239,
          0.041736556808756674,
          0.042469606906284554,
          0.04321310938931717,
          0.0439684482002458,
          0.04473706654710678,
          0.045520458876554634,
          0.04632016258119572,
          0.047137749469513525,
          0.047974817022909275,
          0.0488329794617879,
          0.04971385864133124,
          0.050619074797755736,
          0.05155023716754464,
          0.05250893450541257,
          0.05349672553157403,
          0.05451512934515902,
          0.05556561584819346,
          0.056649596233214194,
          0.05776841359704182,
          0.05892333375314292,
          0.060115536324994924,
          0.061346106212491563,
          0.06261602553224674,
          0.06392616614020477,
          0.06527728285078972,
          0.06667000747049139,
          0.06810484376489107,
          0.06958216347634061,
          0.0711022035045558,
          0.07266506435408575,
          0.0742707099409002,
          0.07591896883521652,
          0.07760953699931453,
          0.0793419820577158,
          0.08111574911310444,
          0.0829301680952194,
          0.0847844626022208,
          0.08667776016538851,
          0.08860910383914944,
          0.09057746499012255,
          0.09258175713187516,
          0.09462085062716596,
          0.09669358805733484,
          0.09879880003984899,
          0.10093532126040405,
          0.1031020064758889,
          0.10529774623928435,
          0.10752148209740711,
          0.10977222101737283,
          0.1120490488076649,
          0.1143511423145073,
          0.11667778019348195,
          0.11902835207949806,
          0.12140236600469076,
          0.12379945394291031,
          0.12621937539038883,
          0.1286620189241455,
          0.13112740171191392,
          0.13361566697906851,
          0.13612707946846286,
          0.1386620189576309,
          0.14122097192388322,
          0.14380452147103065,
          0.14641333565147613,
          0.14904815433406557,
          0.1517097747813422,
          0.1543990361097998,
          0.15711680281359539,
          0.15986394753626373,
          0.16264133327667932,
          0.1654497952152785,
          0.16829012234486482,
          0.17116303908765415,
          0.17406918707702862,
          0.17700910727915364,
          0.17998322262650543,
          0.18299182133267206,
          0.18603504105566676,
          0.18911285407540745,
          0.19222505364986772,
          0.19537124171343367,
          0.19855081807987027,
          0.20176297131055718,
          0.20500667140577813,
          0.2082806644722773,
          0.21158346951344237,
          0.21491337747875275,
          0.21826845269602382,
          0.22164653679301075,
          0.22504525519375757,
          0.22846202624946854,
          0.23189407303354836,
          0.2353384377959245,
          0.23879199903308224,
          0.24225149108788885,
          0.24571352614789058,
          0.2491746184631656,
          0.25263121055596244,
          0.2560797011453956,
          0.2595164744625798,
          0.2629379305861052,
          0.2663405163859967,
          0.26972075662759465,
          0.27307528475646986,
          0.2764008728627157,
          0.27969446030888206,
          0.2829531805013467,
          0.2861743852908164,
          0.2893556665044451,
          0.2924948741400318,
          0.2955901307919355,
          0.2986398419284703,
          0.3016427017010824,
          0.30459769403574566,
          0.3075040888356683,
          0.3103614332102405,
          0.3131695377365933,
          0.3159284578554504,
          0.3186384706001583,
          0.3213000469548638,
          0.3239138202326206,
          0.32648055095457557,
          0.3290010887952025,
          0.33147633223370926,
          0.3339071866163381,
          0.33629452138653404,
          0.33863912727832796,
          0.3409416742915331,
          0.34320267127450677,
          0.34542242793070027,
          0.34760102003875365,
          0.3497382586326561,
          0.35183366382901754,
          0.3538864439137251,
          0.35589548021150647,
          0.3578593181608468,
          0.35977616490531633,
          0.36164389359290455,
          0.36346005444993484,
          0.36522189256819965,
          0.36692637221586244,
          0.36857020735722207,
          0.37014989794635533,
          0.37166177144759505,
          0.37310202893421396,
          0.37446679502776514,
          0.3757521708662032,
          0.37695428923070246,
          0.3780693709201799,
          0.37909378143963396,
          0.38002408706384894,
          0.38085710935162587,
          0.38158997721693466,
          0.38222017571124817,
          0.3827455907344785,
          0.38316454896870694,
          0.38347585241733484,
          0.38367880703021684,
          0.3837732450004557,
          0.3837595404284408,
          0.3836386181609902,
          0.38341195572573983,
          0.38308157839095947,
          0.38265004748667547,
          0.38212044222245306,
          0.3814963353288145,
          0.3807817629316749,
          0.3799811891413049,
          0.3790994658984124,
          0.378141788669511,
          0.3771136486216311,
          0.3760207819327264,
          0.3748691169091667,
          0.3736647195860408,
          0.3724137384803463,
          0.371122349152382,
          0.36979669920777064,
          0.3684428543425428,
          0.3670667459977054,
          0.36567412114875275,
          0.3642704947107044,
          0.36286110499147173,
          0.36145087257655995,
          0.36004436297715553,
          0.3586457533222473,
          0.35725880332421095,
          0.3558868306967808,
          0.354532691154949,
          0.35319876307840165,
          0.3518869368738533,
          0.3505986090272438,
          0.3493346807943016,
          0.34809556143751474,
          0.34688117587909567,
          0.3456909766030727,
          0.3445239596051993,
          0.3433786841569307,
          0.34225329611932215,
          0.3411455545144152,
          0.34005286103560206,
          0.33897229215477087,
          0.33790063346292676,
          0.33683441586274326,
          0.3357699532164211,
          0.3347033810406832,
          0.3336306958330866,
          0.33254779461048967,
          0.33145051424185273,
          0.3303346701639387,
          0.32919609408023126,
          0.3280306702607257,
          0.3268343700833135,
          0.32560328448628917,
          0.32433365403591496,
          0.32302189635270445,
          0.32166463068465145,
          0.32025869946439833,
          0.3188011867394772,
          0.3172894334192764,
          0.3157210493381382,
          0.3140939221896978,
          0.31240622344187147,
          0.31065641139335365,
          0.3088432315796625,
          0.3069657147782849,
          0.30502317289701497,
          0.30301519305599556,
          0.3009416301913187,
          0.29880259851559116,
          0.29659846216821656,
          0.2943298253751762,
          0.2919975224150381,
          0.2896026076553849,
          0.2871463458827468,
          0.2846302031007253,
          0.28205583791685024,
          0.27942509358065254,
          0.2767399906754505,
          0.27400272040660933,
          0.2712156383717251,
          0.26838125864549933,
          0.2655022479661028,
          0.26258141977245586,
          0.2596217278147616,
          0.2566262590451127,
          0.253598225492018,
          0.2505409548327671,
          0.24745787940075983,
          0.24435252340081767,
          0.24122848815328019,
          0.23808943524595688,
          0.23493906754014293,
          0.23178110805075997,
          0.22861927679895344,
          0.2254572658155845,
          0.22229871255331646,
          0.2191471720407201,
          0.21600608818135628,
          0.21287876466164318,
          0.20976833598127206,
          0.20667773915703042,
          0.20360968667362142,
          0.20056664126232904,
          0.1975507930795428,
          0.19456403983211418,
          0.1916079703556402,
          0.18868385209594876,
          0.18579262287459075,
          0.1829348872378182,
          0.18011091759742068,
          0.17732066027331111,
          0.17456374644451397,
          0.17183950790996144,
          0.16914699745603234,
          0.16648501352684483,
          0.1638521287985862,
          0.16124672217307334,
          0.15866701363048782,
          0.15611110131871928,
          0.15357700020846138,
          0.15106268161028918,
          0.14856611283309876,
          0.14608529626276287,
          0.14361830715553583,
          0.14116332947201812,
          0.13871868912347285,
          0.13628288406161307,
          0.13385461071411042,
          0.1314327863491113,
          0.12901656704093656,
          0.12660536100368971,
          0.12419883715739928,
          0.12179692889026839,
          0.11939983307829935,
          0.1170080045178097,
          0.11462214601508254,
          0.11224319445869871,
          0.10987230327233993,
          0.1075108217075678,
          0.10516027148616296,
          0.10282232133920173,
          0.10049876001459009,
          0.09819146833608465,
          0.0959023908949521,
          0.09363350794076938,
          0.09138680801110326,
          0.08916426180186199,
          0.08696779773218498,
          0.08479927960116447,
          0.08266048667006072,
          0.0805530964346357,
          0.07847867027956265,
          0.0764386421323766,
          0.07443431015993547,
          0.07246683147762452,
          0.07053721977224701,
          0.06864634567528431,
          0.06679493966536112,
          0.06498359722855444,
          0.06321278596363872,
          0.061482854287213944,
          0.05979404137145085,
          0.058146487935150405,
          0.05654024750693922,
          0.05497529778745869,
          0.053451551754824495,
          0.05196886818372302,
          0.05052706128231251,
          0.04912590919151553,
          0.047765161137077884,
          0.04644454307455844,
          0.04516376171981154,
          0.04392250691106718,
          0.04272045230198156,
          0.04155725443663889,
          0.040432550306149,
          0.03934595353101167,
          0.03829704935279065,
          0.03728538865198743,
          0.03631048123564039,
          0.035371788657626566,
          0.03446871684662138,
          0.03360060882109229,
          0.03276673776769051,
          0.031966300749248625,
          0.031198413291773683,
          0.030462105076952323,
          0.02975631693851537,
          0.029079899328191137,
          0.028431612380833773,
          0.027810127669629623,
          0.02721403170205753,
          0.02664183116650193,
          0.026091959899066212,
          0.025562787501122237,
          0.02505262950131074,
          0.02455975892183848,
          0.024082419078666924,
          0.02361883741909963,
          0.023167240178792944,
          0.022725867623646423,
          0.022292989630568708,
          0.021866921354836193,
          0.021446038730620863,
          0.021028793555118486,
          0.02061372791530468,
          0.02019948772935684,
          0.019784835191793908,
          0.019368659931927774,
          0.018949988718771592,
          0.01852799357154917,
          0.01810199816281306,
          0.017671482430312958,
          0.017236085343566823,
          0.016795605800996087,
          0.016350001662933284,
          0.015899386954275858,
          0.0154440272975594,
          0.014984333662323494,
          0.014520854539472215,
          0.014054266669564639,
          0.013585364471364684,
          0.013115048331339722,
          0.012644311926013993,
          0.012174228757096601,
          0.011705938084132499,
          0.011240630441145233,
          0.010779532922481684,
          0.010323894419022622,
          0.009874970979320101,
          0.00943401146133239,
          0.009002243629557129,
          0.00858086083983406,
          0.008171009440241912,
          0.00777377700169196,
          0.0073901814763641435,
          0.007021161366365863,
          0.006667566969226638,
          0.006330152751354585,
          0.006009570885616337,
          0.005706365974973564,
          0.005420970970780542,
          0.005153704282047093,
          0.004904768060776657,
          0.0046742476384430695,
          0.004462112079770105,
          0.004268215812186672,
          0.0040923012825843244,
          0.003934002587207281,
          0.0037928500155497346,
          0.003668275444900069,
          0.003559618518532075,
          0.0034661335373781456,
          0.003386996992218619,
          0.0033213156608910693,
          0.0032681351926898785,
          0.003226449099943156,
          0.0031952080747016495,
          0.003173329546561247,
          0.003159707395905729,
          0.0031532217353639276,
          0.003152748671112954,
          0.0031571699549338664,
          0.0031653824377576275,
          0.003176307235954262,
          0.003188898522943314,
          0.003202151860958228,
          0.0032151119910857643,
          0.0032268800041077967,
          0.0032366198202531727,
          0.0032435639127461452,
          0.0032470182180035522,
          0.0032463661844355377,
          0.0032410719219547737,
          0.0032306824253691647
         ],
         "yaxis": "y"
        },
        {
         "legendgroup": "distplot",
         "marker": {
          "color": "rgb(31, 119, 180)",
          "symbol": "line-ns-open"
         },
         "mode": "markers",
         "name": "distplot",
         "showlegend": false,
         "type": "scatter",
         "x": [
          0.5176540693435158,
          -1.9266384976079325,
          0.17938536641161643,
          0.38915999543031055,
          -0.7591380806708211,
          0.470470818044731,
          1.7729368568894235,
          1.777151062645996,
          0.05295514403855496,
          0.056140995617671045,
          0.9017079487146321,
          1.3462507011950788,
          1.2184069539321611,
          -0.1962336218110319,
          1.0044040406461634,
          1.6364032564105302,
          1.9408029587365212,
          1.096666009955292,
          0.14803800774767198,
          -0.5262906949038044,
          -0.719228251906166,
          -0.35598290422113404,
          -0.18143819287838592,
          0.18635279645667757,
          -0.11974425243084415,
          -1.3168971112726042,
          -0.07808900946482286,
          0.5515942381396092,
          -0.7786192545249374,
          0.7197425159349782,
          0.5035751328690016,
          -1.0975544133127682,
          -0.17798774939768366,
          0.3502108586063837,
          -0.9377428715668532,
          0.5210103557023739,
          0.618795733581758,
          -0.5263740012461203,
          0.6758945560537417,
          0.7867211328760503,
          -0.3391495865588815,
          0.0878176997154205,
          -0.5320752859874237,
          0.06092790112647874,
          0.9487932923551486,
          1.17376023847231,
          -0.4144893483640793,
          0.25177257945859066,
          -0.9092014968648322,
          0.32311916269616187,
          1.7589643968994397,
          0.6941603495168558,
          0.2040645061431851,
          0.570705593734165,
          2.1359386958855944,
          -0.8675187804202622,
          -0.8294872194177998,
          1.075051042471335,
          0.18125039798246262,
          0.6326882348281612,
          -0.7039120429158643,
          0.3728495871425359,
          -0.12022459248783132,
          -1.1037976560201377,
          0.14439594084090815,
          -0.6061862253368453,
          0.39808305113857817,
          -1.4075842568154828,
          -2.3290616445329313,
          2.1991460584616624,
          0.5096813750668424,
          -1.3821391588688383,
          -1.081608999599621,
          0.21639804495572226,
          -2.256735111507702,
          -0.13173250688878557,
          -0.7021141318310798,
          0.4831675523383652,
          0.781100132671573,
          0.7866839197495062,
          -3.0380716902472704,
          -0.18156217647710624,
          2.105929308978488,
          -0.08597987049919015,
          -0.37464999409496696,
          0.49485272217474124,
          0.3318397206931223,
          0.1671556604629985,
          0.2163674463671284,
          1.0550534621189471,
          -0.8681644809038571,
          -0.5052373329986323,
          -0.1475715345886041,
          -0.6224740050125744,
          -0.22980126130673714,
          0.35229852935762945,
          -0.6673258421953506,
          0.23337428048920517,
          1.021323723086961,
          1.6532956726498056,
          0.8766072792848989,
          1.517733439640362,
          0.04190298500601147,
          0.19144616333039705,
          -0.9628045938138505,
          -0.7951131929490192,
          -0.2676518221786831,
          -1.406762247004167,
          0.4970938121029308,
          1.6377526543081762,
          -0.7105747980315011,
          -0.369337625340982,
          0.09095864054456108,
          1.6409188996845399,
          1.1828328032069237,
          0.7531740009015915,
          1.401477164577915,
          2.0265028437288466,
          0.12481609434978702,
          -0.7883439847434381,
          0.4063123766927022,
          0.313908048285553,
          -0.8112688932493007,
          0.4585480471684246,
          -0.49408942162925257,
          1.4890226561958075,
          0.08849632266818273,
          -0.7715599385231667,
          2.4177007192616724,
          1.081717225032806,
          -1.0047092980763521,
          -0.526927832796693,
          -0.47403098625298934,
          -0.6191574726418316,
          -0.13747512146849108,
          0.38663150207961694,
          1.1461304611391374,
          0.16839478652372317,
          -0.5469486403862741,
          0.5185845318868094,
          -0.429482207853616,
          0.7674907102208245,
          -0.7124943517664116,
          1.6263125330836903,
          -0.8313458375158056,
          1.3807336913206503,
          1.01266622891095,
          -0.022246201443898307,
          -1.416059149429094,
          1.8075217892278568,
          -0.18532710673819175,
          0.306681191099923,
          1.094043027426311,
          0.7081660153958996,
          -2.3761080117860245,
          -1.8312132158775782,
          0.7795870377663889,
          0.7576388308751754,
          0.9773063462698506,
          0.3125281871505035,
          -0.6992945647365195,
          -0.19189324236968983,
          2.77011549842281,
          0.10996023124626447,
          -0.16557025202537515,
          1.3966745321944505,
          0.9893935178484842,
          -0.11016062179517669,
          0.5978183622033814,
          0.7463147460628005,
          -0.8906185713369069,
          -0.1309529077667626,
          -0.45955844871040985,
          -0.7334038060905612,
          -1.5368540183962514,
          0.5133659808874632,
          -2.2445665859604413,
          0.38079347572104977,
          0.6363758410016216,
          0.22872470563580097,
          0.719487381606402,
          0.41361928538213977,
          -2.422074900556862,
          0.8124728412803435,
          -0.7441395775650883,
          -0.0646371710482722,
          1.2620841630064616,
          0.3860271250085018,
          -0.41021768320562363,
          0.8545853455005852,
          1.540586018135902,
          -0.4421801955365669,
          -0.14057927769479542,
          0.4383111468987668,
          -0.9928328794020447,
          -1.1538867730165836,
          -0.4434525319583714,
          1.1721753760535374,
          0.7400997754070168,
          -1.928870858057466,
          -0.055955740727583414,
          -0.15206276512134217,
          0.45887183603814463,
          -1.0395124085546823,
          -0.5557921482260121,
          -0.9006947045884975,
          -2.0136606655309683,
          -0.29152386207182335,
          0.3073488968070651,
          -0.28521284048771245,
          -1.3182797020290957,
          0.9582914894701384,
          -0.3295682264659043,
          -0.5171536004178932,
          -0.009963347048653325,
          1.235243521105968,
          -1.4436919844572271,
          1.578442281022645,
          0.8612281978645211,
          -1.806332851547567,
          -1.2355973973504308,
          0.4708884541054725,
          0.2698936945043562,
          -0.08393383261978744,
          -1.402341954105711,
          0.1021821959244801,
          -0.2597548404501037,
          0.6186793668729009,
          -0.823241962957012,
          -0.6380814834294847,
          -0.24937678869441457,
          1.1690299087949507,
          1.3483637293282429,
          -0.276236457940628,
          0.3642380741910434,
          0.8585951179872289,
          0.30828399085072494,
          0.4512465765904475,
          -0.9994713690655778,
          -0.2224597019354993,
          -0.16019134832134602,
          -0.22327713100755917,
          -0.4537095114412808,
          -1.9392463465876217,
          -1.3903204861782832,
          -0.3957906519112031,
          0.14203966467751775,
          -0.26367901228831064,
          0.38457141318657234,
          -0.7541404241148093,
          0.9632455572439081,
          -0.1759374993963902,
          -0.9558703471216313,
          -0.19923660705668098,
          0.781147704140476,
          -0.15830552636250586,
          -0.2864821770048353,
          0.7746861083144464,
          0.1421546057532976,
          0.9059375401191695,
          0.9668865607485847,
          -1.37584645077546,
          -0.0984830952180347,
          -0.06389426184229359,
          -0.3932634641148235,
          -0.24322737896112046,
          0.31760558267867495,
          1.4432754282574252,
          1.0973421709574067,
          -0.9474177616675014,
          0.12301834048386043,
          0.03463437021977247,
          -1.5009104151129389,
          -1.6562077786501708,
          -0.047282406449509755,
          1.4972225179952374,
          0.39755523211514027,
          -1.1727099662867846,
          -1.9847914760034886,
          0.6694733448361697,
          -1.1200498356592656,
          -0.5563080131220066,
          -0.12045659044806346,
          -0.0036563319677333406,
          -0.6316190989534181,
          0.05481258959265315,
          -1.4491538386548564,
          0.5060457289212263,
          -0.5880287551415027,
          -0.5920551893456799,
          -0.36746679507615737,
          1.6070655938727327,
          1.0837562057081274,
          -1.5904383166400742,
          -0.5127656352878892,
          -0.39852216897057013,
          0.3057887486879108,
          -2.502600747385001,
          1.355851097280561,
          -0.6608028996163037,
          1.931412634786183,
          -0.7297620283486996,
          1.242704235656297,
          -0.8105835633648948,
          0.5879665959088253,
          0.8914264928774869,
          -0.6090337671581159,
          -0.4282379424513153,
          -0.23149780022407473,
          -0.22743645284907293,
          0.4945766952847596,
          1.0162001434745358,
          -1.426637361765932,
          -1.19319440355357,
          0.02899371140684854,
          -1.332431474540195,
          -1.328177715822475,
          0.02401336180543119,
          -1.2941558382195215,
          -1.0325420079008316,
          -0.014739789394705674,
          0.8330190806928046,
          -2.052629631860973,
          -0.005428501158042683,
          -0.6156942548479216,
          -0.49974284389051865,
          -0.40163277658251395,
          1.3994467409418847,
          0.18052243839447832,
          -1.1763053261460574,
          -1.4379328555283186,
          -1.7619213070887996,
          0.7467597876840905,
          1.3163920894566998,
          -0.8349902596893789,
          0.9674129712669334,
          1.519074783579965,
          -0.02443555029954905,
          -1.8129985933064643,
          -0.4475915585810136,
          2.760636711019427,
          -0.8827932473544,
          -0.24349410576888283,
          -0.49560777901552194,
          -1.2729333262311116,
          0.5046602362099798,
          -1.0140996810746494,
          0.0808385544994782,
          0.39655782095257264,
          -2.0779471841567156,
          0.37182216849554633,
          1.9927660198673063,
          1.027510178334594,
          -1.2521716622546275,
          0.5567064315904057,
          1.0991423445464708,
          1.3591323216232216,
          -0.29769230005035224,
          1.223341369228566,
          -0.12473317086123134,
          1.0628325077312728,
          0.30270658110899823,
          0.6638559359261477,
          -1.8142986202725364,
          -0.020938081218498626,
          -0.4926534948337888,
          0.43766607333803215,
          0.0990706863998156,
          -0.17431430601469824,
          0.5557453880879886,
          -1.2543615417479104,
          0.803831998302554,
          -1.6607665176851647,
          -1.162478807251615,
          -1.2190956919586442,
          0.1708358168144749,
          0.7573032365620472,
          -0.13937656348360225,
          -0.6525699460776868,
          -0.12956877525086666,
          0.7734968216224868,
          1.221614191965468,
          0.13056232156912867,
          -1.4025700213797023,
          1.3754094291018273,
          -0.4682430276337166,
          0.1860227347102457,
          -0.03209501083089391,
          -1.0973823131884912,
          0.4466467149267491,
          -0.5558386084049444,
          0.02336428380937664,
          0.4718092176648599,
          0.38254374540817876,
          0.1045195542146154,
          1.6449285262045883,
          -1.0292698983461337,
          -0.3734110138393443,
          -0.6577665183904536,
          0.7803893143990183,
          0.42485478100593005,
          -0.900746143184742,
          -0.7997001142684761,
          0.8655207971591592,
          0.6881326344362714,
          -1.241389506393177,
          -0.3380873437307681,
          0.8103301395022581,
          -2.0942689279144426,
          -1.1413001468160755,
          -0.10688625446333933,
          0.4908189298472821,
          -0.07221050966564956,
          -0.5171236510537423,
          0.7825194033978676,
          0.3500123267726148,
          -0.6445042962734321,
          -0.6425729914566368,
          -0.40659015931427883,
          -0.6082427023545377,
          2.6423190759031643,
          -0.6894748505389573,
          1.9043956890100613,
          -0.003184970704104557,
          -0.18584171442600178,
          1.540839765524826,
          -1.552868456867993,
          0.3991289135160396,
          0.7830411210962609,
          -1.4801545687952813,
          -0.6671995120197551,
          1.067272037967401,
          0.9950750602580812,
          -0.23794101747155727,
          0.09228213261495417,
          -0.5485898259885943,
          1.0365619413019491,
          -0.5475394229577961,
          1.7301116092492168,
          0.6613229287606193,
          -0.9366769010749078,
          2.613659001987841,
          -0.1335858495710417,
          -0.05409776715442029,
          0.8108499606192617,
          1.4475906394786502,
          1.021048004705793,
          0.7563759321761447,
          1.0932634414396036,
          0.7105674156459114,
          0.05819706501539681,
          1.0952228311948602,
          0.9799509895379702,
          -0.012241647512248896,
          0.932275535008552,
          1.1403022137452665,
          -1.000224625066208,
          1.0542017727989248,
          -0.18778174841542272,
          1.0325636246265348,
          1.0712963655526857,
          -0.9052989712197218,
          0.6645551932447237,
          0.06567210585627466,
          0.3985729220599194,
          -1.630932735550995,
          0.11050290362290567,
          0.8683586987110188,
          0.025187291290748315,
          2.0529564213870986,
          -1.1853654875590205,
          -1.7223373938732602,
          -1.1400409618703362,
          -2.5546322197200544,
          1.3360621649251982,
          -1.7945738203465973,
          -1.5071166837145473,
          -0.20047223456922528,
          -0.24721427929537862,
          -0.183246357544602,
          0.1805624299129483,
          -0.541755214484417,
          -0.8294629154726576,
          -0.5497728050136961,
          0.6913545398171642,
          -0.5252277399217683,
          1.0848975161108245,
          -1.1261784453901182,
          1.795521108039668,
          1.1052335361751,
          -0.5107071811992713,
          0.5811792928285329,
          1.1585656550715533,
          -0.2988746942471171,
          -0.4449511108713603,
          -0.938670135481349,
          2.191342265725638,
          0.4893131707486348,
          0.4024687183116444,
          0.666096007644043,
          -0.8299719778838393,
          0.38289437401411947,
          0.01963430737558851,
          -0.6832682068124004,
          -1.2720398758503797,
          -0.9135152999974037,
          -1.4095423623732115,
          1.1195344863427565,
          1.7749794202111446,
          -1.0368259813141636,
          -0.3333288057953158,
          -0.8093760010340953,
          -0.29936734469173865,
          -0.13814617997926315,
          0.5590060777311671,
          0.2485736210991344,
          0.8566995667213149,
          -0.744030055425132,
          2.512804327619227,
          -0.46720771434871383,
          0.34950021024545697,
          -0.668093499349435,
          1.1019787583734624,
          0.2709277924277512,
          -0.6932113544036781,
          0.990005446134624,
          -0.4053364853247077,
          0.27032139414074696,
          1.3523964886697784,
          -1.4743003326173263,
          2.02950900794197,
          1.3819580768382234,
          -0.11154380256540024,
          -0.9134990677247453,
          0.4926764681990856,
          1.215947707025049,
          -0.5842354939817912,
          -0.4570122073212928,
          0.4842270490325069,
          -1.4482033894909778,
          0.5960310092158441,
          -0.4976320495903822,
          -0.35703181614933094,
          0.006240545041463764,
          0.32335676697813864,
          -0.5573122453366383,
          1.4792545989191792,
          2.1160520623170704,
          -0.27431884484601954,
          -0.7041826768395525,
          0.04163916499754548,
          -1.1069679762971993,
          0.006013362549389266,
          -0.38600179140620444,
          -2.1754534957800367,
          0.30313417061884756,
          0.5876266804339528,
          -0.2638429276717713,
          -0.13563731297848386,
          0.49105312616858776,
          0.7160229815851786,
          1.0493091752528045,
          0.2574325777961832,
          2.1088399762242274,
          -0.6472619297270138,
          1.4814016256810751,
          -0.12557952454879487,
          1.2459657110172455,
          2.3744575364144267,
          -1.1358481500447495,
          1.753004793418907,
          -0.7554012511351378,
          0.7380856460798914,
          -0.1725971252048306,
          -0.1316722986993851,
          0.19921983536990606,
          -2.9630045464452963,
          0.7954415028172516,
          1.0770756154049592,
          -0.3012280365357591,
          1.6031086240885268,
          1.255524236819302,
          1.7623599620065982,
          -0.9594908921596574,
          -0.7534163239818783,
          -0.40951525444397346,
          0.6323059753964619,
          -0.7970540650322421,
          -0.009855436323174857,
          -0.3286866399388179,
          -0.6051203054058497,
          -1.5264523161776793,
          1.544810643670232,
          1.6597542317180152,
          -1.5687070902233817,
          1.5230181656304578,
          0.8710730008766445,
          -0.6998525091218011,
          0.7298716324912629,
          0.6780818657594858,
          -1.2827407064887582,
          0.9031435006417228,
          -1.3930631033739296,
          -0.1948822706095099,
          1.4151487130322173,
          3.5079223422841994,
          1.9125450363864642,
          0.6916274846959922,
          -2.4668822327383313,
          0.20500827709820554,
          0.7710122414326426,
          -0.3815481973417496,
          0.45042703485548463,
          -0.21414095743028083,
          0.6181107238669865,
          -0.17863689122463206,
          0.14847401390618578,
          0.5051357688744977,
          -0.5176654285346497,
          0.1089179673024441,
          -0.5621416151825596,
          0.05728706346858822,
          0.9407739452599932,
          1.280316992955253,
          -0.7665420866968221,
          -0.37343186949310386,
          0.8196735943352245,
          -0.2255401902428453,
          -0.514657206704833,
          0.10997294315597067,
          -1.0296424741870902,
          -0.13498650419349179,
          1.0213412153734338,
          -0.9447319968490071,
          -0.7693834165668905,
          -0.796351281810764,
          -0.07831590704555025,
          -1.2848145049392317,
          0.4071089704860083,
          -0.2370201386600546,
          0.8297882165239746,
          -0.6809490103864995,
          -0.1273464321581614,
          0.6574563495671082,
          0.6768582332260945,
          1.1411420647493908,
          1.0277217448176563,
          -0.15491175309474703,
          -1.165762204842779,
          1.4936821864345486,
          -2.387826723060757,
          1.6452922171184898,
          -1.5783010034173979,
          -0.7243710211501975,
          -0.37585400927809653,
          1.47135263875769,
          -1.742036961934263,
          -0.9400190311587641,
          0.6819927167747134,
          -0.9983365457647454,
          -0.37669526726971864,
          -1.595736421514321,
          -0.11643591074607326,
          2.0550173679160753,
          0.8934614307645752,
          1.6616821409338542,
          0.8472682888397679,
          0.5180082744138681,
          0.977696538241902,
          -0.5064104535777053,
          0.0679776214546193,
          -0.40437889064030647,
          -0.8940944118383336,
          -0.5984690676772132,
          0.40154390997203815,
          -0.49112797152680776,
          -0.34742072326978946,
          0.6537411033558539,
          -1.6602878360119977,
          1.8416901283435265,
          0.6212888606176002,
          0.4366327524250317,
          -0.7373110927875501,
          0.11290403170692584,
          -0.7535779359073022,
          0.6129590960801988,
          -0.9011275744636698,
          -0.152963184552418,
          0.05861887303468093,
          -0.4064415228927279,
          -2.576485472884896,
          -0.9202455730383773,
          1.6787703823389393,
          1.6811070763871103,
          0.05459224122853927,
          -0.3726091308827082,
          -0.10864864795883425,
          -0.8600334251778055,
          -1.133366703150724,
          0.23476944668376512,
          2.0312900945968875,
          0.29454972445541605,
          1.473628158464711,
          2.1354860740778223,
          -0.8169976117646578,
          0.024234547988855375,
          0.13968319510593216,
          -0.6445991589498212,
          0.016464755078633445,
          -1.623967149137165,
          0.1442909726947298,
          0.9165949221851991,
          -0.10726965789985832,
          -0.3989433998367592,
          0.6190583635293229,
          0.2236456732612047,
          0.11782423676174622,
          -0.6946436365024259,
          0.7870261103704146,
          0.5687379586344113,
          1.4397911700595525,
          -0.5993177214956202,
          2.685199696714186,
          -1.4885694303487196,
          0.951658533729458,
          0.2617313432390226,
          0.6880087079713368,
          -0.24838774881187792,
          -1.9020316159348185,
          0.4092775220433891,
          -0.26853674069667494,
          1.5257701584305967,
          -1.9698142661929439,
          -2.836284759399074,
          -0.14279703448903328,
          0.7080362808357733,
          0.09176408772437497,
          1.1959836253771443,
          -0.20921337658538772,
          -0.6720780142212934,
          -0.9677232096049433,
          -0.12728606846241117,
          -0.7919927338041344,
          -1.0580272105587494,
          -2.1645802320991776,
          1.2161594454580116,
          -0.666308317817951,
          0.21836625215686112,
          -0.4070969736561259,
          0.5644219639877234,
          -0.7220152152586076,
          0.516979615307253,
          -1.3179416388696932,
          -1.5815739820017507,
          0.04968288785390097,
          0.3786708468173321,
          0.5904367220931169,
          2.012847925546007,
          1.186920524352372,
          -1.2207487179845988,
          1.4296988764920975,
          -0.32550084596338125,
          0.3113305753768962,
          -1.9204793217359153,
          -0.30043810663571807,
          0.7341294413159623,
          1.0731199816872155,
          -1.1385426256330968,
          0.6023940648499483,
          2.275021496068711,
          -0.043962375150168286,
          -0.4651755658400948,
          2.8186372178100036,
          -0.3681675300238779,
          1.1569327617197296,
          -0.6646915052051928,
          -1.0639848748182636,
          0.3144638481686363,
          -0.5299027577594396,
          0.9120937132534034,
          -1.5410468454881958,
          0.15319659347046313,
          0.3368374069508085,
          -0.14181843919761594,
          -1.8592727039349788,
          -1.6196392198537617,
          -1.3357413957662219,
          -1.1417084575149303,
          -0.38568806809252587,
          1.166879312775614,
          0.7725415638487971,
          0.05950665498552722,
          0.851874558560094,
          -0.25807034565526354,
          2.5837161264749873,
          -1.353222534677922,
          0.13456814550959245,
          -0.33600813528683,
          -0.46281424199798077,
          -1.0821823920439257,
          0.7742242098928073,
          1.5552616674000026,
          -2.203494325615232,
          -0.5628072288306241,
          0.7862883212527749,
          -0.8275645771687379,
          0.6547053734920519,
          -0.949008990504814,
          1.0348544697463875,
          1.5685548687849993,
          -1.423220623109335,
          0.4922794290278497,
          0.6372587400959718,
          0.35395360731109404,
          -0.014785474904181565,
          -0.31310831080021023,
          0.3671866963993864,
          -1.1797069638817568,
          1.1315225976287564,
          -0.12732340676200707,
          -1.12655016981363,
          0.6098777795310888,
          -2.9412377675287864,
          -0.24479063326775757,
          0.9458536976785847,
          -0.08580027891962273,
          0.9494524129202309,
          -0.23217744932198903,
          0.5400646274997215,
          0.042024200716335676,
          0.8470105177726862,
          0.7775328610231259,
          -0.8417997271772831,
          1.595606018805888,
          0.9952911937329436,
          -0.8205570714330156,
          0.12887046889661996,
          1.2667850226910593,
          -2.2127427707865754,
          0.10419356547149763,
          0.6887369921058105,
          1.681128007765359,
          0.6741741951312531,
          1.412771792122196,
          -2.3260550213300655,
          1.4188644235891532,
          -0.1642245065803281,
          -1.227916190279069,
          1.0306214595658154,
          1.0641190730106134,
          -1.2161659568277299,
          1.3849696161522993,
          0.9729659596800463,
          -0.6318679540603132,
          -2.552390071243379,
          0.2290095344686462,
          1.8382713310084648,
          0.6870883164007735,
          -0.7416376487486801,
          -0.03075003980434744,
          0.21293812760318742,
          0.696352667010797,
          -0.13773198878280535,
          0.8411112419590081,
          -0.14108737480582284,
          -0.8097361460032098,
          -2.975870569345094,
          -1.027367314118927,
          0.9378540374406644,
          -2.22315592516175,
          -0.541318628490737,
          0.7115901849999661,
          -0.9888993494174527,
          2.5589313811947063,
          -1.8188162136606938,
          -0.8194365298858131,
          -0.6576550883304514,
          0.20939995404036807,
          -0.04678016464232463,
          -0.20509157649263762,
          0.13909675361403945,
          0.6381537727524907,
          1.67607810596255,
          -0.9276596053170765,
          0.22984307026308487,
          -0.1937658576313271,
          -0.17887856983493303,
          1.8342760046889042,
          -1.5074485969479958,
          0.3149346713410393,
          -0.6134260464264295,
          0.24189262863742875,
          -1.582993962877902,
          0.23182293095767476,
          0.3964697628917399,
          -0.09581458081832789,
          0.6844930077602323,
          0.10646062396850377,
          -0.11718160192726274,
          1.4988721839330332,
          0.6378661083648928,
          -1.4976821986221351,
          0.3330551256691911,
          0.8977044232767982,
          1.4637774912415202,
          -0.4658348062426277,
          -0.5284418337489296,
          0.6232990920259873,
          -1.1442687412110637,
          -0.368438996439852,
          0.5147002178471921,
          -0.2626978868767779,
          0.1630696442140985,
          0.4345659711608185,
          -0.2327190398000096,
          -1.1334451661144385,
          -1.6088562697112592,
          -0.8310475755146527,
          2.3899664867509496,
          -0.02370996136101748,
          -0.0011481249678289504,
          0.45848272857328304,
          -0.009185722120149328,
          -0.5461623200733047,
          1.0057149659488556,
          3.5027524267540033,
          -0.1600528825217717,
          0.7140286967070273,
          0.38954686926099164,
          1.616035335778273,
          -0.3494161790828438,
          0.12009857420278454,
          0.6568893961997023,
          0.09985967870984391,
          1.1341303663985471,
          0.29709282987092916,
          0.22827715588510372,
          0.06239246210357985,
          -1.7363709293717824,
          -1.2782574038163106,
          0.5699147735140889,
          -0.6841900622234082,
          0.15847348710272127,
          1.0679287325143851,
          1.420356179634184,
          -0.6184516834323519,
          0.7237460569149741,
          0.44894479714601043,
          0.06762763749861578,
          -0.5677768538679993,
          -0.5484469122093723,
          -0.27455759866360485,
          -0.73564962639789,
          -0.900597076526784,
          -0.2037144323964399,
          1.1739533400814999,
          -1.0895503630836423,
          1.666886927093478,
          0.16252718176958691,
          -0.18894743881980394,
          -2.0958371669518945,
          1.7160266793272347,
          0.32331039945944795,
          0.42155042166777623,
          -0.716096774036913,
          1.1811270871037578,
          -0.32355874522816874,
          -0.2925078829117037,
          -1.151291130979886,
          -0.6761264629523266,
          0.1533371806077532,
          -1.0983128932998332,
          -0.46599933758486783,
          1.2622476232647935,
          -1.0555372585969447,
          -0.4376487348692336,
          1.1189210387718893,
          -0.8100808522187397,
          1.156171751652358,
          0.12697706742397738,
          -1.0071048652685115,
          0.6458681213101952,
          0.45893043520037485,
          -0.01159571279584804,
          0.529654637290038,
          -1.0916330184223413,
          -0.87428869073398,
          0.8946187727519147,
          -0.04446802207967394,
          1.4476168084220227,
          1.2648004045568977,
          -0.8127692092848352,
          -0.8994205425655596,
          1.1699293935437245,
          0.8079176651693478,
          -0.22864991233723544,
          -0.05314083427587971,
          1.0176847619059808,
          1.363115453046521,
          -0.5850303268573964
         ],
         "xaxis": "x",
         "y": [
          "distplot",
          "distplot",
          "distplot",
          "distplot",
          "distplot",
          "distplot",
          "distplot",
          "distplot",
          "distplot",
          "distplot",
          "distplot",
          "distplot",
          "distplot",
          "distplot",
          "distplot",
          "distplot",
          "distplot",
          "distplot",
          "distplot",
          "distplot",
          "distplot",
          "distplot",
          "distplot",
          "distplot",
          "distplot",
          "distplot",
          "distplot",
          "distplot",
          "distplot",
          "distplot",
          "distplot",
          "distplot",
          "distplot",
          "distplot",
          "distplot",
          "distplot",
          "distplot",
          "distplot",
          "distplot",
          "distplot",
          "distplot",
          "distplot",
          "distplot",
          "distplot",
          "distplot",
          "distplot",
          "distplot",
          "distplot",
          "distplot",
          "distplot",
          "distplot",
          "distplot",
          "distplot",
          "distplot",
          "distplot",
          "distplot",
          "distplot",
          "distplot",
          "distplot",
          "distplot",
          "distplot",
          "distplot",
          "distplot",
          "distplot",
          "distplot",
          "distplot",
          "distplot",
          "distplot",
          "distplot",
          "distplot",
          "distplot",
          "distplot",
          "distplot",
          "distplot",
          "distplot",
          "distplot",
          "distplot",
          "distplot",
          "distplot",
          "distplot",
          "distplot",
          "distplot",
          "distplot",
          "distplot",
          "distplot",
          "distplot",
          "distplot",
          "distplot",
          "distplot",
          "distplot",
          "distplot",
          "distplot",
          "distplot",
          "distplot",
          "distplot",
          "distplot",
          "distplot",
          "distplot",
          "distplot",
          "distplot",
          "distplot",
          "distplot",
          "distplot",
          "distplot",
          "distplot",
          "distplot",
          "distplot",
          "distplot",
          "distplot",
          "distplot",
          "distplot",
          "distplot",
          "distplot",
          "distplot",
          "distplot",
          "distplot",
          "distplot",
          "distplot",
          "distplot",
          "distplot",
          "distplot",
          "distplot",
          "distplot",
          "distplot",
          "distplot",
          "distplot",
          "distplot",
          "distplot",
          "distplot",
          "distplot",
          "distplot",
          "distplot",
          "distplot",
          "distplot",
          "distplot",
          "distplot",
          "distplot",
          "distplot",
          "distplot",
          "distplot",
          "distplot",
          "distplot",
          "distplot",
          "distplot",
          "distplot",
          "distplot",
          "distplot",
          "distplot",
          "distplot",
          "distplot",
          "distplot",
          "distplot",
          "distplot",
          "distplot",
          "distplot",
          "distplot",
          "distplot",
          "distplot",
          "distplot",
          "distplot",
          "distplot",
          "distplot",
          "distplot",
          "distplot",
          "distplot",
          "distplot",
          "distplot",
          "distplot",
          "distplot",
          "distplot",
          "distplot",
          "distplot",
          "distplot",
          "distplot",
          "distplot",
          "distplot",
          "distplot",
          "distplot",
          "distplot",
          "distplot",
          "distplot",
          "distplot",
          "distplot",
          "distplot",
          "distplot",
          "distplot",
          "distplot",
          "distplot",
          "distplot",
          "distplot",
          "distplot",
          "distplot",
          "distplot",
          "distplot",
          "distplot",
          "distplot",
          "distplot",
          "distplot",
          "distplot",
          "distplot",
          "distplot",
          "distplot",
          "distplot",
          "distplot",
          "distplot",
          "distplot",
          "distplot",
          "distplot",
          "distplot",
          "distplot",
          "distplot",
          "distplot",
          "distplot",
          "distplot",
          "distplot",
          "distplot",
          "distplot",
          "distplot",
          "distplot",
          "distplot",
          "distplot",
          "distplot",
          "distplot",
          "distplot",
          "distplot",
          "distplot",
          "distplot",
          "distplot",
          "distplot",
          "distplot",
          "distplot",
          "distplot",
          "distplot",
          "distplot",
          "distplot",
          "distplot",
          "distplot",
          "distplot",
          "distplot",
          "distplot",
          "distplot",
          "distplot",
          "distplot",
          "distplot",
          "distplot",
          "distplot",
          "distplot",
          "distplot",
          "distplot",
          "distplot",
          "distplot",
          "distplot",
          "distplot",
          "distplot",
          "distplot",
          "distplot",
          "distplot",
          "distplot",
          "distplot",
          "distplot",
          "distplot",
          "distplot",
          "distplot",
          "distplot",
          "distplot",
          "distplot",
          "distplot",
          "distplot",
          "distplot",
          "distplot",
          "distplot",
          "distplot",
          "distplot",
          "distplot",
          "distplot",
          "distplot",
          "distplot",
          "distplot",
          "distplot",
          "distplot",
          "distplot",
          "distplot",
          "distplot",
          "distplot",
          "distplot",
          "distplot",
          "distplot",
          "distplot",
          "distplot",
          "distplot",
          "distplot",
          "distplot",
          "distplot",
          "distplot",
          "distplot",
          "distplot",
          "distplot",
          "distplot",
          "distplot",
          "distplot",
          "distplot",
          "distplot",
          "distplot",
          "distplot",
          "distplot",
          "distplot",
          "distplot",
          "distplot",
          "distplot",
          "distplot",
          "distplot",
          "distplot",
          "distplot",
          "distplot",
          "distplot",
          "distplot",
          "distplot",
          "distplot",
          "distplot",
          "distplot",
          "distplot",
          "distplot",
          "distplot",
          "distplot",
          "distplot",
          "distplot",
          "distplot",
          "distplot",
          "distplot",
          "distplot",
          "distplot",
          "distplot",
          "distplot",
          "distplot",
          "distplot",
          "distplot",
          "distplot",
          "distplot",
          "distplot",
          "distplot",
          "distplot",
          "distplot",
          "distplot",
          "distplot",
          "distplot",
          "distplot",
          "distplot",
          "distplot",
          "distplot",
          "distplot",
          "distplot",
          "distplot",
          "distplot",
          "distplot",
          "distplot",
          "distplot",
          "distplot",
          "distplot",
          "distplot",
          "distplot",
          "distplot",
          "distplot",
          "distplot",
          "distplot",
          "distplot",
          "distplot",
          "distplot",
          "distplot",
          "distplot",
          "distplot",
          "distplot",
          "distplot",
          "distplot",
          "distplot",
          "distplot",
          "distplot",
          "distplot",
          "distplot",
          "distplot",
          "distplot",
          "distplot",
          "distplot",
          "distplot",
          "distplot",
          "distplot",
          "distplot",
          "distplot",
          "distplot",
          "distplot",
          "distplot",
          "distplot",
          "distplot",
          "distplot",
          "distplot",
          "distplot",
          "distplot",
          "distplot",
          "distplot",
          "distplot",
          "distplot",
          "distplot",
          "distplot",
          "distplot",
          "distplot",
          "distplot",
          "distplot",
          "distplot",
          "distplot",
          "distplot",
          "distplot",
          "distplot",
          "distplot",
          "distplot",
          "distplot",
          "distplot",
          "distplot",
          "distplot",
          "distplot",
          "distplot",
          "distplot",
          "distplot",
          "distplot",
          "distplot",
          "distplot",
          "distplot",
          "distplot",
          "distplot",
          "distplot",
          "distplot",
          "distplot",
          "distplot",
          "distplot",
          "distplot",
          "distplot",
          "distplot",
          "distplot",
          "distplot",
          "distplot",
          "distplot",
          "distplot",
          "distplot",
          "distplot",
          "distplot",
          "distplot",
          "distplot",
          "distplot",
          "distplot",
          "distplot",
          "distplot",
          "distplot",
          "distplot",
          "distplot",
          "distplot",
          "distplot",
          "distplot",
          "distplot",
          "distplot",
          "distplot",
          "distplot",
          "distplot",
          "distplot",
          "distplot",
          "distplot",
          "distplot",
          "distplot",
          "distplot",
          "distplot",
          "distplot",
          "distplot",
          "distplot",
          "distplot",
          "distplot",
          "distplot",
          "distplot",
          "distplot",
          "distplot",
          "distplot",
          "distplot",
          "distplot",
          "distplot",
          "distplot",
          "distplot",
          "distplot",
          "distplot",
          "distplot",
          "distplot",
          "distplot",
          "distplot",
          "distplot",
          "distplot",
          "distplot",
          "distplot",
          "distplot",
          "distplot",
          "distplot",
          "distplot",
          "distplot",
          "distplot",
          "distplot",
          "distplot",
          "distplot",
          "distplot",
          "distplot",
          "distplot",
          "distplot",
          "distplot",
          "distplot",
          "distplot",
          "distplot",
          "distplot",
          "distplot",
          "distplot",
          "distplot",
          "distplot",
          "distplot",
          "distplot",
          "distplot",
          "distplot",
          "distplot",
          "distplot",
          "distplot",
          "distplot",
          "distplot",
          "distplot",
          "distplot",
          "distplot",
          "distplot",
          "distplot",
          "distplot",
          "distplot",
          "distplot",
          "distplot",
          "distplot",
          "distplot",
          "distplot",
          "distplot",
          "distplot",
          "distplot",
          "distplot",
          "distplot",
          "distplot",
          "distplot",
          "distplot",
          "distplot",
          "distplot",
          "distplot",
          "distplot",
          "distplot",
          "distplot",
          "distplot",
          "distplot",
          "distplot",
          "distplot",
          "distplot",
          "distplot",
          "distplot",
          "distplot",
          "distplot",
          "distplot",
          "distplot",
          "distplot",
          "distplot",
          "distplot",
          "distplot",
          "distplot",
          "distplot",
          "distplot",
          "distplot",
          "distplot",
          "distplot",
          "distplot",
          "distplot",
          "distplot",
          "distplot",
          "distplot",
          "distplot",
          "distplot",
          "distplot",
          "distplot",
          "distplot",
          "distplot",
          "distplot",
          "distplot",
          "distplot",
          "distplot",
          "distplot",
          "distplot",
          "distplot",
          "distplot",
          "distplot",
          "distplot",
          "distplot",
          "distplot",
          "distplot",
          "distplot",
          "distplot",
          "distplot",
          "distplot",
          "distplot",
          "distplot",
          "distplot",
          "distplot",
          "distplot",
          "distplot",
          "distplot",
          "distplot",
          "distplot",
          "distplot",
          "distplot",
          "distplot",
          "distplot",
          "distplot",
          "distplot",
          "distplot",
          "distplot",
          "distplot",
          "distplot",
          "distplot",
          "distplot",
          "distplot",
          "distplot",
          "distplot",
          "distplot",
          "distplot",
          "distplot",
          "distplot",
          "distplot",
          "distplot",
          "distplot",
          "distplot",
          "distplot",
          "distplot",
          "distplot",
          "distplot",
          "distplot",
          "distplot",
          "distplot",
          "distplot",
          "distplot",
          "distplot",
          "distplot",
          "distplot",
          "distplot",
          "distplot",
          "distplot",
          "distplot",
          "distplot",
          "distplot",
          "distplot",
          "distplot",
          "distplot",
          "distplot",
          "distplot",
          "distplot",
          "distplot",
          "distplot",
          "distplot",
          "distplot",
          "distplot",
          "distplot",
          "distplot",
          "distplot",
          "distplot",
          "distplot",
          "distplot",
          "distplot",
          "distplot",
          "distplot",
          "distplot",
          "distplot",
          "distplot",
          "distplot",
          "distplot",
          "distplot",
          "distplot",
          "distplot",
          "distplot",
          "distplot",
          "distplot",
          "distplot",
          "distplot",
          "distplot",
          "distplot",
          "distplot",
          "distplot",
          "distplot",
          "distplot",
          "distplot",
          "distplot",
          "distplot",
          "distplot",
          "distplot",
          "distplot",
          "distplot",
          "distplot",
          "distplot",
          "distplot",
          "distplot",
          "distplot",
          "distplot",
          "distplot",
          "distplot",
          "distplot",
          "distplot",
          "distplot",
          "distplot",
          "distplot",
          "distplot",
          "distplot",
          "distplot",
          "distplot",
          "distplot",
          "distplot",
          "distplot",
          "distplot",
          "distplot",
          "distplot",
          "distplot",
          "distplot",
          "distplot",
          "distplot",
          "distplot",
          "distplot",
          "distplot",
          "distplot",
          "distplot",
          "distplot",
          "distplot",
          "distplot",
          "distplot",
          "distplot",
          "distplot",
          "distplot",
          "distplot",
          "distplot",
          "distplot",
          "distplot",
          "distplot",
          "distplot",
          "distplot",
          "distplot",
          "distplot",
          "distplot",
          "distplot",
          "distplot",
          "distplot",
          "distplot",
          "distplot",
          "distplot",
          "distplot",
          "distplot",
          "distplot",
          "distplot",
          "distplot",
          "distplot",
          "distplot",
          "distplot",
          "distplot",
          "distplot",
          "distplot",
          "distplot",
          "distplot",
          "distplot",
          "distplot",
          "distplot",
          "distplot",
          "distplot",
          "distplot",
          "distplot",
          "distplot",
          "distplot",
          "distplot",
          "distplot",
          "distplot",
          "distplot",
          "distplot",
          "distplot",
          "distplot",
          "distplot",
          "distplot",
          "distplot",
          "distplot",
          "distplot",
          "distplot",
          "distplot",
          "distplot",
          "distplot",
          "distplot",
          "distplot",
          "distplot",
          "distplot",
          "distplot",
          "distplot",
          "distplot",
          "distplot",
          "distplot",
          "distplot",
          "distplot",
          "distplot",
          "distplot",
          "distplot",
          "distplot",
          "distplot",
          "distplot",
          "distplot",
          "distplot",
          "distplot",
          "distplot",
          "distplot",
          "distplot",
          "distplot",
          "distplot",
          "distplot",
          "distplot",
          "distplot",
          "distplot",
          "distplot",
          "distplot",
          "distplot",
          "distplot",
          "distplot",
          "distplot",
          "distplot",
          "distplot",
          "distplot",
          "distplot",
          "distplot",
          "distplot",
          "distplot",
          "distplot",
          "distplot",
          "distplot",
          "distplot",
          "distplot",
          "distplot",
          "distplot",
          "distplot",
          "distplot",
          "distplot",
          "distplot",
          "distplot",
          "distplot",
          "distplot",
          "distplot",
          "distplot",
          "distplot",
          "distplot",
          "distplot",
          "distplot",
          "distplot",
          "distplot",
          "distplot",
          "distplot",
          "distplot",
          "distplot",
          "distplot",
          "distplot",
          "distplot",
          "distplot",
          "distplot",
          "distplot",
          "distplot",
          "distplot",
          "distplot",
          "distplot",
          "distplot",
          "distplot",
          "distplot",
          "distplot",
          "distplot",
          "distplot",
          "distplot",
          "distplot",
          "distplot",
          "distplot",
          "distplot",
          "distplot",
          "distplot",
          "distplot",
          "distplot",
          "distplot",
          "distplot",
          "distplot",
          "distplot",
          "distplot",
          "distplot",
          "distplot",
          "distplot",
          "distplot",
          "distplot",
          "distplot",
          "distplot",
          "distplot",
          "distplot",
          "distplot",
          "distplot",
          "distplot",
          "distplot",
          "distplot",
          "distplot",
          "distplot",
          "distplot",
          "distplot",
          "distplot",
          "distplot",
          "distplot",
          "distplot",
          "distplot",
          "distplot",
          "distplot",
          "distplot",
          "distplot",
          "distplot",
          "distplot",
          "distplot",
          "distplot",
          "distplot",
          "distplot",
          "distplot",
          "distplot",
          "distplot",
          "distplot",
          "distplot",
          "distplot",
          "distplot",
          "distplot",
          "distplot",
          "distplot",
          "distplot",
          "distplot",
          "distplot",
          "distplot",
          "distplot",
          "distplot",
          "distplot",
          "distplot",
          "distplot",
          "distplot",
          "distplot",
          "distplot",
          "distplot",
          "distplot",
          "distplot",
          "distplot",
          "distplot",
          "distplot",
          "distplot",
          "distplot",
          "distplot",
          "distplot",
          "distplot",
          "distplot",
          "distplot",
          "distplot",
          "distplot",
          "distplot",
          "distplot",
          "distplot",
          "distplot",
          "distplot",
          "distplot",
          "distplot",
          "distplot",
          "distplot",
          "distplot",
          "distplot",
          "distplot",
          "distplot",
          "distplot",
          "distplot",
          "distplot",
          "distplot",
          "distplot",
          "distplot",
          "distplot",
          "distplot",
          "distplot",
          "distplot",
          "distplot",
          "distplot",
          "distplot",
          "distplot",
          "distplot",
          "distplot",
          "distplot",
          "distplot",
          "distplot",
          "distplot",
          "distplot",
          "distplot",
          "distplot",
          "distplot",
          "distplot",
          "distplot",
          "distplot",
          "distplot",
          "distplot",
          "distplot",
          "distplot",
          "distplot"
         ],
         "yaxis": "y2"
        }
       ],
       "layout": {
        "autosize": true,
        "barmode": "overlay",
        "hovermode": "closest",
        "legend": {
         "traceorder": "reversed"
        },
        "template": {
         "data": {
          "bar": [
           {
            "error_x": {
             "color": "#2a3f5f"
            },
            "error_y": {
             "color": "#2a3f5f"
            },
            "marker": {
             "line": {
              "color": "#E5ECF6",
              "width": 0.5
             }
            },
            "type": "bar"
           }
          ],
          "barpolar": [
           {
            "marker": {
             "line": {
              "color": "#E5ECF6",
              "width": 0.5
             }
            },
            "type": "barpolar"
           }
          ],
          "carpet": [
           {
            "aaxis": {
             "endlinecolor": "#2a3f5f",
             "gridcolor": "white",
             "linecolor": "white",
             "minorgridcolor": "white",
             "startlinecolor": "#2a3f5f"
            },
            "baxis": {
             "endlinecolor": "#2a3f5f",
             "gridcolor": "white",
             "linecolor": "white",
             "minorgridcolor": "white",
             "startlinecolor": "#2a3f5f"
            },
            "type": "carpet"
           }
          ],
          "choropleth": [
           {
            "colorbar": {
             "outlinewidth": 0,
             "ticks": ""
            },
            "type": "choropleth"
           }
          ],
          "contour": [
           {
            "colorbar": {
             "outlinewidth": 0,
             "ticks": ""
            },
            "colorscale": [
             [
              0,
              "#0d0887"
             ],
             [
              0.1111111111111111,
              "#46039f"
             ],
             [
              0.2222222222222222,
              "#7201a8"
             ],
             [
              0.3333333333333333,
              "#9c179e"
             ],
             [
              0.4444444444444444,
              "#bd3786"
             ],
             [
              0.5555555555555556,
              "#d8576b"
             ],
             [
              0.6666666666666666,
              "#ed7953"
             ],
             [
              0.7777777777777778,
              "#fb9f3a"
             ],
             [
              0.8888888888888888,
              "#fdca26"
             ],
             [
              1,
              "#f0f921"
             ]
            ],
            "type": "contour"
           }
          ],
          "contourcarpet": [
           {
            "colorbar": {
             "outlinewidth": 0,
             "ticks": ""
            },
            "type": "contourcarpet"
           }
          ],
          "heatmap": [
           {
            "colorbar": {
             "outlinewidth": 0,
             "ticks": ""
            },
            "colorscale": [
             [
              0,
              "#0d0887"
             ],
             [
              0.1111111111111111,
              "#46039f"
             ],
             [
              0.2222222222222222,
              "#7201a8"
             ],
             [
              0.3333333333333333,
              "#9c179e"
             ],
             [
              0.4444444444444444,
              "#bd3786"
             ],
             [
              0.5555555555555556,
              "#d8576b"
             ],
             [
              0.6666666666666666,
              "#ed7953"
             ],
             [
              0.7777777777777778,
              "#fb9f3a"
             ],
             [
              0.8888888888888888,
              "#fdca26"
             ],
             [
              1,
              "#f0f921"
             ]
            ],
            "type": "heatmap"
           }
          ],
          "heatmapgl": [
           {
            "colorbar": {
             "outlinewidth": 0,
             "ticks": ""
            },
            "colorscale": [
             [
              0,
              "#0d0887"
             ],
             [
              0.1111111111111111,
              "#46039f"
             ],
             [
              0.2222222222222222,
              "#7201a8"
             ],
             [
              0.3333333333333333,
              "#9c179e"
             ],
             [
              0.4444444444444444,
              "#bd3786"
             ],
             [
              0.5555555555555556,
              "#d8576b"
             ],
             [
              0.6666666666666666,
              "#ed7953"
             ],
             [
              0.7777777777777778,
              "#fb9f3a"
             ],
             [
              0.8888888888888888,
              "#fdca26"
             ],
             [
              1,
              "#f0f921"
             ]
            ],
            "type": "heatmapgl"
           }
          ],
          "histogram": [
           {
            "marker": {
             "colorbar": {
              "outlinewidth": 0,
              "ticks": ""
             }
            },
            "type": "histogram"
           }
          ],
          "histogram2d": [
           {
            "colorbar": {
             "outlinewidth": 0,
             "ticks": ""
            },
            "colorscale": [
             [
              0,
              "#0d0887"
             ],
             [
              0.1111111111111111,
              "#46039f"
             ],
             [
              0.2222222222222222,
              "#7201a8"
             ],
             [
              0.3333333333333333,
              "#9c179e"
             ],
             [
              0.4444444444444444,
              "#bd3786"
             ],
             [
              0.5555555555555556,
              "#d8576b"
             ],
             [
              0.6666666666666666,
              "#ed7953"
             ],
             [
              0.7777777777777778,
              "#fb9f3a"
             ],
             [
              0.8888888888888888,
              "#fdca26"
             ],
             [
              1,
              "#f0f921"
             ]
            ],
            "type": "histogram2d"
           }
          ],
          "histogram2dcontour": [
           {
            "colorbar": {
             "outlinewidth": 0,
             "ticks": ""
            },
            "colorscale": [
             [
              0,
              "#0d0887"
             ],
             [
              0.1111111111111111,
              "#46039f"
             ],
             [
              0.2222222222222222,
              "#7201a8"
             ],
             [
              0.3333333333333333,
              "#9c179e"
             ],
             [
              0.4444444444444444,
              "#bd3786"
             ],
             [
              0.5555555555555556,
              "#d8576b"
             ],
             [
              0.6666666666666666,
              "#ed7953"
             ],
             [
              0.7777777777777778,
              "#fb9f3a"
             ],
             [
              0.8888888888888888,
              "#fdca26"
             ],
             [
              1,
              "#f0f921"
             ]
            ],
            "type": "histogram2dcontour"
           }
          ],
          "mesh3d": [
           {
            "colorbar": {
             "outlinewidth": 0,
             "ticks": ""
            },
            "type": "mesh3d"
           }
          ],
          "parcoords": [
           {
            "line": {
             "colorbar": {
              "outlinewidth": 0,
              "ticks": ""
             }
            },
            "type": "parcoords"
           }
          ],
          "scatter": [
           {
            "marker": {
             "colorbar": {
              "outlinewidth": 0,
              "ticks": ""
             }
            },
            "type": "scatter"
           }
          ],
          "scatter3d": [
           {
            "line": {
             "colorbar": {
              "outlinewidth": 0,
              "ticks": ""
             }
            },
            "marker": {
             "colorbar": {
              "outlinewidth": 0,
              "ticks": ""
             }
            },
            "type": "scatter3d"
           }
          ],
          "scattercarpet": [
           {
            "marker": {
             "colorbar": {
              "outlinewidth": 0,
              "ticks": ""
             }
            },
            "type": "scattercarpet"
           }
          ],
          "scattergeo": [
           {
            "marker": {
             "colorbar": {
              "outlinewidth": 0,
              "ticks": ""
             }
            },
            "type": "scattergeo"
           }
          ],
          "scattergl": [
           {
            "marker": {
             "colorbar": {
              "outlinewidth": 0,
              "ticks": ""
             }
            },
            "type": "scattergl"
           }
          ],
          "scattermapbox": [
           {
            "marker": {
             "colorbar": {
              "outlinewidth": 0,
              "ticks": ""
             }
            },
            "type": "scattermapbox"
           }
          ],
          "scatterpolar": [
           {
            "marker": {
             "colorbar": {
              "outlinewidth": 0,
              "ticks": ""
             }
            },
            "type": "scatterpolar"
           }
          ],
          "scatterpolargl": [
           {
            "marker": {
             "colorbar": {
              "outlinewidth": 0,
              "ticks": ""
             }
            },
            "type": "scatterpolargl"
           }
          ],
          "scatterternary": [
           {
            "marker": {
             "colorbar": {
              "outlinewidth": 0,
              "ticks": ""
             }
            },
            "type": "scatterternary"
           }
          ],
          "surface": [
           {
            "colorbar": {
             "outlinewidth": 0,
             "ticks": ""
            },
            "colorscale": [
             [
              0,
              "#0d0887"
             ],
             [
              0.1111111111111111,
              "#46039f"
             ],
             [
              0.2222222222222222,
              "#7201a8"
             ],
             [
              0.3333333333333333,
              "#9c179e"
             ],
             [
              0.4444444444444444,
              "#bd3786"
             ],
             [
              0.5555555555555556,
              "#d8576b"
             ],
             [
              0.6666666666666666,
              "#ed7953"
             ],
             [
              0.7777777777777778,
              "#fb9f3a"
             ],
             [
              0.8888888888888888,
              "#fdca26"
             ],
             [
              1,
              "#f0f921"
             ]
            ],
            "type": "surface"
           }
          ],
          "table": [
           {
            "cells": {
             "fill": {
              "color": "#EBF0F8"
             },
             "line": {
              "color": "white"
             }
            },
            "header": {
             "fill": {
              "color": "#C8D4E3"
             },
             "line": {
              "color": "white"
             }
            },
            "type": "table"
           }
          ]
         },
         "layout": {
          "annotationdefaults": {
           "arrowcolor": "#2a3f5f",
           "arrowhead": 0,
           "arrowwidth": 1
          },
          "colorscale": {
           "diverging": [
            [
             0,
             "#8e0152"
            ],
            [
             0.1,
             "#c51b7d"
            ],
            [
             0.2,
             "#de77ae"
            ],
            [
             0.3,
             "#f1b6da"
            ],
            [
             0.4,
             "#fde0ef"
            ],
            [
             0.5,
             "#f7f7f7"
            ],
            [
             0.6,
             "#e6f5d0"
            ],
            [
             0.7,
             "#b8e186"
            ],
            [
             0.8,
             "#7fbc41"
            ],
            [
             0.9,
             "#4d9221"
            ],
            [
             1,
             "#276419"
            ]
           ],
           "sequential": [
            [
             0,
             "#0d0887"
            ],
            [
             0.1111111111111111,
             "#46039f"
            ],
            [
             0.2222222222222222,
             "#7201a8"
            ],
            [
             0.3333333333333333,
             "#9c179e"
            ],
            [
             0.4444444444444444,
             "#bd3786"
            ],
            [
             0.5555555555555556,
             "#d8576b"
            ],
            [
             0.6666666666666666,
             "#ed7953"
            ],
            [
             0.7777777777777778,
             "#fb9f3a"
            ],
            [
             0.8888888888888888,
             "#fdca26"
            ],
            [
             1,
             "#f0f921"
            ]
           ],
           "sequentialminus": [
            [
             0,
             "#0d0887"
            ],
            [
             0.1111111111111111,
             "#46039f"
            ],
            [
             0.2222222222222222,
             "#7201a8"
            ],
            [
             0.3333333333333333,
             "#9c179e"
            ],
            [
             0.4444444444444444,
             "#bd3786"
            ],
            [
             0.5555555555555556,
             "#d8576b"
            ],
            [
             0.6666666666666666,
             "#ed7953"
            ],
            [
             0.7777777777777778,
             "#fb9f3a"
            ],
            [
             0.8888888888888888,
             "#fdca26"
            ],
            [
             1,
             "#f0f921"
            ]
           ]
          },
          "colorway": [
           "#636efa",
           "#EF553B",
           "#00cc96",
           "#ab63fa",
           "#FFA15A",
           "#19d3f3",
           "#FF6692",
           "#B6E880",
           "#FF97FF",
           "#FECB52"
          ],
          "font": {
           "color": "#2a3f5f"
          },
          "geo": {
           "bgcolor": "white",
           "lakecolor": "white",
           "landcolor": "#E5ECF6",
           "showlakes": true,
           "showland": true,
           "subunitcolor": "white"
          },
          "hoverlabel": {
           "align": "left"
          },
          "hovermode": "closest",
          "mapbox": {
           "style": "light"
          },
          "paper_bgcolor": "white",
          "plot_bgcolor": "#E5ECF6",
          "polar": {
           "angularaxis": {
            "gridcolor": "white",
            "linecolor": "white",
            "ticks": ""
           },
           "bgcolor": "#E5ECF6",
           "radialaxis": {
            "gridcolor": "white",
            "linecolor": "white",
            "ticks": ""
           }
          },
          "scene": {
           "xaxis": {
            "backgroundcolor": "#E5ECF6",
            "gridcolor": "white",
            "gridwidth": 2,
            "linecolor": "white",
            "showbackground": true,
            "ticks": "",
            "zerolinecolor": "white"
           },
           "yaxis": {
            "backgroundcolor": "#E5ECF6",
            "gridcolor": "white",
            "gridwidth": 2,
            "linecolor": "white",
            "showbackground": true,
            "ticks": "",
            "zerolinecolor": "white"
           },
           "zaxis": {
            "backgroundcolor": "#E5ECF6",
            "gridcolor": "white",
            "gridwidth": 2,
            "linecolor": "white",
            "showbackground": true,
            "ticks": "",
            "zerolinecolor": "white"
           }
          },
          "shapedefaults": {
           "line": {
            "color": "#2a3f5f"
           }
          },
          "ternary": {
           "aaxis": {
            "gridcolor": "white",
            "linecolor": "white",
            "ticks": ""
           },
           "baxis": {
            "gridcolor": "white",
            "linecolor": "white",
            "ticks": ""
           },
           "bgcolor": "#E5ECF6",
           "caxis": {
            "gridcolor": "white",
            "linecolor": "white",
            "ticks": ""
           }
          },
          "title": {
           "x": 0.05
          },
          "xaxis": {
           "automargin": true,
           "gridcolor": "white",
           "linecolor": "white",
           "ticks": "",
           "zerolinecolor": "white",
           "zerolinewidth": 2
          },
          "yaxis": {
           "automargin": true,
           "gridcolor": "white",
           "linecolor": "white",
           "ticks": "",
           "zerolinecolor": "white",
           "zerolinewidth": 2
          }
         }
        },
        "xaxis": {
         "anchor": "y2",
         "autorange": true,
         "domain": [
          0,
          1
         ],
         "range": [
          -3.444215034957168,
          3.9619283097527296
         ],
         "type": "linear",
         "zeroline": false
        },
        "yaxis": {
         "anchor": "free",
         "autorange": true,
         "domain": [
          0.35,
          1
         ],
         "position": 0,
         "range": [
          -0.017992834458294978,
          0.40491882812986363
         ],
         "type": "linear"
        },
        "yaxis2": {
         "anchor": "x",
         "autorange": true,
         "domain": [
          0,
          0.25
         ],
         "dtick": 1,
         "range": [
          -1,
          1
         ],
         "showticklabels": false,
         "type": "category"
        }
       }
      },
      "image/png": "[encoded data removed]",
      "text/html": [
       "<div>\n",
       "        \n",
       "        \n",
       "            <div id=\"7aa0bdc0-334d-4236-b970-ada2904102a4\" class=\"plotly-graph-div\" style=\"height:525px; width:100%;\"></div>\n",
       "            <script type=\"text/javascript\">\n",
       "                require([\"plotly\"], function(Plotly) {\n",
       "                    window.PLOTLYENV=window.PLOTLYENV || {};\n",
       "                    \n",
       "                if (document.getElementById(\"7aa0bdc0-334d-4236-b970-ada2904102a4\")) {\n",
       "                    Plotly.newPlot(\n",
       "                        '7aa0bdc0-334d-4236-b970-ada2904102a4',\n",
       "                        [{\"autobinx\": false, \"histnorm\": \"probability density\", \"legendgroup\": \"distplot\", \"marker\": {\"color\": \"rgb(31, 119, 180)\"}, \"name\": \"distplot\", \"opacity\": 0.7, \"type\": \"histogram\", \"x\": [0.5176540693435158, -1.9266384976079325, 0.17938536641161643, 0.38915999543031055, -0.7591380806708211, 0.470470818044731, 1.7729368568894235, 1.777151062645996, 0.05295514403855496, 0.056140995617671045, 0.9017079487146321, 1.3462507011950788, 1.2184069539321611, -0.1962336218110319, 1.0044040406461634, 1.6364032564105302, 1.9408029587365212, 1.096666009955292, 0.14803800774767198, -0.5262906949038044, -0.719228251906166, -0.35598290422113404, -0.18143819287838592, 0.18635279645667757, -0.11974425243084415, -1.3168971112726042, -0.07808900946482286, 0.5515942381396092, -0.7786192545249374, 0.7197425159349782, 0.5035751328690016, -1.0975544133127682, -0.17798774939768366, 0.3502108586063837, -0.9377428715668532, 0.5210103557023739, 0.618795733581758, -0.5263740012461203, 0.6758945560537417, 0.7867211328760503, -0.3391495865588815, 0.0878176997154205, -0.5320752859874237, 0.06092790112647874, 0.9487932923551486, 1.17376023847231, -0.4144893483640793, 0.25177257945859066, -0.9092014968648322, 0.32311916269616187, 1.7589643968994397, 0.6941603495168558, 0.2040645061431851, 0.570705593734165, 2.1359386958855944, -0.8675187804202622, -0.8294872194177998, 1.075051042471335, 0.18125039798246262, 0.6326882348281612, -0.7039120429158643, 0.3728495871425359, -0.12022459248783132, -1.1037976560201377, 0.14439594084090815, -0.6061862253368453, 0.39808305113857817, -1.4075842568154828, -2.3290616445329313, 2.1991460584616624, 0.5096813750668424, -1.3821391588688383, -1.081608999599621, 0.21639804495572226, -2.256735111507702, -0.13173250688878557, -0.7021141318310798, 0.4831675523383652, 0.781100132671573, 0.7866839197495062, -3.0380716902472704, -0.18156217647710624, 2.105929308978488, -0.08597987049919015, -0.37464999409496696, 0.49485272217474124, 0.3318397206931223, 0.1671556604629985, 0.2163674463671284, 1.0550534621189471, -0.8681644809038571, -0.5052373329986323, -0.1475715345886041, -0.6224740050125744, -0.22980126130673714, 0.35229852935762945, -0.6673258421953506, 0.23337428048920517, 1.021323723086961, 1.6532956726498056, 0.8766072792848989, 1.517733439640362, 0.04190298500601147, 0.19144616333039705, -0.9628045938138505, -0.7951131929490192, -0.2676518221786831, -1.406762247004167, 0.4970938121029308, 1.6377526543081762, -0.7105747980315011, -0.369337625340982, 0.09095864054456108, 1.6409188996845399, 1.1828328032069237, 0.7531740009015915, 1.401477164577915, 2.0265028437288466, 0.12481609434978702, -0.7883439847434381, 0.4063123766927022, 0.313908048285553, -0.8112688932493007, 0.4585480471684246, -0.49408942162925257, 1.4890226561958075, 0.08849632266818273, -0.7715599385231667, 2.4177007192616724, 1.081717225032806, -1.0047092980763521, -0.526927832796693, -0.47403098625298934, -0.6191574726418316, -0.13747512146849108, 0.38663150207961694, 1.1461304611391374, 0.16839478652372317, -0.5469486403862741, 0.5185845318868094, -0.429482207853616, 0.7674907102208245, -0.7124943517664116, 1.6263125330836903, -0.8313458375158056, 1.3807336913206503, 1.01266622891095, -0.022246201443898307, -1.416059149429094, 1.8075217892278568, -0.18532710673819175, 0.306681191099923, 1.094043027426311, 0.7081660153958996, -2.3761080117860245, -1.8312132158775782, 0.7795870377663889, 0.7576388308751754, 0.9773063462698506, 0.3125281871505035, -0.6992945647365195, -0.19189324236968983, 2.77011549842281, 0.10996023124626447, -0.16557025202537515, 1.3966745321944505, 0.9893935178484842, -0.11016062179517669, 0.5978183622033814, 0.7463147460628005, -0.8906185713369069, -0.1309529077667626, -0.45955844871040985, -0.7334038060905612, -1.5368540183962514, 0.5133659808874632, -2.2445665859604413, 0.38079347572104977, 0.6363758410016216, 0.22872470563580097, 0.719487381606402, 0.41361928538213977, -2.422074900556862, 0.8124728412803435, -0.7441395775650883, -0.0646371710482722, 1.2620841630064616, 0.3860271250085018, -0.41021768320562363, 0.8545853455005852, 1.540586018135902, -0.4421801955365669, -0.14057927769479542, 0.4383111468987668, -0.9928328794020447, -1.1538867730165836, -0.4434525319583714, 1.1721753760535374, 0.7400997754070168, -1.928870858057466, -0.055955740727583414, -0.15206276512134217, 0.45887183603814463, -1.0395124085546823, -0.5557921482260121, -0.9006947045884975, -2.0136606655309683, -0.29152386207182335, 0.3073488968070651, -0.28521284048771245, -1.3182797020290957, 0.9582914894701384, -0.3295682264659043, -0.5171536004178932, -0.009963347048653325, 1.235243521105968, -1.4436919844572271, 1.578442281022645, 0.8612281978645211, -1.806332851547567, -1.2355973973504308, 0.4708884541054725, 0.2698936945043562, -0.08393383261978744, -1.402341954105711, 0.1021821959244801, -0.2597548404501037, 0.6186793668729009, -0.823241962957012, -0.6380814834294847, -0.24937678869441457, 1.1690299087949507, 1.3483637293282429, -0.276236457940628, 0.3642380741910434, 0.8585951179872289, 0.30828399085072494, 0.4512465765904475, -0.9994713690655778, -0.2224597019354993, -0.16019134832134602, -0.22327713100755917, -0.4537095114412808, -1.9392463465876217, -1.3903204861782832, -0.3957906519112031, 0.14203966467751775, -0.26367901228831064, 0.38457141318657234, -0.7541404241148093, 0.9632455572439081, -0.1759374993963902, -0.9558703471216313, -0.19923660705668098, 0.781147704140476, -0.15830552636250586, -0.2864821770048353, 0.7746861083144464, 0.1421546057532976, 0.9059375401191695, 0.9668865607485847, -1.37584645077546, -0.0984830952180347, -0.06389426184229359, -0.3932634641148235, -0.24322737896112046, 0.31760558267867495, 1.4432754282574252, 1.0973421709574067, -0.9474177616675014, 0.12301834048386043, 0.03463437021977247, -1.5009104151129389, -1.6562077786501708, -0.047282406449509755, 1.4972225179952374, 0.39755523211514027, -1.1727099662867846, -1.9847914760034886, 0.6694733448361697, -1.1200498356592656, -0.5563080131220066, -0.12045659044806346, -0.0036563319677333406, -0.6316190989534181, 0.05481258959265315, -1.4491538386548564, 0.5060457289212263, -0.5880287551415027, -0.5920551893456799, -0.36746679507615737, 1.6070655938727327, 1.0837562057081274, -1.5904383166400742, -0.5127656352878892, -0.39852216897057013, 0.3057887486879108, -2.502600747385001, 1.355851097280561, -0.6608028996163037, 1.931412634786183, -0.7297620283486996, 1.242704235656297, -0.8105835633648948, 0.5879665959088253, 0.8914264928774869, -0.6090337671581159, -0.4282379424513153, -0.23149780022407473, -0.22743645284907293, 0.4945766952847596, 1.0162001434745358, -1.426637361765932, -1.19319440355357, 0.02899371140684854, -1.332431474540195, -1.328177715822475, 0.02401336180543119, -1.2941558382195215, -1.0325420079008316, -0.014739789394705674, 0.8330190806928046, -2.052629631860973, -0.005428501158042683, -0.6156942548479216, -0.49974284389051865, -0.40163277658251395, 1.3994467409418847, 0.18052243839447832, -1.1763053261460574, -1.4379328555283186, -1.7619213070887996, 0.7467597876840905, 1.3163920894566998, -0.8349902596893789, 0.9674129712669334, 1.519074783579965, -0.02443555029954905, -1.8129985933064643, -0.4475915585810136, 2.760636711019427, -0.8827932473544, -0.24349410576888283, -0.49560777901552194, -1.2729333262311116, 0.5046602362099798, -1.0140996810746494, 0.0808385544994782, 0.39655782095257264, -2.0779471841567156, 0.37182216849554633, 1.9927660198673063, 1.027510178334594, -1.2521716622546275, 0.5567064315904057, 1.0991423445464708, 1.3591323216232216, -0.29769230005035224, 1.223341369228566, -0.12473317086123134, 1.0628325077312728, 0.30270658110899823, 0.6638559359261477, -1.8142986202725364, -0.020938081218498626, -0.4926534948337888, 0.43766607333803215, 0.0990706863998156, -0.17431430601469824, 0.5557453880879886, -1.2543615417479104, 0.803831998302554, -1.6607665176851647, -1.162478807251615, -1.2190956919586442, 0.1708358168144749, 0.7573032365620472, -0.13937656348360225, -0.6525699460776868, -0.12956877525086666, 0.7734968216224868, 1.221614191965468, 0.13056232156912867, -1.4025700213797023, 1.3754094291018273, -0.4682430276337166, 0.1860227347102457, -0.03209501083089391, -1.0973823131884912, 0.4466467149267491, -0.5558386084049444, 0.02336428380937664, 0.4718092176648599, 0.38254374540817876, 0.1045195542146154, 1.6449285262045883, -1.0292698983461337, -0.3734110138393443, -0.6577665183904536, 0.7803893143990183, 0.42485478100593005, -0.900746143184742, -0.7997001142684761, 0.8655207971591592, 0.6881326344362714, -1.241389506393177, -0.3380873437307681, 0.8103301395022581, -2.0942689279144426, -1.1413001468160755, -0.10688625446333933, 0.4908189298472821, -0.07221050966564956, -0.5171236510537423, 0.7825194033978676, 0.3500123267726148, -0.6445042962734321, -0.6425729914566368, -0.40659015931427883, -0.6082427023545377, 2.6423190759031643, -0.6894748505389573, 1.9043956890100613, -0.003184970704104557, -0.18584171442600178, 1.540839765524826, -1.552868456867993, 0.3991289135160396, 0.7830411210962609, -1.4801545687952813, -0.6671995120197551, 1.067272037967401, 0.9950750602580812, -0.23794101747155727, 0.09228213261495417, -0.5485898259885943, 1.0365619413019491, -0.5475394229577961, 1.7301116092492168, 0.6613229287606193, -0.9366769010749078, 2.613659001987841, -0.1335858495710417, -0.05409776715442029, 0.8108499606192617, 1.4475906394786502, 1.021048004705793, 0.7563759321761447, 1.0932634414396036, 0.7105674156459114, 0.05819706501539681, 1.0952228311948602, 0.9799509895379702, -0.012241647512248896, 0.932275535008552, 1.1403022137452665, -1.000224625066208, 1.0542017727989248, -0.18778174841542272, 1.0325636246265348, 1.0712963655526857, -0.9052989712197218, 0.6645551932447237, 0.06567210585627466, 0.3985729220599194, -1.630932735550995, 0.11050290362290567, 0.8683586987110188, 0.025187291290748315, 2.0529564213870986, -1.1853654875590205, -1.7223373938732602, -1.1400409618703362, -2.5546322197200544, 1.3360621649251982, -1.7945738203465973, -1.5071166837145473, -0.20047223456922528, -0.24721427929537862, -0.183246357544602, 0.1805624299129483, -0.541755214484417, -0.8294629154726576, -0.5497728050136961, 0.6913545398171642, -0.5252277399217683, 1.0848975161108245, -1.1261784453901182, 1.795521108039668, 1.1052335361751, -0.5107071811992713, 0.5811792928285329, 1.1585656550715533, -0.2988746942471171, -0.4449511108713603, -0.938670135481349, 2.191342265725638, 0.4893131707486348, 0.4024687183116444, 0.666096007644043, -0.8299719778838393, 0.38289437401411947, 0.01963430737558851, -0.6832682068124004, -1.2720398758503797, -0.9135152999974037, -1.4095423623732115, 1.1195344863427565, 1.7749794202111446, -1.0368259813141636, -0.3333288057953158, -0.8093760010340953, -0.29936734469173865, -0.13814617997926315, 0.5590060777311671, 0.2485736210991344, 0.8566995667213149, -0.744030055425132, 2.512804327619227, -0.46720771434871383, 0.34950021024545697, -0.668093499349435, 1.1019787583734624, 0.2709277924277512, -0.6932113544036781, 0.990005446134624, -0.4053364853247077, 0.27032139414074696, 1.3523964886697784, -1.4743003326173263, 2.02950900794197, 1.3819580768382234, -0.11154380256540024, -0.9134990677247453, 0.4926764681990856, 1.215947707025049, -0.5842354939817912, -0.4570122073212928, 0.4842270490325069, -1.4482033894909778, 0.5960310092158441, -0.4976320495903822, -0.35703181614933094, 0.006240545041463764, 0.32335676697813864, -0.5573122453366383, 1.4792545989191792, 2.1160520623170704, -0.27431884484601954, -0.7041826768395525, 0.04163916499754548, -1.1069679762971993, 0.006013362549389266, -0.38600179140620444, -2.1754534957800367, 0.30313417061884756, 0.5876266804339528, -0.2638429276717713, -0.13563731297848386, 0.49105312616858776, 0.7160229815851786, 1.0493091752528045, 0.2574325777961832, 2.1088399762242274, -0.6472619297270138, 1.4814016256810751, -0.12557952454879487, 1.2459657110172455, 2.3744575364144267, -1.1358481500447495, 1.753004793418907, -0.7554012511351378, 0.7380856460798914, -0.1725971252048306, -0.1316722986993851, 0.19921983536990606, -2.9630045464452963, 0.7954415028172516, 1.0770756154049592, -0.3012280365357591, 1.6031086240885268, 1.255524236819302, 1.7623599620065982, -0.9594908921596574, -0.7534163239818783, -0.40951525444397346, 0.6323059753964619, -0.7970540650322421, -0.009855436323174857, -0.3286866399388179, -0.6051203054058497, -1.5264523161776793, 1.544810643670232, 1.6597542317180152, -1.5687070902233817, 1.5230181656304578, 0.8710730008766445, -0.6998525091218011, 0.7298716324912629, 0.6780818657594858, -1.2827407064887582, 0.9031435006417228, -1.3930631033739296, -0.1948822706095099, 1.4151487130322173, 3.5079223422841994, 1.9125450363864642, 0.6916274846959922, -2.4668822327383313, 0.20500827709820554, 0.7710122414326426, -0.3815481973417496, 0.45042703485548463, -0.21414095743028083, 0.6181107238669865, -0.17863689122463206, 0.14847401390618578, 0.5051357688744977, -0.5176654285346497, 0.1089179673024441, -0.5621416151825596, 0.05728706346858822, 0.9407739452599932, 1.280316992955253, -0.7665420866968221, -0.37343186949310386, 0.8196735943352245, -0.2255401902428453, -0.514657206704833, 0.10997294315597067, -1.0296424741870902, -0.13498650419349179, 1.0213412153734338, -0.9447319968490071, -0.7693834165668905, -0.796351281810764, -0.07831590704555025, -1.2848145049392317, 0.4071089704860083, -0.2370201386600546, 0.8297882165239746, -0.6809490103864995, -0.1273464321581614, 0.6574563495671082, 0.6768582332260945, 1.1411420647493908, 1.0277217448176563, -0.15491175309474703, -1.165762204842779, 1.4936821864345486, -2.387826723060757, 1.6452922171184898, -1.5783010034173979, -0.7243710211501975, -0.37585400927809653, 1.47135263875769, -1.742036961934263, -0.9400190311587641, 0.6819927167747134, -0.9983365457647454, -0.37669526726971864, -1.595736421514321, -0.11643591074607326, 2.0550173679160753, 0.8934614307645752, 1.6616821409338542, 0.8472682888397679, 0.5180082744138681, 0.977696538241902, -0.5064104535777053, 0.0679776214546193, -0.40437889064030647, -0.8940944118383336, -0.5984690676772132, 0.40154390997203815, -0.49112797152680776, -0.34742072326978946, 0.6537411033558539, -1.6602878360119977, 1.8416901283435265, 0.6212888606176002, 0.4366327524250317, -0.7373110927875501, 0.11290403170692584, -0.7535779359073022, 0.6129590960801988, -0.9011275744636698, -0.152963184552418, 0.05861887303468093, -0.4064415228927279, -2.576485472884896, -0.9202455730383773, 1.6787703823389393, 1.6811070763871103, 0.05459224122853927, -0.3726091308827082, -0.10864864795883425, -0.8600334251778055, -1.133366703150724, 0.23476944668376512, 2.0312900945968875, 0.29454972445541605, 1.473628158464711, 2.1354860740778223, -0.8169976117646578, 0.024234547988855375, 0.13968319510593216, -0.6445991589498212, 0.016464755078633445, -1.623967149137165, 0.1442909726947298, 0.9165949221851991, -0.10726965789985832, -0.3989433998367592, 0.6190583635293229, 0.2236456732612047, 0.11782423676174622, -0.6946436365024259, 0.7870261103704146, 0.5687379586344113, 1.4397911700595525, -0.5993177214956202, 2.685199696714186, -1.4885694303487196, 0.951658533729458, 0.2617313432390226, 0.6880087079713368, -0.24838774881187792, -1.9020316159348185, 0.4092775220433891, -0.26853674069667494, 1.5257701584305967, -1.9698142661929439, -2.836284759399074, -0.14279703448903328, 0.7080362808357733, 0.09176408772437497, 1.1959836253771443, -0.20921337658538772, -0.6720780142212934, -0.9677232096049433, -0.12728606846241117, -0.7919927338041344, -1.0580272105587494, -2.1645802320991776, 1.2161594454580116, -0.666308317817951, 0.21836625215686112, -0.4070969736561259, 0.5644219639877234, -0.7220152152586076, 0.516979615307253, -1.3179416388696932, -1.5815739820017507, 0.04968288785390097, 0.3786708468173321, 0.5904367220931169, 2.012847925546007, 1.186920524352372, -1.2207487179845988, 1.4296988764920975, -0.32550084596338125, 0.3113305753768962, -1.9204793217359153, -0.30043810663571807, 0.7341294413159623, 1.0731199816872155, -1.1385426256330968, 0.6023940648499483, 2.275021496068711, -0.043962375150168286, -0.4651755658400948, 2.8186372178100036, -0.3681675300238779, 1.1569327617197296, -0.6646915052051928, -1.0639848748182636, 0.3144638481686363, -0.5299027577594396, 0.9120937132534034, -1.5410468454881958, 0.15319659347046313, 0.3368374069508085, -0.14181843919761594, -1.8592727039349788, -1.6196392198537617, -1.3357413957662219, -1.1417084575149303, -0.38568806809252587, 1.166879312775614, 0.7725415638487971, 0.05950665498552722, 0.851874558560094, -0.25807034565526354, 2.5837161264749873, -1.353222534677922, 0.13456814550959245, -0.33600813528683, -0.46281424199798077, -1.0821823920439257, 0.7742242098928073, 1.5552616674000026, -2.203494325615232, -0.5628072288306241, 0.7862883212527749, -0.8275645771687379, 0.6547053734920519, -0.949008990504814, 1.0348544697463875, 1.5685548687849993, -1.423220623109335, 0.4922794290278497, 0.6372587400959718, 0.35395360731109404, -0.014785474904181565, -0.31310831080021023, 0.3671866963993864, -1.1797069638817568, 1.1315225976287564, -0.12732340676200707, -1.12655016981363, 0.6098777795310888, -2.9412377675287864, -0.24479063326775757, 0.9458536976785847, -0.08580027891962273, 0.9494524129202309, -0.23217744932198903, 0.5400646274997215, 0.042024200716335676, 0.8470105177726862, 0.7775328610231259, -0.8417997271772831, 1.595606018805888, 0.9952911937329436, -0.8205570714330156, 0.12887046889661996, 1.2667850226910593, -2.2127427707865754, 0.10419356547149763, 0.6887369921058105, 1.681128007765359, 0.6741741951312531, 1.412771792122196, -2.3260550213300655, 1.4188644235891532, -0.1642245065803281, -1.227916190279069, 1.0306214595658154, 1.0641190730106134, -1.2161659568277299, 1.3849696161522993, 0.9729659596800463, -0.6318679540603132, -2.552390071243379, 0.2290095344686462, 1.8382713310084648, 0.6870883164007735, -0.7416376487486801, -0.03075003980434744, 0.21293812760318742, 0.696352667010797, -0.13773198878280535, 0.8411112419590081, -0.14108737480582284, -0.8097361460032098, -2.975870569345094, -1.027367314118927, 0.9378540374406644, -2.22315592516175, -0.541318628490737, 0.7115901849999661, -0.9888993494174527, 2.5589313811947063, -1.8188162136606938, -0.8194365298858131, -0.6576550883304514, 0.20939995404036807, -0.04678016464232463, -0.20509157649263762, 0.13909675361403945, 0.6381537727524907, 1.67607810596255, -0.9276596053170765, 0.22984307026308487, -0.1937658576313271, -0.17887856983493303, 1.8342760046889042, -1.5074485969479958, 0.3149346713410393, -0.6134260464264295, 0.24189262863742875, -1.582993962877902, 0.23182293095767476, 0.3964697628917399, -0.09581458081832789, 0.6844930077602323, 0.10646062396850377, -0.11718160192726274, 1.4988721839330332, 0.6378661083648928, -1.4976821986221351, 0.3330551256691911, 0.8977044232767982, 1.4637774912415202, -0.4658348062426277, -0.5284418337489296, 0.6232990920259873, -1.1442687412110637, -0.368438996439852, 0.5147002178471921, -0.2626978868767779, 0.1630696442140985, 0.4345659711608185, -0.2327190398000096, -1.1334451661144385, -1.6088562697112592, -0.8310475755146527, 2.3899664867509496, -0.02370996136101748, -0.0011481249678289504, 0.45848272857328304, -0.009185722120149328, -0.5461623200733047, 1.0057149659488556, 3.5027524267540033, -0.1600528825217717, 0.7140286967070273, 0.38954686926099164, 1.616035335778273, -0.3494161790828438, 0.12009857420278454, 0.6568893961997023, 0.09985967870984391, 1.1341303663985471, 0.29709282987092916, 0.22827715588510372, 0.06239246210357985, -1.7363709293717824, -1.2782574038163106, 0.5699147735140889, -0.6841900622234082, 0.15847348710272127, 1.0679287325143851, 1.420356179634184, -0.6184516834323519, 0.7237460569149741, 0.44894479714601043, 0.06762763749861578, -0.5677768538679993, -0.5484469122093723, -0.27455759866360485, -0.73564962639789, -0.900597076526784, -0.2037144323964399, 1.1739533400814999, -1.0895503630836423, 1.666886927093478, 0.16252718176958691, -0.18894743881980394, -2.0958371669518945, 1.7160266793272347, 0.32331039945944795, 0.42155042166777623, -0.716096774036913, 1.1811270871037578, -0.32355874522816874, -0.2925078829117037, -1.151291130979886, -0.6761264629523266, 0.1533371806077532, -1.0983128932998332, -0.46599933758486783, 1.2622476232647935, -1.0555372585969447, -0.4376487348692336, 1.1189210387718893, -0.8100808522187397, 1.156171751652358, 0.12697706742397738, -1.0071048652685115, 0.6458681213101952, 0.45893043520037485, -0.01159571279584804, 0.529654637290038, -1.0916330184223413, -0.87428869073398, 0.8946187727519147, -0.04446802207967394, 1.4476168084220227, 1.2648004045568977, -0.8127692092848352, -0.8994205425655596, 1.1699293935437245, 0.8079176651693478, -0.22864991233723544, -0.05314083427587971, 1.0176847619059808, 1.363115453046521, -0.5850303268573964], \"xaxis\": \"x\", \"xbins\": {\"end\": 3.5079223422841994, \"size\": 1.0, \"start\": -3.0380716902472704}, \"yaxis\": \"y\"}, {\"legendgroup\": \"distplot\", \"marker\": {\"color\": \"rgb(31, 119, 180)\"}, \"mode\": \"lines\", \"name\": \"distplot\", \"showlegend\": false, \"type\": \"scatter\", \"x\": [-3.0380716902472704, -3.0249797021822076, -3.0118877141171447, -2.9987957260520814, -2.9857037379870186, -2.9726117499219558, -2.959519761856893, -2.9464277737918296, -2.933335785726767, -2.920243797661704, -2.907151809596641, -2.8940598215315783, -2.880967833466515, -2.867875845401452, -2.8547838573363893, -2.8416918692713264, -2.8285998812062636, -2.8155078931412003, -2.8024159050761375, -2.7893239170110746, -2.776231928946012, -2.763139940880949, -2.7500479528158857, -2.736955964750823, -2.72386397668576, -2.7107719886206967, -2.697680000555634, -2.684588012490571, -2.671496024425508, -2.6584040363604453, -2.6453120482953825, -2.632220060230319, -2.6191280721652563, -2.6060360841001935, -2.5929440960351307, -2.5798521079700674, -2.5667601199050045, -2.5536681318399417, -2.540576143774879, -2.527484155709816, -2.514392167644753, -2.50130017957969, -2.488208191514627, -2.475116203449564, -2.462024215384501, -2.448932227319438, -2.435840239254375, -2.4227482511893124, -2.4096562631242495, -2.3965642750591867, -2.3834722869941234, -2.3703802989290605, -2.3572883108639977, -2.3441963227989344, -2.3311043347338716, -2.3180123466688087, -2.304920358603746, -2.291828370538683, -2.27873638247362, -2.265644394408557, -2.252552406343494, -2.2394604182784312, -2.226368430213368, -2.213276442148305, -2.2001844540832423, -2.1870924660181794, -2.1740004779531166, -2.1609084898880537, -2.1478165018229904, -2.1347245137579276, -2.1216325256928648, -2.1085405376278015, -2.0954485495627386, -2.082356561497676, -2.069264573432613, -2.05617258536755, -2.0430805973024873, -2.0299886092374244, -2.0168966211723616, -2.0038046331072983, -1.9907126450422354, -1.9776206569771724, -1.9645286689121093, -1.9514366808470465, -1.9383446927819836, -1.9252527047169206, -1.9121607166518577, -1.8990687285867949, -1.8859767405217318, -1.8728847524566687, -1.859792764391606, -1.846700776326543, -1.8336087882614802, -1.8205168001964172, -1.807424812131354, -1.7943328240662912, -1.7812408360012282, -1.7681488479361653, -1.7550568598711025, -1.7419648718060396, -1.7288728837409764, -1.7157808956759135, -1.7026889076108507, -1.6895969195457878, -1.6765049314807248, -1.663412943415662, -1.6503209553505989, -1.637228967285536, -1.624136979220473, -1.61104499115541, -1.5979530030903473, -1.5848610150252844, -1.5717690269602211, -1.5586770388951583, -1.5455850508300955, -1.5324930627650324, -1.5194010746999695, -1.5063090866349067, -1.4932170985698436, -1.4801251105047806, -1.4670331224397177, -1.4539411343746549, -1.440849146309592, -1.427757158244529, -1.414665170179466, -1.401573182114403, -1.3884811940493402, -1.3753892059842772, -1.3622972179192143, -1.3492052298541515, -1.3361132417890882, -1.3230212537240253, -1.3099292656589625, -1.2968372775938997, -1.2837452895288366, -1.2706533014637738, -1.2575613133987107, -1.2444693253336478, -1.2313773372685848, -1.218285349203522, -1.205193361138459, -1.1921013730733963, -1.179009385008333, -1.1659173969432701, -1.1528254088782073, -1.1397334208131442, -1.1266414327480814, -1.1135494446830185, -1.1004574566179555, -1.0873654685528924, -1.0742734804878296, -1.0611814924227667, -1.0480895043577039, -1.0349975162926408, -1.021905528227578, -1.0088135401625151, -0.9957215520974523, -0.982629564032389, -0.9695375759673261, -0.9564455879022629, -0.9433535998372005, -0.9302616117721372, -0.9171696237070743, -0.9040776356420115, -0.8909856475769482, -0.8778936595118858, -0.8648016714468225, -0.8517096833817597, -0.8386176953166968, -0.8255257072516335, -0.8124337191865707, -0.7993417311215079, -0.786249743056445, -0.7731577549913822, -0.7600657669263193, -0.746973778861256, -0.7338817907961932, -0.7207898027311304, -0.7076978146660671, -0.6946058266010047, -0.6815138385359414, -0.6684218504708781, -0.6553298624058157, -0.6422378743407524, -0.62914588627569, -0.6160538982106267, -0.6029619101455639, -0.589869922080501, -0.5767779340154378, -0.5636859459503749, -0.5505939578853121, -0.5375019698202492, -0.5244099817551859, -0.5113179936901231, -0.49822600562506025, -0.4851340175599974, -0.47204202949493457, -0.4589500414298713, -0.4458580533648089, -0.4327660652997456, -0.4196740772346823, -0.4065820891696199, -0.3934901011045566, -0.3803981130394942, -0.36730612497443094, -0.35421413690936765, -0.34112214884430525, -0.32803016077924196, -0.3149381727141791, -0.3018461846491163, -0.28875419658405344, -0.27566220851899015, -0.2625702204539273, -0.24947823238886446, -0.23638624432380162, -0.22329425625873878, -0.2102022681936755, -0.19711028012861265, -0.1840182920635498, -0.17092630399848652, -0.15783431593342412, -0.14474232786836083, -0.13165033980329843, -0.11855835173823515, -0.10546636367317186, -0.09237437560810946, -0.07928238754304617, -0.06619039947798333, -0.05309841141292049, -0.0400064233478572, -0.026914435282794358, -0.013822447217731515, -0.0007304591526686721, 0.01236152891239417, 0.025453516977457014, 0.0385455050425203, 0.05163749310758314, 0.06472948117264599, 0.07782146923770927, 0.09091345730277167, 0.10400544536783496, 0.11709743343289825, 0.13018942149796064, 0.14328140956302393, 0.15637339762808633, 0.16946538569314962, 0.18255737375821246, 0.1956493618232753, 0.2087413498883386, 0.22183333795340143, 0.23492532601846428, 0.24801731408352712, 0.26110930214858996, 0.27420129021365325, 0.2872932782787161, 0.30038526634377893, 0.3134772544088418, 0.32656924247390506, 0.33966123053896746, 0.35275321860403075, 0.36584520666909404, 0.37893719473415644, 0.3920291827992197, 0.4051211708642821, 0.4182131589293454, 0.4313051469944087, 0.4443971350594711, 0.4574891231245344, 0.4705811111895972, 0.48367309925466007, 0.4967650873197229, 0.5098570753847858, 0.522949063449849, 0.5360410515149119, 0.5491330395799747, 0.5622250276450376, 0.5753170157101009, 0.5884090037751637, 0.6015009918402265, 0.6145929799052898, 0.6276849679703522, 0.6407769560354155, 0.6538689441004779, 0.6669609321655412, 0.6800529202306045, 0.6931449082956669, 0.7062368963607302, 0.719328884425793, 0.7324208724908559, 0.7455128605559191, 0.758604848620982, 0.7716968366860448, 0.7847888247511077, 0.7978808128161705, 0.8109728008812334, 0.8240647889462966, 0.8371567770113595, 0.8502487650764223, 0.8633407531414856, 0.876432741206548, 0.8895247292716113, 0.9026167173366741, 0.915708705401737, 0.9288006934668003, 0.9418926815318627, 0.954984669596926, 0.9680766576619888, 0.9811686457270516, 0.9942606337921145, 1.0073526218571782, 1.0204446099222402, 1.033536597987304, 1.0466285860523659, 1.0597205741174296, 1.0728125621824924, 1.0859045502475553, 1.0989965383126181, 1.112088526377681, 1.1251805144427447, 1.1382725025078075, 1.1513644905728695, 1.1644564786379332, 1.177548466702996, 1.190640454768059, 1.2037324428331218, 1.2168244308981846, 1.2299164189632474, 1.2430084070283103, 1.256100395093374, 1.269192383158436, 1.2822843712234988, 1.2953763592885625, 1.3084683473536254, 1.3215603354186882, 1.334652323483751, 1.347744311548814, 1.3608362996138768, 1.3739282876789405, 1.3870202757440033, 1.4001122638090653, 1.413204251874129, 1.4262962399391919, 1.4393882280042547, 1.4524802160693184, 1.4655722041343804, 1.4786641921994432, 1.491756180264506, 1.5048481683295698, 1.5179401563946318, 1.5310321444596946, 1.5441241325247583, 1.5572161205898212, 1.570308108654884, 1.5834000967199469, 1.5964920847850097, 1.6095840728500725, 1.6226760609151363, 1.6357680489801991, 1.648860037045261, 1.6619520251103248, 1.6750440131753876, 1.6881360012404505, 1.7012279893055142, 1.7143199773705762, 1.727411965435639, 1.7405039535007019, 1.7535959415657656, 1.7666879296308284, 1.7797799176958904, 1.7928719057609541, 1.805963893826017, 1.8190558818910798, 1.8321478699561426, 1.8452398580212055, 1.8583318460862683, 1.871423834151332, 1.884515822216395, 1.8976078102814569, 1.9106997983465206, 1.9237917864115834, 1.9368837744766463, 1.94997576254171, 1.963067750606772, 1.9761597386718348, 1.9892517267368985, 2.0023437148019614, 2.0154357028670242, 2.028527690932086, 2.04161967899715, 2.0547116670622128, 2.0678036551272756, 2.0808956431923393, 2.0939876312574013, 2.107079619322464, 2.120171607387528, 2.1332635954525907, 2.1463555835176527, 2.1594475715827164, 2.1725395596477792, 2.185631547712842, 2.198723535777906, 2.2118155238429678, 2.2249075119080306, 2.2379994999730943, 2.251091488038157, 2.26418347610322, 2.277275464168282, 2.2903674522333457, 2.3034594402984085, 2.3165514283634714, 2.329643416428535, 2.342735404493597, 2.35582739255866, 2.3689193806237236, 2.3820113686887865, 2.3951033567538493, 2.408195344818912, 2.421287332883975, 2.434379320949038, 2.4474713090141016, 2.4605632970791635, 2.4736552851442264, 2.48674727320929, 2.499839261274353, 2.512931249339416, 2.5260232374044778, 2.5391152254695415, 2.5522072135346043, 2.565299201599667, 2.578391189664731, 2.591483177729793, 2.6045751657948557, 2.6176671538599194, 2.6307591419249823, 2.643851129990045, 2.656943118055108, 2.670035106120171, 2.6831270941852337, 2.6962190822502974, 2.7093110703153602, 2.722403058380422, 2.735495046445486, 2.7485870345105488, 2.7616790225756116, 2.7747710106406736, 2.7878629987057373, 2.8009549867708, 2.814046974835863, 2.8271389629009267, 2.8402309509659887, 2.8533229390310515, 2.8664149270961152, 2.879506915161178, 2.892598903226241, 2.9056908912913038, 2.9187828793563666, 2.9318748674214294, 2.944966855486493, 2.958058843551556, 2.971150831616618, 2.9842428196816817, 2.9973348077467445, 3.0104267958118074, 3.0235187838768693, 3.036610771941933, 3.049702760006996, 3.0627947480720588, 3.0758867361371225, 3.0889787242021844, 3.1020707122672473, 3.115162700332311, 3.128254688397374, 3.1413466764624367, 3.1544386645274995, 3.1675306525925624, 3.1806226406576252, 3.193714628722689, 3.206806616787752, 3.2198986048528138, 3.2329905929178775, 3.2460825809829403, 3.259174569048003, 3.272266557113067, 3.285358545178129, 3.2984505332431917, 3.3115425213082545, 3.3246345093733183, 3.337726497438381, 3.350818485503443, 3.363910473568507, 3.3770024616335697, 3.3900944496986325, 3.4031864377636953, 3.416278425828758, 3.429370413893821, 3.4424624019588848, 3.4555543900239476, 3.4686463780890096, 3.4817383661540733, 3.494830354219136], \"xaxis\": \"x\", \"y\": [0.008624878787226292, 0.00889865013781849, 0.009170909690792964, 0.009441826224864763, 0.009711673915426332, 0.009980831709105919, 0.010249780963181966, 0.010519101346550257, 0.010789465032955931, 0.011061629251328095, 0.011336427291493168, 0.011614758095500687, 0.011897574594503985, 0.012185870977875962, 0.012480669104353624, 0.01278300428392622, 0.013093910673446015, 0.013414406538197062, 0.013745479635683441, 0.014088072976600715, 0.014443071211375188, 0.014811287878968401, 0.015193453738149818, 0.015590206380555992, 0.016002081300101136, 0.016429504565292692, 0.0168727872104169, 0.017332121429124592, 0.01780757862042797, 0.018299109303285564, 0.01880654488255978, 0.01932960121690682, 0.019867883908772654, 0.020420895208730062, 0.02098804240142096, 0.02156864751880256, 0.022161958208563416, 0.022767159571706608, 0.023383386773513058, 0.02400973822641935, 0.024645289141687055, 0.025289105248937196, 0.025940256488416552, 0.02659783048993045, 0.02726094566433338, 0.02792876374789145, 0.02860050165625773, 0.029275442522757104, 0.029952945814684842, 0.03063245644090691, 0.03131351278375739, 0.031995753607636096, 0.03267892381542675, 0.03336287904153801, 0.03404758908671887, 0.034733140214570586, 0.035419736342675034, 0.036107699172346845, 0.03679746731010927, 0.03748959444105815, 0.03818474661933219, 0.03888369874401966, 0.0395873302901059, 0.04029662036365892, 0.04101264214854239, 0.041736556808756674, 0.042469606906284554, 0.04321310938931717, 0.0439684482002458, 0.04473706654710678, 0.045520458876554634, 0.04632016258119572, 0.047137749469513525, 0.047974817022909275, 0.0488329794617879, 0.04971385864133124, 0.050619074797755736, 0.05155023716754464, 0.05250893450541257, 0.05349672553157403, 0.05451512934515902, 0.05556561584819346, 0.056649596233214194, 0.05776841359704182, 0.05892333375314292, 0.060115536324994924, 0.061346106212491563, 0.06261602553224674, 0.06392616614020477, 0.06527728285078972, 0.06667000747049139, 0.06810484376489107, 0.06958216347634061, 0.0711022035045558, 0.07266506435408575, 0.0742707099409002, 0.07591896883521652, 0.07760953699931453, 0.0793419820577158, 0.08111574911310444, 0.0829301680952194, 0.0847844626022208, 0.08667776016538851, 0.08860910383914944, 0.09057746499012255, 0.09258175713187516, 0.09462085062716596, 0.09669358805733484, 0.09879880003984899, 0.10093532126040405, 0.1031020064758889, 0.10529774623928435, 0.10752148209740711, 0.10977222101737283, 0.1120490488076649, 0.1143511423145073, 0.11667778019348195, 0.11902835207949806, 0.12140236600469076, 0.12379945394291031, 0.12621937539038883, 0.1286620189241455, 0.13112740171191392, 0.13361566697906851, 0.13612707946846286, 0.1386620189576309, 0.14122097192388322, 0.14380452147103065, 0.14641333565147613, 0.14904815433406557, 0.1517097747813422, 0.1543990361097998, 0.15711680281359539, 0.15986394753626373, 0.16264133327667932, 0.1654497952152785, 0.16829012234486482, 0.17116303908765415, 0.17406918707702862, 0.17700910727915364, 0.17998322262650543, 0.18299182133267206, 0.18603504105566676, 0.18911285407540745, 0.19222505364986772, 0.19537124171343367, 0.19855081807987027, 0.20176297131055718, 0.20500667140577813, 0.2082806644722773, 0.21158346951344237, 0.21491337747875275, 0.21826845269602382, 0.22164653679301075, 0.22504525519375757, 0.22846202624946854, 0.23189407303354836, 0.2353384377959245, 0.23879199903308224, 0.24225149108788885, 0.24571352614789058, 0.2491746184631656, 0.25263121055596244, 0.2560797011453956, 0.2595164744625798, 0.2629379305861052, 0.2663405163859967, 0.26972075662759465, 0.27307528475646986, 0.2764008728627157, 0.27969446030888206, 0.2829531805013467, 0.2861743852908164, 0.2893556665044451, 0.2924948741400318, 0.2955901307919355, 0.2986398419284703, 0.3016427017010824, 0.30459769403574566, 0.3075040888356683, 0.3103614332102405, 0.3131695377365933, 0.3159284578554504, 0.3186384706001583, 0.3213000469548638, 0.3239138202326206, 0.32648055095457557, 0.3290010887952025, 0.33147633223370926, 0.3339071866163381, 0.33629452138653404, 0.33863912727832796, 0.3409416742915331, 0.34320267127450677, 0.34542242793070027, 0.34760102003875365, 0.3497382586326561, 0.35183366382901754, 0.3538864439137251, 0.35589548021150647, 0.3578593181608468, 0.35977616490531633, 0.36164389359290455, 0.36346005444993484, 0.36522189256819965, 0.36692637221586244, 0.36857020735722207, 0.37014989794635533, 0.37166177144759505, 0.37310202893421396, 0.37446679502776514, 0.3757521708662032, 0.37695428923070246, 0.3780693709201799, 0.37909378143963396, 0.38002408706384894, 0.38085710935162587, 0.38158997721693466, 0.38222017571124817, 0.3827455907344785, 0.38316454896870694, 0.38347585241733484, 0.38367880703021684, 0.3837732450004557, 0.3837595404284408, 0.3836386181609902, 0.38341195572573983, 0.38308157839095947, 0.38265004748667547, 0.38212044222245306, 0.3814963353288145, 0.3807817629316749, 0.3799811891413049, 0.3790994658984124, 0.378141788669511, 0.3771136486216311, 0.3760207819327264, 0.3748691169091667, 0.3736647195860408, 0.3724137384803463, 0.371122349152382, 0.36979669920777064, 0.3684428543425428, 0.3670667459977054, 0.36567412114875275, 0.3642704947107044, 0.36286110499147173, 0.36145087257655995, 0.36004436297715553, 0.3586457533222473, 0.35725880332421095, 0.3558868306967808, 0.354532691154949, 0.35319876307840165, 0.3518869368738533, 0.3505986090272438, 0.3493346807943016, 0.34809556143751474, 0.34688117587909567, 0.3456909766030727, 0.3445239596051993, 0.3433786841569307, 0.34225329611932215, 0.3411455545144152, 0.34005286103560206, 0.33897229215477087, 0.33790063346292676, 0.33683441586274326, 0.3357699532164211, 0.3347033810406832, 0.3336306958330866, 0.33254779461048967, 0.33145051424185273, 0.3303346701639387, 0.32919609408023126, 0.3280306702607257, 0.3268343700833135, 0.32560328448628917, 0.32433365403591496, 0.32302189635270445, 0.32166463068465145, 0.32025869946439833, 0.3188011867394772, 0.3172894334192764, 0.3157210493381382, 0.3140939221896978, 0.31240622344187147, 0.31065641139335365, 0.3088432315796625, 0.3069657147782849, 0.30502317289701497, 0.30301519305599556, 0.3009416301913187, 0.29880259851559116, 0.29659846216821656, 0.2943298253751762, 0.2919975224150381, 0.2896026076553849, 0.2871463458827468, 0.2846302031007253, 0.28205583791685024, 0.27942509358065254, 0.2767399906754505, 0.27400272040660933, 0.2712156383717251, 0.26838125864549933, 0.2655022479661028, 0.26258141977245586, 0.2596217278147616, 0.2566262590451127, 0.253598225492018, 0.2505409548327671, 0.24745787940075983, 0.24435252340081767, 0.24122848815328019, 0.23808943524595688, 0.23493906754014293, 0.23178110805075997, 0.22861927679895344, 0.2254572658155845, 0.22229871255331646, 0.2191471720407201, 0.21600608818135628, 0.21287876466164318, 0.20976833598127206, 0.20667773915703042, 0.20360968667362142, 0.20056664126232904, 0.1975507930795428, 0.19456403983211418, 0.1916079703556402, 0.18868385209594876, 0.18579262287459075, 0.1829348872378182, 0.18011091759742068, 0.17732066027331111, 0.17456374644451397, 0.17183950790996144, 0.16914699745603234, 0.16648501352684483, 0.1638521287985862, 0.16124672217307334, 0.15866701363048782, 0.15611110131871928, 0.15357700020846138, 0.15106268161028918, 0.14856611283309876, 0.14608529626276287, 0.14361830715553583, 0.14116332947201812, 0.13871868912347285, 0.13628288406161307, 0.13385461071411042, 0.1314327863491113, 0.12901656704093656, 0.12660536100368971, 0.12419883715739928, 0.12179692889026839, 0.11939983307829935, 0.1170080045178097, 0.11462214601508254, 0.11224319445869871, 0.10987230327233993, 0.1075108217075678, 0.10516027148616296, 0.10282232133920173, 0.10049876001459009, 0.09819146833608465, 0.0959023908949521, 0.09363350794076938, 0.09138680801110326, 0.08916426180186199, 0.08696779773218498, 0.08479927960116447, 0.08266048667006072, 0.0805530964346357, 0.07847867027956265, 0.0764386421323766, 0.07443431015993547, 0.07246683147762452, 0.07053721977224701, 0.06864634567528431, 0.06679493966536112, 0.06498359722855444, 0.06321278596363872, 0.061482854287213944, 0.05979404137145085, 0.058146487935150405, 0.05654024750693922, 0.05497529778745869, 0.053451551754824495, 0.05196886818372302, 0.05052706128231251, 0.04912590919151553, 0.047765161137077884, 0.04644454307455844, 0.04516376171981154, 0.04392250691106718, 0.04272045230198156, 0.04155725443663889, 0.040432550306149, 0.03934595353101167, 0.03829704935279065, 0.03728538865198743, 0.03631048123564039, 0.035371788657626566, 0.03446871684662138, 0.03360060882109229, 0.03276673776769051, 0.031966300749248625, 0.031198413291773683, 0.030462105076952323, 0.02975631693851537, 0.029079899328191137, 0.028431612380833773, 0.027810127669629623, 0.02721403170205753, 0.02664183116650193, 0.026091959899066212, 0.025562787501122237, 0.02505262950131074, 0.02455975892183848, 0.024082419078666924, 0.02361883741909963, 0.023167240178792944, 0.022725867623646423, 0.022292989630568708, 0.021866921354836193, 0.021446038730620863, 0.021028793555118486, 0.02061372791530468, 0.02019948772935684, 0.019784835191793908, 0.019368659931927774, 0.018949988718771592, 0.01852799357154917, 0.01810199816281306, 0.017671482430312958, 0.017236085343566823, 0.016795605800996087, 0.016350001662933284, 0.015899386954275858, 0.0154440272975594, 0.014984333662323494, 0.014520854539472215, 0.014054266669564639, 0.013585364471364684, 0.013115048331339722, 0.012644311926013993, 0.012174228757096601, 0.011705938084132499, 0.011240630441145233, 0.010779532922481684, 0.010323894419022622, 0.009874970979320101, 0.00943401146133239, 0.009002243629557129, 0.00858086083983406, 0.008171009440241912, 0.00777377700169196, 0.0073901814763641435, 0.007021161366365863, 0.006667566969226638, 0.006330152751354585, 0.006009570885616337, 0.005706365974973564, 0.005420970970780542, 0.005153704282047093, 0.004904768060776657, 0.0046742476384430695, 0.004462112079770105, 0.004268215812186672, 0.0040923012825843244, 0.003934002587207281, 0.0037928500155497346, 0.003668275444900069, 0.003559618518532075, 0.0034661335373781456, 0.003386996992218619, 0.0033213156608910693, 0.0032681351926898785, 0.003226449099943156, 0.0031952080747016495, 0.003173329546561247, 0.003159707395905729, 0.0031532217353639276, 0.003152748671112954, 0.0031571699549338664, 0.0031653824377576275, 0.003176307235954262, 0.003188898522943314, 0.003202151860958228, 0.0032151119910857643, 0.0032268800041077967, 0.0032366198202531727, 0.0032435639127461452, 0.0032470182180035522, 0.0032463661844355377, 0.0032410719219547737, 0.0032306824253691647], \"yaxis\": \"y\"}, {\"legendgroup\": \"distplot\", \"marker\": {\"color\": \"rgb(31, 119, 180)\", \"symbol\": \"line-ns-open\"}, \"mode\": \"markers\", \"name\": \"distplot\", \"showlegend\": false, \"type\": \"scatter\", \"x\": [0.5176540693435158, -1.9266384976079325, 0.17938536641161643, 0.38915999543031055, -0.7591380806708211, 0.470470818044731, 1.7729368568894235, 1.777151062645996, 0.05295514403855496, 0.056140995617671045, 0.9017079487146321, 1.3462507011950788, 1.2184069539321611, -0.1962336218110319, 1.0044040406461634, 1.6364032564105302, 1.9408029587365212, 1.096666009955292, 0.14803800774767198, -0.5262906949038044, -0.719228251906166, -0.35598290422113404, -0.18143819287838592, 0.18635279645667757, -0.11974425243084415, -1.3168971112726042, -0.07808900946482286, 0.5515942381396092, -0.7786192545249374, 0.7197425159349782, 0.5035751328690016, -1.0975544133127682, -0.17798774939768366, 0.3502108586063837, -0.9377428715668532, 0.5210103557023739, 0.618795733581758, -0.5263740012461203, 0.6758945560537417, 0.7867211328760503, -0.3391495865588815, 0.0878176997154205, -0.5320752859874237, 0.06092790112647874, 0.9487932923551486, 1.17376023847231, -0.4144893483640793, 0.25177257945859066, -0.9092014968648322, 0.32311916269616187, 1.7589643968994397, 0.6941603495168558, 0.2040645061431851, 0.570705593734165, 2.1359386958855944, -0.8675187804202622, -0.8294872194177998, 1.075051042471335, 0.18125039798246262, 0.6326882348281612, -0.7039120429158643, 0.3728495871425359, -0.12022459248783132, -1.1037976560201377, 0.14439594084090815, -0.6061862253368453, 0.39808305113857817, -1.4075842568154828, -2.3290616445329313, 2.1991460584616624, 0.5096813750668424, -1.3821391588688383, -1.081608999599621, 0.21639804495572226, -2.256735111507702, -0.13173250688878557, -0.7021141318310798, 0.4831675523383652, 0.781100132671573, 0.7866839197495062, -3.0380716902472704, -0.18156217647710624, 2.105929308978488, -0.08597987049919015, -0.37464999409496696, 0.49485272217474124, 0.3318397206931223, 0.1671556604629985, 0.2163674463671284, 1.0550534621189471, -0.8681644809038571, -0.5052373329986323, -0.1475715345886041, -0.6224740050125744, -0.22980126130673714, 0.35229852935762945, -0.6673258421953506, 0.23337428048920517, 1.021323723086961, 1.6532956726498056, 0.8766072792848989, 1.517733439640362, 0.04190298500601147, 0.19144616333039705, -0.9628045938138505, -0.7951131929490192, -0.2676518221786831, -1.406762247004167, 0.4970938121029308, 1.6377526543081762, -0.7105747980315011, -0.369337625340982, 0.09095864054456108, 1.6409188996845399, 1.1828328032069237, 0.7531740009015915, 1.401477164577915, 2.0265028437288466, 0.12481609434978702, -0.7883439847434381, 0.4063123766927022, 0.313908048285553, -0.8112688932493007, 0.4585480471684246, -0.49408942162925257, 1.4890226561958075, 0.08849632266818273, -0.7715599385231667, 2.4177007192616724, 1.081717225032806, -1.0047092980763521, -0.526927832796693, -0.47403098625298934, -0.6191574726418316, -0.13747512146849108, 0.38663150207961694, 1.1461304611391374, 0.16839478652372317, -0.5469486403862741, 0.5185845318868094, -0.429482207853616, 0.7674907102208245, -0.7124943517664116, 1.6263125330836903, -0.8313458375158056, 1.3807336913206503, 1.01266622891095, -0.022246201443898307, -1.416059149429094, 1.8075217892278568, -0.18532710673819175, 0.306681191099923, 1.094043027426311, 0.7081660153958996, -2.3761080117860245, -1.8312132158775782, 0.7795870377663889, 0.7576388308751754, 0.9773063462698506, 0.3125281871505035, -0.6992945647365195, -0.19189324236968983, 2.77011549842281, 0.10996023124626447, -0.16557025202537515, 1.3966745321944505, 0.9893935178484842, -0.11016062179517669, 0.5978183622033814, 0.7463147460628005, -0.8906185713369069, -0.1309529077667626, -0.45955844871040985, -0.7334038060905612, -1.5368540183962514, 0.5133659808874632, -2.2445665859604413, 0.38079347572104977, 0.6363758410016216, 0.22872470563580097, 0.719487381606402, 0.41361928538213977, -2.422074900556862, 0.8124728412803435, -0.7441395775650883, -0.0646371710482722, 1.2620841630064616, 0.3860271250085018, -0.41021768320562363, 0.8545853455005852, 1.540586018135902, -0.4421801955365669, -0.14057927769479542, 0.4383111468987668, -0.9928328794020447, -1.1538867730165836, -0.4434525319583714, 1.1721753760535374, 0.7400997754070168, -1.928870858057466, -0.055955740727583414, -0.15206276512134217, 0.45887183603814463, -1.0395124085546823, -0.5557921482260121, -0.9006947045884975, -2.0136606655309683, -0.29152386207182335, 0.3073488968070651, -0.28521284048771245, -1.3182797020290957, 0.9582914894701384, -0.3295682264659043, -0.5171536004178932, -0.009963347048653325, 1.235243521105968, -1.4436919844572271, 1.578442281022645, 0.8612281978645211, -1.806332851547567, -1.2355973973504308, 0.4708884541054725, 0.2698936945043562, -0.08393383261978744, -1.402341954105711, 0.1021821959244801, -0.2597548404501037, 0.6186793668729009, -0.823241962957012, -0.6380814834294847, -0.24937678869441457, 1.1690299087949507, 1.3483637293282429, -0.276236457940628, 0.3642380741910434, 0.8585951179872289, 0.30828399085072494, 0.4512465765904475, -0.9994713690655778, -0.2224597019354993, -0.16019134832134602, -0.22327713100755917, -0.4537095114412808, -1.9392463465876217, -1.3903204861782832, -0.3957906519112031, 0.14203966467751775, -0.26367901228831064, 0.38457141318657234, -0.7541404241148093, 0.9632455572439081, -0.1759374993963902, -0.9558703471216313, -0.19923660705668098, 0.781147704140476, -0.15830552636250586, -0.2864821770048353, 0.7746861083144464, 0.1421546057532976, 0.9059375401191695, 0.9668865607485847, -1.37584645077546, -0.0984830952180347, -0.06389426184229359, -0.3932634641148235, -0.24322737896112046, 0.31760558267867495, 1.4432754282574252, 1.0973421709574067, -0.9474177616675014, 0.12301834048386043, 0.03463437021977247, -1.5009104151129389, -1.6562077786501708, -0.047282406449509755, 1.4972225179952374, 0.39755523211514027, -1.1727099662867846, -1.9847914760034886, 0.6694733448361697, -1.1200498356592656, -0.5563080131220066, -0.12045659044806346, -0.0036563319677333406, -0.6316190989534181, 0.05481258959265315, -1.4491538386548564, 0.5060457289212263, -0.5880287551415027, -0.5920551893456799, -0.36746679507615737, 1.6070655938727327, 1.0837562057081274, -1.5904383166400742, -0.5127656352878892, -0.39852216897057013, 0.3057887486879108, -2.502600747385001, 1.355851097280561, -0.6608028996163037, 1.931412634786183, -0.7297620283486996, 1.242704235656297, -0.8105835633648948, 0.5879665959088253, 0.8914264928774869, -0.6090337671581159, -0.4282379424513153, -0.23149780022407473, -0.22743645284907293, 0.4945766952847596, 1.0162001434745358, -1.426637361765932, -1.19319440355357, 0.02899371140684854, -1.332431474540195, -1.328177715822475, 0.02401336180543119, -1.2941558382195215, -1.0325420079008316, -0.014739789394705674, 0.8330190806928046, -2.052629631860973, -0.005428501158042683, -0.6156942548479216, -0.49974284389051865, -0.40163277658251395, 1.3994467409418847, 0.18052243839447832, -1.1763053261460574, -1.4379328555283186, -1.7619213070887996, 0.7467597876840905, 1.3163920894566998, -0.8349902596893789, 0.9674129712669334, 1.519074783579965, -0.02443555029954905, -1.8129985933064643, -0.4475915585810136, 2.760636711019427, -0.8827932473544, -0.24349410576888283, -0.49560777901552194, -1.2729333262311116, 0.5046602362099798, -1.0140996810746494, 0.0808385544994782, 0.39655782095257264, -2.0779471841567156, 0.37182216849554633, 1.9927660198673063, 1.027510178334594, -1.2521716622546275, 0.5567064315904057, 1.0991423445464708, 1.3591323216232216, -0.29769230005035224, 1.223341369228566, -0.12473317086123134, 1.0628325077312728, 0.30270658110899823, 0.6638559359261477, -1.8142986202725364, -0.020938081218498626, -0.4926534948337888, 0.43766607333803215, 0.0990706863998156, -0.17431430601469824, 0.5557453880879886, -1.2543615417479104, 0.803831998302554, -1.6607665176851647, -1.162478807251615, -1.2190956919586442, 0.1708358168144749, 0.7573032365620472, -0.13937656348360225, -0.6525699460776868, -0.12956877525086666, 0.7734968216224868, 1.221614191965468, 0.13056232156912867, -1.4025700213797023, 1.3754094291018273, -0.4682430276337166, 0.1860227347102457, -0.03209501083089391, -1.0973823131884912, 0.4466467149267491, -0.5558386084049444, 0.02336428380937664, 0.4718092176648599, 0.38254374540817876, 0.1045195542146154, 1.6449285262045883, -1.0292698983461337, -0.3734110138393443, -0.6577665183904536, 0.7803893143990183, 0.42485478100593005, -0.900746143184742, -0.7997001142684761, 0.8655207971591592, 0.6881326344362714, -1.241389506393177, -0.3380873437307681, 0.8103301395022581, -2.0942689279144426, -1.1413001468160755, -0.10688625446333933, 0.4908189298472821, -0.07221050966564956, -0.5171236510537423, 0.7825194033978676, 0.3500123267726148, -0.6445042962734321, -0.6425729914566368, -0.40659015931427883, -0.6082427023545377, 2.6423190759031643, -0.6894748505389573, 1.9043956890100613, -0.003184970704104557, -0.18584171442600178, 1.540839765524826, -1.552868456867993, 0.3991289135160396, 0.7830411210962609, -1.4801545687952813, -0.6671995120197551, 1.067272037967401, 0.9950750602580812, -0.23794101747155727, 0.09228213261495417, -0.5485898259885943, 1.0365619413019491, -0.5475394229577961, 1.7301116092492168, 0.6613229287606193, -0.9366769010749078, 2.613659001987841, -0.1335858495710417, -0.05409776715442029, 0.8108499606192617, 1.4475906394786502, 1.021048004705793, 0.7563759321761447, 1.0932634414396036, 0.7105674156459114, 0.05819706501539681, 1.0952228311948602, 0.9799509895379702, -0.012241647512248896, 0.932275535008552, 1.1403022137452665, -1.000224625066208, 1.0542017727989248, -0.18778174841542272, 1.0325636246265348, 1.0712963655526857, -0.9052989712197218, 0.6645551932447237, 0.06567210585627466, 0.3985729220599194, -1.630932735550995, 0.11050290362290567, 0.8683586987110188, 0.025187291290748315, 2.0529564213870986, -1.1853654875590205, -1.7223373938732602, -1.1400409618703362, -2.5546322197200544, 1.3360621649251982, -1.7945738203465973, -1.5071166837145473, -0.20047223456922528, -0.24721427929537862, -0.183246357544602, 0.1805624299129483, -0.541755214484417, -0.8294629154726576, -0.5497728050136961, 0.6913545398171642, -0.5252277399217683, 1.0848975161108245, -1.1261784453901182, 1.795521108039668, 1.1052335361751, -0.5107071811992713, 0.5811792928285329, 1.1585656550715533, -0.2988746942471171, -0.4449511108713603, -0.938670135481349, 2.191342265725638, 0.4893131707486348, 0.4024687183116444, 0.666096007644043, -0.8299719778838393, 0.38289437401411947, 0.01963430737558851, -0.6832682068124004, -1.2720398758503797, -0.9135152999974037, -1.4095423623732115, 1.1195344863427565, 1.7749794202111446, -1.0368259813141636, -0.3333288057953158, -0.8093760010340953, -0.29936734469173865, -0.13814617997926315, 0.5590060777311671, 0.2485736210991344, 0.8566995667213149, -0.744030055425132, 2.512804327619227, -0.46720771434871383, 0.34950021024545697, -0.668093499349435, 1.1019787583734624, 0.2709277924277512, -0.6932113544036781, 0.990005446134624, -0.4053364853247077, 0.27032139414074696, 1.3523964886697784, -1.4743003326173263, 2.02950900794197, 1.3819580768382234, -0.11154380256540024, -0.9134990677247453, 0.4926764681990856, 1.215947707025049, -0.5842354939817912, -0.4570122073212928, 0.4842270490325069, -1.4482033894909778, 0.5960310092158441, -0.4976320495903822, -0.35703181614933094, 0.006240545041463764, 0.32335676697813864, -0.5573122453366383, 1.4792545989191792, 2.1160520623170704, -0.27431884484601954, -0.7041826768395525, 0.04163916499754548, -1.1069679762971993, 0.006013362549389266, -0.38600179140620444, -2.1754534957800367, 0.30313417061884756, 0.5876266804339528, -0.2638429276717713, -0.13563731297848386, 0.49105312616858776, 0.7160229815851786, 1.0493091752528045, 0.2574325777961832, 2.1088399762242274, -0.6472619297270138, 1.4814016256810751, -0.12557952454879487, 1.2459657110172455, 2.3744575364144267, -1.1358481500447495, 1.753004793418907, -0.7554012511351378, 0.7380856460798914, -0.1725971252048306, -0.1316722986993851, 0.19921983536990606, -2.9630045464452963, 0.7954415028172516, 1.0770756154049592, -0.3012280365357591, 1.6031086240885268, 1.255524236819302, 1.7623599620065982, -0.9594908921596574, -0.7534163239818783, -0.40951525444397346, 0.6323059753964619, -0.7970540650322421, -0.009855436323174857, -0.3286866399388179, -0.6051203054058497, -1.5264523161776793, 1.544810643670232, 1.6597542317180152, -1.5687070902233817, 1.5230181656304578, 0.8710730008766445, -0.6998525091218011, 0.7298716324912629, 0.6780818657594858, -1.2827407064887582, 0.9031435006417228, -1.3930631033739296, -0.1948822706095099, 1.4151487130322173, 3.5079223422841994, 1.9125450363864642, 0.6916274846959922, -2.4668822327383313, 0.20500827709820554, 0.7710122414326426, -0.3815481973417496, 0.45042703485548463, -0.21414095743028083, 0.6181107238669865, -0.17863689122463206, 0.14847401390618578, 0.5051357688744977, -0.5176654285346497, 0.1089179673024441, -0.5621416151825596, 0.05728706346858822, 0.9407739452599932, 1.280316992955253, -0.7665420866968221, -0.37343186949310386, 0.8196735943352245, -0.2255401902428453, -0.514657206704833, 0.10997294315597067, -1.0296424741870902, -0.13498650419349179, 1.0213412153734338, -0.9447319968490071, -0.7693834165668905, -0.796351281810764, -0.07831590704555025, -1.2848145049392317, 0.4071089704860083, -0.2370201386600546, 0.8297882165239746, -0.6809490103864995, -0.1273464321581614, 0.6574563495671082, 0.6768582332260945, 1.1411420647493908, 1.0277217448176563, -0.15491175309474703, -1.165762204842779, 1.4936821864345486, -2.387826723060757, 1.6452922171184898, -1.5783010034173979, -0.7243710211501975, -0.37585400927809653, 1.47135263875769, -1.742036961934263, -0.9400190311587641, 0.6819927167747134, -0.9983365457647454, -0.37669526726971864, -1.595736421514321, -0.11643591074607326, 2.0550173679160753, 0.8934614307645752, 1.6616821409338542, 0.8472682888397679, 0.5180082744138681, 0.977696538241902, -0.5064104535777053, 0.0679776214546193, -0.40437889064030647, -0.8940944118383336, -0.5984690676772132, 0.40154390997203815, -0.49112797152680776, -0.34742072326978946, 0.6537411033558539, -1.6602878360119977, 1.8416901283435265, 0.6212888606176002, 0.4366327524250317, -0.7373110927875501, 0.11290403170692584, -0.7535779359073022, 0.6129590960801988, -0.9011275744636698, -0.152963184552418, 0.05861887303468093, -0.4064415228927279, -2.576485472884896, -0.9202455730383773, 1.6787703823389393, 1.6811070763871103, 0.05459224122853927, -0.3726091308827082, -0.10864864795883425, -0.8600334251778055, -1.133366703150724, 0.23476944668376512, 2.0312900945968875, 0.29454972445541605, 1.473628158464711, 2.1354860740778223, -0.8169976117646578, 0.024234547988855375, 0.13968319510593216, -0.6445991589498212, 0.016464755078633445, -1.623967149137165, 0.1442909726947298, 0.9165949221851991, -0.10726965789985832, -0.3989433998367592, 0.6190583635293229, 0.2236456732612047, 0.11782423676174622, -0.6946436365024259, 0.7870261103704146, 0.5687379586344113, 1.4397911700595525, -0.5993177214956202, 2.685199696714186, -1.4885694303487196, 0.951658533729458, 0.2617313432390226, 0.6880087079713368, -0.24838774881187792, -1.9020316159348185, 0.4092775220433891, -0.26853674069667494, 1.5257701584305967, -1.9698142661929439, -2.836284759399074, -0.14279703448903328, 0.7080362808357733, 0.09176408772437497, 1.1959836253771443, -0.20921337658538772, -0.6720780142212934, -0.9677232096049433, -0.12728606846241117, -0.7919927338041344, -1.0580272105587494, -2.1645802320991776, 1.2161594454580116, -0.666308317817951, 0.21836625215686112, -0.4070969736561259, 0.5644219639877234, -0.7220152152586076, 0.516979615307253, -1.3179416388696932, -1.5815739820017507, 0.04968288785390097, 0.3786708468173321, 0.5904367220931169, 2.012847925546007, 1.186920524352372, -1.2207487179845988, 1.4296988764920975, -0.32550084596338125, 0.3113305753768962, -1.9204793217359153, -0.30043810663571807, 0.7341294413159623, 1.0731199816872155, -1.1385426256330968, 0.6023940648499483, 2.275021496068711, -0.043962375150168286, -0.4651755658400948, 2.8186372178100036, -0.3681675300238779, 1.1569327617197296, -0.6646915052051928, -1.0639848748182636, 0.3144638481686363, -0.5299027577594396, 0.9120937132534034, -1.5410468454881958, 0.15319659347046313, 0.3368374069508085, -0.14181843919761594, -1.8592727039349788, -1.6196392198537617, -1.3357413957662219, -1.1417084575149303, -0.38568806809252587, 1.166879312775614, 0.7725415638487971, 0.05950665498552722, 0.851874558560094, -0.25807034565526354, 2.5837161264749873, -1.353222534677922, 0.13456814550959245, -0.33600813528683, -0.46281424199798077, -1.0821823920439257, 0.7742242098928073, 1.5552616674000026, -2.203494325615232, -0.5628072288306241, 0.7862883212527749, -0.8275645771687379, 0.6547053734920519, -0.949008990504814, 1.0348544697463875, 1.5685548687849993, -1.423220623109335, 0.4922794290278497, 0.6372587400959718, 0.35395360731109404, -0.014785474904181565, -0.31310831080021023, 0.3671866963993864, -1.1797069638817568, 1.1315225976287564, -0.12732340676200707, -1.12655016981363, 0.6098777795310888, -2.9412377675287864, -0.24479063326775757, 0.9458536976785847, -0.08580027891962273, 0.9494524129202309, -0.23217744932198903, 0.5400646274997215, 0.042024200716335676, 0.8470105177726862, 0.7775328610231259, -0.8417997271772831, 1.595606018805888, 0.9952911937329436, -0.8205570714330156, 0.12887046889661996, 1.2667850226910593, -2.2127427707865754, 0.10419356547149763, 0.6887369921058105, 1.681128007765359, 0.6741741951312531, 1.412771792122196, -2.3260550213300655, 1.4188644235891532, -0.1642245065803281, -1.227916190279069, 1.0306214595658154, 1.0641190730106134, -1.2161659568277299, 1.3849696161522993, 0.9729659596800463, -0.6318679540603132, -2.552390071243379, 0.2290095344686462, 1.8382713310084648, 0.6870883164007735, -0.7416376487486801, -0.03075003980434744, 0.21293812760318742, 0.696352667010797, -0.13773198878280535, 0.8411112419590081, -0.14108737480582284, -0.8097361460032098, -2.975870569345094, -1.027367314118927, 0.9378540374406644, -2.22315592516175, -0.541318628490737, 0.7115901849999661, -0.9888993494174527, 2.5589313811947063, -1.8188162136606938, -0.8194365298858131, -0.6576550883304514, 0.20939995404036807, -0.04678016464232463, -0.20509157649263762, 0.13909675361403945, 0.6381537727524907, 1.67607810596255, -0.9276596053170765, 0.22984307026308487, -0.1937658576313271, -0.17887856983493303, 1.8342760046889042, -1.5074485969479958, 0.3149346713410393, -0.6134260464264295, 0.24189262863742875, -1.582993962877902, 0.23182293095767476, 0.3964697628917399, -0.09581458081832789, 0.6844930077602323, 0.10646062396850377, -0.11718160192726274, 1.4988721839330332, 0.6378661083648928, -1.4976821986221351, 0.3330551256691911, 0.8977044232767982, 1.4637774912415202, -0.4658348062426277, -0.5284418337489296, 0.6232990920259873, -1.1442687412110637, -0.368438996439852, 0.5147002178471921, -0.2626978868767779, 0.1630696442140985, 0.4345659711608185, -0.2327190398000096, -1.1334451661144385, -1.6088562697112592, -0.8310475755146527, 2.3899664867509496, -0.02370996136101748, -0.0011481249678289504, 0.45848272857328304, -0.009185722120149328, -0.5461623200733047, 1.0057149659488556, 3.5027524267540033, -0.1600528825217717, 0.7140286967070273, 0.38954686926099164, 1.616035335778273, -0.3494161790828438, 0.12009857420278454, 0.6568893961997023, 0.09985967870984391, 1.1341303663985471, 0.29709282987092916, 0.22827715588510372, 0.06239246210357985, -1.7363709293717824, -1.2782574038163106, 0.5699147735140889, -0.6841900622234082, 0.15847348710272127, 1.0679287325143851, 1.420356179634184, -0.6184516834323519, 0.7237460569149741, 0.44894479714601043, 0.06762763749861578, -0.5677768538679993, -0.5484469122093723, -0.27455759866360485, -0.73564962639789, -0.900597076526784, -0.2037144323964399, 1.1739533400814999, -1.0895503630836423, 1.666886927093478, 0.16252718176958691, -0.18894743881980394, -2.0958371669518945, 1.7160266793272347, 0.32331039945944795, 0.42155042166777623, -0.716096774036913, 1.1811270871037578, -0.32355874522816874, -0.2925078829117037, -1.151291130979886, -0.6761264629523266, 0.1533371806077532, -1.0983128932998332, -0.46599933758486783, 1.2622476232647935, -1.0555372585969447, -0.4376487348692336, 1.1189210387718893, -0.8100808522187397, 1.156171751652358, 0.12697706742397738, -1.0071048652685115, 0.6458681213101952, 0.45893043520037485, -0.01159571279584804, 0.529654637290038, -1.0916330184223413, -0.87428869073398, 0.8946187727519147, -0.04446802207967394, 1.4476168084220227, 1.2648004045568977, -0.8127692092848352, -0.8994205425655596, 1.1699293935437245, 0.8079176651693478, -0.22864991233723544, -0.05314083427587971, 1.0176847619059808, 1.363115453046521, -0.5850303268573964], \"xaxis\": \"x\", \"y\": [\"distplot\", \"distplot\", \"distplot\", \"distplot\", \"distplot\", \"distplot\", \"distplot\", \"distplot\", \"distplot\", \"distplot\", \"distplot\", \"distplot\", \"distplot\", \"distplot\", \"distplot\", \"distplot\", \"distplot\", \"distplot\", \"distplot\", \"distplot\", \"distplot\", \"distplot\", \"distplot\", \"distplot\", \"distplot\", \"distplot\", \"distplot\", \"distplot\", \"distplot\", \"distplot\", \"distplot\", \"distplot\", \"distplot\", \"distplot\", \"distplot\", \"distplot\", \"distplot\", \"distplot\", \"distplot\", \"distplot\", \"distplot\", \"distplot\", \"distplot\", \"distplot\", \"distplot\", \"distplot\", \"distplot\", \"distplot\", \"distplot\", \"distplot\", \"distplot\", \"distplot\", \"distplot\", \"distplot\", \"distplot\", \"distplot\", \"distplot\", \"distplot\", \"distplot\", \"distplot\", \"distplot\", \"distplot\", \"distplot\", \"distplot\", \"distplot\", \"distplot\", \"distplot\", \"distplot\", \"distplot\", \"distplot\", \"distplot\", \"distplot\", \"distplot\", \"distplot\", \"distplot\", \"distplot\", \"distplot\", \"distplot\", \"distplot\", \"distplot\", \"distplot\", \"distplot\", \"distplot\", \"distplot\", \"distplot\", \"distplot\", \"distplot\", \"distplot\", \"distplot\", \"distplot\", \"distplot\", \"distplot\", \"distplot\", \"distplot\", \"distplot\", \"distplot\", \"distplot\", \"distplot\", \"distplot\", \"distplot\", \"distplot\", \"distplot\", \"distplot\", \"distplot\", \"distplot\", \"distplot\", \"distplot\", \"distplot\", \"distplot\", \"distplot\", \"distplot\", \"distplot\", \"distplot\", \"distplot\", \"distplot\", \"distplot\", \"distplot\", \"distplot\", \"distplot\", \"distplot\", \"distplot\", \"distplot\", \"distplot\", \"distplot\", \"distplot\", \"distplot\", \"distplot\", \"distplot\", \"distplot\", \"distplot\", \"distplot\", \"distplot\", \"distplot\", \"distplot\", \"distplot\", \"distplot\", \"distplot\", \"distplot\", \"distplot\", \"distplot\", \"distplot\", \"distplot\", \"distplot\", \"distplot\", \"distplot\", \"distplot\", \"distplot\", \"distplot\", \"distplot\", \"distplot\", \"distplot\", \"distplot\", \"distplot\", \"distplot\", \"distplot\", \"distplot\", \"distplot\", \"distplot\", \"distplot\", \"distplot\", \"distplot\", \"distplot\", \"distplot\", \"distplot\", \"distplot\", \"distplot\", \"distplot\", \"distplot\", \"distplot\", \"distplot\", \"distplot\", \"distplot\", \"distplot\", \"distplot\", \"distplot\", \"distplot\", \"distplot\", \"distplot\", \"distplot\", \"distplot\", \"distplot\", \"distplot\", \"distplot\", \"distplot\", \"distplot\", \"distplot\", \"distplot\", \"distplot\", \"distplot\", \"distplot\", \"distplot\", \"distplot\", \"distplot\", \"distplot\", \"distplot\", \"distplot\", \"distplot\", \"distplot\", \"distplot\", \"distplot\", \"distplot\", \"distplot\", \"distplot\", \"distplot\", \"distplot\", \"distplot\", \"distplot\", \"distplot\", \"distplot\", \"distplot\", \"distplot\", \"distplot\", \"distplot\", \"distplot\", \"distplot\", \"distplot\", \"distplot\", \"distplot\", \"distplot\", \"distplot\", \"distplot\", \"distplot\", \"distplot\", \"distplot\", \"distplot\", \"distplot\", \"distplot\", \"distplot\", \"distplot\", \"distplot\", \"distplot\", \"distplot\", \"distplot\", \"distplot\", \"distplot\", \"distplot\", \"distplot\", \"distplot\", \"distplot\", \"distplot\", \"distplot\", \"distplot\", \"distplot\", \"distplot\", \"distplot\", \"distplot\", \"distplot\", \"distplot\", \"distplot\", \"distplot\", \"distplot\", \"distplot\", \"distplot\", \"distplot\", \"distplot\", \"distplot\", \"distplot\", \"distplot\", \"distplot\", \"distplot\", \"distplot\", \"distplot\", \"distplot\", \"distplot\", \"distplot\", \"distplot\", \"distplot\", \"distplot\", \"distplot\", \"distplot\", \"distplot\", \"distplot\", \"distplot\", \"distplot\", \"distplot\", \"distplot\", \"distplot\", \"distplot\", \"distplot\", \"distplot\", \"distplot\", \"distplot\", \"distplot\", \"distplot\", \"distplot\", \"distplot\", \"distplot\", \"distplot\", \"distplot\", \"distplot\", \"distplot\", \"distplot\", \"distplot\", \"distplot\", \"distplot\", \"distplot\", \"distplot\", \"distplot\", \"distplot\", \"distplot\", \"distplot\", \"distplot\", \"distplot\", \"distplot\", \"distplot\", \"distplot\", \"distplot\", \"distplot\", \"distplot\", \"distplot\", \"distplot\", \"distplot\", \"distplot\", \"distplot\", \"distplot\", \"distplot\", \"distplot\", \"distplot\", \"distplot\", \"distplot\", \"distplot\", \"distplot\", \"distplot\", \"distplot\", \"distplot\", \"distplot\", \"distplot\", \"distplot\", \"distplot\", \"distplot\", \"distplot\", \"distplot\", \"distplot\", \"distplot\", \"distplot\", \"distplot\", \"distplot\", \"distplot\", \"distplot\", \"distplot\", \"distplot\", \"distplot\", \"distplot\", \"distplot\", \"distplot\", \"distplot\", \"distplot\", \"distplot\", \"distplot\", \"distplot\", \"distplot\", \"distplot\", \"distplot\", \"distplot\", \"distplot\", \"distplot\", \"distplot\", \"distplot\", \"distplot\", \"distplot\", \"distplot\", \"distplot\", \"distplot\", \"distplot\", \"distplot\", \"distplot\", \"distplot\", \"distplot\", \"distplot\", \"distplot\", \"distplot\", \"distplot\", \"distplot\", \"distplot\", \"distplot\", \"distplot\", \"distplot\", \"distplot\", \"distplot\", \"distplot\", \"distplot\", \"distplot\", \"distplot\", \"distplot\", \"distplot\", \"distplot\", \"distplot\", \"distplot\", \"distplot\", \"distplot\", \"distplot\", \"distplot\", \"distplot\", \"distplot\", \"distplot\", \"distplot\", \"distplot\", \"distplot\", \"distplot\", \"distplot\", \"distplot\", \"distplot\", \"distplot\", \"distplot\", \"distplot\", \"distplot\", \"distplot\", \"distplot\", \"distplot\", \"distplot\", \"distplot\", \"distplot\", \"distplot\", \"distplot\", \"distplot\", \"distplot\", \"distplot\", \"distplot\", \"distplot\", \"distplot\", \"distplot\", \"distplot\", \"distplot\", \"distplot\", \"distplot\", \"distplot\", \"distplot\", \"distplot\", \"distplot\", \"distplot\", \"distplot\", \"distplot\", \"distplot\", \"distplot\", \"distplot\", \"distplot\", \"distplot\", \"distplot\", \"distplot\", \"distplot\", \"distplot\", \"distplot\", \"distplot\", \"distplot\", \"distplot\", \"distplot\", \"distplot\", \"distplot\", \"distplot\", \"distplot\", \"distplot\", \"distplot\", \"distplot\", \"distplot\", \"distplot\", \"distplot\", \"distplot\", \"distplot\", \"distplot\", \"distplot\", \"distplot\", \"distplot\", \"distplot\", \"distplot\", \"distplot\", \"distplot\", \"distplot\", \"distplot\", \"distplot\", \"distplot\", \"distplot\", \"distplot\", \"distplot\", \"distplot\", \"distplot\", \"distplot\", \"distplot\", \"distplot\", \"distplot\", \"distplot\", \"distplot\", \"distplot\", \"distplot\", \"distplot\", \"distplot\", \"distplot\", \"distplot\", \"distplot\", \"distplot\", \"distplot\", \"distplot\", \"distplot\", \"distplot\", \"distplot\", \"distplot\", \"distplot\", \"distplot\", \"distplot\", \"distplot\", \"distplot\", \"distplot\", \"distplot\", \"distplot\", \"distplot\", \"distplot\", \"distplot\", \"distplot\", \"distplot\", \"distplot\", \"distplot\", \"distplot\", \"distplot\", \"distplot\", \"distplot\", \"distplot\", \"distplot\", \"distplot\", \"distplot\", \"distplot\", \"distplot\", \"distplot\", \"distplot\", \"distplot\", \"distplot\", \"distplot\", \"distplot\", \"distplot\", \"distplot\", \"distplot\", \"distplot\", \"distplot\", \"distplot\", \"distplot\", \"distplot\", \"distplot\", \"distplot\", \"distplot\", \"distplot\", \"distplot\", \"distplot\", \"distplot\", \"distplot\", \"distplot\", \"distplot\", \"distplot\", \"distplot\", \"distplot\", \"distplot\", \"distplot\", \"distplot\", \"distplot\", \"distplot\", \"distplot\", \"distplot\", \"distplot\", \"distplot\", \"distplot\", \"distplot\", \"distplot\", \"distplot\", \"distplot\", \"distplot\", \"distplot\", \"distplot\", \"distplot\", \"distplot\", \"distplot\", \"distplot\", \"distplot\", \"distplot\", \"distplot\", \"distplot\", \"distplot\", \"distplot\", \"distplot\", \"distplot\", \"distplot\", \"distplot\", \"distplot\", \"distplot\", \"distplot\", \"distplot\", \"distplot\", \"distplot\", \"distplot\", \"distplot\", \"distplot\", \"distplot\", \"distplot\", \"distplot\", \"distplot\", \"distplot\", \"distplot\", \"distplot\", \"distplot\", \"distplot\", \"distplot\", \"distplot\", \"distplot\", \"distplot\", \"distplot\", \"distplot\", \"distplot\", \"distplot\", \"distplot\", \"distplot\", \"distplot\", \"distplot\", \"distplot\", \"distplot\", \"distplot\", \"distplot\", \"distplot\", \"distplot\", \"distplot\", \"distplot\", \"distplot\", \"distplot\", \"distplot\", \"distplot\", \"distplot\", \"distplot\", \"distplot\", \"distplot\", \"distplot\", \"distplot\", \"distplot\", \"distplot\", \"distplot\", \"distplot\", \"distplot\", \"distplot\", \"distplot\", \"distplot\", \"distplot\", \"distplot\", \"distplot\", \"distplot\", \"distplot\", \"distplot\", \"distplot\", \"distplot\", \"distplot\", \"distplot\", \"distplot\", \"distplot\", \"distplot\", \"distplot\", \"distplot\", \"distplot\", \"distplot\", \"distplot\", \"distplot\", \"distplot\", \"distplot\", \"distplot\", \"distplot\", \"distplot\", \"distplot\", \"distplot\", \"distplot\", \"distplot\", \"distplot\", \"distplot\", \"distplot\", \"distplot\", \"distplot\", \"distplot\", \"distplot\", \"distplot\", \"distplot\", \"distplot\", \"distplot\", \"distplot\", \"distplot\", \"distplot\", \"distplot\", \"distplot\", \"distplot\", \"distplot\", \"distplot\", \"distplot\", \"distplot\", \"distplot\", \"distplot\", \"distplot\", \"distplot\", \"distplot\", \"distplot\", \"distplot\", \"distplot\", \"distplot\", \"distplot\", \"distplot\", \"distplot\", \"distplot\", \"distplot\", \"distplot\", \"distplot\", \"distplot\", \"distplot\", \"distplot\", \"distplot\", \"distplot\", \"distplot\", \"distplot\", \"distplot\", \"distplot\", \"distplot\", \"distplot\", \"distplot\", \"distplot\", \"distplot\", \"distplot\", \"distplot\", \"distplot\", \"distplot\", \"distplot\", \"distplot\", \"distplot\", \"distplot\", \"distplot\", \"distplot\", \"distplot\", \"distplot\", \"distplot\", \"distplot\", \"distplot\", \"distplot\", \"distplot\", \"distplot\", \"distplot\", \"distplot\", \"distplot\", \"distplot\", \"distplot\", \"distplot\", \"distplot\", \"distplot\", \"distplot\", \"distplot\", \"distplot\", \"distplot\", \"distplot\", \"distplot\", \"distplot\", \"distplot\", \"distplot\", \"distplot\", \"distplot\", \"distplot\", \"distplot\", \"distplot\", \"distplot\", \"distplot\", \"distplot\", \"distplot\", \"distplot\", \"distplot\", \"distplot\", \"distplot\", \"distplot\", \"distplot\", \"distplot\", \"distplot\", \"distplot\", \"distplot\", \"distplot\", \"distplot\", \"distplot\", \"distplot\", \"distplot\", \"distplot\", \"distplot\", \"distplot\", \"distplot\", \"distplot\", \"distplot\", \"distplot\", \"distplot\", \"distplot\", \"distplot\", \"distplot\", \"distplot\", \"distplot\", \"distplot\", \"distplot\", \"distplot\", \"distplot\", \"distplot\", \"distplot\", \"distplot\", \"distplot\", \"distplot\", \"distplot\", \"distplot\", \"distplot\", \"distplot\", \"distplot\", \"distplot\", \"distplot\", \"distplot\", \"distplot\", \"distplot\", \"distplot\", \"distplot\", \"distplot\", \"distplot\", \"distplot\", \"distplot\", \"distplot\", \"distplot\", \"distplot\", \"distplot\", \"distplot\", \"distplot\", \"distplot\", \"distplot\", \"distplot\", \"distplot\", \"distplot\", \"distplot\", \"distplot\", \"distplot\", \"distplot\", \"distplot\", \"distplot\", \"distplot\", \"distplot\", \"distplot\", \"distplot\", \"distplot\", \"distplot\", \"distplot\", \"distplot\", \"distplot\", \"distplot\", \"distplot\", \"distplot\", \"distplot\", \"distplot\", \"distplot\", \"distplot\", \"distplot\", \"distplot\", \"distplot\", \"distplot\", \"distplot\", \"distplot\", \"distplot\", \"distplot\", \"distplot\", \"distplot\", \"distplot\", \"distplot\", \"distplot\", \"distplot\", \"distplot\", \"distplot\", \"distplot\", \"distplot\", \"distplot\", \"distplot\", \"distplot\", \"distplot\", \"distplot\", \"distplot\", \"distplot\", \"distplot\", \"distplot\", \"distplot\", \"distplot\", \"distplot\", \"distplot\", \"distplot\", \"distplot\", \"distplot\", \"distplot\", \"distplot\", \"distplot\", \"distplot\", \"distplot\", \"distplot\", \"distplot\", \"distplot\", \"distplot\", \"distplot\", \"distplot\", \"distplot\", \"distplot\", \"distplot\", \"distplot\", \"distplot\", \"distplot\", \"distplot\", \"distplot\", \"distplot\", \"distplot\", \"distplot\", \"distplot\", \"distplot\", \"distplot\", \"distplot\", \"distplot\", \"distplot\", \"distplot\", \"distplot\", \"distplot\", \"distplot\", \"distplot\", \"distplot\", \"distplot\", \"distplot\", \"distplot\", \"distplot\", \"distplot\", \"distplot\", \"distplot\", \"distplot\", \"distplot\", \"distplot\", \"distplot\", \"distplot\", \"distplot\", \"distplot\", \"distplot\", \"distplot\", \"distplot\", \"distplot\", \"distplot\", \"distplot\", \"distplot\", \"distplot\", \"distplot\", \"distplot\", \"distplot\", \"distplot\", \"distplot\", \"distplot\", \"distplot\", \"distplot\", \"distplot\", \"distplot\", \"distplot\", \"distplot\", \"distplot\", \"distplot\", \"distplot\", \"distplot\", \"distplot\", \"distplot\", \"distplot\", \"distplot\", \"distplot\", \"distplot\", \"distplot\", \"distplot\", \"distplot\", \"distplot\", \"distplot\", \"distplot\", \"distplot\", \"distplot\", \"distplot\", \"distplot\", \"distplot\", \"distplot\", \"distplot\", \"distplot\", \"distplot\", \"distplot\", \"distplot\", \"distplot\", \"distplot\", \"distplot\", \"distplot\", \"distplot\", \"distplot\", \"distplot\", \"distplot\", \"distplot\", \"distplot\", \"distplot\", \"distplot\", \"distplot\", \"distplot\", \"distplot\", \"distplot\", \"distplot\", \"distplot\", \"distplot\", \"distplot\", \"distplot\", \"distplot\", \"distplot\", \"distplot\", \"distplot\", \"distplot\", \"distplot\", \"distplot\"], \"yaxis\": \"y2\"}],\n",
       "                        {\"barmode\": \"overlay\", \"hovermode\": \"closest\", \"legend\": {\"traceorder\": \"reversed\"}, \"template\": {\"data\": {\"bar\": [{\"error_x\": {\"color\": \"#2a3f5f\"}, \"error_y\": {\"color\": \"#2a3f5f\"}, \"marker\": {\"line\": {\"color\": \"#E5ECF6\", \"width\": 0.5}}, \"type\": \"bar\"}], \"barpolar\": [{\"marker\": {\"line\": {\"color\": \"#E5ECF6\", \"width\": 0.5}}, \"type\": \"barpolar\"}], \"carpet\": [{\"aaxis\": {\"endlinecolor\": \"#2a3f5f\", \"gridcolor\": \"white\", \"linecolor\": \"white\", \"minorgridcolor\": \"white\", \"startlinecolor\": \"#2a3f5f\"}, \"baxis\": {\"endlinecolor\": \"#2a3f5f\", \"gridcolor\": \"white\", \"linecolor\": \"white\", \"minorgridcolor\": \"white\", \"startlinecolor\": \"#2a3f5f\"}, \"type\": \"carpet\"}], \"choropleth\": [{\"colorbar\": {\"outlinewidth\": 0, \"ticks\": \"\"}, \"type\": \"choropleth\"}], \"contour\": [{\"colorbar\": {\"outlinewidth\": 0, \"ticks\": \"\"}, \"colorscale\": [[0.0, \"#0d0887\"], [0.1111111111111111, \"#46039f\"], [0.2222222222222222, \"#7201a8\"], [0.3333333333333333, \"#9c179e\"], [0.4444444444444444, \"#bd3786\"], [0.5555555555555556, \"#d8576b\"], [0.6666666666666666, \"#ed7953\"], [0.7777777777777778, \"#fb9f3a\"], [0.8888888888888888, \"#fdca26\"], [1.0, \"#f0f921\"]], \"type\": \"contour\"}], \"contourcarpet\": [{\"colorbar\": {\"outlinewidth\": 0, \"ticks\": \"\"}, \"type\": \"contourcarpet\"}], \"heatmap\": [{\"colorbar\": {\"outlinewidth\": 0, \"ticks\": \"\"}, \"colorscale\": [[0.0, \"#0d0887\"], [0.1111111111111111, \"#46039f\"], [0.2222222222222222, \"#7201a8\"], [0.3333333333333333, \"#9c179e\"], [0.4444444444444444, \"#bd3786\"], [0.5555555555555556, \"#d8576b\"], [0.6666666666666666, \"#ed7953\"], [0.7777777777777778, \"#fb9f3a\"], [0.8888888888888888, \"#fdca26\"], [1.0, \"#f0f921\"]], \"type\": \"heatmap\"}], \"heatmapgl\": [{\"colorbar\": {\"outlinewidth\": 0, \"ticks\": \"\"}, \"colorscale\": [[0.0, \"#0d0887\"], [0.1111111111111111, \"#46039f\"], [0.2222222222222222, \"#7201a8\"], [0.3333333333333333, \"#9c179e\"], [0.4444444444444444, \"#bd3786\"], [0.5555555555555556, \"#d8576b\"], [0.6666666666666666, \"#ed7953\"], [0.7777777777777778, \"#fb9f3a\"], [0.8888888888888888, \"#fdca26\"], [1.0, \"#f0f921\"]], \"type\": \"heatmapgl\"}], \"histogram\": [{\"marker\": {\"colorbar\": {\"outlinewidth\": 0, \"ticks\": \"\"}}, \"type\": \"histogram\"}], \"histogram2d\": [{\"colorbar\": {\"outlinewidth\": 0, \"ticks\": \"\"}, \"colorscale\": [[0.0, \"#0d0887\"], [0.1111111111111111, \"#46039f\"], [0.2222222222222222, \"#7201a8\"], [0.3333333333333333, \"#9c179e\"], [0.4444444444444444, \"#bd3786\"], [0.5555555555555556, \"#d8576b\"], [0.6666666666666666, \"#ed7953\"], [0.7777777777777778, \"#fb9f3a\"], [0.8888888888888888, \"#fdca26\"], [1.0, \"#f0f921\"]], \"type\": \"histogram2d\"}], \"histogram2dcontour\": [{\"colorbar\": {\"outlinewidth\": 0, \"ticks\": \"\"}, \"colorscale\": [[0.0, \"#0d0887\"], [0.1111111111111111, \"#46039f\"], [0.2222222222222222, \"#7201a8\"], [0.3333333333333333, \"#9c179e\"], [0.4444444444444444, \"#bd3786\"], [0.5555555555555556, \"#d8576b\"], [0.6666666666666666, \"#ed7953\"], [0.7777777777777778, \"#fb9f3a\"], [0.8888888888888888, \"#fdca26\"], [1.0, \"#f0f921\"]], \"type\": \"histogram2dcontour\"}], \"mesh3d\": [{\"colorbar\": {\"outlinewidth\": 0, \"ticks\": \"\"}, \"type\": \"mesh3d\"}], \"parcoords\": [{\"line\": {\"colorbar\": {\"outlinewidth\": 0, \"ticks\": \"\"}}, \"type\": \"parcoords\"}], \"scatter\": [{\"marker\": {\"colorbar\": {\"outlinewidth\": 0, \"ticks\": \"\"}}, \"type\": \"scatter\"}], \"scatter3d\": [{\"line\": {\"colorbar\": {\"outlinewidth\": 0, \"ticks\": \"\"}}, \"marker\": {\"colorbar\": {\"outlinewidth\": 0, \"ticks\": \"\"}}, \"type\": \"scatter3d\"}], \"scattercarpet\": [{\"marker\": {\"colorbar\": {\"outlinewidth\": 0, \"ticks\": \"\"}}, \"type\": \"scattercarpet\"}], \"scattergeo\": [{\"marker\": {\"colorbar\": {\"outlinewidth\": 0, \"ticks\": \"\"}}, \"type\": \"scattergeo\"}], \"scattergl\": [{\"marker\": {\"colorbar\": {\"outlinewidth\": 0, \"ticks\": \"\"}}, \"type\": \"scattergl\"}], \"scattermapbox\": [{\"marker\": {\"colorbar\": {\"outlinewidth\": 0, \"ticks\": \"\"}}, \"type\": \"scattermapbox\"}], \"scatterpolar\": [{\"marker\": {\"colorbar\": {\"outlinewidth\": 0, \"ticks\": \"\"}}, \"type\": \"scatterpolar\"}], \"scatterpolargl\": [{\"marker\": {\"colorbar\": {\"outlinewidth\": 0, \"ticks\": \"\"}}, \"type\": \"scatterpolargl\"}], \"scatterternary\": [{\"marker\": {\"colorbar\": {\"outlinewidth\": 0, \"ticks\": \"\"}}, \"type\": \"scatterternary\"}], \"surface\": [{\"colorbar\": {\"outlinewidth\": 0, \"ticks\": \"\"}, \"colorscale\": [[0.0, \"#0d0887\"], [0.1111111111111111, \"#46039f\"], [0.2222222222222222, \"#7201a8\"], [0.3333333333333333, \"#9c179e\"], [0.4444444444444444, \"#bd3786\"], [0.5555555555555556, \"#d8576b\"], [0.6666666666666666, \"#ed7953\"], [0.7777777777777778, \"#fb9f3a\"], [0.8888888888888888, \"#fdca26\"], [1.0, \"#f0f921\"]], \"type\": \"surface\"}], \"table\": [{\"cells\": {\"fill\": {\"color\": \"#EBF0F8\"}, \"line\": {\"color\": \"white\"}}, \"header\": {\"fill\": {\"color\": \"#C8D4E3\"}, \"line\": {\"color\": \"white\"}}, \"type\": \"table\"}]}, \"layout\": {\"annotationdefaults\": {\"arrowcolor\": \"#2a3f5f\", \"arrowhead\": 0, \"arrowwidth\": 1}, \"colorscale\": {\"diverging\": [[0, \"#8e0152\"], [0.1, \"#c51b7d\"], [0.2, \"#de77ae\"], [0.3, \"#f1b6da\"], [0.4, \"#fde0ef\"], [0.5, \"#f7f7f7\"], [0.6, \"#e6f5d0\"], [0.7, \"#b8e186\"], [0.8, \"#7fbc41\"], [0.9, \"#4d9221\"], [1, \"#276419\"]], \"sequential\": [[0.0, \"#0d0887\"], [0.1111111111111111, \"#46039f\"], [0.2222222222222222, \"#7201a8\"], [0.3333333333333333, \"#9c179e\"], [0.4444444444444444, \"#bd3786\"], [0.5555555555555556, \"#d8576b\"], [0.6666666666666666, \"#ed7953\"], [0.7777777777777778, \"#fb9f3a\"], [0.8888888888888888, \"#fdca26\"], [1.0, \"#f0f921\"]], \"sequentialminus\": [[0.0, \"#0d0887\"], [0.1111111111111111, \"#46039f\"], [0.2222222222222222, \"#7201a8\"], [0.3333333333333333, \"#9c179e\"], [0.4444444444444444, \"#bd3786\"], [0.5555555555555556, \"#d8576b\"], [0.6666666666666666, \"#ed7953\"], [0.7777777777777778, \"#fb9f3a\"], [0.8888888888888888, \"#fdca26\"], [1.0, \"#f0f921\"]]}, \"colorway\": [\"#636efa\", \"#EF553B\", \"#00cc96\", \"#ab63fa\", \"#FFA15A\", \"#19d3f3\", \"#FF6692\", \"#B6E880\", \"#FF97FF\", \"#FECB52\"], \"font\": {\"color\": \"#2a3f5f\"}, \"geo\": {\"bgcolor\": \"white\", \"lakecolor\": \"white\", \"landcolor\": \"#E5ECF6\", \"showlakes\": true, \"showland\": true, \"subunitcolor\": \"white\"}, \"hoverlabel\": {\"align\": \"left\"}, \"hovermode\": \"closest\", \"mapbox\": {\"style\": \"light\"}, \"paper_bgcolor\": \"white\", \"plot_bgcolor\": \"#E5ECF6\", \"polar\": {\"angularaxis\": {\"gridcolor\": \"white\", \"linecolor\": \"white\", \"ticks\": \"\"}, \"bgcolor\": \"#E5ECF6\", \"radialaxis\": {\"gridcolor\": \"white\", \"linecolor\": \"white\", \"ticks\": \"\"}}, \"scene\": {\"xaxis\": {\"backgroundcolor\": \"#E5ECF6\", \"gridcolor\": \"white\", \"gridwidth\": 2, \"linecolor\": \"white\", \"showbackground\": true, \"ticks\": \"\", \"zerolinecolor\": \"white\"}, \"yaxis\": {\"backgroundcolor\": \"#E5ECF6\", \"gridcolor\": \"white\", \"gridwidth\": 2, \"linecolor\": \"white\", \"showbackground\": true, \"ticks\": \"\", \"zerolinecolor\": \"white\"}, \"zaxis\": {\"backgroundcolor\": \"#E5ECF6\", \"gridcolor\": \"white\", \"gridwidth\": 2, \"linecolor\": \"white\", \"showbackground\": true, \"ticks\": \"\", \"zerolinecolor\": \"white\"}}, \"shapedefaults\": {\"line\": {\"color\": \"#2a3f5f\"}}, \"ternary\": {\"aaxis\": {\"gridcolor\": \"white\", \"linecolor\": \"white\", \"ticks\": \"\"}, \"baxis\": {\"gridcolor\": \"white\", \"linecolor\": \"white\", \"ticks\": \"\"}, \"bgcolor\": \"#E5ECF6\", \"caxis\": {\"gridcolor\": \"white\", \"linecolor\": \"white\", \"ticks\": \"\"}}, \"title\": {\"x\": 0.05}, \"xaxis\": {\"automargin\": true, \"gridcolor\": \"white\", \"linecolor\": \"white\", \"ticks\": \"\", \"zerolinecolor\": \"white\", \"zerolinewidth\": 2}, \"yaxis\": {\"automargin\": true, \"gridcolor\": \"white\", \"linecolor\": \"white\", \"ticks\": \"\", \"zerolinecolor\": \"white\", \"zerolinewidth\": 2}}}, \"xaxis\": {\"anchor\": \"y2\", \"domain\": [0.0, 1.0], \"zeroline\": false}, \"yaxis\": {\"anchor\": \"free\", \"domain\": [0.35, 1], \"position\": 0.0}, \"yaxis2\": {\"anchor\": \"x\", \"domain\": [0, 0.25], \"dtick\": 1, \"showticklabels\": false}},\n",
       "                        {\"responsive\": true}\n",
       "                    ).then(function(){\n",
       "                            \n",
       "var gd = document.getElementById('7aa0bdc0-334d-4236-b970-ada2904102a4');\n",
       "var x = new MutationObserver(function (mutations, observer) {{\n",
       "        var display = window.getComputedStyle(gd).display;\n",
       "        if (!display || display === 'none') {{\n",
       "            console.log([gd, 'removed!']);\n",
       "            Plotly.purge(gd);\n",
       "            observer.disconnect();\n",
       "        }}\n",
       "}});\n",
       "\n",
       "// Listen for the removal of the full notebook cells\n",
       "var notebookContainer = gd.closest('#notebook-container');\n",
       "if (notebookContainer) {{\n",
       "    x.observe(notebookContainer, {childList: true});\n",
       "}}\n",
       "\n",
       "// Listen for the clearing of the current output cell\n",
       "var outputEl = gd.closest('.output');\n",
       "if (outputEl) {{\n",
       "    x.observe(outputEl, {childList: true});\n",
       "}}\n",
       "\n",
       "                        })\n",
       "                };\n",
       "                });\n",
       "            </script>\n",
       "        </div>"
      ]
     },
     "metadata": {},
     "output_type": "display_data"
    }
   ],
   "source": [
    "import plotly.figure_factory as ff\n",
    "import numpy as np\n",
    "\n",
    "x = np.random.randn(1000)\n",
    "hist_data = [x]\n",
    "group_labels = ['distplot'] # name of the dataset\n",
    "\n",
    "fig = ff.create_distplot(hist_data, group_labels)\n",
    "fig.show()"
   ]
  },
  {
   "cell_type": "code",
   "execution_count": 10,
   "metadata": {},
   "outputs": [
    {
     "data": {
      "application/vnd.plotly.v1+json": {
       "config": {
        "plotlyServerURL": "https://plot.ly"
       },
       "data": [
        {
         "name": "num_trees",
         "scalegroup": "num_trees",
         "type": "violin",
         "xaxis": "x",
         "y": [
          100,
          100,
          100,
          100,
          100,
          100,
          100,
          100,
          100,
          100,
          100,
          100,
          100,
          100,
          100,
          100,
          100,
          100,
          100,
          100,
          100,
          100,
          100,
          100,
          100,
          100,
          100,
          100,
          100,
          100,
          100,
          100,
          100,
          100,
          100,
          100,
          100,
          100,
          100,
          100,
          100,
          100,
          100,
          100,
          100,
          100,
          100,
          100,
          100,
          100,
          100,
          100,
          100,
          100,
          100,
          100,
          100,
          100,
          100,
          100,
          100,
          100,
          100,
          100,
          100,
          100,
          100,
          100,
          100,
          100,
          100,
          100,
          100,
          100,
          100,
          100,
          100,
          100,
          100,
          100,
          100,
          100,
          100,
          100,
          100,
          100,
          100,
          100,
          100,
          100,
          100,
          100,
          100,
          100,
          100,
          100,
          100,
          100,
          100,
          100
         ],
         "yaxis": "y"
        },
        {
         "name": "num_trees",
         "scalegroup": "num_trees",
         "type": "violin",
         "xaxis": "x",
         "y": [
          100,
          100,
          100,
          100,
          100,
          100,
          100,
          100,
          100,
          100,
          100,
          100,
          100,
          100,
          100,
          100,
          100,
          100,
          100,
          100
         ],
         "yaxis": "y"
        },
        {
         "name": "learning_rate",
         "scalegroup": "learning_rate",
         "type": "violin",
         "xaxis": "x2",
         "y": [
          -2.5,
          -2.5,
          -2.5,
          -2.5,
          -2.5,
          -2.5,
          -2.5,
          -2.5,
          -2.5,
          -2.5,
          -2.5,
          -2.5,
          -2.5,
          -2.5,
          -2.5,
          -2.5,
          -2.5,
          -2.5,
          -2.5,
          -2.5,
          -2.5,
          -2.5,
          -2.5,
          -2.5,
          -2.5,
          -2.5,
          -2.5,
          -2.5,
          -2.5,
          -2.5,
          -2.5,
          -2.5,
          -2.5,
          -2.5,
          -2.5,
          -2.5,
          -2.5,
          -2.5,
          -2.5,
          -2.5,
          -2.5,
          -2.5,
          -2.5,
          -2.5,
          -2.5,
          -2.5,
          -2.5,
          -2.5,
          -2.5,
          -2.5,
          -2.5,
          -2.5,
          -2.5,
          -2.5,
          -2.5,
          -2.5,
          -2.5,
          -2.5,
          -2.5,
          -2.5,
          -2.5,
          -2.5,
          -2.5,
          -2.5,
          -2.5,
          -2.5,
          -2.5,
          -2.5,
          -2.5,
          -2.5,
          -2.5,
          -2.5,
          -2.5,
          -2.5,
          -2.5,
          -2.5,
          -2.5,
          -2.5,
          -2.5,
          -2.5,
          -2.5,
          -2.5,
          -2.5,
          -2.5,
          -2.5,
          -2.5,
          -2.5,
          -2.5,
          -2.5,
          -2.5,
          -2.5,
          -2.5,
          -2.5,
          -2.5,
          -2.5,
          -2.5,
          -2.5,
          -2.5,
          -2.5,
          -2.5
         ],
         "yaxis": "y2"
        },
        {
         "name": "learning_rate",
         "scalegroup": "learning_rate",
         "type": "violin",
         "xaxis": "x2",
         "y": [
          -2.5,
          -2.5,
          -2.5,
          -2.5,
          -2.5,
          -2.5,
          -2.5,
          -2.5,
          -2.5,
          -2.5,
          -2.5,
          -2.5,
          -2.5,
          -2.5,
          -2.5,
          -2.5,
          -2.5,
          -2.5,
          -2.5,
          -2.5
         ],
         "yaxis": "y2"
        },
        {
         "name": "max_depth",
         "scalegroup": "max_depth",
         "type": "violin",
         "xaxis": "x3",
         "y": [
          5,
          5,
          5,
          5,
          5,
          5,
          5,
          5,
          5,
          7,
          7,
          7,
          7,
          7,
          7,
          7,
          7,
          7,
          9,
          9,
          9,
          9,
          9,
          9,
          9,
          5,
          5,
          5,
          5,
          5,
          5,
          5,
          5,
          5,
          7,
          7,
          7,
          7,
          7,
          7,
          7,
          7,
          7,
          9,
          9,
          9,
          9,
          9,
          9,
          9,
          5,
          5,
          5,
          5,
          5,
          5,
          5,
          5,
          5,
          7,
          7,
          7,
          7,
          7,
          7,
          7,
          7,
          7,
          9,
          9,
          9,
          9,
          9,
          9,
          9,
          5,
          5,
          5,
          5,
          5,
          5,
          5,
          5,
          5,
          7,
          7,
          7,
          7,
          7,
          7,
          7,
          7,
          7,
          9,
          9,
          9,
          9,
          9,
          9,
          9
         ],
         "yaxis": "y3"
        },
        {
         "name": "max_depth",
         "scalegroup": "max_depth",
         "type": "violin",
         "xaxis": "x3",
         "y": [
          5,
          5,
          5,
          5,
          5,
          5,
          5,
          5,
          5,
          5,
          5,
          5,
          5,
          5,
          5,
          5,
          5,
          5,
          5,
          5
         ],
         "yaxis": "y3"
        },
        {
         "name": "min_child_weight",
         "scalegroup": "min_child_weight",
         "type": "violin",
         "xaxis": "x4",
         "y": [
          5,
          5,
          5,
          22.5,
          22.5,
          22.5,
          40,
          40,
          40,
          5,
          5,
          5,
          22.5,
          22.5,
          22.5,
          40,
          40,
          40,
          5,
          5,
          5,
          22.5,
          22.5,
          22.5,
          40,
          5,
          5,
          5,
          22.5,
          22.5,
          22.5,
          40,
          40,
          40,
          5,
          5,
          5,
          22.5,
          22.5,
          22.5,
          40,
          40,
          40,
          5,
          5,
          5,
          22.5,
          22.5,
          22.5,
          40,
          5,
          5,
          5,
          22.5,
          22.5,
          22.5,
          40,
          40,
          40,
          5,
          5,
          5,
          22.5,
          22.5,
          22.5,
          40,
          40,
          40,
          5,
          5,
          5,
          22.5,
          22.5,
          22.5,
          40,
          5,
          5,
          5,
          22.5,
          22.5,
          22.5,
          40,
          40,
          40,
          5,
          5,
          5,
          22.5,
          22.5,
          22.5,
          40,
          40,
          40,
          5,
          5,
          5,
          22.5,
          22.5,
          22.5,
          40
         ],
         "yaxis": "y4"
        },
        {
         "name": "min_child_weight",
         "scalegroup": "min_child_weight",
         "type": "violin",
         "xaxis": "x4",
         "y": [
          5,
          5,
          5,
          22.5,
          22.5,
          5,
          5,
          5,
          22.5,
          22.5,
          5,
          5,
          5,
          22.5,
          22.5,
          5,
          5,
          5,
          22.5,
          22.5
         ],
         "yaxis": "y4"
        },
        {
         "name": "subsample",
         "scalegroup": "subsample",
         "type": "violin",
         "xaxis": "x5",
         "y": [
          0.5,
          0.75,
          1,
          0.5,
          0.75,
          1,
          0.5,
          0.75,
          1,
          0.5,
          0.75,
          1,
          0.5,
          0.75,
          1,
          0.5,
          0.75,
          1,
          0.5,
          0.75,
          1,
          0.5,
          0.75,
          1,
          0.5,
          0.5,
          0.75,
          1,
          0.5,
          0.75,
          1,
          0.5,
          0.75,
          1,
          0.5,
          0.75,
          1,
          0.5,
          0.75,
          1,
          0.5,
          0.75,
          1,
          0.5,
          0.75,
          1,
          0.5,
          0.75,
          1,
          0.5,
          0.5,
          0.75,
          1,
          0.5,
          0.75,
          1,
          0.5,
          0.75,
          1,
          0.5,
          0.75,
          1,
          0.5,
          0.75,
          1,
          0.5,
          0.75,
          1,
          0.5,
          0.75,
          1,
          0.5,
          0.75,
          1,
          0.5,
          0.5,
          0.75,
          1,
          0.5,
          0.75,
          1,
          0.5,
          0.75,
          1,
          0.5,
          0.75,
          1,
          0.5,
          0.75,
          1,
          0.5,
          0.75,
          1,
          0.5,
          0.75,
          1,
          0.5,
          0.75,
          1,
          0.5
         ],
         "yaxis": "y5"
        },
        {
         "name": "subsample",
         "scalegroup": "subsample",
         "type": "violin",
         "xaxis": "x5",
         "y": [
          0.5,
          0.75,
          1,
          0.5,
          0.75,
          0.5,
          0.75,
          1,
          0.5,
          0.75,
          0.5,
          0.75,
          1,
          0.5,
          0.75,
          0.5,
          0.75,
          1,
          0.5,
          0.75
         ],
         "yaxis": "y5"
        }
       ],
       "layout": {
        "height": 600,
        "template": {
         "data": {
          "bar": [
           {
            "error_x": {
             "color": "#2a3f5f"
            },
            "error_y": {
             "color": "#2a3f5f"
            },
            "marker": {
             "line": {
              "color": "#E5ECF6",
              "width": 0.5
             }
            },
            "type": "bar"
           }
          ],
          "barpolar": [
           {
            "marker": {
             "line": {
              "color": "#E5ECF6",
              "width": 0.5
             }
            },
            "type": "barpolar"
           }
          ],
          "carpet": [
           {
            "aaxis": {
             "endlinecolor": "#2a3f5f",
             "gridcolor": "white",
             "linecolor": "white",
             "minorgridcolor": "white",
             "startlinecolor": "#2a3f5f"
            },
            "baxis": {
             "endlinecolor": "#2a3f5f",
             "gridcolor": "white",
             "linecolor": "white",
             "minorgridcolor": "white",
             "startlinecolor": "#2a3f5f"
            },
            "type": "carpet"
           }
          ],
          "choropleth": [
           {
            "colorbar": {
             "outlinewidth": 0,
             "ticks": ""
            },
            "type": "choropleth"
           }
          ],
          "contour": [
           {
            "colorbar": {
             "outlinewidth": 0,
             "ticks": ""
            },
            "colorscale": [
             [
              0,
              "#0d0887"
             ],
             [
              0.1111111111111111,
              "#46039f"
             ],
             [
              0.2222222222222222,
              "#7201a8"
             ],
             [
              0.3333333333333333,
              "#9c179e"
             ],
             [
              0.4444444444444444,
              "#bd3786"
             ],
             [
              0.5555555555555556,
              "#d8576b"
             ],
             [
              0.6666666666666666,
              "#ed7953"
             ],
             [
              0.7777777777777778,
              "#fb9f3a"
             ],
             [
              0.8888888888888888,
              "#fdca26"
             ],
             [
              1,
              "#f0f921"
             ]
            ],
            "type": "contour"
           }
          ],
          "contourcarpet": [
           {
            "colorbar": {
             "outlinewidth": 0,
             "ticks": ""
            },
            "type": "contourcarpet"
           }
          ],
          "heatmap": [
           {
            "colorbar": {
             "outlinewidth": 0,
             "ticks": ""
            },
            "colorscale": [
             [
              0,
              "#0d0887"
             ],
             [
              0.1111111111111111,
              "#46039f"
             ],
             [
              0.2222222222222222,
              "#7201a8"
             ],
             [
              0.3333333333333333,
              "#9c179e"
             ],
             [
              0.4444444444444444,
              "#bd3786"
             ],
             [
              0.5555555555555556,
              "#d8576b"
             ],
             [
              0.6666666666666666,
              "#ed7953"
             ],
             [
              0.7777777777777778,
              "#fb9f3a"
             ],
             [
              0.8888888888888888,
              "#fdca26"
             ],
             [
              1,
              "#f0f921"
             ]
            ],
            "type": "heatmap"
           }
          ],
          "heatmapgl": [
           {
            "colorbar": {
             "outlinewidth": 0,
             "ticks": ""
            },
            "colorscale": [
             [
              0,
              "#0d0887"
             ],
             [
              0.1111111111111111,
              "#46039f"
             ],
             [
              0.2222222222222222,
              "#7201a8"
             ],
             [
              0.3333333333333333,
              "#9c179e"
             ],
             [
              0.4444444444444444,
              "#bd3786"
             ],
             [
              0.5555555555555556,
              "#d8576b"
             ],
             [
              0.6666666666666666,
              "#ed7953"
             ],
             [
              0.7777777777777778,
              "#fb9f3a"
             ],
             [
              0.8888888888888888,
              "#fdca26"
             ],
             [
              1,
              "#f0f921"
             ]
            ],
            "type": "heatmapgl"
           }
          ],
          "histogram": [
           {
            "marker": {
             "colorbar": {
              "outlinewidth": 0,
              "ticks": ""
             }
            },
            "type": "histogram"
           }
          ],
          "histogram2d": [
           {
            "colorbar": {
             "outlinewidth": 0,
             "ticks": ""
            },
            "colorscale": [
             [
              0,
              "#0d0887"
             ],
             [
              0.1111111111111111,
              "#46039f"
             ],
             [
              0.2222222222222222,
              "#7201a8"
             ],
             [
              0.3333333333333333,
              "#9c179e"
             ],
             [
              0.4444444444444444,
              "#bd3786"
             ],
             [
              0.5555555555555556,
              "#d8576b"
             ],
             [
              0.6666666666666666,
              "#ed7953"
             ],
             [
              0.7777777777777778,
              "#fb9f3a"
             ],
             [
              0.8888888888888888,
              "#fdca26"
             ],
             [
              1,
              "#f0f921"
             ]
            ],
            "type": "histogram2d"
           }
          ],
          "histogram2dcontour": [
           {
            "colorbar": {
             "outlinewidth": 0,
             "ticks": ""
            },
            "colorscale": [
             [
              0,
              "#0d0887"
             ],
             [
              0.1111111111111111,
              "#46039f"
             ],
             [
              0.2222222222222222,
              "#7201a8"
             ],
             [
              0.3333333333333333,
              "#9c179e"
             ],
             [
              0.4444444444444444,
              "#bd3786"
             ],
             [
              0.5555555555555556,
              "#d8576b"
             ],
             [
              0.6666666666666666,
              "#ed7953"
             ],
             [
              0.7777777777777778,
              "#fb9f3a"
             ],
             [
              0.8888888888888888,
              "#fdca26"
             ],
             [
              1,
              "#f0f921"
             ]
            ],
            "type": "histogram2dcontour"
           }
          ],
          "mesh3d": [
           {
            "colorbar": {
             "outlinewidth": 0,
             "ticks": ""
            },
            "type": "mesh3d"
           }
          ],
          "parcoords": [
           {
            "line": {
             "colorbar": {
              "outlinewidth": 0,
              "ticks": ""
             }
            },
            "type": "parcoords"
           }
          ],
          "scatter": [
           {
            "marker": {
             "colorbar": {
              "outlinewidth": 0,
              "ticks": ""
             }
            },
            "type": "scatter"
           }
          ],
          "scatter3d": [
           {
            "line": {
             "colorbar": {
              "outlinewidth": 0,
              "ticks": ""
             }
            },
            "marker": {
             "colorbar": {
              "outlinewidth": 0,
              "ticks": ""
             }
            },
            "type": "scatter3d"
           }
          ],
          "scattercarpet": [
           {
            "marker": {
             "colorbar": {
              "outlinewidth": 0,
              "ticks": ""
             }
            },
            "type": "scattercarpet"
           }
          ],
          "scattergeo": [
           {
            "marker": {
             "colorbar": {
              "outlinewidth": 0,
              "ticks": ""
             }
            },
            "type": "scattergeo"
           }
          ],
          "scattergl": [
           {
            "marker": {
             "colorbar": {
              "outlinewidth": 0,
              "ticks": ""
             }
            },
            "type": "scattergl"
           }
          ],
          "scattermapbox": [
           {
            "marker": {
             "colorbar": {
              "outlinewidth": 0,
              "ticks": ""
             }
            },
            "type": "scattermapbox"
           }
          ],
          "scatterpolar": [
           {
            "marker": {
             "colorbar": {
              "outlinewidth": 0,
              "ticks": ""
             }
            },
            "type": "scatterpolar"
           }
          ],
          "scatterpolargl": [
           {
            "marker": {
             "colorbar": {
              "outlinewidth": 0,
              "ticks": ""
             }
            },
            "type": "scatterpolargl"
           }
          ],
          "scatterternary": [
           {
            "marker": {
             "colorbar": {
              "outlinewidth": 0,
              "ticks": ""
             }
            },
            "type": "scatterternary"
           }
          ],
          "surface": [
           {
            "colorbar": {
             "outlinewidth": 0,
             "ticks": ""
            },
            "colorscale": [
             [
              0,
              "#0d0887"
             ],
             [
              0.1111111111111111,
              "#46039f"
             ],
             [
              0.2222222222222222,
              "#7201a8"
             ],
             [
              0.3333333333333333,
              "#9c179e"
             ],
             [
              0.4444444444444444,
              "#bd3786"
             ],
             [
              0.5555555555555556,
              "#d8576b"
             ],
             [
              0.6666666666666666,
              "#ed7953"
             ],
             [
              0.7777777777777778,
              "#fb9f3a"
             ],
             [
              0.8888888888888888,
              "#fdca26"
             ],
             [
              1,
              "#f0f921"
             ]
            ],
            "type": "surface"
           }
          ],
          "table": [
           {
            "cells": {
             "fill": {
              "color": "#EBF0F8"
             },
             "line": {
              "color": "white"
             }
            },
            "header": {
             "fill": {
              "color": "#C8D4E3"
             },
             "line": {
              "color": "white"
             }
            },
            "type": "table"
           }
          ]
         },
         "layout": {
          "annotationdefaults": {
           "arrowcolor": "#2a3f5f",
           "arrowhead": 0,
           "arrowwidth": 1
          },
          "colorscale": {
           "diverging": [
            [
             0,
             "#8e0152"
            ],
            [
             0.1,
             "#c51b7d"
            ],
            [
             0.2,
             "#de77ae"
            ],
            [
             0.3,
             "#f1b6da"
            ],
            [
             0.4,
             "#fde0ef"
            ],
            [
             0.5,
             "#f7f7f7"
            ],
            [
             0.6,
             "#e6f5d0"
            ],
            [
             0.7,
             "#b8e186"
            ],
            [
             0.8,
             "#7fbc41"
            ],
            [
             0.9,
             "#4d9221"
            ],
            [
             1,
             "#276419"
            ]
           ],
           "sequential": [
            [
             0,
             "#0d0887"
            ],
            [
             0.1111111111111111,
             "#46039f"
            ],
            [
             0.2222222222222222,
             "#7201a8"
            ],
            [
             0.3333333333333333,
             "#9c179e"
            ],
            [
             0.4444444444444444,
             "#bd3786"
            ],
            [
             0.5555555555555556,
             "#d8576b"
            ],
            [
             0.6666666666666666,
             "#ed7953"
            ],
            [
             0.7777777777777778,
             "#fb9f3a"
            ],
            [
             0.8888888888888888,
             "#fdca26"
            ],
            [
             1,
             "#f0f921"
            ]
           ],
           "sequentialminus": [
            [
             0,
             "#0d0887"
            ],
            [
             0.1111111111111111,
             "#46039f"
            ],
            [
             0.2222222222222222,
             "#7201a8"
            ],
            [
             0.3333333333333333,
             "#9c179e"
            ],
            [
             0.4444444444444444,
             "#bd3786"
            ],
            [
             0.5555555555555556,
             "#d8576b"
            ],
            [
             0.6666666666666666,
             "#ed7953"
            ],
            [
             0.7777777777777778,
             "#fb9f3a"
            ],
            [
             0.8888888888888888,
             "#fdca26"
            ],
            [
             1,
             "#f0f921"
            ]
           ]
          },
          "colorway": [
           "#636efa",
           "#EF553B",
           "#00cc96",
           "#ab63fa",
           "#FFA15A",
           "#19d3f3",
           "#FF6692",
           "#B6E880",
           "#FF97FF",
           "#FECB52"
          ],
          "font": {
           "color": "#2a3f5f"
          },
          "geo": {
           "bgcolor": "white",
           "lakecolor": "white",
           "landcolor": "#E5ECF6",
           "showlakes": true,
           "showland": true,
           "subunitcolor": "white"
          },
          "hoverlabel": {
           "align": "left"
          },
          "hovermode": "closest",
          "mapbox": {
           "style": "light"
          },
          "paper_bgcolor": "white",
          "plot_bgcolor": "#E5ECF6",
          "polar": {
           "angularaxis": {
            "gridcolor": "white",
            "linecolor": "white",
            "ticks": ""
           },
           "bgcolor": "#E5ECF6",
           "radialaxis": {
            "gridcolor": "white",
            "linecolor": "white",
            "ticks": ""
           }
          },
          "scene": {
           "xaxis": {
            "backgroundcolor": "#E5ECF6",
            "gridcolor": "white",
            "gridwidth": 2,
            "linecolor": "white",
            "showbackground": true,
            "ticks": "",
            "zerolinecolor": "white"
           },
           "yaxis": {
            "backgroundcolor": "#E5ECF6",
            "gridcolor": "white",
            "gridwidth": 2,
            "linecolor": "white",
            "showbackground": true,
            "ticks": "",
            "zerolinecolor": "white"
           },
           "zaxis": {
            "backgroundcolor": "#E5ECF6",
            "gridcolor": "white",
            "gridwidth": 2,
            "linecolor": "white",
            "showbackground": true,
            "ticks": "",
            "zerolinecolor": "white"
           }
          },
          "shapedefaults": {
           "line": {
            "color": "#2a3f5f"
           }
          },
          "ternary": {
           "aaxis": {
            "gridcolor": "white",
            "linecolor": "white",
            "ticks": ""
           },
           "baxis": {
            "gridcolor": "white",
            "linecolor": "white",
            "ticks": ""
           },
           "bgcolor": "#E5ECF6",
           "caxis": {
            "gridcolor": "white",
            "linecolor": "white",
            "ticks": ""
           }
          },
          "title": {
           "x": 0.05
          },
          "xaxis": {
           "automargin": true,
           "gridcolor": "white",
           "linecolor": "white",
           "ticks": "",
           "zerolinecolor": "white",
           "zerolinewidth": 2
          },
          "yaxis": {
           "automargin": true,
           "gridcolor": "white",
           "linecolor": "white",
           "ticks": "",
           "zerolinecolor": "white",
           "zerolinewidth": 2
          }
         }
        },
        "title": {
         "text": "Distribution of best hyperparameters over 8 datasets"
        },
        "width": 1200,
        "xaxis": {
         "anchor": "y",
         "autorange": true,
         "domain": [
          0,
          0.2125
         ],
         "range": [
          -0.5,
          0.5
         ],
         "title": {
          "text": "Count"
         },
         "type": "category"
        },
        "xaxis2": {
         "anchor": "y2",
         "autorange": true,
         "domain": [
          0.2625,
          0.475
         ],
         "range": [
          -0.5,
          0.5
         ],
         "title": {
          "text": "Count"
         },
         "type": "category"
        },
        "xaxis3": {
         "anchor": "y3",
         "autorange": true,
         "domain": [
          0.525,
          0.7375
         ],
         "range": [
          -0.5,
          0.5
         ],
         "title": {
          "text": "Count"
         },
         "type": "category"
        },
        "xaxis4": {
         "anchor": "y4",
         "autorange": true,
         "domain": [
          0.7875,
          1
         ],
         "range": [
          -0.5,
          0.5
         ],
         "title": {
          "text": "Count"
         },
         "type": "category"
        },
        "xaxis5": {
         "anchor": "y5",
         "autorange": true,
         "domain": [
          0,
          0.2125
         ],
         "range": [
          -0.5,
          0.5
         ],
         "title": {
          "text": "Count"
         },
         "type": "category"
        },
        "xaxis6": {
         "anchor": "y6",
         "domain": [
          0.2625,
          0.475
         ],
         "title": {
          "text": "Count"
         }
        },
        "xaxis7": {
         "anchor": "y7",
         "domain": [
          0.525,
          0.7375
         ],
         "title": {
          "text": "Count"
         }
        },
        "xaxis8": {
         "anchor": "y8",
         "domain": [
          0.7875,
          1
         ],
         "title": {
          "text": "Count"
         }
        },
        "yaxis": {
         "anchor": "x",
         "autorange": true,
         "domain": [
          0.575,
          1
         ],
         "range": [
          99,
          101
         ],
         "title": {
          "text": "num_trees"
         },
         "type": "linear"
        },
        "yaxis2": {
         "anchor": "x2",
         "autorange": true,
         "domain": [
          0.575,
          1
         ],
         "range": [
          -3.5,
          -1.5
         ],
         "title": {
          "text": "learning_rate logscale"
         },
         "type": "linear"
        },
        "yaxis3": {
         "anchor": "x3",
         "autorange": true,
         "domain": [
          0.575,
          1
         ],
         "range": [
          3.278771578253676,
          10.721228421746325
         ],
         "title": {
          "text": "max_depth"
         },
         "type": "linear"
        },
        "yaxis4": {
         "anchor": "x4",
         "autorange": true,
         "domain": [
          0.575,
          1
         ],
         "range": [
          -10.060748690280313,
          55.06074869028031
         ],
         "title": {
          "text": "min_child_weight"
         },
         "type": "linear"
        },
        "yaxis5": {
         "anchor": "x5",
         "autorange": true,
         "domain": [
          0,
          0.425
         ],
         "range": [
          0.23266707533127862,
          1.2673329246687213
         ],
         "title": {
          "text": "subsample"
         },
         "type": "linear"
        },
        "yaxis6": {
         "anchor": "x6",
         "domain": [
          0,
          0.425
         ]
        },
        "yaxis7": {
         "anchor": "x7",
         "domain": [
          0,
          0.425
         ]
        },
        "yaxis8": {
         "anchor": "x8",
         "domain": [
          0,
          0.425
         ]
        }
       }
      },
      "image/png": "[encoded data removed]",
      "text/html": [
       "<div>\n",
       "        \n",
       "        \n",
       "            <div id=\"57d50726-8fcd-41a5-9862-7cdd7b214277\" class=\"plotly-graph-div\" style=\"height:600px; width:1200px;\"></div>\n",
       "            <script type=\"text/javascript\">\n",
       "                require([\"plotly\"], function(Plotly) {\n",
       "                    window.PLOTLYENV=window.PLOTLYENV || {};\n",
       "                    \n",
       "                if (document.getElementById(\"57d50726-8fcd-41a5-9862-7cdd7b214277\")) {\n",
       "                    Plotly.newPlot(\n",
       "                        '57d50726-8fcd-41a5-9862-7cdd7b214277',\n",
       "                        [{\"name\": \"num_trees\", \"scalegroup\": \"num_trees\", \"type\": \"violin\", \"xaxis\": \"x\", \"y\": [100.0, 100.0, 100.0, 100.0, 100.0, 100.0, 100.0, 100.0, 100.0, 100.0, 100.0, 100.0, 100.0, 100.0, 100.0, 100.0, 100.0, 100.0, 100.0, 100.0, 100.0, 100.0, 100.0, 100.0, 100.0, 100.0, 100.0, 100.0, 100.0, 100.0, 100.0, 100.0, 100.0, 100.0, 100.0, 100.0, 100.0, 100.0, 100.0, 100.0, 100.0, 100.0, 100.0, 100.0, 100.0, 100.0, 100.0, 100.0, 100.0, 100.0, 100.0, 100.0, 100.0, 100.0, 100.0, 100.0, 100.0, 100.0, 100.0, 100.0, 100.0, 100.0, 100.0, 100.0, 100.0, 100.0, 100.0, 100.0, 100.0, 100.0, 100.0, 100.0, 100.0, 100.0, 100.0, 100.0, 100.0, 100.0, 100.0, 100.0, 100.0, 100.0, 100.0, 100.0, 100.0, 100.0, 100.0, 100.0, 100.0, 100.0, 100.0, 100.0, 100.0, 100.0, 100.0, 100.0, 100.0, 100.0, 100.0, 100.0], \"yaxis\": \"y\"}, {\"name\": \"num_trees\", \"scalegroup\": \"num_trees\", \"type\": \"violin\", \"xaxis\": \"x\", \"y\": [100.0, 100.0, 100.0, 100.0, 100.0, 100.0, 100.0, 100.0, 100.0, 100.0, 100.0, 100.0, 100.0, 100.0, 100.0, 100.0, 100.0, 100.0, 100.0, 100.0], \"yaxis\": \"y\"}, {\"name\": \"learning_rate\", \"scalegroup\": \"learning_rate\", \"type\": \"violin\", \"xaxis\": \"x2\", \"y\": [-2.5, -2.5, -2.5, -2.5, -2.5, -2.5, -2.5, -2.5, -2.5, -2.5, -2.5, -2.5, -2.5, -2.5, -2.5, -2.5, -2.5, -2.5, -2.5, -2.5, -2.5, -2.5, -2.5, -2.5, -2.5, -2.5, -2.5, -2.5, -2.5, -2.5, -2.5, -2.5, -2.5, -2.5, -2.5, -2.5, -2.5, -2.5, -2.5, -2.5, -2.5, -2.5, -2.5, -2.5, -2.5, -2.5, -2.5, -2.5, -2.5, -2.5, -2.5, -2.5, -2.5, -2.5, -2.5, -2.5, -2.5, -2.5, -2.5, -2.5, -2.5, -2.5, -2.5, -2.5, -2.5, -2.5, -2.5, -2.5, -2.5, -2.5, -2.5, -2.5, -2.5, -2.5, -2.5, -2.5, -2.5, -2.5, -2.5, -2.5, -2.5, -2.5, -2.5, -2.5, -2.5, -2.5, -2.5, -2.5, -2.5, -2.5, -2.5, -2.5, -2.5, -2.5, -2.5, -2.5, -2.5, -2.5, -2.5, -2.5], \"yaxis\": \"y2\"}, {\"name\": \"learning_rate\", \"scalegroup\": \"learning_rate\", \"type\": \"violin\", \"xaxis\": \"x2\", \"y\": [-2.5, -2.5, -2.5, -2.5, -2.5, -2.5, -2.5, -2.5, -2.5, -2.5, -2.5, -2.5, -2.5, -2.5, -2.5, -2.5, -2.5, -2.5, -2.5, -2.5], \"yaxis\": \"y2\"}, {\"name\": \"max_depth\", \"scalegroup\": \"max_depth\", \"type\": \"violin\", \"xaxis\": \"x3\", \"y\": [5.0, 5.0, 5.0, 5.0, 5.0, 5.0, 5.0, 5.0, 5.0, 7.0, 7.0, 7.0, 7.0, 7.0, 7.0, 7.0, 7.0, 7.0, 9.0, 9.0, 9.0, 9.0, 9.0, 9.0, 9.0, 5.0, 5.0, 5.0, 5.0, 5.0, 5.0, 5.0, 5.0, 5.0, 7.0, 7.0, 7.0, 7.0, 7.0, 7.0, 7.0, 7.0, 7.0, 9.0, 9.0, 9.0, 9.0, 9.0, 9.0, 9.0, 5.0, 5.0, 5.0, 5.0, 5.0, 5.0, 5.0, 5.0, 5.0, 7.0, 7.0, 7.0, 7.0, 7.0, 7.0, 7.0, 7.0, 7.0, 9.0, 9.0, 9.0, 9.0, 9.0, 9.0, 9.0, 5.0, 5.0, 5.0, 5.0, 5.0, 5.0, 5.0, 5.0, 5.0, 7.0, 7.0, 7.0, 7.0, 7.0, 7.0, 7.0, 7.0, 7.0, 9.0, 9.0, 9.0, 9.0, 9.0, 9.0, 9.0], \"yaxis\": \"y3\"}, {\"name\": \"max_depth\", \"scalegroup\": \"max_depth\", \"type\": \"violin\", \"xaxis\": \"x3\", \"y\": [5.0, 5.0, 5.0, 5.0, 5.0, 5.0, 5.0, 5.0, 5.0, 5.0, 5.0, 5.0, 5.0, 5.0, 5.0, 5.0, 5.0, 5.0, 5.0, 5.0], \"yaxis\": \"y3\"}, {\"name\": \"min_child_weight\", \"scalegroup\": \"min_child_weight\", \"type\": \"violin\", \"xaxis\": \"x4\", \"y\": [5.0, 5.0, 5.0, 22.5, 22.5, 22.5, 40.0, 40.0, 40.0, 5.0, 5.0, 5.0, 22.5, 22.5, 22.5, 40.0, 40.0, 40.0, 5.0, 5.0, 5.0, 22.5, 22.5, 22.5, 40.0, 5.0, 5.0, 5.0, 22.5, 22.5, 22.5, 40.0, 40.0, 40.0, 5.0, 5.0, 5.0, 22.5, 22.5, 22.5, 40.0, 40.0, 40.0, 5.0, 5.0, 5.0, 22.5, 22.5, 22.5, 40.0, 5.0, 5.0, 5.0, 22.5, 22.5, 22.5, 40.0, 40.0, 40.0, 5.0, 5.0, 5.0, 22.5, 22.5, 22.5, 40.0, 40.0, 40.0, 5.0, 5.0, 5.0, 22.5, 22.5, 22.5, 40.0, 5.0, 5.0, 5.0, 22.5, 22.5, 22.5, 40.0, 40.0, 40.0, 5.0, 5.0, 5.0, 22.5, 22.5, 22.5, 40.0, 40.0, 40.0, 5.0, 5.0, 5.0, 22.5, 22.5, 22.5, 40.0], \"yaxis\": \"y4\"}, {\"name\": \"min_child_weight\", \"scalegroup\": \"min_child_weight\", \"type\": \"violin\", \"xaxis\": \"x4\", \"y\": [5.0, 5.0, 5.0, 22.5, 22.5, 5.0, 5.0, 5.0, 22.5, 22.5, 5.0, 5.0, 5.0, 22.5, 22.5, 5.0, 5.0, 5.0, 22.5, 22.5], \"yaxis\": \"y4\"}, {\"name\": \"subsample\", \"scalegroup\": \"subsample\", \"type\": \"violin\", \"xaxis\": \"x5\", \"y\": [0.5, 0.75, 1.0, 0.5, 0.75, 1.0, 0.5, 0.75, 1.0, 0.5, 0.75, 1.0, 0.5, 0.75, 1.0, 0.5, 0.75, 1.0, 0.5, 0.75, 1.0, 0.5, 0.75, 1.0, 0.5, 0.5, 0.75, 1.0, 0.5, 0.75, 1.0, 0.5, 0.75, 1.0, 0.5, 0.75, 1.0, 0.5, 0.75, 1.0, 0.5, 0.75, 1.0, 0.5, 0.75, 1.0, 0.5, 0.75, 1.0, 0.5, 0.5, 0.75, 1.0, 0.5, 0.75, 1.0, 0.5, 0.75, 1.0, 0.5, 0.75, 1.0, 0.5, 0.75, 1.0, 0.5, 0.75, 1.0, 0.5, 0.75, 1.0, 0.5, 0.75, 1.0, 0.5, 0.5, 0.75, 1.0, 0.5, 0.75, 1.0, 0.5, 0.75, 1.0, 0.5, 0.75, 1.0, 0.5, 0.75, 1.0, 0.5, 0.75, 1.0, 0.5, 0.75, 1.0, 0.5, 0.75, 1.0, 0.5], \"yaxis\": \"y5\"}, {\"name\": \"subsample\", \"scalegroup\": \"subsample\", \"type\": \"violin\", \"xaxis\": \"x5\", \"y\": [0.5, 0.75, 1.0, 0.5, 0.75, 0.5, 0.75, 1.0, 0.5, 0.75, 0.5, 0.75, 1.0, 0.5, 0.75, 0.5, 0.75, 1.0, 0.5, 0.75], \"yaxis\": \"y5\"}],\n",
       "                        {\"height\": 600, \"template\": {\"data\": {\"bar\": [{\"error_x\": {\"color\": \"#2a3f5f\"}, \"error_y\": {\"color\": \"#2a3f5f\"}, \"marker\": {\"line\": {\"color\": \"#E5ECF6\", \"width\": 0.5}}, \"type\": \"bar\"}], \"barpolar\": [{\"marker\": {\"line\": {\"color\": \"#E5ECF6\", \"width\": 0.5}}, \"type\": \"barpolar\"}], \"carpet\": [{\"aaxis\": {\"endlinecolor\": \"#2a3f5f\", \"gridcolor\": \"white\", \"linecolor\": \"white\", \"minorgridcolor\": \"white\", \"startlinecolor\": \"#2a3f5f\"}, \"baxis\": {\"endlinecolor\": \"#2a3f5f\", \"gridcolor\": \"white\", \"linecolor\": \"white\", \"minorgridcolor\": \"white\", \"startlinecolor\": \"#2a3f5f\"}, \"type\": \"carpet\"}], \"choropleth\": [{\"colorbar\": {\"outlinewidth\": 0, \"ticks\": \"\"}, \"type\": \"choropleth\"}], \"contour\": [{\"colorbar\": {\"outlinewidth\": 0, \"ticks\": \"\"}, \"colorscale\": [[0.0, \"#0d0887\"], [0.1111111111111111, \"#46039f\"], [0.2222222222222222, \"#7201a8\"], [0.3333333333333333, \"#9c179e\"], [0.4444444444444444, \"#bd3786\"], [0.5555555555555556, \"#d8576b\"], [0.6666666666666666, \"#ed7953\"], [0.7777777777777778, \"#fb9f3a\"], [0.8888888888888888, \"#fdca26\"], [1.0, \"#f0f921\"]], \"type\": \"contour\"}], \"contourcarpet\": [{\"colorbar\": {\"outlinewidth\": 0, \"ticks\": \"\"}, \"type\": \"contourcarpet\"}], \"heatmap\": [{\"colorbar\": {\"outlinewidth\": 0, \"ticks\": \"\"}, \"colorscale\": [[0.0, \"#0d0887\"], [0.1111111111111111, \"#46039f\"], [0.2222222222222222, \"#7201a8\"], [0.3333333333333333, \"#9c179e\"], [0.4444444444444444, \"#bd3786\"], [0.5555555555555556, \"#d8576b\"], [0.6666666666666666, \"#ed7953\"], [0.7777777777777778, \"#fb9f3a\"], [0.8888888888888888, \"#fdca26\"], [1.0, \"#f0f921\"]], \"type\": \"heatmap\"}], \"heatmapgl\": [{\"colorbar\": {\"outlinewidth\": 0, \"ticks\": \"\"}, \"colorscale\": [[0.0, \"#0d0887\"], [0.1111111111111111, \"#46039f\"], [0.2222222222222222, \"#7201a8\"], [0.3333333333333333, \"#9c179e\"], [0.4444444444444444, \"#bd3786\"], [0.5555555555555556, \"#d8576b\"], [0.6666666666666666, \"#ed7953\"], [0.7777777777777778, \"#fb9f3a\"], [0.8888888888888888, \"#fdca26\"], [1.0, \"#f0f921\"]], \"type\": \"heatmapgl\"}], \"histogram\": [{\"marker\": {\"colorbar\": {\"outlinewidth\": 0, \"ticks\": \"\"}}, \"type\": \"histogram\"}], \"histogram2d\": [{\"colorbar\": {\"outlinewidth\": 0, \"ticks\": \"\"}, \"colorscale\": [[0.0, \"#0d0887\"], [0.1111111111111111, \"#46039f\"], [0.2222222222222222, \"#7201a8\"], [0.3333333333333333, \"#9c179e\"], [0.4444444444444444, \"#bd3786\"], [0.5555555555555556, \"#d8576b\"], [0.6666666666666666, \"#ed7953\"], [0.7777777777777778, \"#fb9f3a\"], [0.8888888888888888, \"#fdca26\"], [1.0, \"#f0f921\"]], \"type\": \"histogram2d\"}], \"histogram2dcontour\": [{\"colorbar\": {\"outlinewidth\": 0, \"ticks\": \"\"}, \"colorscale\": [[0.0, \"#0d0887\"], [0.1111111111111111, \"#46039f\"], [0.2222222222222222, \"#7201a8\"], [0.3333333333333333, \"#9c179e\"], [0.4444444444444444, \"#bd3786\"], [0.5555555555555556, \"#d8576b\"], [0.6666666666666666, \"#ed7953\"], [0.7777777777777778, \"#fb9f3a\"], [0.8888888888888888, \"#fdca26\"], [1.0, \"#f0f921\"]], \"type\": \"histogram2dcontour\"}], \"mesh3d\": [{\"colorbar\": {\"outlinewidth\": 0, \"ticks\": \"\"}, \"type\": \"mesh3d\"}], \"parcoords\": [{\"line\": {\"colorbar\": {\"outlinewidth\": 0, \"ticks\": \"\"}}, \"type\": \"parcoords\"}], \"scatter\": [{\"marker\": {\"colorbar\": {\"outlinewidth\": 0, \"ticks\": \"\"}}, \"type\": \"scatter\"}], \"scatter3d\": [{\"line\": {\"colorbar\": {\"outlinewidth\": 0, \"ticks\": \"\"}}, \"marker\": {\"colorbar\": {\"outlinewidth\": 0, \"ticks\": \"\"}}, \"type\": \"scatter3d\"}], \"scattercarpet\": [{\"marker\": {\"colorbar\": {\"outlinewidth\": 0, \"ticks\": \"\"}}, \"type\": \"scattercarpet\"}], \"scattergeo\": [{\"marker\": {\"colorbar\": {\"outlinewidth\": 0, \"ticks\": \"\"}}, \"type\": \"scattergeo\"}], \"scattergl\": [{\"marker\": {\"colorbar\": {\"outlinewidth\": 0, \"ticks\": \"\"}}, \"type\": \"scattergl\"}], \"scattermapbox\": [{\"marker\": {\"colorbar\": {\"outlinewidth\": 0, \"ticks\": \"\"}}, \"type\": \"scattermapbox\"}], \"scatterpolar\": [{\"marker\": {\"colorbar\": {\"outlinewidth\": 0, \"ticks\": \"\"}}, \"type\": \"scatterpolar\"}], \"scatterpolargl\": [{\"marker\": {\"colorbar\": {\"outlinewidth\": 0, \"ticks\": \"\"}}, \"type\": \"scatterpolargl\"}], \"scatterternary\": [{\"marker\": {\"colorbar\": {\"outlinewidth\": 0, \"ticks\": \"\"}}, \"type\": \"scatterternary\"}], \"surface\": [{\"colorbar\": {\"outlinewidth\": 0, \"ticks\": \"\"}, \"colorscale\": [[0.0, \"#0d0887\"], [0.1111111111111111, \"#46039f\"], [0.2222222222222222, \"#7201a8\"], [0.3333333333333333, \"#9c179e\"], [0.4444444444444444, \"#bd3786\"], [0.5555555555555556, \"#d8576b\"], [0.6666666666666666, \"#ed7953\"], [0.7777777777777778, \"#fb9f3a\"], [0.8888888888888888, \"#fdca26\"], [1.0, \"#f0f921\"]], \"type\": \"surface\"}], \"table\": [{\"cells\": {\"fill\": {\"color\": \"#EBF0F8\"}, \"line\": {\"color\": \"white\"}}, \"header\": {\"fill\": {\"color\": \"#C8D4E3\"}, \"line\": {\"color\": \"white\"}}, \"type\": \"table\"}]}, \"layout\": {\"annotationdefaults\": {\"arrowcolor\": \"#2a3f5f\", \"arrowhead\": 0, \"arrowwidth\": 1}, \"colorscale\": {\"diverging\": [[0, \"#8e0152\"], [0.1, \"#c51b7d\"], [0.2, \"#de77ae\"], [0.3, \"#f1b6da\"], [0.4, \"#fde0ef\"], [0.5, \"#f7f7f7\"], [0.6, \"#e6f5d0\"], [0.7, \"#b8e186\"], [0.8, \"#7fbc41\"], [0.9, \"#4d9221\"], [1, \"#276419\"]], \"sequential\": [[0.0, \"#0d0887\"], [0.1111111111111111, \"#46039f\"], [0.2222222222222222, \"#7201a8\"], [0.3333333333333333, \"#9c179e\"], [0.4444444444444444, \"#bd3786\"], [0.5555555555555556, \"#d8576b\"], [0.6666666666666666, \"#ed7953\"], [0.7777777777777778, \"#fb9f3a\"], [0.8888888888888888, \"#fdca26\"], [1.0, \"#f0f921\"]], \"sequentialminus\": [[0.0, \"#0d0887\"], [0.1111111111111111, \"#46039f\"], [0.2222222222222222, \"#7201a8\"], [0.3333333333333333, \"#9c179e\"], [0.4444444444444444, \"#bd3786\"], [0.5555555555555556, \"#d8576b\"], [0.6666666666666666, \"#ed7953\"], [0.7777777777777778, \"#fb9f3a\"], [0.8888888888888888, \"#fdca26\"], [1.0, \"#f0f921\"]]}, \"colorway\": [\"#636efa\", \"#EF553B\", \"#00cc96\", \"#ab63fa\", \"#FFA15A\", \"#19d3f3\", \"#FF6692\", \"#B6E880\", \"#FF97FF\", \"#FECB52\"], \"font\": {\"color\": \"#2a3f5f\"}, \"geo\": {\"bgcolor\": \"white\", \"lakecolor\": \"white\", \"landcolor\": \"#E5ECF6\", \"showlakes\": true, \"showland\": true, \"subunitcolor\": \"white\"}, \"hoverlabel\": {\"align\": \"left\"}, \"hovermode\": \"closest\", \"mapbox\": {\"style\": \"light\"}, \"paper_bgcolor\": \"white\", \"plot_bgcolor\": \"#E5ECF6\", \"polar\": {\"angularaxis\": {\"gridcolor\": \"white\", \"linecolor\": \"white\", \"ticks\": \"\"}, \"bgcolor\": \"#E5ECF6\", \"radialaxis\": {\"gridcolor\": \"white\", \"linecolor\": \"white\", \"ticks\": \"\"}}, \"scene\": {\"xaxis\": {\"backgroundcolor\": \"#E5ECF6\", \"gridcolor\": \"white\", \"gridwidth\": 2, \"linecolor\": \"white\", \"showbackground\": true, \"ticks\": \"\", \"zerolinecolor\": \"white\"}, \"yaxis\": {\"backgroundcolor\": \"#E5ECF6\", \"gridcolor\": \"white\", \"gridwidth\": 2, \"linecolor\": \"white\", \"showbackground\": true, \"ticks\": \"\", \"zerolinecolor\": \"white\"}, \"zaxis\": {\"backgroundcolor\": \"#E5ECF6\", \"gridcolor\": \"white\", \"gridwidth\": 2, \"linecolor\": \"white\", \"showbackground\": true, \"ticks\": \"\", \"zerolinecolor\": \"white\"}}, \"shapedefaults\": {\"line\": {\"color\": \"#2a3f5f\"}}, \"ternary\": {\"aaxis\": {\"gridcolor\": \"white\", \"linecolor\": \"white\", \"ticks\": \"\"}, \"baxis\": {\"gridcolor\": \"white\", \"linecolor\": \"white\", \"ticks\": \"\"}, \"bgcolor\": \"#E5ECF6\", \"caxis\": {\"gridcolor\": \"white\", \"linecolor\": \"white\", \"ticks\": \"\"}}, \"title\": {\"x\": 0.05}, \"xaxis\": {\"automargin\": true, \"gridcolor\": \"white\", \"linecolor\": \"white\", \"ticks\": \"\", \"zerolinecolor\": \"white\", \"zerolinewidth\": 2}, \"yaxis\": {\"automargin\": true, \"gridcolor\": \"white\", \"linecolor\": \"white\", \"ticks\": \"\", \"zerolinecolor\": \"white\", \"zerolinewidth\": 2}}}, \"title\": {\"text\": \"Distribution of best hyperparameters over 8 datasets\"}, \"width\": 1200, \"xaxis\": {\"anchor\": \"y\", \"domain\": [0.0, 0.2125], \"title\": {\"text\": \"Count\"}}, \"xaxis2\": {\"anchor\": \"y2\", \"domain\": [0.2625, 0.475], \"title\": {\"text\": \"Count\"}}, \"xaxis3\": {\"anchor\": \"y3\", \"domain\": [0.525, 0.7375], \"title\": {\"text\": \"Count\"}}, \"xaxis4\": {\"anchor\": \"y4\", \"domain\": [0.7875, 1.0], \"title\": {\"text\": \"Count\"}}, \"xaxis5\": {\"anchor\": \"y5\", \"domain\": [0.0, 0.2125], \"title\": {\"text\": \"Count\"}}, \"xaxis6\": {\"anchor\": \"y6\", \"domain\": [0.2625, 0.475], \"title\": {\"text\": \"Count\"}}, \"xaxis7\": {\"anchor\": \"y7\", \"domain\": [0.525, 0.7375], \"title\": {\"text\": \"Count\"}}, \"xaxis8\": {\"anchor\": \"y8\", \"domain\": [0.7875, 1.0], \"title\": {\"text\": \"Count\"}}, \"yaxis\": {\"anchor\": \"x\", \"domain\": [0.575, 1.0], \"title\": {\"text\": \"num_trees\"}}, \"yaxis2\": {\"anchor\": \"x2\", \"domain\": [0.575, 1.0], \"title\": {\"text\": \"learning_rate logscale\"}}, \"yaxis3\": {\"anchor\": \"x3\", \"domain\": [0.575, 1.0], \"title\": {\"text\": \"max_depth\"}}, \"yaxis4\": {\"anchor\": \"x4\", \"domain\": [0.575, 1.0], \"title\": {\"text\": \"min_child_weight\"}}, \"yaxis5\": {\"anchor\": \"x5\", \"domain\": [0.0, 0.425], \"title\": {\"text\": \"subsample\"}}, \"yaxis6\": {\"anchor\": \"x6\", \"domain\": [0.0, 0.425]}, \"yaxis7\": {\"anchor\": \"x7\", \"domain\": [0.0, 0.425]}, \"yaxis8\": {\"anchor\": \"x8\", \"domain\": [0.0, 0.425]}},\n",
       "                        {\"responsive\": true}\n",
       "                    ).then(function(){\n",
       "                            \n",
       "var gd = document.getElementById('57d50726-8fcd-41a5-9862-7cdd7b214277');\n",
       "var x = new MutationObserver(function (mutations, observer) {{\n",
       "        var display = window.getComputedStyle(gd).display;\n",
       "        if (!display || display === 'none') {{\n",
       "            console.log([gd, 'removed!']);\n",
       "            Plotly.purge(gd);\n",
       "            observer.disconnect();\n",
       "        }}\n",
       "}});\n",
       "\n",
       "// Listen for the removal of the full notebook cells\n",
       "var notebookContainer = gd.closest('#notebook-container');\n",
       "if (notebookContainer) {{\n",
       "    x.observe(notebookContainer, {childList: true});\n",
       "}}\n",
       "\n",
       "// Listen for the clearing of the current output cell\n",
       "var outputEl = gd.closest('.output');\n",
       "if (outputEl) {{\n",
       "    x.observe(outputEl, {childList: true});\n",
       "}}\n",
       "\n",
       "                        })\n",
       "                };\n",
       "                });\n",
       "            </script>\n",
       "        </div>"
      ]
     },
     "metadata": {},
     "output_type": "display_data"
    }
   ],
   "source": [
    "import plotly.graph_objects as go\n",
    "import plotly.figure_factory as ff\n",
    "from plotly.subplots import make_subplots\n",
    "\n",
    "# set params\n",
    "n_best_small = 5\n",
    "n_best_big = 25\n",
    "n_bins = 10\n",
    "\n",
    "# import data\n",
    "result_sources = ['COAST_box_17520.csv','EAST_diff_17520.csv','FARWEST_box_8760.csv','NORTH_diff_8760.csv']\n",
    "results = [pd.read_csv(DATA_DIR + result_source, index_col=0, header=[0,1]) for result_source in result_sources]\n",
    "\n",
    "# get small subset of best hyperparameters per search frame and concat, concat this for multipe search frames\n",
    "best_one_list = [result.iloc[:n_best_small]['hyperparameters'] for result in results]\n",
    "best_one_hyperparameters = pd.concat(best_one_list)\n",
    "\n",
    "# get bigger subset of best hyperparameter settings of a search frame, concat this for multipe search frames\n",
    "best_multiple_list = [result.iloc[:n_best_big]['hyperparameters'] for result in results]\n",
    "best_multiple_hyperparameters = pd.concat(best_multiple_list)\n",
    "\n",
    "# define subplots\n",
    "fig = make_subplots(\n",
    "    rows=2,\n",
    "    cols=4\n",
    ")\n",
    "subplot_place = [[1,1],[1,2],[1,3],[1,4],[2,1],[2,2],[2,3],[2,4]]\n",
    "\n",
    "for i, hyperp_name in enumerate(search_space.keys()):\n",
    "    # add best multiple traces\n",
    "    if search_space[hyperp_name]['scale'] == 'log':\n",
    "        trace = go.Violin(\n",
    "            y=np.log10(best_multiple_hyperparameters[hyperp_name]),\n",
    "            name=hyperp_name,\n",
    "            scalegroup=hyperp_name\n",
    "        )\n",
    "        fig.add_trace(\n",
    "            trace,\n",
    "            row=subplot_place[i][0],\n",
    "            col=subplot_place[i][1],\n",
    "        )\n",
    "        fig.update_xaxes(title_text='Count')\n",
    "        fig.update_yaxes(title_text=hyperp_name + ' logscale', row=subplot_place[i][0], col=subplot_place[i][1])#, range=search_space[hyperp_name]['range'])\n",
    "    else:\n",
    "        trace = go.Violin(\n",
    "            y=best_multiple_hyperparameters[hyperp_name],\n",
    "            name=hyperp_name,\n",
    "            scalegroup=hyperp_name\n",
    "        )\n",
    "        fig.add_trace(\n",
    "            trace,\n",
    "            row=subplot_place[i][0],\n",
    "            col=subplot_place[i][1],\n",
    "        )\n",
    "        fig.update_xaxes(title_text='Count')\n",
    "        fig.update_yaxes(title_text=hyperp_name, row=subplot_place[i][0], col=subplot_place[i][1])#, range=search_space[hyperp_name]['range'])\n",
    "    # add best single traces\n",
    "    if search_space[hyperp_name]['scale'] == 'log':\n",
    "        trace = go.Violin(\n",
    "            y=np.log10(best_one_hyperparameters[hyperp_name]),\n",
    "            name=hyperp_name,\n",
    "            scalegroup=hyperp_name\n",
    "        )\n",
    "        fig.add_trace(\n",
    "            trace,\n",
    "            row=subplot_place[i][0],\n",
    "            col=subplot_place[i][1],\n",
    "        )\n",
    "        fig.update_xaxes(title_text='Count')\n",
    "        fig.update_yaxes(title_text=hyperp_name + ' logscale', row=subplot_place[i][0], col=subplot_place[i][1])#, range=search_space[hyperp_name]['range'])\n",
    "    else:\n",
    "        trace = go.Violin(\n",
    "            y=best_one_hyperparameters[hyperp_name],\n",
    "            name=hyperp_name,\n",
    "            scalegroup=hyperp_name\n",
    "        )\n",
    "        fig.add_trace(\n",
    "            trace,\n",
    "            row=subplot_place[i][0],\n",
    "            col=subplot_place[i][1],\n",
    "        )\n",
    "        fig.update_xaxes(title_text='Count')\n",
    "        fig.update_yaxes(title_text=hyperp_name, row=subplot_place[i][0], col=subplot_place[i][1])#, range=search_space[hyperp_name]['range'])\n",
    "    fig.update_layout(height=600, width=1200, title_text=\"Distribution of best hyperparameters over 8 datasets\")\n",
    "fig.show()"
   ]
  },
  {
   "cell_type": "code",
   "execution_count": 11,
   "metadata": {},
   "outputs": [
    {
     "data": {
      "text/plain": [
       "array([0.1       , 0.04216965, 0.01778279, 0.00749894, 0.00316228])"
      ]
     },
     "execution_count": 11,
     "metadata": {},
     "output_type": "execute_result"
    }
   ],
   "source": [
    "np.logspace(-1,-2.5,5)"
   ]
  },
  {
   "cell_type": "code",
   "execution_count": 12,
   "metadata": {},
   "outputs": [
    {
     "ename": "FileNotFoundError",
     "evalue": "[Errno 2] File b'/Users/Jeroen/Code/autoxgb/data/metadata/raw/COAST_big_box_result.csv' does not exist: b'/Users/Jeroen/Code/autoxgb/data/metadata/raw/COAST_big_box_result.csv'",
     "output_type": "error",
     "traceback": [
      "\u001b[0;31m---------------------------------------------------------------------------\u001b[0m",
      "\u001b[0;31mFileNotFoundError\u001b[0m                         Traceback (most recent call last)",
      "\u001b[0;32m<ipython-input-12-bc86773e7d6c>\u001b[0m in \u001b[0;36m<module>\u001b[0;34m\u001b[0m\n\u001b[1;32m     10\u001b[0m \u001b[0;31m# import data\u001b[0m\u001b[0;34m\u001b[0m\u001b[0;34m\u001b[0m\u001b[0m\n\u001b[1;32m     11\u001b[0m \u001b[0mresult_sources\u001b[0m \u001b[0;34m=\u001b[0m \u001b[0;34m[\u001b[0m\u001b[0;34m'COAST_big_box_result.csv'\u001b[0m\u001b[0;34m,\u001b[0m\u001b[0;34m'EAST_big_box_result.csv'\u001b[0m\u001b[0;34m,\u001b[0m\u001b[0;34m'FARWEST_small_box_result.csv'\u001b[0m\u001b[0;34m,\u001b[0m\u001b[0;34m'NORTH_small_diff_result.csv'\u001b[0m\u001b[0;34m,\u001b[0m\u001b[0;34m'NORTHC_small_box_result.csv'\u001b[0m\u001b[0;34m,\u001b[0m\u001b[0;34m'SOUTHC_big_diff_result.csv'\u001b[0m\u001b[0;34m,\u001b[0m\u001b[0;34m'SOUTHERN_big_diff_result.csv'\u001b[0m\u001b[0;34m,\u001b[0m\u001b[0;34m'WEST_small_diff_result.csv'\u001b[0m\u001b[0;34m]\u001b[0m\u001b[0;34m\u001b[0m\u001b[0m\n\u001b[0;32m---> 12\u001b[0;31m \u001b[0mresults\u001b[0m \u001b[0;34m=\u001b[0m \u001b[0;34m[\u001b[0m\u001b[0mpd\u001b[0m\u001b[0;34m.\u001b[0m\u001b[0mread_csv\u001b[0m\u001b[0;34m(\u001b[0m\u001b[0mDATA_DIR\u001b[0m \u001b[0;34m+\u001b[0m \u001b[0mresult_source\u001b[0m\u001b[0;34m,\u001b[0m \u001b[0mindex_col\u001b[0m\u001b[0;34m=\u001b[0m\u001b[0;36m0\u001b[0m\u001b[0;34m,\u001b[0m \u001b[0mheader\u001b[0m\u001b[0;34m=\u001b[0m\u001b[0;34m[\u001b[0m\u001b[0;36m0\u001b[0m\u001b[0;34m,\u001b[0m\u001b[0;36m1\u001b[0m\u001b[0;34m]\u001b[0m\u001b[0;34m)\u001b[0m \u001b[0;32mfor\u001b[0m \u001b[0mresult_source\u001b[0m \u001b[0;32min\u001b[0m \u001b[0mresult_sources\u001b[0m\u001b[0;34m]\u001b[0m\u001b[0;34m\u001b[0m\u001b[0m\n\u001b[0m\u001b[1;32m     13\u001b[0m \u001b[0;34m\u001b[0m\u001b[0m\n\u001b[1;32m     14\u001b[0m \u001b[0;31m# get small subset of best hyperparameters per search frame and concat, concat this for multipe search frames\u001b[0m\u001b[0;34m\u001b[0m\u001b[0;34m\u001b[0m\u001b[0m\n",
      "\u001b[0;32m<ipython-input-12-bc86773e7d6c>\u001b[0m in \u001b[0;36m<listcomp>\u001b[0;34m(.0)\u001b[0m\n\u001b[1;32m     10\u001b[0m \u001b[0;31m# import data\u001b[0m\u001b[0;34m\u001b[0m\u001b[0;34m\u001b[0m\u001b[0m\n\u001b[1;32m     11\u001b[0m \u001b[0mresult_sources\u001b[0m \u001b[0;34m=\u001b[0m \u001b[0;34m[\u001b[0m\u001b[0;34m'COAST_big_box_result.csv'\u001b[0m\u001b[0;34m,\u001b[0m\u001b[0;34m'EAST_big_box_result.csv'\u001b[0m\u001b[0;34m,\u001b[0m\u001b[0;34m'FARWEST_small_box_result.csv'\u001b[0m\u001b[0;34m,\u001b[0m\u001b[0;34m'NORTH_small_diff_result.csv'\u001b[0m\u001b[0;34m,\u001b[0m\u001b[0;34m'NORTHC_small_box_result.csv'\u001b[0m\u001b[0;34m,\u001b[0m\u001b[0;34m'SOUTHC_big_diff_result.csv'\u001b[0m\u001b[0;34m,\u001b[0m\u001b[0;34m'SOUTHERN_big_diff_result.csv'\u001b[0m\u001b[0;34m,\u001b[0m\u001b[0;34m'WEST_small_diff_result.csv'\u001b[0m\u001b[0;34m]\u001b[0m\u001b[0;34m\u001b[0m\u001b[0m\n\u001b[0;32m---> 12\u001b[0;31m \u001b[0mresults\u001b[0m \u001b[0;34m=\u001b[0m \u001b[0;34m[\u001b[0m\u001b[0mpd\u001b[0m\u001b[0;34m.\u001b[0m\u001b[0mread_csv\u001b[0m\u001b[0;34m(\u001b[0m\u001b[0mDATA_DIR\u001b[0m \u001b[0;34m+\u001b[0m \u001b[0mresult_source\u001b[0m\u001b[0;34m,\u001b[0m \u001b[0mindex_col\u001b[0m\u001b[0;34m=\u001b[0m\u001b[0;36m0\u001b[0m\u001b[0;34m,\u001b[0m \u001b[0mheader\u001b[0m\u001b[0;34m=\u001b[0m\u001b[0;34m[\u001b[0m\u001b[0;36m0\u001b[0m\u001b[0;34m,\u001b[0m\u001b[0;36m1\u001b[0m\u001b[0;34m]\u001b[0m\u001b[0;34m)\u001b[0m \u001b[0;32mfor\u001b[0m \u001b[0mresult_source\u001b[0m \u001b[0;32min\u001b[0m \u001b[0mresult_sources\u001b[0m\u001b[0;34m]\u001b[0m\u001b[0;34m\u001b[0m\u001b[0m\n\u001b[0m\u001b[1;32m     13\u001b[0m \u001b[0;34m\u001b[0m\u001b[0m\n\u001b[1;32m     14\u001b[0m \u001b[0;31m# get small subset of best hyperparameters per search frame and concat, concat this for multipe search frames\u001b[0m\u001b[0;34m\u001b[0m\u001b[0;34m\u001b[0m\u001b[0m\n",
      "\u001b[0;32m~/Code/autoxgb/venv/lib/python3.6/site-packages/pandas/io/parsers.py\u001b[0m in \u001b[0;36mparser_f\u001b[0;34m(filepath_or_buffer, sep, delimiter, header, names, index_col, usecols, squeeze, prefix, mangle_dupe_cols, dtype, engine, converters, true_values, false_values, skipinitialspace, skiprows, skipfooter, nrows, na_values, keep_default_na, na_filter, verbose, skip_blank_lines, parse_dates, infer_datetime_format, keep_date_col, date_parser, dayfirst, cache_dates, iterator, chunksize, compression, thousands, decimal, lineterminator, quotechar, quoting, doublequote, escapechar, comment, encoding, dialect, error_bad_lines, warn_bad_lines, delim_whitespace, low_memory, memory_map, float_precision)\u001b[0m\n\u001b[1;32m    683\u001b[0m         )\n\u001b[1;32m    684\u001b[0m \u001b[0;34m\u001b[0m\u001b[0m\n\u001b[0;32m--> 685\u001b[0;31m         \u001b[0;32mreturn\u001b[0m \u001b[0m_read\u001b[0m\u001b[0;34m(\u001b[0m\u001b[0mfilepath_or_buffer\u001b[0m\u001b[0;34m,\u001b[0m \u001b[0mkwds\u001b[0m\u001b[0;34m)\u001b[0m\u001b[0;34m\u001b[0m\u001b[0m\n\u001b[0m\u001b[1;32m    686\u001b[0m \u001b[0;34m\u001b[0m\u001b[0m\n\u001b[1;32m    687\u001b[0m     \u001b[0mparser_f\u001b[0m\u001b[0;34m.\u001b[0m\u001b[0m__name__\u001b[0m \u001b[0;34m=\u001b[0m \u001b[0mname\u001b[0m\u001b[0;34m\u001b[0m\u001b[0m\n",
      "\u001b[0;32m~/Code/autoxgb/venv/lib/python3.6/site-packages/pandas/io/parsers.py\u001b[0m in \u001b[0;36m_read\u001b[0;34m(filepath_or_buffer, kwds)\u001b[0m\n\u001b[1;32m    455\u001b[0m \u001b[0;34m\u001b[0m\u001b[0m\n\u001b[1;32m    456\u001b[0m     \u001b[0;31m# Create the parser.\u001b[0m\u001b[0;34m\u001b[0m\u001b[0;34m\u001b[0m\u001b[0m\n\u001b[0;32m--> 457\u001b[0;31m     \u001b[0mparser\u001b[0m \u001b[0;34m=\u001b[0m \u001b[0mTextFileReader\u001b[0m\u001b[0;34m(\u001b[0m\u001b[0mfp_or_buf\u001b[0m\u001b[0;34m,\u001b[0m \u001b[0;34m**\u001b[0m\u001b[0mkwds\u001b[0m\u001b[0;34m)\u001b[0m\u001b[0;34m\u001b[0m\u001b[0m\n\u001b[0m\u001b[1;32m    458\u001b[0m \u001b[0;34m\u001b[0m\u001b[0m\n\u001b[1;32m    459\u001b[0m     \u001b[0;32mif\u001b[0m \u001b[0mchunksize\u001b[0m \u001b[0;32mor\u001b[0m \u001b[0miterator\u001b[0m\u001b[0;34m:\u001b[0m\u001b[0;34m\u001b[0m\u001b[0m\n",
      "\u001b[0;32m~/Code/autoxgb/venv/lib/python3.6/site-packages/pandas/io/parsers.py\u001b[0m in \u001b[0;36m__init__\u001b[0;34m(self, f, engine, **kwds)\u001b[0m\n\u001b[1;32m    893\u001b[0m             \u001b[0mself\u001b[0m\u001b[0;34m.\u001b[0m\u001b[0moptions\u001b[0m\u001b[0;34m[\u001b[0m\u001b[0;34m\"has_index_names\"\u001b[0m\u001b[0;34m]\u001b[0m \u001b[0;34m=\u001b[0m \u001b[0mkwds\u001b[0m\u001b[0;34m[\u001b[0m\u001b[0;34m\"has_index_names\"\u001b[0m\u001b[0;34m]\u001b[0m\u001b[0;34m\u001b[0m\u001b[0m\n\u001b[1;32m    894\u001b[0m \u001b[0;34m\u001b[0m\u001b[0m\n\u001b[0;32m--> 895\u001b[0;31m         \u001b[0mself\u001b[0m\u001b[0;34m.\u001b[0m\u001b[0m_make_engine\u001b[0m\u001b[0;34m(\u001b[0m\u001b[0mself\u001b[0m\u001b[0;34m.\u001b[0m\u001b[0mengine\u001b[0m\u001b[0;34m)\u001b[0m\u001b[0;34m\u001b[0m\u001b[0m\n\u001b[0m\u001b[1;32m    896\u001b[0m \u001b[0;34m\u001b[0m\u001b[0m\n\u001b[1;32m    897\u001b[0m     \u001b[0;32mdef\u001b[0m \u001b[0mclose\u001b[0m\u001b[0;34m(\u001b[0m\u001b[0mself\u001b[0m\u001b[0;34m)\u001b[0m\u001b[0;34m:\u001b[0m\u001b[0;34m\u001b[0m\u001b[0m\n",
      "\u001b[0;32m~/Code/autoxgb/venv/lib/python3.6/site-packages/pandas/io/parsers.py\u001b[0m in \u001b[0;36m_make_engine\u001b[0;34m(self, engine)\u001b[0m\n\u001b[1;32m   1133\u001b[0m     \u001b[0;32mdef\u001b[0m \u001b[0m_make_engine\u001b[0m\u001b[0;34m(\u001b[0m\u001b[0mself\u001b[0m\u001b[0;34m,\u001b[0m \u001b[0mengine\u001b[0m\u001b[0;34m=\u001b[0m\u001b[0;34m\"c\"\u001b[0m\u001b[0;34m)\u001b[0m\u001b[0;34m:\u001b[0m\u001b[0;34m\u001b[0m\u001b[0m\n\u001b[1;32m   1134\u001b[0m         \u001b[0;32mif\u001b[0m \u001b[0mengine\u001b[0m \u001b[0;34m==\u001b[0m \u001b[0;34m\"c\"\u001b[0m\u001b[0;34m:\u001b[0m\u001b[0;34m\u001b[0m\u001b[0m\n\u001b[0;32m-> 1135\u001b[0;31m             \u001b[0mself\u001b[0m\u001b[0;34m.\u001b[0m\u001b[0m_engine\u001b[0m \u001b[0;34m=\u001b[0m \u001b[0mCParserWrapper\u001b[0m\u001b[0;34m(\u001b[0m\u001b[0mself\u001b[0m\u001b[0;34m.\u001b[0m\u001b[0mf\u001b[0m\u001b[0;34m,\u001b[0m \u001b[0;34m**\u001b[0m\u001b[0mself\u001b[0m\u001b[0;34m.\u001b[0m\u001b[0moptions\u001b[0m\u001b[0;34m)\u001b[0m\u001b[0;34m\u001b[0m\u001b[0m\n\u001b[0m\u001b[1;32m   1136\u001b[0m         \u001b[0;32melse\u001b[0m\u001b[0;34m:\u001b[0m\u001b[0;34m\u001b[0m\u001b[0m\n\u001b[1;32m   1137\u001b[0m             \u001b[0;32mif\u001b[0m \u001b[0mengine\u001b[0m \u001b[0;34m==\u001b[0m \u001b[0;34m\"python\"\u001b[0m\u001b[0;34m:\u001b[0m\u001b[0;34m\u001b[0m\u001b[0m\n",
      "\u001b[0;32m~/Code/autoxgb/venv/lib/python3.6/site-packages/pandas/io/parsers.py\u001b[0m in \u001b[0;36m__init__\u001b[0;34m(self, src, **kwds)\u001b[0m\n\u001b[1;32m   1904\u001b[0m         \u001b[0mkwds\u001b[0m\u001b[0;34m[\u001b[0m\u001b[0;34m\"usecols\"\u001b[0m\u001b[0;34m]\u001b[0m \u001b[0;34m=\u001b[0m \u001b[0mself\u001b[0m\u001b[0;34m.\u001b[0m\u001b[0musecols\u001b[0m\u001b[0;34m\u001b[0m\u001b[0m\n\u001b[1;32m   1905\u001b[0m \u001b[0;34m\u001b[0m\u001b[0m\n\u001b[0;32m-> 1906\u001b[0;31m         \u001b[0mself\u001b[0m\u001b[0;34m.\u001b[0m\u001b[0m_reader\u001b[0m \u001b[0;34m=\u001b[0m \u001b[0mparsers\u001b[0m\u001b[0;34m.\u001b[0m\u001b[0mTextReader\u001b[0m\u001b[0;34m(\u001b[0m\u001b[0msrc\u001b[0m\u001b[0;34m,\u001b[0m \u001b[0;34m**\u001b[0m\u001b[0mkwds\u001b[0m\u001b[0;34m)\u001b[0m\u001b[0;34m\u001b[0m\u001b[0m\n\u001b[0m\u001b[1;32m   1907\u001b[0m         \u001b[0mself\u001b[0m\u001b[0;34m.\u001b[0m\u001b[0munnamed_cols\u001b[0m \u001b[0;34m=\u001b[0m \u001b[0mself\u001b[0m\u001b[0;34m.\u001b[0m\u001b[0m_reader\u001b[0m\u001b[0;34m.\u001b[0m\u001b[0munnamed_cols\u001b[0m\u001b[0;34m\u001b[0m\u001b[0m\n\u001b[1;32m   1908\u001b[0m \u001b[0;34m\u001b[0m\u001b[0m\n",
      "\u001b[0;32mpandas/_libs/parsers.pyx\u001b[0m in \u001b[0;36mpandas._libs.parsers.TextReader.__cinit__\u001b[0;34m()\u001b[0m\n",
      "\u001b[0;32mpandas/_libs/parsers.pyx\u001b[0m in \u001b[0;36mpandas._libs.parsers.TextReader._setup_parser_source\u001b[0;34m()\u001b[0m\n",
      "\u001b[0;31mFileNotFoundError\u001b[0m: [Errno 2] File b'/Users/Jeroen/Code/autoxgb/data/metadata/raw/COAST_big_box_result.csv' does not exist: b'/Users/Jeroen/Code/autoxgb/data/metadata/raw/COAST_big_box_result.csv'"
     ]
    }
   ],
   "source": [
    "import plotly.graph_objects as go\n",
    "import plotly.figure_factory as ff\n",
    "from plotly.subplots import make_subplots\n",
    "\n",
    "# set params\n",
    "n_best_small = 5\n",
    "n_best_big = 25\n",
    "n_bins = 10\n",
    "\n",
    "# import data\n",
    "result_sources = ['COAST_big_box_result.csv','EAST_big_box_result.csv','FARWEST_small_box_result.csv','NORTH_small_diff_result.csv','NORTHC_small_box_result.csv','SOUTHC_big_diff_result.csv','SOUTHERN_big_diff_result.csv','WEST_small_diff_result.csv']\n",
    "results = [pd.read_csv(DATA_DIR + result_source, index_col=0, header=[0,1]) for result_source in result_sources]\n",
    "\n",
    "# get small subset of best hyperparameters per search frame and concat, concat this for multipe search frames\n",
    "best_one_list = [result.iloc[:n_best_small]['hyperparameters'] for result in results]\n",
    "best_one_hyperparameters = pd.concat(best_one_list)\n",
    "\n",
    "# get bigger subset of best hyperparameter settings of a search frame, concat this for multipe search frames\n",
    "best_multiple_list = [result.iloc[:n_best_big]['hyperparameters'] for result in results]\n",
    "best_multiple_hyperparameters = pd.concat(best_multiple_list)\n",
    "\n",
    "# define subplots\n",
    "fig = make_subplots(\n",
    "    rows=2,\n",
    "    cols=4\n",
    ")\n",
    "subplot_place = [[1,1],[1,2],[1,3],[1,4],[2,1],[2,2],[2,3],[2,4]]\n",
    "\n",
    "for i, hyperp_name in enumerate(search_space.keys()):\n",
    "    # add best multiple traces\n",
    "    if search_space[hyperp_name]['scale'] == 'log':\n",
    "        trace = go.Histogram(\n",
    "            x=np.log(best_multiple_hyperparameters[hyperp_name]),\n",
    "            nbinsx=n_bins,\n",
    "            name=hyperp_name\n",
    "        )\n",
    "        fig.append_trace(\n",
    "            trace,\n",
    "            row=subplot_place[i][0],\n",
    "            col=subplot_place[i][1],\n",
    "        )\n",
    "        fig.update_yaxes(title_text='Count')\n",
    "        fig.update_xaxes(title_text=hyperp_name + ' logscale', row=subplot_place[i][0], col=subplot_place[i][1], range=search_space[hyperp_name]['range'])\n",
    "    else:\n",
    "        trace = go.Histogram(\n",
    "            x=best_multiple_hyperparameters[hyperp_name],\n",
    "            nbinsx=n_bins,\n",
    "            name=hyperp_name\n",
    "        )\n",
    "        fig.append_trace(\n",
    "            trace,\n",
    "            row=subplot_place[i][0],\n",
    "            col=subplot_place[i][1],\n",
    "        )\n",
    "        fig.update_yaxes(title_text='Count')\n",
    "        fig.update_xaxes(title_text=hyperp_name, row=subplot_place[i][0], col=subplot_place[i][1], range=search_space[hyperp_name]['range'])\n",
    "    # add best single traces\n",
    "    if search_space[hyperp_name]['scale'] == 'log':\n",
    "        trace = go.Histogram(\n",
    "            x=np.log(best_one_hyperparameters[hyperp_name]),\n",
    "            nbinsx=n_bins,\n",
    "            name=hyperp_name\n",
    "        )\n",
    "        fig.append_trace(\n",
    "            trace,\n",
    "            row=subplot_place[i][0],\n",
    "            col=subplot_place[i][1],\n",
    "        )\n",
    "        fig.update_yaxes(title_text='Count')\n",
    "        fig.update_xaxes(title_text=hyperp_name + ' logscale', row=subplot_place[i][0], col=subplot_place[i][1], range=search_space[hyperp_name]['range'])\n",
    "    else:\n",
    "        trace = go.Histogram(\n",
    "            x=best_one_hyperparameters[hyperp_name],\n",
    "            nbinsx=n_bins,\n",
    "            name=hyperp_name\n",
    "        )\n",
    "        fig.append_trace(\n",
    "            trace,\n",
    "            row=subplot_place[i][0],\n",
    "            col=subplot_place[i][1],\n",
    "        )\n",
    "        fig.update_yaxes(title_text='Count')\n",
    "        fig.update_xaxes(title_text=hyperp_name, row=subplot_place[i][0], col=subplot_place[i][1], range=search_space[hyperp_name]['range'])\n",
    "    fig.update_layout(height=600, width=1200, title_text=\"Distribution of best hyperparameters over 8 datasets\")\n",
    "fig.show()"
   ]
  }
 ],
 "metadata": {
  "kernelspec": {
   "display_name": "AutoXGB Notebook",
   "language": "python",
   "name": "autoxgb_kernel"
  },
  "language_info": {
   "codemirror_mode": {
    "name": "ipython",
    "version": 3
   },
   "file_extension": ".py",
   "mimetype": "text/x-python",
   "name": "python",
   "nbconvert_exporter": "python",
   "pygments_lexer": "ipython3",
   "version": "3.6.4"
  }
 },
 "nbformat": 4,
 "nbformat_minor": 4
}
