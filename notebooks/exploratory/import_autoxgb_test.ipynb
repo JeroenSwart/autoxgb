{
 "cells": [
  {
   "cell_type": "code",
   "execution_count": 6,
   "metadata": {},
   "outputs": [
    {
     "data": {
      "text/plain": [
       "25"
      ]
     },
     "execution_count": 6,
     "metadata": {},
     "output_type": "execute_result"
    }
   ],
   "source": [
    "from src.features import test_function_square\n",
    "test_function_square(5)"
   ]
  }
 ],
 "metadata": {
  "kernelspec": {
   "display_name": "AutoXGB Notebook",
   "language": "python",
   "name": "autoxgb_kernel"
  },
  "language_info": {
   "codemirror_mode": {
    "name": "ipython",
    "version": 3
   },
   "file_extension": ".py",
   "mimetype": "text/x-python",
   "name": "python",
   "nbconvert_exporter": "python",
   "pygments_lexer": "ipython3",
   "version": "3.6.4"
  }
 },
 "nbformat": 4,
 "nbformat_minor": 4
}
