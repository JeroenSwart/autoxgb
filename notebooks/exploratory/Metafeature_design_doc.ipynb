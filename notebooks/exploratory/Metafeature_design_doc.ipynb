{
 "cells": [
  {
   "cell_type": "markdown",
   "metadata": {},
   "source": [
    "# Design document for initial metafeatures"
   ]
  },
  {
   "cell_type": "markdown",
   "metadata": {},
   "source": [
    "1. Build raw dataset extractor\n",
    "\n",
    "2. Pluis uit metafeatures:\n",
    "- dataset length\n",
    "- max(variance)/min(variance)\n",
    "- PSR test\n",
    "- Wavelet spectrum test\n",
    "- Cumulative autocorrelation\n",
    "\n",
    "perform these tasks\n",
    "- describe hypothesized hyperparameter correlation\n",
    "- gather info and summarize the metafeature\n",
    "- find library to implement\n",
    "\n",
    "3. The following step is making a metafeature implemenation plan."
   ]
  },
  {
   "cell_type": "markdown",
   "metadata": {},
   "source": [
    "# 2. Pluis uit metafeatures"
   ]
  },
  {
   "cell_type": "code",
   "execution_count": 1,
   "metadata": {},
   "outputs": [],
   "source": [
    "# imports\n",
    "import pandas as pd\n",
    "import pickle\n",
    "\n",
    "from src.metalearning.metadata import MetaSample, MetaDataset\n",
    "\n",
    "# get an example series\n",
    "pickle_in = open('../../data/metadata/interim/COAST_diff_8760',\"rb\")\n",
    "time_series = pickle.load(pickle_in).time_series"
   ]
  },
  {
   "cell_type": "markdown",
   "metadata": {},
   "source": [
    "# Dataset length"
   ]
  },
  {
   "cell_type": "markdown",
   "metadata": {},
   "source": [
    "Hyperparameter correlation:\n",
    "When the dataset is longer, it is expected that num_trees will become bigger, since you can capture more detailed info when there are more details (more data). More available untill convergence, means that we can also take it slower learning --> lower learning rate."
   ]
  },
  {
   "cell_type": "markdown",
   "metadata": {},
   "source": [
    "# Max(variance)/min(variance)\n",
    "Hyperparameter correlation: if the dataset's variance fluctuates highly, that means the underlying signal is time variant in a way that the model does not capture. Hyperparameters should be guarding against overfitting.\n",
    "It should be calculating by getting a rolling variance, with a window of let's say 10 days."
   ]
  },
  {
   "cell_type": "code",
   "execution_count": 2,
   "metadata": {},
   "outputs": [
    {
     "data": {
      "text/plain": [
       "7.2134542815749425"
      ]
     },
     "execution_count": 2,
     "metadata": {},
     "output_type": "execute_result"
    }
   ],
   "source": [
    "def maxminvar(time_series):\n",
    "    rolling_var = time_series['endogenous'].rolling(24*10).var()\n",
    "    maxminvar = rolling_var.max()/rolling_var.min()\n",
    "    return maxminvar\n",
    "\n",
    "maxminvar(time_series)"
   ]
  },
  {
   "cell_type": "markdown",
   "metadata": {},
   "source": [
    "# PSR test"
   ]
  },
  {
   "cell_type": "markdown",
   "metadata": {},
   "source": [
    "Seems to not work!!!! always 0.0000 as p-value..\n",
    "\n",
    "Next step: try an example, see if implementation still works. Otherwise, find difference between my and the example's implementation."
   ]
  },
  {
   "cell_type": "code",
   "execution_count": 3,
   "metadata": {},
   "outputs": [],
   "source": [
    "from statsmodels.tsa.stattools import adfuller\n",
    "\n",
    "\n",
    "adf = adfuller(time_series['endogenous'])"
   ]
  },
  {
   "cell_type": "code",
   "execution_count": 4,
   "metadata": {},
   "outputs": [
    {
     "data": {
      "text/plain": [
       "(-16.746424361150897,\n",
       " 1.3450219754731512e-29,\n",
       " 37,\n",
       " 8722,\n",
       " {'1%': -3.431099968539641,\n",
       "  '5%': -2.86187143613454,\n",
       "  '10%': -2.5669464184887825},\n",
       " 108779.76622351802)"
      ]
     },
     "execution_count": 4,
     "metadata": {},
     "output_type": "execute_result"
    }
   ],
   "source": [
    "adf"
   ]
  },
  {
   "cell_type": "markdown",
   "metadata": {},
   "source": [
    "# Wavelet spectrum test\n",
    "Can't find any implementation that outputs a number. Put this on hold..."
   ]
  },
  {
   "cell_type": "markdown",
   "metadata": {},
   "source": [
    "# Cumulative autocorrelation"
   ]
  },
  {
   "cell_type": "code",
   "execution_count": 12,
   "metadata": {},
   "outputs": [
    {
     "data": {
      "image/png": "[encoded data removed]",
      "text/plain": [
       "<Figure size 432x288 with 1 Axes>"
      ]
     },
     "metadata": {
      "needs_background": "light"
     },
     "output_type": "display_data"
    }
   ],
   "source": [
    "from matplotlib import pyplot\n",
    "from statsmodels.graphics.tsaplots import plot_acf\n",
    "plot_acf(time_series['endogenous'].values)\n",
    "pyplot.show()"
   ]
  },
  {
   "cell_type": "code",
   "execution_count": 22,
   "metadata": {},
   "outputs": [
    {
     "data": {
      "text/plain": [
       "23.96684712402865"
      ]
     },
     "execution_count": 22,
     "metadata": {},
     "output_type": "execute_result"
    }
   ],
   "source": [
    "from statsmodels.tsa.stattools import acf\n",
    "sum(abs(acf(time_series['endogenous'], fft=True, nlags=48)))"
   ]
  }
 ],
 "metadata": {
  "kernelspec": {
   "display_name": "AutoXGB Notebook",
   "language": "python",
   "name": "autoxgb_kernel"
  },
  "language_info": {
   "codemirror_mode": {
    "name": "ipython",
    "version": 3
   },
   "file_extension": ".py",
   "mimetype": "text/x-python",
   "name": "python",
   "nbconvert_exporter": "python",
   "pygments_lexer": "ipython3",
   "version": "3.6.4"
  }
 },
 "nbformat": 4,
 "nbformat_minor": 4
}
